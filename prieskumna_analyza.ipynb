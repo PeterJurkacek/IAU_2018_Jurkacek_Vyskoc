{
 "cells": [
  {
   "cell_type": "markdown",
   "metadata": {},
   "source": [
    "# Prieskumná (Exploratívna) analýza dát\n",
    "Dáta predstavujú záznamy o pacientoch s chorobou štítnej žľazy. Cieľom je vedieť predikovať hodnotu Y. Cieľom tejto časti je zanalytovanie datasetu. Využívame exploratívnu analýzu, deskriptívnu štatistiku a rôzne podporné vizualizácie. Poukazujeme na viaceré problémy, ktoré sa v dátach\n",
    "nachádzajú (formáty dát, chýbajúce, nezmyselné alebo vychýlené hodnoty a pod.). "
   ]
  },
  {
   "cell_type": "markdown",
   "metadata": {},
   "source": [
    "*POZNÁMKA - Základné informácie o problémoch so štítnou žlazou sme čerpali z* [https://bergendiova.blog.sme.sk/c/393035/8-veci-ktore-by-ste-mali-vediet-o-stitnej-zlaze-a-imunite.html]"
   ]
  },
  {
   "cell_type": "code",
   "execution_count": 1,
   "metadata": {},
   "outputs": [],
   "source": [
    "%matplotlib inline\n",
    "import pandas as pd\n",
    "import numpy as np\n",
    "import matplotlib\n",
    "import matplotlib.pyplot as plt\n",
    "import scipy.stats as stats\n",
    "import seaborn\n",
    "from sklearn import linear_model as lm"
   ]
  },
  {
   "cell_type": "code",
   "execution_count": 2,
   "metadata": {},
   "outputs": [],
   "source": [
    "import dateutil.parser\n",
    "import datetime"
   ]
  },
  {
   "cell_type": "code",
   "execution_count": 3,
   "metadata": {},
   "outputs": [],
   "source": [
    "plt.rcParams['font.family'] = 'DejaVu Sans'\n",
    "plt.rcParams['figure.figsize'] = (8, 6)\n",
    "from IPython.display import Image, SVG, display"
   ]
  },
  {
   "cell_type": "markdown",
   "metadata": {},
   "source": [
    "**AKCIA:** Vypíšeme si časť surových dát aby sme skontrolovali, či majú správny formát csv súboru."
   ]
  },
  {
   "cell_type": "code",
   "execution_count": 4,
   "metadata": {},
   "outputs": [
    {
     "name": "stdout",
     "output_type": "stream",
     "text": [
      ",age,sex,on thyroxine,query on thyroxine,on antithyroid medication,sick,pregnant,thyroid surgery,I131 treatment,query hypothyroid,query hyperthyroid,lithium,goitre,tumor,hypopituitary,psych,TSH measured,TSH,T3 measured,T3,TT4 measured,TT4,T4U measured,T4U,FTI measured,FTI,TBG measured,TBG,referral source,class,fnlwgt,education,education-num,relationship,capital-gain,capital-loss,hours-per-week,date_of_birth,personal_info\n",
      "0,68,M,f,f,f,f,f,f,f,f,f,f,f,f,f,f,t,3.0,t,2.6,t,117.0,t,1.24,t,94,f,?,SVI,negative.|1231,96245, HS-grad,9, Husband,0.0,0,99,1949-07-30,\"Sales|United-States\n",
      "Married-civ-spouse -- Self-emp-inc|White\"\n",
      "1,42,F,f,f,f,f,f,f,f,f,f,f,f,f,f,f,t,1.8,t,2.0,t,66.0,t,0.93,t,71,f,?,SVHC,negative.|329,191177, HS-grad,9, Not-in-family,,0,55,1975-10-31,\"Exec-managerial|United-States\n",
      "Never-married -- Private|White\"\n",
      "2,27,F,f,f,f,f,f,f,f,f,f,f,f,f,f,f,t,2.2,t,2.3,t,105.0,t,0.97,t,109,f,?,other,negative.|2518,48585, Some-college,1000, Wife,0.0,0,4,1990-10-29 00:00:00,\"Prof-specialty|United-States\n",
      "Married-civ-spouse -- Self-emp-not-inc|White\"\n",
      "3,32,F,FALSE,f,f,f,f,f,f,f,f,f,f,f,f,f,t,7.9,t,2.2,t,76.0,t,1.01,t,75,f,?,SVHC,negative.|821,251526, Some-college,10, Wife,0.0,0,20,1985-10-28,\"Tech-support|United-States\n",
      "Married-civ-spouse -- Private|White\"\n",
      "4,23,F,f,f,f,f,f,f,f,f,f,f,f,f,f,f,t,1.9,t,1.6,t,88.0,t,0.89,t,100,f,?,other,negative.|951,175614, 10th,6, Unmarried,0.0,0,40,??,\"Other-service|United-States\n"
     ]
    }
   ],
   "source": [
    "%%bash \n",
    "head data/zadanie4/test.csv"
   ]
  },
  {
   "cell_type": "markdown",
   "metadata": {},
   "source": [
    "**POZOROVANIE:** Z prvých riadkov súboru sa zdá, že **atribúty** a ich hodnoty sú **odelené čiarkami** a **záznamy** sú **odelené znakom nového riadku**. Prvý riadok začína čiarkou, čo môže znamenať, že v súbore chýba názov prvého atribútu. Z hodnôt prislúchajúcich prvému atribútu odhadujeme, že sa jedná o **identifikačné číslo**."
   ]
  },
  {
   "cell_type": "markdown",
   "metadata": {},
   "source": [
    "**AKCIA:** Načítame si dataset s trénovacími dátami a vypíšeme si základnú informáciu o počte atribútov (stĺpcov) a počte záznamov (riadkov)"
   ]
  },
  {
   "cell_type": "markdown",
   "metadata": {},
   "source": [
    "**KOREKCIA:** Prvý stlpec si zadefinujeme ako index"
   ]
  },
  {
   "cell_type": "code",
   "execution_count": 5,
   "metadata": {},
   "outputs": [],
   "source": [
    "file_path = \"data/zadanie4/train.csv\"\n",
    "#file_path = \"data/zadanie4/test.csv\"\n",
    "# Načítame si súbor s datasetom so separátom ',' a ako index nastavime prvý stĺpec\n",
    "data = pd.read_csv(file_path, sep=',', index_col=0)\n",
    "# Pomenujeme si index\n",
    "data.index.name = 'id'"
   ]
  },
  {
   "cell_type": "code",
   "execution_count": 17,
   "metadata": {},
   "outputs": [
    {
     "name": "stdout",
     "output_type": "stream",
     "text": [
      "<class 'pandas.core.frame.DataFrame'>\n",
      "Int64Index: 2800 entries, 0 to 2799\n",
      "Data columns (total 39 columns):\n",
      "age                          2799 non-null float64\n",
      "sex                          2800 non-null object\n",
      "on thyroxine                 2800 non-null object\n",
      "query on thyroxine           2800 non-null object\n",
      "on antithyroid medication    2800 non-null object\n",
      "sick                         2800 non-null object\n",
      "pregnant                     2800 non-null object\n",
      "thyroid surgery              2800 non-null object\n",
      "I131 treatment               2800 non-null object\n",
      "query hypothyroid            2800 non-null object\n",
      "query hyperthyroid           2800 non-null object\n",
      "lithium                      2800 non-null object\n",
      "goitre                       2800 non-null object\n",
      "tumor                        2800 non-null object\n",
      "hypopituitary                2800 non-null object\n",
      "psych                        2800 non-null object\n",
      "TSH measured                 2800 non-null object\n",
      "TSH                          2516 non-null float64\n",
      "T3 measured                  2800 non-null object\n",
      "T3                           2215 non-null float64\n",
      "TT4 measured                 2800 non-null object\n",
      "TT4                          2616 non-null float64\n",
      "T4U measured                 2800 non-null object\n",
      "T4U                          2503 non-null float64\n",
      "FTI measured                 2800 non-null object\n",
      "FTI                          2800 non-null object\n",
      "TBG measured                 2800 non-null object\n",
      "TBG                          2800 non-null object\n",
      "referral source              2800 non-null object\n",
      "class                        2800 non-null object\n",
      "fnlwgt                       2800 non-null int64\n",
      "education                    2800 non-null object\n",
      "education-num                2800 non-null int64\n",
      "relationship                 2800 non-null object\n",
      "capital-gain                 2520 non-null float64\n",
      "capital-loss                 2800 non-null int64\n",
      "hours-per-week               2800 non-null int64\n",
      "date_of_birth                2610 non-null object\n",
      "personal_info                2800 non-null object\n",
      "dtypes: float64(6), int64(4), object(29)\n",
      "memory usage: 875.0+ KB\n"
     ]
    }
   ],
   "source": [
    "# Vypíšeme si základné informácie o datasete\n",
    "data.info()"
   ]
  },
  {
   "cell_type": "code",
   "execution_count": 18,
   "metadata": {},
   "outputs": [],
   "source": [
    "#Vypis spojitých atribútov typu floqat64\n",
    "_ = data.select_dtypes('float64').describe()"
   ]
  },
  {
   "cell_type": "code",
   "execution_count": 19,
   "metadata": {},
   "outputs": [],
   "source": [
    "#Vypis spojitých atribútov typu int64\n",
    "_ = data.select_dtypes('int64').describe()"
   ]
  },
  {
   "cell_type": "code",
   "execution_count": 20,
   "metadata": {},
   "outputs": [],
   "source": [
    "#Výpis atribútov s nešpecifikovaným dátovým typom\n",
    "_ = data.select_dtypes('object').describe()"
   ]
  },
  {
   "cell_type": "markdown",
   "metadata": {},
   "source": [
    "**POZOROVANIE:** Z týchto základných informácií môžeme pozorovať, že niektoré atribúty obsahujú aj **null hodnoty**. Pre atribúty spojité(kvantitatívne) atribúty **age, TSH, T3, TT4, T4U, capital-gain, date_of_birth** budeme musiet null hodnoty vhodne doplniť alebo vyradiť celý záznam z datasetu.\n",
    "Na prvý pohľad nazvy niektorých atribútov *(napr. T3, TT4, T4U atď.)* nevieme čo znamenajú a preto bude potreba si naštudovať doménovú oblasť a pokusiť sa ich **lepšie zadefinovať**. Názvy atribútov tiež niesu konzistentné a to tak, že sa atribút skladá z viacerých slov *(napr. pomlčka, medzera, počiarkovník)*.  \n",
    "**Počet riadkov:** 2800   \n",
    "**Počet stĺpcov:** 39  \n",
    "**Dátové typy:** float64(6), int64(4), object(29)  "
   ]
  },
  {
   "cell_type": "markdown",
   "metadata": {},
   "source": [
    "*POZNÁMKA: Doménový opis dát a ich definície sú v súbore data_description.txt*"
   ]
  },
  {
   "cell_type": "markdown",
   "metadata": {},
   "source": [
    "#  Analýza atribútov po jednom (Univariate analysis)\n",
    "Na základe analýzy jednotlivých údajov sme atribúty rozdelili do niekoľkých skupín.\n",
    "\n",
    "1. Osobné údaje\n",
    "2. Liečba\n",
    "3. Ochorenia\n",
    "4. Vyšetrenia a výsledky\n",
    "5. Otázky pacienta"
   ]
  },
  {
   "cell_type": "markdown",
   "metadata": {},
   "source": [
    "## Osobné údaje\n",
    "V tejto časti sú opísané atribúty opisujúce základné osobné údaje o pacientovi ako prácu, vek, pohlavie, rasu, štát, dátum narodenia atď."
   ]
  },
  {
   "cell_type": "markdown",
   "metadata": {},
   "source": [
    "### Atribút - personal_info"
   ]
  },
  {
   "cell_type": "code",
   "execution_count": 21,
   "metadata": {},
   "outputs": [
    {
     "data": {
      "text/plain": [
       "id\n",
       "0    Other-service|United-States\\nWidowed -- privat...\n",
       "1    Adm-clerical|United-States\\nSeparated -- Local...\n",
       "2    Sales|United-States\\nMarried-civ-spouse -- pri...\n",
       "3    Sales|United-States\\nNever-married -- Private|...\n",
       "4    Adm-clerical|United-States\\nNever-married -- P...\n",
       "Name: personal_info, dtype: object"
      ]
     },
     "execution_count": 21,
     "metadata": {},
     "output_type": "execute_result"
    }
   ],
   "source": [
    "data['personal_info'].head()"
   ]
  },
  {
   "cell_type": "markdown",
   "metadata": {},
   "source": [
    "**POZOROVANIE:** Usudzujeme, že tento atribút v sebe niesie niektoré **osobné údaje o pacientovi**. Na prvý pohľad môžeme vidieť, že atribút pozostáva z viacerých informácií. Do budúcna navrhujeme tento atribút rozdeliť na dalšie atribúty."
   ]
  },
  {
   "cell_type": "markdown",
   "metadata": {},
   "source": [
    "**KOREKCIA:** Atribút rozdelíme na 5 atribútov. [job, state, parents_definition, segment, race]"
   ]
  },
  {
   "cell_type": "code",
   "execution_count": 22,
   "metadata": {
    "scrolled": false
   },
   "outputs": [],
   "source": [
    "_ = pd.DataFrame(data['personal_info'].str.replace('\\n','|').str.replace('--','|').str.split('|', expand=False).tolist(), columns=['job','state', 'parents_definition', 'segment', 'race'])"
   ]
  },
  {
   "cell_type": "markdown",
   "metadata": {},
   "source": [
    "### Atribút - relationship"
   ]
  },
  {
   "cell_type": "code",
   "execution_count": 12,
   "metadata": {},
   "outputs": [
    {
     "data": {
      "text/plain": [
       "id\n",
       "0     Unmarried\n",
       "1     Unmarried\n",
       "2       Husband\n",
       "3     Own-child\n",
       "4     Own_child\n",
       "Name: relationship, dtype: object"
      ]
     },
     "execution_count": 12,
     "metadata": {},
     "output_type": "execute_result"
    }
   ],
   "source": [
    "data['relationship'].head()"
   ]
  },
  {
   "cell_type": "markdown",
   "metadata": {},
   "source": [
    "**POZOROVANIE:** Usudzujeme, že tento atribút v sebe niesie niektoré **osobné údaje o pacientovi**. Na prvý pohľad môžeme vidieť, že atribút pozostáva z viacerých informácií. Do budúcna navrhujeme tento atribút rozdeliť na dalšie atribúty."
   ]
  },
  {
   "cell_type": "code",
   "execution_count": 13,
   "metadata": {},
   "outputs": [
    {
     "data": {
      "text/plain": [
       " Not-in-family     809\n",
       " Husband           550\n",
       " Unmarried         510\n",
       " Own-child         441\n",
       " Wife              253\n",
       " Not_in_family      95\n",
       " Other-relative     80\n",
       " Own_child          53\n",
       " Other_relative      9\n",
       "Name: relationship, dtype: int64"
      ]
     },
     "execution_count": 13,
     "metadata": {},
     "output_type": "execute_result"
    }
   ],
   "source": [
    "data['relationship'].value_counts()"
   ]
  },
  {
   "cell_type": "markdown",
   "metadata": {},
   "source": [
    "**POZOROVANIE:** Pri počítaní jednotlivých hodnôt v stĺpci \"relationship\" sme narazili na problém s nekonzistentnými dátami. Musíme ich upraviť na takú podobu, aby jednotlivé slová neboli oddelené pomlčkoiu, ale podtržníkom, t.j. máme dve hodnoty - other-relative a other_relative, ktoré očividne vyjadrujú to isté, ale sú ináč zapísané."
   ]
  },
  {
   "cell_type": "markdown",
   "metadata": {},
   "source": [
    "**KOREKCIA:** Zjednotíme názvy"
   ]
  },
  {
   "cell_type": "code",
   "execution_count": 25,
   "metadata": {},
   "outputs": [
    {
     "data": {
      "text/plain": [
       "<matplotlib.axes._subplots.AxesSubplot at 0x1a167e27b8>"
      ]
     },
     "execution_count": 25,
     "metadata": {},
     "output_type": "execute_result"
    },
    {
     "data": {
      "image/png": "[encoded data removed]",
      "text/plain": [
       "<matplotlib.figure.Figure at 0x1a1630c780>"
      ]
     },
     "metadata": {},
     "output_type": "display_data"
    }
   ],
   "source": [
    "new_column = '_relationship'\n",
    "data[new_column] = data['relationship'].apply(str.strip)\n",
    "data[new_column] = data[new_column].replace('Other-relative', 'Other_relative')\n",
    "data[new_column] = data[new_column].replace('Own-child', 'Own_child')\n",
    "data[new_column] = data[new_column].replace('Not-in-family', 'Not_in_family')\n",
    "data[new_column].value_counts().plot(kind='bar')\n"
   ]
  },
  {
   "cell_type": "markdown",
   "metadata": {},
   "source": [
    "### Atribút - age"
   ]
  },
  {
   "cell_type": "code",
   "execution_count": 26,
   "metadata": {},
   "outputs": [
    {
     "data": {
      "text/plain": [
       "id\n",
       "0    72.0\n",
       "1    52.0\n",
       "2    62.0\n",
       "3    23.0\n",
       "4    63.0\n",
       "Name: age, dtype: float64"
      ]
     },
     "execution_count": 26,
     "metadata": {},
     "output_type": "execute_result"
    }
   ],
   "source": [
    "# Výpis prvých 5 záznamov pre daný atribút\n",
    "data['age'].head()"
   ]
  },
  {
   "cell_type": "markdown",
   "metadata": {},
   "source": [
    "**POZOROVANIE:** Kedže \"age\" v preklade znamená **vek** a tento atribút v sebe nesie číselné hodnoty usudzujeme, že nám **hovorí o veku pacientov**. Vek budeme považovat za **spojitý (kvantitatívny) intervalový atribút** (To znamená, že nad ním môžeme vykonať výpočtovú deskriptívnu štatistiku.)"
   ]
  },
  {
   "cell_type": "code",
   "execution_count": 27,
   "metadata": {},
   "outputs": [],
   "source": [
    "# vykonáme deskriptívnu štatistiku\n",
    "_ = data['age'].describe()"
   ]
  },
  {
   "cell_type": "code",
   "execution_count": null,
   "metadata": {},
   "outputs": [],
   "source": [
    "column = 'age'\n",
    "# Môžeme odstrániť chýbajúce hodnoty\n",
    "#sample = data.loc[data[column].notna(), column]\n",
    "\n",
    "# Alebo ich môžeme nahradiť za priemerný vek\n",
    "sample = data[column].fillna(data[column].mean())\n",
    "\n",
    "seaborn.set()\n",
    "# Vykreslíme si histogram\n",
    "_ = plt.hist(sample, bins=100)\n",
    "_ = plt.xlabel('počet rokov')\n",
    "_ = plt.ylabel('počet pacientov')\n",
    "plt.show()"
   ]
  },
  {
   "cell_type": "code",
   "execution_count": null,
   "metadata": {},
   "outputs": [],
   "source": [
    "_ = plt.boxplot(sample)"
   ]
  },
  {
   "cell_type": "markdown",
   "metadata": {},
   "source": [
    "**POZOROVANIE:** Jeden pacient **nemá zaznamenaný údaj o veku** a aspoň jeden pacient má vyplnený nezmyselný **vek 455 rokov**. Takéto nezmyselné hodnoty môžeme odstrániť alebo doplniť na základe priemerného veku pacientov **52 rokov**."
   ]
  },
  {
   "cell_type": "markdown",
   "metadata": {},
   "source": [
    "**KOREKCIA:** Vyfiltrujeme si hodnoty, ktoré potrebujeme zmeniť a vypočítame hodnotu **veku**. V prípade ak by boli dáta zaznemané v rovnakom roku boli by sme schopní vypočítať tento rok ako \"rok narodenia\" + \"prislúchajúci vek\" a **chýbajúce hodnoty** pre **vek** podľa atribútu \"vypočítaný rok\" - \"rok narodenia\". Z takto upraveného datasetu by sme museli dodatočne vyfiltrovať nezmyselné hodnoty a nahradiť ich za **priemerný vek** pacientov. V prípade ak dáta nie sú z jedného roku, doplníme chýbajúci vek **priemerným vekom** všetkých pacientov v datasete."
   ]
  },
  {
   "cell_type": "code",
   "execution_count": null,
   "metadata": {},
   "outputs": [],
   "source": [
    "# Zistíme všetky hodnoty, ktoré sa nám zdajú nezmyslené alebo chýbajú\n",
    "data[(data['age'] < 1) | (data['age'] > 100) | (pd.isnull(data['age']))]"
   ]
  },
  {
   "cell_type": "code",
   "execution_count": null,
   "metadata": {},
   "outputs": [],
   "source": [
    "# Zistíme si mode (modus): najčastejšia hodnota (hodnota s najvačšou pravdepodobnostou vyskytu)\n",
    "data['age'].mode()"
   ]
  },
  {
   "cell_type": "markdown",
   "metadata": {},
   "source": [
    "**POZOROVANIE:** Môžeme si všimnúť, že väčšina pacientov v datasete je vo veku **59 rokov**."
   ]
  },
  {
   "cell_type": "markdown",
   "metadata": {},
   "source": [
    "### Atribút - date_of_birth"
   ]
  },
  {
   "cell_type": "code",
   "execution_count": 46,
   "metadata": {},
   "outputs": [
    {
     "data": {
      "text/plain": [
       "id\n",
       "0     1946-02-03\n",
       "1     1965-08-27\n",
       "2     1955-04-15\n",
       "3     1994-03-26\n",
       "4     1955-01-21\n",
       "5     1961-12-10\n",
       "6     1934-03-03\n",
       "7     1949-07-21\n",
       "8     1999-01-06\n",
       "9     1945-11-10\n",
       "10    1999-09-20\n",
       "11           NaN\n",
       "12           NaN\n",
       "13    1970-09-28\n",
       "14    1942-08-15\n",
       "15    07/07/1973\n",
       "16    1979-12-04\n",
       "17    18/01/1940\n",
       "18    15/10/1952\n",
       "19    1981-07-19\n",
       "Name: date_of_birth, dtype: object"
      ]
     },
     "execution_count": 46,
     "metadata": {},
     "output_type": "execute_result"
    }
   ],
   "source": [
    "# Výpis prvých 5 záznamov pre daný atribút\n",
    "data['date_of_birth'].head(20)"
   ]
  },
  {
   "cell_type": "markdown",
   "metadata": {},
   "source": [
    "**POZOROVANIE:** Kedže **date_of_birth** v preklade znamená **dátum narodenia** a tento atribút v sebe nesie rôzne dátumy usudzujeme, že nám **hovorí o dátume narodenia pacientov**. Dátum narodenia budeme považovat za **spojitý (kvantitatívny) intervalový atribút**. Hodnoty atribútu majú **rôzny formát** a obsahujú aj **nan** hodnoty."
   ]
  },
  {
   "cell_type": "markdown",
   "metadata": {},
   "source": [
    "**KOREKCIA:** Ujednotenie formátu dátumov."
   ]
  },
  {
   "cell_type": "code",
   "execution_count": 47,
   "metadata": {},
   "outputs": [
    {
     "data": {
      "text/plain": [
       "count                    2362\n",
       "unique                   2256\n",
       "top       1983-08-20 00:00:00\n",
       "freq                        3\n",
       "first     1923-05-30 00:00:00\n",
       "last      2067-09-01 00:00:00\n",
       "Name: _date_of_birth, dtype: object"
      ]
     },
     "execution_count": 47,
     "metadata": {},
     "output_type": "execute_result"
    }
   ],
   "source": [
    "# Ujednotíme formát dátumov a všetky hodnoty z ktorých nebude možné vytvoriť date object preved na NaT hodnotu\n",
    "column = '_date_of_birth'\n",
    "data[column] = pd.to_datetime(data['date_of_birth'], errors='coerce')\n",
    "# Vypíšeme si štatistiku\n",
    "data[column].describe()\n",
    "# Vyfiltrujeme si nezmyslený dátum\n",
    "# data[data['clean_date'] == '2067-09-01 00:00:00']"
   ]
  },
  {
   "cell_type": "markdown",
   "metadata": {},
   "source": [
    "**POZOROVANIE:** Po zjednoteni datumov možeme vidieť, že v dátach sú pacienti, ktorí sa ešte nenarodili **2067-09-01**. Táto hodnota je zlá lebo pôvodná hodnota v subore.csv bola **67-09-01**, čo pravdepodobne predstavovalo dátum **1967-09-01**. Kedže funkcia pandas.to_datetime má svoje limitácie [http://pandas-docs.github.io/pandas-docs-travis/timeseries.html#timestamp-limitations]navrhujeme] v ďaľšej časti navrhujeme odstrániť tieto dátumy."
   ]
  },
  {
   "cell_type": "markdown",
   "metadata": {},
   "source": [
    "### Atribút - sex"
   ]
  },
  {
   "cell_type": "code",
   "execution_count": null,
   "metadata": {},
   "outputs": [],
   "source": [
    "# Výpis prvých 5 záznamov pre daný atribút\n",
    "data['sex'].head()"
   ]
  },
  {
   "cell_type": "markdown",
   "metadata": {},
   "source": [
    "**POZOROVANIE:** Kedže \"sex\" v preklade znamená **pohlavie** a na prvý pohľad vidíme hodnoty F *(female - žena)*, M *(male - muž)* usudzujeme, že nám hovorí o **pohlaví pacientov**. Pohlavie budeme považovat za **kategorický nominálny atribút**. "
   ]
  },
  {
   "cell_type": "code",
   "execution_count": null,
   "metadata": {},
   "outputs": [],
   "source": [
    "# zistíme si základné charakteristiky záznamov\n",
    "data['sex'].describe()"
   ]
  },
  {
   "cell_type": "markdown",
   "metadata": {},
   "source": [
    "**POZOROVANIE:** V datasete sa nachádzajú **3 typy pohlaví**. Pacienti sú väčšinou **ženy**."
   ]
  },
  {
   "cell_type": "code",
   "execution_count": null,
   "metadata": {
    "scrolled": true
   },
   "outputs": [],
   "source": [
    "# Vypíšeme si unikátne hodnoty daného atribútu\n",
    "data['sex'].value_counts()"
   ]
  },
  {
   "cell_type": "markdown",
   "metadata": {},
   "source": [
    "*POZNÁMKA: Nemci uzákonili aj tretie pohlavie \"intersex\" [http://www.independent.co.uk/news/world/europe/germany-third-gender-male-female-intersex-court-parliament-bundesverfassungsgericht-berlin-lgbt-a8043261.html]*"
   ]
  },
  {
   "cell_type": "markdown",
   "metadata": {},
   "source": [
    "**POZOROVANIE:** Dataset obsahuje tri pohlavia *F (female - žena), M (male - muž), **?** (chyba alebo intersex)*. Ak chýbajúcu hodnotu nebudeme považovať za tretie pohlavie budeme ju musieť vyzistiť z dalších atribútov."
   ]
  },
  {
   "cell_type": "code",
   "execution_count": null,
   "metadata": {},
   "outputs": [],
   "source": [
    "#Vyfiltrujeme si pacientov s nešpecifikovaným pohlavím.\n",
    "data[(data['sex'] == '?')].head()"
   ]
  },
  {
   "cell_type": "markdown",
   "metadata": {},
   "source": [
    "**POZOROVANIE:** Chýbajúcu hodnotu môžeme zistiť napríklad z atribútu **pregnant** alebo z atribútu **relationship**  "
   ]
  },
  {
   "cell_type": "markdown",
   "metadata": {},
   "source": [
    "**KOREKCIA:** Vyfiltrujeme si pacientov, ktorých pohlavie je neznáme a sú tehotný. Ak je **pacient tehotný, potom je to žena**."
   ]
  },
  {
   "cell_type": "code",
   "execution_count": null,
   "metadata": {},
   "outputs": [],
   "source": [
    "# Vyfiltrujeme si pacientov s nešpecifikovaným pohlavím, ktorá sú tehotní.\n",
    "data[(data['sex'] == '?') & (data['pregnant'] == 't')].head()"
   ]
  },
  {
   "cell_type": "code",
   "execution_count": null,
   "metadata": {},
   "outputs": [],
   "source": [
    "# Neexistuje v datasete muž/žena, ktorý/ktorá je vydatý/oženená.\n",
    "data[(data['sex'] == 'M') & (data['relationship'] == ' Wife')]\n",
    "#data[(data['sex'] == 'F') & (data['relationship'] == ' Husband')]"
   ]
  },
  {
   "cell_type": "markdown",
   "metadata": {},
   "source": [
    "**POZOROVANIE:** Kedže neexistuje v datasete vydatý muž a oženená žena usudzujeme že podľa atribútu **relationship** môžeme určiť pohlavie."
   ]
  },
  {
   "cell_type": "markdown",
   "metadata": {},
   "source": [
    "**KOREKCIA:**  Ak je pacient vo **vzťahu vydatá** *(Wife)*, potom je **ženského pohlavia**. Ak je pacient vo vzťahu **oženený** *(Husband)*, potom je **mužského pohlavia**. \n"
   ]
  },
  {
   "cell_type": "markdown",
   "metadata": {},
   "source": [
    "### Atribút - hours-per-week"
   ]
  },
  {
   "cell_type": "code",
   "execution_count": null,
   "metadata": {},
   "outputs": [],
   "source": [
    "# Výpis prvých 5 záznamov pre daný atribút\n",
    "data['hours-per-week'].head()"
   ]
  },
  {
   "cell_type": "code",
   "execution_count": null,
   "metadata": {},
   "outputs": [],
   "source": [
    "column = 'hours-per-week'\n",
    "sample = data[column]\n",
    "_ = plt.hist(sample, normed=True, bins=50)"
   ]
  },
  {
   "cell_type": "markdown",
   "metadata": {},
   "source": [
    "**POZOROVANIE:** Niesme si istí, čo znamená tento atribút.\"hours-per-week\" sa používa v spojení **vykonávať činnosť určitý počet hodín v týždni**. Vyzerá to, že hodnoty sú reprezentované v hodinách. Budeme ho považovať za **spojitý (kvantitatívny) intervalový atribút** a preto na ňom vykonáme štatistiku."
   ]
  },
  {
   "cell_type": "code",
   "execution_count": null,
   "metadata": {},
   "outputs": [],
   "source": [
    "# Výpis prvých 5 záznamov pre daný atribút\n",
    "data['hours-per-week'].describe()"
   ]
  },
  {
   "cell_type": "markdown",
   "metadata": {},
   "source": [
    "**POZOROVANIE:** Keď sa pozrieme na priemernú hodnotu **38.54** predpokladáme, že sa jedná o **pracovný čas** každého pacienta. Náš predpoklad je založený na tom, že bežná pracovná doba je 8 hodín denne 5 dní v týždni, čo sa rovná **40 hodinám**. Tieto dáta neobsahujú **žiadne null hodnoty** ani abnormálne výchylky a preto ich čistenie nie je potrebé."
   ]
  },
  {
   "cell_type": "markdown",
   "metadata": {},
   "source": [
    "## Liečba"
   ]
  },
  {
   "cell_type": "markdown",
   "metadata": {},
   "source": [
    "### Atribút - on thyroxine"
   ]
  },
  {
   "cell_type": "code",
   "execution_count": null,
   "metadata": {},
   "outputs": [],
   "source": [
    "# Výpis prvých 5 záznamov pre daný atribút\n",
    "data['on thyroxine'].head()"
   ]
  },
  {
   "cell_type": "markdown",
   "metadata": {},
   "source": [
    "**POZOROVANIE:** Tyroxin je hormón, ktorý je produkovaný štítnou žľazou.[https://www.newsmax.com/fastfeatures/thyroid-thyroxine/2016/03/24/id/720782/]. V prípade zníženej produkcie tohto hormónu sa predpisuje vo forme lieku. Usudzujeme, že tento atribút nám hovorí o tom, čí daný pacient užíva liek obsahujúci hormón tyroxín. Existujú len dva stavy. Buď pacient užíva liek alebo neužíva. Preto budeme tento atribút považovat za **kategorický binárny atribút**, ktorý v sebe bude niesť hodnoty [true = užíva liek, false = neuziva liek]."
   ]
  },
  {
   "cell_type": "code",
   "execution_count": null,
   "metadata": {},
   "outputs": [],
   "source": [
    "# data['on thyroxine'].unique()\n",
    "data['on thyroxine'].value_counts()"
   ]
  },
  {
   "cell_type": "markdown",
   "metadata": {},
   "source": [
    "**POZOROVANIE:** Vidíme, že náš predpoklad bol správny a hodnoty pre atribút majú iba dva stavy (true, false). Tieto dáta bude potreba **očistiť na jednotný formát**"
   ]
  },
  {
   "cell_type": "markdown",
   "metadata": {},
   "source": [
    "**KOREKCIA:** Ujednotíme formát dát"
   ]
  },
  {
   "cell_type": "code",
   "execution_count": null,
   "metadata": {},
   "outputs": [],
   "source": [
    "# Mapovanie True a False na hodnoty podľa toho ake si zvolíme\n",
    "column = '_on_thyroxine'\n",
    "data[column] = data['on thyroxine'].map({'t': True, 'T': True, 'TRUE': True, 'f': False, 'F': False, 'FALSE': False})\n",
    "data[column].value_counts()"
   ]
  },
  {
   "cell_type": "markdown",
   "metadata": {},
   "source": [
    "### Atribút - query on thyroxine"
   ]
  },
  {
   "cell_type": "code",
   "execution_count": null,
   "metadata": {},
   "outputs": [],
   "source": [
    "# Výpis prvých 5 záznamov pre daný atribút\n",
    "data['query on thyroxine'].value_counts()"
   ]
  },
  {
   "cell_type": "markdown",
   "metadata": {},
   "source": [
    "**POZOROVANIE:** Niesme si istý co predstavuje tento atribút.  Myslíme si, že tento atribút nám hovorí o tom, čí sa daný pacient sťažoval liek obsahujúci hormón tyroxín alebo sa naňho len pýtal. Existujú len dva stavy. Buď sa pacient sťažoval liek alebo nesťažoval. Preto budeme tento atribút považovat za **kategorický binárny atribút**, ktorý v sebe bude niesť hodnoty [true = sťažoval sa/vypytoval, false = nesťažoval/nevypytoval]."
   ]
  },
  {
   "cell_type": "markdown",
   "metadata": {},
   "source": [
    "**KOREKCIA:** Prekonvertujeme si formát dát na boolean hodnoty"
   ]
  },
  {
   "cell_type": "code",
   "execution_count": null,
   "metadata": {
    "scrolled": true
   },
   "outputs": [],
   "source": [
    "# Mapovanie True a False na hodnoty podľa toho ake si zvolíme\n",
    "data['_query_on_thyroxine'] = data['query on thyroxine'].map({'t': True, 'f': False})\n",
    "data['_query_on_thyroxine'].value_counts()"
   ]
  },
  {
   "cell_type": "markdown",
   "metadata": {},
   "source": [
    "### Atribút - on antithyroid medication"
   ]
  },
  {
   "cell_type": "code",
   "execution_count": null,
   "metadata": {},
   "outputs": [],
   "source": [
    "# Výpis prvých 5 záznamov pre daný atribút\n",
    "data['on antithyroid medication'].value_counts()"
   ]
  },
  {
   "cell_type": "markdown",
   "metadata": {},
   "source": [
    "**POZOROVANIE:** Antithyroid je droga, ktorá znižuje funkciu štítnej žlazy. Používa sa v prípade ochorenia hypertireózy.[https://www.medicinenet.com/script/main/art.asp?articlekey=15316] Usudzujeme, že tento atribút nám hovorí o tom, čí daný pacient užíva drogu. Existujú len dva stavy. Buď pacient užíva drogu alebo neužíva. Preto budeme tento atribút považovat za **kategorický binárny atribút**, ktorý v sebe bude niesť hodnoty [true = užíva drogu, false = neuziva drogu]."
   ]
  },
  {
   "cell_type": "markdown",
   "metadata": {},
   "source": [
    "**KOREKCIA:** Prekonvertujeme si formát dát na boolean hodnoty"
   ]
  },
  {
   "cell_type": "code",
   "execution_count": null,
   "metadata": {
    "scrolled": true
   },
   "outputs": [],
   "source": [
    "# Mapovanie True a False na hodnoty podľa toho ake si zvolíme\n",
    "data['_on_antithyroid'] = data['on antithyroid medication'].map({'t': True, 'f': False})\n",
    "data['_on_antithyroid'].value_counts()"
   ]
  },
  {
   "cell_type": "markdown",
   "metadata": {},
   "source": [
    "### Atribút - I131 treatment"
   ]
  },
  {
   "cell_type": "code",
   "execution_count": null,
   "metadata": {},
   "outputs": [],
   "source": [
    "# Výpis unikátnych hodnôt\n",
    "data['I131 treatment'].value_counts()"
   ]
  },
  {
   "cell_type": "markdown",
   "metadata": {},
   "source": [
    "**POZOROVANIE:** Radioaktívna, ktorá znižuje funkciu štítnej žlazy. [https://www.radiologyinfo.org/en/info.cfm?pg=radioiodine] Používa sa v prípade **ochorenia hypertireózy**. Usudzujeme, že tento atribút nám hovorí o tom, čí daný pacient podstupuje liečbu. Existujú len dva stavy. Buď pacient podstupuje liečbu alebo nepodstupuje. Preto budeme tento atribút považovat za **kategorický binárny atribút**, ktorý v sebe bude niesť hodnoty [true = podstupuje liečbu, false = nepodstupuje liečbu]."
   ]
  },
  {
   "cell_type": "markdown",
   "metadata": {},
   "source": [
    "**KOREKCIA:** Prekonvertujeme si formát dát na boolean hodnoty"
   ]
  },
  {
   "cell_type": "code",
   "execution_count": null,
   "metadata": {
    "scrolled": true
   },
   "outputs": [],
   "source": [
    "# Mapovanie True a False na hodnoty podľa toho ake si zvolíme\n",
    "data['_I131_treatment'] = data['I131 treatment'].map({'t': True, 'f': False})\n",
    "data['_I131_treatment'].value_counts()"
   ]
  },
  {
   "cell_type": "markdown",
   "metadata": {},
   "source": [
    "### Atribút - lithium"
   ]
  },
  {
   "cell_type": "code",
   "execution_count": null,
   "metadata": {},
   "outputs": [],
   "source": [
    "# Výpis unikátnych hodnôt\n",
    "data['lithium'].value_counts()"
   ]
  },
  {
   "cell_type": "markdown",
   "metadata": {},
   "source": [
    "**POZOROVANIE:** Lítium je veľmi ľahký a mäkký kov, ktorý sa mnohými chemickými vlastnosťami podobá na horčík. Antityroidné účinky lítia sa najprv skúmali podrobne, keď sa zistilo, že pacienti s **psychiatrickým ochorením** liečeným lítium-karbonátom vyvinuli **hypotyreózu** a burcu. Štúdie na zvieratách a na ľuďoch následne odhalili, že lítium zvyšuje obsah intra-thyroidného jódu, inhibuje kondenzáciu jódotyrozínových zvyškov za vzniku jódtironínov (tyroxín (T4) a trijódtyronínu (T3)) a inhibuje uvoľňovanie T4 a T3.[https://www.uptodate.com/contents/lithium-and-the-thyroid#H2] Používa sa v prípade **ochorenia hypertireózy**. Usudzujeme, že tento atribút nám hovorí o tom, čí daný pacient podstupuje liečbu. Existujú len dva stavy. Buď pacient podstupuje liečbu alebo nepodstupuje. Preto budeme tento atribút považovat za **kategorický binárny atribút**, ktorý v sebe bude niesť hodnoty [true = podstupuje liečbu, false = nepodstupuje liečbu]."
   ]
  },
  {
   "cell_type": "markdown",
   "metadata": {},
   "source": [
    "**KOREKCIA:** Prekonvertujeme si formát dát na boolean hodnoty"
   ]
  },
  {
   "cell_type": "code",
   "execution_count": null,
   "metadata": {},
   "outputs": [],
   "source": [
    "# Mapovanie True a False na hodnoty podľa toho ake si zvolíme\n",
    "data['_lithium'] = data['lithium'].map({'t': True, 'f': False})\n",
    "data['_lithium'].value_counts()"
   ]
  },
  {
   "cell_type": "markdown",
   "metadata": {},
   "source": [
    "### Atribút - thyroid surgery"
   ]
  },
  {
   "cell_type": "code",
   "execution_count": null,
   "metadata": {},
   "outputs": [],
   "source": [
    "# Výpis prvých 5 záznamov pre daný atribút\n",
    "data['thyroid surgery'].value_counts()"
   ]
  },
  {
   "cell_type": "markdown",
   "metadata": {},
   "source": [
    "**POZOROVANIE:** [https://youtu.be/0h5jM7eN6j4] Usudzujeme, že tento atribút nám hovorí o tom, čí sa daný pacient podstúpil operáciu. Existujú len dva stavy. Buď pacient podstúpil operáciu ale nepodstúpil. Preto budeme tento atribút považovat za **kategorický binárny atribút**, ktorý v sebe bude niesť hodnoty [true = podstúpil operáciu, false = nepodstúpil operáciu]."
   ]
  },
  {
   "cell_type": "markdown",
   "metadata": {},
   "source": [
    "**KOREKCIA:** Prekonvertujeme si formát dát na boolean hodnoty"
   ]
  },
  {
   "cell_type": "code",
   "execution_count": null,
   "metadata": {
    "scrolled": true
   },
   "outputs": [],
   "source": [
    "# Mapovanie True a False na hodnoty podľa toho ake si zvolíme\n",
    "data['_thyroid_surgery'] = data['thyroid surgery'].map({'t': True, 'f': False})\n",
    "data['_thyroid_surgery'].value_counts()"
   ]
  },
  {
   "cell_type": "markdown",
   "metadata": {},
   "source": [
    "## Ochorenia"
   ]
  },
  {
   "cell_type": "markdown",
   "metadata": {},
   "source": [
    "### Atribút - sick"
   ]
  },
  {
   "cell_type": "code",
   "execution_count": null,
   "metadata": {},
   "outputs": [],
   "source": [
    "# Výpis prvých 5 záznamov pre daný atribút\n",
    "data['sick'].value_counts()"
   ]
  },
  {
   "cell_type": "markdown",
   "metadata": {},
   "source": [
    "**POZOROVANIE:** Usudzujeme, že tento atribút nám hovorí o tom, čí sa daný pacient je chorý. Existujú len dva stavy. Buď je pacient chorý alebo nie je chorý. Preto budeme tento atribút považovat za **kategorický binárny atribút**, ktorý v sebe bude niesť hodnoty [true = je chorý, false = nie je chorý]."
   ]
  },
  {
   "cell_type": "markdown",
   "metadata": {},
   "source": [
    "**KOREKCIA:** Prekonvertujeme si formát dát na boolean hodnoty"
   ]
  },
  {
   "cell_type": "code",
   "execution_count": null,
   "metadata": {
    "scrolled": false
   },
   "outputs": [],
   "source": [
    "# Mapovanie True a False na hodnoty podľa toho ake si zvolíme\n",
    "data['_sick'] = data['sick'].map({'t': True, 'f': False})\n",
    "data['_sick'].value_counts()"
   ]
  },
  {
   "cell_type": "markdown",
   "metadata": {},
   "source": [
    "### Atribút - goitre"
   ]
  },
  {
   "cell_type": "code",
   "execution_count": null,
   "metadata": {},
   "outputs": [],
   "source": [
    "# Výpis unikátnych hodnôt\n",
    "data['goitre'].value_counts()"
   ]
  },
  {
   "cell_type": "markdown",
   "metadata": {},
   "source": [
    "**POZOROVANIE:** [https://youtu.be/TiBnSKyX2iU] Usudzujeme, že tento atribút nám hovorí o tom, čí sa daný trpí ochorením. Existujú len dva stavy. Buď pacient trpí ochorením alebo nie. Preto budeme tento atribút považovat za **kategorický binárny atribút**, ktorý v sebe bude niesť hodnoty [true = má ochorenie, false = nemá ochorenie]."
   ]
  },
  {
   "cell_type": "markdown",
   "metadata": {},
   "source": [
    "**KOREKCIA:** Prekonvertujeme si formát dát na boolean hodnoty"
   ]
  },
  {
   "cell_type": "code",
   "execution_count": null,
   "metadata": {
    "scrolled": false
   },
   "outputs": [],
   "source": [
    "# Mapovanie True a False na hodnoty podľa toho ake si zvolíme\n",
    "data['_goitre'] = data['goitre'].map({'t': True, 'f': False})\n",
    "data['_goitre'].value_counts()"
   ]
  },
  {
   "cell_type": "markdown",
   "metadata": {},
   "source": [
    "### Atribút - tumor"
   ]
  },
  {
   "cell_type": "code",
   "execution_count": null,
   "metadata": {},
   "outputs": [],
   "source": [
    "# Výpis unikátnych hodnôt\n",
    "data['tumor'].value_counts()"
   ]
  },
  {
   "cell_type": "markdown",
   "metadata": {},
   "source": [
    "**POZOROVANIE:** [https://www.endocrineweb.com/conditions/thyroid-cancer/thyroid-cancer] Usudzujeme, že tento atribút nám hovorí o tom, čí sa daný trpí ochorením. Existujú len dva stavy. Buď pacient trpí ochorením alebo nie. Preto budeme tento atribút považovat za **kategorický binárny atribút**, ktorý v sebe bude niesť hodnoty [true = má ochorenie, false = nemá ochorenie]."
   ]
  },
  {
   "cell_type": "markdown",
   "metadata": {},
   "source": [
    "**KOREKCIA:** Prekonvertujeme si formát dát na boolean hodnoty"
   ]
  },
  {
   "cell_type": "code",
   "execution_count": null,
   "metadata": {
    "scrolled": true
   },
   "outputs": [],
   "source": [
    "# Mapovanie True a False na hodnoty podľa toho ake si zvolíme\n",
    "data['_tumor'] = data['tumor'].map({'t': True, 'f': False})\n",
    "data['_tumor'].value_counts()"
   ]
  },
  {
   "cell_type": "markdown",
   "metadata": {},
   "source": [
    "### Atribút - hypopituitary"
   ]
  },
  {
   "cell_type": "code",
   "execution_count": null,
   "metadata": {},
   "outputs": [],
   "source": [
    "# Výpis unikátnych hodnôt a ich počtov\n",
    "data['hypopituitary'].value_counts()"
   ]
  },
  {
   "cell_type": "markdown",
   "metadata": {},
   "source": [
    "**POZOROVANIE:** [https://www.emedicinehealth.com/hypopituitary/article_em.htm] Usudzujeme, že tento atribút nám hovorí o tom, čí sa daný trpí ochorením. Existujú len dva stavy. Buď pacient trpí ochorením alebo nie. Preto budeme tento atribút považovat za **kategorický binárny atribút**, ktorý v sebe bude niesť hodnoty [true = má ochorenie, false = nemá ochorenie]. V našom data sete sa nachádza iba jeden jediný pacient s takýmto ochorením. Tento pacient pravdepodobne len veľmi málo ovplyvní výledky budúceho trénovania a preto si myslíme, že by bolo vhodné tento atribút **zanedbať**."
   ]
  },
  {
   "cell_type": "markdown",
   "metadata": {},
   "source": [
    "**KOREKCIA:** Prekonvertujeme si formát dát na boolean hodnoty"
   ]
  },
  {
   "cell_type": "code",
   "execution_count": null,
   "metadata": {
    "scrolled": false
   },
   "outputs": [],
   "source": [
    "# Mapovanie True a False na hodnoty podľa toho ake si zvolíme\n",
    "data['_hypopituitary'] = data['hypopituitary'].map({'t': True, 'f': False})\n",
    "data['_hypopituitary'].value_counts()"
   ]
  },
  {
   "cell_type": "markdown",
   "metadata": {},
   "source": [
    "### Atribút - psych"
   ]
  },
  {
   "cell_type": "code",
   "execution_count": null,
   "metadata": {},
   "outputs": [],
   "source": [
    "# Výpis unikátnych hodnôt a ich počtov\n",
    "data['psych'].value_counts()"
   ]
  },
  {
   "cell_type": "markdown",
   "metadata": {},
   "source": [
    "**POZOROVANIE:** [https://www.ncbi.nlm.nih.gov/pubmed/21996646] Usudzujeme, že tento atribút nám hovorí o tom, čí daný pacient trpí ochorením. Existujú len dva stavy. Buď pacient trpí ochorením alebo nie. Preto budeme tento atribút považovat za **kategorický binárny atribút**, ktorý v sebe bude niesť hodnoty [true = má ochorenie, false = nemá ochorenie]."
   ]
  },
  {
   "cell_type": "markdown",
   "metadata": {},
   "source": [
    "**KOREKCIA:** Prekonvertujeme si formát dát na boolean hodnoty"
   ]
  },
  {
   "cell_type": "code",
   "execution_count": null,
   "metadata": {
    "scrolled": true
   },
   "outputs": [],
   "source": [
    "# Mapovanie True a False na hodnoty podľa toho ake si zvolíme\n",
    "data['_psych'] = data['psych'].map({'t': True, 'f': False})\n",
    "data['_psych'].value_counts()"
   ]
  },
  {
   "cell_type": "markdown",
   "metadata": {},
   "source": [
    "### Atribút - pregnant"
   ]
  },
  {
   "cell_type": "code",
   "execution_count": null,
   "metadata": {},
   "outputs": [],
   "source": [
    "# Výpis prvých 5 záznamov pre daný atribút\n",
    "data['pregnant'].value_counts()"
   ]
  },
  {
   "cell_type": "markdown",
   "metadata": {},
   "source": [
    "**POZOROVANIE:** Usudzujeme, že tento atribút nám hovorí o tom, či je daný pacient **tehotný**. Existujú len dva stavy. Buď je pacient tehotný alebo nie je tehotný. Preto budeme tento atribút považovat za **kategorický binárny atribút**, ktorý v sebe bude niesť hodnoty [true = je tehotný, false = nie je tehotný]."
   ]
  },
  {
   "cell_type": "markdown",
   "metadata": {},
   "source": [
    "**KOREKCIA:** Prekonvertujeme si formát dát na boolean hodnoty"
   ]
  },
  {
   "cell_type": "code",
   "execution_count": null,
   "metadata": {
    "scrolled": true
   },
   "outputs": [],
   "source": [
    "# Mapovanie True a False na hodnoty podľa toho ake si zvolíme\n",
    "data['_pregnant'] = data['pregnant'].map({'t': True, 'f': False})\n",
    "data['_pregnant'].value_counts()"
   ]
  },
  {
   "cell_type": "markdown",
   "metadata": {},
   "source": [
    "## Vyšetrenia a ich výsledky"
   ]
  },
  {
   "cell_type": "markdown",
   "metadata": {},
   "source": [
    "### Atribút - TSH"
   ]
  },
  {
   "cell_type": "markdown",
   "metadata": {},
   "source": [
    "*POZNÁMKA - A TSH test is done to find out if your thyroid gland is working the way it should. It can tell you if it’s overactive (hyperthyroidism) or underactive (hypothyroidism). The test can also detect a thyroid disorder before you have any symptoms. If untreated, a thyroid disorder can cause health problems.  \n",
    "TSH stands for “thyroid stimulating hormone” and the test measures how much of this hormone is in your blood. TSH is produced by the pituitary gland in your brain. This gland tells your thyroid to make and release the thyroid hormones into your blood* [https://www.webmd.com/a-to-z-guides/what-is-tsh-test#1]"
   ]
  },
  {
   "cell_type": "code",
   "execution_count": null,
   "metadata": {},
   "outputs": [],
   "source": [
    "# Výpis prvých 5 záznamov pre daný atribút\n",
    "data['TSH'].head()"
   ]
  },
  {
   "cell_type": "markdown",
   "metadata": {},
   "source": [
    "**POZOROVANIE:** Na základe vyšieho opisu a toho, že atribút v sebe nesie číselné hodnoty usudzujeme, že nám **vyšetrení hladiny hormónu v krvi**. Tieto hodnoty budeme považovať za **spojitý (kvantitatívny) pomerový atribút**."
   ]
  },
  {
   "cell_type": "code",
   "execution_count": null,
   "metadata": {},
   "outputs": [],
   "source": [
    "# vykonáme deskriptívnu štatistiku\n",
    "data['TSH'].describe(include='all')"
   ]
  },
  {
   "cell_type": "code",
   "execution_count": null,
   "metadata": {},
   "outputs": [],
   "source": [
    "# Pozrieme sa na najbežnejšie hodnoty\n",
    "atribute = 'TSH'\n",
    "sample = data.loc[data[atribute].notna(), atribute]\n",
    "_ = plt.hist(sample, bins=100)"
   ]
  },
  {
   "cell_type": "markdown",
   "metadata": {},
   "source": [
    "**POZOROVANIE:** Môžeme vidieť, že hodnoty sa pohybujú okolo **0.**. Usúdzujeme, že výsledky vyšetrenia sú malé desatinné čísla a všetkým väčším číslam by sme mali klásť väčší dôraz."
   ]
  },
  {
   "cell_type": "markdown",
   "metadata": {},
   "source": [
    "### Atribút - TSH measured"
   ]
  },
  {
   "cell_type": "code",
   "execution_count": null,
   "metadata": {},
   "outputs": [],
   "source": [
    "# Výpis prvých 5 záznamov pre daný atribút\n",
    "data['TSH measured'].value_counts()"
   ]
  },
  {
   "cell_type": "markdown",
   "metadata": {},
   "source": [
    "**POZOROVANIE:** Usudzujeme, že tento atribút nám hovorí o tom, či je daný pacient podstúpil vyšetrenie. Existujú len dva stavy. Buď podstúpil (t) alebo nepodstúpil(f). Preto budeme tento atribút považovat za **kategorický binárny atribút**"
   ]
  },
  {
   "cell_type": "markdown",
   "metadata": {},
   "source": [
    "**KOREKCIA:** Prekonvertujeme si formát dát na boolean hodnoty"
   ]
  },
  {
   "cell_type": "code",
   "execution_count": null,
   "metadata": {
    "scrolled": true
   },
   "outputs": [],
   "source": [
    "# Mapovanie True a False na hodnoty podľa toho ake si zvolíme\n",
    "column = '_TSH_measured'\n",
    "data[column] = data['TSH measured'].map({'t': True, 'f': False})\n",
    "data[column].value_counts()"
   ]
  },
  {
   "cell_type": "markdown",
   "metadata": {},
   "source": [
    "### Atribút - T3"
   ]
  },
  {
   "cell_type": "markdown",
   "metadata": {},
   "source": [
    "*POZNÁMKA - Prvým izolovaným hormónom produkovaným štítnou žľazou bol hormón T4. Spočiatku bol považovaný za hlavný hormón štítnej žľazy, neskôr sa však ukázalo, že ide skôr o prohormón, pretože doposiaľ nebola zistená žiadna jeho priama akcia v tele. Jeho aktivita je nepriama, nakoľko slúži ako zdroj pre vytváranie aktívneho hormónu T3.\n",
    "Časť T3 (asi 20%) pochádza priamo zo štítnej žľazy, zvyšok vzniká konverziou T4 na T3 v pečeni, obličkách, svaloch a centrálnom nervovom systéme. Nie všetka T4-ka sa transformuje na T3-ku. T4 predstavuje zásobáreň neaktívneho hormónu štítnej žľazy v krvi.\n",
    "Hladina hormónov T4 a T3 je riadená spätnoväzobným mechanizmom prostredníctvom hormónu TSH. Ak je hladina T4 a T3 zvýšená, klesne hladina TSH, čím sa obmedzí tvorba hormónov a naopak, ak je hladina nízka, zvýši sa TSH, čo vedie k zvýšeniu produkcie štítnej žľazy. TSH pôsobí aj na veľkosť štítnej žľazy. Nízka hladina TSH znamená jej zmenšovanie.*\n",
    "Viac tu: [https://vsetkooanabolikach.webnode.sk/news/t3-je-jednou-z-najucinnejsich-latok-v-boji-proti-tuku-/]"
   ]
  },
  {
   "cell_type": "code",
   "execution_count": null,
   "metadata": {},
   "outputs": [],
   "source": [
    "# Výpis prvých 5 záznamov pre daný atribút\n",
    "data['T3'].head()"
   ]
  },
  {
   "cell_type": "markdown",
   "metadata": {},
   "source": [
    "**POZOROVANIE:** Na základe vyšieho opisu a toho, že atribút v sebe nesie číselné hodnoty usudzujeme, že nám **vyšetrení hladiny hormónu v krvi**. Tieto hodnoty budeme považovať za **spojitý (kvantitatívny) pomerový atribút**. Vidíme, že niektoré hodnoty sú NaN, takže stĺpec bude potrebné očistiť o tieto hodnoty alebo si ich upraviť.)"
   ]
  },
  {
   "cell_type": "code",
   "execution_count": null,
   "metadata": {
    "scrolled": true
   },
   "outputs": [],
   "source": [
    "# vykonáme deskriptívnu štatistiku\n",
    "data['T3'].describe()"
   ]
  },
  {
   "cell_type": "code",
   "execution_count": null,
   "metadata": {},
   "outputs": [],
   "source": [
    "# Pozrieme sa na najbežnejšie hodnoty\n",
    "atribute = 'T3'\n",
    "sample = data.loc[data[atribute].notna(), atribute]\n",
    "#sample = data[atribute].interpolate()\n",
    "_ = plt.hist(sample, bins=100)\n",
    "_ = plt.xlabel('hladina hormónu ' + atribute)\n",
    "_ = plt.ylabel('počet pacientov')"
   ]
  },
  {
   "cell_type": "code",
   "execution_count": null,
   "metadata": {},
   "outputs": [],
   "source": [
    "data['T3'].mode()"
   ]
  },
  {
   "cell_type": "markdown",
   "metadata": {},
   "source": [
    "**POZOROVANIE:** Môžeme vidieť, že hodnoty sa pohybujú okolo **2.**. Usúdzujeme, že výsledky vyšetrenia sú malé desatinné čísla a všetkým väčším číslam by sme mali klásť väčší dôraz."
   ]
  },
  {
   "cell_type": "markdown",
   "metadata": {},
   "source": [
    "### Atribút - T3 measured"
   ]
  },
  {
   "cell_type": "code",
   "execution_count": null,
   "metadata": {},
   "outputs": [],
   "source": [
    "# Výpis prvých 5 záznamov pre daný atribút\n",
    "data['T3 measured'].value_counts()"
   ]
  },
  {
   "cell_type": "markdown",
   "metadata": {},
   "source": [
    "**POZOROVANIE:** Usudzujeme, že tento atribút nám hovorí o tom, či je daný pacient podstúpil vyšetrenie. Existujú len dva stavy. Buď podstúpil (t) alebo nepodstúpil(f). Preto budeme tento atribút považovat za **kategorický binárny atribút**"
   ]
  },
  {
   "cell_type": "markdown",
   "metadata": {},
   "source": [
    "**KOREKCIA:** Prekonvertujeme si formát dát na boolean hodnoty"
   ]
  },
  {
   "cell_type": "code",
   "execution_count": null,
   "metadata": {
    "scrolled": true
   },
   "outputs": [],
   "source": [
    "# Mapovanie True a False na hodnoty podľa toho ake si zvolíme\n",
    "column = '_T3_measured'\n",
    "data[column] = data['T3 measured'].replace({'t': True, 'f': False})\n",
    "data[column].value_counts()"
   ]
  },
  {
   "cell_type": "markdown",
   "metadata": {},
   "source": [
    "### Atribút - TT4"
   ]
  },
  {
   "cell_type": "markdown",
   "metadata": {},
   "source": [
    "*POZNÁMKA - Prvým izolovaným hormónom produkovaným štítnou žľazou bol hormón T4. Spočiatku bol považovaný za hlavný hormón štítnej žľazy, neskôr sa však ukázalo, že ide skôr o prohormón, pretože doposiaľ nebola zistená žiadna jeho priama akcia v tele. Jeho aktivita je nepriama, nakoľko slúži ako zdroj pre vytváranie aktívneho hormónu T3.\n",
    "Časť T3 (asi 20%) pochádza priamo zo štítnej žľazy, zvyšok vzniká konverziou T4 na T3 v pečeni, obličkách, svaloch a centrálnom nervovom systéme. Nie všetka T4-ka sa transformuje na T3-ku. T4 predstavuje zásobáreň neaktívneho hormónu štítnej žľazy v krvi.\n",
    "Hladina hormónov T4 a T3 je riadená spätnoväzobným mechanizmom prostredníctvom hormónu TSH. Ak je hladina T4 a T3 zvýšená, klesne hladina TSH, čím sa obmedzí tvorba hormónov a naopak, ak je hladina nízka, zvýši sa TSH, čo vedie k zvýšeniu produkcie štítnej žľazy. TSH pôsobí aj na veľkosť štítnej žľazy. Nízka hladina TSH znamená jej zmenšovanie.*\n",
    "Viac tu: [https://vsetkooanabolikach.webnode.sk/news/t3-je-jednou-z-najucinnejsich-latok-v-boji-proti-tuku-/]"
   ]
  },
  {
   "cell_type": "code",
   "execution_count": null,
   "metadata": {},
   "outputs": [],
   "source": [
    "# Výpis prvých 5 záznamov pre daný atribút\n",
    "data['TT4'].head()"
   ]
  },
  {
   "cell_type": "markdown",
   "metadata": {},
   "source": [
    "**POZOROVANIE:** Na základe vyšieho opisu a toho, že atribút v sebe nesie číselné hodnoty usudzujeme, že nám **vyšetrení hladiny hormónu v krvi**. Tieto hodnoty budeme považovať za **spojitý (kvantitatívny) pomerový atribút**."
   ]
  },
  {
   "cell_type": "code",
   "execution_count": null,
   "metadata": {},
   "outputs": [],
   "source": [
    "# vykonáme deskriptívnu štatistiku\n",
    "data['TT4'].describe()"
   ]
  },
  {
   "cell_type": "code",
   "execution_count": null,
   "metadata": {},
   "outputs": [],
   "source": [
    "# Pozrieme sa na najbežnejšie hodnoty\n",
    "atribute = 'TT4'\n",
    "sample = data.loc[data[atribute].notna(), atribute]\n",
    "#sample = data[atribute].interpolate()\n",
    "_ = plt.hist(sample, bins=100)\n",
    "_ = plt.xlabel('hladina hormónu ' + atribute)\n",
    "_ = plt.ylabel('počet pacientov')"
   ]
  },
  {
   "cell_type": "code",
   "execution_count": null,
   "metadata": {},
   "outputs": [],
   "source": [
    "data['TT4'].mode()"
   ]
  },
  {
   "cell_type": "markdown",
   "metadata": {},
   "source": [
    "**POZOROVANIE:** Môžeme vidieť, že hodnoty sa pohybujú okolo **101.**. Usúdzujeme, že výsledky vyšetrenia sú malé desatinné čísla a všetkým väčším číslam by sme mali klásť väčší dôraz."
   ]
  },
  {
   "cell_type": "markdown",
   "metadata": {},
   "source": [
    "### Atribút - TT4 measured"
   ]
  },
  {
   "cell_type": "code",
   "execution_count": null,
   "metadata": {},
   "outputs": [],
   "source": [
    "# Výpis prvých 5 záznamov pre daný atribút\n",
    "data['TT4 measured'].value_counts()"
   ]
  },
  {
   "cell_type": "markdown",
   "metadata": {},
   "source": [
    "**POZOROVANIE:** Usudzujeme, že tento atribút nám hovorí o tom, či je daný pacient podstúpil vyšetrenie. Existujú len dva stavy. Buď podstúpil (t) alebo nepodstúpil(f). Preto budeme tento atribút považovat za **kategorický binárny atribút**"
   ]
  },
  {
   "cell_type": "markdown",
   "metadata": {},
   "source": [
    "**KOREKCIA:** Prekonvertujeme si formát dát na boolean hodnoty"
   ]
  },
  {
   "cell_type": "code",
   "execution_count": null,
   "metadata": {
    "scrolled": false
   },
   "outputs": [],
   "source": [
    "# Mapovanie True a False na hodnoty podľa toho ake si zvolíme\n",
    "column = '_TT4_measured'\n",
    "data[column] = data['TT4 measured'].replace({'t': True, 'f': False})\n",
    "data[column].value_counts()"
   ]
  },
  {
   "cell_type": "markdown",
   "metadata": {},
   "source": [
    "### Atribút - T4U"
   ]
  },
  {
   "cell_type": "markdown",
   "metadata": {},
   "source": [
    "*POZNÁMKA - *"
   ]
  },
  {
   "cell_type": "code",
   "execution_count": null,
   "metadata": {},
   "outputs": [],
   "source": [
    "# Výpis prvých 5 záznamov pre daný atribút\n",
    "data['T4U'].head()"
   ]
  },
  {
   "cell_type": "markdown",
   "metadata": {},
   "source": [
    "**POZOROVANIE:** Na základe vyšieho opisu a toho, že atribút v sebe nesie číselné hodnoty usudzujeme, že nám **vyšetrení hladiny hormónu v krvi**. Tieto hodnoty budeme považovať za **spojitý (kvantitatívny) pomerový atribút**."
   ]
  },
  {
   "cell_type": "code",
   "execution_count": null,
   "metadata": {},
   "outputs": [],
   "source": [
    "# vykonáme deskriptívnu štatistiku\n",
    "data['T4U'].describe()"
   ]
  },
  {
   "cell_type": "code",
   "execution_count": null,
   "metadata": {},
   "outputs": [],
   "source": [
    "# Pozrieme sa na najbežnejšie hodnoty\n",
    "atribute = 'T4U'\n",
    "sample = data.loc[data[atribute].notna(), atribute]\n",
    "#sample = data[atribute].interpolate()\n",
    "_ = plt.hist(sample, bins=100)\n",
    "_ = plt.xlabel('hladina hormónu ' + atribute)\n",
    "_ = plt.ylabel('počet pacientov')"
   ]
  },
  {
   "cell_type": "code",
   "execution_count": null,
   "metadata": {},
   "outputs": [],
   "source": [
    "data['T4U'].mode()"
   ]
  },
  {
   "cell_type": "markdown",
   "metadata": {},
   "source": [
    "**POZOROVANIE:** Môžeme vidieť, že hodnoty sa pohybujú okolo **0.99**. Usúdzujeme, že výsledky vyšetrenia sú malé desatinné čísla a všetkým väčším číslam by sme mali klásť väčší dôraz."
   ]
  },
  {
   "cell_type": "markdown",
   "metadata": {},
   "source": [
    "### Atribút - TT4 measured"
   ]
  },
  {
   "cell_type": "code",
   "execution_count": null,
   "metadata": {},
   "outputs": [],
   "source": [
    "# Výpis prvých 5 záznamov pre daný atribút\n",
    "data['TT4 measured'].value_counts()"
   ]
  },
  {
   "cell_type": "markdown",
   "metadata": {},
   "source": [
    "**POZOROVANIE:** Usudzujeme, že tento atribút nám hovorí o tom, či je daný pacient podstúpil vyšetrenie. Existujú len dva stavy. Buď podstúpil (t) alebo nepodstúpil(f). Preto budeme tento atribút považovat za **kategorický binárny atribút**"
   ]
  },
  {
   "cell_type": "markdown",
   "metadata": {},
   "source": [
    "**KOREKCIA:** Prekonvertujeme si formát dát na boolean hodnoty"
   ]
  },
  {
   "cell_type": "code",
   "execution_count": null,
   "metadata": {
    "scrolled": true
   },
   "outputs": [],
   "source": [
    "# Mapovanie True a False na hodnoty podľa toho ake si zvolíme\n",
    "column = '_TT4_measured'\n",
    "data[column] = data['TT4 measured'].replace({'t': True, 'f': False})\n",
    "data[column].value_counts()"
   ]
  },
  {
   "cell_type": "markdown",
   "metadata": {},
   "source": [
    "### Atribút - FTI"
   ]
  },
  {
   "cell_type": "markdown",
   "metadata": {},
   "source": [
    "*POZNÁMKA - *Index volného tyroxinu. Voľný tyroxín (T4) môže byť meraný priamo (FT4) alebo kalkulovaný ako index voľného tyroxínu (FTI). FTI popisuje, ako veľa voľného T4 je prítomné v porovnaní s viazaným T4. FTI nám pomáha povedať, či abnormálne množstvá T4 sú prítomné kvôli abnormálnym množstvám TBG (thyroxine-binding globulin)."
   ]
  },
  {
   "cell_type": "code",
   "execution_count": null,
   "metadata": {},
   "outputs": [],
   "source": [
    "data['FTI'].head()"
   ]
  },
  {
   "cell_type": "markdown",
   "metadata": {},
   "source": [
    "**POZOROVANIE:** Na základe vyšieho opisu a toho, že atribút v sebe nesie číselné hodnoty usudzujeme, že nám **vyšetrení hladiny hormónu v krvi**. Tieto hodnoty budeme považovať za **spojitý (kvantitatívny) pomerový atribút**."
   ]
  },
  {
   "cell_type": "code",
   "execution_count": null,
   "metadata": {},
   "outputs": [],
   "source": [
    "# vykonáme deskriptívnu štatistiku\n",
    "data['T4U'].describe()"
   ]
  },
  {
   "cell_type": "code",
   "execution_count": null,
   "metadata": {},
   "outputs": [],
   "source": [
    "# Pozrieme sa na najbežnejšie hodnoty\n",
    "atribute = 'FTI'\n",
    "sample = data.loc[data[atribute].notna(), atribute]\n",
    "#sample = data[atribute].interpolate()\n",
    "_ = plt.hist(sample, bins=100)\n",
    "_ = plt.xlabel('hladina hormónu ' + atribute)\n",
    "_ = plt.ylabel('počet pacientov')"
   ]
  },
  {
   "cell_type": "code",
   "execution_count": null,
   "metadata": {},
   "outputs": [],
   "source": [
    "data['FTI'].mode()"
   ]
  },
  {
   "cell_type": "markdown",
   "metadata": {},
   "source": [
    "**POZOROVANIE:** "
   ]
  },
  {
   "cell_type": "markdown",
   "metadata": {},
   "source": [
    "### Atribút - FTI measured"
   ]
  },
  {
   "cell_type": "code",
   "execution_count": null,
   "metadata": {},
   "outputs": [],
   "source": [
    "data['FTI measured'].head()"
   ]
  },
  {
   "cell_type": "code",
   "execution_count": null,
   "metadata": {},
   "outputs": [],
   "source": [
    "data['FTI measured'].value_counts()"
   ]
  },
  {
   "cell_type": "markdown",
   "metadata": {},
   "source": [
    "**POZOROVANIE:** Usudzujeme, že tento atribút nám hovorí o tom, či je daný pacient podstúpil vyšetrenie. Existujú len dva stavy. Buď podstúpil (t) alebo nepodstúpil(f). Preto budeme tento atribút považovat za **kategorický binárny atribút**"
   ]
  },
  {
   "cell_type": "markdown",
   "metadata": {},
   "source": [
    "**KOREKCIA:** Prekonvertujeme si formát dát na boolean hodnoty"
   ]
  },
  {
   "cell_type": "code",
   "execution_count": null,
   "metadata": {},
   "outputs": [],
   "source": [
    "# Mapovanie True a False na hodnoty podľa toho ake si zvolíme\n",
    "column = '_FTI_measured'\n",
    "data[column] = data['FTI measured'].replace({'t': True, 'f': False})\n",
    "data[column].value_counts()"
   ]
  },
  {
   "cell_type": "markdown",
   "metadata": {},
   "source": [
    "### Atribút - TBG"
   ]
  },
  {
   "cell_type": "markdown",
   "metadata": {},
   "source": [
    "*POZNÁMKA - * Thyroid-binding globulin (TBG) je produkovaný v pečeni a viaže tyroidové hormóny v cirkulácii. Je to jeden z troch transportných proteínov, zodpovedných za nosenie tyroidových hormńov tyroxín (T4) a triodotrynov (T3) v krvnom obehu.\n",
    "\n",
    " "
   ]
  },
  {
   "cell_type": "code",
   "execution_count": null,
   "metadata": {},
   "outputs": [],
   "source": [
    "data['TBG'].head()"
   ]
  },
  {
   "cell_type": "code",
   "execution_count": null,
   "metadata": {},
   "outputs": [],
   "source": [
    "data['TBG'].unique()"
   ]
  },
  {
   "cell_type": "markdown",
   "metadata": {},
   "source": [
    "**POZOROVANIE:** NA základe toho, že všetky hodnoty atribútu TBG sú neznáme tak tento atribút môžeme vynechať. Deskriptívne štatistiky nemajú zmysel."
   ]
  },
  {
   "cell_type": "markdown",
   "metadata": {},
   "source": [
    "**KOREKCIA:** tento atribút je vhodné zmazať, pretože nám neposkytuje žiadne údaje. "
   ]
  },
  {
   "cell_type": "markdown",
   "metadata": {},
   "source": [
    "### Atribút - TBG measured"
   ]
  },
  {
   "cell_type": "code",
   "execution_count": null,
   "metadata": {},
   "outputs": [],
   "source": [
    "data['TBG measured'].head()"
   ]
  },
  {
   "cell_type": "code",
   "execution_count": null,
   "metadata": {},
   "outputs": [],
   "source": [
    "data['TBG measured'].value_counts()"
   ]
  },
  {
   "cell_type": "markdown",
   "metadata": {},
   "source": [
    "**POZOROVANIE:** Na základe toho, že atribút TBG očividne nebol zaznamenaný môžeme vidieť že nebol meraný ani pri jednom pacientovi."
   ]
  },
  {
   "cell_type": "markdown",
   "metadata": {},
   "source": [
    "**KOREKCIA:** Tento atribút môžeme odstrániť"
   ]
  },
  {
   "cell_type": "markdown",
   "metadata": {},
   "source": [
    "### Atribút - referral source"
   ]
  },
  {
   "cell_type": "code",
   "execution_count": null,
   "metadata": {},
   "outputs": [],
   "source": [
    "# výpis prvých 5 hodnôt atribútu\n",
    "data['referral source'].head()"
   ]
  },
  {
   "cell_type": "code",
   "execution_count": null,
   "metadata": {},
   "outputs": [],
   "source": [
    "# Výpis unikátnych hodnôt a ich počtov\n",
    "data['referral source'].value_counts()"
   ]
  },
  {
   "cell_type": "markdown",
   "metadata": {},
   "source": [
    "**POZOROVANIE:** referral source v preklade znamená referenčný zdroj. na prvý pohľad vidíme, že obsahuje 5 rôznych hondnôt - SVI, SVHC, STMW, SVHB. Sú to metódy testovania. Referenčný zdroj budeme považovat za kategorický nominálny atribút."
   ]
  },
  {
   "cell_type": "markdown",
   "metadata": {},
   "source": [
    "**KOREKCIA:** v tomto atribúte sa nenachádzajú žiadne podozrivé hodnoty, ktoré by si vyžadovali úpravu."
   ]
  },
  {
   "cell_type": "markdown",
   "metadata": {},
   "source": [
    "### Atribút - class"
   ]
  },
  {
   "cell_type": "code",
   "execution_count": null,
   "metadata": {},
   "outputs": [],
   "source": [
    "# výpis prvých 5 hodnôt atribútu\n",
    "data['class'].head()"
   ]
  },
  {
   "cell_type": "markdown",
   "metadata": {},
   "source": [
    "**POZOROVANIE:** Pri prvom pohľade vidíme jeden problém a to že tento stĺpec vieme rozdeliť do dvoch rôznych. Prvý podľa obsahu indikuje že sa jedná o stav liečby, ktorá je na pacientoví vykonávaná (replacement therapy je hormonálna terapia, ktorou sa pacientovi do tela dodáva chýbajúci hormón). "
   ]
  },
  {
   "cell_type": "markdown",
   "metadata": {},
   "source": [
    "**KOREKCIA:** rozdelenie tohto atribútu do dvoch separátnych a následné upravenie hodnôt vo vzniknutých atribútoch ak to bude treba."
   ]
  },
  {
   "cell_type": "code",
   "execution_count": null,
   "metadata": {},
   "outputs": [],
   "source": [
    "_ = pd.DataFrame(data[\"class\"].str.split('\\.\\|').tolist(), columns = ['unknown_1','unknown_2'])"
   ]
  },
  {
   "cell_type": "markdown",
   "metadata": {},
   "source": [
    "### Atribút - fnlwgt"
   ]
  },
  {
   "cell_type": "code",
   "execution_count": null,
   "metadata": {},
   "outputs": [],
   "source": [
    "# výpis prvých 5 hodnôt atribútu\n",
    "data['fnlwgt'].head()"
   ]
  },
  {
   "cell_type": "markdown",
   "metadata": {},
   "source": [
    "**POZOROVANIE:** fnlwgt [https://www.kaggle.com/uciml/adult-census-income] - skratka od **final weight** - váha pozorovaného segmentu"
   ]
  },
  {
   "cell_type": "markdown",
   "metadata": {},
   "source": [
    "### Atribút - education"
   ]
  },
  {
   "cell_type": "code",
   "execution_count": null,
   "metadata": {},
   "outputs": [],
   "source": [
    "# výpis prvých 5 hodnôt atribútu\n",
    "data['education'].head()"
   ]
  },
  {
   "cell_type": "code",
   "execution_count": 29,
   "metadata": {},
   "outputs": [
    {
     "data": {
      "text/plain": [
       "<matplotlib.axes._subplots.AxesSubplot at 0x1a167f7860>"
      ]
     },
     "execution_count": 29,
     "metadata": {},
     "output_type": "execute_result"
    },
    {
     "data": {
      "image/png": "[encoded data removed]",
      "text/plain": [
       "<matplotlib.figure.Figure at 0x10e90ae48>"
      ]
     },
     "metadata": {},
     "output_type": "display_data"
    }
   ],
   "source": [
    "data['education'].value_counts().plot(kind=\"bar\")"
   ]
  },
  {
   "cell_type": "code",
   "execution_count": 30,
   "metadata": {},
   "outputs": [
    {
     "data": {
      "text/plain": [
       "count         2800\n",
       "unique          16\n",
       "top        HS-grad\n",
       "freq           894\n",
       "Name: education, dtype: object"
      ]
     },
     "execution_count": 30,
     "metadata": {},
     "output_type": "execute_result"
    }
   ],
   "source": [
    "# zistíme si základné charakteristiky záznamov\n",
    "data['education'].describe()"
   ]
  },
  {
   "cell_type": "markdown",
   "metadata": {},
   "source": [
    "**POZOROVANIE:** education - v preklade znamená vzdelanie. Tento atribút nám hovorí tom, aké má pacient dosiahnuté maximálne vzdelanie. V datasete vidíme že má niekoľko unikátnych hodnôt, pričom najviac pacientov dosiahlo vzdelanie hodnoty \"HS-grad\" teda stredoškolské vzdelanie s maturitou. Podľa názvu tohto atribútu môžme povedať, že bude nejakým spôsobom súvisieť s atribútom \"education-num\". Vzdelanie budeme považovať za **kategorický ordinálny atribút**. "
   ]
  },
  {
   "cell_type": "code",
   "execution_count": null,
   "metadata": {},
   "outputs": [],
   "source": [
    "# pozrieme sa na stĺpce education a education-num\n",
    "data[['education', 'education-num']].head(20)"
   ]
  },
  {
   "cell_type": "markdown",
   "metadata": {},
   "source": [
    "**POZOROVANIE:** Na prvý pohľad vieme povedať, že jednotlivé stupne vzdelania by mali mať rovnaké education-num, no v našom prípade nemajú. Vidíme však istú podobnosť v jednotlivých hodnotách, napríklad že väčšinou stupeň \"HS-grad\" má education-num 9, no vyskytujú sa aj hodnoty, ako -900, alebo 900. Hodnoty sú vo veľkom nepomere ale zhodujú sa v číslici 9. Rovnakú podobnosť vidíme aj pri ostatných stupňoch vzdelania. "
   ]
  },
  {
   "cell_type": "markdown",
   "metadata": {},
   "source": [
    "### Atribút - education-num"
   ]
  },
  {
   "cell_type": "code",
   "execution_count": null,
   "metadata": {},
   "outputs": [],
   "source": [
    "data['education-num'].head()"
   ]
  },
  {
   "cell_type": "code",
   "execution_count": 36,
   "metadata": {},
   "outputs": [
    {
     "data": {
      "text/plain": [
       "<matplotlib.axes._subplots.AxesSubplot at 0x1a1fe95198>"
      ]
     },
     "execution_count": 36,
     "metadata": {},
     "output_type": "execute_result"
    },
    {
     "data": {
      "image/png": "[encoded data removed]",
      "text/plain": [
       "<matplotlib.figure.Figure at 0x10e90ac18>"
      ]
     },
     "metadata": {},
     "output_type": "display_data"
    }
   ],
   "source": [
    "data['education-num'].value_counts().plot(kind='bar')"
   ]
  },
  {
   "cell_type": "code",
   "execution_count": null,
   "metadata": {},
   "outputs": [],
   "source": []
  },
  {
   "cell_type": "markdown",
   "metadata": {},
   "source": [
    "**POZOROVANIE:** Education-num - číselné označenie stupňa vzdelania. Pri tomto atribúte môžme povedať že vyjadruje rovnakú vec ako atribút \"education\", ale tento ho vyjadruje ako Number narozdiel od education, ktorý ju vyjadruje ako String. Vzdelanie budeme považovať za **kategorický ordinálny atribút**. [https://en.wikipedia.org/wiki/Educational_stage]"
   ]
  },
  {
   "cell_type": "markdown",
   "metadata": {},
   "source": [
    "**KOREKCIA:** Jednotlivé hodnoty treba dať do jednotného formátu, teda hodnoty ako 900, alebo -900 musíme zmeniť na 9 a podobne pri všetkých ostatných hodnotách, ktoré prejavujú istú podobnosť. "
   ]
  },
  {
   "cell_type": "markdown",
   "metadata": {},
   "source": [
    "# Dobrá práca Vyskoč ! skoč na to."
   ]
  },
  {
   "cell_type": "markdown",
   "metadata": {},
   "source": [
    "### Spojité atribúty (Kvantitatívne)\n",
    "#### Intervalové\n",
    "age, date_of_birth, hours-per-week <br/> \n",
    "#### Pomerové\n",
    "TSH, T3, TT4, T4U, FTI, fnlwgt, capital-gain, capitital-loss <br/>\n",
    "### Kategorické atribúty\n",
    "#### Nominálne atribúty (hint. kategórie, stavy, mená, lable, tagy)\n",
    "referral source - <br/>\n",
    "class - <br/>\n",
    "personal_info - <br/>\n",
    "##### Binárne atribúty (hint. kategórie, stavy, mená, lable, tagy)\n",
    "*Symetrické*<br/>\n",
    "sex [M,F] - M = muž, F = žena<br/>\n",
    "on thyroxine [f, t] - f = false, t = true  <br/>\n",
    "sick [f, t] - f = false, t = true<br/>\n",
    "pregnant [f, t] - f = false, t = true<br/>\n",
    "thyroid surgery [f, t] - f = false, t = true<br/>\n",
    "I131 treatment [f, t] - f = false, t = true<br/>\n",
    "on antithyroid medication [f, t] - f = false, t = true<br/>\n",
    "query hypothyroid [f, t] - f = false, t = true<br/>\n",
    "lithium [f, t] - f = false, t = true<br/>\n",
    "goitre [f, t] - f = false, t = true<br/>\n",
    "tumor [f, t] - f = false, t = true<br/>\n",
    "hypopituitary [f, t] - f = false, t = true<br/>\n",
    "psych [f, t] - f = false, t = true<br/>\n",
    "TSH measured [t, f] - f = false, t = true<br/>\n",
    "T3 measured [t, f] - f = false, t = true<br/>\n",
    "TT4 measured [t, f] - f = false, t = true<br/>\n",
    "T4U measured [f, t] - f = false, t = true<br/>\n",
    "FTI measured [f, t] - f = false, t = true<br/>\n",
    "TBG measured [f, t] - f = false, t = true<br/>\n",
    "#### Ordinálne\n",
    "education [] - <br/>\n",
    "education_num - <br/>"
   ]
  },
  {
   "cell_type": "markdown",
   "metadata": {},
   "source": [
    "# Analýza atribútov po pároch (Bivariate analysis)\n",
    "V tejto časti sú vysvetlené a zobrazené vlastnosti atribútov, ktoré spolu môžu súvisieť."
   ]
  },
  {
   "cell_type": "code",
   "execution_count": 48,
   "metadata": {
    "scrolled": true
   },
   "outputs": [
    {
     "data": {
      "text/plain": [
       "<matplotlib.axes._subplots.AxesSubplot at 0x1a22501ef0>"
      ]
     },
     "execution_count": 48,
     "metadata": {},
     "output_type": "execute_result"
    },
    {
     "data": {
      "image/png": "[encoded data removed]",
      "text/plain": [
       "<matplotlib.figure.Figure at 0x1a20c80e10>"
      ]
     },
     "metadata": {},
     "output_type": "display_data"
    }
   ],
   "source": [
    "column = '_date_of_birth'\n",
    "# nastavíme si index na dátum narodenia\n",
    "sample = data.set_index([column])\n",
    "# vykreslíme si vek s dátumami\n",
    "sample.loc[(sample['age'].notna()),'age'].plot()"
   ]
  },
  {
   "cell_type": "markdown",
   "metadata": {},
   "source": [
    "**POZOROVANIE:** Z vykresleného môžeme usúdiť, že dataset bol vytvorený **okolo roku 2017**. Všetky dátumy narodenia vyššie ako 2017 môžeme považovať za zlé a tiež môžeme vidieť, že nejaké datumy narodenia nesedia s vekom. Niektore zle hodnoty je možné prekonvertovať spôsobom: 2057 -> 1957"
   ]
  },
  {
   "cell_type": "code",
   "execution_count": 43,
   "metadata": {},
   "outputs": [],
   "source": [
    "#pd.crosstab(index=data['TSH_measured'], columns=data['TSH']).plot(kind='box')"
   ]
  },
  {
   "cell_type": "code",
   "execution_count": null,
   "metadata": {},
   "outputs": [],
   "source": [
    "sample = data.dropna()\n",
    "seaborn.pairplot(sample.loc[:,['TSH', 'T4U', 'T3', 'TT4']])"
   ]
  },
  {
   "cell_type": "code",
   "execution_count": null,
   "metadata": {},
   "outputs": [],
   "source": [
    "fig, ax = plt.subplots(figsize=(10,8))\n",
    "seaborn.heatmap(sample.loc[:,['TSH', 'T4U', 'T3', 'TT4', ]].corr(), ax=ax, annot=True, fmt=\".3f\")"
   ]
  },
  {
   "cell_type": "code",
   "execution_count": 44,
   "metadata": {},
   "outputs": [
    {
     "data": {
      "text/plain": [
       "<matplotlib.axes._subplots.AxesSubplot at 0x1a21f6dda0>"
      ]
     },
     "execution_count": 44,
     "metadata": {},
     "output_type": "execute_result"
    },
    {
     "data": {
      "image/png": "[encoded data removed]",
      "text/plain": [
       "<matplotlib.figure.Figure at 0x1a219436a0>"
      ]
     },
     "metadata": {},
     "output_type": "display_data"
    }
   ],
   "source": [
    "pd.crosstab(index=data['education-num'], columns=data['education']).plot.bar(stacked=True)"
   ]
  }
 ],
 "metadata": {
  "kernelspec": {
   "display_name": "Python 3",
   "language": "python",
   "name": "python3"
  },
  "language_info": {
   "codemirror_mode": {
    "name": "ipython",
    "version": 3
   },
   "file_extension": ".py",
   "mimetype": "text/x-python",
   "name": "python",
   "nbconvert_exporter": "python",
   "pygments_lexer": "ipython3",
   "version": "3.6.4"
  }
 },
 "nbformat": 4,
 "nbformat_minor": 2
}
