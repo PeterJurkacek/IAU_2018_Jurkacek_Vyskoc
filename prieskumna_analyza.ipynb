{
 "cells": [
  {
   "cell_type": "markdown",
   "metadata": {},
   "source": [
    "# Prieskumná (Exploratívna) analýza dát\n",
    "Dáta predstavujú záznamy o pacientoch s chorobou štítnej žľazy. Cieľom je vedieť predikovať hodnotu Y. Cieľom tejto časti je zanalytovanie datasetu. Využívame exploratívnu analýzu, deskriptívnu štatistiku a rôzne podporné vizualizácie. Poukazujeme na viaceré problémy, ktoré sa v dátach\n",
    "nachádzajú (formáty dát, chýbajúce, nezmyselné alebo vychýlené hodnoty a pod.). "
   ]
  },
  {
   "cell_type": "code",
   "execution_count": 466,
   "metadata": {},
   "outputs": [],
   "source": [
    "%matplotlib inline\n",
    "import pandas as pd\n",
    "import numpy as np\n",
    "import matplotlib\n",
    "import matplotlib.pyplot as plt\n",
    "import scipy.stats as stats\n",
    "import seaborn\n",
    "from sklearn import linear_model as lm"
   ]
  },
  {
   "cell_type": "code",
   "execution_count": 467,
   "metadata": {},
   "outputs": [],
   "source": [
    "import dateutil.parser\n",
    "import datetime"
   ]
  },
  {
   "cell_type": "code",
   "execution_count": 468,
   "metadata": {},
   "outputs": [],
   "source": [
    "plt.rcParams['font.family'] = 'DejaVu Sans'\n",
    "plt.rcParams['figure.figsize'] = (8, 6)\n",
    "from IPython.display import Image, SVG, display"
   ]
  },
  {
   "cell_type": "markdown",
   "metadata": {},
   "source": [
    "**AKCIA:** Vypíšeme si časť surových dát aby sme skontrolovali, či majú správny formát csv súboru."
   ]
  },
  {
   "cell_type": "code",
   "execution_count": 29,
   "metadata": {},
   "outputs": [
    {
     "name": "stdout",
     "output_type": "stream",
     "text": [
      ",age,sex,on thyroxine,query on thyroxine,on antithyroid medication,sick,pregnant,thyroid surgery,I131 treatment,query hypothyroid,query hyperthyroid,lithium,goitre,tumor,hypopituitary,psych,TSH measured,TSH,T3 measured,T3,TT4 measured,TT4,T4U measured,T4U,FTI measured,FTI,TBG measured,TBG,referral source,class,fnlwgt,education,education-num,relationship,capital-gain,capital-loss,hours-per-week,date_of_birth,personal_info\n",
      "0,68,M,f,f,f,f,f,f,f,f,f,f,f,f,f,f,t,3.0,t,2.6,t,117.0,t,1.24,t,94,f,?,SVI,negative.|1231,96245, HS-grad,9, Husband,0.0,0,99,1949-07-30,\"Sales|United-States\n",
      "Married-civ-spouse -- Self-emp-inc|White\"\n",
      "1,42,F,f,f,f,f,f,f,f,f,f,f,f,f,f,f,t,1.8,t,2.0,t,66.0,t,0.93,t,71,f,?,SVHC,negative.|329,191177, HS-grad,9, Not-in-family,,0,55,1975-10-31,\"Exec-managerial|United-States\n",
      "Never-married -- Private|White\"\n",
      "2,27,F,f,f,f,f,f,f,f,f,f,f,f,f,f,f,t,2.2,t,2.3,t,105.0,t,0.97,t,109,f,?,other,negative.|2518,48585, Some-college,1000, Wife,0.0,0,4,1990-10-29 00:00:00,\"Prof-specialty|United-States\n",
      "Married-civ-spouse -- Self-emp-not-inc|White\"\n",
      "3,32,F,FALSE,f,f,f,f,f,f,f,f,f,f,f,f,f,t,7.9,t,2.2,t,76.0,t,1.01,t,75,f,?,SVHC,negative.|821,251526, Some-college,10, Wife,0.0,0,20,1985-10-28,\"Tech-support|United-States\n",
      "Married-civ-spouse -- Private|White\"\n",
      "4,23,F,f,f,f,f,f,f,f,f,f,f,f,f,f,f,t,1.9,t,1.6,t,88.0,t,0.89,t,100,f,?,other,negative.|951,175614, 10th,6, Unmarried,0.0,0,40,??,\"Other-service|United-States\n"
     ]
    }
   ],
   "source": [
    "%%bash \n",
    "head data/zadanie4/test.csv"
   ]
  },
  {
   "cell_type": "markdown",
   "metadata": {},
   "source": [
    "**POZOROVANIE:** Z prvých riadkov súboru sa zdá, že **atribúty** a ich hodnoty sú **odelené čiarkami** a **záznamy** sú **odelené znakom nového riadku**. Prvý riadok začína čiarkou, čo môže znamenať, že v súbore chýba názov prvého atribútu. Z hodnôt prislúchajúcich prvému atribútu odhadujeme, že sa jedná o **identifikačné číslo**."
   ]
  },
  {
   "cell_type": "markdown",
   "metadata": {},
   "source": [
    "**AKCIA:** Načítame si dataset s trénovacími dátami a vypíšeme si základnú informáciu o počte atribútov (stĺpcov) a počte záznamov (riadkov)"
   ]
  },
  {
   "cell_type": "markdown",
   "metadata": {},
   "source": [
    "**KOREKCIA:** Prvý stlpec si zadefinujeme ako index"
   ]
  },
  {
   "cell_type": "code",
   "execution_count": 375,
   "metadata": {},
   "outputs": [],
   "source": [
    "file_path = \"data/zadanie4/train.csv\"\n",
    "#file_path = \"data/zadanie4/test.csv\"\n",
    "# Načítame si súbor s datasetom so separátom ',' a ako index nastavime prvý stĺpec\n",
    "data = pd.read_csv(file_path, sep=',', index_col=0)\n",
    "# Pomenujeme si index\n",
    "data.index.name = 'id'"
   ]
  },
  {
   "cell_type": "code",
   "execution_count": 372,
   "metadata": {},
   "outputs": [
    {
     "name": "stdout",
     "output_type": "stream",
     "text": [
      "<class 'pandas.core.frame.DataFrame'>\n",
      "Int64Index: 2800 entries, 0 to 2799\n",
      "Data columns (total 39 columns):\n",
      "age                          2799 non-null float64\n",
      "sex                          2800 non-null object\n",
      "on thyroxine                 2800 non-null object\n",
      "query on thyroxine           2800 non-null object\n",
      "on antithyroid medication    2800 non-null object\n",
      "sick                         2800 non-null object\n",
      "pregnant                     2800 non-null object\n",
      "thyroid surgery              2800 non-null object\n",
      "I131 treatment               2800 non-null object\n",
      "query hypothyroid            2800 non-null object\n",
      "query hyperthyroid           2800 non-null object\n",
      "lithium                      2800 non-null object\n",
      "goitre                       2800 non-null object\n",
      "tumor                        2800 non-null object\n",
      "hypopituitary                2800 non-null object\n",
      "psych                        2800 non-null object\n",
      "TSH measured                 2800 non-null object\n",
      "TSH                          2516 non-null float64\n",
      "T3 measured                  2800 non-null object\n",
      "T3                           2215 non-null float64\n",
      "TT4 measured                 2800 non-null object\n",
      "TT4                          2616 non-null float64\n",
      "T4U measured                 2800 non-null object\n",
      "T4U                          2503 non-null float64\n",
      "FTI measured                 2800 non-null object\n",
      "FTI                          2800 non-null object\n",
      "TBG measured                 2800 non-null object\n",
      "TBG                          2800 non-null object\n",
      "referral source              2800 non-null object\n",
      "class                        2800 non-null object\n",
      "fnlwgt                       2800 non-null int64\n",
      "education                    2800 non-null object\n",
      "education-num                2800 non-null int64\n",
      "relationship                 2800 non-null object\n",
      "capital-gain                 2520 non-null float64\n",
      "capital-loss                 2800 non-null int64\n",
      "hours-per-week               2800 non-null int64\n",
      "date_of_birth                2610 non-null object\n",
      "personal_info                2800 non-null object\n",
      "dtypes: float64(6), int64(4), object(29)\n",
      "memory usage: 875.0+ KB\n"
     ]
    }
   ],
   "source": [
    "# Vypíšeme si základné informácie o datasete\n",
    "data.info()"
   ]
  },
  {
   "cell_type": "markdown",
   "metadata": {},
   "source": [
    "**POZOROVANIE:** Z týchto základných informácií môžeme pozorovať, že niektoré atribúty obsahujú aj **null hodnoty**. Pre atribúty **age, TSH, T3, TT4, T4U, capital-gain, date_of_birth** budeme musiet null hodnoty vhodne doplniť alebo vyradiť celý záznam z datasetu.\n",
    "Na prvý pohľad nazvy niektorých atribútov *(napr. T3, TT4, T4U atď.)* nevieme čo znamenajú a preto bude potreba si naštudovať doménovú oblasť a pokusiť sa ich **lepšie zadefinovať**. Názvy atribútov tiež niesu konzistentné. Pokiaľ sa atribút skladá z viacerých slov *(napr. pomlčka, medzera, počiarkovník)*.  \n",
    "**Počet riadkov:** 2800   \n",
    "**Počet stĺpcov:** 40  \n",
    "**Dátové typy:** float64(6), int64(4), object(29)  "
   ]
  },
  {
   "cell_type": "markdown",
   "metadata": {},
   "source": [
    "*POZNÁMKA: Doménový opis dát a ich definície sú v súbore data_description.txt*"
   ]
  },
  {
   "cell_type": "markdown",
   "metadata": {},
   "source": [
    "# Analyza atribútov (stĺpcov)\n",
    "V tejto časti si popíšeme každý jeden atribút osobitne."
   ]
  },
  {
   "cell_type": "markdown",
   "metadata": {},
   "source": [
    "### Atribút - age"
   ]
  },
  {
   "cell_type": "code",
   "execution_count": 6,
   "metadata": {},
   "outputs": [
    {
     "data": {
      "text/plain": [
       "id\n",
       "0    72.0\n",
       "1    52.0\n",
       "2    62.0\n",
       "3    23.0\n",
       "4    63.0\n",
       "Name: age, dtype: float64"
      ]
     },
     "execution_count": 6,
     "metadata": {},
     "output_type": "execute_result"
    }
   ],
   "source": [
    "# Výpis prvých 5 záznamov pre daný atribút\n",
    "data['age'].head()"
   ]
  },
  {
   "cell_type": "markdown",
   "metadata": {},
   "source": [
    "**POZOROVANIE:** Kedže \"age\" v preklade znamená **vek** a tento atribút v sebe nesie číselné hodnoty usudzujeme, že nám **hovorí o veku pacientov**. Vek budeme považovat za **spojitý (kvantitatívny) intervalový atribút** (To znamená, že nad ním môžeme vykonať výpočtovú deskriptívnu štatistiku.)"
   ]
  },
  {
   "cell_type": "code",
   "execution_count": 7,
   "metadata": {},
   "outputs": [
    {
     "data": {
      "text/plain": [
       "count    2799.00000\n",
       "mean       51.84423\n",
       "std        20.46116\n",
       "min         1.00000\n",
       "25%        36.00000\n",
       "50%        54.00000\n",
       "75%        67.00000\n",
       "max       455.00000\n",
       "Name: age, dtype: float64"
      ]
     },
     "execution_count": 7,
     "metadata": {},
     "output_type": "execute_result"
    }
   ],
   "source": [
    "# vykonáme deskriptívnu štatistiku\n",
    "data['age'].describe()"
   ]
  },
  {
   "cell_type": "markdown",
   "metadata": {},
   "source": [
    "**POZOROVANIE:** Jeden pacient **nemá zaznamenaný údaj o veku** a aspoň jeden pacient má vyplnený nezmyselný **vek 455 rokov**. Takéto nezmyselné hodnoty môžeme odstrániť alebo doplniť na základe priemerného veku pacientov **52 rokov**."
   ]
  },
  {
   "cell_type": "markdown",
   "metadata": {},
   "source": [
    "**KOREKCIA:** Vyfiltrujeme si hodnoty, ktoré potrebujeme zmeniť a vypočítame hodnotu **veku**. V prípade ak by boli dáta zaznemané v rovnakom roku boli by sme schopní vypočítať tento rok ako \"rok narodenia\" + \"prislúchajúci vek\" a **chýbajúce hodnoty** pre **vek** podľa atribútu \"vypočítaný rok\" - \"rok narodenia\". Z takto upraveného datasetu by sme museli dodatočne vyfiltrovať nezmyselné hodnoty a nahradiť ich za **priemerný vek** pacientov. V prípade ak dáta nie sú z jedného roku, doplníme chýbajúci vek **priemerným vekom** všetkých pacientov v datasete."
   ]
  },
  {
   "cell_type": "code",
   "execution_count": 8,
   "metadata": {},
   "outputs": [
    {
     "data": {
      "text/html": [
       "<div>\n",
       "<style scoped>\n",
       "    .dataframe tbody tr th:only-of-type {\n",
       "        vertical-align: middle;\n",
       "    }\n",
       "\n",
       "    .dataframe tbody tr th {\n",
       "        vertical-align: top;\n",
       "    }\n",
       "\n",
       "    .dataframe thead th {\n",
       "        text-align: right;\n",
       "    }\n",
       "</style>\n",
       "<table border=\"1\" class=\"dataframe\">\n",
       "  <thead>\n",
       "    <tr style=\"text-align: right;\">\n",
       "      <th></th>\n",
       "      <th>age</th>\n",
       "      <th>sex</th>\n",
       "      <th>on thyroxine</th>\n",
       "      <th>query on thyroxine</th>\n",
       "      <th>on antithyroid medication</th>\n",
       "      <th>sick</th>\n",
       "      <th>pregnant</th>\n",
       "      <th>thyroid surgery</th>\n",
       "      <th>I131 treatment</th>\n",
       "      <th>query hypothyroid</th>\n",
       "      <th>...</th>\n",
       "      <th>class</th>\n",
       "      <th>fnlwgt</th>\n",
       "      <th>education</th>\n",
       "      <th>education-num</th>\n",
       "      <th>relationship</th>\n",
       "      <th>capital-gain</th>\n",
       "      <th>capital-loss</th>\n",
       "      <th>hours-per-week</th>\n",
       "      <th>date_of_birth</th>\n",
       "      <th>personal_info</th>\n",
       "    </tr>\n",
       "    <tr>\n",
       "      <th>id</th>\n",
       "      <th></th>\n",
       "      <th></th>\n",
       "      <th></th>\n",
       "      <th></th>\n",
       "      <th></th>\n",
       "      <th></th>\n",
       "      <th></th>\n",
       "      <th></th>\n",
       "      <th></th>\n",
       "      <th></th>\n",
       "      <th></th>\n",
       "      <th></th>\n",
       "      <th></th>\n",
       "      <th></th>\n",
       "      <th></th>\n",
       "      <th></th>\n",
       "      <th></th>\n",
       "      <th></th>\n",
       "      <th></th>\n",
       "      <th></th>\n",
       "      <th></th>\n",
       "    </tr>\n",
       "  </thead>\n",
       "  <tbody>\n",
       "    <tr>\n",
       "      <th>476</th>\n",
       "      <td>NaN</td>\n",
       "      <td>F</td>\n",
       "      <td>t</td>\n",
       "      <td>f</td>\n",
       "      <td>f</td>\n",
       "      <td>f</td>\n",
       "      <td>f</td>\n",
       "      <td>f</td>\n",
       "      <td>t</td>\n",
       "      <td>f</td>\n",
       "      <td>...</td>\n",
       "      <td>negative.|1</td>\n",
       "      <td>122975</td>\n",
       "      <td>HS-grad</td>\n",
       "      <td>9</td>\n",
       "      <td>Wife</td>\n",
       "      <td>0.0</td>\n",
       "      <td>0</td>\n",
       "      <td>21</td>\n",
       "      <td>??</td>\n",
       "      <td>Machine-op-inspct|Trinadad&amp;Tobago\\nMarried-civ...</td>\n",
       "    </tr>\n",
       "    <tr>\n",
       "      <th>685</th>\n",
       "      <td>455.0</td>\n",
       "      <td>F</td>\n",
       "      <td>f</td>\n",
       "      <td>f</td>\n",
       "      <td>f</td>\n",
       "      <td>f</td>\n",
       "      <td>f</td>\n",
       "      <td>f</td>\n",
       "      <td>f</td>\n",
       "      <td>f</td>\n",
       "      <td>...</td>\n",
       "      <td>negative.|861</td>\n",
       "      <td>151474</td>\n",
       "      <td>9th</td>\n",
       "      <td>5</td>\n",
       "      <td>Unmarried</td>\n",
       "      <td>0.0</td>\n",
       "      <td>0</td>\n",
       "      <td>40</td>\n",
       "      <td>1563-01-24</td>\n",
       "      <td>Sales|United-States\\nDivorced -- Private|White</td>\n",
       "    </tr>\n",
       "  </tbody>\n",
       "</table>\n",
       "<p>2 rows × 39 columns</p>\n",
       "</div>"
      ],
      "text/plain": [
       "       age sex on thyroxine query on thyroxine on antithyroid medication sick  \\\n",
       "id                                                                              \n",
       "476    NaN   F            t                  f                         f    f   \n",
       "685  455.0   F            f                  f                         f    f   \n",
       "\n",
       "    pregnant thyroid surgery I131 treatment query hypothyroid  \\\n",
       "id                                                              \n",
       "476        f               f              t                 f   \n",
       "685        f               f              f                 f   \n",
       "\n",
       "                           ...                                  class  fnlwgt  \\\n",
       "id                         ...                                                  \n",
       "476                        ...                            negative.|1  122975   \n",
       "685                        ...                          negative.|861  151474   \n",
       "\n",
       "    education education-num relationship capital-gain capital-loss  \\\n",
       "id                                                                   \n",
       "476   HS-grad             9         Wife          0.0            0   \n",
       "685       9th             5    Unmarried          0.0            0   \n",
       "\n",
       "     hours-per-week date_of_birth  \\\n",
       "id                                  \n",
       "476              21            ??   \n",
       "685              40    1563-01-24   \n",
       "\n",
       "                                         personal_info  \n",
       "id                                                      \n",
       "476  Machine-op-inspct|Trinadad&Tobago\\nMarried-civ...  \n",
       "685     Sales|United-States\\nDivorced -- Private|White  \n",
       "\n",
       "[2 rows x 39 columns]"
      ]
     },
     "execution_count": 8,
     "metadata": {},
     "output_type": "execute_result"
    }
   ],
   "source": [
    "# Zistíme všetky hodnoty, ktoré sa nám zdajú nezmyslené alebo chýbajú\n",
    "data[(data['age'] < 1) | (data['age'] > 100) | (pd.isnull(data['age']))]"
   ]
  },
  {
   "cell_type": "code",
   "execution_count": 9,
   "metadata": {},
   "outputs": [
    {
     "data": {
      "text/plain": [
       "0    59.0\n",
       "dtype: float64"
      ]
     },
     "execution_count": 9,
     "metadata": {},
     "output_type": "execute_result"
    }
   ],
   "source": [
    "# Zistíme si mode (modus): najčastejšia hodnota (hodnota s najvačšou pravdepodobnostou vyskytu)\n",
    "data['age'].mode()"
   ]
  },
  {
   "cell_type": "markdown",
   "metadata": {},
   "source": [
    "**POZOROVANIE:** Môžeme si všimnúť, že väčšina pacientov v datasete je vo veku **59 rokov**."
   ]
  },
  {
   "cell_type": "markdown",
   "metadata": {},
   "source": [
    "### Atribút - date_of_birth"
   ]
  },
  {
   "cell_type": "code",
   "execution_count": 159,
   "metadata": {},
   "outputs": [
    {
     "data": {
      "text/plain": [
       "id\n",
       "0     1946-02-03\n",
       "1     1965-08-27\n",
       "2     1955-04-15\n",
       "3     1994-03-26\n",
       "4     1955-01-21\n",
       "5     1961-12-10\n",
       "6     1934-03-03\n",
       "7     1949-07-21\n",
       "8     1999-01-06\n",
       "9     1945-11-10\n",
       "10    1999-09-20\n",
       "11           NaN\n",
       "12           NaN\n",
       "13    1970-09-28\n",
       "14    1942-08-15\n",
       "15    07/07/1973\n",
       "16    1979-12-04\n",
       "17    18/01/1940\n",
       "18    15/10/1952\n",
       "19    1981-07-19\n",
       "Name: date_of_birth, dtype: object"
      ]
     },
     "execution_count": 159,
     "metadata": {},
     "output_type": "execute_result"
    }
   ],
   "source": [
    "# Výpis prvých 5 záznamov pre daný atribút\n",
    "data['date_of_birth'].head(20)"
   ]
  },
  {
   "cell_type": "markdown",
   "metadata": {},
   "source": [
    "**POZOROVANIE:** Kedže **date_of_birth** v preklade znamená **dátum narodenia** a tento atribút v sebe nesie rôzne dátumy usudzujeme, že nám **hovorí o dátume narodenia pacientov**. Dátum narodenia budeme považovat za **spojitý (kvantitatívny) intervalový atribút**. Hodnoty atribútu majú **rôzny formát** a obsahuju aj **nan** hodnoty."
   ]
  },
  {
   "cell_type": "markdown",
   "metadata": {},
   "source": [
    "**KOREKCIA:** Ujednotenie formátu dátumov."
   ]
  },
  {
   "cell_type": "code",
   "execution_count": 306,
   "metadata": {},
   "outputs": [
    {
     "data": {
      "text/plain": [
       "count                    2362\n",
       "unique                   2256\n",
       "top       1983-08-20 00:00:00\n",
       "freq                        3\n",
       "first     1923-05-30 00:00:00\n",
       "last      2067-09-01 00:00:00\n",
       "Name: clean_date, dtype: object"
      ]
     },
     "execution_count": 306,
     "metadata": {},
     "output_type": "execute_result"
    }
   ],
   "source": [
    "# Ujednotíme formát dátumov a všetky hodnoty z ktorých nebude možné vytvoriť date object preved na NaT hodnotu\n",
    "data['clean_date'] = pd.to_datetime(data['date_of_birth'], errors='coerce')\n",
    "# Vypíšeme si štatistiku\n",
    "data['clean_date'].describe()\n",
    "# Vyfiltrujeme si nezmyslený dátum\n",
    "# data[data['clean_date'] == '2067-09-01 00:00:00']"
   ]
  },
  {
   "cell_type": "markdown",
   "metadata": {},
   "source": [
    "**POZOROVANIE:** Po zjednoteni datumov možeme vidieť, že v dátach sú pacienti, ktorí sa ešte nenarodili **2067-09-01**. Táto hodnota je zlá lebo pôvodná hodnota v subore.csv bola **67-09-01**, čo pravdepodobne predstavovalo dátum **1967-09-01**. Kedže funckia to_datetime má svoje limitácie [http://pandas-docs.github.io/pandas-docs-travis/timeseries.html#timestamp-limitations]navrhujeme] v ďaľšej časti navrhujeme odstrániť tieto dátumy. "
   ]
  },
  {
   "cell_type": "markdown",
   "metadata": {},
   "source": [
    "**KOREKCIA:** Vlastná funkcionalita pre uprávu formátov dátumov. "
   ]
  },
  {
   "cell_type": "code",
   "execution_count": 308,
   "metadata": {},
   "outputs": [],
   "source": [
    "# kvoli http://pandas-docs.github.io/pandas-docs-travis/timeseries.html#timestamp-limitations\n",
    "# func konvertuje string na datetime\n",
    "# Otazka je ci to potrebujeme\n",
    "def my_to_datetime(val):\n",
    "    if pd.notnull(val) and type(val) is str:\n",
    "        val = (val.strip())[0:10]\n",
    "        try:\n",
    "            #return pd.to_datetime(str, errors='coerce')\n",
    "            # Keď nedokáže naparsovat string raisne exception\n",
    "            result = dateutil.parser.parse(val)\n",
    "            return result\n",
    "        except ValueError:\n",
    "            # Pokusi sa znova rozparsovat string na datum a v pripade ak sa jej to nepodari nastavi NaT\n",
    "            result = pd.to_datetime(str, errors='coerce')\n",
    "            return result\n",
    "    else:\n",
    "        result = pd.to_datetime('today')\n",
    "        return result\n",
    "    \n",
    "    \n",
    "    \n",
    "    "
   ]
  },
  {
   "cell_type": "code",
   "execution_count": 333,
   "metadata": {
    "scrolled": true
   },
   "outputs": [
    {
     "data": {
      "text/plain": [
       "count                    2710\n",
       "unique                   2400\n",
       "top       2018-03-18 00:00:00\n",
       "freq                      190\n",
       "Name: my_to_datetime, dtype: object"
      ]
     },
     "execution_count": 333,
     "metadata": {},
     "output_type": "execute_result"
    }
   ],
   "source": [
    "# Vytvoríme si stĺpec s hodnotami aj ktore su v zlom formate\n",
    "# https://pandas.pydata.org/pandas-docs/stable/generated/pandas.DataFrame.select_dtypes.html\n",
    "# data.loc[:'my_to_datetime',:].select_dtypes(include=[np.datetime64])\n",
    "data['my_to_datetime'] = data['date_of_birth'].apply(my_to_datetime)\n",
    "data['my_to_datetime'].describe()\n"
   ]
  },
  {
   "cell_type": "markdown",
   "metadata": {},
   "source": [
    "### Atribút - sex"
   ]
  },
  {
   "cell_type": "code",
   "execution_count": null,
   "metadata": {},
   "outputs": [],
   "source": [
    "# Výpis prvých 5 záznamov pre daný atribút\n",
    "data['sex'].head()"
   ]
  },
  {
   "cell_type": "markdown",
   "metadata": {},
   "source": [
    "**POZOROVANIE:** Kedže \"sex\" v preklade znamená **pohlavie** a na prvý pohľad vidíme hodnoty F *(female - žena)*, M *(male - muž)* usudzujeme, že nám hovorí o **pohlaví pacientov**. Pohlavie budeme považovat za **kategorický nominálny atribút**. "
   ]
  },
  {
   "cell_type": "markdown",
   "metadata": {},
   "source": [
    "*POZNÁMKA: Nemci uzákonili aj tretie pohlavie \"intersex\" [http://www.independent.co.uk/news/world/europe/germany-third-gender-male-female-intersex-court-parliament-bundesverfassungsgericht-berlin-lgbt-a8043261.html]*"
   ]
  },
  {
   "cell_type": "code",
   "execution_count": null,
   "metadata": {},
   "outputs": [],
   "source": [
    "# zistíme si základné charakteristiky záznamov\n",
    "data['sex'].describe()"
   ]
  },
  {
   "cell_type": "markdown",
   "metadata": {},
   "source": [
    "**POZOROVANIE:** V datasete sa nachádzajú **3 typy pohlaví**. Pacienti sú väčšinou **ženy**."
   ]
  },
  {
   "cell_type": "code",
   "execution_count": 331,
   "metadata": {
    "scrolled": true
   },
   "outputs": [
    {
     "data": {
      "text/plain": [
       "F    1830\n",
       "M     860\n",
       "?     110\n",
       "Name: sex, dtype: int64"
      ]
     },
     "execution_count": 331,
     "metadata": {},
     "output_type": "execute_result"
    }
   ],
   "source": [
    "# Vypíšeme si unikátne hodnoty daného atribútu\n",
    "data['sex'].unique()\n",
    "data['sex'].value_counts()"
   ]
  },
  {
   "cell_type": "markdown",
   "metadata": {},
   "source": [
    "**POZOROVANIE:** Dataset obsahuje tri pohlavia *F (female - žena), M (male - muž), **?** (chyba alebo intersex)*. Ak chýbajúcu hodnotu nebudeme považovať za tretie pohlavie budeme ju musieť vyzistiť z dalších atribútov."
   ]
  },
  {
   "cell_type": "code",
   "execution_count": null,
   "metadata": {},
   "outputs": [],
   "source": [
    "#Vyfiltrujeme si pacientov s nešpecifikovaným pohlavím.\n",
    "data[(data['sex'] == '?')].head()"
   ]
  },
  {
   "cell_type": "markdown",
   "metadata": {},
   "source": [
    "**POZOROVANIE:** Chýbajúcu hodnotu môžeme zistiť napríklad z atribútu **pregnant** alebo z atribútu **relationship**  "
   ]
  },
  {
   "cell_type": "markdown",
   "metadata": {},
   "source": [
    "**KOREKCIA:** Vyfiltrujeme si pacientov, ktorých pohlavie je neznáme a sú tehotný. Ak je **pacient tehotný, potom je to žena**."
   ]
  },
  {
   "cell_type": "code",
   "execution_count": null,
   "metadata": {},
   "outputs": [],
   "source": [
    "# Vyfiltrujeme si pacientov s nešpecifikovaným pohlavím, ktorá sú tehotní.\n",
    "data[(data['sex'] == '?') & (data['pregnant'] == 't')].head()"
   ]
  },
  {
   "cell_type": "code",
   "execution_count": null,
   "metadata": {},
   "outputs": [],
   "source": [
    "#Neexistuje v datasete muž/žena, ktorý/ktorá je vydatý/oženená.\n",
    "data[(data['sex'] == 'M') & (data['relationship'] == ' Wife')]\n",
    "#data[(data['sex'] == 'F') & (data['relationship'] == ' Husband')]"
   ]
  },
  {
   "cell_type": "markdown",
   "metadata": {},
   "source": [
    "**POZOROVANIE:** Kedže neexistuje v datasete vydatý muž a oženená žena usudzujeme že podľa atribútu **relationship** môžeme určiť pohlavie."
   ]
  },
  {
   "cell_type": "markdown",
   "metadata": {},
   "source": [
    "**KOREKCIA:**  Ak je pacient vo **vzťahu vydatá** *(Wife)*, potom je **ženského pohlavia**. Ak je pacient vo vzťahu **oženený** *(Husband)*, potom je **mužského pohlavia**. \n"
   ]
  },
  {
   "cell_type": "markdown",
   "metadata": {},
   "source": [
    "### Atribút - hours-per-week"
   ]
  },
  {
   "cell_type": "code",
   "execution_count": 322,
   "metadata": {},
   "outputs": [
    {
     "data": {
      "text/plain": [
       "id\n",
       "0    40\n",
       "1    38\n",
       "2    45\n",
       "3    20\n",
       "4    40\n",
       "Name: hours-per-week, dtype: int64"
      ]
     },
     "execution_count": 322,
     "metadata": {},
     "output_type": "execute_result"
    }
   ],
   "source": [
    "# Výpis prvých 5 záznamov pre daný atribút\n",
    "data['hours-per-week'].head()"
   ]
  },
  {
   "cell_type": "markdown",
   "metadata": {},
   "source": [
    "**POZOROVANIE:** Niesme si istí, čo znamená tento atribút.\"hours-per-week\" sa používa v spojení **vykonávať činnosť určitý počet hodín v týždni**. Vyzerá to, že hodnoty sú reprezentované v hodinách. Budeme ho považovať za **spojitý (kvantitatívny) intervalový atribút** a preto na ňom vykonáme štatistiku."
   ]
  },
  {
   "cell_type": "code",
   "execution_count": 339,
   "metadata": {},
   "outputs": [
    {
     "data": {
      "text/plain": [
       "count    2800.000000\n",
       "mean       38.544643\n",
       "std        12.039004\n",
       "min         1.000000\n",
       "25%        35.000000\n",
       "50%        40.000000\n",
       "75%        40.000000\n",
       "max        99.000000\n",
       "Name: hours-per-week, dtype: float64"
      ]
     },
     "execution_count": 339,
     "metadata": {},
     "output_type": "execute_result"
    }
   ],
   "source": [
    "# Výpis prvých 5 záznamov pre daný atribút\n",
    "data['hours-per-week'].describe()"
   ]
  },
  {
   "cell_type": "markdown",
   "metadata": {},
   "source": [
    "**POZOROVANIE:** Keď sa pozrieme na priemernú hodnotu **38.54** predpokladáme, že sa jedná o **pracovný čas** každého pacienta. Náš predpoklad je založený na tom, že bežná pracovná doba je 8 hodín denne 5 dní v týždni, čo sa rovná **40 hodinám**. Tieto dáta neobsahujú **žiadne null hodnoty** ani abnormálne výchylky a preto ich čistenie nie je potrebé."
   ]
  },
  {
   "cell_type": "markdown",
   "metadata": {},
   "source": [
    "## Liečba"
   ]
  },
  {
   "cell_type": "markdown",
   "metadata": {},
   "source": [
    "### Atribút - on thyroxine"
   ]
  },
  {
   "cell_type": "code",
   "execution_count": 326,
   "metadata": {},
   "outputs": [
    {
     "data": {
      "text/plain": [
       "id\n",
       "0    t\n",
       "1    f\n",
       "2    F\n",
       "3    f\n",
       "4    t\n",
       "Name: on thyroxine, dtype: object"
      ]
     },
     "execution_count": 326,
     "metadata": {},
     "output_type": "execute_result"
    }
   ],
   "source": [
    "# Výpis prvých 5 záznamov pre daný atribút\n",
    "data['on thyroxine'].head()"
   ]
  },
  {
   "cell_type": "markdown",
   "metadata": {},
   "source": [
    "**POZOROVANIE:** Tyroxin je hormón, ktorý je produkovaný štítnou žľazou.[https://www.newsmax.com/fastfeatures/thyroid-thyroxine/2016/03/24/id/720782/]. V prípade zníženej produkcie tohto hormónu sa predpisuje vo forme lieku. Usudzujeme, že tento atribút nám hovorí o tom, čí daný pacient užíva liek obsahujúci hormón tyroxín. Existujú len dva stavy. Buď pacient užíva liek alebo neužíva. Preto budeme tento atribút považovat za **kategorický binárny atribút**, ktorý v sebe bude niesť hodnoty [true = užíva liek, false = neuziva liek]."
   ]
  },
  {
   "cell_type": "code",
   "execution_count": 340,
   "metadata": {},
   "outputs": [
    {
     "data": {
      "text/plain": [
       "f        2218\n",
       "t         302\n",
       "FALSE     129\n",
       "F         123\n",
       "TRUE       18\n",
       "T          10\n",
       "Name: on thyroxine, dtype: int64"
      ]
     },
     "execution_count": 340,
     "metadata": {},
     "output_type": "execute_result"
    }
   ],
   "source": [
    "# data['on thyroxine'].unique()\n",
    "data['on thyroxine'].value_counts()"
   ]
  },
  {
   "cell_type": "markdown",
   "metadata": {},
   "source": [
    "**POZOROVANIE:** Vidíme, že náš predpoklad bol správny a hodnoty pre atribút majú iba dva stavy (true, false). Tieto dáta bude potreba **očistiť na jednotný formát**"
   ]
  },
  {
   "cell_type": "markdown",
   "metadata": {},
   "source": [
    "**KOREKCIA:** Ujednotíme formát dát"
   ]
  },
  {
   "cell_type": "code",
   "execution_count": 401,
   "metadata": {},
   "outputs": [
    {
     "data": {
      "text/plain": [
       "False    2470\n",
       "True      330\n",
       "Name: on_thyroxine, dtype: int64"
      ]
     },
     "execution_count": 401,
     "metadata": {},
     "output_type": "execute_result"
    }
   ],
   "source": [
    "# Mapovanie True a False na hodnoty podľa toho ake si zvolíme\n",
    "data['_on_thyroxine'] = data['on thyroxine'].map({'t': True, 'T': True, 'TRUE': True, 'f': False, 'F': False, 'FALSE': False})\n",
    "data['_on_thyroxine'].value_counts()"
   ]
  },
  {
   "cell_type": "markdown",
   "metadata": {},
   "source": [
    "### Atribút - query on thyroxine"
   ]
  },
  {
   "cell_type": "code",
   "execution_count": 399,
   "metadata": {},
   "outputs": [
    {
     "data": {
      "text/plain": [
       "f    2760\n",
       "t      40\n",
       "Name: query on thyroxine, dtype: int64"
      ]
     },
     "execution_count": 399,
     "metadata": {},
     "output_type": "execute_result"
    }
   ],
   "source": [
    "# Výpis prvých 5 záznamov pre daný atribút\n",
    "data['query on thyroxine'].value_counts()"
   ]
  },
  {
   "cell_type": "markdown",
   "metadata": {},
   "source": [
    "**POZOROVANIE:** Niesme si istý co predstavuje tento atribút.  Usudzujeme, že tento atribút nám hovorí o tom, čí sa daný pacient sťažoval liek obsahujúci hormón tyroxín. Existujú len dva stavy. Buď sa pacient sťažoval liek alebo nesťažoval. Preto budeme tento atribút považovat za **kategorický binárny atribút**, ktorý v sebe bude niesť hodnoty [true = sťažoval sa/vypytoval, false = nesťažoval/nevypytoval]."
   ]
  },
  {
   "cell_type": "markdown",
   "metadata": {},
   "source": [
    "**KOREKCIA:** Prekonvertujeme si formát dát na boolean hodnoty"
   ]
  },
  {
   "cell_type": "code",
   "execution_count": 402,
   "metadata": {
    "scrolled": true
   },
   "outputs": [
    {
     "data": {
      "text/plain": [
       "False    2760\n",
       "True       40\n",
       "Name: query_on_thyroxine, dtype: int64"
      ]
     },
     "execution_count": 402,
     "metadata": {},
     "output_type": "execute_result"
    }
   ],
   "source": [
    "# Mapovanie True a False na hodnoty podľa toho ake si zvolíme\n",
    "data['_query_on_thyroxine'] = data['query on thyroxine'].map({'t': True, 'f': False})\n",
    "data['_query_on_thyroxine'].value_counts()"
   ]
  },
  {
   "cell_type": "markdown",
   "metadata": {},
   "source": [
    "### Atribút - on antithyroid medication"
   ]
  },
  {
   "cell_type": "code",
   "execution_count": 437,
   "metadata": {},
   "outputs": [
    {
     "data": {
      "text/plain": [
       "f    2766\n",
       "t      34\n",
       "Name: on antithyroid medication, dtype: int64"
      ]
     },
     "execution_count": 437,
     "metadata": {},
     "output_type": "execute_result"
    }
   ],
   "source": [
    "# Výpis prvých 5 záznamov pre daný atribút\n",
    "data['on antithyroid medication'].value_counts()"
   ]
  },
  {
   "cell_type": "markdown",
   "metadata": {},
   "source": [
    "**POZOROVANIE:** Antithyroid je droga, ktorá znižuje funkciu štítnej žlazy. Používa sa v prípade ochorenia hypertireózy.[https://www.medicinenet.com/script/main/art.asp?articlekey=15316] Usudzujeme, že tento atribút nám hovorí o tom, čí daný pacient užíva drogu. Existujú len dva stavy. Buď pacient užíva drogu alebo neužíva. Preto budeme tento atribút považovat za **kategorický binárny atribút**, ktorý v sebe bude niesť hodnoty [true = užíva drogu, false = neuziva drogu]."
   ]
  },
  {
   "cell_type": "markdown",
   "metadata": {},
   "source": [
    "**KOREKCIA:** Prekonvertujeme si formát dát na boolean hodnoty"
   ]
  },
  {
   "cell_type": "code",
   "execution_count": 438,
   "metadata": {
    "scrolled": true
   },
   "outputs": [
    {
     "data": {
      "text/plain": [
       "False    2766\n",
       "True       34\n",
       "Name: _on_antithyroid, dtype: int64"
      ]
     },
     "execution_count": 438,
     "metadata": {},
     "output_type": "execute_result"
    }
   ],
   "source": [
    "# Mapovanie True a False na hodnoty podľa toho ake si zvolíme\n",
    "data['_on_antithyroid'] = data['on antithyroid medication'].map({'t': True, 'f': False})\n",
    "data['_on_antithyroid'].value_counts()"
   ]
  },
  {
   "cell_type": "markdown",
   "metadata": {},
   "source": [
    "### Atribút - I131 treatment"
   ]
  },
  {
   "cell_type": "code",
   "execution_count": 443,
   "metadata": {},
   "outputs": [
    {
     "data": {
      "text/plain": [
       "f    2752\n",
       "t      48\n",
       "Name: I131 treatment, dtype: int64"
      ]
     },
     "execution_count": 443,
     "metadata": {},
     "output_type": "execute_result"
    }
   ],
   "source": [
    "# Výpis unikátnych hodnôt\n",
    "data['I131 treatment'].value_counts()"
   ]
  },
  {
   "cell_type": "markdown",
   "metadata": {},
   "source": [
    "**POZOROVANIE:** Radioaktívna, ktorá znižuje funkciu štítnej žlazy. [https://www.radiologyinfo.org/en/info.cfm?pg=radioiodine] Používa sa v prípade **ochorenia hypertireózy**. Usudzujeme, že tento atribút nám hovorí o tom, čí daný pacient podstupuje liečbu. Existujú len dva stavy. Buď pacient podstupuje liečbu alebo nepodstupuje. Preto budeme tento atribút považovat za **kategorický binárny atribút**, ktorý v sebe bude niesť hodnoty [true = podstupuje liečbu, false = nepodstupuje liečbu]."
   ]
  },
  {
   "cell_type": "markdown",
   "metadata": {},
   "source": [
    "**KOREKCIA:** Prekonvertujeme si formát dát na boolean hodnoty"
   ]
  },
  {
   "cell_type": "code",
   "execution_count": 441,
   "metadata": {
    "scrolled": true
   },
   "outputs": [
    {
     "data": {
      "text/plain": [
       "False    2752\n",
       "True       48\n",
       "Name: _I131_treatment, dtype: int64"
      ]
     },
     "execution_count": 441,
     "metadata": {},
     "output_type": "execute_result"
    }
   ],
   "source": [
    "# Mapovanie True a False na hodnoty podľa toho ake si zvolíme\n",
    "data['_I131_treatment'] = data['I131 treatment'].map({'t': True, 'f': False})\n",
    "data['_I131_treatment'].value_counts()"
   ]
  },
  {
   "cell_type": "markdown",
   "metadata": {},
   "source": [
    "### Atribút - lithium"
   ]
  },
  {
   "cell_type": "code",
   "execution_count": 446,
   "metadata": {},
   "outputs": [
    {
     "data": {
      "text/plain": [
       "f    2786\n",
       "t      14\n",
       "Name: lithium, dtype: int64"
      ]
     },
     "execution_count": 446,
     "metadata": {},
     "output_type": "execute_result"
    }
   ],
   "source": [
    "# Výpis unikátnych hodnôt\n",
    "data['lithium'].value_counts()"
   ]
  },
  {
   "cell_type": "markdown",
   "metadata": {},
   "source": [
    "**POZOROVANIE:** Lítium je veľmi ľahký a mäkký kov, ktorý sa mnohými chemickými vlastnosťami podobá na horčík. Antityroidné účinky lítia sa najprv skúmali podrobne, keď sa zistilo, že pacienti s **psychiatrickým ochorením** liečeným lítium-karbonátom vyvinuli **hypotyreózu** a burcu. Štúdie na zvieratách a na ľuďoch následne odhalili, že lítium zvyšuje obsah intra-thyroidného jódu, inhibuje kondenzáciu jódotyrozínových zvyškov za vzniku jódtironínov (tyroxín (T4) a trijódtyronínu (T3)) a inhibuje uvoľňovanie T4 a T3.[https://www.uptodate.com/contents/lithium-and-the-thyroid#H2] Používa sa v prípade **ochorenia hypertireózy**. Usudzujeme, že tento atribút nám hovorí o tom, čí daný pacient podstupuje liečbu. Existujú len dva stavy. Buď pacient podstupuje liečbu alebo nepodstupuje. Preto budeme tento atribút považovat za **kategorický binárny atribút**, ktorý v sebe bude niesť hodnoty [true = podstupuje liečbu, false = nepodstupuje liečbu]."
   ]
  },
  {
   "cell_type": "markdown",
   "metadata": {},
   "source": [
    "**KOREKCIA:** Prekonvertujeme si formát dát na boolean hodnoty"
   ]
  },
  {
   "cell_type": "code",
   "execution_count": 447,
   "metadata": {},
   "outputs": [
    {
     "data": {
      "text/plain": [
       "False    2786\n",
       "True       14\n",
       "Name: _lithium, dtype: int64"
      ]
     },
     "execution_count": 447,
     "metadata": {},
     "output_type": "execute_result"
    }
   ],
   "source": [
    "# Mapovanie True a False na hodnoty podľa toho ake si zvolíme\n",
    "data['_lithium'] = data['lithium'].map({'t': True, 'f': False})\n",
    "data['_lithium'].value_counts()"
   ]
  },
  {
   "cell_type": "markdown",
   "metadata": {},
   "source": [
    "### Atribút - thyroid surgery"
   ]
  },
  {
   "cell_type": "code",
   "execution_count": 462,
   "metadata": {},
   "outputs": [
    {
     "data": {
      "text/plain": [
       "f    2761\n",
       "t      39\n",
       "Name: thyroid surgery, dtype: int64"
      ]
     },
     "execution_count": 462,
     "metadata": {},
     "output_type": "execute_result"
    }
   ],
   "source": [
    "# Výpis prvých 5 záznamov pre daný atribút\n",
    "data['thyroid surgery'].value_counts()"
   ]
  },
  {
   "cell_type": "markdown",
   "metadata": {},
   "source": [
    "**POZOROVANIE:** [https://youtu.be/0h5jM7eN6j4] Usudzujeme, že tento atribút nám hovorí o tom, čí sa daný pacient podstúpil operáciu. Existujú len dva stavy. Buď pacient podstúpil operáciu ale nepodstúpil. Preto budeme tento atribút považovat za **kategorický binárny atribút**, ktorý v sebe bude niesť hodnoty [true = podstúpil operáciu, false = nepodstúpil operáciu]."
   ]
  },
  {
   "cell_type": "markdown",
   "metadata": {},
   "source": [
    "**KOREKCIA:** Prekonvertujeme si formát dát na boolean hodnoty"
   ]
  },
  {
   "cell_type": "code",
   "execution_count": 465,
   "metadata": {
    "scrolled": true
   },
   "outputs": [
    {
     "data": {
      "text/plain": [
       "False    2761\n",
       "True       39\n",
       "Name: _thyroid_surgery, dtype: int64"
      ]
     },
     "execution_count": 465,
     "metadata": {},
     "output_type": "execute_result"
    }
   ],
   "source": [
    "# Mapovanie True a False na hodnoty podľa toho ake si zvolíme\n",
    "data['_thyroid_surgery'] = data['thyroid surgery'].map({'t': True, 'f': False})\n",
    "data['_thyroid_surgery'].value_counts()"
   ]
  },
  {
   "cell_type": "markdown",
   "metadata": {},
   "source": [
    "## Ochorenia"
   ]
  },
  {
   "cell_type": "markdown",
   "metadata": {},
   "source": [
    "### Atribút - sick"
   ]
  },
  {
   "cell_type": "code",
   "execution_count": 404,
   "metadata": {},
   "outputs": [
    {
     "data": {
      "text/plain": [
       "f    2690\n",
       "t     110\n",
       "Name: sick, dtype: int64"
      ]
     },
     "execution_count": 404,
     "metadata": {},
     "output_type": "execute_result"
    }
   ],
   "source": [
    "# Výpis prvých 5 záznamov pre daný atribút\n",
    "data['sick'].value_counts()"
   ]
  },
  {
   "cell_type": "markdown",
   "metadata": {},
   "source": [
    "**POZOROVANIE:** Usudzujeme, že tento atribút nám hovorí o tom, čí sa daný pacient je chorý. Existujú len dva stavy. Buď je pacient chorý alebo nie je chorý. Preto budeme tento atribút považovat za **kategorický binárny atribút**, ktorý v sebe bude niesť hodnoty [true = je chorý, false = nie je chorý]."
   ]
  },
  {
   "cell_type": "markdown",
   "metadata": {},
   "source": [
    "**KOREKCIA:** Prekonvertujeme si formát dát na boolean hodnoty"
   ]
  },
  {
   "cell_type": "code",
   "execution_count": 427,
   "metadata": {
    "scrolled": false
   },
   "outputs": [
    {
     "data": {
      "text/plain": [
       "False    2690\n",
       "True      110\n",
       "Name: _sick, dtype: int64"
      ]
     },
     "execution_count": 427,
     "metadata": {},
     "output_type": "execute_result"
    }
   ],
   "source": [
    "# Mapovanie True a False na hodnoty podľa toho ake si zvolíme\n",
    "data['_sick'] = data['sick'].map({'t': True, 'f': False})\n",
    "data['_sick'].value_counts()"
   ]
  },
  {
   "cell_type": "markdown",
   "metadata": {},
   "source": [
    "### Atribút - goitre"
   ]
  },
  {
   "cell_type": "code",
   "execution_count": 450,
   "metadata": {},
   "outputs": [
    {
     "data": {
      "text/plain": [
       "f    2775\n",
       "t      25\n",
       "Name: goitre, dtype: int64"
      ]
     },
     "execution_count": 450,
     "metadata": {},
     "output_type": "execute_result"
    }
   ],
   "source": [
    "# Výpis unikátnych hodnôt\n",
    "data['goitre'].value_counts()"
   ]
  },
  {
   "cell_type": "markdown",
   "metadata": {},
   "source": [
    "**POZOROVANIE:** [https://youtu.be/TiBnSKyX2iU] Usudzujeme, že tento atribút nám hovorí o tom, čí sa daný trpí ochorením. Existujú len dva stavy. Buď pacient trpí ochorením alebo nie. Preto budeme tento atribút považovat za **kategorický binárny atribút**, ktorý v sebe bude niesť hodnoty [true = má ochorenie, false = nemá ochorenie]."
   ]
  },
  {
   "cell_type": "markdown",
   "metadata": {},
   "source": [
    "**KOREKCIA:** Prekonvertujeme si formát dát na boolean hodnoty"
   ]
  },
  {
   "cell_type": "code",
   "execution_count": 451,
   "metadata": {
    "scrolled": false
   },
   "outputs": [
    {
     "data": {
      "text/plain": [
       "False    2775\n",
       "True       25\n",
       "Name: _goitre, dtype: int64"
      ]
     },
     "execution_count": 451,
     "metadata": {},
     "output_type": "execute_result"
    }
   ],
   "source": [
    "# Mapovanie True a False na hodnoty podľa toho ake si zvolíme\n",
    "data['_goitre'] = data['goitre'].map({'t': True, 'f': False})\n",
    "data['_goitre'].value_counts()"
   ]
  },
  {
   "cell_type": "markdown",
   "metadata": {},
   "source": [
    "### Atribút - tumor"
   ]
  },
  {
   "cell_type": "code",
   "execution_count": 452,
   "metadata": {},
   "outputs": [
    {
     "data": {
      "text/plain": [
       "f    2729\n",
       "t      71\n",
       "Name: tumor, dtype: int64"
      ]
     },
     "execution_count": 452,
     "metadata": {},
     "output_type": "execute_result"
    }
   ],
   "source": [
    "# Výpis unikátnych hodnôt\n",
    "data['tumor'].value_counts()"
   ]
  },
  {
   "cell_type": "markdown",
   "metadata": {},
   "source": [
    "**POZOROVANIE:** [https://www.endocrineweb.com/conditions/thyroid-cancer/thyroid-cancer] Usudzujeme, že tento atribút nám hovorí o tom, čí sa daný trpí ochorením. Existujú len dva stavy. Buď pacient trpí ochorením alebo nie. Preto budeme tento atribút považovat za **kategorický binárny atribút**, ktorý v sebe bude niesť hodnoty [true = má ochorenie, false = nemá ochorenie]."
   ]
  },
  {
   "cell_type": "markdown",
   "metadata": {},
   "source": [
    "**KOREKCIA:** Prekonvertujeme si formát dát na boolean hodnoty"
   ]
  },
  {
   "cell_type": "code",
   "execution_count": 454,
   "metadata": {
    "scrolled": true
   },
   "outputs": [
    {
     "data": {
      "text/plain": [
       "False    2729\n",
       "True       71\n",
       "Name: _tumor, dtype: int64"
      ]
     },
     "execution_count": 454,
     "metadata": {},
     "output_type": "execute_result"
    }
   ],
   "source": [
    "# Mapovanie True a False na hodnoty podľa toho ake si zvolíme\n",
    "data['_tumor'] = data['tumor'].map({'t': True, 'f': False})\n",
    "data['_tumor'].value_counts()"
   ]
  },
  {
   "cell_type": "markdown",
   "metadata": {},
   "source": [
    "### Atribút - hypopituitary"
   ]
  },
  {
   "cell_type": "code",
   "execution_count": 458,
   "metadata": {},
   "outputs": [
    {
     "data": {
      "text/plain": [
       "f    2799\n",
       "t       1\n",
       "Name: hypopituitary, dtype: int64"
      ]
     },
     "execution_count": 458,
     "metadata": {},
     "output_type": "execute_result"
    }
   ],
   "source": [
    "# Výpis unikátnych hodnôt a ich počtov\n",
    "data['hypopituitary'].value_counts()"
   ]
  },
  {
   "cell_type": "markdown",
   "metadata": {},
   "source": [
    "**POZOROVANIE:** [https://www.emedicinehealth.com/hypopituitary/article_em.htm] Usudzujeme, že tento atribút nám hovorí o tom, čí sa daný trpí ochorením. Existujú len dva stavy. Buď pacient trpí ochorením alebo nie. Preto budeme tento atribút považovat za **kategorický binárny atribút**, ktorý v sebe bude niesť hodnoty [true = má ochorenie, false = nemá ochorenie]. V našom data sete sa nachádza iba jeden jediný pacient s takýmto ochorením. Tento pacient pravdepodobne len veľmi málo ovplyvní výledky budúceho trénovania a preto si myslíme, že by bolo vhodné tento atribút **zanedbať**."
   ]
  },
  {
   "cell_type": "markdown",
   "metadata": {},
   "source": [
    "**KOREKCIA:** Prekonvertujeme si formát dát na boolean hodnoty"
   ]
  },
  {
   "cell_type": "code",
   "execution_count": 457,
   "metadata": {
    "scrolled": false
   },
   "outputs": [
    {
     "data": {
      "text/plain": [
       "False    2799\n",
       "True        1\n",
       "Name: _hypopituitary, dtype: int64"
      ]
     },
     "execution_count": 457,
     "metadata": {},
     "output_type": "execute_result"
    }
   ],
   "source": [
    "# Mapovanie True a False na hodnoty podľa toho ake si zvolíme\n",
    "data['_hypopituitary'] = data['hypopituitary'].map({'t': True, 'f': False})\n",
    "data['_hypopituitary'].value_counts()"
   ]
  },
  {
   "cell_type": "markdown",
   "metadata": {},
   "source": [
    "### Atribút - psych"
   ]
  },
  {
   "cell_type": "code",
   "execution_count": 459,
   "metadata": {},
   "outputs": [
    {
     "data": {
      "text/plain": [
       "f    2665\n",
       "t     135\n",
       "Name: psych, dtype: int64"
      ]
     },
     "execution_count": 459,
     "metadata": {},
     "output_type": "execute_result"
    }
   ],
   "source": [
    "# Výpis unikátnych hodnôt a ich počtov\n",
    "data['psych'].value_counts()"
   ]
  },
  {
   "cell_type": "markdown",
   "metadata": {},
   "source": [
    "**POZOROVANIE:** [https://www.ncbi.nlm.nih.gov/pubmed/21996646] Usudzujeme, že tento atribút nám hovorí o tom, čí sa daný trpí ochorením. Existujú len dva stavy. Buď pacient trpí ochorením alebo nie. Preto budeme tento atribút považovat za **kategorický binárny atribút**, ktorý v sebe bude niesť hodnoty [true = má ochorenie, false = nemá ochorenie]."
   ]
  },
  {
   "cell_type": "markdown",
   "metadata": {},
   "source": [
    "**KOREKCIA:** Prekonvertujeme si formát dát na boolean hodnoty"
   ]
  },
  {
   "cell_type": "code",
   "execution_count": 461,
   "metadata": {
    "scrolled": true
   },
   "outputs": [
    {
     "data": {
      "text/plain": [
       "False    2665\n",
       "True      135\n",
       "Name: _psych, dtype: int64"
      ]
     },
     "execution_count": 461,
     "metadata": {},
     "output_type": "execute_result"
    }
   ],
   "source": [
    "# Mapovanie True a False na hodnoty podľa toho ake si zvolíme\n",
    "data['_psych'] = data['psych'].map({'t': True, 'f': False})\n",
    "data['_psych'].value_counts()"
   ]
  },
  {
   "cell_type": "code",
   "execution_count": 442,
   "metadata": {},
   "outputs": [
    {
     "name": "stdout",
     "output_type": "stream",
     "text": [
      "<class 'pandas.core.frame.DataFrame'>\n",
      "Int64Index: 2800 entries, 0 to 2799\n",
      "Data columns (total 45 columns):\n",
      "age                          2799 non-null float64\n",
      "sex                          2800 non-null object\n",
      "on thyroxine                 2800 non-null object\n",
      "query on thyroxine           2800 non-null object\n",
      "on antithyroid medication    2800 non-null object\n",
      "sick                         2800 non-null object\n",
      "pregnant                     2800 non-null object\n",
      "thyroid surgery              2800 non-null object\n",
      "I131 treatment               2800 non-null object\n",
      "query hypothyroid            2800 non-null object\n",
      "query hyperthyroid           2800 non-null object\n",
      "lithium                      2800 non-null object\n",
      "goitre                       2800 non-null object\n",
      "tumor                        2800 non-null object\n",
      "hypopituitary                2800 non-null object\n",
      "psych                        2800 non-null object\n",
      "TSH measured                 2800 non-null object\n",
      "TSH                          2516 non-null float64\n",
      "T3 measured                  2800 non-null object\n",
      "T3                           2215 non-null float64\n",
      "TT4 measured                 2800 non-null object\n",
      "TT4                          2616 non-null float64\n",
      "T4U measured                 2800 non-null object\n",
      "T4U                          2503 non-null float64\n",
      "FTI measured                 2800 non-null object\n",
      "FTI                          2800 non-null object\n",
      "TBG measured                 2800 non-null object\n",
      "TBG                          2800 non-null object\n",
      "referral source              2800 non-null object\n",
      "class                        2800 non-null object\n",
      "fnlwgt                       2800 non-null int64\n",
      "education                    2800 non-null object\n",
      "education-num                2800 non-null int64\n",
      "relationship                 2800 non-null object\n",
      "capital-gain                 2520 non-null float64\n",
      "capital-loss                 2800 non-null int64\n",
      "hours-per-week               2800 non-null int64\n",
      "date_of_birth                2610 non-null object\n",
      "personal_info                2800 non-null object\n",
      "on_thyroxine                 2800 non-null bool\n",
      "query_on_thyroxine           2800 non-null bool\n",
      "_sick                        2800 non-null bool\n",
      "_pregnant                    2800 non-null bool\n",
      "_on_antithyroid              2800 non-null bool\n",
      "_I131_treatment              2800 non-null bool\n",
      "dtypes: bool(6), float64(6), int64(4), object(29)\n",
      "memory usage: 971.4+ KB\n"
     ]
    }
   ],
   "source": [
    "data.info()"
   ]
  },
  {
   "cell_type": "code",
   "execution_count": null,
   "metadata": {},
   "outputs": [],
   "source": []
  },
  {
   "cell_type": "markdown",
   "metadata": {},
   "source": [
    "### Atribút - pregnant"
   ]
  },
  {
   "cell_type": "code",
   "execution_count": 428,
   "metadata": {},
   "outputs": [
    {
     "data": {
      "text/plain": [
       "f    2759\n",
       "t      41\n",
       "Name: pregnant, dtype: int64"
      ]
     },
     "execution_count": 428,
     "metadata": {},
     "output_type": "execute_result"
    }
   ],
   "source": [
    "# Výpis prvých 5 záznamov pre daný atribút\n",
    "data['pregnant'].value_counts()"
   ]
  },
  {
   "cell_type": "markdown",
   "metadata": {},
   "source": [
    "**POZOROVANIE:** Usudzujeme, že tento atribút nám hovorí o tom, či je daný pacient **tehotný**. Existujú len dva stavy. Buď je pacient tehotný alebo nie je tehotný. Preto budeme tento atribút považovat za **kategorický binárny atribút**, ktorý v sebe bude niesť hodnoty [true = je tehotný, false = nie je tehotný]."
   ]
  },
  {
   "cell_type": "markdown",
   "metadata": {},
   "source": [
    "**KOREKCIA:** Prekonvertujeme si formát dát na boolean hodnoty"
   ]
  },
  {
   "cell_type": "code",
   "execution_count": 430,
   "metadata": {
    "scrolled": false
   },
   "outputs": [
    {
     "data": {
      "text/plain": [
       "False    2759\n",
       "True       41\n",
       "Name: _pregnant, dtype: int64"
      ]
     },
     "execution_count": 430,
     "metadata": {},
     "output_type": "execute_result"
    }
   ],
   "source": [
    "# Mapovanie True a False na hodnoty podľa toho ake si zvolíme\n",
    "data['_pregnant'] = data['pregnant'].map({'t': True, 'f': False})\n",
    "data['_pregnant'].value_counts()"
   ]
  },
  {
   "cell_type": "code",
   "execution_count": 439,
   "metadata": {},
   "outputs": [
    {
     "name": "stdout",
     "output_type": "stream",
     "text": [
      "<class 'pandas.core.frame.DataFrame'>\n",
      "Int64Index: 2800 entries, 0 to 2799\n",
      "Data columns (total 44 columns):\n",
      "age                          2799 non-null float64\n",
      "sex                          2800 non-null object\n",
      "on thyroxine                 2800 non-null object\n",
      "query on thyroxine           2800 non-null object\n",
      "on antithyroid medication    2800 non-null object\n",
      "sick                         2800 non-null object\n",
      "pregnant                     2800 non-null object\n",
      "thyroid surgery              2800 non-null object\n",
      "I131 treatment               2800 non-null object\n",
      "query hypothyroid            2800 non-null object\n",
      "query hyperthyroid           2800 non-null object\n",
      "lithium                      2800 non-null object\n",
      "goitre                       2800 non-null object\n",
      "tumor                        2800 non-null object\n",
      "hypopituitary                2800 non-null object\n",
      "psych                        2800 non-null object\n",
      "TSH measured                 2800 non-null object\n",
      "TSH                          2516 non-null float64\n",
      "T3 measured                  2800 non-null object\n",
      "T3                           2215 non-null float64\n",
      "TT4 measured                 2800 non-null object\n",
      "TT4                          2616 non-null float64\n",
      "T4U measured                 2800 non-null object\n",
      "T4U                          2503 non-null float64\n",
      "FTI measured                 2800 non-null object\n",
      "FTI                          2800 non-null object\n",
      "TBG measured                 2800 non-null object\n",
      "TBG                          2800 non-null object\n",
      "referral source              2800 non-null object\n",
      "class                        2800 non-null object\n",
      "fnlwgt                       2800 non-null int64\n",
      "education                    2800 non-null object\n",
      "education-num                2800 non-null int64\n",
      "relationship                 2800 non-null object\n",
      "capital-gain                 2520 non-null float64\n",
      "capital-loss                 2800 non-null int64\n",
      "hours-per-week               2800 non-null int64\n",
      "date_of_birth                2610 non-null object\n",
      "personal_info                2800 non-null object\n",
      "on_thyroxine                 2800 non-null bool\n",
      "query_on_thyroxine           2800 non-null bool\n",
      "_sick                        2800 non-null bool\n",
      "_pregnant                    2800 non-null bool\n",
      "_on_antithyroid              2800 non-null bool\n",
      "dtypes: bool(5), float64(6), int64(4), object(29)\n",
      "memory usage: 968.7+ KB\n"
     ]
    }
   ],
   "source": [
    "data.info()"
   ]
  },
  {
   "cell_type": "markdown",
   "metadata": {},
   "source": [
    "### Spojité atribúty (Kvantitatívne)\n",
    "#### Intervalové\n",
    "age, date_of_birth, hours-per-week <br/> \n",
    "#### Pomerové\n",
    "TSH, T3, TT4, T4U, FTI, fnlwgt, capital-gain, capitital-loss <br/>\n",
    "### Kategorické atribúty\n",
    "#### Nominálne atribúty (hint. kategórie, stavy, mená, lable, tagy)\n",
    "referral source - <br/>\n",
    "class - <br/>\n",
    "personal_info - <br/>\n",
    "##### Binárne atribúty (hint. kategórie, stavy, mená, lable, tagy)\n",
    "*Symetrické*<br/>\n",
    "sex [M,F] - M = muž, F = žena<br/>\n",
    "on thyroxine [f, t] - f = false, t = true  <br/>\n",
    "sick [f, t] - f = false, t = true<br/>\n",
    "pregnant [f, t] - f = false, t = true<br/>\n",
    "thyroid surgery [f, t] - f = false, t = true<br/>\n",
    "I131 treatment [f, t] - f = false, t = true<br/>\n",
    "on antithyroid medication [f, t] - f = false, t = true<br/>\n",
    "query hypothyroid [f, t] - f = false, t = true<br/>\n",
    "lithium [f, t] - f = false, t = true<br/>\n",
    "goitre [f, t] - f = false, t = true<br/>\n",
    "tumor [f, t] - f = false, t = true<br/>\n",
    "hypopituitary [f, t] - f = false, t = true<br/>\n",
    "psych [f, t] - f = false, t = true<br/>\n",
    "TSH measured [t, f] - f = false, t = true<br/>\n",
    "T3 measured [t, f] - f = false, t = true<br/>\n",
    "TT4 measured [t, f] - f = false, t = true<br/>\n",
    "T4U measured [f, t] - f = false, t = true<br/>\n",
    "FTI measured [f, t] - f = false, t = true<br/>\n",
    "TBG measured [f, t] - f = false, t = true<br/>\n",
    "#### Ordinálne\n",
    "education [] - <br/>\n",
    "education_num - <br/>"
   ]
  },
  {
   "cell_type": "markdown",
   "metadata": {},
   "source": [
    "## Analýza atribútov po jednom (Univariate analysis)\n",
    "V tejto časti sú vysvetlené a zobrazené vlastnosti každého atribútu po jednom."
   ]
  },
  {
   "cell_type": "code",
   "execution_count": null,
   "metadata": {},
   "outputs": [],
   "source": []
  },
  {
   "cell_type": "markdown",
   "metadata": {},
   "source": [
    "## Analýza atribútov po pároch (Bivariate analysis)\n",
    "V tejto časti sú vysvetlené a zobrazené vlastnosti atribútov, ktoré spolu môžu súvisieť."
   ]
  },
  {
   "cell_type": "markdown",
   "metadata": {},
   "source": [
    "### Spojité atribúty"
   ]
  },
  {
   "cell_type": "markdown",
   "metadata": {},
   "source": [
    "### Kategorické atribúty"
   ]
  }
 ],
 "metadata": {
  "kernelspec": {
   "display_name": "Python 3",
   "language": "python",
   "name": "python3"
  },
  "language_info": {
   "codemirror_mode": {
    "name": "ipython",
    "version": 3
   },
   "file_extension": ".py",
   "mimetype": "text/x-python",
   "name": "python",
   "nbconvert_exporter": "python",
   "pygments_lexer": "ipython3",
   "version": "3.6.4"
  }
 },
 "nbformat": 4,
 "nbformat_minor": 2
}
