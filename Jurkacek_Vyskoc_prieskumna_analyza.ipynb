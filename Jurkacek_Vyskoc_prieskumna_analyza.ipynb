{
 "cells": [
  {
   "cell_type": "markdown",
   "metadata": {},
   "source": [
    "# Prieskumná (Exploratívna) analýza dát\n",
    "Dáta predstavujú záznamy o pacientoch s chorobou štítnej žľazy. Cieľom je vedieť predikovať hodnotu Y. Cieľom tejto časti je zanalytovanie datasetu. Využívame exploratívnu analýzu, deskriptívnu štatistiku a rôzne podporné vizualizácie. Poukazujeme na viaceré problémy, ktoré sa v dátach\n",
    "nachádzajú (formáty dát, chýbajúce, nezmyselné alebo vychýlené hodnoty a pod.). "
   ]
  },
  {
   "cell_type": "markdown",
   "metadata": {},
   "source": [
    "*POZNÁMKA - Základné informácie o problémoch so štítnou žlazou sme čerpali z* [https://bergendiova.blog.sme.sk/c/393035/8-veci-ktore-by-ste-mali-vediet-o-stitnej-zlaze-a-imunite.html]"
   ]
  },
  {
   "cell_type": "code",
   "execution_count": 1,
   "metadata": {},
   "outputs": [],
   "source": [
    "%matplotlib inline\n",
    "import pandas as pd\n",
    "import numpy as np\n",
    "import matplotlib\n",
    "import matplotlib.pyplot as plt\n",
    "import scipy.stats as stats\n",
    "import seaborn\n",
    "from sklearn import linear_model as lm"
   ]
  },
  {
   "cell_type": "code",
   "execution_count": 2,
   "metadata": {},
   "outputs": [],
   "source": [
    "import dateutil.parser\n",
    "import datetime"
   ]
  },
  {
   "cell_type": "code",
   "execution_count": 3,
   "metadata": {},
   "outputs": [],
   "source": [
    "plt.rcParams['font.family'] = 'DejaVu Sans'\n",
    "plt.rcParams['figure.figsize'] = (8, 6)\n",
    "from IPython.display import Image, SVG, display"
   ]
  },
  {
   "cell_type": "markdown",
   "metadata": {},
   "source": [
    "**AKCIA:** Vypíšeme si časť surových dát aby sme skontrolovali, či majú správny formát csv súboru."
   ]
  },
  {
   "cell_type": "code",
   "execution_count": 4,
   "metadata": {},
   "outputs": [
    {
     "name": "stdout",
     "output_type": "stream",
     "text": [
      ",age,sex,on thyroxine,query on thyroxine,on antithyroid medication,sick,pregnant,thyroid surgery,I131 treatment,query hypothyroid,query hyperthyroid,lithium,goitre,tumor,hypopituitary,psych,TSH measured,TSH,T3 measured,T3,TT4 measured,TT4,T4U measured,T4U,FTI measured,FTI,TBG measured,TBG,referral source,class,fnlwgt,education,education-num,relationship,capital-gain,capital-loss,hours-per-week,date_of_birth,personal_info\n",
      "0,68,M,f,f,f,f,f,f,f,f,f,f,f,f,f,f,t,3.0,t,2.6,t,117.0,t,1.24,t,94,f,?,SVI,negative.|1231,96245, HS-grad,9, Husband,0.0,0,99,1949-07-30,\"Sales|United-States\n",
      "Married-civ-spouse -- Self-emp-inc|White\"\n",
      "1,42,F,f,f,f,f,f,f,f,f,f,f,f,f,f,f,t,1.8,t,2.0,t,66.0,t,0.93,t,71,f,?,SVHC,negative.|329,191177, HS-grad,9, Not-in-family,,0,55,1975-10-31,\"Exec-managerial|United-States\n",
      "Never-married -- Private|White\"\n",
      "2,27,F,f,f,f,f,f,f,f,f,f,f,f,f,f,f,t,2.2,t,2.3,t,105.0,t,0.97,t,109,f,?,other,negative.|2518,48585, Some-college,1000, Wife,0.0,0,4,1990-10-29 00:00:00,\"Prof-specialty|United-States\n",
      "Married-civ-spouse -- Self-emp-not-inc|White\"\n",
      "3,32,F,FALSE,f,f,f,f,f,f,f,f,f,f,f,f,f,t,7.9,t,2.2,t,76.0,t,1.01,t,75,f,?,SVHC,negative.|821,251526, Some-college,10, Wife,0.0,0,20,1985-10-28,\"Tech-support|United-States\n",
      "Married-civ-spouse -- Private|White\"\n",
      "4,23,F,f,f,f,f,f,f,f,f,f,f,f,f,f,f,t,1.9,t,1.6,t,88.0,t,0.89,t,100,f,?,other,negative.|951,175614, 10th,6, Unmarried,0.0,0,40,??,\"Other-service|United-States\n"
     ]
    }
   ],
   "source": [
    "%%bash \n",
    "head data/zadanie4/test.csv"
   ]
  },
  {
   "cell_type": "markdown",
   "metadata": {},
   "source": [
    "**POZOROVANIE:** Z prvých riadkov súboru sa zdá, že **atribúty** a ich hodnoty sú **odelené čiarkami** a **záznamy** sú **odelené znakom úvodzovky**. Prvý riadok začína čiarkou, čo môže znamenať, že v súbore chýba názov prvého atribútu. Z hodnôt prislúchajúcich prvému atribútu odhadujeme, že sa jedná o **identifikačné číslo**."
   ]
  },
  {
   "cell_type": "markdown",
   "metadata": {},
   "source": [
    "**AKCIA:** Načítame si dataset s trénovacími dátami a vypíšeme si základnú informáciu o počte atribútov (stĺpcov) a počte záznamov (riadkov)"
   ]
  },
  {
   "cell_type": "markdown",
   "metadata": {},
   "source": [
    "**KOREKCIA:** Prvý stlpec si zadefinujeme ako index"
   ]
  },
  {
   "cell_type": "code",
   "execution_count": 5,
   "metadata": {},
   "outputs": [],
   "source": [
    "file_path = \"data/zadanie4/train.csv\"\n",
    "#file_path = \"data/zadanie4/test.csv\"\n",
    "# Načítame si súbor s datasetom so separátom ',' a ako index nastavime prvý stĺpec\n",
    "data = pd.read_csv(file_path, sep=',', index_col=0)\n",
    "# Pomenujeme si index\n",
    "data.index.name = 'id'"
   ]
  },
  {
   "cell_type": "code",
   "execution_count": 6,
   "metadata": {},
   "outputs": [
    {
     "name": "stdout",
     "output_type": "stream",
     "text": [
      "<class 'pandas.core.frame.DataFrame'>\n",
      "Int64Index: 2800 entries, 0 to 2799\n",
      "Data columns (total 39 columns):\n",
      "age                          2799 non-null float64\n",
      "sex                          2800 non-null object\n",
      "on thyroxine                 2800 non-null object\n",
      "query on thyroxine           2800 non-null object\n",
      "on antithyroid medication    2800 non-null object\n",
      "sick                         2800 non-null object\n",
      "pregnant                     2800 non-null object\n",
      "thyroid surgery              2800 non-null object\n",
      "I131 treatment               2800 non-null object\n",
      "query hypothyroid            2800 non-null object\n",
      "query hyperthyroid           2800 non-null object\n",
      "lithium                      2800 non-null object\n",
      "goitre                       2800 non-null object\n",
      "tumor                        2800 non-null object\n",
      "hypopituitary                2800 non-null object\n",
      "psych                        2800 non-null object\n",
      "TSH measured                 2800 non-null object\n",
      "TSH                          2516 non-null float64\n",
      "T3 measured                  2800 non-null object\n",
      "T3                           2215 non-null float64\n",
      "TT4 measured                 2800 non-null object\n",
      "TT4                          2616 non-null float64\n",
      "T4U measured                 2800 non-null object\n",
      "T4U                          2503 non-null float64\n",
      "FTI measured                 2800 non-null object\n",
      "FTI                          2800 non-null object\n",
      "TBG measured                 2800 non-null object\n",
      "TBG                          2800 non-null object\n",
      "referral source              2800 non-null object\n",
      "class                        2800 non-null object\n",
      "fnlwgt                       2800 non-null int64\n",
      "education                    2800 non-null object\n",
      "education-num                2800 non-null int64\n",
      "relationship                 2800 non-null object\n",
      "capital-gain                 2520 non-null float64\n",
      "capital-loss                 2800 non-null int64\n",
      "hours-per-week               2800 non-null int64\n",
      "date_of_birth                2610 non-null object\n",
      "personal_info                2800 non-null object\n",
      "dtypes: float64(6), int64(4), object(29)\n",
      "memory usage: 875.0+ KB\n"
     ]
    }
   ],
   "source": [
    "# Vypíšeme si základné informácie o datasete\n",
    "data.info()"
   ]
  },
  {
   "cell_type": "code",
   "execution_count": 7,
   "metadata": {},
   "outputs": [
    {
     "data": {
      "text/html": [
       "<div>\n",
       "<style scoped>\n",
       "    .dataframe tbody tr th:only-of-type {\n",
       "        vertical-align: middle;\n",
       "    }\n",
       "\n",
       "    .dataframe tbody tr th {\n",
       "        vertical-align: top;\n",
       "    }\n",
       "\n",
       "    .dataframe thead th {\n",
       "        text-align: right;\n",
       "    }\n",
       "</style>\n",
       "<table border=\"1\" class=\"dataframe\">\n",
       "  <thead>\n",
       "    <tr style=\"text-align: right;\">\n",
       "      <th></th>\n",
       "      <th>age</th>\n",
       "      <th>sex</th>\n",
       "      <th>on thyroxine</th>\n",
       "      <th>query on thyroxine</th>\n",
       "      <th>on antithyroid medication</th>\n",
       "      <th>sick</th>\n",
       "      <th>pregnant</th>\n",
       "      <th>thyroid surgery</th>\n",
       "      <th>I131 treatment</th>\n",
       "      <th>query hypothyroid</th>\n",
       "      <th>...</th>\n",
       "      <th>class</th>\n",
       "      <th>fnlwgt</th>\n",
       "      <th>education</th>\n",
       "      <th>education-num</th>\n",
       "      <th>relationship</th>\n",
       "      <th>capital-gain</th>\n",
       "      <th>capital-loss</th>\n",
       "      <th>hours-per-week</th>\n",
       "      <th>date_of_birth</th>\n",
       "      <th>personal_info</th>\n",
       "    </tr>\n",
       "    <tr>\n",
       "      <th>id</th>\n",
       "      <th></th>\n",
       "      <th></th>\n",
       "      <th></th>\n",
       "      <th></th>\n",
       "      <th></th>\n",
       "      <th></th>\n",
       "      <th></th>\n",
       "      <th></th>\n",
       "      <th></th>\n",
       "      <th></th>\n",
       "      <th></th>\n",
       "      <th></th>\n",
       "      <th></th>\n",
       "      <th></th>\n",
       "      <th></th>\n",
       "      <th></th>\n",
       "      <th></th>\n",
       "      <th></th>\n",
       "      <th></th>\n",
       "      <th></th>\n",
       "      <th></th>\n",
       "    </tr>\n",
       "  </thead>\n",
       "  <tbody>\n",
       "    <tr>\n",
       "      <th>0</th>\n",
       "      <td>72.0</td>\n",
       "      <td>F</td>\n",
       "      <td>t</td>\n",
       "      <td>f</td>\n",
       "      <td>f</td>\n",
       "      <td>f</td>\n",
       "      <td>f</td>\n",
       "      <td>f</td>\n",
       "      <td>f</td>\n",
       "      <td>f</td>\n",
       "      <td>...</td>\n",
       "      <td>replacement therapy.|3560</td>\n",
       "      <td>140581</td>\n",
       "      <td>Some-college</td>\n",
       "      <td>1000</td>\n",
       "      <td>Unmarried</td>\n",
       "      <td>0.0</td>\n",
       "      <td>0</td>\n",
       "      <td>40</td>\n",
       "      <td>1946-02-03</td>\n",
       "      <td>Other-service|United-States\\nWidowed -- privat...</td>\n",
       "    </tr>\n",
       "    <tr>\n",
       "      <th>1</th>\n",
       "      <td>52.0</td>\n",
       "      <td>F</td>\n",
       "      <td>f</td>\n",
       "      <td>f</td>\n",
       "      <td>f</td>\n",
       "      <td>f</td>\n",
       "      <td>f</td>\n",
       "      <td>f</td>\n",
       "      <td>f</td>\n",
       "      <td>f</td>\n",
       "      <td>...</td>\n",
       "      <td>negative.|311</td>\n",
       "      <td>180916</td>\n",
       "      <td>Some-college</td>\n",
       "      <td>10</td>\n",
       "      <td>Unmarried</td>\n",
       "      <td>0.0</td>\n",
       "      <td>0</td>\n",
       "      <td>38</td>\n",
       "      <td>1965-08-27</td>\n",
       "      <td>Adm-clerical|United-States\\nSeparated -- Local...</td>\n",
       "    </tr>\n",
       "  </tbody>\n",
       "</table>\n",
       "<p>2 rows × 39 columns</p>\n",
       "</div>"
      ],
      "text/plain": [
       "     age sex on thyroxine query on thyroxine on antithyroid medication sick  \\\n",
       "id                                                                            \n",
       "0   72.0   F            t                  f                         f    f   \n",
       "1   52.0   F            f                  f                         f    f   \n",
       "\n",
       "   pregnant thyroid surgery I131 treatment query hypothyroid  \\\n",
       "id                                                             \n",
       "0         f               f              f                 f   \n",
       "1         f               f              f                 f   \n",
       "\n",
       "                          ...                          \\\n",
       "id                        ...                           \n",
       "0                         ...                           \n",
       "1                         ...                           \n",
       "\n",
       "                        class  fnlwgt      education education-num  \\\n",
       "id                                                                   \n",
       "0   replacement therapy.|3560  140581   Some-college          1000   \n",
       "1               negative.|311  180916   Some-college            10   \n",
       "\n",
       "   relationship capital-gain capital-loss  hours-per-week date_of_birth  \\\n",
       "id                                                                        \n",
       "0     Unmarried          0.0            0              40    1946-02-03   \n",
       "1     Unmarried          0.0            0              38    1965-08-27   \n",
       "\n",
       "                                        personal_info  \n",
       "id                                                     \n",
       "0   Other-service|United-States\\nWidowed -- privat...  \n",
       "1   Adm-clerical|United-States\\nSeparated -- Local...  \n",
       "\n",
       "[2 rows x 39 columns]"
      ]
     },
     "execution_count": 7,
     "metadata": {},
     "output_type": "execute_result"
    }
   ],
   "source": [
    "# Vypis prvých dvoch riadkov datasetu\n",
    "data.head(2)"
   ]
  },
  {
   "cell_type": "code",
   "execution_count": 8,
   "metadata": {},
   "outputs": [
    {
     "data": {
      "text/html": [
       "<div>\n",
       "<style scoped>\n",
       "    .dataframe tbody tr th:only-of-type {\n",
       "        vertical-align: middle;\n",
       "    }\n",
       "\n",
       "    .dataframe tbody tr th {\n",
       "        vertical-align: top;\n",
       "    }\n",
       "\n",
       "    .dataframe thead th {\n",
       "        text-align: right;\n",
       "    }\n",
       "</style>\n",
       "<table border=\"1\" class=\"dataframe\">\n",
       "  <thead>\n",
       "    <tr style=\"text-align: right;\">\n",
       "      <th></th>\n",
       "      <th>age</th>\n",
       "      <th>TSH</th>\n",
       "      <th>T3</th>\n",
       "      <th>TT4</th>\n",
       "      <th>T4U</th>\n",
       "      <th>capital-gain</th>\n",
       "    </tr>\n",
       "  </thead>\n",
       "  <tbody>\n",
       "    <tr>\n",
       "      <th>count</th>\n",
       "      <td>2799.00000</td>\n",
       "      <td>2516.000000</td>\n",
       "      <td>2215.000000</td>\n",
       "      <td>2616.000000</td>\n",
       "      <td>2503.000000</td>\n",
       "      <td>2520.000000</td>\n",
       "    </tr>\n",
       "    <tr>\n",
       "      <th>mean</th>\n",
       "      <td>51.84423</td>\n",
       "      <td>4.672150</td>\n",
       "      <td>2.024966</td>\n",
       "      <td>109.072401</td>\n",
       "      <td>0.997912</td>\n",
       "      <td>881.830952</td>\n",
       "    </tr>\n",
       "    <tr>\n",
       "      <th>std</th>\n",
       "      <td>20.46116</td>\n",
       "      <td>21.449453</td>\n",
       "      <td>0.824600</td>\n",
       "      <td>35.392443</td>\n",
       "      <td>0.194390</td>\n",
       "      <td>6921.674828</td>\n",
       "    </tr>\n",
       "    <tr>\n",
       "      <th>min</th>\n",
       "      <td>1.00000</td>\n",
       "      <td>0.005000</td>\n",
       "      <td>0.050000</td>\n",
       "      <td>2.000000</td>\n",
       "      <td>0.310000</td>\n",
       "      <td>0.000000</td>\n",
       "    </tr>\n",
       "    <tr>\n",
       "      <th>25%</th>\n",
       "      <td>36.00000</td>\n",
       "      <td>0.440000</td>\n",
       "      <td>1.600000</td>\n",
       "      <td>88.000000</td>\n",
       "      <td>0.880000</td>\n",
       "      <td>0.000000</td>\n",
       "    </tr>\n",
       "    <tr>\n",
       "      <th>50%</th>\n",
       "      <td>54.00000</td>\n",
       "      <td>1.400000</td>\n",
       "      <td>2.000000</td>\n",
       "      <td>104.000000</td>\n",
       "      <td>0.980000</td>\n",
       "      <td>0.000000</td>\n",
       "    </tr>\n",
       "    <tr>\n",
       "      <th>75%</th>\n",
       "      <td>67.00000</td>\n",
       "      <td>2.600000</td>\n",
       "      <td>2.400000</td>\n",
       "      <td>125.000000</td>\n",
       "      <td>1.080000</td>\n",
       "      <td>0.000000</td>\n",
       "    </tr>\n",
       "    <tr>\n",
       "      <th>max</th>\n",
       "      <td>455.00000</td>\n",
       "      <td>478.000000</td>\n",
       "      <td>10.600000</td>\n",
       "      <td>430.000000</td>\n",
       "      <td>2.120000</td>\n",
       "      <td>99999.000000</td>\n",
       "    </tr>\n",
       "  </tbody>\n",
       "</table>\n",
       "</div>"
      ],
      "text/plain": [
       "              age          TSH           T3          TT4          T4U  \\\n",
       "count  2799.00000  2516.000000  2215.000000  2616.000000  2503.000000   \n",
       "mean     51.84423     4.672150     2.024966   109.072401     0.997912   \n",
       "std      20.46116    21.449453     0.824600    35.392443     0.194390   \n",
       "min       1.00000     0.005000     0.050000     2.000000     0.310000   \n",
       "25%      36.00000     0.440000     1.600000    88.000000     0.880000   \n",
       "50%      54.00000     1.400000     2.000000   104.000000     0.980000   \n",
       "75%      67.00000     2.600000     2.400000   125.000000     1.080000   \n",
       "max     455.00000   478.000000    10.600000   430.000000     2.120000   \n",
       "\n",
       "       capital-gain  \n",
       "count   2520.000000  \n",
       "mean     881.830952  \n",
       "std     6921.674828  \n",
       "min        0.000000  \n",
       "25%        0.000000  \n",
       "50%        0.000000  \n",
       "75%        0.000000  \n",
       "max    99999.000000  "
      ]
     },
     "execution_count": 8,
     "metadata": {},
     "output_type": "execute_result"
    }
   ],
   "source": [
    "#Vypis spojitých atribútov typu floqat64\n",
    "data.select_dtypes('float64').describe()"
   ]
  },
  {
   "cell_type": "code",
   "execution_count": 9,
   "metadata": {},
   "outputs": [
    {
     "data": {
      "text/html": [
       "<div>\n",
       "<style scoped>\n",
       "    .dataframe tbody tr th:only-of-type {\n",
       "        vertical-align: middle;\n",
       "    }\n",
       "\n",
       "    .dataframe tbody tr th {\n",
       "        vertical-align: top;\n",
       "    }\n",
       "\n",
       "    .dataframe thead th {\n",
       "        text-align: right;\n",
       "    }\n",
       "</style>\n",
       "<table border=\"1\" class=\"dataframe\">\n",
       "  <thead>\n",
       "    <tr style=\"text-align: right;\">\n",
       "      <th></th>\n",
       "      <th>fnlwgt</th>\n",
       "      <th>education-num</th>\n",
       "      <th>capital-loss</th>\n",
       "      <th>hours-per-week</th>\n",
       "    </tr>\n",
       "  </thead>\n",
       "  <tbody>\n",
       "    <tr>\n",
       "      <th>count</th>\n",
       "      <td>2.800000e+03</td>\n",
       "      <td>2800.000000</td>\n",
       "      <td>2800.000000</td>\n",
       "      <td>2800.000000</td>\n",
       "    </tr>\n",
       "    <tr>\n",
       "      <th>mean</th>\n",
       "      <td>1.871231e+05</td>\n",
       "      <td>9.206429</td>\n",
       "      <td>65.141786</td>\n",
       "      <td>38.544643</td>\n",
       "    </tr>\n",
       "    <tr>\n",
       "      <th>std</th>\n",
       "      <td>1.039134e+05</td>\n",
       "      <td>330.254790</td>\n",
       "      <td>346.739277</td>\n",
       "      <td>12.039004</td>\n",
       "    </tr>\n",
       "    <tr>\n",
       "      <th>min</th>\n",
       "      <td>1.970000e+04</td>\n",
       "      <td>-1600.000000</td>\n",
       "      <td>0.000000</td>\n",
       "      <td>1.000000</td>\n",
       "    </tr>\n",
       "    <tr>\n",
       "      <th>25%</th>\n",
       "      <td>1.179575e+05</td>\n",
       "      <td>9.000000</td>\n",
       "      <td>0.000000</td>\n",
       "      <td>35.000000</td>\n",
       "    </tr>\n",
       "    <tr>\n",
       "      <th>50%</th>\n",
       "      <td>1.766680e+05</td>\n",
       "      <td>10.000000</td>\n",
       "      <td>0.000000</td>\n",
       "      <td>40.000000</td>\n",
       "    </tr>\n",
       "    <tr>\n",
       "      <th>75%</th>\n",
       "      <td>2.326778e+05</td>\n",
       "      <td>13.000000</td>\n",
       "      <td>0.000000</td>\n",
       "      <td>40.000000</td>\n",
       "    </tr>\n",
       "    <tr>\n",
       "      <th>max</th>\n",
       "      <td>1.161363e+06</td>\n",
       "      <td>1600.000000</td>\n",
       "      <td>4356.000000</td>\n",
       "      <td>99.000000</td>\n",
       "    </tr>\n",
       "  </tbody>\n",
       "</table>\n",
       "</div>"
      ],
      "text/plain": [
       "             fnlwgt  education-num  capital-loss  hours-per-week\n",
       "count  2.800000e+03    2800.000000   2800.000000     2800.000000\n",
       "mean   1.871231e+05       9.206429     65.141786       38.544643\n",
       "std    1.039134e+05     330.254790    346.739277       12.039004\n",
       "min    1.970000e+04   -1600.000000      0.000000        1.000000\n",
       "25%    1.179575e+05       9.000000      0.000000       35.000000\n",
       "50%    1.766680e+05      10.000000      0.000000       40.000000\n",
       "75%    2.326778e+05      13.000000      0.000000       40.000000\n",
       "max    1.161363e+06    1600.000000   4356.000000       99.000000"
      ]
     },
     "execution_count": 9,
     "metadata": {},
     "output_type": "execute_result"
    }
   ],
   "source": [
    "#Vypis spojitých atribútov typu int64\n",
    "data.select_dtypes('int64').describe()"
   ]
  },
  {
   "cell_type": "code",
   "execution_count": 10,
   "metadata": {},
   "outputs": [
    {
     "data": {
      "text/html": [
       "<div>\n",
       "<style scoped>\n",
       "    .dataframe tbody tr th:only-of-type {\n",
       "        vertical-align: middle;\n",
       "    }\n",
       "\n",
       "    .dataframe tbody tr th {\n",
       "        vertical-align: top;\n",
       "    }\n",
       "\n",
       "    .dataframe thead th {\n",
       "        text-align: right;\n",
       "    }\n",
       "</style>\n",
       "<table border=\"1\" class=\"dataframe\">\n",
       "  <thead>\n",
       "    <tr style=\"text-align: right;\">\n",
       "      <th></th>\n",
       "      <th>sex</th>\n",
       "      <th>on thyroxine</th>\n",
       "      <th>query on thyroxine</th>\n",
       "      <th>on antithyroid medication</th>\n",
       "      <th>sick</th>\n",
       "      <th>pregnant</th>\n",
       "      <th>thyroid surgery</th>\n",
       "      <th>I131 treatment</th>\n",
       "      <th>query hypothyroid</th>\n",
       "      <th>query hyperthyroid</th>\n",
       "      <th>...</th>\n",
       "      <th>FTI measured</th>\n",
       "      <th>FTI</th>\n",
       "      <th>TBG measured</th>\n",
       "      <th>TBG</th>\n",
       "      <th>referral source</th>\n",
       "      <th>class</th>\n",
       "      <th>education</th>\n",
       "      <th>relationship</th>\n",
       "      <th>date_of_birth</th>\n",
       "      <th>personal_info</th>\n",
       "    </tr>\n",
       "  </thead>\n",
       "  <tbody>\n",
       "    <tr>\n",
       "      <th>count</th>\n",
       "      <td>2800</td>\n",
       "      <td>2800</td>\n",
       "      <td>2800</td>\n",
       "      <td>2800</td>\n",
       "      <td>2800</td>\n",
       "      <td>2800</td>\n",
       "      <td>2800</td>\n",
       "      <td>2800</td>\n",
       "      <td>2800</td>\n",
       "      <td>2800</td>\n",
       "      <td>...</td>\n",
       "      <td>2800</td>\n",
       "      <td>2800</td>\n",
       "      <td>2800</td>\n",
       "      <td>2800</td>\n",
       "      <td>2800</td>\n",
       "      <td>2800</td>\n",
       "      <td>2800</td>\n",
       "      <td>2800</td>\n",
       "      <td>2610</td>\n",
       "      <td>2800</td>\n",
       "    </tr>\n",
       "    <tr>\n",
       "      <th>unique</th>\n",
       "      <td>3</td>\n",
       "      <td>6</td>\n",
       "      <td>2</td>\n",
       "      <td>2</td>\n",
       "      <td>2</td>\n",
       "      <td>2</td>\n",
       "      <td>2</td>\n",
       "      <td>2</td>\n",
       "      <td>2</td>\n",
       "      <td>2</td>\n",
       "      <td>...</td>\n",
       "      <td>2</td>\n",
       "      <td>210</td>\n",
       "      <td>1</td>\n",
       "      <td>1</td>\n",
       "      <td>5</td>\n",
       "      <td>2800</td>\n",
       "      <td>16</td>\n",
       "      <td>9</td>\n",
       "      <td>2456</td>\n",
       "      <td>700</td>\n",
       "    </tr>\n",
       "    <tr>\n",
       "      <th>top</th>\n",
       "      <td>F</td>\n",
       "      <td>f</td>\n",
       "      <td>f</td>\n",
       "      <td>f</td>\n",
       "      <td>f</td>\n",
       "      <td>f</td>\n",
       "      <td>f</td>\n",
       "      <td>f</td>\n",
       "      <td>f</td>\n",
       "      <td>f</td>\n",
       "      <td>...</td>\n",
       "      <td>t</td>\n",
       "      <td>?</td>\n",
       "      <td>f</td>\n",
       "      <td>?</td>\n",
       "      <td>other</td>\n",
       "      <td>negative.|1488</td>\n",
       "      <td>HS-grad</td>\n",
       "      <td>Not-in-family</td>\n",
       "      <td>??</td>\n",
       "      <td>Other-service|United-States\\nNever-married -- ...</td>\n",
       "    </tr>\n",
       "    <tr>\n",
       "      <th>freq</th>\n",
       "      <td>1830</td>\n",
       "      <td>2218</td>\n",
       "      <td>2760</td>\n",
       "      <td>2766</td>\n",
       "      <td>2690</td>\n",
       "      <td>2759</td>\n",
       "      <td>2761</td>\n",
       "      <td>2752</td>\n",
       "      <td>2637</td>\n",
       "      <td>2627</td>\n",
       "      <td>...</td>\n",
       "      <td>2505</td>\n",
       "      <td>295</td>\n",
       "      <td>2800</td>\n",
       "      <td>2800</td>\n",
       "      <td>1632</td>\n",
       "      <td>1</td>\n",
       "      <td>894</td>\n",
       "      <td>809</td>\n",
       "      <td>90</td>\n",
       "      <td>119</td>\n",
       "    </tr>\n",
       "  </tbody>\n",
       "</table>\n",
       "<p>4 rows × 29 columns</p>\n",
       "</div>"
      ],
      "text/plain": [
       "         sex on thyroxine query on thyroxine on antithyroid medication  sick  \\\n",
       "count   2800         2800               2800                      2800  2800   \n",
       "unique     3            6                  2                         2     2   \n",
       "top        F            f                  f                         f     f   \n",
       "freq    1830         2218               2760                      2766  2690   \n",
       "\n",
       "       pregnant thyroid surgery I131 treatment query hypothyroid  \\\n",
       "count      2800            2800           2800              2800   \n",
       "unique        2               2              2                 2   \n",
       "top           f               f              f                 f   \n",
       "freq       2759            2761           2752              2637   \n",
       "\n",
       "       query hyperthyroid                        ...                          \\\n",
       "count                2800                        ...                           \n",
       "unique                  2                        ...                           \n",
       "top                     f                        ...                           \n",
       "freq                 2627                        ...                           \n",
       "\n",
       "       FTI measured   FTI TBG measured   TBG referral source           class  \\\n",
       "count          2800  2800         2800  2800            2800            2800   \n",
       "unique            2   210            1     1               5            2800   \n",
       "top               t     ?            f     ?           other  negative.|1488   \n",
       "freq           2505   295         2800  2800            1632               1   \n",
       "\n",
       "       education    relationship date_of_birth  \\\n",
       "count       2800            2800          2610   \n",
       "unique        16               9          2456   \n",
       "top      HS-grad   Not-in-family            ??   \n",
       "freq         894             809            90   \n",
       "\n",
       "                                            personal_info  \n",
       "count                                                2800  \n",
       "unique                                                700  \n",
       "top     Other-service|United-States\\nNever-married -- ...  \n",
       "freq                                                  119  \n",
       "\n",
       "[4 rows x 29 columns]"
      ]
     },
     "execution_count": 10,
     "metadata": {},
     "output_type": "execute_result"
    }
   ],
   "source": [
    "#Výpis atribútov s nešpecifikovaným dátovým typom\n",
    "data.select_dtypes('object').describe()"
   ]
  },
  {
   "cell_type": "markdown",
   "metadata": {},
   "source": [
    "**POZOROVANIE:** Z týchto základných informácií môžeme pozorovať, že niektoré atribúty obsahujú aj **null hodnoty**. Pre atribúty spojité(kvantitatívne) atribúty **age, TSH, T3, TT4, T4U, capital-gain, date_of_birth** budeme musiet null hodnoty vhodne doplniť alebo vyradiť celý záznam z datasetu.\n",
    "Na prvý pohľad nazvy niektorých atribútov *(napr. T3, TT4, T4U atď.)* nevieme čo znamenajú a preto bude potreba si naštudovať doménovú oblasť a pokusiť sa ich **lepšie zadefinovať**. Názvy atribútov tiež niesu konzistentné a to v prípade, ak sa atribút skladá z viacerých slov *(napr. pomlčka, medzera, počiarkovník)*.  \n",
    "**Počet riadkov:** 2800   \n",
    "**Počet stĺpcov:** 39  \n",
    "**Dátové typy:** float64(6), int64(4), object(29)  "
   ]
  },
  {
   "cell_type": "markdown",
   "metadata": {},
   "source": [
    "#  Analýza atribútov po jednom (Univariate analysis)\n",
    "Na základe analýzy jednotlivých údajov sme atribúty rozdelili do niekoľkých skupín.\n",
    "\n",
    "1. Osobné údaje\n",
    "2. Liečba\n",
    "3. Ochorenia\n",
    "4. Vyšetrenia a výsledky\n",
    "5. Otázky doktora"
   ]
  },
  {
   "cell_type": "markdown",
   "metadata": {},
   "source": [
    "## Osobné údaje\n",
    "V tejto časti sú opísané atribúty opisujúce základné osobné údaje o pacientovi ako prácu, vek, pohlavie, rasu, štát, dátum narodenia atď."
   ]
  },
  {
   "cell_type": "markdown",
   "metadata": {},
   "source": [
    "### Atribút - personal_info"
   ]
  },
  {
   "cell_type": "code",
   "execution_count": 11,
   "metadata": {},
   "outputs": [
    {
     "data": {
      "text/plain": [
       "id\n",
       "0    Other-service|United-States\\nWidowed -- privat...\n",
       "1    Adm-clerical|United-States\\nSeparated -- Local...\n",
       "2    Sales|United-States\\nMarried-civ-spouse -- pri...\n",
       "3    Sales|United-States\\nNever-married -- Private|...\n",
       "4    Adm-clerical|United-States\\nNever-married -- P...\n",
       "Name: personal_info, dtype: object"
      ]
     },
     "execution_count": 11,
     "metadata": {},
     "output_type": "execute_result"
    }
   ],
   "source": [
    "data['personal_info'].head()"
   ]
  },
  {
   "cell_type": "markdown",
   "metadata": {},
   "source": [
    "**POZOROVANIE:** Usudzujeme, že tento atribút v sebe niesie niektoré **osobné údaje o pacientovi**. Na prvý pohľad môžeme vidieť, že atribút pozostáva z viacerých informácií. Do budúcna navrhujeme tento atribút rozdeliť na dalšie atribúty. Nové atribúty job - práca pacienta, state - štátna príslušnosť, parents_definition - rodičovstvo, segment - pracovný sektor, race - rasa. Všetky nové atribúty budeme považovažovať za **kategorické nominálne atribúty** "
   ]
  },
  {
   "cell_type": "markdown",
   "metadata": {},
   "source": [
    "**KOREKCIA:** Atribút rozdelíme na 5 atribútov. [job, state, parents_definition, segment, race]."
   ]
  },
  {
   "cell_type": "code",
   "execution_count": 12,
   "metadata": {
    "scrolled": true
   },
   "outputs": [],
   "source": [
    "df_personal_data = pd.DataFrame(data['personal_info'].str.replace('\\n','|').str.replace('--','|').str.split('|', expand=False).tolist(), columns=['job','state', 'parents_definition', 'segment', 'race'])"
   ]
  },
  {
   "cell_type": "code",
   "execution_count": 13,
   "metadata": {},
   "outputs": [
    {
     "name": "stdout",
     "output_type": "stream",
     "text": [
      "AxesSubplot(0.125,0.125;0.775x0.755)\n",
      "AxesSubplot(0.125,0.125;0.775x0.755)\n",
      "AxesSubplot(0.125,0.125;0.775x0.755)\n",
      "AxesSubplot(0.125,0.125;0.775x0.755)\n",
      "AxesSubplot(0.125,0.125;0.775x0.755)\n"
     ]
    },
    {
     "data": {
      "image/png": "[encoded data removed]",
      "text/plain": [
       "<matplotlib.figure.Figure at 0x10d7c5be0>"
      ]
     },
     "metadata": {},
     "output_type": "display_data"
    },
    {
     "data": {
      "image/png": "[encoded data removed]",
      "text/plain": [
       "<matplotlib.figure.Figure at 0x10c5dd518>"
      ]
     },
     "metadata": {},
     "output_type": "display_data"
    },
    {
     "data": {
      "image/png": "[encoded data removed]",
      "text/plain": [
       "<matplotlib.figure.Figure at 0x1a1428d898>"
      ]
     },
     "metadata": {},
     "output_type": "display_data"
    },
    {
     "data": {
      "image/png": "[encoded data removed]",
      "text/plain": [
       "<matplotlib.figure.Figure at 0x1a19e8ee10>"
      ]
     },
     "metadata": {},
     "output_type": "display_data"
    },
    {
     "data": {
      "image/png": "[encoded data removed]",
      "text/plain": [
       "<matplotlib.figure.Figure at 0x1a19eef7f0>"
      ]
     },
     "metadata": {},
     "output_type": "display_data"
    },
    {
     "data": {
      "text/plain": [
       "<matplotlib.figure.Figure at 0x1a19f48908>"
      ]
     },
     "metadata": {},
     "output_type": "display_data"
    }
   ],
   "source": [
    "for column in df_personal_data.columns:\n",
    "    print(df_personal_data[column].value_counts(dropna=False).plot(kind='bar'))\n",
    "    plt.figure()"
   ]
  },
  {
   "cell_type": "markdown",
   "metadata": {},
   "source": [
    "**POZOROVANIE:** Pri atribúte **job** chýbajú dáta. Týchto pacientov môžeme považovať za nezamestnaných v prípade ak aj hodnotu v segmente nemajú poprípade majú veľmi nízky vek a ešte niesu práce schopný. Pre atribút **segment** bude potrebné zjednotiť formát dát a pridať hodnoty, ktoré chýbajú. Môžeme ich doplniť podľa atribútu **job**. Nájdeme si ľudí, ktorý majú rovnakú pracu a majú vyplnený aj segment a taký istý segment doplníme do chýbajúcej hodnoty."
   ]
  },
  {
   "cell_type": "markdown",
   "metadata": {},
   "source": [
    "### Atribút - relationship"
   ]
  },
  {
   "cell_type": "code",
   "execution_count": 14,
   "metadata": {},
   "outputs": [
    {
     "data": {
      "text/plain": [
       "id\n",
       "0     Unmarried\n",
       "1     Unmarried\n",
       "2       Husband\n",
       "3     Own-child\n",
       "4     Own_child\n",
       "Name: relationship, dtype: object"
      ]
     },
     "execution_count": 14,
     "metadata": {},
     "output_type": "execute_result"
    }
   ],
   "source": [
    "data['relationship'].head()"
   ]
  },
  {
   "cell_type": "markdown",
   "metadata": {},
   "source": [
    "**POZOROVANIE:** Usudzujeme, že tento atribút v sebe niesie **údaje o stave pacienta**. Tento atribút budeme považovať za **kategorický nominálny atribút.**"
   ]
  },
  {
   "cell_type": "code",
   "execution_count": 15,
   "metadata": {},
   "outputs": [
    {
     "data": {
      "text/plain": [
       " Not-in-family     809\n",
       " Husband           550\n",
       " Unmarried         510\n",
       " Own-child         441\n",
       " Wife              253\n",
       " Not_in_family      95\n",
       " Other-relative     80\n",
       " Own_child          53\n",
       " Other_relative      9\n",
       "Name: relationship, dtype: int64"
      ]
     },
     "execution_count": 15,
     "metadata": {},
     "output_type": "execute_result"
    }
   ],
   "source": [
    "data['relationship'].value_counts(dropna=False)"
   ]
  },
  {
   "cell_type": "markdown",
   "metadata": {},
   "source": [
    "**POZOROVANIE:** Pri počítaní jednotlivých hodnôt v stĺpci **relationship** sme narazili na problém s **nekonzistentnými dátami**. Musíme ich upraviť na takú podobu, aby jednotlivé slová neboli oddelené pomlčkou, ale podtržníkom, t.j. máme dve hodnoty - other-relative a other_relative, ktoré očividne vyjadrujú to isté, ale sú inak zapísané. "
   ]
  },
  {
   "cell_type": "markdown",
   "metadata": {},
   "source": [
    "**KOREKCIA:** Zjednotíme názvy"
   ]
  },
  {
   "cell_type": "code",
   "execution_count": 16,
   "metadata": {},
   "outputs": [
    {
     "data": {
      "text/plain": [
       "<matplotlib.axes._subplots.AxesSubplot at 0x1a1d5f28d0>"
      ]
     },
     "execution_count": 16,
     "metadata": {},
     "output_type": "execute_result"
    },
    {
     "data": {
      "image/png": "[encoded data removed]",
      "text/plain": [
       "<matplotlib.figure.Figure at 0x1a1d5f22b0>"
      ]
     },
     "metadata": {},
     "output_type": "display_data"
    }
   ],
   "source": [
    "new_column = '_relationship'\n",
    "clean_data = pd.DataFrame()\n",
    "clean_data[new_column] = data['relationship'].apply(str.strip)\n",
    "clean_data[new_column] = clean_data[new_column].replace('Other-relative', 'Other_relative')\n",
    "clean_data[new_column] = clean_data[new_column].replace('Own-child', 'Own_child')\n",
    "clean_data[new_column] = clean_data[new_column].replace('Not-in-family', 'Not_in_family')\n",
    "clean_data[new_column].value_counts().plot(kind='bar')"
   ]
  },
  {
   "cell_type": "markdown",
   "metadata": {},
   "source": [
    "**POZOROVANIE:** Na bar plote môžeme vidieť, že väčšina pacientov **nemá založenú rodinu**"
   ]
  },
  {
   "cell_type": "markdown",
   "metadata": {},
   "source": [
    "### Atribút - age"
   ]
  },
  {
   "cell_type": "code",
   "execution_count": 17,
   "metadata": {},
   "outputs": [
    {
     "data": {
      "text/plain": [
       "id\n",
       "0    72.0\n",
       "1    52.0\n",
       "2    62.0\n",
       "3    23.0\n",
       "4    63.0\n",
       "Name: age, dtype: float64"
      ]
     },
     "execution_count": 17,
     "metadata": {},
     "output_type": "execute_result"
    }
   ],
   "source": [
    "# Výpis prvých 5 záznamov pre daný atribút\n",
    "data['age'].head()"
   ]
  },
  {
   "cell_type": "markdown",
   "metadata": {},
   "source": [
    "**POZOROVANIE:** Kedže \"age\" v preklade znamená **vek** a tento atribút v sebe nesie číselné hodnoty usudzujeme, že nám **hovorí o veku pacientov**. Vek budeme považovat za **spojitý (kvantitatívny) intervalový atribút**"
   ]
  },
  {
   "cell_type": "code",
   "execution_count": 18,
   "metadata": {},
   "outputs": [
    {
     "data": {
      "text/plain": [
       "count    2799.00000\n",
       "mean       51.84423\n",
       "std        20.46116\n",
       "min         1.00000\n",
       "25%        36.00000\n",
       "50%        54.00000\n",
       "75%        67.00000\n",
       "max       455.00000\n",
       "Name: age, dtype: float64"
      ]
     },
     "execution_count": 18,
     "metadata": {},
     "output_type": "execute_result"
    }
   ],
   "source": [
    "# vykonáme deskriptívnu štatistiku\n",
    "data['age'].describe()"
   ]
  },
  {
   "cell_type": "markdown",
   "metadata": {},
   "source": [
    "**POZOROVANIE:** Jeden pacient **nemá zaznamenaný údaj o veku** a aspoň jeden pacient má vyplnený nezmyselný **vek 455 rokov**. Takéto nezmyselné hodnoty môžeme odstrániť alebo doplniť na základe priemerného veku pacientov **52 rokov**."
   ]
  },
  {
   "cell_type": "code",
   "execution_count": 19,
   "metadata": {},
   "outputs": [
    {
     "data": {
      "text/plain": [
       "0    59.0\n",
       "dtype: float64"
      ]
     },
     "execution_count": 19,
     "metadata": {},
     "output_type": "execute_result"
    }
   ],
   "source": [
    "# Zistíme si mode (modus): najčastejšia hodnota (hodnota s najvačšou pravdepodobnostou vyskytu)\n",
    "data['age'].mode()"
   ]
  },
  {
   "cell_type": "markdown",
   "metadata": {},
   "source": [
    "**POZOROVANIE:** Môžeme si všimnúť, že väčšina pacientov v datasete je vo veku **59 rokov**."
   ]
  },
  {
   "cell_type": "code",
   "execution_count": 20,
   "metadata": {},
   "outputs": [
    {
     "data": {
      "image/png": "[encoded data removed]",
      "text/plain": [
       "<matplotlib.figure.Figure at 0x1a19fa58d0>"
      ]
     },
     "metadata": {},
     "output_type": "display_data"
    }
   ],
   "source": [
    "column = 'age'\n",
    "# Môžeme odstrániť chýbajúce hodnoty\n",
    "#sample = data.loc[data[column].notna(), column]\n",
    "\n",
    "# Alebo ich môžeme nahradiť za priemerný vek\n",
    "clean_data['_age'] = data[column].fillna(data[column].mean())\n",
    "\n",
    "seaborn.set()\n",
    "# Vykreslíme si histogram\n",
    "_ = plt.hist(clean_data['_age'], bins=100)\n",
    "_ = plt.xlabel('počet rokov')\n",
    "_ = plt.ylabel('počet pacientov')\n",
    "plt.show()"
   ]
  },
  {
   "cell_type": "markdown",
   "metadata": {},
   "source": [
    "**POZOROVANIE:** Na grafe môžeme pozorovať, jednu hodnotu, ktorá je vychýlená v porovnaní s ostatnými. Jedná sa o **pacienta s vekom viac ako 400 rokov**"
   ]
  },
  {
   "cell_type": "markdown",
   "metadata": {},
   "source": [
    "**KOREKCIA:** Vyfiltrujeme si hodnoty, ktoré potrebujeme zmeniť a vypočítame hodnotu **veku**. V prípade ak by boli dáta zaznemané v rovnakom roku boli by sme schopní vypočítať tento rok ako \"rok narodenia\" + \"prislúchajúci vek\" a **chýbajúce hodnoty** pre **vek** podľa atribútu \"vypočítaný rok\" - \"rok narodenia\". Z takto upraveného datasetu by sme museli dodatočne vyfiltrovať nezmyselné hodnoty a nahradiť ich za **priemerný vek** pacientov. V prípade ak dáta nie sú z jedného roku, doplníme chýbajúci vek **priemerným vekom** všetkých pacientov v datasete. "
   ]
  },
  {
   "cell_type": "code",
   "execution_count": 22,
   "metadata": {},
   "outputs": [
    {
     "data": {
      "text/html": [
       "<div>\n",
       "<style scoped>\n",
       "    .dataframe tbody tr th:only-of-type {\n",
       "        vertical-align: middle;\n",
       "    }\n",
       "\n",
       "    .dataframe tbody tr th {\n",
       "        vertical-align: top;\n",
       "    }\n",
       "\n",
       "    .dataframe thead th {\n",
       "        text-align: right;\n",
       "    }\n",
       "</style>\n",
       "<table border=\"1\" class=\"dataframe\">\n",
       "  <thead>\n",
       "    <tr style=\"text-align: right;\">\n",
       "      <th></th>\n",
       "      <th>age</th>\n",
       "      <th>sex</th>\n",
       "      <th>on thyroxine</th>\n",
       "      <th>query on thyroxine</th>\n",
       "      <th>on antithyroid medication</th>\n",
       "      <th>sick</th>\n",
       "      <th>pregnant</th>\n",
       "      <th>thyroid surgery</th>\n",
       "      <th>I131 treatment</th>\n",
       "      <th>query hypothyroid</th>\n",
       "      <th>...</th>\n",
       "      <th>class</th>\n",
       "      <th>fnlwgt</th>\n",
       "      <th>education</th>\n",
       "      <th>education-num</th>\n",
       "      <th>relationship</th>\n",
       "      <th>capital-gain</th>\n",
       "      <th>capital-loss</th>\n",
       "      <th>hours-per-week</th>\n",
       "      <th>date_of_birth</th>\n",
       "      <th>personal_info</th>\n",
       "    </tr>\n",
       "    <tr>\n",
       "      <th>id</th>\n",
       "      <th></th>\n",
       "      <th></th>\n",
       "      <th></th>\n",
       "      <th></th>\n",
       "      <th></th>\n",
       "      <th></th>\n",
       "      <th></th>\n",
       "      <th></th>\n",
       "      <th></th>\n",
       "      <th></th>\n",
       "      <th></th>\n",
       "      <th></th>\n",
       "      <th></th>\n",
       "      <th></th>\n",
       "      <th></th>\n",
       "      <th></th>\n",
       "      <th></th>\n",
       "      <th></th>\n",
       "      <th></th>\n",
       "      <th></th>\n",
       "      <th></th>\n",
       "    </tr>\n",
       "  </thead>\n",
       "  <tbody>\n",
       "    <tr>\n",
       "      <th>476</th>\n",
       "      <td>NaN</td>\n",
       "      <td>F</td>\n",
       "      <td>t</td>\n",
       "      <td>f</td>\n",
       "      <td>f</td>\n",
       "      <td>f</td>\n",
       "      <td>f</td>\n",
       "      <td>f</td>\n",
       "      <td>t</td>\n",
       "      <td>f</td>\n",
       "      <td>...</td>\n",
       "      <td>negative.|1</td>\n",
       "      <td>122975</td>\n",
       "      <td>HS-grad</td>\n",
       "      <td>9</td>\n",
       "      <td>Wife</td>\n",
       "      <td>0.0</td>\n",
       "      <td>0</td>\n",
       "      <td>21</td>\n",
       "      <td>??</td>\n",
       "      <td>Machine-op-inspct|Trinadad&amp;Tobago\\nMarried-civ...</td>\n",
       "    </tr>\n",
       "    <tr>\n",
       "      <th>685</th>\n",
       "      <td>455.0</td>\n",
       "      <td>F</td>\n",
       "      <td>f</td>\n",
       "      <td>f</td>\n",
       "      <td>f</td>\n",
       "      <td>f</td>\n",
       "      <td>f</td>\n",
       "      <td>f</td>\n",
       "      <td>f</td>\n",
       "      <td>f</td>\n",
       "      <td>...</td>\n",
       "      <td>negative.|861</td>\n",
       "      <td>151474</td>\n",
       "      <td>9th</td>\n",
       "      <td>5</td>\n",
       "      <td>Unmarried</td>\n",
       "      <td>0.0</td>\n",
       "      <td>0</td>\n",
       "      <td>40</td>\n",
       "      <td>1563-01-24</td>\n",
       "      <td>Sales|United-States\\nDivorced -- Private|White</td>\n",
       "    </tr>\n",
       "  </tbody>\n",
       "</table>\n",
       "<p>2 rows × 39 columns</p>\n",
       "</div>"
      ],
      "text/plain": [
       "       age sex on thyroxine query on thyroxine on antithyroid medication sick  \\\n",
       "id                                                                              \n",
       "476    NaN   F            t                  f                         f    f   \n",
       "685  455.0   F            f                  f                         f    f   \n",
       "\n",
       "    pregnant thyroid surgery I131 treatment query hypothyroid  \\\n",
       "id                                                              \n",
       "476        f               f              t                 f   \n",
       "685        f               f              f                 f   \n",
       "\n",
       "                           ...                                  class  fnlwgt  \\\n",
       "id                         ...                                                  \n",
       "476                        ...                            negative.|1  122975   \n",
       "685                        ...                          negative.|861  151474   \n",
       "\n",
       "    education education-num relationship capital-gain capital-loss  \\\n",
       "id                                                                   \n",
       "476   HS-grad             9         Wife          0.0            0   \n",
       "685       9th             5    Unmarried          0.0            0   \n",
       "\n",
       "     hours-per-week date_of_birth  \\\n",
       "id                                  \n",
       "476              21            ??   \n",
       "685              40    1563-01-24   \n",
       "\n",
       "                                         personal_info  \n",
       "id                                                      \n",
       "476  Machine-op-inspct|Trinadad&Tobago\\nMarried-civ...  \n",
       "685     Sales|United-States\\nDivorced -- Private|White  \n",
       "\n",
       "[2 rows x 39 columns]"
      ]
     },
     "execution_count": 22,
     "metadata": {},
     "output_type": "execute_result"
    }
   ],
   "source": [
    "# Zistíme všetky hodnoty, ktoré sa nám zdajú nezmyslené alebo chýbajú\n",
    "data[(data['age'] < 1) | (data['age'] > 100) | (pd.isnull(data['age']))]"
   ]
  },
  {
   "cell_type": "markdown",
   "metadata": {},
   "source": [
    "### Atribút - date_of_birth"
   ]
  },
  {
   "cell_type": "code",
   "execution_count": 23,
   "metadata": {},
   "outputs": [
    {
     "data": {
      "text/plain": [
       "id\n",
       "0     1946-02-03\n",
       "1     1965-08-27\n",
       "2     1955-04-15\n",
       "3     1994-03-26\n",
       "4     1955-01-21\n",
       "5     1961-12-10\n",
       "6     1934-03-03\n",
       "7     1949-07-21\n",
       "8     1999-01-06\n",
       "9     1945-11-10\n",
       "10    1999-09-20\n",
       "11           NaN\n",
       "12           NaN\n",
       "13    1970-09-28\n",
       "14    1942-08-15\n",
       "15    07/07/1973\n",
       "16    1979-12-04\n",
       "17    18/01/1940\n",
       "18    15/10/1952\n",
       "19    1981-07-19\n",
       "Name: date_of_birth, dtype: object"
      ]
     },
     "execution_count": 23,
     "metadata": {},
     "output_type": "execute_result"
    }
   ],
   "source": [
    "# Výpis prvých 5 záznamov pre daný atribút\n",
    "data['date_of_birth'].head(20)"
   ]
  },
  {
   "cell_type": "markdown",
   "metadata": {},
   "source": [
    "**POZOROVANIE:** Kedže **date_of_birth** v preklade znamená **dátum narodenia** a tento atribút v sebe nesie rôzne dátumy usudzujeme, že nám **hovorí o dátume narodenia pacientov**. Dátum narodenia budeme považovat za **spojitý (kvantitatívny) intervalový atribút**. Hodnoty atribútu majú **rôzny formát** a obsahujú aj **nan** hodnoty."
   ]
  },
  {
   "cell_type": "markdown",
   "metadata": {},
   "source": [
    "**KOREKCIA:** Ujednotenie formátu dátumov."
   ]
  },
  {
   "cell_type": "code",
   "execution_count": 24,
   "metadata": {},
   "outputs": [
    {
     "data": {
      "text/plain": [
       "count                    2362\n",
       "unique                   2256\n",
       "top       1983-08-20 00:00:00\n",
       "freq                        3\n",
       "first     1923-05-30 00:00:00\n",
       "last      2067-09-01 00:00:00\n",
       "Name: _date_of_birth, dtype: object"
      ]
     },
     "execution_count": 24,
     "metadata": {},
     "output_type": "execute_result"
    }
   ],
   "source": [
    "# Ujednotíme formát dátumov a všetky hodnoty z ktorých nebude možné vytvoriť date object preved na NaT hodnotu\n",
    "column = '_date_of_birth'\n",
    "clean_data[column] = pd.to_datetime(data['date_of_birth'], errors='coerce')\n",
    "# Vypíšeme si štatistiku\n",
    "clean_data[column].describe()\n",
    "# Vyfiltrujeme si nezmyslený dátum\n",
    "# data[data['clean_date'] == '2067-09-01 00:00:00']"
   ]
  },
  {
   "cell_type": "markdown",
   "metadata": {},
   "source": [
    "**POZOROVANIE:** Po zjednoteni datumov možeme vidieť, že v dátach sú pacienti, ktorí sa ešte nenarodili **2067-09-01**. Táto hodnota je zlá lebo pôvodná hodnota v subore.csv bola **67-09-01**, čo pravdepodobne predstavovalo dátum **1967-09-01**. Navyše funkcia pandas.to_datetime má svoje limitácie [http://pandas-docs.github.io/pandas-docs-travis/timeseries.html#timestamp-limitations]navrhujeme] ale rozhodli sme sa že hodnoty, ktoré sú mimo date_time intervalov nastavíme podľa **veku** s tým, že za východzí rok budeme považovať rok 2017. Viď viac *Analýza po pároch Atribúty - date_of_birth a age*"
   ]
  },
  {
   "cell_type": "markdown",
   "metadata": {},
   "source": [
    "### Atribút - sex"
   ]
  },
  {
   "cell_type": "code",
   "execution_count": 26,
   "metadata": {},
   "outputs": [
    {
     "data": {
      "text/plain": [
       "id\n",
       "0    F\n",
       "1    F\n",
       "2    M\n",
       "3    F\n",
       "4    F\n",
       "Name: sex, dtype: object"
      ]
     },
     "execution_count": 26,
     "metadata": {},
     "output_type": "execute_result"
    }
   ],
   "source": [
    "# Výpis prvých 5 záznamov pre daný atribút\n",
    "data['sex'].head()"
   ]
  },
  {
   "cell_type": "markdown",
   "metadata": {},
   "source": [
    "**POZOROVANIE:** Kedže \"sex\" v preklade znamená **pohlavie** a na prvý pohľad vidíme hodnoty F *(female - žena)*, M *(male - muž)* usudzujeme, že nám hovorí o **pohlaví pacientov**. Pohlavie budeme považovat za **kategorický nominálny atribút**. "
   ]
  },
  {
   "cell_type": "code",
   "execution_count": 27,
   "metadata": {},
   "outputs": [
    {
     "data": {
      "text/plain": [
       "count     2800\n",
       "unique       3\n",
       "top          F\n",
       "freq      1830\n",
       "Name: sex, dtype: object"
      ]
     },
     "execution_count": 27,
     "metadata": {},
     "output_type": "execute_result"
    }
   ],
   "source": [
    "# zistíme si základné charakteristiky záznamov\n",
    "data['sex'].describe()"
   ]
  },
  {
   "cell_type": "markdown",
   "metadata": {},
   "source": [
    "**POZOROVANIE:** V datasete sa nachádzajú **3 typy pohlaví**. Pacienti sú väčšinou **ženy**."
   ]
  },
  {
   "cell_type": "code",
   "execution_count": 28,
   "metadata": {
    "scrolled": true
   },
   "outputs": [
    {
     "data": {
      "text/plain": [
       "F    1830\n",
       "M     860\n",
       "?     110\n",
       "Name: sex, dtype: int64"
      ]
     },
     "execution_count": 28,
     "metadata": {},
     "output_type": "execute_result"
    }
   ],
   "source": [
    "# Vypíšeme si unikátne hodnoty daného atribútu\n",
    "data['sex'].value_counts()"
   ]
  },
  {
   "cell_type": "markdown",
   "metadata": {},
   "source": [
    "*POZNÁMKA: Nemci uzákonili aj tretie pohlavie \"intersex\" [http://www.independent.co.uk/news/world/europe/germany-third-gender-male-female-intersex-court-parliament-bundesverfassungsgericht-berlin-lgbt-a8043261.html]*"
   ]
  },
  {
   "cell_type": "markdown",
   "metadata": {},
   "source": [
    "**POZOROVANIE:** Dataset obsahuje tri pohlavia *F (female - žena), M (male - muž), **?** (chyba alebo intersex)*. Ak chýbajúcu hodnotu nebudeme považovať za tretie pohlavie budeme ju musieť vyzistiť z dalších atribútov. Ctrl + f *\"Atribúty - sex, pregnant, relation_ship\"*"
   ]
  },
  {
   "cell_type": "code",
   "execution_count": 29,
   "metadata": {},
   "outputs": [
    {
     "data": {
      "text/html": [
       "<div>\n",
       "<style scoped>\n",
       "    .dataframe tbody tr th:only-of-type {\n",
       "        vertical-align: middle;\n",
       "    }\n",
       "\n",
       "    .dataframe tbody tr th {\n",
       "        vertical-align: top;\n",
       "    }\n",
       "\n",
       "    .dataframe thead th {\n",
       "        text-align: right;\n",
       "    }\n",
       "</style>\n",
       "<table border=\"1\" class=\"dataframe\">\n",
       "  <thead>\n",
       "    <tr style=\"text-align: right;\">\n",
       "      <th></th>\n",
       "      <th>age</th>\n",
       "      <th>sex</th>\n",
       "      <th>on thyroxine</th>\n",
       "      <th>query on thyroxine</th>\n",
       "      <th>on antithyroid medication</th>\n",
       "      <th>sick</th>\n",
       "      <th>pregnant</th>\n",
       "      <th>thyroid surgery</th>\n",
       "      <th>I131 treatment</th>\n",
       "      <th>query hypothyroid</th>\n",
       "      <th>...</th>\n",
       "      <th>class</th>\n",
       "      <th>fnlwgt</th>\n",
       "      <th>education</th>\n",
       "      <th>education-num</th>\n",
       "      <th>relationship</th>\n",
       "      <th>capital-gain</th>\n",
       "      <th>capital-loss</th>\n",
       "      <th>hours-per-week</th>\n",
       "      <th>date_of_birth</th>\n",
       "      <th>personal_info</th>\n",
       "    </tr>\n",
       "    <tr>\n",
       "      <th>id</th>\n",
       "      <th></th>\n",
       "      <th></th>\n",
       "      <th></th>\n",
       "      <th></th>\n",
       "      <th></th>\n",
       "      <th></th>\n",
       "      <th></th>\n",
       "      <th></th>\n",
       "      <th></th>\n",
       "      <th></th>\n",
       "      <th></th>\n",
       "      <th></th>\n",
       "      <th></th>\n",
       "      <th></th>\n",
       "      <th></th>\n",
       "      <th></th>\n",
       "      <th></th>\n",
       "      <th></th>\n",
       "      <th></th>\n",
       "      <th></th>\n",
       "      <th></th>\n",
       "    </tr>\n",
       "  </thead>\n",
       "  <tbody>\n",
       "    <tr>\n",
       "      <th>7</th>\n",
       "      <td>68.0</td>\n",
       "      <td>?</td>\n",
       "      <td>f</td>\n",
       "      <td>f</td>\n",
       "      <td>f</td>\n",
       "      <td>f</td>\n",
       "      <td>f</td>\n",
       "      <td>f</td>\n",
       "      <td>f</td>\n",
       "      <td>f</td>\n",
       "      <td>...</td>\n",
       "      <td>negative.|281</td>\n",
       "      <td>147202</td>\n",
       "      <td>Some-college</td>\n",
       "      <td>-1000</td>\n",
       "      <td>Not-in-family</td>\n",
       "      <td>0.0</td>\n",
       "      <td>0</td>\n",
       "      <td>45</td>\n",
       "      <td>1949-07-21</td>\n",
       "      <td>Adm-clerical|Germany\\nDivorced -- Private|White</td>\n",
       "    </tr>\n",
       "    <tr>\n",
       "      <th>10</th>\n",
       "      <td>18.0</td>\n",
       "      <td>?</td>\n",
       "      <td>f</td>\n",
       "      <td>f</td>\n",
       "      <td>f</td>\n",
       "      <td>f</td>\n",
       "      <td>f</td>\n",
       "      <td>f</td>\n",
       "      <td>f</td>\n",
       "      <td>f</td>\n",
       "      <td>...</td>\n",
       "      <td>negative.|2861</td>\n",
       "      <td>357145</td>\n",
       "      <td>Doctorate</td>\n",
       "      <td>16</td>\n",
       "      <td>Own-child</td>\n",
       "      <td>NaN</td>\n",
       "      <td>0</td>\n",
       "      <td>48</td>\n",
       "      <td>1999-09-20</td>\n",
       "      <td>Prof-specialty|United-States\\nNever-married --...</td>\n",
       "    </tr>\n",
       "    <tr>\n",
       "      <th>53</th>\n",
       "      <td>54.0</td>\n",
       "      <td>?</td>\n",
       "      <td>f</td>\n",
       "      <td>f</td>\n",
       "      <td>f</td>\n",
       "      <td>f</td>\n",
       "      <td>f</td>\n",
       "      <td>f</td>\n",
       "      <td>f</td>\n",
       "      <td>f</td>\n",
       "      <td>...</td>\n",
       "      <td>negative.|2825</td>\n",
       "      <td>178665</td>\n",
       "      <td>9th</td>\n",
       "      <td>5</td>\n",
       "      <td>Husband</td>\n",
       "      <td>0.0</td>\n",
       "      <td>0</td>\n",
       "      <td>30</td>\n",
       "      <td>1963-05-04</td>\n",
       "      <td>Other-service|United-States\\nMarried-civ-spous...</td>\n",
       "    </tr>\n",
       "    <tr>\n",
       "      <th>90</th>\n",
       "      <td>25.0</td>\n",
       "      <td>?</td>\n",
       "      <td>f</td>\n",
       "      <td>f</td>\n",
       "      <td>f</td>\n",
       "      <td>f</td>\n",
       "      <td>f</td>\n",
       "      <td>f</td>\n",
       "      <td>f</td>\n",
       "      <td>t</td>\n",
       "      <td>...</td>\n",
       "      <td>negative.|1184</td>\n",
       "      <td>69251</td>\n",
       "      <td>Masters</td>\n",
       "      <td>14</td>\n",
       "      <td>Husband</td>\n",
       "      <td>NaN</td>\n",
       "      <td>0</td>\n",
       "      <td>38</td>\n",
       "      <td>??</td>\n",
       "      <td>Prof-specialty|China\\nMarried-civ-spouse -- St...</td>\n",
       "    </tr>\n",
       "    <tr>\n",
       "      <th>99</th>\n",
       "      <td>71.0</td>\n",
       "      <td>?</td>\n",
       "      <td>f</td>\n",
       "      <td>f</td>\n",
       "      <td>f</td>\n",
       "      <td>f</td>\n",
       "      <td>f</td>\n",
       "      <td>f</td>\n",
       "      <td>f</td>\n",
       "      <td>f</td>\n",
       "      <td>...</td>\n",
       "      <td>negative.|2693</td>\n",
       "      <td>101689</td>\n",
       "      <td>Some-college</td>\n",
       "      <td>10</td>\n",
       "      <td>Unmarried</td>\n",
       "      <td>0.0</td>\n",
       "      <td>0</td>\n",
       "      <td>40</td>\n",
       "      <td>1946-10-05</td>\n",
       "      <td>Adm-clerical|United-States\\nDivorced -- Local-...</td>\n",
       "    </tr>\n",
       "  </tbody>\n",
       "</table>\n",
       "<p>5 rows × 39 columns</p>\n",
       "</div>"
      ],
      "text/plain": [
       "     age sex on thyroxine query on thyroxine on antithyroid medication sick  \\\n",
       "id                                                                            \n",
       "7   68.0   ?            f                  f                         f    f   \n",
       "10  18.0   ?            f                  f                         f    f   \n",
       "53  54.0   ?            f                  f                         f    f   \n",
       "90  25.0   ?            f                  f                         f    f   \n",
       "99  71.0   ?            f                  f                         f    f   \n",
       "\n",
       "   pregnant thyroid surgery I131 treatment query hypothyroid  \\\n",
       "id                                                             \n",
       "7         f               f              f                 f   \n",
       "10        f               f              f                 f   \n",
       "53        f               f              f                 f   \n",
       "90        f               f              f                 t   \n",
       "99        f               f              f                 f   \n",
       "\n",
       "                          ...                                   class  fnlwgt  \\\n",
       "id                        ...                                                   \n",
       "7                         ...                           negative.|281  147202   \n",
       "10                        ...                          negative.|2861  357145   \n",
       "53                        ...                          negative.|2825  178665   \n",
       "90                        ...                          negative.|1184   69251   \n",
       "99                        ...                          negative.|2693  101689   \n",
       "\n",
       "        education education-num    relationship capital-gain capital-loss  \\\n",
       "id                                                                          \n",
       "7    Some-college         -1000   Not-in-family          0.0            0   \n",
       "10      Doctorate            16       Own-child          NaN            0   \n",
       "53            9th             5         Husband          0.0            0   \n",
       "90        Masters            14         Husband          NaN            0   \n",
       "99   Some-college            10       Unmarried          0.0            0   \n",
       "\n",
       "    hours-per-week date_of_birth  \\\n",
       "id                                 \n",
       "7               45    1949-07-21   \n",
       "10              48    1999-09-20   \n",
       "53              30    1963-05-04   \n",
       "90              38            ??   \n",
       "99              40    1946-10-05   \n",
       "\n",
       "                                        personal_info  \n",
       "id                                                     \n",
       "7     Adm-clerical|Germany\\nDivorced -- Private|White  \n",
       "10  Prof-specialty|United-States\\nNever-married --...  \n",
       "53  Other-service|United-States\\nMarried-civ-spous...  \n",
       "90  Prof-specialty|China\\nMarried-civ-spouse -- St...  \n",
       "99  Adm-clerical|United-States\\nDivorced -- Local-...  \n",
       "\n",
       "[5 rows x 39 columns]"
      ]
     },
     "execution_count": 29,
     "metadata": {},
     "output_type": "execute_result"
    }
   ],
   "source": [
    "#Vyfiltrujeme si pacientov s nešpecifikovaným pohlavím.\n",
    "data[(data['sex'] == '?')].head()"
   ]
  },
  {
   "cell_type": "markdown",
   "metadata": {},
   "source": [
    "**POZOROVANIE:** Chýbajúcu hodnotu môžeme zistiť napríklad z atribútu **pregnant** alebo z atribútu **relationship**  "
   ]
  },
  {
   "cell_type": "markdown",
   "metadata": {},
   "source": [
    "**KOREKCIA:** Vyfiltrujeme si pacientov, ktorých pohlavie je neznáme a sú tehotný. Ak je **pacient tehotný, potom je to žena**."
   ]
  },
  {
   "cell_type": "code",
   "execution_count": 30,
   "metadata": {},
   "outputs": [
    {
     "data": {
      "text/html": [
       "<div>\n",
       "<style scoped>\n",
       "    .dataframe tbody tr th:only-of-type {\n",
       "        vertical-align: middle;\n",
       "    }\n",
       "\n",
       "    .dataframe tbody tr th {\n",
       "        vertical-align: top;\n",
       "    }\n",
       "\n",
       "    .dataframe thead th {\n",
       "        text-align: right;\n",
       "    }\n",
       "</style>\n",
       "<table border=\"1\" class=\"dataframe\">\n",
       "  <thead>\n",
       "    <tr style=\"text-align: right;\">\n",
       "      <th></th>\n",
       "      <th>age</th>\n",
       "      <th>sex</th>\n",
       "      <th>on thyroxine</th>\n",
       "      <th>query on thyroxine</th>\n",
       "      <th>on antithyroid medication</th>\n",
       "      <th>sick</th>\n",
       "      <th>pregnant</th>\n",
       "      <th>thyroid surgery</th>\n",
       "      <th>I131 treatment</th>\n",
       "      <th>query hypothyroid</th>\n",
       "      <th>...</th>\n",
       "      <th>class</th>\n",
       "      <th>fnlwgt</th>\n",
       "      <th>education</th>\n",
       "      <th>education-num</th>\n",
       "      <th>relationship</th>\n",
       "      <th>capital-gain</th>\n",
       "      <th>capital-loss</th>\n",
       "      <th>hours-per-week</th>\n",
       "      <th>date_of_birth</th>\n",
       "      <th>personal_info</th>\n",
       "    </tr>\n",
       "    <tr>\n",
       "      <th>id</th>\n",
       "      <th></th>\n",
       "      <th></th>\n",
       "      <th></th>\n",
       "      <th></th>\n",
       "      <th></th>\n",
       "      <th></th>\n",
       "      <th></th>\n",
       "      <th></th>\n",
       "      <th></th>\n",
       "      <th></th>\n",
       "      <th></th>\n",
       "      <th></th>\n",
       "      <th></th>\n",
       "      <th></th>\n",
       "      <th></th>\n",
       "      <th></th>\n",
       "      <th></th>\n",
       "      <th></th>\n",
       "      <th></th>\n",
       "      <th></th>\n",
       "      <th></th>\n",
       "    </tr>\n",
       "  </thead>\n",
       "  <tbody>\n",
       "    <tr>\n",
       "      <th>2252</th>\n",
       "      <td>73.0</td>\n",
       "      <td>?</td>\n",
       "      <td>f</td>\n",
       "      <td>f</td>\n",
       "      <td>f</td>\n",
       "      <td>f</td>\n",
       "      <td>t</td>\n",
       "      <td>f</td>\n",
       "      <td>f</td>\n",
       "      <td>f</td>\n",
       "      <td>...</td>\n",
       "      <td>negative.|3023</td>\n",
       "      <td>178136</td>\n",
       "      <td>HS-grad</td>\n",
       "      <td>9</td>\n",
       "      <td>Husband</td>\n",
       "      <td>0.0</td>\n",
       "      <td>0</td>\n",
       "      <td>40</td>\n",
       "      <td>NaN</td>\n",
       "      <td>Machine-op-inspct|United-States\\nMarried-civ-s...</td>\n",
       "    </tr>\n",
       "  </tbody>\n",
       "</table>\n",
       "<p>1 rows × 39 columns</p>\n",
       "</div>"
      ],
      "text/plain": [
       "       age sex on thyroxine query on thyroxine on antithyroid medication sick  \\\n",
       "id                                                                              \n",
       "2252  73.0   ?            f                  f                         f    f   \n",
       "\n",
       "     pregnant thyroid surgery I131 treatment query hypothyroid  \\\n",
       "id                                                               \n",
       "2252        t               f              f                 f   \n",
       "\n",
       "                            ...                                   class  \\\n",
       "id                          ...                                           \n",
       "2252                        ...                          negative.|3023   \n",
       "\n",
       "      fnlwgt education education-num relationship capital-gain capital-loss  \\\n",
       "id                                                                            \n",
       "2252  178136   HS-grad             9      Husband          0.0            0   \n",
       "\n",
       "      hours-per-week date_of_birth  \\\n",
       "id                                   \n",
       "2252              40           NaN   \n",
       "\n",
       "                                          personal_info  \n",
       "id                                                       \n",
       "2252  Machine-op-inspct|United-States\\nMarried-civ-s...  \n",
       "\n",
       "[1 rows x 39 columns]"
      ]
     },
     "execution_count": 30,
     "metadata": {},
     "output_type": "execute_result"
    }
   ],
   "source": [
    "# Vyfiltrujeme si pacientov s nešpecifikovaným pohlavím, ktorá sú tehotní.\n",
    "data[(data['sex'] == '?') & (data['pregnant'] == 't')].head()"
   ]
  },
  {
   "cell_type": "code",
   "execution_count": 31,
   "metadata": {},
   "outputs": [
    {
     "data": {
      "text/html": [
       "<div>\n",
       "<style scoped>\n",
       "    .dataframe tbody tr th:only-of-type {\n",
       "        vertical-align: middle;\n",
       "    }\n",
       "\n",
       "    .dataframe tbody tr th {\n",
       "        vertical-align: top;\n",
       "    }\n",
       "\n",
       "    .dataframe thead th {\n",
       "        text-align: right;\n",
       "    }\n",
       "</style>\n",
       "<table border=\"1\" class=\"dataframe\">\n",
       "  <thead>\n",
       "    <tr style=\"text-align: right;\">\n",
       "      <th></th>\n",
       "      <th>age</th>\n",
       "      <th>sex</th>\n",
       "      <th>on thyroxine</th>\n",
       "      <th>query on thyroxine</th>\n",
       "      <th>on antithyroid medication</th>\n",
       "      <th>sick</th>\n",
       "      <th>pregnant</th>\n",
       "      <th>thyroid surgery</th>\n",
       "      <th>I131 treatment</th>\n",
       "      <th>query hypothyroid</th>\n",
       "      <th>...</th>\n",
       "      <th>class</th>\n",
       "      <th>fnlwgt</th>\n",
       "      <th>education</th>\n",
       "      <th>education-num</th>\n",
       "      <th>relationship</th>\n",
       "      <th>capital-gain</th>\n",
       "      <th>capital-loss</th>\n",
       "      <th>hours-per-week</th>\n",
       "      <th>date_of_birth</th>\n",
       "      <th>personal_info</th>\n",
       "    </tr>\n",
       "    <tr>\n",
       "      <th>id</th>\n",
       "      <th></th>\n",
       "      <th></th>\n",
       "      <th></th>\n",
       "      <th></th>\n",
       "      <th></th>\n",
       "      <th></th>\n",
       "      <th></th>\n",
       "      <th></th>\n",
       "      <th></th>\n",
       "      <th></th>\n",
       "      <th></th>\n",
       "      <th></th>\n",
       "      <th></th>\n",
       "      <th></th>\n",
       "      <th></th>\n",
       "      <th></th>\n",
       "      <th></th>\n",
       "      <th></th>\n",
       "      <th></th>\n",
       "      <th></th>\n",
       "      <th></th>\n",
       "    </tr>\n",
       "  </thead>\n",
       "  <tbody>\n",
       "  </tbody>\n",
       "</table>\n",
       "<p>0 rows × 39 columns</p>\n",
       "</div>"
      ],
      "text/plain": [
       "Empty DataFrame\n",
       "Columns: [age, sex, on thyroxine, query on thyroxine, on antithyroid medication, sick, pregnant, thyroid surgery, I131 treatment, query hypothyroid, query hyperthyroid, lithium, goitre, tumor, hypopituitary, psych, TSH measured, TSH, T3 measured, T3, TT4 measured, TT4, T4U measured, T4U, FTI measured, FTI, TBG measured, TBG, referral source, class, fnlwgt, education, education-num, relationship, capital-gain, capital-loss, hours-per-week, date_of_birth, personal_info]\n",
       "Index: []\n",
       "\n",
       "[0 rows x 39 columns]"
      ]
     },
     "execution_count": 31,
     "metadata": {},
     "output_type": "execute_result"
    }
   ],
   "source": [
    "# Neexistuje v datasete muž/žena, ktorý/ktorá je vydatý/oženená.\n",
    "data[(data['sex'] == 'M') & (data['relationship'] == ' Wife')]\n",
    "#data[(data['sex'] == 'F') & (data['relationship'] == ' Husband')]"
   ]
  },
  {
   "cell_type": "markdown",
   "metadata": {},
   "source": [
    "**POZOROVANIE:** Kedže neexistuje v datasete muž, ktorý by bola niekoho žena a žena, ktorá by bola niekoho manžel usudzujeme že podľa atribútu **relationship** môžeme určiť pohlavie. V prípade ak je neznáme pohlavie a pre atribút relationship má pacient hodnotu Wife usudzujeme, že sa jedná o ženu (F), v prípade ak tam má hodnotu Husband, budeme pacienta považovať za muža (M)"
   ]
  },
  {
   "cell_type": "markdown",
   "metadata": {},
   "source": [
    "**KOREKCIA:**  Ak je pacient vo **vzťahu vydatá** *(Wife)*, potom je **ženského pohlavia**. Ak je pacient vo vzťahu **oženený** *(Husband)*, potom je **mužského pohlavia**. \n"
   ]
  },
  {
   "cell_type": "markdown",
   "metadata": {},
   "source": [
    "### Atribút - hours-per-week"
   ]
  },
  {
   "cell_type": "code",
   "execution_count": 32,
   "metadata": {},
   "outputs": [
    {
     "data": {
      "text/plain": [
       "id\n",
       "0    40\n",
       "1    38\n",
       "2    45\n",
       "3    20\n",
       "4    40\n",
       "Name: hours-per-week, dtype: int64"
      ]
     },
     "execution_count": 32,
     "metadata": {},
     "output_type": "execute_result"
    }
   ],
   "source": [
    "# Výpis prvých 5 záznamov pre daný atribút\n",
    "data['hours-per-week'].head()"
   ]
  },
  {
   "cell_type": "markdown",
   "metadata": {},
   "source": [
    "**POZOROVANIE:** Niesme si istí, čo znamená tento atribút.\"hours-per-week\" sa používa v spojení **vykonávať činnosť určitý počet hodín v týždni**. Vyzerá to, že hodnoty sú reprezentované v hodinách. Budeme ho považovať za **spojitý (kvantitatívny) intervalový atribút** a preto na ňom vykonáme štatistiku."
   ]
  },
  {
   "cell_type": "code",
   "execution_count": 33,
   "metadata": {},
   "outputs": [
    {
     "data": {
      "text/plain": [
       "count    2800.000000\n",
       "mean       38.544643\n",
       "std        12.039004\n",
       "min         1.000000\n",
       "25%        35.000000\n",
       "50%        40.000000\n",
       "75%        40.000000\n",
       "max        99.000000\n",
       "Name: hours-per-week, dtype: float64"
      ]
     },
     "execution_count": 33,
     "metadata": {},
     "output_type": "execute_result"
    }
   ],
   "source": [
    "# Výpis prvých 5 záznamov pre daný atribút\n",
    "data['hours-per-week'].describe()"
   ]
  },
  {
   "cell_type": "markdown",
   "metadata": {},
   "source": [
    "**POZOROVANIE:** Z prvého pohľadu na priemernú hodnotu **38.54** predpokladáme, že sa jedná o **pracovný čas** každého pacienta. Náš predpoklad je založený na tom, že bežná pracovná doba je 8 hodín denne 5 dní v týždni, čo sa rovná **40 hodinám**. Tieto dáta neobsahujú **žiadne null hodnoty** ani abnormálne výchylky a preto ich čistenie nie je potrebé."
   ]
  },
  {
   "cell_type": "code",
   "execution_count": 34,
   "metadata": {},
   "outputs": [
    {
     "data": {
      "image/png": "[encoded data removed]",
      "text/plain": [
       "<matplotlib.figure.Figure at 0x1a19ee94a8>"
      ]
     },
     "metadata": {},
     "output_type": "display_data"
    }
   ],
   "source": [
    "column = 'hours-per-week'\n",
    "sample = data[column]\n",
    "_ = plt.hist(sample, normed=True, bins=50)"
   ]
  },
  {
   "cell_type": "markdown",
   "metadata": {},
   "source": [
    "**POZOROVANIE:** Na grafe môžeme vidieť, že dáta vyzerajú v poriadku a preto tento atribút nebude potrebné upravovať. "
   ]
  },
  {
   "cell_type": "markdown",
   "metadata": {},
   "source": [
    "## Liečba"
   ]
  },
  {
   "cell_type": "markdown",
   "metadata": {},
   "source": [
    "### Atribút - on thyroxine"
   ]
  },
  {
   "cell_type": "code",
   "execution_count": 35,
   "metadata": {},
   "outputs": [
    {
     "data": {
      "text/plain": [
       "id\n",
       "0    t\n",
       "1    f\n",
       "2    F\n",
       "3    f\n",
       "4    t\n",
       "Name: on thyroxine, dtype: object"
      ]
     },
     "execution_count": 35,
     "metadata": {},
     "output_type": "execute_result"
    }
   ],
   "source": [
    "# Výpis prvých 5 záznamov pre daný atribút\n",
    "data['on thyroxine'].head()"
   ]
  },
  {
   "cell_type": "markdown",
   "metadata": {},
   "source": [
    "**POZOROVANIE:** Tyroxin je hormón, ktorý je produkovaný štítnou žľazou.[https://www.newsmax.com/fastfeatures/thyroid-thyroxine/2016/03/24/id/720782/]. V prípade zníženej produkcie tohto hormónu sa predpisuje vo forme lieku. Usudzujeme, že tento atribút nám hovorí o tom, čí daný pacient užíva liek obsahujúci hormón tyroxín. Existujú len dva stavy. Buď pacient užíva liek alebo neužíva. Preto budeme tento atribút považovat za **kategorický binárny atribút**, ktorý v sebe bude niesť hodnoty [true = užíva liek, false = neuziva liek]."
   ]
  },
  {
   "cell_type": "code",
   "execution_count": 36,
   "metadata": {},
   "outputs": [
    {
     "data": {
      "text/plain": [
       "f        2218\n",
       "t         302\n",
       "FALSE     129\n",
       "F         123\n",
       "TRUE       18\n",
       "T          10\n",
       "Name: on thyroxine, dtype: int64"
      ]
     },
     "execution_count": 36,
     "metadata": {},
     "output_type": "execute_result"
    }
   ],
   "source": [
    "# data['on thyroxine'].unique()\n",
    "data['on thyroxine'].value_counts(dropna=False)"
   ]
  },
  {
   "cell_type": "markdown",
   "metadata": {},
   "source": [
    "**POZOROVANIE:** Vidíme, že náš predpoklad bol správny a hodnoty pre atribút majú iba dva stavy (true, false). Tieto dáta bude potreba **očistiť na jednotný formát**"
   ]
  },
  {
   "cell_type": "markdown",
   "metadata": {},
   "source": [
    "**KOREKCIA:** Ujednotíme formát dát"
   ]
  },
  {
   "cell_type": "code",
   "execution_count": 38,
   "metadata": {},
   "outputs": [
    {
     "data": {
      "text/plain": [
       "False    2470\n",
       "True      330\n",
       "Name: _on_thyroxine, dtype: int64"
      ]
     },
     "execution_count": 38,
     "metadata": {},
     "output_type": "execute_result"
    }
   ],
   "source": [
    "# Mapovanie True a False na hodnoty podľa toho ake si zvolíme\n",
    "column = '_on_thyroxine'\n",
    "clean_data[column] = data['on thyroxine'].map({'t': True, 'T': True, 'TRUE': True, 'f': False, 'F': False, 'FALSE': False})\n",
    "clean_data[column].value_counts(dropna=False)"
   ]
  },
  {
   "cell_type": "markdown",
   "metadata": {},
   "source": [
    "### Atribút - on antithyroid medication"
   ]
  },
  {
   "cell_type": "code",
   "execution_count": 39,
   "metadata": {},
   "outputs": [
    {
     "data": {
      "text/plain": [
       "f    2766\n",
       "t      34\n",
       "Name: on antithyroid medication, dtype: int64"
      ]
     },
     "execution_count": 39,
     "metadata": {},
     "output_type": "execute_result"
    }
   ],
   "source": [
    "# Výpis prvých 5 záznamov pre daný atribút\n",
    "data['on antithyroid medication'].value_counts(dropna=False)"
   ]
  },
  {
   "cell_type": "markdown",
   "metadata": {},
   "source": [
    "**POZOROVANIE:** Antithyroid je droga, ktorá znižuje funkciu štítnej žlazy. Užíva sa v prípade ochorenia hypertireózy.[https://www.medicinenet.com/script/main/art.asp?articlekey=15316] Usudzujeme, že tento atribút nám hovorí o tom, čí daný pacient užíva drogu. Existujú len dva stavy. Buď pacient užíva drogu alebo neužíva. Preto budeme tento atribút považovat za **kategorický binárny atribút**, ktorý v sebe bude niesť hodnoty [true = užíva drogu, false = neuziva drogu]. Kedže pacientov s hodnotou **true** je len zopár myslíme si, že je tento **atribút vhodný pre klasfikáciu**"
   ]
  },
  {
   "cell_type": "markdown",
   "metadata": {},
   "source": [
    "**KOREKCIA:** Prekonvertujeme si formát dát na boolean hodnoty"
   ]
  },
  {
   "cell_type": "code",
   "execution_count": 41,
   "metadata": {
    "scrolled": true
   },
   "outputs": [
    {
     "data": {
      "text/plain": [
       "False    2766\n",
       "True       34\n",
       "Name: _on_antithyroid, dtype: int64"
      ]
     },
     "execution_count": 41,
     "metadata": {},
     "output_type": "execute_result"
    }
   ],
   "source": [
    "# Mapovanie True a False na hodnoty podľa toho ake si zvolíme\n",
    "clean_data['_on_antithyroid'] = data['on antithyroid medication'].map({'t': True, 'f': False})\n",
    "clean_data['_on_antithyroid'].value_counts()"
   ]
  },
  {
   "cell_type": "markdown",
   "metadata": {},
   "source": [
    "### Atribút - I131 treatment"
   ]
  },
  {
   "cell_type": "code",
   "execution_count": 42,
   "metadata": {},
   "outputs": [
    {
     "data": {
      "text/plain": [
       "f    2752\n",
       "t      48\n",
       "Name: I131 treatment, dtype: int64"
      ]
     },
     "execution_count": 42,
     "metadata": {},
     "output_type": "execute_result"
    }
   ],
   "source": [
    "# Výpis unikátnych hodnôt\n",
    "data['I131 treatment'].value_counts(dropna=False)"
   ]
  },
  {
   "cell_type": "markdown",
   "metadata": {},
   "source": [
    "**POZOROVANIE:** Radioaktívna, ktorá znižuje funkciu štítnej žlazy. [https://www.radiologyinfo.org/en/info.cfm?pg=radioiodine] Používa sa v prípade **ochorenia hypertireózy**. Usudzujeme, že tento atribút nám hovorí o tom, čí daný pacient podstupuje liečbu. Existujú len dva stavy. Buď pacient podstupuje liečbu alebo nepodstupuje. Preto budeme tento atribút považovat za **kategorický binárny atribút**, ktorý v sebe bude niesť hodnoty [true = podstupuje liečbu, false = nepodstupuje liečbu]. Kedže pacientov s hodnotou **true** je len zopár myslíme si, že je tento **atribút vhodný pre klasfikáciu**"
   ]
  },
  {
   "cell_type": "markdown",
   "metadata": {},
   "source": [
    "**KOREKCIA:** Prekonvertujeme si formát dát na boolean hodnoty"
   ]
  },
  {
   "cell_type": "code",
   "execution_count": 43,
   "metadata": {
    "scrolled": true
   },
   "outputs": [
    {
     "data": {
      "text/plain": [
       "False    2752\n",
       "True       48\n",
       "Name: _I131_treatment, dtype: int64"
      ]
     },
     "execution_count": 43,
     "metadata": {},
     "output_type": "execute_result"
    }
   ],
   "source": [
    "# Mapovanie True a False na hodnoty podľa toho ake si zvolíme\n",
    "clean_data['_I131_treatment'] = data['I131 treatment'].map({'t': True, 'f': False})\n",
    "clean_data['_I131_treatment'].value_counts()"
   ]
  },
  {
   "cell_type": "markdown",
   "metadata": {},
   "source": [
    "### Atribút - lithium"
   ]
  },
  {
   "cell_type": "code",
   "execution_count": 44,
   "metadata": {},
   "outputs": [
    {
     "data": {
      "text/plain": [
       "f    2786\n",
       "t      14\n",
       "Name: lithium, dtype: int64"
      ]
     },
     "execution_count": 44,
     "metadata": {},
     "output_type": "execute_result"
    }
   ],
   "source": [
    "# Výpis unikátnych hodnôt\n",
    "data['lithium'].value_counts(dropna=False)"
   ]
  },
  {
   "cell_type": "markdown",
   "metadata": {},
   "source": [
    "**POZOROVANIE:** Lítium je veľmi ľahký a mäkký kov, ktorý sa mnohými chemickými vlastnosťami podobá na horčík. Antityroidné účinky lítia sa najprv skúmali podrobne, keď sa zistilo, že pacienti s **psychiatrickým ochorením** liečeným lítium-karbonátom vyvinuli **hypotyreózu** a burcu. Štúdie na zvieratách a na ľuďoch následne odhalili, že lítium zvyšuje obsah intra-thyroidného jódu, inhibuje kondenzáciu jódotyrozínových zvyškov za vzniku jódtironínov (tyroxín (T4) a trijódtyronínu (T3)) a inhibuje uvoľňovanie T4 a T3.[https://www.uptodate.com/contents/lithium-and-the-thyroid#H2] Používa sa v prípade **ochorenia hypertireózy**. Usudzujeme, že tento atribút nám hovorí o tom, čí daný pacient podstupuje liečbu. Existujú len dva stavy. Buď pacient podstupuje liečbu alebo nepodstupuje. Preto budeme tento atribút považovat za **kategorický binárny atribút**, ktorý v sebe bude niesť hodnoty [true = podstupuje liečbu, false = nepodstupuje liečbu]. Kedže pacientov s hodnotou **true** je len zopár myslíme si, že je tento **atribút vhodný pre klasfikáciu**"
   ]
  },
  {
   "cell_type": "markdown",
   "metadata": {},
   "source": [
    "**KOREKCIA:** Prekonvertujeme si formát dát na boolean hodnoty"
   ]
  },
  {
   "cell_type": "code",
   "execution_count": 45,
   "metadata": {},
   "outputs": [
    {
     "data": {
      "text/plain": [
       "False    2786\n",
       "True       14\n",
       "Name: _lithium, dtype: int64"
      ]
     },
     "execution_count": 45,
     "metadata": {},
     "output_type": "execute_result"
    }
   ],
   "source": [
    "# Mapovanie True a False na hodnoty podľa toho ake si zvolíme\n",
    "clean_data['_lithium'] = data['lithium'].map({'t': True, 'f': False})\n",
    "clean_data['_lithium'].value_counts()"
   ]
  },
  {
   "cell_type": "markdown",
   "metadata": {},
   "source": [
    "### Atribút - thyroid surgery"
   ]
  },
  {
   "cell_type": "code",
   "execution_count": 46,
   "metadata": {},
   "outputs": [
    {
     "data": {
      "text/plain": [
       "f    2761\n",
       "t      39\n",
       "Name: thyroid surgery, dtype: int64"
      ]
     },
     "execution_count": 46,
     "metadata": {},
     "output_type": "execute_result"
    }
   ],
   "source": [
    "# Výpis prvých 5 záznamov pre daný atribút\n",
    "data['thyroid surgery'].value_counts(dropna=False)"
   ]
  },
  {
   "cell_type": "markdown",
   "metadata": {},
   "source": [
    "**POZOROVANIE:** [https://youtu.be/0h5jM7eN6j4] Usudzujeme, že tento atribút nám hovorí o tom, či sa daný pacient podstúpil operáciu. Existujú len dva stavy. Buď pacient podstúpil operáciu ale nepodstúpil. Preto budeme tento atribút považovat za **kategorický binárny atribút**, ktorý v sebe bude niesť hodnoty [true = podstúpil operáciu, false = nepodstúpil operáciu]. Kedže pacientov s hodnotou **true** je len zopár myslíme si, že je tento **atribút vhodný pre klasfikáciu**"
   ]
  },
  {
   "cell_type": "markdown",
   "metadata": {},
   "source": [
    "**KOREKCIA:** Prekonvertujeme si formát dát na boolean hodnoty"
   ]
  },
  {
   "cell_type": "code",
   "execution_count": 47,
   "metadata": {
    "scrolled": true
   },
   "outputs": [
    {
     "data": {
      "text/plain": [
       "False    2761\n",
       "True       39\n",
       "Name: _thyroid_surgery, dtype: int64"
      ]
     },
     "execution_count": 47,
     "metadata": {},
     "output_type": "execute_result"
    }
   ],
   "source": [
    "# Mapovanie True a False na hodnoty podľa toho ake si zvolíme\n",
    "clean_data['_thyroid_surgery'] = data['thyroid surgery'].map({'t': True, 'f': False})\n",
    "clean_data['_thyroid_surgery'].value_counts()"
   ]
  },
  {
   "cell_type": "markdown",
   "metadata": {},
   "source": [
    "## Ochorenia\n",
    "V tejto sekcií uvádzame ochorenia jednotlivých pacientov"
   ]
  },
  {
   "cell_type": "markdown",
   "metadata": {},
   "source": [
    "### Atribút - sick"
   ]
  },
  {
   "cell_type": "code",
   "execution_count": 48,
   "metadata": {},
   "outputs": [
    {
     "data": {
      "text/plain": [
       "f    2690\n",
       "t     110\n",
       "Name: sick, dtype: int64"
      ]
     },
     "execution_count": 48,
     "metadata": {},
     "output_type": "execute_result"
    }
   ],
   "source": [
    "# Výpis prvých 5 záznamov pre daný atribút\n",
    "data['sick'].value_counts(dropna=False)"
   ]
  },
  {
   "cell_type": "markdown",
   "metadata": {},
   "source": [
    "**POZOROVANIE:** Usudzujeme, že tento atribút nám hovorí o tom, čí sa daný pacient je chorý. Existujú len dva stavy. Buď je pacient chorý alebo nie je chorý. Preto budeme tento atribút považovat za **kategorický binárny atribút**, ktorý v sebe bude niesť hodnoty [true = je chorý, false = nie je chorý]. Kedže pacientov s hodnotou **true** je len zopár myslíme si, že je tento **atribút vhodný pre klasfikáciu**"
   ]
  },
  {
   "cell_type": "markdown",
   "metadata": {},
   "source": [
    "**KOREKCIA:** Prekonvertujeme si formát dát na boolean hodnoty"
   ]
  },
  {
   "cell_type": "code",
   "execution_count": 49,
   "metadata": {
    "scrolled": false
   },
   "outputs": [
    {
     "data": {
      "text/plain": [
       "False    2690\n",
       "True      110\n",
       "Name: _sick, dtype: int64"
      ]
     },
     "execution_count": 49,
     "metadata": {},
     "output_type": "execute_result"
    }
   ],
   "source": [
    "# Mapovanie True a False na hodnoty podľa toho ake si zvolíme\n",
    "clean_data['_sick'] = data['sick'].map({'t': True, 'f': False})\n",
    "clean_data['_sick'].value_counts()"
   ]
  },
  {
   "cell_type": "code",
   "execution_count": 470,
   "metadata": {
    "scrolled": true
   },
   "outputs": [
    {
     "data": {
      "text/plain": [
       "<matplotlib.axes._subplots.AxesSubplot at 0x1a22bf6da0>"
      ]
     },
     "execution_count": 470,
     "metadata": {},
     "output_type": "execute_result"
    },
    {
     "data": {
      "image/png": "[encoded data removed]",
      "text/plain": [
       "<matplotlib.figure.Figure at 0x1a2ac789e8>"
      ]
     },
     "metadata": {},
     "output_type": "display_data"
    }
   ],
   "source": [
    "# Vykreslíme si graf pre chorobu\n",
    "data['_sick'].value_counts().plot(kind='bar')"
   ]
  },
  {
   "cell_type": "markdown",
   "metadata": {},
   "source": [
    "**POZOROVANIE:** Rovnaký typ grafu je možné použiť pre daľšie atribúty v sekcií ochorenia"
   ]
  },
  {
   "cell_type": "markdown",
   "metadata": {},
   "source": [
    "### Atribút - goitre"
   ]
  },
  {
   "cell_type": "code",
   "execution_count": 50,
   "metadata": {},
   "outputs": [
    {
     "data": {
      "text/plain": [
       "f    2775\n",
       "t      25\n",
       "Name: goitre, dtype: int64"
      ]
     },
     "execution_count": 50,
     "metadata": {},
     "output_type": "execute_result"
    }
   ],
   "source": [
    "# Výpis unikátnych hodnôt\n",
    "data['goitre'].value_counts(dropna=False)"
   ]
  },
  {
   "cell_type": "markdown",
   "metadata": {},
   "source": [
    "**POZOROVANIE:** [https://youtu.be/TiBnSKyX2iU] Usudzujeme, že tento atribút nám hovorí o tom, čí sa daný trpí ochorením. Existujú len dva stavy. Buď pacient trpí ochorením alebo nie. Preto budeme tento atribút považovat za **kategorický binárny atribút**, ktorý v sebe bude niesť hodnoty [true = má ochorenie, false = nemá ochorenie]. Kedže pacientov s hodnotou **true** je len zopár myslíme si, že je tento **atribút vhodný pre klasfikáciu**"
   ]
  },
  {
   "cell_type": "markdown",
   "metadata": {},
   "source": [
    "**KOREKCIA:** Prekonvertujeme si formát dát na boolean hodnoty"
   ]
  },
  {
   "cell_type": "code",
   "execution_count": 51,
   "metadata": {
    "scrolled": false
   },
   "outputs": [
    {
     "data": {
      "text/plain": [
       "False    2775\n",
       "True       25\n",
       "Name: _goitre, dtype: int64"
      ]
     },
     "execution_count": 51,
     "metadata": {},
     "output_type": "execute_result"
    }
   ],
   "source": [
    "# Mapovanie True a False na hodnoty podľa toho ake si zvolíme\n",
    "clean_data['_goitre'] = data['goitre'].map({'t': True, 'f': False})\n",
    "clean_data['_goitre'].value_counts()"
   ]
  },
  {
   "cell_type": "markdown",
   "metadata": {},
   "source": [
    "### Atribút - tumor"
   ]
  },
  {
   "cell_type": "code",
   "execution_count": 52,
   "metadata": {},
   "outputs": [
    {
     "data": {
      "text/plain": [
       "f    2729\n",
       "t      71\n",
       "Name: tumor, dtype: int64"
      ]
     },
     "execution_count": 52,
     "metadata": {},
     "output_type": "execute_result"
    }
   ],
   "source": [
    "# Výpis unikátnych hodnôt\n",
    "data['tumor'].value_counts(dropna=False)"
   ]
  },
  {
   "cell_type": "markdown",
   "metadata": {},
   "source": [
    "**POZOROVANIE:** [https://www.endocrineweb.com/conditions/thyroid-cancer/thyroid-cancer] Usudzujeme, že tento atribút nám hovorí o tom, čí sa daný trpí ochorením. Existujú len dva stavy. Buď pacient trpí ochorením alebo nie. Preto budeme tento atribút považovat za **kategorický binárny atribút**, ktorý v sebe bude niesť hodnoty [true = má ochorenie, false = nemá ochorenie]. Kedže pacientov s hodnotou **true** je len zopár myslíme si, že je tento **atribút vhodný pre klasfikáciu**"
   ]
  },
  {
   "cell_type": "markdown",
   "metadata": {},
   "source": [
    "**KOREKCIA:** Prekonvertujeme si formát dát na boolean hodnoty"
   ]
  },
  {
   "cell_type": "code",
   "execution_count": 53,
   "metadata": {
    "scrolled": true
   },
   "outputs": [
    {
     "data": {
      "text/plain": [
       "False    2729\n",
       "True       71\n",
       "Name: _tumor, dtype: int64"
      ]
     },
     "execution_count": 53,
     "metadata": {},
     "output_type": "execute_result"
    }
   ],
   "source": [
    "# Mapovanie True a False na hodnoty podľa toho ake si zvolíme\n",
    "clean_data['_tumor'] = data['tumor'].map({'t': True, 'f': False})\n",
    "clean_data['_tumor'].value_counts()"
   ]
  },
  {
   "cell_type": "markdown",
   "metadata": {},
   "source": [
    "### Atribút - hypopituitary"
   ]
  },
  {
   "cell_type": "code",
   "execution_count": 54,
   "metadata": {},
   "outputs": [
    {
     "data": {
      "text/plain": [
       "f    2799\n",
       "t       1\n",
       "Name: hypopituitary, dtype: int64"
      ]
     },
     "execution_count": 54,
     "metadata": {},
     "output_type": "execute_result"
    }
   ],
   "source": [
    "# Výpis unikátnych hodnôt a ich počtov\n",
    "data['hypopituitary'].value_counts(dropna=False)"
   ]
  },
  {
   "cell_type": "markdown",
   "metadata": {},
   "source": [
    "**POZOROVANIE:** [https://www.emedicinehealth.com/hypopituitary/article_em.htm] Usudzujeme, že tento atribút nám hovorí o tom, čí sa daný trpí ochorením. Existujú len dva stavy. Buď pacient trpí ochorením alebo nie. Preto budeme tento atribút považovat za **kategorický binárny atribút**, ktorý v sebe bude niesť hodnoty [true = má ochorenie, false = nemá ochorenie]. V našom data sete sa nachádza iba jeden jediný pacient s takýmto ochorením. Tento pacient pravdepodobne bude **vhodným kandidátom pri klasifikácií**."
   ]
  },
  {
   "cell_type": "markdown",
   "metadata": {},
   "source": [
    "**KOREKCIA:** Prekonvertujeme si formát dát na boolean hodnoty"
   ]
  },
  {
   "cell_type": "code",
   "execution_count": 55,
   "metadata": {
    "scrolled": false
   },
   "outputs": [
    {
     "data": {
      "text/plain": [
       "False    2799\n",
       "True        1\n",
       "Name: _hypopituitary, dtype: int64"
      ]
     },
     "execution_count": 55,
     "metadata": {},
     "output_type": "execute_result"
    }
   ],
   "source": [
    "# Mapovanie True a False na hodnoty podľa toho ake si zvolíme\n",
    "clean_data['_hypopituitary'] = data['hypopituitary'].map({'t': True, 'f': False})\n",
    "clean_data['_hypopituitary'].value_counts()"
   ]
  },
  {
   "cell_type": "markdown",
   "metadata": {},
   "source": [
    "### Atribút - psych"
   ]
  },
  {
   "cell_type": "code",
   "execution_count": 56,
   "metadata": {},
   "outputs": [
    {
     "data": {
      "text/plain": [
       "f    2665\n",
       "t     135\n",
       "Name: psych, dtype: int64"
      ]
     },
     "execution_count": 56,
     "metadata": {},
     "output_type": "execute_result"
    }
   ],
   "source": [
    "# Výpis unikátnych hodnôt a ich počtov\n",
    "data['psych'].value_counts(dropna=False)"
   ]
  },
  {
   "cell_type": "markdown",
   "metadata": {},
   "source": [
    "**POZOROVANIE:** [https://www.ncbi.nlm.nih.gov/pubmed/21996646] Usudzujeme, že tento atribút nám hovorí o tom, čí daný pacient trpí ochorením. Existujú len dva stavy. Buď pacient trpí ochorením alebo nie. Preto budeme tento atribút považovat za **kategorický binárny atribút**, ktorý v sebe bude niesť hodnoty [true = má ochorenie, false = nemá ochorenie]. Kedže pacientov s hodnotou **true** je len zopár myslíme si, že je tento **atribút vhodný pre klasfikáciu**"
   ]
  },
  {
   "cell_type": "markdown",
   "metadata": {},
   "source": [
    "**KOREKCIA:** Prekonvertujeme si formát dát na boolean hodnoty"
   ]
  },
  {
   "cell_type": "code",
   "execution_count": 57,
   "metadata": {
    "scrolled": true
   },
   "outputs": [
    {
     "data": {
      "text/plain": [
       "False    2665\n",
       "True      135\n",
       "Name: _psych, dtype: int64"
      ]
     },
     "execution_count": 57,
     "metadata": {},
     "output_type": "execute_result"
    }
   ],
   "source": [
    "# Mapovanie True a False na hodnoty podľa toho ake si zvolíme\n",
    "clean_data['_psych'] = data['psych'].map({'t': True, 'f': False})\n",
    "clean_data['_psych'].value_counts()"
   ]
  },
  {
   "cell_type": "markdown",
   "metadata": {},
   "source": [
    "### Atribút - pregnant"
   ]
  },
  {
   "cell_type": "code",
   "execution_count": 58,
   "metadata": {},
   "outputs": [
    {
     "data": {
      "text/plain": [
       "f    2759\n",
       "t      41\n",
       "Name: pregnant, dtype: int64"
      ]
     },
     "execution_count": 58,
     "metadata": {},
     "output_type": "execute_result"
    }
   ],
   "source": [
    "# Výpis prvých 5 záznamov pre daný atribút\n",
    "data['pregnant'].value_counts(dropna=False)"
   ]
  },
  {
   "cell_type": "markdown",
   "metadata": {},
   "source": [
    "**POZOROVANIE:** Usudzujeme, že tento atribút nám hovorí o tom, či je daný pacient **tehotný**. Existujú len dva stavy. Buď je pacient tehotný alebo nie je tehotný. Pacient, ktorý je tehotný musí mať pohlavie žena, ak nemá musíme dáta upraviť. Preto budeme tento atribút považovat za **kategorický binárny atribút**, ktorý v sebe bude niesť hodnoty [true = je tehotný, false = nie je tehotný]. Kedže pacientov s hodnotou **true** je len zopár myslíme si, že je tento **atribút vhodný pre klasfikáciu**"
   ]
  },
  {
   "cell_type": "markdown",
   "metadata": {},
   "source": [
    "**KOREKCIA:** Prekonvertujeme si formát dát na boolean hodnoty"
   ]
  },
  {
   "cell_type": "code",
   "execution_count": 59,
   "metadata": {
    "scrolled": true
   },
   "outputs": [
    {
     "data": {
      "text/plain": [
       "False    2759\n",
       "True       41\n",
       "Name: _pregnant, dtype: int64"
      ]
     },
     "execution_count": 59,
     "metadata": {},
     "output_type": "execute_result"
    }
   ],
   "source": [
    "# Mapovanie True a False na hodnoty podľa toho ake si zvolíme\n",
    "clean_data['_pregnant'] = data['pregnant'].map({'t': True, 'f': False})\n",
    "clean_data['_pregnant'].value_counts()"
   ]
  },
  {
   "cell_type": "markdown",
   "metadata": {},
   "source": [
    "## Vyšetrenia a ich výsledky\n",
    "V tejto sekcií opisujeme vyšetrenia, ktoré a absolvovali pacienti a ich výsledky. NaN hodnoty, či pacient absolvoval vyšetrenie alebo nie vieme doplniť na základe nameranej hodnoty vo výsledku."
   ]
  },
  {
   "cell_type": "markdown",
   "metadata": {},
   "source": [
    "### Atribút - TSH"
   ]
  },
  {
   "cell_type": "markdown",
   "metadata": {},
   "source": [
    "*POZNÁMKA - A TSH test is done to find out if your thyroid gland is working the way it should. It can tell you if it’s overactive (hyperthyroidism) or underactive (hypothyroidism). The test can also detect a thyroid disorder before you have any symptoms. If untreated, a thyroid disorder can cause health problems.  \n",
    "TSH stands for “thyroid stimulating hormone” and the test measures how much of this hormone is in your blood. TSH is produced by the pituitary gland in your brain. This gland tells your thyroid to make and release the thyroid hormones into your blood* [https://www.webmd.com/a-to-z-guides/what-is-tsh-test#1]"
   ]
  },
  {
   "cell_type": "code",
   "execution_count": 60,
   "metadata": {},
   "outputs": [
    {
     "data": {
      "text/plain": [
       "id\n",
       "0    2.90\n",
       "1    0.20\n",
       "2    2.10\n",
       "3    0.02\n",
       "4    0.69\n",
       "Name: TSH, dtype: float64"
      ]
     },
     "execution_count": 60,
     "metadata": {},
     "output_type": "execute_result"
    }
   ],
   "source": [
    "# Výpis prvých 5 záznamov pre daný atribút\n",
    "data['TSH'].head()"
   ]
  },
  {
   "cell_type": "markdown",
   "metadata": {},
   "source": [
    "**POZOROVANIE:** Na základe vyšieho opisu a toho, že atribút v sebe nesie číselné hodnoty usudzujeme, že nám **vyšetrení hladiny hormónu v krvi**. Tieto hodnoty budeme považovať za **spojitý (kvantitatívny) pomerový atribút**."
   ]
  },
  {
   "cell_type": "code",
   "execution_count": 61,
   "metadata": {},
   "outputs": [
    {
     "data": {
      "text/plain": [
       "count    2516.000000\n",
       "mean        4.672150\n",
       "std        21.449453\n",
       "min         0.005000\n",
       "25%         0.440000\n",
       "50%         1.400000\n",
       "75%         2.600000\n",
       "max       478.000000\n",
       "Name: TSH, dtype: float64"
      ]
     },
     "execution_count": 61,
     "metadata": {},
     "output_type": "execute_result"
    }
   ],
   "source": [
    "# vykonáme deskriptívnu štatistiku\n",
    "data['TSH'].describe(include='all')"
   ]
  },
  {
   "cell_type": "code",
   "execution_count": 73,
   "metadata": {},
   "outputs": [
    {
     "data": {
      "image/png": "[encoded data removed]",
      "text/plain": [
       "<matplotlib.figure.Figure at 0x1a19ef9128>"
      ]
     },
     "metadata": {},
     "output_type": "display_data"
    }
   ],
   "source": [
    "# Pozrieme sa na najbežnejšie hodnoty\n",
    "atribute = 'TSH'\n",
    "sample = data.loc[data[atribute].notna(), atribute]\n",
    "_ = plt.hist(sample, bins=100)"
   ]
  },
  {
   "cell_type": "markdown",
   "metadata": {},
   "source": [
    "**POZOROVANIE:** Môžeme vidieť, že hodnoty sa pohybujú okolo **0.**. Usudzujeme, že výsledky vyšetrenia sú malé desatinné čísla a **pacienti s väčšími výsledkami by mohli byť vhodný na budúcu klasifikáciu**."
   ]
  },
  {
   "cell_type": "markdown",
   "metadata": {},
   "source": [
    "### Atribút - TSH measured"
   ]
  },
  {
   "cell_type": "code",
   "execution_count": 74,
   "metadata": {},
   "outputs": [
    {
     "data": {
      "text/plain": [
       "t    2516\n",
       "f     284\n",
       "Name: TSH measured, dtype: int64"
      ]
     },
     "execution_count": 74,
     "metadata": {},
     "output_type": "execute_result"
    }
   ],
   "source": [
    "# Výpis prvých 5 záznamov pre daný atribút\n",
    "data['TSH measured'].value_counts(dropna=False)"
   ]
  },
  {
   "cell_type": "markdown",
   "metadata": {},
   "source": [
    "**POZOROVANIE:** Usudzujeme, že tento atribút nám hovorí o tom, či je daný pacient podstúpil vyšetrenie. Existujú len dva stavy. Buď podstúpil (t) alebo nepodstúpil(f). Preto budeme tento atribút považovat za **kategorický binárny atribút**"
   ]
  },
  {
   "cell_type": "markdown",
   "metadata": {},
   "source": [
    "**KOREKCIA:** Prekonvertujeme si formát dát na boolean hodnoty"
   ]
  },
  {
   "cell_type": "code",
   "execution_count": 75,
   "metadata": {
    "scrolled": true
   },
   "outputs": [
    {
     "data": {
      "text/plain": [
       "True     2516\n",
       "False     284\n",
       "Name: _TSH_measured, dtype: int64"
      ]
     },
     "execution_count": 75,
     "metadata": {},
     "output_type": "execute_result"
    }
   ],
   "source": [
    "# Mapovanie True a False na hodnoty podľa toho ake si zvolíme\n",
    "column = '_TSH_measured'\n",
    "data[column] = data['TSH measured'].map({'t': True, 'f': False})\n",
    "data[column].value_counts()"
   ]
  },
  {
   "cell_type": "markdown",
   "metadata": {},
   "source": [
    "### Atribút - T3"
   ]
  },
  {
   "cell_type": "markdown",
   "metadata": {},
   "source": [
    "*POZNÁMKA - Prvým izolovaným hormónom produkovaným štítnou žľazou bol hormón T4. Spočiatku bol považovaný za hlavný hormón štítnej žľazy, neskôr sa však ukázalo, že ide skôr o prohormón, pretože doposiaľ nebola zistená žiadna jeho priama akcia v tele. Jeho aktivita je nepriama, nakoľko slúži ako zdroj pre vytváranie aktívneho hormónu T3.\n",
    "Časť T3 (asi 20%) pochádza priamo zo štítnej žľazy, zvyšok vzniká konverziou T4 na T3 v pečeni, obličkách, svaloch a centrálnom nervovom systéme. Nie všetka T4-ka sa transformuje na T3-ku. T4 predstavuje zásobáreň neaktívneho hormónu štítnej žľazy v krvi.\n",
    "Hladina hormónov T4 a T3 je riadená spätnoväzobným mechanizmom prostredníctvom hormónu TSH. Ak je hladina T4 a T3 zvýšená, klesne hladina TSH, čím sa obmedzí tvorba hormónov a naopak, ak je hladina nízka, zvýši sa TSH, čo vedie k zvýšeniu produkcie štítnej žľazy. TSH pôsobí aj na veľkosť štítnej žľazy. Nízka hladina TSH znamená jej zmenšovanie.*\n",
    "Viac tu: [https://vsetkooanabolikach.webnode.sk/news/t3-je-jednou-z-najucinnejsich-latok-v-boji-proti-tuku-/]"
   ]
  },
  {
   "cell_type": "code",
   "execution_count": 76,
   "metadata": {},
   "outputs": [
    {
     "data": {
      "text/plain": [
       "id\n",
       "0    1.2\n",
       "1    NaN\n",
       "2    1.7\n",
       "3    3.4\n",
       "4    NaN\n",
       "Name: T3, dtype: float64"
      ]
     },
     "execution_count": 76,
     "metadata": {},
     "output_type": "execute_result"
    }
   ],
   "source": [
    "# Výpis prvých 5 záznamov pre daný atribút\n",
    "data['T3'].head()"
   ]
  },
  {
   "cell_type": "markdown",
   "metadata": {},
   "source": [
    "**POZOROVANIE:** Na základe vyšieho opisu a toho, že atribút v sebe nesie číselné hodnoty usudzujeme, že nám **vyšetrení hladiny hormónu v krvi**. Tieto hodnoty budeme považovať za **spojitý (kvantitatívny) pomerový atribút**. Vidíme, že niektoré hodnoty sú NaN, takže stĺpec bude potrebné očistiť o tieto hodnoty alebo si ich upraviť.) alebo **hodnoty nahradiť za najčastejšie sa vyskytujúcu hodnotu**. Stratégia doplnenia hodnôt podľa najčastejšej hodnoty bude pravdepodobne využitá aj pri daľších nulových hodnotách vyšetrení."
   ]
  },
  {
   "cell_type": "code",
   "execution_count": 77,
   "metadata": {
    "scrolled": true
   },
   "outputs": [
    {
     "data": {
      "text/plain": [
       "count    2215.000000\n",
       "mean        2.024966\n",
       "std         0.824600\n",
       "min         0.050000\n",
       "25%         1.600000\n",
       "50%         2.000000\n",
       "75%         2.400000\n",
       "max        10.600000\n",
       "Name: T3, dtype: float64"
      ]
     },
     "execution_count": 77,
     "metadata": {},
     "output_type": "execute_result"
    }
   ],
   "source": [
    "# vykonáme deskriptívnu štatistiku\n",
    "data['T3'].describe()"
   ]
  },
  {
   "cell_type": "code",
   "execution_count": 78,
   "metadata": {},
   "outputs": [
    {
     "data": {
      "image/png": "[encoded data removed]",
      "text/plain": [
       "<matplotlib.figure.Figure at 0x1a19e72f98>"
      ]
     },
     "metadata": {},
     "output_type": "display_data"
    }
   ],
   "source": [
    "# Pozrieme sa na najbežnejšie hodnoty\n",
    "atribute = 'T3'\n",
    "sample = data.loc[data[atribute].notna(), atribute]\n",
    "#sample = data[atribute].interpolate()\n",
    "_ = plt.hist(sample, bins=100)\n",
    "_ = plt.xlabel('hladina hormónu ' + atribute)\n",
    "_ = plt.ylabel('počet pacientov')"
   ]
  },
  {
   "cell_type": "code",
   "execution_count": 79,
   "metadata": {},
   "outputs": [
    {
     "data": {
      "text/plain": [
       "0    2.0\n",
       "dtype: float64"
      ]
     },
     "execution_count": 79,
     "metadata": {},
     "output_type": "execute_result"
    }
   ],
   "source": [
    "data['T3'].mode()"
   ]
  },
  {
   "cell_type": "markdown",
   "metadata": {},
   "source": [
    "**POZOROVANIE:** Môžeme vidieť, že hodnoty sa pohybujú okolo **2.**. Usúdzujeme, že výsledky na chvostoch grafu by bolo vhodné použiť pre budúcu klasifikáciu."
   ]
  },
  {
   "cell_type": "markdown",
   "metadata": {},
   "source": [
    "### Atribút - T3 measured"
   ]
  },
  {
   "cell_type": "code",
   "execution_count": 80,
   "metadata": {},
   "outputs": [
    {
     "data": {
      "text/plain": [
       "t    2215\n",
       "f     585\n",
       "Name: T3 measured, dtype: int64"
      ]
     },
     "execution_count": 80,
     "metadata": {},
     "output_type": "execute_result"
    }
   ],
   "source": [
    "# Výpis prvých 5 záznamov pre daný atribút\n",
    "data['T3 measured'].value_counts(dropna=False)"
   ]
  },
  {
   "cell_type": "markdown",
   "metadata": {},
   "source": [
    "**POZOROVANIE:** Usudzujeme, že tento atribút nám hovorí o tom, či je daný pacient podstúpil vyšetrenie. Existujú len dva stavy. Buď podstúpil (t) alebo nepodstúpil(f). Preto budeme tento atribút považovat za **kategorický binárny atribút**"
   ]
  },
  {
   "cell_type": "markdown",
   "metadata": {},
   "source": [
    "**KOREKCIA:** Prekonvertujeme si formát dát na boolean hodnoty"
   ]
  },
  {
   "cell_type": "code",
   "execution_count": 81,
   "metadata": {
    "scrolled": true
   },
   "outputs": [
    {
     "data": {
      "text/plain": [
       "True     2215\n",
       "False     585\n",
       "Name: _T3_measured, dtype: int64"
      ]
     },
     "execution_count": 81,
     "metadata": {},
     "output_type": "execute_result"
    }
   ],
   "source": [
    "# Mapovanie True a False na hodnoty podľa toho ake si zvolíme\n",
    "column = '_T3_measured'\n",
    "data[column] = data['T3 measured'].replace({'t': True, 'f': False})\n",
    "data[column].value_counts()"
   ]
  },
  {
   "cell_type": "markdown",
   "metadata": {},
   "source": [
    "### Atribút - TT4"
   ]
  },
  {
   "cell_type": "markdown",
   "metadata": {},
   "source": [
    "*POZNÁMKA - Prvým izolovaným hormónom produkovaným štítnou žľazou bol hormón T4. Spočiatku bol považovaný za hlavný hormón štítnej žľazy, neskôr sa však ukázalo, že ide skôr o prohormón, pretože doposiaľ nebola zistená žiadna jeho priama akcia v tele. Jeho aktivita je nepriama, nakoľko slúži ako zdroj pre vytváranie aktívneho hormónu T3.\n",
    "Časť T3 (asi 20%) pochádza priamo zo štítnej žľazy, zvyšok vzniká konverziou T4 na T3 v pečeni, obličkách, svaloch a centrálnom nervovom systéme. Nie všetka T4-ka sa transformuje na T3-ku. T4 predstavuje zásobáreň neaktívneho hormónu štítnej žľazy v krvi.\n",
    "Hladina hormónov T4 a T3 je riadená spätnoväzobným mechanizmom prostredníctvom hormónu TSH. Ak je hladina T4 a T3 zvýšená, klesne hladina TSH, čím sa obmedzí tvorba hormónov a naopak, ak je hladina nízka, zvýši sa TSH, čo vedie k zvýšeniu produkcie štítnej žľazy. TSH pôsobí aj na veľkosť štítnej žľazy. Nízka hladina TSH znamená jej zmenšovanie.*\n",
    "Viac tu: [https://vsetkooanabolikach.webnode.sk/news/t3-je-jednou-z-najucinnejsich-latok-v-boji-proti-tuku-/]"
   ]
  },
  {
   "cell_type": "code",
   "execution_count": 82,
   "metadata": {},
   "outputs": [
    {
     "data": {
      "text/plain": [
       "id\n",
       "0    174.0\n",
       "1    105.0\n",
       "2     96.0\n",
       "3     91.0\n",
       "4    162.0\n",
       "Name: TT4, dtype: float64"
      ]
     },
     "execution_count": 82,
     "metadata": {},
     "output_type": "execute_result"
    }
   ],
   "source": [
    "# Výpis prvých 5 záznamov pre daný atribút\n",
    "data['TT4'].head()"
   ]
  },
  {
   "cell_type": "markdown",
   "metadata": {},
   "source": [
    "**POZOROVANIE:** Na základe vyšieho opisu a toho, že atribút v sebe nesie číselné hodnoty usudzujeme, že nám **vyšetrení hladiny hormónu v krvi**. Tieto hodnoty budeme považovať za **spojitý (kvantitatívny) pomerový atribút**."
   ]
  },
  {
   "cell_type": "code",
   "execution_count": 83,
   "metadata": {},
   "outputs": [
    {
     "data": {
      "text/plain": [
       "count    2616.000000\n",
       "mean      109.072401\n",
       "std        35.392443\n",
       "min         2.000000\n",
       "25%        88.000000\n",
       "50%       104.000000\n",
       "75%       125.000000\n",
       "max       430.000000\n",
       "Name: TT4, dtype: float64"
      ]
     },
     "execution_count": 83,
     "metadata": {},
     "output_type": "execute_result"
    }
   ],
   "source": [
    "# vykonáme deskriptívnu štatistiku\n",
    "data['TT4'].describe()"
   ]
  },
  {
   "cell_type": "code",
   "execution_count": 84,
   "metadata": {},
   "outputs": [
    {
     "data": {
      "image/png": "[encoded data removed]",
      "text/plain": [
       "<matplotlib.figure.Figure at 0x1a1d90ae80>"
      ]
     },
     "metadata": {},
     "output_type": "display_data"
    }
   ],
   "source": [
    "# Pozrieme sa na najbežnejšie hodnoty\n",
    "atribute = 'TT4'\n",
    "sample = data.loc[data[atribute].notna(), atribute]\n",
    "#sample = data[atribute].interpolate()\n",
    "_ = plt.hist(sample, bins=100)\n",
    "_ = plt.xlabel('hladina hormónu ' + atribute)\n",
    "_ = plt.ylabel('počet pacientov')"
   ]
  },
  {
   "cell_type": "code",
   "execution_count": 85,
   "metadata": {},
   "outputs": [
    {
     "data": {
      "text/plain": [
       "0    101.0\n",
       "dtype: float64"
      ]
     },
     "execution_count": 85,
     "metadata": {},
     "output_type": "execute_result"
    }
   ],
   "source": [
    "data['TT4'].mode()"
   ]
  },
  {
   "cell_type": "markdown",
   "metadata": {},
   "source": [
    "**POZOROVANIE:** Môžeme vidieť, že hodnoty sa pohybujú okolo **101.**. Usúdzujeme, že výsledky ktoré sa nachádzajú na chvostoch bude možné neskôr využit na klasifikáciu."
   ]
  },
  {
   "cell_type": "markdown",
   "metadata": {},
   "source": [
    "### Atribút - TT4 measured"
   ]
  },
  {
   "cell_type": "code",
   "execution_count": 86,
   "metadata": {},
   "outputs": [
    {
     "data": {
      "text/plain": [
       "t    2616\n",
       "f     184\n",
       "Name: TT4 measured, dtype: int64"
      ]
     },
     "execution_count": 86,
     "metadata": {},
     "output_type": "execute_result"
    }
   ],
   "source": [
    "# Výpis prvých 5 záznamov pre daný atribút\n",
    "data['TT4 measured'].value_counts(dropna=False)"
   ]
  },
  {
   "cell_type": "markdown",
   "metadata": {},
   "source": [
    "**POZOROVANIE:** Usudzujeme, že tento atribút nám hovorí o tom, či je daný pacient podstúpil vyšetrenie. Existujú len dva stavy. Buď podstúpil (t) alebo nepodstúpil(f). Preto budeme tento atribút považovat za **kategorický binárny atribút**"
   ]
  },
  {
   "cell_type": "markdown",
   "metadata": {},
   "source": [
    "**KOREKCIA:** Prekonvertujeme si formát dát na boolean hodnoty"
   ]
  },
  {
   "cell_type": "code",
   "execution_count": 87,
   "metadata": {
    "scrolled": false
   },
   "outputs": [
    {
     "data": {
      "text/plain": [
       "True     2616\n",
       "False     184\n",
       "Name: _TT4_measured, dtype: int64"
      ]
     },
     "execution_count": 87,
     "metadata": {},
     "output_type": "execute_result"
    }
   ],
   "source": [
    "# Mapovanie True a False na hodnoty podľa toho ake si zvolíme\n",
    "column = '_TT4_measured'\n",
    "data[column] = data['TT4 measured'].replace({'t': True, 'f': False})\n",
    "data[column].value_counts()"
   ]
  },
  {
   "cell_type": "markdown",
   "metadata": {},
   "source": [
    "### Atribút - T4U"
   ]
  },
  {
   "cell_type": "markdown",
   "metadata": {},
   "source": [
    "*POZNÁMKA - [https://www.ncbi.nlm.nih.gov/books/NBK285546/]*"
   ]
  },
  {
   "cell_type": "code",
   "execution_count": 88,
   "metadata": {},
   "outputs": [
    {
     "data": {
      "text/plain": [
       "id\n",
       "0     NaN\n",
       "1    0.97\n",
       "2     NaN\n",
       "3    1.10\n",
       "4    0.99\n",
       "Name: T4U, dtype: float64"
      ]
     },
     "execution_count": 88,
     "metadata": {},
     "output_type": "execute_result"
    }
   ],
   "source": [
    "# Výpis prvých 5 záznamov pre daný atribút\n",
    "data['T4U'].head()"
   ]
  },
  {
   "cell_type": "markdown",
   "metadata": {},
   "source": [
    "**POZOROVANIE:** Na základe prečítaniu vyšie uvedeného zdroja a toho, že atribút v sebe nesie číselné hodnoty usudzujeme, že nám **vyšetrení hladiny hormónu v krvi**. Tieto hodnoty budeme považovať za **spojitý (kvantitatívny) pomerový atribút**."
   ]
  },
  {
   "cell_type": "code",
   "execution_count": 89,
   "metadata": {},
   "outputs": [
    {
     "data": {
      "text/plain": [
       "count    2503.000000\n",
       "mean        0.997912\n",
       "std         0.194390\n",
       "min         0.310000\n",
       "25%         0.880000\n",
       "50%         0.980000\n",
       "75%         1.080000\n",
       "max         2.120000\n",
       "Name: T4U, dtype: float64"
      ]
     },
     "execution_count": 89,
     "metadata": {},
     "output_type": "execute_result"
    }
   ],
   "source": [
    "# vykonáme deskriptívnu štatistiku\n",
    "data['T4U'].describe()"
   ]
  },
  {
   "cell_type": "code",
   "execution_count": 90,
   "metadata": {},
   "outputs": [
    {
     "data": {
      "image/png": "[encoded data removed]",
      "text/plain": [
       "<matplotlib.figure.Figure at 0x1a1e998f98>"
      ]
     },
     "metadata": {},
     "output_type": "display_data"
    }
   ],
   "source": [
    "# Pozrieme sa na najbežnejšie hodnoty\n",
    "atribute = 'T4U'\n",
    "sample = data.loc[data[atribute].notna(), atribute]\n",
    "#sample = data[atribute].interpolate()\n",
    "_ = plt.hist(sample, bins=100)\n",
    "_ = plt.xlabel('hladina hormónu ' + atribute)\n",
    "_ = plt.ylabel('počet pacientov')"
   ]
  },
  {
   "cell_type": "code",
   "execution_count": 91,
   "metadata": {},
   "outputs": [
    {
     "data": {
      "text/plain": [
       "0    0.99\n",
       "dtype: float64"
      ]
     },
     "execution_count": 91,
     "metadata": {},
     "output_type": "execute_result"
    }
   ],
   "source": [
    "data['T4U'].mode()"
   ]
  },
  {
   "cell_type": "markdown",
   "metadata": {},
   "source": [
    "**POZOROVANIE:** Môžeme vidieť, že hodnoty sa pohybujú okolo **0.99**. Usúdzujeme, že výsledky vyšetrenia bude vhodné použiť pre budúcu klasifikáciu."
   ]
  },
  {
   "cell_type": "markdown",
   "metadata": {},
   "source": [
    "### Atribút - TT4 measured"
   ]
  },
  {
   "cell_type": "code",
   "execution_count": 92,
   "metadata": {},
   "outputs": [
    {
     "data": {
      "text/plain": [
       "t    2616\n",
       "f     184\n",
       "Name: TT4 measured, dtype: int64"
      ]
     },
     "execution_count": 92,
     "metadata": {},
     "output_type": "execute_result"
    }
   ],
   "source": [
    "# Výpis prvých 5 záznamov pre daný atribút\n",
    "data['TT4 measured'].value_counts()"
   ]
  },
  {
   "cell_type": "markdown",
   "metadata": {},
   "source": [
    "**POZOROVANIE:** Usudzujeme, že tento atribút nám hovorí o tom, či je daný pacient podstúpil vyšetrenie. Existujú len dva stavy. Buď podstúpil (t) alebo nepodstúpil(f). Preto budeme tento atribút považovat za **kategorický binárny atribút**"
   ]
  },
  {
   "cell_type": "markdown",
   "metadata": {},
   "source": [
    "**KOREKCIA:** Prekonvertujeme si formát dát na boolean hodnoty"
   ]
  },
  {
   "cell_type": "code",
   "execution_count": 93,
   "metadata": {
    "scrolled": true
   },
   "outputs": [
    {
     "data": {
      "text/plain": [
       "True     2616\n",
       "False     184\n",
       "Name: _TT4_measured, dtype: int64"
      ]
     },
     "execution_count": 93,
     "metadata": {},
     "output_type": "execute_result"
    }
   ],
   "source": [
    "# Mapovanie True a False na hodnoty podľa toho ake si zvolíme\n",
    "column = '_TT4_measured'\n",
    "data[column] = data['TT4 measured'].replace({'t': True, 'f': False})\n",
    "data[column].value_counts()"
   ]
  },
  {
   "cell_type": "markdown",
   "metadata": {},
   "source": [
    "### Atribút - FTI"
   ]
  },
  {
   "cell_type": "markdown",
   "metadata": {},
   "source": [
    "*POZNÁMKA - *Index volného tyroxinu. Voľný tyroxín (T4) môže byť meraný priamo (FT4) alebo kalkulovaný ako index voľného tyroxínu (FTI). FTI popisuje, ako veľa voľného T4 je prítomné v porovnaní s viazaným T4. FTI nám pomáha povedať, či abnormálne množstvá T4 sú prítomné kvôli abnormálnym množstvám TBG (thyroxine-binding globulin)."
   ]
  },
  {
   "cell_type": "code",
   "execution_count": 94,
   "metadata": {},
   "outputs": [
    {
     "data": {
      "text/plain": [
       "id\n",
       "0      ?\n",
       "1    108\n",
       "2      ?\n",
       "3     83\n",
       "4    163\n",
       "Name: FTI, dtype: object"
      ]
     },
     "execution_count": 94,
     "metadata": {},
     "output_type": "execute_result"
    }
   ],
   "source": [
    "data['FTI'].head()"
   ]
  },
  {
   "cell_type": "markdown",
   "metadata": {},
   "source": [
    "**POZOROVANIE:** Na základe vyšieho opisu a toho, že atribút v sebe nesie číselné hodnoty usudzujeme, že nám **vyšetrení hladiny hormónu v krvi**. Tieto hodnoty budeme považovať za **spojitý (kvantitatívny) pomerový atribút**. Na prvý pohľad vidíme, že niektoré hodnoty nám chýbajú. Na tieto hodnoty použijeme pravdepodobne stratégiu doplnenia hodnôt na základe priemeru alebo modusu."
   ]
  },
  {
   "cell_type": "markdown",
   "metadata": {},
   "source": [
    "**KOREKCIA:** Bude potrebné nastaviť typ atribútu"
   ]
  },
  {
   "cell_type": "code",
   "execution_count": 95,
   "metadata": {},
   "outputs": [
    {
     "data": {
      "text/plain": [
       "count    2505.000000\n",
       "mean      110.787984\n",
       "std        32.883986\n",
       "min         2.000000\n",
       "25%        93.000000\n",
       "50%       107.000000\n",
       "75%       124.000000\n",
       "max       395.000000\n",
       "Name: _FTI, dtype: float64"
      ]
     },
     "execution_count": 95,
     "metadata": {},
     "output_type": "execute_result"
    }
   ],
   "source": [
    "new_column = '_FTI'\n",
    "data[new_column] = pd.to_numeric(data['FTI'], errors='coerce')\n",
    "# vykonáme deskriptívnu štatistiku\n",
    "data[new_column].describe()"
   ]
  },
  {
   "cell_type": "code",
   "execution_count": 96,
   "metadata": {},
   "outputs": [
    {
     "data": {
      "image/png": "[encoded data removed]",
      "text/plain": [
       "<matplotlib.figure.Figure at 0x1a1ec80e48>"
      ]
     },
     "metadata": {},
     "output_type": "display_data"
    }
   ],
   "source": [
    "# Pozrieme sa na najbežnejšie hodnoty\n",
    "sample = data.loc[data[atribute].notna(), new_column]\n",
    "#sample = sample.replace('?', None)\n",
    "_ = plt.hist(sample, bins=100)\n",
    "_ = plt.xlabel('hladina hormónu ' + atribute)\n",
    "_ = plt.ylabel('počet pacientov')"
   ]
  },
  {
   "cell_type": "code",
   "execution_count": 97,
   "metadata": {},
   "outputs": [
    {
     "data": {
      "text/plain": [
       "0    100.0\n",
       "1    107.0\n",
       "dtype: float64"
      ]
     },
     "execution_count": 97,
     "metadata": {},
     "output_type": "execute_result"
    }
   ],
   "source": [
    "data[new_column].mode()"
   ]
  },
  {
   "cell_type": "markdown",
   "metadata": {},
   "source": [
    "**POZOROVANIE:** Môžeme vidieť, že najčastejšie hodnoty vyšetrenia sú dve hodnoty. **100.0 a 107.0** "
   ]
  },
  {
   "cell_type": "markdown",
   "metadata": {},
   "source": [
    "### Atribút - FTI measured"
   ]
  },
  {
   "cell_type": "code",
   "execution_count": 98,
   "metadata": {},
   "outputs": [
    {
     "data": {
      "text/plain": [
       "id\n",
       "0    f\n",
       "1    t\n",
       "2    f\n",
       "3    t\n",
       "4    t\n",
       "Name: FTI measured, dtype: object"
      ]
     },
     "execution_count": 98,
     "metadata": {},
     "output_type": "execute_result"
    }
   ],
   "source": [
    "data['FTI measured'].head()"
   ]
  },
  {
   "cell_type": "code",
   "execution_count": 99,
   "metadata": {},
   "outputs": [
    {
     "data": {
      "text/plain": [
       "t    2505\n",
       "f     295\n",
       "Name: FTI measured, dtype: int64"
      ]
     },
     "execution_count": 99,
     "metadata": {},
     "output_type": "execute_result"
    }
   ],
   "source": [
    "data['FTI measured'].value_counts(dropna=False)"
   ]
  },
  {
   "cell_type": "markdown",
   "metadata": {},
   "source": [
    "**POZOROVANIE:** Usudzujeme, že tento atribút nám hovorí o tom, či je daný pacient podstúpil vyšetrenie. Existujú len dva stavy. Buď podstúpil (t) alebo nepodstúpil(f). Preto budeme tento atribút považovat za **kategorický binárny atribút**"
   ]
  },
  {
   "cell_type": "markdown",
   "metadata": {},
   "source": [
    "**KOREKCIA:** Prekonvertujeme si formát dát na boolean hodnoty"
   ]
  },
  {
   "cell_type": "code",
   "execution_count": 100,
   "metadata": {},
   "outputs": [
    {
     "data": {
      "text/plain": [
       "True     2505\n",
       "False     295\n",
       "Name: _FTI_measured, dtype: int64"
      ]
     },
     "execution_count": 100,
     "metadata": {},
     "output_type": "execute_result"
    }
   ],
   "source": [
    "# Mapovanie True a False na hodnoty podľa toho ake si zvolíme\n",
    "column = '_FTI_measured'\n",
    "data[column] = data['FTI measured'].replace({'t': True, 'f': False})\n",
    "data[column].value_counts()"
   ]
  },
  {
   "cell_type": "markdown",
   "metadata": {},
   "source": [
    "### Atribút - TBG"
   ]
  },
  {
   "cell_type": "markdown",
   "metadata": {},
   "source": [
    "*POZNÁMKA - * Thyroid-binding globulin (TBG) je produkovaný v pečeni a viaže tyroidové hormóny v cirkulácii. Je to jeden z troch transportných proteínov, zodpovedných za nosenie tyroidových hormńov tyroxín (T4) a triodotrynov (T3) v krvnom obehu.\n",
    "\n",
    " "
   ]
  },
  {
   "cell_type": "code",
   "execution_count": 101,
   "metadata": {},
   "outputs": [
    {
     "data": {
      "text/plain": [
       "id\n",
       "0    ?\n",
       "1    ?\n",
       "2    ?\n",
       "3    ?\n",
       "4    ?\n",
       "Name: TBG, dtype: object"
      ]
     },
     "execution_count": 101,
     "metadata": {},
     "output_type": "execute_result"
    }
   ],
   "source": [
    "data['TBG'].head()"
   ]
  },
  {
   "cell_type": "code",
   "execution_count": 102,
   "metadata": {},
   "outputs": [
    {
     "data": {
      "text/plain": [
       "array(['?'], dtype=object)"
      ]
     },
     "execution_count": 102,
     "metadata": {},
     "output_type": "execute_result"
    }
   ],
   "source": [
    "data['TBG'].unique()"
   ]
  },
  {
   "cell_type": "markdown",
   "metadata": {},
   "source": [
    "**POZOROVANIE:** NA základe toho, že všetky hodnoty atribútu TBG sú neznáme tak tento atribút môžeme vylúčiť z datasetu. Deskriptívne štatistiky nemajú zmysel."
   ]
  },
  {
   "cell_type": "markdown",
   "metadata": {},
   "source": [
    "**KOREKCIA:** tento atribút je vhodné zmazať, pretože nám neposkytuje žiadne údaje. "
   ]
  },
  {
   "cell_type": "markdown",
   "metadata": {},
   "source": [
    "### Atribút - TBG measured"
   ]
  },
  {
   "cell_type": "code",
   "execution_count": 103,
   "metadata": {},
   "outputs": [
    {
     "data": {
      "text/plain": [
       "id\n",
       "0    f\n",
       "1    f\n",
       "2    f\n",
       "3    f\n",
       "4    f\n",
       "Name: TBG measured, dtype: object"
      ]
     },
     "execution_count": 103,
     "metadata": {},
     "output_type": "execute_result"
    }
   ],
   "source": [
    "data['TBG measured'].head()"
   ]
  },
  {
   "cell_type": "code",
   "execution_count": 104,
   "metadata": {},
   "outputs": [
    {
     "data": {
      "text/plain": [
       "f    2800\n",
       "Name: TBG measured, dtype: int64"
      ]
     },
     "execution_count": 104,
     "metadata": {},
     "output_type": "execute_result"
    }
   ],
   "source": [
    "data['TBG measured'].value_counts()"
   ]
  },
  {
   "cell_type": "markdown",
   "metadata": {},
   "source": [
    "**POZOROVANIE:** Na základe toho, že atribút TBG očividne nebol zaznamenaný môžeme vidieť že nebol meraný ani pri jednom pacientovi."
   ]
  },
  {
   "cell_type": "markdown",
   "metadata": {},
   "source": [
    "**KOREKCIA:** Tento atribút môžeme odstrániť"
   ]
  },
  {
   "cell_type": "markdown",
   "metadata": {},
   "source": [
    "### Atribút - referral source"
   ]
  },
  {
   "cell_type": "code",
   "execution_count": 105,
   "metadata": {},
   "outputs": [
    {
     "data": {
      "text/plain": [
       "id\n",
       "0    other\n",
       "1    other\n",
       "2    other\n",
       "3    other\n",
       "4    other\n",
       "Name: referral source, dtype: object"
      ]
     },
     "execution_count": 105,
     "metadata": {},
     "output_type": "execute_result"
    }
   ],
   "source": [
    "# výpis prvých 5 hodnôt atribútu\n",
    "data['referral source'].head()"
   ]
  },
  {
   "cell_type": "code",
   "execution_count": 106,
   "metadata": {},
   "outputs": [
    {
     "data": {
      "text/plain": [
       "other    1632\n",
       "SVI       771\n",
       "SVHC      275\n",
       "STMW       91\n",
       "SVHD       31\n",
       "Name: referral source, dtype: int64"
      ]
     },
     "execution_count": 106,
     "metadata": {},
     "output_type": "execute_result"
    }
   ],
   "source": [
    "# Výpis unikátnych hodnôt a ich počtov\n",
    "data['referral source'].value_counts(dropna=False)"
   ]
  },
  {
   "cell_type": "markdown",
   "metadata": {},
   "source": [
    "**POZOROVANIE:** referral source v preklade znamená referenčný zdroj. na prvý pohľad vidíme, že obsahuje 5 rôznych hondnôt - SVI, SVHC, STMW, SVHB. Sú to metódy testovania. Referenčný zdroj budeme považovat za kategorický nominálny atribút."
   ]
  },
  {
   "cell_type": "markdown",
   "metadata": {},
   "source": [
    "**KOREKCIA:** v tomto atribúte sa nenachádzajú žiadne podozrivé hodnoty, ktoré by si vyžadovali úpravu."
   ]
  },
  {
   "cell_type": "markdown",
   "metadata": {},
   "source": [
    "### Atribút - class"
   ]
  },
  {
   "cell_type": "code",
   "execution_count": 107,
   "metadata": {},
   "outputs": [
    {
     "data": {
      "text/plain": [
       "id\n",
       "0    replacement therapy.|3560\n",
       "1                negative.|311\n",
       "2               negative.|3705\n",
       "3               negative.|2668\n",
       "4    replacement therapy.|1668\n",
       "Name: class, dtype: object"
      ]
     },
     "execution_count": 107,
     "metadata": {},
     "output_type": "execute_result"
    }
   ],
   "source": [
    "# výpis prvých 5 hodnôt atribútu\n",
    "data['class'].head()"
   ]
  },
  {
   "cell_type": "markdown",
   "metadata": {},
   "source": [
    "**POZOROVANIE:** Pri prvom pohľade vidíme jeden problém a to že tento stĺpec vieme rozdeliť do dvoch rôznych. Podľa obsahu usudzujeme že sa jedná o stav liečby, ktorá je na pacientovi vykonávaná (replacement therapy je hormonálna terapia, ktorou sa pacientovi do tela dodáva chýbajúci hormón). "
   ]
  },
  {
   "cell_type": "markdown",
   "metadata": {},
   "source": [
    "**KOREKCIA:** rozdelenie tohto atribútu do dvoch separátnych a následné upravenie hodnôt vo vzniknutých atribútoch ak to bude treba."
   ]
  },
  {
   "cell_type": "code",
   "execution_count": 109,
   "metadata": {},
   "outputs": [],
   "source": [
    "column1_name = 'unknown_1'\n",
    "column2_name = 'unknown_2'\n",
    "new_data = pd.DataFrame(data[\"class\"].str.split('\\.\\|').tolist(), columns = [column1_name,column2_name])"
   ]
  },
  {
   "cell_type": "code",
   "execution_count": 110,
   "metadata": {},
   "outputs": [
    {
     "data": {
      "text/plain": [
       "negative               2713\n",
       "underreplacement         35\n",
       "replacement therapy      29\n",
       "overreplacement          23\n",
       "Name: unknown_1, dtype: int64"
      ]
     },
     "execution_count": 110,
     "metadata": {},
     "output_type": "execute_result"
    }
   ],
   "source": [
    "#Vypíseme si prvý vytvorený stĺpec\n",
    "new_data[column1_name].value_counts()"
   ]
  },
  {
   "cell_type": "code",
   "execution_count": 111,
   "metadata": {},
   "outputs": [
    {
     "data": {
      "text/plain": [
       "2047    1\n",
       "1236    1\n",
       "3293    1\n",
       "1244    1\n",
       "3291    1\n",
       "Name: unknown_2, dtype: int64"
      ]
     },
     "execution_count": 111,
     "metadata": {},
     "output_type": "execute_result"
    }
   ],
   "source": [
    "#Vypíseme si prvý vytvorený stĺpec\n",
    "new_data[column2_name] = pd.to_numeric(new_data[column2_name], errors='corce')\n",
    "new_data[column2_name].value_counts(sort=True).head()"
   ]
  },
  {
   "cell_type": "markdown",
   "metadata": {},
   "source": [
    "**POZOROVANIE:** Môžeme pozorovať, že hodnoty v novo vytvorenom stĺpci sa neopakujú a každá sa nachádza v datasete len raz. Z toho usudzujeme, že atribút predstavuje **identifikátor pacienta**. Preto tento atribút budeme považovať za **kategorický nominálny atribút**. "
   ]
  },
  {
   "cell_type": "markdown",
   "metadata": {},
   "source": [
    "### Atribút - fnlwgt"
   ]
  },
  {
   "cell_type": "code",
   "execution_count": 112,
   "metadata": {},
   "outputs": [
    {
     "data": {
      "text/plain": [
       "id\n",
       "0    140581\n",
       "1    180916\n",
       "2    235853\n",
       "3    121889\n",
       "4    222490\n",
       "Name: fnlwgt, dtype: int64"
      ]
     },
     "execution_count": 112,
     "metadata": {},
     "output_type": "execute_result"
    }
   ],
   "source": [
    "# výpis prvých 5 hodnôt atribútu\n",
    "data['fnlwgt'].head()"
   ]
  },
  {
   "cell_type": "markdown",
   "metadata": {},
   "source": [
    "**POZOROVANIE:** fnlwgt [https://www.kaggle.com/uciml/adult-census-income] - skratka od **final weight** - váha pozorovaného segmentu. V našom prípade to znamená ako veľmi je daný pacient jedinečný v porovnaní s ostatnými. Tento atribút bude **vhodné použiť pre budúcu klasifikáciu**"
   ]
  },
  {
   "cell_type": "markdown",
   "metadata": {},
   "source": [
    "### Atribút - education"
   ]
  },
  {
   "cell_type": "code",
   "execution_count": 113,
   "metadata": {},
   "outputs": [
    {
     "data": {
      "text/plain": [
       "id\n",
       "0     Some-college\n",
       "1     Some-college\n",
       "2          HS-grad\n",
       "3     Some-college\n",
       "4        Assoc-voc\n",
       "Name: education, dtype: object"
      ]
     },
     "execution_count": 113,
     "metadata": {},
     "output_type": "execute_result"
    }
   ],
   "source": [
    "# výpis prvých 5 hodnôt atribútu\n",
    "data['education'].head()"
   ]
  },
  {
   "cell_type": "code",
   "execution_count": 114,
   "metadata": {},
   "outputs": [
    {
     "data": {
      "text/plain": [
       "<matplotlib.axes._subplots.AxesSubplot at 0x1a1d8faa58>"
      ]
     },
     "execution_count": 114,
     "metadata": {},
     "output_type": "execute_result"
    },
    {
     "data": {
      "image/png": "[encoded data removed]",
      "text/plain": [
       "<matplotlib.figure.Figure at 0x1a19f50518>"
      ]
     },
     "metadata": {},
     "output_type": "display_data"
    }
   ],
   "source": [
    "data['education'].value_counts().plot(kind=\"bar\")"
   ]
  },
  {
   "cell_type": "markdown",
   "metadata": {},
   "source": [
    "**POZOROVANIE:** education - v preklade znamená vzdelanie. Tento atribút nám hovorí tom, aké má pacient **dosiahnuté maximálne vzdelanie**. V datasete vidíme že má niekoľko unikátnych hodnôt, pričom najviac pacientov dosiahlo vzdelanie hodnoty \"HS-grad\" teda stredoškolské vzdelanie s maturitou. Podľa názvu tohto atribútu môžme povedať, že bude nejakým spôsobom súvisieť s atribútom \"education-num\". Vzdelanie budeme považovať za **kategorický ordinálny atribút**. "
   ]
  },
  {
   "cell_type": "markdown",
   "metadata": {},
   "source": [
    "### Atribút - education-num"
   ]
  },
  {
   "cell_type": "code",
   "execution_count": 115,
   "metadata": {},
   "outputs": [
    {
     "data": {
      "text/plain": [
       "id\n",
       "0    1000\n",
       "1      10\n",
       "2    -900\n",
       "3      10\n",
       "4      11\n",
       "Name: education-num, dtype: int64"
      ]
     },
     "execution_count": 115,
     "metadata": {},
     "output_type": "execute_result"
    }
   ],
   "source": [
    "data['education-num'].head()"
   ]
  },
  {
   "cell_type": "code",
   "execution_count": 116,
   "metadata": {},
   "outputs": [
    {
     "data": {
      "text/plain": [
       "<matplotlib.axes._subplots.AxesSubplot at 0x1a19f00978>"
      ]
     },
     "execution_count": 116,
     "metadata": {},
     "output_type": "execute_result"
    },
    {
     "data": {
      "image/png": "[encoded data removed]",
      "text/plain": [
       "<matplotlib.figure.Figure at 0x1a19e76c50>"
      ]
     },
     "metadata": {},
     "output_type": "display_data"
    }
   ],
   "source": [
    "data['education-num'].plot(kind='hist')"
   ]
  },
  {
   "cell_type": "markdown",
   "metadata": {},
   "source": [
    "**POZOROVANIE:** Education-num - po konzultácií s cvičiacim sme usúdili, že by sa malo jednať o počet koľko **rokov daný pacient študoval**. V tomto prípade platí, že záporné hodnoty a hodnoty väčšie ako 100 sú nezmyselné.Tieto hodnoty vieme zistiť napríklad z atribútu **education**. Tento atribút považujeme za **kvantitatívny(spojitý) atribút**.  "
   ]
  },
  {
   "cell_type": "markdown",
   "metadata": {},
   "source": [
    "### Atribút - capital-loss"
   ]
  },
  {
   "cell_type": "markdown",
   "metadata": {},
   "source": [
    "*POZNÁMKA - * strata kapitálu napríklad znamená keď investujeme do bitcoinov pri hodnote 9000 eur/ks ale cena bitcoinu začne prudko klesať a na sume 8000eur/ks spanikárime a predáme bitcoiny za nižšiu cenu za akú sme ich nakúpili. Toto vedie k stresu a to môže mať vplyv na zdravotný stav pacienta.\n",
    "\n",
    " "
   ]
  },
  {
   "cell_type": "code",
   "execution_count": 117,
   "metadata": {},
   "outputs": [
    {
     "data": {
      "text/plain": [
       "id\n",
       "0    0\n",
       "1    0\n",
       "2    0\n",
       "3    0\n",
       "4    0\n",
       "Name: capital-loss, dtype: int64"
      ]
     },
     "execution_count": 117,
     "metadata": {},
     "output_type": "execute_result"
    }
   ],
   "source": [
    "data['capital-loss'].head()"
   ]
  },
  {
   "cell_type": "code",
   "execution_count": 118,
   "metadata": {},
   "outputs": [
    {
     "data": {
      "text/plain": [
       "<matplotlib.axes._subplots.AxesSubplot at 0x1a1d98f908>"
      ]
     },
     "execution_count": 118,
     "metadata": {},
     "output_type": "execute_result"
    },
    {
     "data": {
      "image/png": "[encoded data removed]",
      "text/plain": [
       "<matplotlib.figure.Figure at 0x10cedb5c0>"
      ]
     },
     "metadata": {},
     "output_type": "display_data"
    }
   ],
   "source": [
    "data['capital-loss'].plot(kind='hist')"
   ]
  },
  {
   "cell_type": "markdown",
   "metadata": {},
   "source": [
    "**POZOROVANIE:** Na prvý pohľad vidíme, že väčšina pacientov nemalá žiadny capital-loss, takže u týchto pacientov môžeme predpokladať, že tento atribút nemal žiadny účinok na zdravotný stav. Hodnoty ktoré sú nenulové navrhujeme **použiť pri klasifikácií**. Tento atribút budeme považovať za **spojitý (kvantitatívny) pomerový**."
   ]
  },
  {
   "cell_type": "code",
   "execution_count": 119,
   "metadata": {},
   "outputs": [
    {
     "data": {
      "text/plain": [
       "count     102.000000\n",
       "mean     1788.205882\n",
       "std       469.218886\n",
       "min       323.000000\n",
       "25%      1591.000000\n",
       "50%      1741.000000\n",
       "75%      1977.000000\n",
       "max      4356.000000\n",
       "Name: capital-loss, dtype: float64"
      ]
     },
     "execution_count": 119,
     "metadata": {},
     "output_type": "execute_result"
    }
   ],
   "source": [
    "# vizualizácia capital-loss len tých, ktoré sú nenulové\n",
    "sample = data['capital-loss'].loc[(data['capital-loss'] > 0)]\n",
    "sample.describe()"
   ]
  },
  {
   "cell_type": "code",
   "execution_count": 120,
   "metadata": {},
   "outputs": [
    {
     "data": {
      "text/plain": [
       "<matplotlib.axes._subplots.AxesSubplot at 0x1a1d9421d0>"
      ]
     },
     "execution_count": 120,
     "metadata": {},
     "output_type": "execute_result"
    },
    {
     "data": {
      "image/png": "[encoded data removed]",
      "text/plain": [
       "<matplotlib.figure.Figure at 0x1a1e9846d8>"
      ]
     },
     "metadata": {},
     "output_type": "display_data"
    }
   ],
   "source": [
    "sample.plot(kind='hist')"
   ]
  },
  {
   "cell_type": "markdown",
   "metadata": {},
   "source": [
    "**POZOROVANIE:** Priemerná hodnota capital-loss bez ohľadu na pacientov s nulovým capital-loss je 1788.21. "
   ]
  },
  {
   "cell_type": "markdown",
   "metadata": {},
   "source": [
    "**KOREKCIA:** atribúty capital-loss a capital-gain majú rozdielne dátové typy, capital-loss je **int** a capital-gain je **float**. Pre budúce výpočty možno bude lepšie zjednotiť ich dátový typ."
   ]
  },
  {
   "cell_type": "markdown",
   "metadata": {},
   "source": [
    "### Atribút - capital-gain"
   ]
  },
  {
   "cell_type": "markdown",
   "metadata": {},
   "source": [
    "*POZNÁMKA - * je to presný opak capital-loss. Väčšina pacientov má hodnotu pre atribút nulovú. V klasifikácií navrhujeme použiť hodnoty, ktoré sú väčšie ako nula.\n",
    "\n",
    " "
   ]
  },
  {
   "cell_type": "code",
   "execution_count": 530,
   "metadata": {},
   "outputs": [
    {
     "data": {
      "text/plain": [
       "count      169.000000\n",
       "mean     13149.195266\n",
       "std      23581.612264\n",
       "min        594.000000\n",
       "25%       3137.000000\n",
       "50%       6497.000000\n",
       "75%      10520.000000\n",
       "max      99999.000000\n",
       "Name: capital-gain, dtype: float64"
      ]
     },
     "execution_count": 530,
     "metadata": {},
     "output_type": "execute_result"
    }
   ],
   "source": [
    "# vizualizácia capital-loss len tých, ktoré sú nenulové\n",
    "sample = data[(data['capital-gain'] > 0)]\n",
    "sample['capital-gain'].describe()"
   ]
  },
  {
   "cell_type": "code",
   "execution_count": 531,
   "metadata": {},
   "outputs": [
    {
     "data": {
      "text/plain": [
       "<matplotlib.axes._subplots.AxesSubplot at 0x1a2d7bbeb8>"
      ]
     },
     "execution_count": 531,
     "metadata": {},
     "output_type": "execute_result"
    },
    {
     "data": {
      "image/png": "[encoded data removed]",
      "text/plain": [
       "<matplotlib.figure.Figure at 0x1a2d6a6208>"
      ]
     },
     "metadata": {},
     "output_type": "display_data"
    }
   ],
   "source": [
    "sample['capital-gain'].plot(kind='hist', bins=100)"
   ]
  },
  {
   "cell_type": "markdown",
   "metadata": {},
   "source": [
    "**POZOROVANIE:** Priemerná hodnota capital-gain bez ohľadu na pacientov s nulovým capital-loss je 13149.19.Tento atribút budeme považovať za **spojitý (kvantitatívny) pomerový atribút. **"
   ]
  },
  {
   "cell_type": "markdown",
   "metadata": {},
   "source": [
    "# Otázky doktorov"
   ]
  },
  {
   "cell_type": "markdown",
   "metadata": {},
   "source": [
    "### Atribút - query on thyroxine"
   ]
  },
  {
   "cell_type": "code",
   "execution_count": 532,
   "metadata": {},
   "outputs": [
    {
     "data": {
      "text/plain": [
       "f    2760\n",
       "t      40\n",
       "Name: query on thyroxine, dtype: int64"
      ]
     },
     "execution_count": 532,
     "metadata": {},
     "output_type": "execute_result"
    }
   ],
   "source": [
    "# Výpis prvých 5 záznamov pre daný atribút\n",
    "data['query on thyroxine'].value_counts()"
   ]
  },
  {
   "cell_type": "markdown",
   "metadata": {},
   "source": [
    "**POZOROVANIE:** Niesme si istý co predstavuje tento atribút.  Myslíme si, že tento atribút nám hovorí o tom, čí sa daný pacient sťažoval liek obsahujúci hormón tyroxín alebo sa naňho len pýtal. Poprípade sa doktor pýtal pacienta, či sa už s daným slovom v minulosti stretol. Existujú len dva stavy. Buď sa pacient sťažoval liek alebo nesťažoval. Preto budeme tento atribút považovat za **kategorický binárny atribút**, ktorý v sebe bude niesť hodnoty [true = sťažoval sa/vypytoval, false = nesťažoval/nevypytoval]."
   ]
  },
  {
   "cell_type": "markdown",
   "metadata": {},
   "source": [
    "**KOREKCIA:** Prekonvertujeme si formát dát na boolean hodnoty"
   ]
  },
  {
   "cell_type": "code",
   "execution_count": 121,
   "metadata": {
    "scrolled": true
   },
   "outputs": [
    {
     "data": {
      "text/plain": [
       "False    2760\n",
       "True       40\n",
       "Name: _query_on_thyroxine, dtype: int64"
      ]
     },
     "execution_count": 121,
     "metadata": {},
     "output_type": "execute_result"
    }
   ],
   "source": [
    "# Mapovanie True a False na hodnoty podľa toho ake si zvolíme\n",
    "clean_data['_query_on_thyroxine'] = data['query on thyroxine'].map({'t': True, 'f': False})\n",
    "clean_data['_query_on_thyroxine'].value_counts()"
   ]
  },
  {
   "cell_type": "markdown",
   "metadata": {},
   "source": [
    "### Atribút - query hypothyroid"
   ]
  },
  {
   "cell_type": "markdown",
   "metadata": {},
   "source": [
    "*POZNÁMKA - *Hypotyreóza - je to endokrinné ochorenie človeka a zvierat, charakterizované zníženou funkciou štítnej žlazy, resp. nedostatočnou produkciou hormónov štítnej žlazy. V dôsledku nedostatku tyroxínu sú narušené všetky metabolické deje, na ktorých sa hormóny štítnej žlazy podielajú. "
   ]
  },
  {
   "cell_type": "code",
   "execution_count": 122,
   "metadata": {},
   "outputs": [
    {
     "data": {
      "text/plain": [
       "id\n",
       "0    f\n",
       "1    f\n",
       "2    f\n",
       "3    f\n",
       "4    f\n",
       "Name: query hypothyroid, dtype: object"
      ]
     },
     "execution_count": 122,
     "metadata": {},
     "output_type": "execute_result"
    }
   ],
   "source": [
    "data['query hypothyroid'].head()"
   ]
  },
  {
   "cell_type": "code",
   "execution_count": 123,
   "metadata": {},
   "outputs": [
    {
     "data": {
      "text/plain": [
       "f    2637\n",
       "t     163\n",
       "Name: query hypothyroid, dtype: int64"
      ]
     },
     "execution_count": 123,
     "metadata": {},
     "output_type": "execute_result"
    }
   ],
   "source": [
    "data['query hypothyroid'].value_counts()"
   ]
  },
  {
   "cell_type": "markdown",
   "metadata": {},
   "source": [
    "**POZOROVANIE:** Niesme si istý významom tohto atribútu ale bude to podobne ako v prípade atribútu **query_on_thyroxin**. Atribút budeme považovat za **kategorický binárny atribút**."
   ]
  },
  {
   "cell_type": "markdown",
   "metadata": {},
   "source": [
    "**KOREKCIA:** musíme si tento atribút previesť na True a False hodnoty (t - True, f - False)."
   ]
  },
  {
   "cell_type": "code",
   "execution_count": 125,
   "metadata": {},
   "outputs": [
    {
     "data": {
      "text/plain": [
       "False    2637\n",
       "True      163\n",
       "Name: _query_hypothyroid, dtype: int64"
      ]
     },
     "execution_count": 125,
     "metadata": {},
     "output_type": "execute_result"
    }
   ],
   "source": [
    "# Mapovanie True a False na hodnoty podľa toho ake si zvolíme\n",
    "column = '_query_hypothyroid'\n",
    "clean_data[column] = data['query hypothyroid'].replace({'t': True, 'f': False})\n",
    "clean_data[column].value_counts()"
   ]
  },
  {
   "cell_type": "markdown",
   "metadata": {},
   "source": [
    "### Atribút - query hyperthyroid"
   ]
  },
  {
   "cell_type": "markdown",
   "metadata": {},
   "source": [
    "*POZNÁMKA - *Hypertyreóza alebo tyreotoxikóza je klinický syndróm spôsobený nadmerným produkovaním hormónov štítnej žľazy, tyroxínu (T4) alebo trijódtyronínu (T3) alebo oboch. Všeobecne dochádza k zvýšeniu metabolických pochodov. je vlastne opakom hypotyreózy. Postihuje len 2% populácie."
   ]
  },
  {
   "cell_type": "code",
   "execution_count": 126,
   "metadata": {},
   "outputs": [
    {
     "data": {
      "text/plain": [
       "id\n",
       "0    f\n",
       "1    f\n",
       "2    f\n",
       "3    f\n",
       "4    f\n",
       "Name: query hyperthyroid, dtype: object"
      ]
     },
     "execution_count": 126,
     "metadata": {},
     "output_type": "execute_result"
    }
   ],
   "source": [
    "data['query hyperthyroid'].head()"
   ]
  },
  {
   "cell_type": "code",
   "execution_count": 127,
   "metadata": {},
   "outputs": [
    {
     "data": {
      "text/plain": [
       "f    2627\n",
       "t     173\n",
       "Name: query hyperthyroid, dtype: int64"
      ]
     },
     "execution_count": 127,
     "metadata": {},
     "output_type": "execute_result"
    }
   ],
   "source": [
    "data['query hyperthyroid'].value_counts()"
   ]
  },
  {
   "cell_type": "markdown",
   "metadata": {},
   "source": [
    "**POZOROVANIE:** Niesme si istý významom tohto atribútu ale bude to podobne ako v prípade atribútu **query_on_thyroxin**. Atribút budeme považovat za **kategorický binárny atribút**."
   ]
  },
  {
   "cell_type": "markdown",
   "metadata": {},
   "source": [
    "**KOREKCIA:** musíme si tento atribút previesť na True a False hodnoty (t - True, f - False)."
   ]
  },
  {
   "cell_type": "code",
   "execution_count": 128,
   "metadata": {},
   "outputs": [
    {
     "data": {
      "text/plain": [
       "False    2627\n",
       "True      173\n",
       "Name: _query_hyperthyroid, dtype: int64"
      ]
     },
     "execution_count": 128,
     "metadata": {},
     "output_type": "execute_result"
    }
   ],
   "source": [
    "# Mapovanie True a False na hodnoty podľa toho ake si zvolíme\n",
    "column = '_query_hyperthyroid'\n",
    "data[column] = data['query hyperthyroid'].replace({'t': True, 'f': False})\n",
    "data[column].value_counts()"
   ]
  },
  {
   "cell_type": "markdown",
   "metadata": {},
   "source": [
    "## Prehľad atribútov\n",
    "### Spojité atribúty (Kvantitatívne)\n",
    "#### Intervalové\n",
    "age, date_of_birth, hours-per-week, education_num <br/>\n",
    "#### Pomerové\n",
    "TSH, T3, TT4, T4U, FTI, fnlwgt, capital-gain, capitital-loss <br/>\n",
    "### Kategorické atribúty\n",
    "#### Nominálne atribúty (hint. kategórie, stavy, mená, lable, tagy)\n",
    "referral source - <br/>\n",
    "class - <br/>\n",
    "personal_info - <br/>\n",
    "##### Binárne atribúty (hint. kategórie, stavy, mená, lable, tagy)\n",
    "*Symetrické*<br/>\n",
    "sex [M,F] - M = muž, F = žena<br/>\n",
    "on thyroxine [f, t] - f = false, t = true  <br/>\n",
    "sick [f, t] - f = false, t = true<br/>\n",
    "pregnant [f, t] - f = false, t = true<br/>\n",
    "thyroid surgery [f, t] - f = false, t = true<br/>\n",
    "I131 treatment [f, t] - f = false, t = true<br/>\n",
    "on antithyroid medication [f, t] - f = false, t = true<br/>\n",
    "query hypothyroid [f, t] - f = false, t = true<br/>\n",
    "lithium [f, t] - f = false, t = true<br/>\n",
    "goitre [f, t] - f = false, t = true<br/>\n",
    "tumor [f, t] - f = false, t = true<br/>\n",
    "hypopituitary [f, t] - f = false, t = true<br/>\n",
    "psych [f, t] - f = false, t = true<br/>\n",
    "TSH measured [t, f] - f = false, t = true<br/>\n",
    "T3 measured [t, f] - f = false, t = true<br/>\n",
    "TT4 measured [t, f] - f = false, t = true<br/>\n",
    "T4U measured [f, t] - f = false, t = true<br/>\n",
    "FTI measured [f, t] - f = false, t = true<br/>\n",
    "TBG measured [f, t] - f = false, t = true<br/>\n",
    "#### Ordinálne\n",
    "education [] - <br/>"
   ]
  },
  {
   "cell_type": "markdown",
   "metadata": {},
   "source": [
    "# Analýza atribútov po pároch (Bivariate analysis)\n",
    "V tejto časti sú vysvetlené a zobrazené vlastnosti atribútov, ktoré spolu môžu súvisieť."
   ]
  },
  {
   "cell_type": "markdown",
   "metadata": {},
   "source": [
    "### Atribúty - date_of_birth a age"
   ]
  },
  {
   "cell_type": "code",
   "execution_count": 138,
   "metadata": {
    "scrolled": true
   },
   "outputs": [
    {
     "data": {
      "text/plain": [
       "<matplotlib.axes._subplots.AxesSubplot at 0x1a1e6aa7f0>"
      ]
     },
     "execution_count": 138,
     "metadata": {},
     "output_type": "execute_result"
    },
    {
     "data": {
      "image/png": "[encoded data removed]",
      "text/plain": [
       "<matplotlib.figure.Figure at 0x1a1f12f358>"
      ]
     },
     "metadata": {},
     "output_type": "display_data"
    }
   ],
   "source": [
    "column = '_date_of_birth'\n",
    "# nastavíme si index na dátum narodenia\n",
    "clean_data['_age'] = data['age']\n",
    "sample = clean_data.set_index([column])\n",
    "# vykreslíme si vek s dátumami\n",
    "sample.loc[(sample['_age'].notna()),'_age'].plot(kind='line')"
   ]
  },
  {
   "cell_type": "markdown",
   "metadata": {},
   "source": [
    "**POZOROVANIE:** Z vykresleného môžeme usúdiť, že dataset bol vytvorený **okolo roku 2017**. Všetky dátumy narodenia vyššie ako 2017 môžeme považovať za zlé a tiež môžeme vidieť, že nejaké datumy narodenia nesedia s vekom. Niektore zlé hodnoty je možné prekonvertovať spôsobom: **2057 -> 1957**. Ak má pacient aspoň jeden atribút vyplnení, tak približne mu vieme vyplniť iný atribút"
   ]
  },
  {
   "cell_type": "markdown",
   "metadata": {},
   "source": [
    "### Atribúty - sex, pregnant, relationship, parents_definition"
   ]
  },
  {
   "cell_type": "code",
   "execution_count": 139,
   "metadata": {
    "scrolled": true
   },
   "outputs": [
    {
     "data": {
      "text/plain": [
       "<matplotlib.axes._subplots.AxesSubplot at 0x1a1f8424e0>"
      ]
     },
     "execution_count": 139,
     "metadata": {},
     "output_type": "execute_result"
    },
    {
     "data": {
      "image/png": "[encoded data removed]",
      "text/plain": [
       "<matplotlib.figure.Figure at 0x1a1f2b46a0>"
      ]
     },
     "metadata": {},
     "output_type": "display_data"
    }
   ],
   "source": [
    "pd.crosstab(index=data['pregnant'], columns=data['sex']).plot.bar(stacked=True)"
   ]
  },
  {
   "cell_type": "markdown",
   "metadata": {},
   "source": [
    "**POZOROVANIE:** Na tomto grafe vidíme, tehotenstvo v porovnaní s pohlavím. Vidíme, že tehotenstvo majú len pacienti s pohlavím F (Female). V opačnom prípade by sa jednalo o chybu a museli by sme to upraviť. Ďalej vidíme, že ani jeden pacient s nedefinovaným pohlavím nemá tehotenstvo, a ak by mal, tak by sme s istotou mohli povedať, že tento pacient je žena. "
   ]
  },
  {
   "cell_type": "code",
   "execution_count": 543,
   "metadata": {},
   "outputs": [
    {
     "data": {
      "text/plain": [
       "<matplotlib.axes._subplots.AxesSubplot at 0x1a22f79160>"
      ]
     },
     "execution_count": 543,
     "metadata": {},
     "output_type": "execute_result"
    },
    {
     "data": {
      "image/png": "[encoded data removed]",
      "text/plain": [
       "<matplotlib.figure.Figure at 0x1a2cbd9320>"
      ]
     },
     "metadata": {},
     "output_type": "display_data"
    }
   ],
   "source": [
    "pd.crosstab(index=data['relationship'], columns=data['sex']).plot.bar(stacked=True)"
   ]
  },
  {
   "cell_type": "markdown",
   "metadata": {},
   "source": [
    "**POZOROVANIE:** Na tomto grafe môžeme vidieť, že existujú pacienti, ktorí nemajú definované pohlavie, ale relationship atribút majú nastavený na Husband. V tomto prípade môžeme tvrdiť, že daný pacienti sú mužského pohlavia. Rovnaký princíp vieme uplatniť aj pri Wife hodnote v **relationship** atribúte."
   ]
  },
  {
   "cell_type": "markdown",
   "metadata": {},
   "source": [
    "### Atribúty - TSH, TSH measured a ostatné vyšetrenia a výsledky"
   ]
  },
  {
   "cell_type": "code",
   "execution_count": 145,
   "metadata": {},
   "outputs": [
    {
     "data": {
      "text/plain": [
       "count    0.0\n",
       "mean     NaN\n",
       "std      NaN\n",
       "min      NaN\n",
       "25%      NaN\n",
       "50%      NaN\n",
       "75%      NaN\n",
       "max      NaN\n",
       "Name: TSH, dtype: float64"
      ]
     },
     "execution_count": 145,
     "metadata": {},
     "output_type": "execute_result"
    }
   ],
   "source": [
    "data.loc[data['TSH measured'] == 'f', 'TSH'].describe()"
   ]
  },
  {
   "cell_type": "markdown",
   "metadata": {},
   "source": [
    "**POZOROVANIE:** Na základe pozorovania usudzujeme, že neexistujú hodnoty pre atribút **TSH** v prípade ak atribút **TSH measured** je hodnota 'f'. Toto pravidlo platí aj pre všetky ostatné atribúty spojené s **vyšetreniami a ich výsledkami**"
   ]
  },
  {
   "cell_type": "code",
   "execution_count": 561,
   "metadata": {},
   "outputs": [],
   "source": [
    "#df_num = data.select_dtypes(include = ['float64', 'int64'])\n",
    "#df_num.head()\n",
    "#df_num = df_num.dropna()\n",
    "#seaborn.pairplot(df_num)"
   ]
  },
  {
   "cell_type": "code",
   "execution_count": 184,
   "metadata": {},
   "outputs": [
    {
     "data": {
      "text/plain": [
       "<seaborn.axisgrid.PairGrid at 0x1a23f37828>"
      ]
     },
     "execution_count": 184,
     "metadata": {},
     "output_type": "execute_result"
    },
    {
     "data": {
      "image/png": "[encoded data removed]",
      "text/plain": [
       "<matplotlib.figure.Figure at 0x1a20debcf8>"
      ]
     },
     "metadata": {},
     "output_type": "display_data"
    }
   ],
   "source": [
    "sample = data.dropna()\n",
    "#seaborn.pairplot(sample.loc[:,['TSH', 'T4U', 'T3', 'TT4', 'unknown1']])\n",
    "dataFrame = data.loc[:,['TSH', 'T4U', 'T3', 'TT4']]\n",
    "dataFrame['FTI'] = pd.to_numeric(data['FTI'], errors='coerce')\n",
    "\n",
    "column1_name = 'class'\n",
    "pom = pd.DataFrame(data[\"class\"].str.split('\\.\\|').tolist(), columns = [column1_name, 'nepotrebny'])\n",
    "\n",
    "dataFrame['class'] = pom['class']\n",
    "dataFrame = dataFrame.dropna()\n",
    "\n",
    "\n",
    "seaborn.pairplot(dataFrame[dataFrame['class'] != 'negative'], dropna=True, hue='class')\n"
   ]
  },
  {
   "cell_type": "markdown",
   "metadata": {},
   "source": [
    "**POZOROVANIE:** Po odfiltrovaní výsledkov meraní, ktoré boli negatívne môžeme pozorovať, že existujú vzťahy medzi jednotlivými hormonmi.V budúcnosti pravdepodobne metódou k-means budeme pozorovať vznik vzhlukov a hlbšou analýzou možno nájdeme využitie týchto vzťahov na predikciu."
   ]
  },
  {
   "cell_type": "code",
   "execution_count": 147,
   "metadata": {},
   "outputs": [],
   "source": [
    "#fig, ax = plt.subplots(figsize=(10,8))\n",
    "#seaborn.heatmap(sample.loc[:,['TSH', 'T4U', 'T3', 'TT4', ]].corr(), ax=ax, annot=True, fmt=\".3f\")"
   ]
  },
  {
   "cell_type": "markdown",
   "metadata": {},
   "source": [
    "### Atribúty - education, education-num a age"
   ]
  },
  {
   "cell_type": "code",
   "execution_count": 186,
   "metadata": {},
   "outputs": [
    {
     "data": {
      "text/html": [
       "<div>\n",
       "<style scoped>\n",
       "    .dataframe tbody tr th:only-of-type {\n",
       "        vertical-align: middle;\n",
       "    }\n",
       "\n",
       "    .dataframe tbody tr th {\n",
       "        vertical-align: top;\n",
       "    }\n",
       "\n",
       "    .dataframe thead th {\n",
       "        text-align: right;\n",
       "    }\n",
       "</style>\n",
       "<table border=\"1\" class=\"dataframe\">\n",
       "  <thead>\n",
       "    <tr style=\"text-align: right;\">\n",
       "      <th></th>\n",
       "      <th></th>\n",
       "      <th>0</th>\n",
       "    </tr>\n",
       "    <tr>\n",
       "      <th>education</th>\n",
       "      <th>education-num</th>\n",
       "      <th></th>\n",
       "    </tr>\n",
       "  </thead>\n",
       "  <tbody>\n",
       "    <tr>\n",
       "      <th rowspan=\"3\" valign=\"top\">10th</th>\n",
       "      <th>-600</th>\n",
       "      <td>2</td>\n",
       "    </tr>\n",
       "    <tr>\n",
       "      <th>6</th>\n",
       "      <td>73</td>\n",
       "    </tr>\n",
       "    <tr>\n",
       "      <th>600</th>\n",
       "      <td>4</td>\n",
       "    </tr>\n",
       "    <tr>\n",
       "      <th rowspan=\"3\" valign=\"top\">11th</th>\n",
       "      <th>-700</th>\n",
       "      <td>1</td>\n",
       "    </tr>\n",
       "    <tr>\n",
       "      <th>7</th>\n",
       "      <td>94</td>\n",
       "    </tr>\n",
       "    <tr>\n",
       "      <th>700</th>\n",
       "      <td>2</td>\n",
       "    </tr>\n",
       "    <tr>\n",
       "      <th rowspan=\"3\" valign=\"top\">12th</th>\n",
       "      <th>-800</th>\n",
       "      <td>1</td>\n",
       "    </tr>\n",
       "    <tr>\n",
       "      <th>8</th>\n",
       "      <td>51</td>\n",
       "    </tr>\n",
       "    <tr>\n",
       "      <th>800</th>\n",
       "      <td>2</td>\n",
       "    </tr>\n",
       "    <tr>\n",
       "      <th>1st-4th</th>\n",
       "      <th>2</th>\n",
       "      <td>17</td>\n",
       "    </tr>\n",
       "    <tr>\n",
       "      <th rowspan=\"2\" valign=\"top\">5th-6th</th>\n",
       "      <th>-300</th>\n",
       "      <td>2</td>\n",
       "    </tr>\n",
       "    <tr>\n",
       "      <th>3</th>\n",
       "      <td>22</td>\n",
       "    </tr>\n",
       "    <tr>\n",
       "      <th rowspan=\"3\" valign=\"top\">7th-8th</th>\n",
       "      <th>-400</th>\n",
       "      <td>3</td>\n",
       "    </tr>\n",
       "    <tr>\n",
       "      <th>4</th>\n",
       "      <td>41</td>\n",
       "    </tr>\n",
       "    <tr>\n",
       "      <th>400</th>\n",
       "      <td>1</td>\n",
       "    </tr>\n",
       "    <tr>\n",
       "      <th rowspan=\"3\" valign=\"top\">9th</th>\n",
       "      <th>-500</th>\n",
       "      <td>2</td>\n",
       "    </tr>\n",
       "    <tr>\n",
       "      <th>5</th>\n",
       "      <td>38</td>\n",
       "    </tr>\n",
       "    <tr>\n",
       "      <th>500</th>\n",
       "      <td>1</td>\n",
       "    </tr>\n",
       "    <tr>\n",
       "      <th rowspan=\"3\" valign=\"top\">Assoc-acdm</th>\n",
       "      <th>-1200</th>\n",
       "      <td>4</td>\n",
       "    </tr>\n",
       "    <tr>\n",
       "      <th>12</th>\n",
       "      <td>93</td>\n",
       "    </tr>\n",
       "    <tr>\n",
       "      <th>1200</th>\n",
       "      <td>6</td>\n",
       "    </tr>\n",
       "    <tr>\n",
       "      <th rowspan=\"3\" valign=\"top\">Assoc-voc</th>\n",
       "      <th>-1100</th>\n",
       "      <td>7</td>\n",
       "    </tr>\n",
       "    <tr>\n",
       "      <th>11</th>\n",
       "      <td>118</td>\n",
       "    </tr>\n",
       "    <tr>\n",
       "      <th>1100</th>\n",
       "      <td>5</td>\n",
       "    </tr>\n",
       "    <tr>\n",
       "      <th rowspan=\"3\" valign=\"top\">Bachelors</th>\n",
       "      <th>-1300</th>\n",
       "      <td>20</td>\n",
       "    </tr>\n",
       "    <tr>\n",
       "      <th>13</th>\n",
       "      <td>395</td>\n",
       "    </tr>\n",
       "    <tr>\n",
       "      <th>1300</th>\n",
       "      <td>22</td>\n",
       "    </tr>\n",
       "    <tr>\n",
       "      <th rowspan=\"3\" valign=\"top\">Doctorate</th>\n",
       "      <th>-1600</th>\n",
       "      <td>1</td>\n",
       "    </tr>\n",
       "    <tr>\n",
       "      <th>16</th>\n",
       "      <td>23</td>\n",
       "    </tr>\n",
       "    <tr>\n",
       "      <th>1600</th>\n",
       "      <td>1</td>\n",
       "    </tr>\n",
       "    <tr>\n",
       "      <th rowspan=\"3\" valign=\"top\">HS-grad</th>\n",
       "      <th>-900</th>\n",
       "      <td>50</td>\n",
       "    </tr>\n",
       "    <tr>\n",
       "      <th>9</th>\n",
       "      <td>794</td>\n",
       "    </tr>\n",
       "    <tr>\n",
       "      <th>900</th>\n",
       "      <td>50</td>\n",
       "    </tr>\n",
       "    <tr>\n",
       "      <th rowspan=\"3\" valign=\"top\">Masters</th>\n",
       "      <th>-1400</th>\n",
       "      <td>10</td>\n",
       "    </tr>\n",
       "    <tr>\n",
       "      <th>14</th>\n",
       "      <td>122</td>\n",
       "    </tr>\n",
       "    <tr>\n",
       "      <th>1400</th>\n",
       "      <td>6</td>\n",
       "    </tr>\n",
       "    <tr>\n",
       "      <th>Preschool</th>\n",
       "      <th>1</th>\n",
       "      <td>4</td>\n",
       "    </tr>\n",
       "    <tr>\n",
       "      <th rowspan=\"3\" valign=\"top\">Prof-school</th>\n",
       "      <th>-1500</th>\n",
       "      <td>2</td>\n",
       "    </tr>\n",
       "    <tr>\n",
       "      <th>15</th>\n",
       "      <td>39</td>\n",
       "    </tr>\n",
       "    <tr>\n",
       "      <th>1500</th>\n",
       "      <td>1</td>\n",
       "    </tr>\n",
       "    <tr>\n",
       "      <th rowspan=\"3\" valign=\"top\">Some-college</th>\n",
       "      <th>-1000</th>\n",
       "      <td>35</td>\n",
       "    </tr>\n",
       "    <tr>\n",
       "      <th>10</th>\n",
       "      <td>596</td>\n",
       "    </tr>\n",
       "    <tr>\n",
       "      <th>1000</th>\n",
       "      <td>39</td>\n",
       "    </tr>\n",
       "  </tbody>\n",
       "</table>\n",
       "</div>"
      ],
      "text/plain": [
       "                               0\n",
       "education     education-num     \n",
       " 10th         -600             2\n",
       "               6              73\n",
       "               600             4\n",
       " 11th         -700             1\n",
       "               7              94\n",
       "               700             2\n",
       " 12th         -800             1\n",
       "               8              51\n",
       "               800             2\n",
       " 1st-4th       2              17\n",
       " 5th-6th      -300             2\n",
       "               3              22\n",
       " 7th-8th      -400             3\n",
       "               4              41\n",
       "               400             1\n",
       " 9th          -500             2\n",
       "               5              38\n",
       "               500             1\n",
       " Assoc-acdm   -1200            4\n",
       "               12             93\n",
       "               1200            6\n",
       " Assoc-voc    -1100            7\n",
       "               11            118\n",
       "               1100            5\n",
       " Bachelors    -1300           20\n",
       "               13            395\n",
       "               1300           22\n",
       " Doctorate    -1600            1\n",
       "               16             23\n",
       "               1600            1\n",
       " HS-grad      -900            50\n",
       "               9             794\n",
       "               900            50\n",
       " Masters      -1400           10\n",
       "               14            122\n",
       "               1400            6\n",
       " Preschool     1               4\n",
       " Prof-school  -1500            2\n",
       "               15             39\n",
       "               1500            1\n",
       " Some-college -1000           35\n",
       "               10            596\n",
       "               1000           39"
      ]
     },
     "execution_count": 186,
     "metadata": {},
     "output_type": "execute_result"
    }
   ],
   "source": [
    "# pozrieme sa na stĺpce education a education-num\n",
    "sample = data.groupby(['education', 'education-num']).size().reset_index()\n",
    "sample = sample.set_index(['education', 'education-num'])\n",
    "sample"
   ]
  },
  {
   "cell_type": "markdown",
   "metadata": {},
   "source": [
    "**POZOROVANIE:** Môžeme vidieť, že pacienti s rovnakou hodnotou atribútu  **eduaction** majú rôzne hodnoty pre atribút **education-num**. Rozne hodnoty sa líšia len v znamienku a v tom, že sú **100-krát väčšie** ako najmenšia hodnota. "
   ]
  },
  {
   "cell_type": "markdown",
   "metadata": {},
   "source": [
    "**KOREKCIA:** Navrhujeme previes všetky hodnoty na kladné čísla a následne všetky **hodnoty väčšie ako 100 vydeliť 100**"
   ]
  },
  {
   "cell_type": "code",
   "execution_count": 187,
   "metadata": {},
   "outputs": [
    {
     "data": {
      "text/plain": [
       "9.0     894\n",
       "10.0    670\n",
       "13.0    437\n",
       "14.0    138\n",
       "11.0    130\n",
       "12.0    103\n",
       "7.0      97\n",
       "6.0      79\n",
       "8.0      54\n",
       "4.0      45\n",
       "15.0     42\n",
       "5.0      41\n",
       "16.0     25\n",
       "3.0      24\n",
       "2.0      17\n",
       "1.0       4\n",
       "Name: _education_num, dtype: int64"
      ]
     },
     "execution_count": 187,
     "metadata": {},
     "output_type": "execute_result"
    }
   ],
   "source": [
    "new_column = '_education_num'\n",
    "#data['education-num']\n",
    "data[new_column] = pd.to_numeric(data['education-num'], errors='coerce')\n",
    "data[new_column] = data['education-num'].apply(lambda x: abs(x)/100 if abs(x) > 100 else x)\n",
    "data[new_column].value_counts()"
   ]
  },
  {
   "cell_type": "code",
   "execution_count": 188,
   "metadata": {},
   "outputs": [
    {
     "data": {
      "text/plain": [
       "<matplotlib.axes._subplots.AxesSubplot at 0x1a20d840b8>"
      ]
     },
     "execution_count": 188,
     "metadata": {},
     "output_type": "execute_result"
    },
    {
     "data": {
      "image/png": "[encoded data removed]",
      "text/plain": [
       "<matplotlib.figure.Figure at 0x1a20c614a8>"
      ]
     },
     "metadata": {},
     "output_type": "display_data"
    }
   ],
   "source": [
    "pd.crosstab(index=data['education'], columns=data['_education_num']).plot.bar(stacked=True)"
   ]
  },
  {
   "cell_type": "markdown",
   "metadata": {},
   "source": [
    "**POZOROVANIE:** Z uvedeného grafu vieme pozriet vzťahy medzi atribútmi **education** a **_education_num**"
   ]
  },
  {
   "cell_type": "markdown",
   "metadata": {},
   "source": [
    "# Odpovede na otázky"
   ]
  },
  {
   "cell_type": "markdown",
   "metadata": {},
   "source": [
    "## Majú dáta vhodný tvar pre ďalšie spracovanie? Ak nie, aké problémy sa v nich vyskytujú? "
   ]
  },
  {
   "cell_type": "markdown",
   "metadata": {},
   "source": [
    "Tieto dáta určite nemajú vhodný tvar pre ďalšie spracovanie. Vyskytuje sa v nich množstvo rôznych problémov, ako napríklad nekonzistenté hodnoty, chýbajúce hodnoty, veľmi odchýlené hodnoty, viacero stĺpcov spojených do jedného a pod. Niektoré hodnoty sa nemôžu zhodovať s realitou, pretože ich vylučujú hodnoty iných atribútov. Ako príklad si uvedieme atribúty **age** a **date_of_birth** kde sa dátum narodenia a vek v niektorých prípadoch nezhoduje. Atribút **education-num** obsahuje výrazné zašumenie. "
   ]
  },
  {
   "cell_type": "markdown",
   "metadata": {},
   "source": [
    "### Nekonzistentné hodnoty"
   ]
  },
  {
   "cell_type": "markdown",
   "metadata": {},
   "source": [
    "Takéto hodnoty sme našli vo viacerých atribútov, no najlepší príklad je atribút **date_of_birth**. V tomto stĺpci sa vyskytuje veľké množstvo rozdielnych formátov, ako môžeme reprezentovať dátum. Líšia sa hlavne v oddelovačoch, niektoré hodnoty majú aj informáciu o hodinovom čase. Medzi ďalšie atribúty, kde sme zaznamenali nekonzistentnosť dát patria atribúty, ktoré obsahujú len true a false hodnoty rôzne reprezentované **(on thyroxine, query_on_thyroxine, pregnant, measured atribúty ...)**."
   ]
  },
  {
   "cell_type": "markdown",
   "metadata": {},
   "source": [
    "### Chýbajúce hodnoty"
   ]
  },
  {
   "cell_type": "markdown",
   "metadata": {},
   "source": [
    "Chýbajúce hodnoty, alebo nedefinované hodnoty sme našli napríklad v atribúte **sex**, kde boli nedefinované hodnoty znázornené ako **\"?\"**. Zaznamenali sme ich takisto aj v atribúte capital-gain (null), TSH(null), T4U (null), T3 (null), date_of_birth (nan), TBG (?) ... Atribút **TBG** je vlastne atribút plný chýbajúcich hodnôt. "
   ]
  },
  {
   "cell_type": "markdown",
   "metadata": {},
   "source": [
    "### Veľmi odchýlené hodnoty"
   ]
  },
  {
   "cell_type": "markdown",
   "metadata": {},
   "source": [
    "Najlepším príkladom, kde sme našli odchýlené hodnoty je atribút **age**, kde jeden pacient má 455 rokov. S prihliadnutím na to, že najstarší človek na svete má (mal) okolo 145 rokov môžeme povedať, že dožiť sa veku 455 rokov nie je možné a táto hodnota je nesprávna. "
   ]
  },
  {
   "cell_type": "markdown",
   "metadata": {},
   "source": [
    "### Viacero stĺpcov spojených do jedného"
   ]
  },
  {
   "cell_type": "markdown",
   "metadata": {},
   "source": [
    "Pri niektorých atribútov sme zistili, že je možné ich rozdeliť do viacerých stĺpcov. Sú to atribúty **personal_info** a **class**."
   ]
  },
  {
   "cell_type": "markdown",
   "metadata": {},
   "source": [
    "## Sú v dátach chýbajúce hodnoty? Ako sú reprezentované? Ako plánujete riešiť problém chýbajúcich hodnôt pre jednotlivé atribúty, resp. pozorovania? (Pre rôzne atribúty môže byť vhodné použiť rôzne stratégie.)"
   ]
  },
  {
   "cell_type": "markdown",
   "metadata": {},
   "source": [
    "Chýbajúce hodnoty sa vyskytujú vo viacerých atribútoch. Reprezentované sú hodnotami napríklad **?**, **null**, **nan** a pod. Pri niektorých atribútoch je vhodné použiť ako náhradu priemer zo všetkých hodnôt alebo nahradenie najčastejšie sa vyskytovanou hodnotou. Niektoré chýbajúceho hodnoty je možné doplniť aj pomocou súvisejúcich atribútov, napríklad chýbajúce hodnoty v atribúte **sex** vieme doplniť podľa atribútu **relationship**, kde niektoré hodnoty môžu nadobúdať len pacienti ženského alebo mužského pohlavia. "
   ]
  },
  {
   "cell_type": "markdown",
   "metadata": {},
   "source": [
    "## Nadobúdajú niektoré atribúty nezmyselné (nekonzistentné) či inak výrazne odchýlené hodnoty? Ktoré?"
   ]
  },
  {
   "cell_type": "markdown",
   "metadata": {},
   "source": [
    "Nekonzistentné hodnoty nadobúdajú napríklad atribúty od **on thyroxine** po **TBG measured**, atribúty **class, education-num, date_of_birth, personal_info**."
   ]
  },
  {
   "cell_type": "markdown",
   "metadata": {},
   "source": [
    "## Ako plánujete v ďalšej fáze tieto identifikované problémy adresovať/riešiť? "
   ]
  },
  {
   "cell_type": "markdown",
   "metadata": {},
   "source": [
    "Zašumené dáta v atribúte **education-num** by sme vedeli vyriešiť pomocou techniky plnenia - rozdelíme si hodnoty do skupín podľa atribútu **education** a hodnoty zmeníme podľa najfrekventovanejšej. Riešenia sú popísané pri analýze jednotlivých atribútov."
   ]
  }
 ],
 "metadata": {
  "kernelspec": {
   "display_name": "Python 3",
   "language": "python",
   "name": "python3"
  },
  "language_info": {
   "codemirror_mode": {
    "name": "ipython",
    "version": 3
   },
   "file_extension": ".py",
   "mimetype": "text/x-python",
   "name": "python",
   "nbconvert_exporter": "python",
   "pygments_lexer": "ipython3",
   "version": "3.6.4"
  }
 },
 "nbformat": 4,
 "nbformat_minor": 2
}
