{
 "cells": [
  {
   "cell_type": "markdown",
   "metadata": {},
   "source": [
    "# Obsah\n",
    "\n",
    "> ## Úvod\n",
    "\n",
    "> ## Knižnice\n",
    "\n",
    "> ## Dataset\n",
    "\n",
    "> ## Chýbajúce hodnoty\n",
    "\n",
    ">> ### Zjednotenie formátov dát\n",
    "\n",
    ">> ### Odvodenie chýbajúcich hodnôt po riadkoch\n",
    "\n",
    ">> ### Doplnenie chýbajúcich hodnôt po stĺpcoch\n",
    "\n",
    "> ## Vychýlené hodnoty\n",
    "\n",
    "> ## Normalizácia údajov\n",
    "\n",
    "> ## Transformácia numerických atribútov na kategorické\n",
    "\n",
    "> ## Transformacia kategorických údajov na numerické\n",
    "\n",
    "> ## Vytváranie atribútov kombinovanim\n",
    "\n",
    "> ## Zdroje"
   ]
  },
  {
   "cell_type": "markdown",
   "metadata": {},
   "source": [
    "## Doležité parametre\n",
    "DecisionTreeClassifier(\n",
    "criterion\n",
    "\n",
    "max_depth=None\n",
    "\n",
    "min_samples_leaf - počet pozorovani vo vyslednej podmnozine\n",
    "\n",
    "class_weight=None"
   ]
  },
  {
   "cell_type": "markdown",
   "metadata": {},
   "source": [
    "# Úvod\n",
    "Na základe identifikovaných problémov v dátach a návrhu ich riešenia v predchádzajúcej fáze treba zrealizovať predspracovanie. Výsledkom by mala byť upravená dátová sada (vo formáte ​csv​) vo vhodnom tvare pre zvolený algoritmus strojového učenia (v našom prípade rozhodovacie stromy​). Zároveň, keďže predspracovaním sa mohol zmeniť tvar a charakteristiky dát (počet atribútov, distribúcie hodnôt a pod.), treba znovu zrealizovať podstatné časti prieskumnej analýzy, pričom v tejto fáze je potrebné zamerať sa aj na vzťahy medzi jednotlivými atribútmi."
   ]
  },
  {
   "cell_type": "markdown",
   "metadata": {},
   "source": [
    "# Knižnice"
   ]
  },
  {
   "cell_type": "code",
   "execution_count": 491,
   "metadata": {},
   "outputs": [],
   "source": [
    "%matplotlib inline\n",
    "import pandas as pd\n",
    "import numpy as np\n",
    "import matplotlib.pyplot as plt\n",
    "import seaborn\n",
    "from sklearn import preprocessing\n",
    "\n",
    "#Nastavenie rozmerov zobrazovaných grafov\n",
    "plt.rcParams['figure.figsize'] = 9, 6\n",
    "from IPython.display import Image"
   ]
  },
  {
   "cell_type": "markdown",
   "metadata": {},
   "source": [
    "# Dataset"
   ]
  },
  {
   "cell_type": "code",
   "execution_count": 492,
   "metadata": {},
   "outputs": [
    {
     "name": "stdout",
     "output_type": "stream",
     "text": [
      "<class 'pandas.core.frame.DataFrame'>\n",
      "Int64Index: 2800 entries, 0 to 2799\n",
      "Data columns (total 39 columns):\n",
      "age                          2799 non-null float64\n",
      "sex                          2800 non-null object\n",
      "on thyroxine                 2800 non-null object\n",
      "query on thyroxine           2800 non-null object\n",
      "on antithyroid medication    2800 non-null object\n",
      "sick                         2800 non-null object\n",
      "pregnant                     2800 non-null object\n",
      "thyroid surgery              2800 non-null object\n",
      "I131 treatment               2800 non-null object\n",
      "query hypothyroid            2800 non-null object\n",
      "query hyperthyroid           2800 non-null object\n",
      "lithium                      2800 non-null object\n",
      "goitre                       2800 non-null object\n",
      "tumor                        2800 non-null object\n",
      "hypopituitary                2800 non-null object\n",
      "psych                        2800 non-null object\n",
      "TSH measured                 2800 non-null object\n",
      "TSH                          2516 non-null float64\n",
      "T3 measured                  2800 non-null object\n",
      "T3                           2215 non-null float64\n",
      "TT4 measured                 2800 non-null object\n",
      "TT4                          2616 non-null float64\n",
      "T4U measured                 2800 non-null object\n",
      "T4U                          2503 non-null float64\n",
      "FTI measured                 2800 non-null object\n",
      "FTI                          2800 non-null object\n",
      "TBG measured                 2800 non-null object\n",
      "TBG                          2800 non-null object\n",
      "referral source              2800 non-null object\n",
      "class                        2800 non-null object\n",
      "fnlwgt                       2800 non-null int64\n",
      "education                    2800 non-null object\n",
      "education-num                2800 non-null int64\n",
      "relationship                 2800 non-null object\n",
      "capital-gain                 2520 non-null float64\n",
      "capital-loss                 2800 non-null int64\n",
      "hours-per-week               2800 non-null int64\n",
      "date_of_birth                2610 non-null object\n",
      "personal_info                2800 non-null object\n",
      "dtypes: float64(6), int64(4), object(29)\n",
      "memory usage: 875.0+ KB\n"
     ]
    }
   ],
   "source": [
    "file_path = \"data/zadanie4/train.csv\"\n",
    "# Načítame si súbor s datasetom so separátom ',' a ako index nastavime prvý stĺpec\n",
    "train_data = pd.read_csv(file_path, sep=',', index_col=0)\n",
    "# Pomenujeme si index\n",
    "train_data.index.name = 'id'\n",
    "train_data.info()"
   ]
  },
  {
   "cell_type": "code",
   "execution_count": 493,
   "metadata": {},
   "outputs": [
    {
     "data": {
      "text/html": [
       "<div>\n",
       "<style scoped>\n",
       "    .dataframe tbody tr th:only-of-type {\n",
       "        vertical-align: middle;\n",
       "    }\n",
       "\n",
       "    .dataframe tbody tr th {\n",
       "        vertical-align: top;\n",
       "    }\n",
       "\n",
       "    .dataframe thead th {\n",
       "        text-align: right;\n",
       "    }\n",
       "</style>\n",
       "<table border=\"1\" class=\"dataframe\">\n",
       "  <thead>\n",
       "    <tr style=\"text-align: right;\">\n",
       "      <th></th>\n",
       "      <th>age</th>\n",
       "      <th>sex</th>\n",
       "      <th>on thyroxine</th>\n",
       "      <th>query on thyroxine</th>\n",
       "      <th>on antithyroid medication</th>\n",
       "      <th>sick</th>\n",
       "      <th>pregnant</th>\n",
       "      <th>thyroid surgery</th>\n",
       "      <th>I131 treatment</th>\n",
       "      <th>query hypothyroid</th>\n",
       "      <th>...</th>\n",
       "      <th>class</th>\n",
       "      <th>fnlwgt</th>\n",
       "      <th>education</th>\n",
       "      <th>education-num</th>\n",
       "      <th>relationship</th>\n",
       "      <th>capital-gain</th>\n",
       "      <th>capital-loss</th>\n",
       "      <th>hours-per-week</th>\n",
       "      <th>date_of_birth</th>\n",
       "      <th>personal_info</th>\n",
       "    </tr>\n",
       "    <tr>\n",
       "      <th>id</th>\n",
       "      <th></th>\n",
       "      <th></th>\n",
       "      <th></th>\n",
       "      <th></th>\n",
       "      <th></th>\n",
       "      <th></th>\n",
       "      <th></th>\n",
       "      <th></th>\n",
       "      <th></th>\n",
       "      <th></th>\n",
       "      <th></th>\n",
       "      <th></th>\n",
       "      <th></th>\n",
       "      <th></th>\n",
       "      <th></th>\n",
       "      <th></th>\n",
       "      <th></th>\n",
       "      <th></th>\n",
       "      <th></th>\n",
       "      <th></th>\n",
       "      <th></th>\n",
       "    </tr>\n",
       "  </thead>\n",
       "  <tbody>\n",
       "    <tr>\n",
       "      <th>0</th>\n",
       "      <td>68</td>\n",
       "      <td>M</td>\n",
       "      <td>f</td>\n",
       "      <td>f</td>\n",
       "      <td>f</td>\n",
       "      <td>f</td>\n",
       "      <td>f</td>\n",
       "      <td>f</td>\n",
       "      <td>f</td>\n",
       "      <td>f</td>\n",
       "      <td>...</td>\n",
       "      <td>negative.|1231</td>\n",
       "      <td>96245</td>\n",
       "      <td>HS-grad</td>\n",
       "      <td>9</td>\n",
       "      <td>Husband</td>\n",
       "      <td>0.0</td>\n",
       "      <td>0</td>\n",
       "      <td>99</td>\n",
       "      <td>1949-07-30</td>\n",
       "      <td>Sales|United-States\\nMarried-civ-spouse -- Sel...</td>\n",
       "    </tr>\n",
       "    <tr>\n",
       "      <th>1</th>\n",
       "      <td>42</td>\n",
       "      <td>F</td>\n",
       "      <td>f</td>\n",
       "      <td>f</td>\n",
       "      <td>f</td>\n",
       "      <td>f</td>\n",
       "      <td>f</td>\n",
       "      <td>f</td>\n",
       "      <td>f</td>\n",
       "      <td>f</td>\n",
       "      <td>...</td>\n",
       "      <td>negative.|329</td>\n",
       "      <td>191177</td>\n",
       "      <td>HS-grad</td>\n",
       "      <td>9</td>\n",
       "      <td>Not-in-family</td>\n",
       "      <td>NaN</td>\n",
       "      <td>0</td>\n",
       "      <td>55</td>\n",
       "      <td>1975-10-31</td>\n",
       "      <td>Exec-managerial|United-States\\nNever-married -...</td>\n",
       "    </tr>\n",
       "    <tr>\n",
       "      <th>2</th>\n",
       "      <td>27</td>\n",
       "      <td>F</td>\n",
       "      <td>f</td>\n",
       "      <td>f</td>\n",
       "      <td>f</td>\n",
       "      <td>f</td>\n",
       "      <td>f</td>\n",
       "      <td>f</td>\n",
       "      <td>f</td>\n",
       "      <td>f</td>\n",
       "      <td>...</td>\n",
       "      <td>negative.|2518</td>\n",
       "      <td>48585</td>\n",
       "      <td>Some-college</td>\n",
       "      <td>1000</td>\n",
       "      <td>Wife</td>\n",
       "      <td>0.0</td>\n",
       "      <td>0</td>\n",
       "      <td>4</td>\n",
       "      <td>1990-10-29 00:00:00</td>\n",
       "      <td>Prof-specialty|United-States\\nMarried-civ-spou...</td>\n",
       "    </tr>\n",
       "    <tr>\n",
       "      <th>3</th>\n",
       "      <td>32</td>\n",
       "      <td>F</td>\n",
       "      <td>FALSE</td>\n",
       "      <td>f</td>\n",
       "      <td>f</td>\n",
       "      <td>f</td>\n",
       "      <td>f</td>\n",
       "      <td>f</td>\n",
       "      <td>f</td>\n",
       "      <td>f</td>\n",
       "      <td>...</td>\n",
       "      <td>negative.|821</td>\n",
       "      <td>251526</td>\n",
       "      <td>Some-college</td>\n",
       "      <td>10</td>\n",
       "      <td>Wife</td>\n",
       "      <td>0.0</td>\n",
       "      <td>0</td>\n",
       "      <td>20</td>\n",
       "      <td>1985-10-28</td>\n",
       "      <td>Tech-support|United-States\\nMarried-civ-spouse...</td>\n",
       "    </tr>\n",
       "    <tr>\n",
       "      <th>4</th>\n",
       "      <td>23</td>\n",
       "      <td>F</td>\n",
       "      <td>f</td>\n",
       "      <td>f</td>\n",
       "      <td>f</td>\n",
       "      <td>f</td>\n",
       "      <td>f</td>\n",
       "      <td>f</td>\n",
       "      <td>f</td>\n",
       "      <td>f</td>\n",
       "      <td>...</td>\n",
       "      <td>negative.|951</td>\n",
       "      <td>175614</td>\n",
       "      <td>10th</td>\n",
       "      <td>6</td>\n",
       "      <td>Unmarried</td>\n",
       "      <td>0.0</td>\n",
       "      <td>0</td>\n",
       "      <td>40</td>\n",
       "      <td>??</td>\n",
       "      <td>Other-service|United-States\\nNever-married -- ...</td>\n",
       "    </tr>\n",
       "  </tbody>\n",
       "</table>\n",
       "<p>5 rows × 39 columns</p>\n",
       "</div>"
      ],
      "text/plain": [
       "    age sex on thyroxine query on thyroxine on antithyroid medication sick  \\\n",
       "id                                                                           \n",
       "0    68   M            f                  f                         f    f   \n",
       "1    42   F            f                  f                         f    f   \n",
       "2    27   F            f                  f                         f    f   \n",
       "3    32   F        FALSE                  f                         f    f   \n",
       "4    23   F            f                  f                         f    f   \n",
       "\n",
       "   pregnant thyroid surgery I131 treatment query hypothyroid  \\\n",
       "id                                                             \n",
       "0         f               f              f                 f   \n",
       "1         f               f              f                 f   \n",
       "2         f               f              f                 f   \n",
       "3         f               f              f                 f   \n",
       "4         f               f              f                 f   \n",
       "\n",
       "                          ...                                   class  fnlwgt  \\\n",
       "id                        ...                                                   \n",
       "0                         ...                          negative.|1231   96245   \n",
       "1                         ...                           negative.|329  191177   \n",
       "2                         ...                          negative.|2518   48585   \n",
       "3                         ...                           negative.|821  251526   \n",
       "4                         ...                           negative.|951  175614   \n",
       "\n",
       "        education education-num    relationship capital-gain capital-loss  \\\n",
       "id                                                                          \n",
       "0         HS-grad             9         Husband          0.0            0   \n",
       "1         HS-grad             9   Not-in-family          NaN            0   \n",
       "2    Some-college          1000            Wife          0.0            0   \n",
       "3    Some-college            10            Wife          0.0            0   \n",
       "4            10th             6       Unmarried          0.0            0   \n",
       "\n",
       "    hours-per-week        date_of_birth  \\\n",
       "id                                        \n",
       "0               99           1949-07-30   \n",
       "1               55           1975-10-31   \n",
       "2                4  1990-10-29 00:00:00   \n",
       "3               20           1985-10-28   \n",
       "4               40                   ??   \n",
       "\n",
       "                                        personal_info  \n",
       "id                                                     \n",
       "0   Sales|United-States\\nMarried-civ-spouse -- Sel...  \n",
       "1   Exec-managerial|United-States\\nNever-married -...  \n",
       "2   Prof-specialty|United-States\\nMarried-civ-spou...  \n",
       "3   Tech-support|United-States\\nMarried-civ-spouse...  \n",
       "4   Other-service|United-States\\nNever-married -- ...  \n",
       "\n",
       "[5 rows x 39 columns]"
      ]
     },
     "execution_count": 493,
     "metadata": {},
     "output_type": "execute_result"
    }
   ],
   "source": [
    "file_path = \"data/zadanie4/test.csv\"\n",
    "# Načítame si súbor s datasetom so separátom ',' a ako index nastavime prvý stĺpec\n",
    "test_data = pd.read_csv(file_path, sep=',', index_col=0)\n",
    "# Pomenujeme si index\n",
    "test_data.index.name = 'id'\n",
    "test_data.head()"
   ]
  },
  {
   "cell_type": "code",
   "execution_count": 494,
   "metadata": {},
   "outputs": [],
   "source": [
    "#Aby sme mohli pracovat \n",
    "data = train_data"
   ]
  },
  {
   "cell_type": "markdown",
   "metadata": {},
   "source": [
    "# Chýbajúce hodnoty"
   ]
  },
  {
   "cell_type": "markdown",
   "metadata": {},
   "source": [
    "### Zjednotenie formátov dát"
   ]
  },
  {
   "cell_type": "markdown",
   "metadata": {},
   "source": [
    "Zmena hodnôt **M -> Male** a **F -> Female**. Takisto zmenilo ja hodnoty **? -> NaN**, ale to nám nevadí. Túto úpravu robíme kvôli tomu, aby sme pri upravovaní hodnôt F, f, T, t ... mohli upraviť tieto hodnoty globálne."
   ]
  },
  {
   "cell_type": "code",
   "execution_count": 495,
   "metadata": {},
   "outputs": [
    {
     "data": {
      "text/plain": [
       "F    1830\n",
       "M     860\n",
       "?     110\n",
       "Name: sex, dtype: int64"
      ]
     },
     "execution_count": 495,
     "metadata": {},
     "output_type": "execute_result"
    }
   ],
   "source": [
    "data['sex'].value_counts()"
   ]
  },
  {
   "cell_type": "code",
   "execution_count": 496,
   "metadata": {},
   "outputs": [],
   "source": [
    "data['sex'].replace(['F', 'M'], ['Female', 'Male'], inplace=True)"
   ]
  },
  {
   "cell_type": "code",
   "execution_count": 497,
   "metadata": {},
   "outputs": [
    {
     "data": {
      "text/plain": [
       "Female    1830\n",
       "Male       860\n",
       "?          110\n",
       "Name: sex, dtype: int64"
      ]
     },
     "execution_count": 497,
     "metadata": {},
     "output_type": "execute_result"
    }
   ],
   "source": [
    "data['sex'].value_counts()"
   ]
  },
  {
   "cell_type": "markdown",
   "metadata": {},
   "source": [
    "Zmena hodnôt **f, F, FALSE -> False** a **t, T, TRUE -> True**"
   ]
  },
  {
   "cell_type": "code",
   "execution_count": 498,
   "metadata": {},
   "outputs": [
    {
     "data": {
      "text/html": [
       "<div>\n",
       "<style scoped>\n",
       "    .dataframe tbody tr th:only-of-type {\n",
       "        vertical-align: middle;\n",
       "    }\n",
       "\n",
       "    .dataframe tbody tr th {\n",
       "        vertical-align: top;\n",
       "    }\n",
       "\n",
       "    .dataframe thead th {\n",
       "        text-align: right;\n",
       "    }\n",
       "</style>\n",
       "<table border=\"1\" class=\"dataframe\">\n",
       "  <thead>\n",
       "    <tr style=\"text-align: right;\">\n",
       "      <th></th>\n",
       "      <th>age</th>\n",
       "      <th>sex</th>\n",
       "      <th>on thyroxine</th>\n",
       "      <th>query on thyroxine</th>\n",
       "      <th>on antithyroid medication</th>\n",
       "      <th>sick</th>\n",
       "      <th>pregnant</th>\n",
       "      <th>thyroid surgery</th>\n",
       "      <th>I131 treatment</th>\n",
       "      <th>query hypothyroid</th>\n",
       "      <th>...</th>\n",
       "      <th>class</th>\n",
       "      <th>fnlwgt</th>\n",
       "      <th>education</th>\n",
       "      <th>education-num</th>\n",
       "      <th>relationship</th>\n",
       "      <th>capital-gain</th>\n",
       "      <th>capital-loss</th>\n",
       "      <th>hours-per-week</th>\n",
       "      <th>date_of_birth</th>\n",
       "      <th>personal_info</th>\n",
       "    </tr>\n",
       "    <tr>\n",
       "      <th>id</th>\n",
       "      <th></th>\n",
       "      <th></th>\n",
       "      <th></th>\n",
       "      <th></th>\n",
       "      <th></th>\n",
       "      <th></th>\n",
       "      <th></th>\n",
       "      <th></th>\n",
       "      <th></th>\n",
       "      <th></th>\n",
       "      <th></th>\n",
       "      <th></th>\n",
       "      <th></th>\n",
       "      <th></th>\n",
       "      <th></th>\n",
       "      <th></th>\n",
       "      <th></th>\n",
       "      <th></th>\n",
       "      <th></th>\n",
       "      <th></th>\n",
       "      <th></th>\n",
       "    </tr>\n",
       "  </thead>\n",
       "  <tbody>\n",
       "    <tr>\n",
       "      <th>0</th>\n",
       "      <td>72.0</td>\n",
       "      <td>Female</td>\n",
       "      <td>True</td>\n",
       "      <td>False</td>\n",
       "      <td>False</td>\n",
       "      <td>False</td>\n",
       "      <td>False</td>\n",
       "      <td>False</td>\n",
       "      <td>False</td>\n",
       "      <td>False</td>\n",
       "      <td>...</td>\n",
       "      <td>replacement therapy.|3560</td>\n",
       "      <td>140581</td>\n",
       "      <td>Some-college</td>\n",
       "      <td>1000</td>\n",
       "      <td>Unmarried</td>\n",
       "      <td>0.0</td>\n",
       "      <td>0</td>\n",
       "      <td>40</td>\n",
       "      <td>1946-02-03</td>\n",
       "      <td>Other-service|United-States\\nWidowed -- privat...</td>\n",
       "    </tr>\n",
       "    <tr>\n",
       "      <th>1</th>\n",
       "      <td>52.0</td>\n",
       "      <td>Female</td>\n",
       "      <td>False</td>\n",
       "      <td>False</td>\n",
       "      <td>False</td>\n",
       "      <td>False</td>\n",
       "      <td>False</td>\n",
       "      <td>False</td>\n",
       "      <td>False</td>\n",
       "      <td>False</td>\n",
       "      <td>...</td>\n",
       "      <td>negative.|311</td>\n",
       "      <td>180916</td>\n",
       "      <td>Some-college</td>\n",
       "      <td>10</td>\n",
       "      <td>Unmarried</td>\n",
       "      <td>0.0</td>\n",
       "      <td>0</td>\n",
       "      <td>38</td>\n",
       "      <td>1965-08-27</td>\n",
       "      <td>Adm-clerical|United-States\\nSeparated -- Local...</td>\n",
       "    </tr>\n",
       "    <tr>\n",
       "      <th>2</th>\n",
       "      <td>62.0</td>\n",
       "      <td>Male</td>\n",
       "      <td>False</td>\n",
       "      <td>False</td>\n",
       "      <td>False</td>\n",
       "      <td>False</td>\n",
       "      <td>False</td>\n",
       "      <td>False</td>\n",
       "      <td>False</td>\n",
       "      <td>False</td>\n",
       "      <td>...</td>\n",
       "      <td>negative.|3705</td>\n",
       "      <td>235853</td>\n",
       "      <td>HS-grad</td>\n",
       "      <td>-900</td>\n",
       "      <td>Husband</td>\n",
       "      <td>0.0</td>\n",
       "      <td>0</td>\n",
       "      <td>45</td>\n",
       "      <td>1955-04-15</td>\n",
       "      <td>Sales|United-States\\nMarried-civ-spouse -- pri...</td>\n",
       "    </tr>\n",
       "    <tr>\n",
       "      <th>3</th>\n",
       "      <td>23.0</td>\n",
       "      <td>Female</td>\n",
       "      <td>False</td>\n",
       "      <td>False</td>\n",
       "      <td>False</td>\n",
       "      <td>False</td>\n",
       "      <td>False</td>\n",
       "      <td>False</td>\n",
       "      <td>False</td>\n",
       "      <td>False</td>\n",
       "      <td>...</td>\n",
       "      <td>negative.|2668</td>\n",
       "      <td>121889</td>\n",
       "      <td>Some-college</td>\n",
       "      <td>10</td>\n",
       "      <td>Own-child</td>\n",
       "      <td>0.0</td>\n",
       "      <td>0</td>\n",
       "      <td>20</td>\n",
       "      <td>1994-03-26</td>\n",
       "      <td>Sales|United-States\\nNever-married -- Private|...</td>\n",
       "    </tr>\n",
       "    <tr>\n",
       "      <th>4</th>\n",
       "      <td>63.0</td>\n",
       "      <td>Female</td>\n",
       "      <td>True</td>\n",
       "      <td>False</td>\n",
       "      <td>False</td>\n",
       "      <td>False</td>\n",
       "      <td>False</td>\n",
       "      <td>False</td>\n",
       "      <td>False</td>\n",
       "      <td>False</td>\n",
       "      <td>...</td>\n",
       "      <td>replacement therapy.|1668</td>\n",
       "      <td>222490</td>\n",
       "      <td>Assoc-voc</td>\n",
       "      <td>11</td>\n",
       "      <td>Own_child</td>\n",
       "      <td>0.0</td>\n",
       "      <td>0</td>\n",
       "      <td>40</td>\n",
       "      <td>1955-01-21</td>\n",
       "      <td>Adm-clerical|United-States\\nNever-married -- P...</td>\n",
       "    </tr>\n",
       "  </tbody>\n",
       "</table>\n",
       "<p>5 rows × 39 columns</p>\n",
       "</div>"
      ],
      "text/plain": [
       "     age     sex  on thyroxine  query on thyroxine  on antithyroid medication  \\\n",
       "id                                                                              \n",
       "0   72.0  Female          True               False                      False   \n",
       "1   52.0  Female         False               False                      False   \n",
       "2   62.0    Male         False               False                      False   \n",
       "3   23.0  Female         False               False                      False   \n",
       "4   63.0  Female          True               False                      False   \n",
       "\n",
       "     sick  pregnant  thyroid surgery  I131 treatment  query hypothyroid  \\\n",
       "id                                                                        \n",
       "0   False     False            False           False              False   \n",
       "1   False     False            False           False              False   \n",
       "2   False     False            False           False              False   \n",
       "3   False     False            False           False              False   \n",
       "4   False     False            False           False              False   \n",
       "\n",
       "                          ...                          \\\n",
       "id                        ...                           \n",
       "0                         ...                           \n",
       "1                         ...                           \n",
       "2                         ...                           \n",
       "3                         ...                           \n",
       "4                         ...                           \n",
       "\n",
       "                        class  fnlwgt      education  education-num  \\\n",
       "id                                                                    \n",
       "0   replacement therapy.|3560  140581   Some-college           1000   \n",
       "1               negative.|311  180916   Some-college             10   \n",
       "2              negative.|3705  235853        HS-grad           -900   \n",
       "3              negative.|2668  121889   Some-college             10   \n",
       "4   replacement therapy.|1668  222490      Assoc-voc             11   \n",
       "\n",
       "    relationship  capital-gain  capital-loss  hours-per-week  date_of_birth  \\\n",
       "id                                                                            \n",
       "0      Unmarried           0.0             0              40     1946-02-03   \n",
       "1      Unmarried           0.0             0              38     1965-08-27   \n",
       "2        Husband           0.0             0              45     1955-04-15   \n",
       "3      Own-child           0.0             0              20     1994-03-26   \n",
       "4      Own_child           0.0             0              40     1955-01-21   \n",
       "\n",
       "                                        personal_info  \n",
       "id                                                     \n",
       "0   Other-service|United-States\\nWidowed -- privat...  \n",
       "1   Adm-clerical|United-States\\nSeparated -- Local...  \n",
       "2   Sales|United-States\\nMarried-civ-spouse -- pri...  \n",
       "3   Sales|United-States\\nNever-married -- Private|...  \n",
       "4   Adm-clerical|United-States\\nNever-married -- P...  \n",
       "\n",
       "[5 rows x 39 columns]"
      ]
     },
     "execution_count": 498,
     "metadata": {},
     "output_type": "execute_result"
    }
   ],
   "source": [
    "data.replace(['f', 'F', 'FALSE', 't', 'T', 'TRUE'], [False, False, False, True, True, True], inplace=True)\n",
    "data.head()"
   ]
  },
  {
   "cell_type": "markdown",
   "metadata": {},
   "source": [
    "Ujednotenie názvov v stĺpci **relationship**. \n",
    "Own-child -> Own_child\n",
    "Not-in-family -> Not_in_family\n",
    "Other-relative -> Other_relative"
   ]
  },
  {
   "cell_type": "code",
   "execution_count": 499,
   "metadata": {},
   "outputs": [
    {
     "data": {
      "text/plain": [
       " Not-in-family     809\n",
       " Husband           550\n",
       " Unmarried         510\n",
       " Own-child         441\n",
       " Wife              253\n",
       " Not_in_family      95\n",
       " Other-relative     80\n",
       " Own_child          53\n",
       " Other_relative      9\n",
       "Name: relationship, dtype: int64"
      ]
     },
     "execution_count": 499,
     "metadata": {},
     "output_type": "execute_result"
    }
   ],
   "source": [
    "data['relationship'].value_counts()"
   ]
  },
  {
   "cell_type": "code",
   "execution_count": 500,
   "metadata": {},
   "outputs": [],
   "source": [
    "data['relationship'] = data['relationship'].apply(str.strip)\n",
    "\n",
    "'''data['relationship'] = data['relationship'].map({\n",
    "    'Own-child': 'Own_child', \n",
    "    'Not-in-family': 'Not_in_family', \n",
    "    'Other-relative': 'Other_relative',\n",
    "    'Unmarried': 'Unmarried',\n",
    "    'Wife': 'Wife',\n",
    "    'Husband': 'Husband'\n",
    "})'''\n",
    "\n",
    "data['relationship'].replace(['Own-child', 'Not-in-family', 'Other-relative'], ['Own_child', 'Not_in_family', 'Other_relative'], inplace=True)"
   ]
  },
  {
   "cell_type": "code",
   "execution_count": 501,
   "metadata": {},
   "outputs": [
    {
     "data": {
      "text/plain": [
       "Not_in_family     904\n",
       "Husband           550\n",
       "Unmarried         510\n",
       "Own_child         494\n",
       "Wife              253\n",
       "Other_relative     89\n",
       "Name: relationship, dtype: int64"
      ]
     },
     "execution_count": 501,
     "metadata": {},
     "output_type": "execute_result"
    }
   ],
   "source": [
    "data['relationship'].value_counts()"
   ]
  },
  {
   "cell_type": "markdown",
   "metadata": {},
   "source": [
    "Ujednotenie formátu atribútu **date_of_birth**"
   ]
  },
  {
   "cell_type": "code",
   "execution_count": 502,
   "metadata": {},
   "outputs": [
    {
     "data": {
      "text/plain": [
       "id\n",
       "0              1946-02-03\n",
       "1              1965-08-27\n",
       "2              1955-04-15\n",
       "3              1994-03-26\n",
       "4              1955-01-21\n",
       "5              1961-12-10\n",
       "6              1934-03-03\n",
       "7              1949-07-21\n",
       "8              1999-01-06\n",
       "9              1945-11-10\n",
       "10             1999-09-20\n",
       "11                    NaN\n",
       "12                    NaN\n",
       "13             1970-09-28\n",
       "14             1942-08-15\n",
       "15             07/07/1973\n",
       "16             1979-12-04\n",
       "17             18/01/1940\n",
       "18             15/10/1952\n",
       "19             1981-07-19\n",
       "20             1940-05-20\n",
       "21             1957-04-28\n",
       "22             1998-03-25\n",
       "23             1935-11-23\n",
       "24             1948-08-21\n",
       "25             24/01/1942\n",
       "26             1987-07-21\n",
       "27    1983-09-21 00 00 00\n",
       "28    1953-06-10 00:00:00\n",
       "29             1935-08-10\n",
       "Name: date_of_birth, dtype: object"
      ]
     },
     "execution_count": 502,
     "metadata": {},
     "output_type": "execute_result"
    }
   ],
   "source": [
    "data['date_of_birth'].head(30)"
   ]
  },
  {
   "cell_type": "code",
   "execution_count": 503,
   "metadata": {},
   "outputs": [],
   "source": [
    "data['date_of_birth'] = pd.to_datetime(data['date_of_birth'], errors='coerce')"
   ]
  },
  {
   "cell_type": "code",
   "execution_count": 504,
   "metadata": {},
   "outputs": [
    {
     "data": {
      "text/plain": [
       "id\n",
       "0    1946-02-03\n",
       "1    1965-08-27\n",
       "2    1955-04-15\n",
       "3    1994-03-26\n",
       "4    1955-01-21\n",
       "5    1961-12-10\n",
       "6    1934-03-03\n",
       "7    1949-07-21\n",
       "8    1999-01-06\n",
       "9    1945-11-10\n",
       "10   1999-09-20\n",
       "11          NaT\n",
       "12          NaT\n",
       "13   1970-09-28\n",
       "14   1942-08-15\n",
       "15   1973-07-07\n",
       "16   1979-12-04\n",
       "17   1940-01-18\n",
       "18   1952-10-15\n",
       "19   1981-07-19\n",
       "20   1940-05-20\n",
       "21   1957-04-28\n",
       "22   1998-03-25\n",
       "23   1935-11-23\n",
       "24   1948-08-21\n",
       "25   1942-01-24\n",
       "26   1987-07-21\n",
       "27          NaT\n",
       "28   1953-06-10\n",
       "29   1935-08-10\n",
       "Name: date_of_birth, dtype: datetime64[ns]"
      ]
     },
     "execution_count": 504,
     "metadata": {},
     "output_type": "execute_result"
    }
   ],
   "source": [
    "data['date_of_birth'].head(30)"
   ]
  },
  {
   "cell_type": "markdown",
   "metadata": {},
   "source": [
    "Vidíme, že riadky, kde bolo **00 00 00** nám zmenilo na NaT. To znamená že v tomto riadku sa nachádza hodnota, ktorá sa nedala sparsovať. "
   ]
  },
  {
   "cell_type": "markdown",
   "metadata": {},
   "source": [
    "Rozdelenie stĺpca **personal_info** do viacerých stĺpcov"
   ]
  },
  {
   "cell_type": "code",
   "execution_count": 505,
   "metadata": {},
   "outputs": [],
   "source": [
    "df_personal_data = pd.DataFrame(data['personal_info'].str.replace('\\n','|').str.replace('--','|').str.split('|', expand=False).tolist(), columns=['job','state', 'parents_definition', 'segment', 'race'])"
   ]
  },
  {
   "cell_type": "markdown",
   "metadata": {},
   "source": [
    "Atribút je teraz rozdelený do viacerých stĺpcov **job, state, parents_definition, segment, race**, ale je potrebné v nich urobiť nejaké úpravy. "
   ]
  },
  {
   "cell_type": "code",
   "execution_count": 506,
   "metadata": {},
   "outputs": [
    {
     "data": {
      "text/html": [
       "<div>\n",
       "<style scoped>\n",
       "    .dataframe tbody tr th:only-of-type {\n",
       "        vertical-align: middle;\n",
       "    }\n",
       "\n",
       "    .dataframe tbody tr th {\n",
       "        vertical-align: top;\n",
       "    }\n",
       "\n",
       "    .dataframe thead th {\n",
       "        text-align: right;\n",
       "    }\n",
       "</style>\n",
       "<table border=\"1\" class=\"dataframe\">\n",
       "  <thead>\n",
       "    <tr style=\"text-align: right;\">\n",
       "      <th></th>\n",
       "      <th>job</th>\n",
       "      <th>state</th>\n",
       "      <th>parents_definition</th>\n",
       "      <th>segment</th>\n",
       "      <th>race</th>\n",
       "    </tr>\n",
       "  </thead>\n",
       "  <tbody>\n",
       "    <tr>\n",
       "      <th>0</th>\n",
       "      <td>Other-service</td>\n",
       "      <td>United-States</td>\n",
       "      <td>Widowed</td>\n",
       "      <td>private</td>\n",
       "      <td>Black</td>\n",
       "    </tr>\n",
       "    <tr>\n",
       "      <th>1</th>\n",
       "      <td>Adm-clerical</td>\n",
       "      <td>United-States</td>\n",
       "      <td>Separated</td>\n",
       "      <td>Local-gov</td>\n",
       "      <td>White</td>\n",
       "    </tr>\n",
       "    <tr>\n",
       "      <th>2</th>\n",
       "      <td>Sales</td>\n",
       "      <td>United-States</td>\n",
       "      <td>Married-civ-spouse</td>\n",
       "      <td>private</td>\n",
       "      <td>White</td>\n",
       "    </tr>\n",
       "    <tr>\n",
       "      <th>3</th>\n",
       "      <td>Sales</td>\n",
       "      <td>United-States</td>\n",
       "      <td>Never-married</td>\n",
       "      <td>Private</td>\n",
       "      <td>Black</td>\n",
       "    </tr>\n",
       "    <tr>\n",
       "      <th>4</th>\n",
       "      <td>Adm-clerical</td>\n",
       "      <td>United-States</td>\n",
       "      <td>Never-married</td>\n",
       "      <td>Private</td>\n",
       "      <td>White</td>\n",
       "    </tr>\n",
       "  </tbody>\n",
       "</table>\n",
       "</div>"
      ],
      "text/plain": [
       "             job          state   parents_definition     segment   race\n",
       "0  Other-service  United-States             Widowed      private  Black\n",
       "1   Adm-clerical  United-States           Separated    Local-gov  White\n",
       "2          Sales  United-States  Married-civ-spouse      private  White\n",
       "3          Sales  United-States       Never-married      Private  Black\n",
       "4   Adm-clerical  United-States       Never-married      Private  White"
      ]
     },
     "execution_count": 506,
     "metadata": {},
     "output_type": "execute_result"
    }
   ],
   "source": [
    "df_personal_data.head()"
   ]
  },
  {
   "cell_type": "code",
   "execution_count": 507,
   "metadata": {},
   "outputs": [
    {
     "data": {
      "text/plain": [
       "Adm-clerical         430\n",
       "Other-service        400\n",
       "Prof-specialty       382\n",
       "Exec-managerial      355\n",
       "Sales                316\n",
       "Craft-repair         202\n",
       "?                    201\n",
       "Machine-op-inspct    160\n",
       "Tech-support          84\n",
       "Transport-moving      74\n",
       "Handlers-cleaners     60\n",
       "Farming-fishing       56\n",
       "Protective-serv       51\n",
       "Priv-house-serv       29\n",
       "Name: job, dtype: int64"
      ]
     },
     "execution_count": 507,
     "metadata": {},
     "output_type": "execute_result"
    }
   ],
   "source": [
    "df_personal_data['job'].value_counts()"
   ]
  },
  {
   "cell_type": "code",
   "execution_count": 508,
   "metadata": {},
   "outputs": [
    {
     "data": {
      "text/html": [
       "<div>\n",
       "<style scoped>\n",
       "    .dataframe tbody tr th:only-of-type {\n",
       "        vertical-align: middle;\n",
       "    }\n",
       "\n",
       "    .dataframe tbody tr th {\n",
       "        vertical-align: top;\n",
       "    }\n",
       "\n",
       "    .dataframe thead th {\n",
       "        text-align: right;\n",
       "    }\n",
       "</style>\n",
       "<table border=\"1\" class=\"dataframe\">\n",
       "  <thead>\n",
       "    <tr style=\"text-align: right;\">\n",
       "      <th></th>\n",
       "      <th>job</th>\n",
       "      <th>state</th>\n",
       "      <th>parents_definition</th>\n",
       "      <th>segment</th>\n",
       "      <th>race</th>\n",
       "    </tr>\n",
       "  </thead>\n",
       "  <tbody>\n",
       "    <tr>\n",
       "      <th>0</th>\n",
       "      <td>Other_service</td>\n",
       "      <td>United_States</td>\n",
       "      <td>Widowed</td>\n",
       "      <td>private</td>\n",
       "      <td>Black</td>\n",
       "    </tr>\n",
       "    <tr>\n",
       "      <th>1</th>\n",
       "      <td>Adm_clerical</td>\n",
       "      <td>United_States</td>\n",
       "      <td>Separated</td>\n",
       "      <td>Local_gov</td>\n",
       "      <td>White</td>\n",
       "    </tr>\n",
       "    <tr>\n",
       "      <th>2</th>\n",
       "      <td>Sales</td>\n",
       "      <td>United_States</td>\n",
       "      <td>Married_civ_spouse</td>\n",
       "      <td>private</td>\n",
       "      <td>White</td>\n",
       "    </tr>\n",
       "    <tr>\n",
       "      <th>3</th>\n",
       "      <td>Sales</td>\n",
       "      <td>United_States</td>\n",
       "      <td>Never_married</td>\n",
       "      <td>Private</td>\n",
       "      <td>Black</td>\n",
       "    </tr>\n",
       "    <tr>\n",
       "      <th>4</th>\n",
       "      <td>Adm_clerical</td>\n",
       "      <td>United_States</td>\n",
       "      <td>Never_married</td>\n",
       "      <td>Private</td>\n",
       "      <td>White</td>\n",
       "    </tr>\n",
       "  </tbody>\n",
       "</table>\n",
       "</div>"
      ],
      "text/plain": [
       "             job          state   parents_definition     segment   race\n",
       "0  Other_service  United_States             Widowed      private  Black\n",
       "1   Adm_clerical  United_States           Separated    Local_gov  White\n",
       "2          Sales  United_States  Married_civ_spouse      private  White\n",
       "3          Sales  United_States       Never_married      Private  Black\n",
       "4   Adm_clerical  United_States       Never_married      Private  White"
      ]
     },
     "execution_count": 508,
     "metadata": {},
     "output_type": "execute_result"
    }
   ],
   "source": [
    "for col in df_personal_data.columns:\n",
    "    df_personal_data[col] = df_personal_data[col].str.replace('-','_')\n",
    "\n",
    "df_personal_data.head()"
   ]
  },
  {
   "cell_type": "markdown",
   "metadata": {},
   "source": [
    "Teraz môžeme vytvorené stĺpce z atribútu **personal_info** pripojiť k celému datasetu a vymazať atribút **personal_info**."
   ]
  },
  {
   "cell_type": "code",
   "execution_count": 509,
   "metadata": {},
   "outputs": [],
   "source": [
    "data = data.drop(['personal_info'], axis=1) # vymazanie atribútu personal_info\n",
    "data = data.join(df_personal_data)          # pridanie nových atribútov do nášho datasetu"
   ]
  },
  {
   "cell_type": "markdown",
   "metadata": {},
   "source": [
    "Rozdelenie atribútu **class** do dvoch nových atribútov."
   ]
  },
  {
   "cell_type": "code",
   "execution_count": 513,
   "metadata": {},
   "outputs": [
    {
     "data": {
      "text/plain": [
       "id\n",
       "0    replacement therapy.|3560\n",
       "1                negative.|311\n",
       "2               negative.|3705\n",
       "3               negative.|2668\n",
       "4    replacement therapy.|1668\n",
       "Name: class, dtype: object"
      ]
     },
     "execution_count": 513,
     "metadata": {},
     "output_type": "execute_result"
    }
   ],
   "source": [
    "data['class'].head()"
   ]
  },
  {
   "cell_type": "code",
   "execution_count": 516,
   "metadata": {},
   "outputs": [
    {
     "data": {
      "text/html": [
       "<div>\n",
       "<style scoped>\n",
       "    .dataframe tbody tr th:only-of-type {\n",
       "        vertical-align: middle;\n",
       "    }\n",
       "\n",
       "    .dataframe tbody tr th {\n",
       "        vertical-align: top;\n",
       "    }\n",
       "\n",
       "    .dataframe thead th {\n",
       "        text-align: right;\n",
       "    }\n",
       "</style>\n",
       "<table border=\"1\" class=\"dataframe\">\n",
       "  <thead>\n",
       "    <tr style=\"text-align: right;\">\n",
       "      <th></th>\n",
       "      <th>unknown_1</th>\n",
       "      <th>unknown_2</th>\n",
       "    </tr>\n",
       "  </thead>\n",
       "  <tbody>\n",
       "    <tr>\n",
       "      <th>0</th>\n",
       "      <td>replacement therapy.</td>\n",
       "      <td>3560</td>\n",
       "    </tr>\n",
       "    <tr>\n",
       "      <th>1</th>\n",
       "      <td>negative.</td>\n",
       "      <td>311</td>\n",
       "    </tr>\n",
       "    <tr>\n",
       "      <th>2</th>\n",
       "      <td>negative.</td>\n",
       "      <td>3705</td>\n",
       "    </tr>\n",
       "    <tr>\n",
       "      <th>3</th>\n",
       "      <td>negative.</td>\n",
       "      <td>2668</td>\n",
       "    </tr>\n",
       "    <tr>\n",
       "      <th>4</th>\n",
       "      <td>replacement therapy.</td>\n",
       "      <td>1668</td>\n",
       "    </tr>\n",
       "  </tbody>\n",
       "</table>\n",
       "</div>"
      ],
      "text/plain": [
       "              unknown_1 unknown_2\n",
       "0  replacement therapy.      3560\n",
       "1             negative.       311\n",
       "2             negative.      3705\n",
       "3             negative.      2668\n",
       "4  replacement therapy.      1668"
      ]
     },
     "execution_count": 516,
     "metadata": {},
     "output_type": "execute_result"
    }
   ],
   "source": [
    "df_class = pd.DataFrame(data['class'].str.replace('\\n','|').str.replace('--','|').str.split('|', expand=False).tolist(), columns=['unknown_1','unknown_2'])\n",
    "df_class.head()"
   ]
  },
  {
   "cell_type": "markdown",
   "metadata": {},
   "source": [
    "Keď už je atribút class rozdelený do dvoch separátnych atribútov, musíme v ních spraviť menšie korekcie - len odstránime bodku z hodnôt atribútu **unknown_1**."
   ]
  },
  {
   "cell_type": "code",
   "execution_count": 522,
   "metadata": {},
   "outputs": [
    {
     "data": {
      "text/plain": [
       "0    replacement therapy.\n",
       "1               negative.\n",
       "2               negative.\n",
       "3               negative.\n",
       "4    replacement therapy.\n",
       "Name: unknown_1, dtype: object"
      ]
     },
     "execution_count": 522,
     "metadata": {},
     "output_type": "execute_result"
    }
   ],
   "source": [
    "df_class['unknown_1'].head()"
   ]
  },
  {
   "cell_type": "code",
   "execution_count": 526,
   "metadata": {},
   "outputs": [],
   "source": [
    "df_class['unknown_1'] = df_class['unknown_1'].str.replace('.','')"
   ]
  },
  {
   "cell_type": "code",
   "execution_count": 527,
   "metadata": {},
   "outputs": [
    {
     "data": {
      "text/plain": [
       "0    replacement therapy\n",
       "1               negative\n",
       "2               negative\n",
       "3               negative\n",
       "4    replacement therapy\n",
       "Name: unknown_1, dtype: object"
      ]
     },
     "execution_count": 527,
     "metadata": {},
     "output_type": "execute_result"
    }
   ],
   "source": [
    "df_class['unknown_1'].head()"
   ]
  },
  {
   "cell_type": "code",
   "execution_count": 528,
   "metadata": {},
   "outputs": [],
   "source": [
    "data = data.drop(['class'], axis=1) # vymazanie atribútu class\n",
    "data = data.join(df_class)          # pridanie nových atribútov do nášho datasetu"
   ]
  },
  {
   "cell_type": "code",
   "execution_count": 529,
   "metadata": {},
   "outputs": [
    {
     "data": {
      "text/html": [
       "<div>\n",
       "<style scoped>\n",
       "    .dataframe tbody tr th:only-of-type {\n",
       "        vertical-align: middle;\n",
       "    }\n",
       "\n",
       "    .dataframe tbody tr th {\n",
       "        vertical-align: top;\n",
       "    }\n",
       "\n",
       "    .dataframe thead th {\n",
       "        text-align: right;\n",
       "    }\n",
       "</style>\n",
       "<table border=\"1\" class=\"dataframe\">\n",
       "  <thead>\n",
       "    <tr style=\"text-align: right;\">\n",
       "      <th></th>\n",
       "      <th>age</th>\n",
       "      <th>sex</th>\n",
       "      <th>on thyroxine</th>\n",
       "      <th>query on thyroxine</th>\n",
       "      <th>on antithyroid medication</th>\n",
       "      <th>sick</th>\n",
       "      <th>pregnant</th>\n",
       "      <th>thyroid surgery</th>\n",
       "      <th>I131 treatment</th>\n",
       "      <th>query hypothyroid</th>\n",
       "      <th>...</th>\n",
       "      <th>capital-loss</th>\n",
       "      <th>hours-per-week</th>\n",
       "      <th>date_of_birth</th>\n",
       "      <th>job</th>\n",
       "      <th>state</th>\n",
       "      <th>parents_definition</th>\n",
       "      <th>segment</th>\n",
       "      <th>race</th>\n",
       "      <th>unknown_1</th>\n",
       "      <th>unknown_2</th>\n",
       "    </tr>\n",
       "    <tr>\n",
       "      <th>id</th>\n",
       "      <th></th>\n",
       "      <th></th>\n",
       "      <th></th>\n",
       "      <th></th>\n",
       "      <th></th>\n",
       "      <th></th>\n",
       "      <th></th>\n",
       "      <th></th>\n",
       "      <th></th>\n",
       "      <th></th>\n",
       "      <th></th>\n",
       "      <th></th>\n",
       "      <th></th>\n",
       "      <th></th>\n",
       "      <th></th>\n",
       "      <th></th>\n",
       "      <th></th>\n",
       "      <th></th>\n",
       "      <th></th>\n",
       "      <th></th>\n",
       "      <th></th>\n",
       "    </tr>\n",
       "  </thead>\n",
       "  <tbody>\n",
       "    <tr>\n",
       "      <th>0</th>\n",
       "      <td>72.0</td>\n",
       "      <td>Female</td>\n",
       "      <td>True</td>\n",
       "      <td>False</td>\n",
       "      <td>False</td>\n",
       "      <td>False</td>\n",
       "      <td>False</td>\n",
       "      <td>False</td>\n",
       "      <td>False</td>\n",
       "      <td>False</td>\n",
       "      <td>...</td>\n",
       "      <td>0</td>\n",
       "      <td>40</td>\n",
       "      <td>1946-02-03</td>\n",
       "      <td>Other_service</td>\n",
       "      <td>United_States</td>\n",
       "      <td>Widowed</td>\n",
       "      <td>private</td>\n",
       "      <td>Black</td>\n",
       "      <td>replacement therapy</td>\n",
       "      <td>3560</td>\n",
       "    </tr>\n",
       "    <tr>\n",
       "      <th>1</th>\n",
       "      <td>52.0</td>\n",
       "      <td>Female</td>\n",
       "      <td>False</td>\n",
       "      <td>False</td>\n",
       "      <td>False</td>\n",
       "      <td>False</td>\n",
       "      <td>False</td>\n",
       "      <td>False</td>\n",
       "      <td>False</td>\n",
       "      <td>False</td>\n",
       "      <td>...</td>\n",
       "      <td>0</td>\n",
       "      <td>38</td>\n",
       "      <td>1965-08-27</td>\n",
       "      <td>Adm_clerical</td>\n",
       "      <td>United_States</td>\n",
       "      <td>Separated</td>\n",
       "      <td>Local_gov</td>\n",
       "      <td>White</td>\n",
       "      <td>negative</td>\n",
       "      <td>311</td>\n",
       "    </tr>\n",
       "    <tr>\n",
       "      <th>2</th>\n",
       "      <td>62.0</td>\n",
       "      <td>Male</td>\n",
       "      <td>False</td>\n",
       "      <td>False</td>\n",
       "      <td>False</td>\n",
       "      <td>False</td>\n",
       "      <td>False</td>\n",
       "      <td>False</td>\n",
       "      <td>False</td>\n",
       "      <td>False</td>\n",
       "      <td>...</td>\n",
       "      <td>0</td>\n",
       "      <td>45</td>\n",
       "      <td>1955-04-15</td>\n",
       "      <td>Sales</td>\n",
       "      <td>United_States</td>\n",
       "      <td>Married_civ_spouse</td>\n",
       "      <td>private</td>\n",
       "      <td>White</td>\n",
       "      <td>negative</td>\n",
       "      <td>3705</td>\n",
       "    </tr>\n",
       "    <tr>\n",
       "      <th>3</th>\n",
       "      <td>23.0</td>\n",
       "      <td>Female</td>\n",
       "      <td>False</td>\n",
       "      <td>False</td>\n",
       "      <td>False</td>\n",
       "      <td>False</td>\n",
       "      <td>False</td>\n",
       "      <td>False</td>\n",
       "      <td>False</td>\n",
       "      <td>False</td>\n",
       "      <td>...</td>\n",
       "      <td>0</td>\n",
       "      <td>20</td>\n",
       "      <td>1994-03-26</td>\n",
       "      <td>Sales</td>\n",
       "      <td>United_States</td>\n",
       "      <td>Never_married</td>\n",
       "      <td>Private</td>\n",
       "      <td>Black</td>\n",
       "      <td>negative</td>\n",
       "      <td>2668</td>\n",
       "    </tr>\n",
       "    <tr>\n",
       "      <th>4</th>\n",
       "      <td>63.0</td>\n",
       "      <td>Female</td>\n",
       "      <td>True</td>\n",
       "      <td>False</td>\n",
       "      <td>False</td>\n",
       "      <td>False</td>\n",
       "      <td>False</td>\n",
       "      <td>False</td>\n",
       "      <td>False</td>\n",
       "      <td>False</td>\n",
       "      <td>...</td>\n",
       "      <td>0</td>\n",
       "      <td>40</td>\n",
       "      <td>1955-01-21</td>\n",
       "      <td>Adm_clerical</td>\n",
       "      <td>United_States</td>\n",
       "      <td>Never_married</td>\n",
       "      <td>Private</td>\n",
       "      <td>White</td>\n",
       "      <td>replacement therapy</td>\n",
       "      <td>1668</td>\n",
       "    </tr>\n",
       "  </tbody>\n",
       "</table>\n",
       "<p>5 rows × 44 columns</p>\n",
       "</div>"
      ],
      "text/plain": [
       "     age     sex  on thyroxine  query on thyroxine  on antithyroid medication  \\\n",
       "id                                                                              \n",
       "0   72.0  Female          True               False                      False   \n",
       "1   52.0  Female         False               False                      False   \n",
       "2   62.0    Male         False               False                      False   \n",
       "3   23.0  Female         False               False                      False   \n",
       "4   63.0  Female          True               False                      False   \n",
       "\n",
       "     sick  pregnant  thyroid surgery  I131 treatment  query hypothyroid  \\\n",
       "id                                                                        \n",
       "0   False     False            False           False              False   \n",
       "1   False     False            False           False              False   \n",
       "2   False     False            False           False              False   \n",
       "3   False     False            False           False              False   \n",
       "4   False     False            False           False              False   \n",
       "\n",
       "      ...      capital-loss  hours-per-week  date_of_birth            job  \\\n",
       "id    ...                                                                   \n",
       "0     ...                 0              40     1946-02-03  Other_service   \n",
       "1     ...                 0              38     1965-08-27   Adm_clerical   \n",
       "2     ...                 0              45     1955-04-15          Sales   \n",
       "3     ...                 0              20     1994-03-26          Sales   \n",
       "4     ...                 0              40     1955-01-21   Adm_clerical   \n",
       "\n",
       "            state   parents_definition     segment   race  \\\n",
       "id                                                          \n",
       "0   United_States             Widowed      private  Black   \n",
       "1   United_States           Separated    Local_gov  White   \n",
       "2   United_States  Married_civ_spouse      private  White   \n",
       "3   United_States       Never_married      Private  Black   \n",
       "4   United_States       Never_married      Private  White   \n",
       "\n",
       "              unknown_1  unknown_2  \n",
       "id                                  \n",
       "0   replacement therapy       3560  \n",
       "1              negative        311  \n",
       "2              negative       3705  \n",
       "3              negative       2668  \n",
       "4   replacement therapy       1668  \n",
       "\n",
       "[5 rows x 44 columns]"
      ]
     },
     "execution_count": 529,
     "metadata": {},
     "output_type": "execute_result"
    }
   ],
   "source": [
    "data.head()"
   ]
  },
  {
   "cell_type": "markdown",
   "metadata": {},
   "source": [
    "### Odvodenie chýbajúcich hodnôt po riadkoch"
   ]
  },
  {
   "cell_type": "markdown",
   "metadata": {},
   "source": [
    "### Doplnenie chýbajúcich hodnôt po stĺpcoch"
   ]
  },
  {
   "cell_type": "markdown",
   "metadata": {},
   "source": [
    "# Vychýlené hodnoty TODO:"
   ]
  },
  {
   "cell_type": "markdown",
   "metadata": {},
   "source": [
    "# Pomocné grafové examples\n",
    "\n",
    "- data.fillna((0: 1, 1:1, 2:1))\n",
    "- data.isnull().sum()\n",
    "- data.dropna(how='all')\n",
    "- data.plot.box()"
   ]
  },
  {
   "cell_type": "code",
   "execution_count": 5,
   "metadata": {},
   "outputs": [
    {
     "data": {
      "text/html": [
       "<div>\n",
       "<style scoped>\n",
       "    .dataframe tbody tr th:only-of-type {\n",
       "        vertical-align: middle;\n",
       "    }\n",
       "\n",
       "    .dataframe tbody tr th {\n",
       "        vertical-align: top;\n",
       "    }\n",
       "\n",
       "    .dataframe thead th {\n",
       "        text-align: right;\n",
       "    }\n",
       "</style>\n",
       "<table border=\"1\" class=\"dataframe\">\n",
       "  <thead>\n",
       "    <tr style=\"text-align: right;\">\n",
       "      <th></th>\n",
       "      <th>B</th>\n",
       "      <th>C</th>\n",
       "      <th>A</th>\n",
       "    </tr>\n",
       "  </thead>\n",
       "  <tbody>\n",
       "    <tr>\n",
       "      <th>0</th>\n",
       "      <td>-0.827785</td>\n",
       "      <td>0.263023</td>\n",
       "      <td>0</td>\n",
       "    </tr>\n",
       "    <tr>\n",
       "      <th>1</th>\n",
       "      <td>-0.684248</td>\n",
       "      <td>1.299199</td>\n",
       "      <td>1</td>\n",
       "    </tr>\n",
       "    <tr>\n",
       "      <th>2</th>\n",
       "      <td>-0.032819</td>\n",
       "      <td>2.383927</td>\n",
       "      <td>2</td>\n",
       "    </tr>\n",
       "    <tr>\n",
       "      <th>3</th>\n",
       "      <td>-0.853502</td>\n",
       "      <td>1.423577</td>\n",
       "      <td>3</td>\n",
       "    </tr>\n",
       "    <tr>\n",
       "      <th>4</th>\n",
       "      <td>-1.883528</td>\n",
       "      <td>1.086924</td>\n",
       "      <td>4</td>\n",
       "    </tr>\n",
       "  </tbody>\n",
       "</table>\n",
       "</div>"
      ],
      "text/plain": [
       "          B         C  A\n",
       "0 -0.827785  0.263023  0\n",
       "1 -0.684248  1.299199  1\n",
       "2 -0.032819  2.383927  2\n",
       "3 -0.853502  1.423577  3\n",
       "4 -1.883528  1.086924  4"
      ]
     },
     "execution_count": 5,
     "metadata": {},
     "output_type": "execute_result"
    }
   ],
   "source": [
    "ts = pd.Series(np.random.randn(1000), index=pd.date_range('1/1/2000', periods=1000))\n",
    "\n",
    "ts = ts.cumsum()\n",
    "    \n",
    "df = pd.DataFrame(np.random.randn(1000, 4), index=ts.index, columns=list('ABCD'))\n",
    "\n",
    "df = df.cumsum()\n",
    "df3 = pd.DataFrame(np.random.randn(1000, 2), columns=['B', 'C']).cumsum()\n",
    "\n",
    "df3['A'] = pd.Series(list(range(len(df))))\n",
    "df3.head()"
   ]
  },
  {
   "cell_type": "code",
   "execution_count": 6,
   "metadata": {},
   "outputs": [
    {
     "data": {
      "text/html": [
       "<div>\n",
       "<style scoped>\n",
       "    .dataframe tbody tr th:only-of-type {\n",
       "        vertical-align: middle;\n",
       "    }\n",
       "\n",
       "    .dataframe tbody tr th {\n",
       "        vertical-align: top;\n",
       "    }\n",
       "\n",
       "    .dataframe thead th {\n",
       "        text-align: right;\n",
       "    }\n",
       "</style>\n",
       "<table border=\"1\" class=\"dataframe\">\n",
       "  <thead>\n",
       "    <tr style=\"text-align: right;\">\n",
       "      <th></th>\n",
       "      <th>A</th>\n",
       "      <th>B</th>\n",
       "      <th>C</th>\n",
       "      <th>D</th>\n",
       "    </tr>\n",
       "  </thead>\n",
       "  <tbody>\n",
       "    <tr>\n",
       "      <th>2000-01-01</th>\n",
       "      <td>0.494469</td>\n",
       "      <td>-0.090924</td>\n",
       "      <td>0.060915</td>\n",
       "      <td>0.093378</td>\n",
       "    </tr>\n",
       "    <tr>\n",
       "      <th>2000-01-02</th>\n",
       "      <td>1.293555</td>\n",
       "      <td>-1.136438</td>\n",
       "      <td>-0.134092</td>\n",
       "      <td>-0.456719</td>\n",
       "    </tr>\n",
       "  </tbody>\n",
       "</table>\n",
       "</div>"
      ],
      "text/plain": [
       "                   A         B         C         D\n",
       "2000-01-01  0.494469 -0.090924  0.060915  0.093378\n",
       "2000-01-02  1.293555 -1.136438 -0.134092 -0.456719"
      ]
     },
     "execution_count": 6,
     "metadata": {},
     "output_type": "execute_result"
    }
   ],
   "source": [
    "df.head(2)#.plot.hist(); plt.axhline(0, color='g')\n"
   ]
  },
  {
   "cell_type": "code",
   "execution_count": 7,
   "metadata": {},
   "outputs": [
    {
     "data": {
      "text/plain": [
       "<matplotlib.axes._subplots.AxesSubplot at 0x10f889f28>"
      ]
     },
     "execution_count": 7,
     "metadata": {},
     "output_type": "execute_result"
    },
    {
     "data": {
      "image/png": "[encoded data removed]",
      "text/plain": [
       "<matplotlib.figure.Figure at 0x10d85d780>"
      ]
     },
     "metadata": {},
     "output_type": "display_data"
    }
   ],
   "source": [
    "data.select_dtypes('int').plot.hist(alpha=0.5)"
   ]
  },
  {
   "cell_type": "code",
   "execution_count": 8,
   "metadata": {},
   "outputs": [
    {
     "data": {
      "text/plain": [
       "<matplotlib.axes._subplots.AxesSubplot at 0x10d85d7b8>"
      ]
     },
     "execution_count": 8,
     "metadata": {},
     "output_type": "execute_result"
    },
    {
     "data": {
      "image/png": "[encoded data removed]",
      "text/plain": [
       "<matplotlib.figure.Figure at 0x1a1e98a358>"
      ]
     },
     "metadata": {},
     "output_type": "display_data"
    }
   ],
   "source": [
    "df2 = pd.DataFrame(np.random.rand(10, 4), columns=['a', 'b', 'c', 'd'])\n",
    "\n",
    "#df2.plot.bar(stacked=True);\n",
    "plt.figure()\n",
    "data['age'].plot.bar()\n"
   ]
  },
  {
   "cell_type": "code",
   "execution_count": 9,
   "metadata": {},
   "outputs": [
    {
     "data": {
      "text/plain": [
       "<matplotlib.axes._subplots.AxesSubplot at 0x1a221ac908>"
      ]
     },
     "execution_count": 9,
     "metadata": {},
     "output_type": "execute_result"
    },
    {
     "data": {
      "text/plain": [
       "<matplotlib.figure.Figure at 0x1a1eb21780>"
      ]
     },
     "metadata": {},
     "output_type": "display_data"
    },
    {
     "data": {
      "image/png": "[encoded data removed]",
      "text/plain": [
       "<matplotlib.figure.Figure at 0x1a221d8978>"
      ]
     },
     "metadata": {},
     "output_type": "display_data"
    }
   ],
   "source": [
    "df4 = pd.DataFrame({'a': np.random.randn(1000) + 1, 'b': np.random.randn(1000),'c': np.random.randn(1000) - 1}, columns=['a', 'b', 'c'])\n",
    "plt.figure();\n",
    "\n",
    "df4.plot.hist(alpha=0.5)"
   ]
  },
  {
   "cell_type": "code",
   "execution_count": 10,
   "metadata": {},
   "outputs": [
    {
     "data": {
      "text/plain": [
       "<matplotlib.axes._subplots.AxesSubplot at 0x1a1f80fef0>"
      ]
     },
     "execution_count": 10,
     "metadata": {},
     "output_type": "execute_result"
    },
    {
     "data": {
      "image/png": "[encoded data removed]",
      "text/plain": [
       "<matplotlib.figure.Figure at 0x1a1e9fc908>"
      ]
     },
     "metadata": {},
     "output_type": "display_data"
    }
   ],
   "source": [
    "df4.plot.hist(alpha=0.5, bins=200)"
   ]
  },
  {
   "cell_type": "code",
   "execution_count": 11,
   "metadata": {},
   "outputs": [
    {
     "data": {
      "text/plain": [
       "2000-01-01    0.494469\n",
       "2000-01-02    1.293555\n",
       "2000-01-03    1.966589\n",
       "2000-01-04    0.788135\n",
       "2000-01-05    0.330452\n",
       "Freq: D, Name: A, dtype: float64"
      ]
     },
     "execution_count": 11,
     "metadata": {},
     "output_type": "execute_result"
    },
    {
     "data": {
      "text/plain": [
       "<matplotlib.figure.Figure at 0x1a1fd61d30>"
      ]
     },
     "metadata": {},
     "output_type": "display_data"
    }
   ],
   "source": [
    "plt.figure()\n",
    "df['A'].head()"
   ]
  },
  {
   "cell_type": "code",
   "execution_count": 12,
   "metadata": {},
   "outputs": [
    {
     "data": {
      "text/plain": [
       "2000-01-01         NaN\n",
       "2000-01-02    0.799086\n",
       "2000-01-03    0.673034\n",
       "2000-01-04   -1.178453\n",
       "2000-01-05   -0.457684\n",
       "Freq: D, Name: A, dtype: float64"
      ]
     },
     "execution_count": 12,
     "metadata": {},
     "output_type": "execute_result"
    }
   ],
   "source": [
    "df['A'].diff().head()"
   ]
  },
  {
   "cell_type": "code",
   "execution_count": 13,
   "metadata": {},
   "outputs": [
    {
     "data": {
      "text/plain": [
       "array([[<matplotlib.axes._subplots.AxesSubplot object at 0x1a21560b38>,\n",
       "        <matplotlib.axes._subplots.AxesSubplot object at 0x1a20f06908>],\n",
       "       [<matplotlib.axes._subplots.AxesSubplot object at 0x1a20da6b00>,\n",
       "        <matplotlib.axes._subplots.AxesSubplot object at 0x1a20d417b8>]],\n",
       "      dtype=object)"
      ]
     },
     "execution_count": 13,
     "metadata": {},
     "output_type": "execute_result"
    },
    {
     "data": {
      "image/png": "[encoded data removed]",
      "text/plain": [
       "<matplotlib.figure.Figure at 0x1a215b4358>"
      ]
     },
     "metadata": {},
     "output_type": "display_data"
    }
   ],
   "source": [
    "df.diff().hist(color='k', alpha=0.5, bins=50)"
   ]
  },
  {
   "cell_type": "code",
   "execution_count": 14,
   "metadata": {},
   "outputs": [
    {
     "data": {
      "text/plain": [
       "<matplotlib.axes._subplots.AxesSubplot at 0x1a20a2b860>"
      ]
     },
     "execution_count": 14,
     "metadata": {},
     "output_type": "execute_result"
    },
    {
     "data": {
      "image/png": "[encoded data removed]",
      "text/plain": [
       "<matplotlib.figure.Figure at 0x1a20c84240>"
      ]
     },
     "metadata": {},
     "output_type": "display_data"
    }
   ],
   "source": [
    "df = pd.DataFrame(np.random.rand(10, 5), columns=['A', 'B', 'C', 'D', 'E'])\n",
    "color = dict(boxes='DarkGreen', whiskers='DarkOrange', medians='DarkBlue', caps='Gray')\n",
    "df.plot.box(color=color, sym='r+', positions=[1, 4, 5, 6, 8])"
   ]
  },
  {
   "cell_type": "code",
   "execution_count": 15,
   "metadata": {},
   "outputs": [
    {
     "data": {
      "text/plain": [
       "<matplotlib.axes._subplots.AxesSubplot at 0x1a20cb71d0>"
      ]
     },
     "execution_count": 15,
     "metadata": {},
     "output_type": "execute_result"
    },
    {
     "data": {
      "image/png": "[encoded data removed]",
      "text/plain": [
       "<matplotlib.figure.Figure at 0x1a1e9ee550>"
      ]
     },
     "metadata": {},
     "output_type": "display_data"
    }
   ],
   "source": [
    "df.boxplot()"
   ]
  },
  {
   "cell_type": "code",
   "execution_count": 16,
   "metadata": {},
   "outputs": [
    {
     "data": {
      "text/html": [
       "<div>\n",
       "<style scoped>\n",
       "    .dataframe tbody tr th:only-of-type {\n",
       "        vertical-align: middle;\n",
       "    }\n",
       "\n",
       "    .dataframe tbody tr th {\n",
       "        vertical-align: top;\n",
       "    }\n",
       "\n",
       "    .dataframe thead th {\n",
       "        text-align: right;\n",
       "    }\n",
       "</style>\n",
       "<table border=\"1\" class=\"dataframe\">\n",
       "  <thead>\n",
       "    <tr style=\"text-align: right;\">\n",
       "      <th></th>\n",
       "      <th>Col1</th>\n",
       "      <th>Col2</th>\n",
       "      <th>X</th>\n",
       "    </tr>\n",
       "  </thead>\n",
       "  <tbody>\n",
       "    <tr>\n",
       "      <th>0</th>\n",
       "      <td>0.387639</td>\n",
       "      <td>0.671481</td>\n",
       "      <td>A</td>\n",
       "    </tr>\n",
       "    <tr>\n",
       "      <th>1</th>\n",
       "      <td>0.062342</td>\n",
       "      <td>0.732109</td>\n",
       "      <td>A</td>\n",
       "    </tr>\n",
       "    <tr>\n",
       "      <th>2</th>\n",
       "      <td>0.200968</td>\n",
       "      <td>0.788282</td>\n",
       "      <td>A</td>\n",
       "    </tr>\n",
       "    <tr>\n",
       "      <th>3</th>\n",
       "      <td>0.698457</td>\n",
       "      <td>0.904472</td>\n",
       "      <td>A</td>\n",
       "    </tr>\n",
       "    <tr>\n",
       "      <th>4</th>\n",
       "      <td>0.175327</td>\n",
       "      <td>0.682591</td>\n",
       "      <td>A</td>\n",
       "    </tr>\n",
       "    <tr>\n",
       "      <th>5</th>\n",
       "      <td>0.039265</td>\n",
       "      <td>0.710539</td>\n",
       "      <td>B</td>\n",
       "    </tr>\n",
       "    <tr>\n",
       "      <th>6</th>\n",
       "      <td>0.229236</td>\n",
       "      <td>0.395627</td>\n",
       "      <td>B</td>\n",
       "    </tr>\n",
       "    <tr>\n",
       "      <th>7</th>\n",
       "      <td>0.017269</td>\n",
       "      <td>0.238105</td>\n",
       "      <td>B</td>\n",
       "    </tr>\n",
       "    <tr>\n",
       "      <th>8</th>\n",
       "      <td>0.497654</td>\n",
       "      <td>0.664592</td>\n",
       "      <td>B</td>\n",
       "    </tr>\n",
       "    <tr>\n",
       "      <th>9</th>\n",
       "      <td>0.467843</td>\n",
       "      <td>0.876673</td>\n",
       "      <td>B</td>\n",
       "    </tr>\n",
       "  </tbody>\n",
       "</table>\n",
       "</div>"
      ],
      "text/plain": [
       "       Col1      Col2  X\n",
       "0  0.387639  0.671481  A\n",
       "1  0.062342  0.732109  A\n",
       "2  0.200968  0.788282  A\n",
       "3  0.698457  0.904472  A\n",
       "4  0.175327  0.682591  A\n",
       "5  0.039265  0.710539  B\n",
       "6  0.229236  0.395627  B\n",
       "7  0.017269  0.238105  B\n",
       "8  0.497654  0.664592  B\n",
       "9  0.467843  0.876673  B"
      ]
     },
     "execution_count": 16,
     "metadata": {},
     "output_type": "execute_result"
    },
    {
     "data": {
      "text/plain": [
       "<matplotlib.figure.Figure at 0x1a20ddbf60>"
      ]
     },
     "metadata": {},
     "output_type": "display_data"
    }
   ],
   "source": [
    "df = pd.DataFrame(np.random.rand(10,2), columns=['Col1', 'Col2'] )\n",
    "\n",
    "df['X'] = pd.Series(['A','A','A','A','A','B','B','B','B','B'])\n",
    "\n",
    "plt.figure();\n",
    "df\n",
    "#bp = df.boxplot(by='X')"
   ]
  },
  {
   "cell_type": "code",
   "execution_count": 17,
   "metadata": {},
   "outputs": [
    {
     "data": {
      "image/png": "[encoded data removed]",
      "text/plain": [
       "<matplotlib.figure.Figure at 0x1a20757630>"
      ]
     },
     "metadata": {},
     "output_type": "display_data"
    }
   ],
   "source": [
    "np.random.seed(1234)\n",
    "df_box = pd.DataFrame(np.random.randn(50, 2))\n",
    "df_box['g'] = np.random.choice(['A', 'B'], size=50)\n",
    "df_box.loc[df_box['g'] == 'B', 1] += 3\n",
    "bp = df_box.boxplot(by='g')"
   ]
  },
  {
   "cell_type": "code",
   "execution_count": 18,
   "metadata": {},
   "outputs": [],
   "source": [
    "df = pd.DataFrame(np.random.rand(50, 4), columns=['a', 'b', 'c', 'd'])"
   ]
  },
  {
   "cell_type": "code",
   "execution_count": 19,
   "metadata": {},
   "outputs": [
    {
     "data": {
      "image/png": "[encoded data removed]",
      "text/plain": [
       "<matplotlib.figure.Figure at 0x1a20503c50>"
      ]
     },
     "metadata": {},
     "output_type": "display_data"
    }
   ],
   "source": [
    "ax = df.plot.scatter(x='a', y='b', color='DarkBlue', label='Group 1');\n",
    "\n",
    "df.plot.scatter(x='c', y='d', color='DarkGreen', label='Group 2', ax=ax);"
   ]
  },
  {
   "cell_type": "code",
   "execution_count": 20,
   "metadata": {},
   "outputs": [
    {
     "data": {
      "image/png": "[encoded data removed]",
      "text/plain": [
       "<matplotlib.figure.Figure at 0x1a203d5358>"
      ]
     },
     "metadata": {},
     "output_type": "display_data"
    }
   ],
   "source": [
    "df.plot.scatter(x='a', y='b', c='c', s=10);"
   ]
  },
  {
   "cell_type": "markdown",
   "metadata": {},
   "source": [
    "# Zdroje\n",
    "Príklady ako pracovať s pandas - https://pandas.pydata.org/pandas-docs/stable/cookbook.html#cookbook-plotting\n",
    "\n",
    "Robenie grafov v pandas - https://pandas.pydata.org/pandas-docs/stable/visualization.html"
   ]
  },
  {
   "cell_type": "code",
   "execution_count": null,
   "metadata": {},
   "outputs": [],
   "source": []
  },
  {
   "cell_type": "code",
   "execution_count": null,
   "metadata": {},
   "outputs": [],
   "source": []
  },
  {
   "cell_type": "code",
   "execution_count": null,
   "metadata": {},
   "outputs": [],
   "source": []
  },
  {
   "cell_type": "code",
   "execution_count": null,
   "metadata": {},
   "outputs": [],
   "source": []
  },
  {
   "cell_type": "code",
   "execution_count": null,
   "metadata": {},
   "outputs": [],
   "source": []
  }
 ],
 "metadata": {
  "kernelspec": {
   "display_name": "Python 3",
   "language": "python",
   "name": "python3"
  },
  "language_info": {
   "codemirror_mode": {
    "name": "ipython",
    "version": 3
   },
   "file_extension": ".py",
   "mimetype": "text/x-python",
   "name": "python",
   "nbconvert_exporter": "python",
   "pygments_lexer": "ipython3",
   "version": "3.6.4"
  }
 },
 "nbformat": 4,
 "nbformat_minor": 2
}
