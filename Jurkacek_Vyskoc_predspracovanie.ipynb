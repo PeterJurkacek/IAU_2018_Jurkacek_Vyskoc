{
 "cells": [
  {
   "cell_type": "markdown",
   "metadata": {},
   "source": [
    "# Obsah\n",
    "\n",
    "> ## Úvod\n",
    "\n",
    "> ## Knižnice\n",
    "\n",
    "> ## Dataset\n",
    "\n",
    "> ## Definovanie pomocných funkcií\n",
    "\n",
    "> ## Chýbajúce hodnoty\n",
    "\n",
    ">> ### Zjednotenie formátov dát\n",
    "\n",
    ">> ### Odvodenie chýbajúcich hodnôt po riadkoch\n",
    "\n",
    ">> ### Doplnenie chýbajúcich hodnôt po stĺpcoch\n",
    "\n",
    "> ## Vychýlené hodnoty\n",
    "\n",
    "> ## Transformacia kategorických údajov na numerické\n",
    "\n",
    "> ## Zdroje"
   ]
  },
  {
   "cell_type": "markdown",
   "metadata": {},
   "source": [
    "## Doležité parametre\n",
    "DecisionTreeClassifier(\n",
    "criterion\n",
    "\n",
    "max_depth=None\n",
    "\n",
    "min_samples_leaf - počet pozorovani vo vyslednej podmnozine\n",
    "\n",
    "class_weight=None"
   ]
  },
  {
   "cell_type": "markdown",
   "metadata": {},
   "source": [
    "# Úvod\n",
    "Na základe identifikovaných problémov v dátach a návrhu ich riešenia v predchádzajúcej fáze treba zrealizovať predspracovanie. Výsledkom by mala byť upravená dátová sada (vo formáte ​csv​) vo vhodnom tvare pre zvolený algoritmus strojového učenia (v našom prípade rozhodovacie stromy​). Zároveň, keďže predspracovaním sa mohol zmeniť tvar a charakteristiky dát (počet atribútov, distribúcie hodnôt a pod.), treba znovu zrealizovať podstatné časti prieskumnej analýzy, pričom v tejto fáze je potrebné zamerať sa aj na vzťahy medzi jednotlivými atribútmi."
   ]
  },
  {
   "cell_type": "markdown",
   "metadata": {},
   "source": [
    "# Knižnice"
   ]
  },
  {
   "cell_type": "code",
   "execution_count": 1,
   "metadata": {},
   "outputs": [
    {
     "name": "stderr",
     "output_type": "stream",
     "text": [
      "/Users/peterjurkacek/anaconda3/lib/python3.6/site-packages/h5py/__init__.py:36: FutureWarning: Conversion of the second argument of issubdtype from `float` to `np.floating` is deprecated. In future, it will be treated as `np.float64 == np.dtype(float).type`.\n",
      "  from ._conv import register_converters as _register_converters\n",
      "Using TensorFlow backend.\n"
     ]
    }
   ],
   "source": [
    "%matplotlib inline\n",
    "import pandas as pd\n",
    "import numpy as np\n",
    "import matplotlib.pyplot as plt\n",
    "import seaborn\n",
    "seaborn.set_style(\"darkgrid\")\n",
    "from sklearn import preprocessing\n",
    "from sklearn import linear_model\n",
    "import datetime as dt\n",
    "\n",
    "from fancyimpute import KNN\n",
    "\n",
    "#regular expression\n",
    "import re\n",
    "\n",
    "#Nastavenie rozmerov zobrazovaných grafov\n",
    "plt.rcParams['figure.figsize'] = 12, 9\n",
    "from IPython.display import Image\n",
    "\n",
    "#Integracia\n",
    "from scipy.stats import boxcox\n",
    "import scipy.stats as stats"
   ]
  },
  {
   "cell_type": "markdown",
   "metadata": {},
   "source": [
    "# Definovanie pomocných funkcií"
   ]
  },
  {
   "cell_type": "code",
   "execution_count": 2,
   "metadata": {},
   "outputs": [],
   "source": [
    "def fixWierdCharsInString(string):\n",
    "    if isinstance(string, float) or isinstance(string, int):\n",
    "        return string\n",
    "    if not isinstance(string, str): \n",
    "        return string\n",
    "    if pd.isna(string) or string == '?' or string == '??':\n",
    "        return np.nan\n",
    "    #ocisti string od bielych znakov a regex: nahrad znaky [ -], za _\n",
    "    return re.sub('[ -]','_', str.strip(string).upper())"
   ]
  },
  {
   "cell_type": "code",
   "execution_count": 3,
   "metadata": {},
   "outputs": [],
   "source": [
    "def init_dataset(file):\n",
    "    # Načítame si súbor s datasetom so separátom ',' a ako index nastavime prvý stĺpec\n",
    "    data = pd.read_csv(file, sep=',', index_col=0)\n",
    "    # Pomenujeme si index\n",
    "    data.index.name = 'ID'\n",
    "    # Ujednoti format nazvov stlpcov\n",
    "    data = data.rename(columns=fixWierdCharsInString)\n",
    "    print(\"Index name\", data.index.name)\n",
    "    print(data.columns)\n",
    "    return data"
   ]
  },
  {
   "cell_type": "code",
   "execution_count": 4,
   "metadata": {},
   "outputs": [],
   "source": [
    "file_cleaned_train_data = 'data/zadanie4/clean_train.csv'\n",
    "file_cleaned_test_data = 'data/zadanie4/clean_test.csv'\n",
    "file = 'data/zadanie4/clean_categorical_test.csv'"
   ]
  },
  {
   "cell_type": "code",
   "execution_count": 5,
   "metadata": {},
   "outputs": [],
   "source": [
    "def create_csv(df, file_name):\n",
    "    df.to_csv(file_name, sep='\\t')"
   ]
  },
  {
   "cell_type": "code",
   "execution_count": 6,
   "metadata": {},
   "outputs": [],
   "source": [
    "def isNormalDistribution(data):\n",
    "    z, pval = stats.normaltest(data)\n",
    "    print(data.name, z, pval, True if pval > 0.05 else False)\n",
    "    if(pval < 0.05):\n",
    "        return print(\"Not normal distribution\")"
   ]
  },
  {
   "cell_type": "markdown",
   "metadata": {},
   "source": [
    "Na základe: http://mathforum.org/library/drmath/view/72065.html sme určili prahovú hodnotu kedy považujeme atribút za normálne rozdelenie"
   ]
  },
  {
   "cell_type": "code",
   "execution_count": 7,
   "metadata": {},
   "outputs": [],
   "source": [
    "def checkAllObjectType(data):\n",
    "    #help(data.select_dtypes)\n",
    "    #Selektneme si vsetky atribúty, ktoré majú nejasný dátový\n",
    "    for col_name in data.select_dtypes('object'):\n",
    "        #Spočítame si pre každý \"kategorický\" atribút počet jeho jedinečných hodnôt\n",
    "        print(col_name,\":\",data[col_name].nunique())  \n"
   ]
  },
  {
   "cell_type": "code",
   "execution_count": 8,
   "metadata": {},
   "outputs": [],
   "source": [
    "def checkAllNumericType(data):\n",
    "    #help(data.select_dtypes)\n",
    "    #Selektneme si vsetky atribúty, ktoré majú nejasný dátový\n",
    "    numeric_data = data.select_dtypes(['int64','float64'])\n",
    "    for col_name in numeric_data.columns:\n",
    "        #Spočítame si pre každý \"Numerický\" atribút počet jeho jedinečných hodnôt\n",
    "        print(col_name,\": modus:\",numeric_data[col_name].mode(),\", mean:\", numeric_data[col_name].describe())\n",
    "    numeric_data.apply(isNormalDistribution)"
   ]
  },
  {
   "cell_type": "code",
   "execution_count": 9,
   "metadata": {},
   "outputs": [],
   "source": [
    "def convertToDateType(string):\n",
    "    if pd.isna(string) or string == '??':\n",
    "        return pd.NaT\n",
    "    #Nastavime si datum na 10 znakov\n",
    "    if isinstance(string, str):\n",
    "        string = string.strip()[:10]\n",
    "        if len(string) < 10:\n",
    "            if(re.match(\"^[01][0-8]\",string[:2])):\n",
    "                print(string)\n",
    "                string = '20'+ string\n",
    "            elif(re.match(\"^[2-9][0-9]\",string[:2])): \n",
    "                string = '19'+ string\n",
    "                print(string)\n",
    "    try: return pd.to_datetime(string, errors='raise')\n",
    "    except ValueError:\n",
    "            print(string)\n",
    "            return pd.NaT"
   ]
  },
  {
   "cell_type": "code",
   "execution_count": 10,
   "metadata": {},
   "outputs": [],
   "source": [
    "def fixWierdCharsInObjectType(data):\n",
    "    forloop = {}\n",
    "    for col in data.columns:\n",
    "        data[col] = data[col].apply(fixWierdCharsInString)\n",
    "        forloop[col] = data[col].value_counts(normalize=True).to_dict()\n",
    "    return forloop"
   ]
  },
  {
   "cell_type": "code",
   "execution_count": 11,
   "metadata": {},
   "outputs": [],
   "source": [
    "def calculateAgeFromDate(data, start_date):\n",
    "    date = pd.to_datetime(start_date)\n",
    "    data.loc[data[age_column].isna() & data[date_column].notna(), age_column] = (date - data.loc[(data[age_column].isna() & data[date_column].notna()), date_column]).astype('int64') "
   ]
  },
  {
   "cell_type": "code",
   "execution_count": 12,
   "metadata": {},
   "outputs": [],
   "source": [
    "def calculateDateFromAge(row):\n",
    "    date = pd.to_datetime('2016-01-01')\n",
    "    result_date = date.year - row['AGE']\n",
    "    row['DATE_OF_BIRTH'] = pd.to_datetime(str(int(result_date)), errors='coerce')\n",
    "    return row"
   ]
  },
  {
   "cell_type": "code",
   "execution_count": 13,
   "metadata": {},
   "outputs": [],
   "source": [
    "def getFemaleSymbol():\n",
    "    return 1"
   ]
  },
  {
   "cell_type": "code",
   "execution_count": 14,
   "metadata": {},
   "outputs": [],
   "source": [
    "def getMaleSymbol():\n",
    "    return 0"
   ]
  },
  {
   "cell_type": "code",
   "execution_count": 15,
   "metadata": {},
   "outputs": [],
   "source": [
    "def count_missing(data):\n",
    "    null_data = pd.isnull(data)\n",
    "    null_count = np.sum(null_data)\n",
    "    return (null_count)"
   ]
  },
  {
   "cell_type": "code",
   "execution_count": 16,
   "metadata": {},
   "outputs": [],
   "source": [
    "def prop_missing(data):\n",
    "    num = count_missing(data)\n",
    "    dem = data.size\n",
    "    return num/dem"
   ]
  },
  {
   "cell_type": "code",
   "execution_count": 17,
   "metadata": {},
   "outputs": [],
   "source": [
    "def prop_complete(data):\n",
    "    return 1 - prop_missing(data)"
   ]
  },
  {
   "cell_type": "markdown",
   "metadata": {},
   "source": [
    "# Dataset"
   ]
  },
  {
   "cell_type": "code",
   "execution_count": 18,
   "metadata": {},
   "outputs": [
    {
     "name": "stdout",
     "output_type": "stream",
     "text": [
      "Index name ID\n",
      "Index(['AGE', 'SEX', 'ON_THYROXINE', 'QUERY_ON_THYROXINE',\n",
      "       'ON_ANTITHYROID_MEDICATION', 'SICK', 'PREGNANT', 'THYROID_SURGERY',\n",
      "       'I131_TREATMENT', 'QUERY_HYPOTHYROID', 'QUERY_HYPERTHYROID', 'LITHIUM',\n",
      "       'GOITRE', 'TUMOR', 'HYPOPITUITARY', 'PSYCH', 'TSH_MEASURED', 'TSH',\n",
      "       'T3_MEASURED', 'T3', 'TT4_MEASURED', 'TT4', 'T4U_MEASURED', 'T4U',\n",
      "       'FTI_MEASURED', 'FTI', 'TBG_MEASURED', 'TBG', 'REFERRAL_SOURCE',\n",
      "       'CLASS', 'FNLWGT', 'EDUCATION', 'EDUCATION_NUM', 'RELATIONSHIP',\n",
      "       'CAPITAL_GAIN', 'CAPITAL_LOSS', 'HOURS_PER_WEEK', 'DATE_OF_BIRTH',\n",
      "       'PERSONAL_INFO'],\n",
      "      dtype='object')\n"
     ]
    }
   ],
   "source": [
    "#Inicializacia datasetu so zjednotenými nazvami\n",
    "test_file = \"data/zadanie4/test.csv\"\n",
    "test_data = init_dataset(test_file)"
   ]
  },
  {
   "cell_type": "code",
   "execution_count": 19,
   "metadata": {},
   "outputs": [
    {
     "name": "stdout",
     "output_type": "stream",
     "text": [
      "Index name ID\n",
      "Index(['AGE', 'SEX', 'ON_THYROXINE', 'QUERY_ON_THYROXINE',\n",
      "       'ON_ANTITHYROID_MEDICATION', 'SICK', 'PREGNANT', 'THYROID_SURGERY',\n",
      "       'I131_TREATMENT', 'QUERY_HYPOTHYROID', 'QUERY_HYPERTHYROID', 'LITHIUM',\n",
      "       'GOITRE', 'TUMOR', 'HYPOPITUITARY', 'PSYCH', 'TSH_MEASURED', 'TSH',\n",
      "       'T3_MEASURED', 'T3', 'TT4_MEASURED', 'TT4', 'T4U_MEASURED', 'T4U',\n",
      "       'FTI_MEASURED', 'FTI', 'TBG_MEASURED', 'TBG', 'REFERRAL_SOURCE',\n",
      "       'CLASS', 'FNLWGT', 'EDUCATION', 'EDUCATION_NUM', 'RELATIONSHIP',\n",
      "       'CAPITAL_GAIN', 'CAPITAL_LOSS', 'HOURS_PER_WEEK', 'DATE_OF_BIRTH',\n",
      "       'PERSONAL_INFO'],\n",
      "      dtype='object')\n"
     ]
    }
   ],
   "source": [
    "train_file = \"data/zadanie4/train.csv\"\n",
    "train_data = init_dataset(train_file)"
   ]
  },
  {
   "cell_type": "code",
   "execution_count": 20,
   "metadata": {},
   "outputs": [],
   "source": [
    "#Aby sme mohli pracovat \n",
    "data = train_data\n",
    "#data = test_data"
   ]
  },
  {
   "cell_type": "markdown",
   "metadata": {},
   "source": [
    "# Zjednotenie formátov a typov dát"
   ]
  },
  {
   "cell_type": "code",
   "execution_count": 21,
   "metadata": {},
   "outputs": [
    {
     "name": "stdout",
     "output_type": "stream",
     "text": [
      "<class 'pandas.core.frame.DataFrame'>\n",
      "Int64Index: 2800 entries, 0 to 2799\n",
      "Data columns (total 39 columns):\n",
      "AGE                          2799 non-null float64\n",
      "SEX                          2800 non-null object\n",
      "ON_THYROXINE                 2800 non-null object\n",
      "QUERY_ON_THYROXINE           2800 non-null object\n",
      "ON_ANTITHYROID_MEDICATION    2800 non-null object\n",
      "SICK                         2800 non-null object\n",
      "PREGNANT                     2800 non-null object\n",
      "THYROID_SURGERY              2800 non-null object\n",
      "I131_TREATMENT               2800 non-null object\n",
      "QUERY_HYPOTHYROID            2800 non-null object\n",
      "QUERY_HYPERTHYROID           2800 non-null object\n",
      "LITHIUM                      2800 non-null object\n",
      "GOITRE                       2800 non-null object\n",
      "TUMOR                        2800 non-null object\n",
      "HYPOPITUITARY                2800 non-null object\n",
      "PSYCH                        2800 non-null object\n",
      "TSH_MEASURED                 2800 non-null object\n",
      "TSH                          2516 non-null float64\n",
      "T3_MEASURED                  2800 non-null object\n",
      "T3                           2215 non-null float64\n",
      "TT4_MEASURED                 2800 non-null object\n",
      "TT4                          2616 non-null float64\n",
      "T4U_MEASURED                 2800 non-null object\n",
      "T4U                          2503 non-null float64\n",
      "FTI_MEASURED                 2800 non-null object\n",
      "FTI                          2800 non-null object\n",
      "TBG_MEASURED                 2800 non-null object\n",
      "TBG                          2800 non-null object\n",
      "REFERRAL_SOURCE              2800 non-null object\n",
      "CLASS                        2800 non-null object\n",
      "FNLWGT                       2800 non-null int64\n",
      "EDUCATION                    2800 non-null object\n",
      "EDUCATION_NUM                2800 non-null int64\n",
      "RELATIONSHIP                 2800 non-null object\n",
      "CAPITAL_GAIN                 2520 non-null float64\n",
      "CAPITAL_LOSS                 2800 non-null int64\n",
      "HOURS_PER_WEEK               2800 non-null int64\n",
      "DATE_OF_BIRTH                2610 non-null object\n",
      "PERSONAL_INFO                2800 non-null object\n",
      "dtypes: float64(6), int64(4), object(29)\n",
      "memory usage: 875.0+ KB\n"
     ]
    }
   ],
   "source": [
    "data.info()"
   ]
  },
  {
   "cell_type": "code",
   "execution_count": 22,
   "metadata": {},
   "outputs": [
    {
     "name": "stdout",
     "output_type": "stream",
     "text": [
      "SEX : 3\n",
      "ON_THYROXINE : 6\n",
      "QUERY_ON_THYROXINE : 2\n",
      "ON_ANTITHYROID_MEDICATION : 2\n",
      "SICK : 2\n",
      "PREGNANT : 2\n",
      "THYROID_SURGERY : 2\n",
      "I131_TREATMENT : 2\n",
      "QUERY_HYPOTHYROID : 2\n",
      "QUERY_HYPERTHYROID : 2\n",
      "LITHIUM : 2\n",
      "GOITRE : 2\n",
      "TUMOR : 2\n",
      "HYPOPITUITARY : 2\n",
      "PSYCH : 2\n",
      "TSH_MEASURED : 2\n",
      "T3_MEASURED : 2\n",
      "TT4_MEASURED : 2\n",
      "T4U_MEASURED : 2\n",
      "FTI_MEASURED : 2\n",
      "FTI : 210\n",
      "TBG_MEASURED : 1\n",
      "TBG : 1\n",
      "REFERRAL_SOURCE : 5\n",
      "CLASS : 2800\n",
      "EDUCATION : 16\n",
      "RELATIONSHIP : 9\n",
      "DATE_OF_BIRTH : 2456\n",
      "PERSONAL_INFO : 700\n"
     ]
    }
   ],
   "source": [
    "checkAllObjectType(data)"
   ]
  },
  {
   "cell_type": "markdown",
   "metadata": {},
   "source": [
    "Pre všetky vyššie atribúty nastavíme správny formát dát a prekonvertujeme na číselnú reprezentáciu, kvôli neskoršej klasifikácií."
   ]
  },
  {
   "cell_type": "code",
   "execution_count": 23,
   "metadata": {},
   "outputs": [
    {
     "data": {
      "text/plain": [
       "count    2505.000000\n",
       "mean      110.787984\n",
       "std        32.883986\n",
       "min         2.000000\n",
       "25%        93.000000\n",
       "50%       107.000000\n",
       "75%       124.000000\n",
       "max       395.000000\n",
       "Name: FTI, dtype: float64"
      ]
     },
     "execution_count": 23,
     "metadata": {},
     "output_type": "execute_result"
    }
   ],
   "source": [
    "#help(data.to_numeric)\n",
    "#If ‘coerce’, then invalid parsing will be set as NaN\n",
    "#FTI prekonvertujeme na čísla\n",
    "column=fixWierdCharsInString('FTI')\n",
    "data[column] = pd.to_numeric(data[column], errors='coerce')\n",
    "data[column].describe()"
   ]
  },
  {
   "cell_type": "markdown",
   "metadata": {},
   "source": [
    "Zmena hodnôt **M -> Male** a **F -> Female**, **? -> NaN**. "
   ]
  },
  {
   "cell_type": "code",
   "execution_count": 24,
   "metadata": {},
   "outputs": [
    {
     "data": {
      "text/plain": [
       "1.0    1830\n",
       "0.0     860\n",
       "Name: SEX, dtype: int64"
      ]
     },
     "execution_count": 24,
     "metadata": {},
     "output_type": "execute_result"
    }
   ],
   "source": [
    "#Nastavíme pohlavie na jeden formát\n",
    "column = fixWierdCharsInString('sex')\n",
    "\n",
    "data[column] = data[column].apply(fixWierdCharsInString)\n",
    "data[column].replace(['F', 'M'], [getFemaleSymbol(), getMaleSymbol()], inplace=True)\n",
    "#data[column] = data[column].fillna(-1)\n",
    "data[column].value_counts()\n",
    "#new_column = fixWierdCharsInString('sex_male')\n",
    "#data = data.rename(columns={column:new_column})\n",
    "#data.columns[1]"
   ]
  },
  {
   "cell_type": "markdown",
   "metadata": {},
   "source": [
    "Zmena hodnôt **f, F, FALSE -> False** a **t, T, TRUE -> True**"
   ]
  },
  {
   "cell_type": "code",
   "execution_count": 25,
   "metadata": {},
   "outputs": [],
   "source": [
    "data.replace(['f', 'F', 'FALSE', 't', 'T', 'TRUE'], [False, False, False, True, True, True], inplace=True)"
   ]
  },
  {
   "cell_type": "code",
   "execution_count": 26,
   "metadata": {},
   "outputs": [
    {
     "name": "stdout",
     "output_type": "stream",
     "text": [
      "TBG : 1\n",
      "REFERRAL_SOURCE : 5\n",
      "CLASS : 2800\n",
      "EDUCATION : 16\n",
      "RELATIONSHIP : 9\n",
      "DATE_OF_BIRTH : 2456\n",
      "PERSONAL_INFO : 700\n"
     ]
    }
   ],
   "source": [
    "checkAllObjectType(data)"
   ]
  },
  {
   "cell_type": "code",
   "execution_count": 27,
   "metadata": {},
   "outputs": [
    {
     "data": {
      "text/plain": [
       " Not-in-family     809\n",
       " Husband           550\n",
       " Unmarried         510\n",
       " Own-child         441\n",
       " Wife              253\n",
       " Not_in_family      95\n",
       " Other-relative     80\n",
       " Own_child          53\n",
       " Other_relative      9\n",
       "Name: RELATIONSHIP, dtype: int64"
      ]
     },
     "execution_count": 27,
     "metadata": {},
     "output_type": "execute_result"
    }
   ],
   "source": [
    "column = fixWierdCharsInString('relationship')\n",
    "data[column].value_counts()"
   ]
  },
  {
   "cell_type": "markdown",
   "metadata": {},
   "source": [
    "Ujednotenie názvov v stĺpci **relationship**. \n",
    "Own-child -> Own_child\n",
    "Not-in-family -> Not_in_family\n",
    "Other-relative -> Other_relative"
   ]
  },
  {
   "cell_type": "code",
   "execution_count": 28,
   "metadata": {},
   "outputs": [
    {
     "data": {
      "text/plain": [
       "NOT_IN_FAMILY     904\n",
       "HUSBAND           550\n",
       "UNMARRIED         510\n",
       "OWN_CHILD         494\n",
       "WIFE              253\n",
       "OTHER_RELATIVE     89\n",
       "Name: RELATIONSHIP, dtype: int64"
      ]
     },
     "execution_count": 28,
     "metadata": {},
     "output_type": "execute_result"
    }
   ],
   "source": [
    "data[column] = data[column].apply(fixWierdCharsInString)\n",
    "data[column].value_counts()"
   ]
  },
  {
   "cell_type": "markdown",
   "metadata": {},
   "source": [
    "Ujednotenie formátu atribútu **date_of_birth**"
   ]
  },
  {
   "cell_type": "code",
   "execution_count": 29,
   "metadata": {},
   "outputs": [
    {
     "name": "stdout",
     "output_type": "stream",
     "text": [
      "1979-12-12\n",
      "1980-03-07\n",
      "1960-09-14\n",
      "1975-07-22\n",
      "1958-02-03\n",
      "1975-11-28\n",
      "1948-10-06\n",
      "1958-08-13\n",
      "1967-08-21\n",
      "1946-11-27\n",
      "1953-02-24\n",
      "1960-05-16\n",
      "1976-07-05\n",
      "1986-07-05\n",
      "1938-11-23\n",
      "1973-04-05\n",
      "1978-09-04\n",
      "1930-06-12\n",
      "1981-09-17\n",
      "1984-01-04\n",
      "1990-02-01\n",
      "1960-09-21\n",
      "1992-11-09\n",
      "1952-09-23\n",
      "1963-06-17\n",
      "1952-12-21\n",
      "1973-04-17\n",
      "1962-08-04\n",
      "1971-02-24\n",
      "1563-01-24\n",
      "1957-03-07\n",
      "1957-09-21\n",
      "1969-10-17\n",
      "1939-11-04\n",
      "1979-10-04\n",
      "1969-01-04\n",
      "1987-02-01\n",
      "1953-11-14\n",
      "1965-09-15\n",
      "1966-10-31\n",
      "1952-06-25\n",
      "1994-11-23\n",
      "1945-05-12\n",
      "1960-12-31\n",
      "1985-11-21\n",
      "1974-12-24\n",
      "1974-06-25\n",
      "1971-12-08\n",
      "1992-08-22\n",
      "1942-01-25\n",
      "1935-07-15\n",
      "1991-03-24\n",
      "1941-08-08\n",
      "1990-01-16\n",
      "1964-12-07\n",
      "1988-06-02\n",
      "1967-09-01\n",
      "1980-10-27\n",
      "1995-01-15\n",
      "1992-12-01\n",
      "1968-09-26\n",
      "1988-04-06\n",
      "1944-03-05\n",
      "1961-09-07\n",
      "1989-04-12\n",
      "1960-06-28\n",
      "1981-05-04\n",
      "1945-02-10\n",
      "1994-05-04\n",
      "1976-07-24\n",
      "1958-02-13\n",
      "1940-08-10\n",
      "1944-04-15\n",
      "1941-04-20\n",
      "1962-11-18\n",
      "1965-09-09\n",
      "1942-08-17\n",
      "1958-09-22\n",
      "1961-10-04\n",
      "1970-10-23\n",
      "1938-11-29\n",
      "1988-06-30\n",
      "1981-07-09\n",
      "1962-07-14\n",
      "1952-10-09\n",
      "1970-03-09\n",
      "1994-06-21\n",
      "1984-12-24\n",
      "1955-02-02\n",
      "1965-05-01\n",
      "1957-08-19\n",
      "1997-12-18\n",
      "1958-06-12\n",
      "1957-04-23\n",
      "1987-11-03\n",
      "1982-12-25\n",
      "1966-01-03\n",
      "1960-10-27\n",
      "1956-05-03\n",
      "1937-03-23\n",
      "1946-01-05\n",
      "1959-02-18\n",
      "1933-03-14\n",
      "1973-09-05\n",
      "1983-08-11\n",
      "1955-02-19\n",
      "1955-04-13\n",
      "1942-08-30\n",
      "1955-01-11\n",
      "1978-03-23\n",
      "1955-09-29\n",
      "1978-08-27\n",
      "1990-06-23\n",
      "1952-01-12\n",
      "1952-12-28\n",
      "1937-09-28\n",
      "1935-02-15\n",
      "1975-04-20\n",
      "1946-09-15\n",
      "1963-07-21\n",
      "1948-06-11\n",
      "1999-07-30\n",
      "1946-08-02\n",
      "1934-04-18\n",
      "1960-12-30\n",
      "1966-06-07\n",
      "1982-04-19\n",
      "01-06-23\n",
      "1953-10-13\n",
      "1988-05-05\n",
      "16-09-24\n",
      "1960-04-23\n",
      "1998-02-26\n",
      "1980-11-21\n",
      "1964-08-20\n",
      "1956-07-08\n",
      "1981-06-25\n",
      "1970-05-01\n",
      "1961-06-01\n",
      "1944-04-06\n",
      "1983-01-07\n",
      "1982-08-23\n",
      "1983-02-11\n",
      "1995-08-18\n",
      "1945-12-12\n",
      "1991-10-29\n",
      "1978-02-12\n",
      "1989-02-24\n",
      "1976-11-02\n",
      "1974-03-05\n",
      "1988-10-25\n",
      "1929-12-06\n",
      "1948-04-15\n",
      "1960-08-01\n",
      "1966-04-07\n",
      "1962-04-26\n",
      "1950-06-08\n",
      "1951-02-19\n",
      "1945-08-26\n",
      "1992-12-31\n",
      "1966-09-28\n",
      "1971-02-04\n",
      "1948-04-02\n"
     ]
    },
    {
     "data": {
      "text/plain": [
       "count                    2519\n",
       "unique                   2394\n",
       "top       1957-08-19 00:00:00\n",
       "freq                        3\n",
       "first     1923-05-30 00:00:00\n",
       "last      2016-11-03 00:00:00\n",
       "Name: DATE_OF_BIRTH, dtype: object"
      ]
     },
     "execution_count": 29,
     "metadata": {},
     "output_type": "execute_result"
    }
   ],
   "source": [
    "column = fixWierdCharsInString('date_of_birth')\n",
    "data[column] = data[column].apply(convertToDateType)\n",
    "data[column].describe()"
   ]
  },
  {
   "cell_type": "markdown",
   "metadata": {},
   "source": [
    "Rozdelenie stĺpca **personal_info** do viacerých stĺpcov"
   ]
  },
  {
   "cell_type": "code",
   "execution_count": 148,
   "metadata": {},
   "outputs": [
    {
     "name": "stdout",
     "output_type": "stream",
     "text": [
      "<class 'pandas.core.frame.DataFrame'>\n",
      "Int64Index: 2798 entries, 0 to 2799\n",
      "Data columns (total 40 columns):\n",
      "AGE                          2798 non-null float64\n",
      "SEX                          2798 non-null float64\n",
      "ON_THYROXINE                 2798 non-null bool\n",
      "QUERY_ON_THYROXINE           2798 non-null bool\n",
      "ON_ANTITHYROID_MEDICATION    2798 non-null bool\n",
      "SICK                         2798 non-null bool\n",
      "PREGNANT                     2798 non-null bool\n",
      "THYROID_SURGERY              2798 non-null bool\n",
      "I131_TREATMENT               2798 non-null bool\n",
      "QUERY_HYPOTHYROID            2798 non-null bool\n",
      "QUERY_HYPERTHYROID           2798 non-null bool\n",
      "LITHIUM                      2798 non-null bool\n",
      "GOITRE                       2798 non-null bool\n",
      "TUMOR                        2798 non-null bool\n",
      "HYPOPITUITARY                2798 non-null bool\n",
      "PSYCH                        2798 non-null bool\n",
      "TSH_MEASURED                 2798 non-null bool\n",
      "TSH                          2798 non-null float64\n",
      "T3_MEASURED                  2798 non-null bool\n",
      "T3                           2798 non-null float64\n",
      "TT4_MEASURED                 2798 non-null bool\n",
      "TT4                          2798 non-null float64\n",
      "T4U_MEASURED                 2798 non-null bool\n",
      "T4U                          2798 non-null float64\n",
      "FTI_MEASURED                 2798 non-null bool\n",
      "FTI                          2798 non-null float64\n",
      "REFERRAL_SOURCE              2798 non-null object\n",
      "FNLWGT                       2798 non-null int64\n",
      "EDUCATION_NUM                2798 non-null float64\n",
      "RELATIONSHIP                 2798 non-null object\n",
      "CAPITAL_GAIN                 2798 non-null float64\n",
      "CAPITAL_LOSS                 2798 non-null float64\n",
      "HOURS_PER_WEEK               2798 non-null int64\n",
      "DATE_OF_BIRTH                2798 non-null datetime64[ns]\n",
      "JOB                          2798 non-null object\n",
      "STATE                        2798 non-null object\n",
      "MARITAL_STATUS               2798 non-null object\n",
      "JOB_SEGMENT                  2798 non-null object\n",
      "RACE                         2798 non-null object\n",
      "CLASS                        2798 non-null object\n",
      "dtypes: bool(19), datetime64[ns](1), float64(10), int64(2), object(8)\n",
      "memory usage: 612.8+ KB\n"
     ]
    }
   ],
   "source": [
    "data.info()"
   ]
  },
  {
   "cell_type": "code",
   "execution_count": 31,
   "metadata": {},
   "outputs": [
    {
     "data": {
      "text/html": [
       "<div>\n",
       "<style scoped>\n",
       "    .dataframe tbody tr th:only-of-type {\n",
       "        vertical-align: middle;\n",
       "    }\n",
       "\n",
       "    .dataframe tbody tr th {\n",
       "        vertical-align: top;\n",
       "    }\n",
       "\n",
       "    .dataframe thead th {\n",
       "        text-align: right;\n",
       "    }\n",
       "</style>\n",
       "<table border=\"1\" class=\"dataframe\">\n",
       "  <thead>\n",
       "    <tr style=\"text-align: right;\">\n",
       "      <th></th>\n",
       "      <th>JOB</th>\n",
       "      <th>STATE</th>\n",
       "      <th>MARITAL_STATUS</th>\n",
       "      <th>JOB_SEGMENT</th>\n",
       "      <th>RACE</th>\n",
       "    </tr>\n",
       "  </thead>\n",
       "  <tbody>\n",
       "    <tr>\n",
       "      <th>0</th>\n",
       "      <td>Other-service</td>\n",
       "      <td>United-States</td>\n",
       "      <td>Widowed</td>\n",
       "      <td>private</td>\n",
       "      <td>Black</td>\n",
       "    </tr>\n",
       "    <tr>\n",
       "      <th>1</th>\n",
       "      <td>Adm-clerical</td>\n",
       "      <td>United-States</td>\n",
       "      <td>Separated</td>\n",
       "      <td>Local-gov</td>\n",
       "      <td>White</td>\n",
       "    </tr>\n",
       "    <tr>\n",
       "      <th>2</th>\n",
       "      <td>Sales</td>\n",
       "      <td>United-States</td>\n",
       "      <td>Married-civ-spouse</td>\n",
       "      <td>private</td>\n",
       "      <td>White</td>\n",
       "    </tr>\n",
       "    <tr>\n",
       "      <th>3</th>\n",
       "      <td>Sales</td>\n",
       "      <td>United-States</td>\n",
       "      <td>Never-married</td>\n",
       "      <td>Private</td>\n",
       "      <td>Black</td>\n",
       "    </tr>\n",
       "    <tr>\n",
       "      <th>4</th>\n",
       "      <td>Adm-clerical</td>\n",
       "      <td>United-States</td>\n",
       "      <td>Never-married</td>\n",
       "      <td>Private</td>\n",
       "      <td>White</td>\n",
       "    </tr>\n",
       "  </tbody>\n",
       "</table>\n",
       "</div>"
      ],
      "text/plain": [
       "             JOB          STATE       MARITAL_STATUS JOB_SEGMENT   RACE\n",
       "0  Other-service  United-States             Widowed      private  Black\n",
       "1   Adm-clerical  United-States           Separated    Local-gov  White\n",
       "2          Sales  United-States  Married-civ-spouse      private  White\n",
       "3          Sales  United-States       Never-married      Private  Black\n",
       "4   Adm-clerical  United-States       Never-married      Private  White"
      ]
     },
     "execution_count": 31,
     "metadata": {},
     "output_type": "execute_result"
    }
   ],
   "source": [
    "column = fixWierdCharsInString('personal_info')\n",
    "columns = list(map(fixWierdCharsInString, ['job','state', 'marital_status', 'job_segment', 'race']))\n",
    "df_personal_data = pd.DataFrame(data[column].str.replace('\\n','|').str.replace('--','|').str.split('|', expand=False).tolist(), columns=columns)\n",
    "df_personal_data.head()"
   ]
  },
  {
   "cell_type": "markdown",
   "metadata": {},
   "source": [
    "Atribút je teraz rozdelený do viacerých stĺpcov **job, state, parents_definition, segment, race**, ale je potrebné v nich urobiť nejaké úpravy. "
   ]
  },
  {
   "cell_type": "code",
   "execution_count": 32,
   "metadata": {},
   "outputs": [
    {
     "name": "stdout",
     "output_type": "stream",
     "text": [
      "JOB : 14\n",
      "STATE : 37\n",
      "MARITAL_STATUS : 7\n",
      "JOB_SEGMENT : 15\n",
      "RACE : 5\n"
     ]
    }
   ],
   "source": [
    "checkAllObjectType(df_personal_data)"
   ]
  },
  {
   "cell_type": "code",
   "execution_count": 33,
   "metadata": {},
   "outputs": [
    {
     "data": {
      "text/plain": [
       "{'JOB': {'ADM_CLERICAL': 0.1654482493266641,\n",
       "  'CRAFT_REPAIR': 0.07772220084647942,\n",
       "  'EXEC_MANAGERIAL': 0.13659099653712967,\n",
       "  'FARMING_FISHING': 0.021546748749519045,\n",
       "  'HANDLERS_CLEANERS': 0.02308580223162755,\n",
       "  'MACHINE_OP_INSPCT': 0.06156213928434013,\n",
       "  'OTHER_SERVICE': 0.15390534821085033,\n",
       "  'PRIV_HOUSE_SERV': 0.011158137745286649,\n",
       "  'PROF_SPECIALTY': 0.14697960754136205,\n",
       "  'PROTECTIVE_SERV': 0.019622931896883418,\n",
       "  'SALES': 0.12158522508657175,\n",
       "  'TECH_SUPPORT': 0.032320123124278566,\n",
       "  'TRANSPORT_MOVING': 0.02847248941900731},\n",
       " 'JOB_SEGMENT': {'?': 0.07107142857142858,\n",
       "  'FEDERAL_GOV': 0.029285714285714286,\n",
       "  'LOCAL_GOV': 0.07785714285714286,\n",
       "  'NEVER_WORKED': 0.0007142857142857143,\n",
       "  'PRIVATE': 0.6982142857142857,\n",
       "  'SELF_EMP_INC': 0.024642857142857143,\n",
       "  'SELF_EMP_NOT_INC': 0.055,\n",
       "  'STATE_GOV': 0.04285714285714286,\n",
       "  'WITHOUT_PAY': 0.00035714285714285714},\n",
       " 'MARITAL_STATUS': {'DIVORCED': 0.18535714285714286,\n",
       "  'MARRIED_AF_SPOUSE': 0.00035714285714285714,\n",
       "  'MARRIED_CIV_SPOUSE': 0.29178571428571426,\n",
       "  'MARRIED_SPOUSE_ABSENT': 0.017857142857142856,\n",
       "  'NEVER_MARRIED': 0.4010714285714286,\n",
       "  'SEPARATED': 0.044642857142857144,\n",
       "  'WIDOWED': 0.05892857142857143},\n",
       " 'RACE': {'AMER_INDIAN_ESKIMO': 0.008928571428571428,\n",
       "  'ASIAN_PAC_ISLANDER': 0.03142857142857143,\n",
       "  'BLACK': 0.13535714285714287,\n",
       "  'OTHER': 0.010357142857142856,\n",
       "  'WHITE': 0.8139285714285714},\n",
       " 'STATE': {'CANADA': 0.002176278563656148,\n",
       "  'CHINA': 0.0018135654697134566,\n",
       "  'COLUMBIA': 0.0025389916575988395,\n",
       "  'CUBA': 0.003989844033369605,\n",
       "  'DOMINICAN_REPUBLIC': 0.0018135654697134566,\n",
       "  'ECUADOR': 0.0014508523757707653,\n",
       "  'EL_SALVADOR': 0.005077983315197679,\n",
       "  'ENGLAND': 0.004715270221254987,\n",
       "  'GERMANY': 0.006528835690968444,\n",
       "  'GREECE': 0.0007254261878853826,\n",
       "  'GUATEMALA': 0.0025389916575988395,\n",
       "  'HAITI': 0.0025389916575988395,\n",
       "  'HONDURAS': 0.0003627130939426913,\n",
       "  'HONG': 0.0003627130939426913,\n",
       "  'HUNGARY': 0.001088139281828074,\n",
       "  'INDIA': 0.0018135654697134566,\n",
       "  'IRAN': 0.0003627130939426913,\n",
       "  'ITALY': 0.0018135654697134566,\n",
       "  'JAMAICA': 0.004715270221254987,\n",
       "  'JAPAN': 0.0014508523757707653,\n",
       "  'LAOS': 0.001088139281828074,\n",
       "  'MEXICO': 0.018135654697134566,\n",
       "  'NICARAGUA': 0.002176278563656148,\n",
       "  'OUTLYING_US(GUAM_USVI_ETC)': 0.0007254261878853826,\n",
       "  'PERU': 0.001088139281828074,\n",
       "  'PHILIPPINES': 0.008342401160681901,\n",
       "  'POLAND': 0.0018135654697134566,\n",
       "  'PORTUGAL': 0.001088139281828074,\n",
       "  'PUERTO_RICO': 0.003989844033369605,\n",
       "  'SCOTLAND': 0.0003627130939426913,\n",
       "  'SOUTH': 0.0018135654697134566,\n",
       "  'TAIWAN': 0.0029017047515415306,\n",
       "  'THAILAND': 0.001088139281828074,\n",
       "  'TRINADAD&TOBAGO': 0.0003627130939426913,\n",
       "  'UNITED_STATES': 0.9053318824809575,\n",
       "  'VIETNAM': 0.0018135654697134566}}"
      ]
     },
     "execution_count": 33,
     "metadata": {},
     "output_type": "execute_result"
    }
   ],
   "source": [
    "fixWierdCharsInObjectType(df_personal_data)"
   ]
  },
  {
   "cell_type": "markdown",
   "metadata": {},
   "source": [
    "Vidíme, že hodnôt pre štát je príliš vela a pritom 90 percent pacientov je zo spojených štátov. Preto zredukujeme kategorické atribúty pre štát nasledovne"
   ]
  },
  {
   "cell_type": "code",
   "execution_count": 34,
   "metadata": {},
   "outputs": [],
   "source": [
    "df_personal_data['STATE'] = [ 'UNITED_STATES' if x == 'UNITED_STATES' else 'OTHER' for x in df_personal_data['STATE']]"
   ]
  },
  {
   "cell_type": "code",
   "execution_count": 35,
   "metadata": {},
   "outputs": [
    {
     "data": {
      "text/plain": [
       "UNITED_STATES    2496\n",
       "OTHER             304\n",
       "Name: STATE, dtype: int64"
      ]
     },
     "execution_count": 35,
     "metadata": {},
     "output_type": "execute_result"
    }
   ],
   "source": [
    "df_personal_data['STATE'].value_counts()"
   ]
  },
  {
   "cell_type": "markdown",
   "metadata": {},
   "source": [
    "Teraz môžeme vytvorené stĺpce z atribútu **personal_info** pripojiť k celému datasetu a vymazať atribút **personal_info**."
   ]
  },
  {
   "cell_type": "code",
   "execution_count": 36,
   "metadata": {},
   "outputs": [],
   "source": [
    "data = data.drop([column], axis=1) # vymazanie atribútu personal_info\n",
    "data = data.join(df_personal_data)          # pridanie nových atribútov do nášho datasetu"
   ]
  },
  {
   "cell_type": "markdown",
   "metadata": {},
   "source": [
    "Rozdelenie atribútu **class** do dvoch nových atribútov."
   ]
  },
  {
   "cell_type": "code",
   "execution_count": 37,
   "metadata": {},
   "outputs": [
    {
     "data": {
      "text/plain": [
       "ID\n",
       "0    replacement therapy.|3560\n",
       "1                negative.|311\n",
       "2               negative.|3705\n",
       "3               negative.|2668\n",
       "4    replacement therapy.|1668\n",
       "Name: CLASS, dtype: object"
      ]
     },
     "execution_count": 37,
     "metadata": {},
     "output_type": "execute_result"
    }
   ],
   "source": [
    "column = fixWierdCharsInString('class')\n",
    "data[column].head()"
   ]
  },
  {
   "cell_type": "code",
   "execution_count": 38,
   "metadata": {
    "tags": [
     "korekcia"
    ]
   },
   "outputs": [
    {
     "data": {
      "text/plain": [
       "negative               2713\n",
       "underreplacement         35\n",
       "replacement therapy      29\n",
       "overreplacement          23\n",
       "Name: CLASS, dtype: int64"
      ]
     },
     "execution_count": 38,
     "metadata": {},
     "output_type": "execute_result"
    }
   ],
   "source": [
    "#data = train_data\n",
    "#Nepotrebujeme\n",
    "column2_name = 'second_id'\n",
    "df_class = pd.DataFrame(data[column].str.split('\\.\\|').tolist(), columns = [column,column2_name])\n",
    "df_class[column].value_counts()"
   ]
  },
  {
   "cell_type": "code",
   "execution_count": 39,
   "metadata": {},
   "outputs": [
    {
     "data": {
      "text/plain": [
       "negative               2713\n",
       "underreplacement         35\n",
       "replacement therapy      29\n",
       "overreplacement          23\n",
       "Name: CLASS, dtype: int64"
      ]
     },
     "execution_count": 39,
     "metadata": {},
     "output_type": "execute_result"
    }
   ],
   "source": [
    "# vymazanie atribútu class\n",
    "data = data.drop([column], axis=1) \n",
    "# pridanie nových atribútov do nášho datasetu\n",
    "data = data.join(df_class[column])\n",
    "data[column].value_counts()"
   ]
  },
  {
   "cell_type": "code",
   "execution_count": 40,
   "metadata": {},
   "outputs": [
    {
     "data": {
      "text/plain": [
       "9.0     894\n",
       "10.0    670\n",
       "13.0    437\n",
       "14.0    138\n",
       "11.0    130\n",
       "12.0    103\n",
       "7.0      97\n",
       "6.0      79\n",
       "8.0      54\n",
       "4.0      45\n",
       "15.0     42\n",
       "5.0      41\n",
       "16.0     25\n",
       "3.0      24\n",
       "2.0      17\n",
       "1.0       4\n",
       "Name: EDUCATION_NUM, dtype: int64"
      ]
     },
     "execution_count": 40,
     "metadata": {},
     "output_type": "execute_result"
    }
   ],
   "source": [
    "column = fixWierdCharsInString('education_num')\n",
    "#data['education-num']\n",
    "data[column] = pd.to_numeric(data[column], errors='coerce')\n",
    "data[column] = data[column].apply(lambda x: abs(x)/100 if abs(x) > 100 else x)\n",
    "data[column].value_counts()"
   ]
  },
  {
   "cell_type": "code",
   "execution_count": 41,
   "metadata": {},
   "outputs": [],
   "source": [
    "data = data.drop(columns=['EDUCATION'])"
   ]
  },
  {
   "cell_type": "markdown",
   "metadata": {},
   "source": [
    "Vymazanie atribútu **TBG**, pretože atribút nenesie žiadnu zmysluplnú hodnotu a tým pádom nemá pre nás význam. "
   ]
  },
  {
   "cell_type": "code",
   "execution_count": 42,
   "metadata": {},
   "outputs": [],
   "source": [
    "column1 = fixWierdCharsInString('TBG')\n",
    "column2 = fixWierdCharsInString('TBG_measured')\n",
    "data = data.drop([column1], axis=1) \n",
    "data = data.drop([column2], axis=1) "
   ]
  },
  {
   "cell_type": "markdown",
   "metadata": {},
   "source": [
    "Atribútom **capital_gain** a **capital_loss** sme sa rozhodli ujednotiť dátové typy."
   ]
  },
  {
   "cell_type": "code",
   "execution_count": 43,
   "metadata": {},
   "outputs": [],
   "source": [
    "column = fixWierdCharsInString('capital_loss')\n",
    "data[column] = data[column].astype('float64')"
   ]
  },
  {
   "cell_type": "code",
   "execution_count": 44,
   "metadata": {},
   "outputs": [
    {
     "name": "stdout",
     "output_type": "stream",
     "text": [
      "REFERRAL_SOURCE : 5\n",
      "RELATIONSHIP : 6\n",
      "JOB : 13\n",
      "STATE : 2\n",
      "MARITAL_STATUS : 7\n",
      "JOB_SEGMENT : 8\n",
      "RACE : 5\n",
      "CLASS : 4\n"
     ]
    },
    {
     "data": {
      "text/html": [
       "<div>\n",
       "<style scoped>\n",
       "    .dataframe tbody tr th:only-of-type {\n",
       "        vertical-align: middle;\n",
       "    }\n",
       "\n",
       "    .dataframe tbody tr th {\n",
       "        vertical-align: top;\n",
       "    }\n",
       "\n",
       "    .dataframe thead th {\n",
       "        text-align: right;\n",
       "    }\n",
       "</style>\n",
       "<table border=\"1\" class=\"dataframe\">\n",
       "  <thead>\n",
       "    <tr style=\"text-align: right;\">\n",
       "      <th></th>\n",
       "      <th>REFERRAL_SOURCE</th>\n",
       "      <th>RELATIONSHIP</th>\n",
       "      <th>JOB</th>\n",
       "      <th>STATE</th>\n",
       "      <th>MARITAL_STATUS</th>\n",
       "      <th>JOB_SEGMENT</th>\n",
       "      <th>RACE</th>\n",
       "      <th>CLASS</th>\n",
       "    </tr>\n",
       "    <tr>\n",
       "      <th>ID</th>\n",
       "      <th></th>\n",
       "      <th></th>\n",
       "      <th></th>\n",
       "      <th></th>\n",
       "      <th></th>\n",
       "      <th></th>\n",
       "      <th></th>\n",
       "      <th></th>\n",
       "    </tr>\n",
       "  </thead>\n",
       "  <tbody>\n",
       "    <tr>\n",
       "      <th>0</th>\n",
       "      <td>OTHER</td>\n",
       "      <td>UNMARRIED</td>\n",
       "      <td>OTHER_SERVICE</td>\n",
       "      <td>UNITED_STATES</td>\n",
       "      <td>WIDOWED</td>\n",
       "      <td>PRIVATE</td>\n",
       "      <td>BLACK</td>\n",
       "      <td>REPLACEMENT_THERAPY</td>\n",
       "    </tr>\n",
       "    <tr>\n",
       "      <th>1</th>\n",
       "      <td>OTHER</td>\n",
       "      <td>UNMARRIED</td>\n",
       "      <td>ADM_CLERICAL</td>\n",
       "      <td>UNITED_STATES</td>\n",
       "      <td>SEPARATED</td>\n",
       "      <td>LOCAL_GOV</td>\n",
       "      <td>WHITE</td>\n",
       "      <td>NEGATIVE</td>\n",
       "    </tr>\n",
       "    <tr>\n",
       "      <th>2</th>\n",
       "      <td>OTHER</td>\n",
       "      <td>HUSBAND</td>\n",
       "      <td>SALES</td>\n",
       "      <td>UNITED_STATES</td>\n",
       "      <td>MARRIED_CIV_SPOUSE</td>\n",
       "      <td>PRIVATE</td>\n",
       "      <td>WHITE</td>\n",
       "      <td>NEGATIVE</td>\n",
       "    </tr>\n",
       "    <tr>\n",
       "      <th>3</th>\n",
       "      <td>OTHER</td>\n",
       "      <td>OWN_CHILD</td>\n",
       "      <td>SALES</td>\n",
       "      <td>UNITED_STATES</td>\n",
       "      <td>NEVER_MARRIED</td>\n",
       "      <td>PRIVATE</td>\n",
       "      <td>BLACK</td>\n",
       "      <td>NEGATIVE</td>\n",
       "    </tr>\n",
       "    <tr>\n",
       "      <th>4</th>\n",
       "      <td>OTHER</td>\n",
       "      <td>OWN_CHILD</td>\n",
       "      <td>ADM_CLERICAL</td>\n",
       "      <td>UNITED_STATES</td>\n",
       "      <td>NEVER_MARRIED</td>\n",
       "      <td>PRIVATE</td>\n",
       "      <td>WHITE</td>\n",
       "      <td>REPLACEMENT_THERAPY</td>\n",
       "    </tr>\n",
       "  </tbody>\n",
       "</table>\n",
       "</div>"
      ],
      "text/plain": [
       "   REFERRAL_SOURCE RELATIONSHIP            JOB          STATE  \\\n",
       "ID                                                              \n",
       "0            OTHER    UNMARRIED  OTHER_SERVICE  UNITED_STATES   \n",
       "1            OTHER    UNMARRIED   ADM_CLERICAL  UNITED_STATES   \n",
       "2            OTHER      HUSBAND          SALES  UNITED_STATES   \n",
       "3            OTHER    OWN_CHILD          SALES  UNITED_STATES   \n",
       "4            OTHER    OWN_CHILD   ADM_CLERICAL  UNITED_STATES   \n",
       "\n",
       "        MARITAL_STATUS JOB_SEGMENT   RACE                CLASS  \n",
       "ID                                                              \n",
       "0              WIDOWED     PRIVATE  BLACK  REPLACEMENT_THERAPY  \n",
       "1            SEPARATED   LOCAL_GOV  WHITE             NEGATIVE  \n",
       "2   MARRIED_CIV_SPOUSE     PRIVATE  WHITE             NEGATIVE  \n",
       "3        NEVER_MARRIED     PRIVATE  BLACK             NEGATIVE  \n",
       "4        NEVER_MARRIED     PRIVATE  WHITE  REPLACEMENT_THERAPY  "
      ]
     },
     "execution_count": 44,
     "metadata": {},
     "output_type": "execute_result"
    }
   ],
   "source": [
    "fixWierdCharsInObjectType(data)\n",
    "checkAllObjectType(data)\n",
    "data.select_dtypes('object').head()"
   ]
  },
  {
   "cell_type": "markdown",
   "metadata": {},
   "source": [
    "Po zjednotení formátov dát nám ostali len tieto atribúty s dátovým typom object. Kedže sa jedná o kategorické atribúty tak sme zatial spokojný s týmto dátovým typom."
   ]
  },
  {
   "cell_type": "markdown",
   "metadata": {},
   "source": [
    "# Chýbajúce hodnoty"
   ]
  },
  {
   "cell_type": "code",
   "execution_count": 45,
   "metadata": {},
   "outputs": [],
   "source": [
    "import missingno as msno"
   ]
  },
  {
   "cell_type": "code",
   "execution_count": 46,
   "metadata": {},
   "outputs": [
    {
     "data": {
      "text/plain": [
       "<matplotlib.axes._subplots.AxesSubplot at 0x1a27009d30>"
      ]
     },
     "execution_count": 46,
     "metadata": {},
     "output_type": "execute_result"
    },
    {
     "data": {
      "image/png": "[encoded data removed]",
      "text/plain": [
       "<matplotlib.figure.Figure at 0x1a26fa2278>"
      ]
     },
     "metadata": {},
     "output_type": "display_data"
    }
   ],
   "source": [
    "data.columns[data.isnull().any()].tolist()\n",
    "msno.matrix(data[data.columns[data.isnull().any()].tolist()])"
   ]
  },
  {
   "cell_type": "code",
   "execution_count": 47,
   "metadata": {},
   "outputs": [],
   "source": [
    "checkpoint_missing_data = data.copy()"
   ]
  },
  {
   "cell_type": "markdown",
   "metadata": {},
   "source": [
    "Počty chýbajúcich hodnôt v jednotlivých atribútoch.http://scikit-learn.org/stable/data_transforms.html"
   ]
  },
  {
   "cell_type": "code",
   "execution_count": 48,
   "metadata": {
    "scrolled": true
   },
   "outputs": [
    {
     "data": {
      "text/plain": [
       "AGE                            1\n",
       "SEX                          110\n",
       "ON_THYROXINE                   0\n",
       "QUERY_ON_THYROXINE             0\n",
       "ON_ANTITHYROID_MEDICATION      0\n",
       "SICK                           0\n",
       "PREGNANT                       0\n",
       "THYROID_SURGERY                0\n",
       "I131_TREATMENT                 0\n",
       "QUERY_HYPOTHYROID              0\n",
       "QUERY_HYPERTHYROID             0\n",
       "LITHIUM                        0\n",
       "GOITRE                         0\n",
       "TUMOR                          0\n",
       "HYPOPITUITARY                  0\n",
       "PSYCH                          0\n",
       "TSH_MEASURED                   0\n",
       "TSH                          284\n",
       "T3_MEASURED                    0\n",
       "T3                           585\n",
       "TT4_MEASURED                   0\n",
       "TT4                          184\n",
       "T4U_MEASURED                   0\n",
       "T4U                          297\n",
       "FTI_MEASURED                   0\n",
       "FTI                          295\n",
       "REFERRAL_SOURCE                0\n",
       "FNLWGT                         0\n",
       "EDUCATION_NUM                  0\n",
       "RELATIONSHIP                   0\n",
       "CAPITAL_GAIN                 280\n",
       "CAPITAL_LOSS                   0\n",
       "HOURS_PER_WEEK                 0\n",
       "DATE_OF_BIRTH                281\n",
       "JOB                          201\n",
       "STATE                          0\n",
       "MARITAL_STATUS                 0\n",
       "JOB_SEGMENT                  199\n",
       "RACE                           0\n",
       "CLASS                          0\n",
       "dtype: int64"
      ]
     },
     "execution_count": 48,
     "metadata": {},
     "output_type": "execute_result"
    }
   ],
   "source": [
    "data.apply(count_missing)"
   ]
  },
  {
   "cell_type": "code",
   "execution_count": 49,
   "metadata": {},
   "outputs": [
    {
     "data": {
      "text/plain": [
       "0    1473\n",
       "1     664\n",
       "2     356\n",
       "5     117\n",
       "3      99\n",
       "4      51\n",
       "6      28\n",
       "7       9\n",
       "8       3\n",
       "dtype: int64"
      ]
     },
     "execution_count": 49,
     "metadata": {},
     "output_type": "execute_result"
    }
   ],
   "source": [
    "#Vypiseme si kolko missign values maju riadky. Takze napriklad 0 missing values ma 1634 pacinetov\n",
    "data.apply(count_missing, axis=1).value_counts()"
   ]
  },
  {
   "cell_type": "code",
   "execution_count": 50,
   "metadata": {},
   "outputs": [
    {
     "data": {
      "text/plain": [
       "(2800, 40)"
      ]
     },
     "execution_count": 50,
     "metadata": {},
     "output_type": "execute_result"
    }
   ],
   "source": [
    "data.dropna(how=\"all\").shape # môžeme vidieť, že žiadny riadok nie je taký, že má všetky hodnoty chýbajúce."
   ]
  },
  {
   "cell_type": "markdown",
   "metadata": {},
   "source": [
    "## Odvodenie chýbajúcich hodnôt po riadkoch"
   ]
  },
  {
   "cell_type": "markdown",
   "metadata": {},
   "source": [
    "Pre atribút **sex** vieme chýbajúcu hodnotu zistiť napríklad z atribútu **pregnant** alebo z atribútu **relationship**"
   ]
  },
  {
   "cell_type": "code",
   "execution_count": 51,
   "metadata": {},
   "outputs": [
    {
     "data": {
      "text/plain": [
       "110"
      ]
     },
     "execution_count": 51,
     "metadata": {},
     "output_type": "execute_result"
    }
   ],
   "source": [
    "data['SEX'].isna().sum()"
   ]
  },
  {
   "cell_type": "code",
   "execution_count": 52,
   "metadata": {},
   "outputs": [],
   "source": [
    "# Vyfiltrujeme si pacientov s nešpecifikovaným pohlavím, ktorí sú tehotní.\n",
    "column = fixWierdCharsInString('sex')\n",
    "help_column = fixWierdCharsInString('pregnant')\n",
    "data.loc[(data[column].isna()) & (data[help_column]), column] = getFemaleSymbol()\n",
    "#data[(data[column].isna()) & (data[help_column])] = 'F'"
   ]
  },
  {
   "cell_type": "code",
   "execution_count": 53,
   "metadata": {},
   "outputs": [
    {
     "data": {
      "text/plain": [
       "109"
      ]
     },
     "execution_count": 53,
     "metadata": {},
     "output_type": "execute_result"
    }
   ],
   "source": [
    "data['SEX'].isna().sum()"
   ]
  },
  {
   "cell_type": "code",
   "execution_count": 54,
   "metadata": {},
   "outputs": [],
   "source": [
    "help_column = fixWierdCharsInString('relationship')\n",
    "# Neexistuje v datasete muž/žena, ktorý/ktorá je vydatý/oženená.\n",
    "data.loc[data[data[column].isna() & (data[help_column] == fixWierdCharsInString('Wife'))].index, column] = getFemaleSymbol()\n",
    "data.loc[data[data[column].isna() & (data[help_column] == fixWierdCharsInString('Husband'))].index, column] = getMaleSymbol()"
   ]
  },
  {
   "cell_type": "code",
   "execution_count": 55,
   "metadata": {},
   "outputs": [
    {
     "data": {
      "text/plain": [
       "61"
      ]
     },
     "execution_count": 55,
     "metadata": {},
     "output_type": "execute_result"
    }
   ],
   "source": [
    "data['SEX'].isna().sum()"
   ]
  },
  {
   "cell_type": "code",
   "execution_count": 56,
   "metadata": {},
   "outputs": [],
   "source": [
    "# Vyfiltrujeme si pacientov s nešpecifikovaným datumom narodenia, a doplnime ich podla veku za predpokladu ze dataset bol robeni v roku 2016.\n",
    "column = fixWierdCharsInString('date_of_birth')\n",
    "help_column = fixWierdCharsInString('age')\n",
    "data.loc[(data[column].isna()) & (data[help_column].notna()),[column, help_column]] = data.loc[(data[column].isna()) & (data[help_column].notna()),[column, help_column]].apply(calculateDateFromAge, axis=1)"
   ]
  },
  {
   "cell_type": "code",
   "execution_count": 57,
   "metadata": {},
   "outputs": [
    {
     "data": {
      "text/plain": [
       "2"
      ]
     },
     "execution_count": 57,
     "metadata": {},
     "output_type": "execute_result"
    }
   ],
   "source": [
    "data['DATE_OF_BIRTH'].isna().sum()"
   ]
  },
  {
   "cell_type": "markdown",
   "metadata": {},
   "source": [
    "## Doplnenie chýbajúcich hodnôt po stĺpcoch"
   ]
  },
  {
   "cell_type": "code",
   "execution_count": 58,
   "metadata": {},
   "outputs": [],
   "source": [
    "checkpoint_missing_data_by_columns = data.copy()"
   ]
  },
  {
   "cell_type": "markdown",
   "metadata": {},
   "source": [
    "### Vytvorenie imputerov"
   ]
  },
  {
   "cell_type": "code",
   "execution_count": 59,
   "metadata": {},
   "outputs": [],
   "source": [
    "imp_most_frequent = preprocessing.Imputer(missing_values='NaN', strategy='most_frequent', axis=0)\n",
    "imp_mean = preprocessing.Imputer(missing_values='NaN', strategy='mean', axis=0)\n",
    "imp_median = preprocessing.Imputer(missing_values='NaN', strategy='median', axis=0)"
   ]
  },
  {
   "cell_type": "code",
   "execution_count": 60,
   "metadata": {
    "scrolled": true
   },
   "outputs": [
    {
     "name": "stdout",
     "output_type": "stream",
     "text": [
      "REFERRAL_SOURCE : 5\n",
      "RELATIONSHIP : 6\n",
      "JOB : 13\n",
      "STATE : 2\n",
      "MARITAL_STATUS : 7\n",
      "JOB_SEGMENT : 8\n",
      "RACE : 5\n",
      "CLASS : 4\n"
     ]
    }
   ],
   "source": [
    "checkAllObjectType(data)"
   ]
  },
  {
   "cell_type": "markdown",
   "metadata": {},
   "source": [
    "Atribút **capital_gain** - chýbajúce hodnoty doplníme modusom, t.j. najčastejšie sa vyskytujúcou hodnotou."
   ]
  },
  {
   "cell_type": "code",
   "execution_count": 61,
   "metadata": {},
   "outputs": [],
   "source": [
    "column = fixWierdCharsInString('capital_gain')\n",
    "mode = data[column].mode()\n",
    "data[column] = pd.DataFrame(imp_most_frequent.fit_transform(data.loc[:,[column]]))"
   ]
  },
  {
   "cell_type": "code",
   "execution_count": 62,
   "metadata": {
    "scrolled": true
   },
   "outputs": [],
   "source": [
    "#Doplnime vsetky numericke pomocou imputer\n",
    "#col_names = data.select_dtypes(exclude=['object', 'datetime64']).columns\n",
    "#data.loc[:,col_names] = pd.DataFrame(imp_most_frequent.fit_transform(filled_numeric_data), columns=col_names)"
   ]
  },
  {
   "cell_type": "code",
   "execution_count": 63,
   "metadata": {
    "scrolled": true
   },
   "outputs": [
    {
     "data": {
      "text/plain": [
       "AGE                            1\n",
       "SEX                           61\n",
       "ON_THYROXINE                   0\n",
       "QUERY_ON_THYROXINE             0\n",
       "ON_ANTITHYROID_MEDICATION      0\n",
       "SICK                           0\n",
       "PREGNANT                       0\n",
       "THYROID_SURGERY                0\n",
       "I131_TREATMENT                 0\n",
       "QUERY_HYPOTHYROID              0\n",
       "QUERY_HYPERTHYROID             0\n",
       "LITHIUM                        0\n",
       "GOITRE                         0\n",
       "TUMOR                          0\n",
       "HYPOPITUITARY                  0\n",
       "PSYCH                          0\n",
       "TSH_MEASURED                   0\n",
       "TSH                          284\n",
       "T3_MEASURED                    0\n",
       "T3                           585\n",
       "TT4_MEASURED                   0\n",
       "TT4                          184\n",
       "T4U_MEASURED                   0\n",
       "T4U                          297\n",
       "FTI_MEASURED                   0\n",
       "FTI                          295\n",
       "REFERRAL_SOURCE                0\n",
       "FNLWGT                         0\n",
       "EDUCATION_NUM                  0\n",
       "RELATIONSHIP                   0\n",
       "CAPITAL_GAIN                   0\n",
       "CAPITAL_LOSS                   0\n",
       "HOURS_PER_WEEK                 0\n",
       "DATE_OF_BIRTH                  2\n",
       "JOB                          201\n",
       "STATE                          0\n",
       "MARITAL_STATUS                 0\n",
       "JOB_SEGMENT                  199\n",
       "RACE                           0\n",
       "CLASS                          0\n",
       "dtype: int64"
      ]
     },
     "execution_count": 63,
     "metadata": {},
     "output_type": "execute_result"
    }
   ],
   "source": [
    "data.apply(count_missing)"
   ]
  },
  {
   "cell_type": "markdown",
   "metadata": {},
   "source": [
    "Polia, kde bola hodnota **'?'** sme prepísali na hodnotu **'Other_service'** z toho dôvodu, že tento atribút nevieme doplniť na základe žiadnej inej stratégie a preto sme priradili najvšeobecnejšiu hodnotu. "
   ]
  },
  {
   "cell_type": "code",
   "execution_count": 64,
   "metadata": {},
   "outputs": [
    {
     "data": {
      "text/plain": [
       "201"
      ]
     },
     "execution_count": 64,
     "metadata": {},
     "output_type": "execute_result"
    }
   ],
   "source": [
    "column = fixWierdCharsInString('job')\n",
    "data[column].isnull().sum()"
   ]
  },
  {
   "cell_type": "code",
   "execution_count": 65,
   "metadata": {},
   "outputs": [
    {
     "data": {
      "text/plain": [
       "0"
      ]
     },
     "execution_count": 65,
     "metadata": {},
     "output_type": "execute_result"
    }
   ],
   "source": [
    "general_value = fixWierdCharsInString('Other_service')\n",
    "data[column].fillna(general_value, inplace=True)\n",
    "data[column].isnull().sum()"
   ]
  },
  {
   "cell_type": "markdown",
   "metadata": {},
   "source": [
    "Atribút **state** nahradíme modusom, pretože hodnota **'United_States'** sa nachádza u väčšiny pacientov a nevieme túto hodnotu doplniť pomocou iných atribútov. "
   ]
  },
  {
   "cell_type": "code",
   "execution_count": 66,
   "metadata": {},
   "outputs": [
    {
     "data": {
      "text/plain": [
       "0"
      ]
     },
     "execution_count": 66,
     "metadata": {},
     "output_type": "execute_result"
    }
   ],
   "source": [
    "column = fixWierdCharsInString('state')\n",
    "count_missing(data[column])"
   ]
  },
  {
   "cell_type": "code",
   "execution_count": 67,
   "metadata": {},
   "outputs": [],
   "source": [
    "mode = data[column].mode()\n",
    "data[column].fillna(mode[0], inplace=True)"
   ]
  },
  {
   "cell_type": "code",
   "execution_count": 68,
   "metadata": {},
   "outputs": [
    {
     "data": {
      "text/plain": [
       "0"
      ]
     },
     "execution_count": 68,
     "metadata": {},
     "output_type": "execute_result"
    }
   ],
   "source": [
    "count_missing(data[column])"
   ]
  },
  {
   "cell_type": "code",
   "execution_count": 69,
   "metadata": {},
   "outputs": [
    {
     "data": {
      "text/plain": [
       "PRIVATE             1955\n",
       "LOCAL_GOV            218\n",
       "SELF_EMP_NOT_INC     154\n",
       "STATE_GOV            120\n",
       "FEDERAL_GOV           82\n",
       "SELF_EMP_INC          69\n",
       "NEVER_WORKED           2\n",
       "WITHOUT_PAY            1\n",
       "Name: JOB_SEGMENT, dtype: int64"
      ]
     },
     "execution_count": 69,
     "metadata": {},
     "output_type": "execute_result"
    }
   ],
   "source": [
    "data['JOB_SEGMENT'].value_counts()"
   ]
  },
  {
   "cell_type": "markdown",
   "metadata": {},
   "source": [
    "Chýbajúce hodnoty v atribúte **JOB_SEGMENT** sme doplnili pomocou najčastejšie sa vyskytujúcej hodnoty."
   ]
  },
  {
   "cell_type": "code",
   "execution_count": 70,
   "metadata": {},
   "outputs": [],
   "source": [
    "column = fixWierdCharsInString('job_segment')\n",
    "mode = data[column].mode()\n",
    "data[column].fillna(mode[0], inplace=True)"
   ]
  },
  {
   "cell_type": "code",
   "execution_count": 71,
   "metadata": {},
   "outputs": [
    {
     "data": {
      "text/plain": [
       "0"
      ]
     },
     "execution_count": 71,
     "metadata": {},
     "output_type": "execute_result"
    }
   ],
   "source": [
    "count_missing(data[column])"
   ]
  },
  {
   "cell_type": "markdown",
   "metadata": {},
   "source": [
    "## TSH, T3, TT4, T4U, FTI"
   ]
  },
  {
   "cell_type": "markdown",
   "metadata": {},
   "source": [
    "V týchto atribúte budeme dopĺňať chýbajúce hodnoty pomocou stratégie modus (most_frequent) a lineárnej regresie. Tieto dve stratégie potom porovnáme. "
   ]
  },
  {
   "cell_type": "code",
   "execution_count": 72,
   "metadata": {},
   "outputs": [],
   "source": [
    "col_names = ['TSH', 'T4U', 'T3', 'TT4', 'FTI']\n",
    "for col in col_names:\n",
    "     data[col] = pd.DataFrame(imp_most_frequent.fit_transform(data.loc[:, [col]]))"
   ]
  },
  {
   "cell_type": "code",
   "execution_count": 73,
   "metadata": {
    "scrolled": true
   },
   "outputs": [
    {
     "data": {
      "text/plain": [
       "AGE                           1\n",
       "SEX                          61\n",
       "ON_THYROXINE                  0\n",
       "QUERY_ON_THYROXINE            0\n",
       "ON_ANTITHYROID_MEDICATION     0\n",
       "SICK                          0\n",
       "PREGNANT                      0\n",
       "THYROID_SURGERY               0\n",
       "I131_TREATMENT                0\n",
       "QUERY_HYPOTHYROID             0\n",
       "QUERY_HYPERTHYROID            0\n",
       "LITHIUM                       0\n",
       "GOITRE                        0\n",
       "TUMOR                         0\n",
       "HYPOPITUITARY                 0\n",
       "PSYCH                         0\n",
       "TSH_MEASURED                  0\n",
       "TSH                           0\n",
       "T3_MEASURED                   0\n",
       "T3                            0\n",
       "TT4_MEASURED                  0\n",
       "TT4                           0\n",
       "T4U_MEASURED                  0\n",
       "T4U                           0\n",
       "FTI_MEASURED                  0\n",
       "FTI                           0\n",
       "REFERRAL_SOURCE               0\n",
       "FNLWGT                        0\n",
       "EDUCATION_NUM                 0\n",
       "RELATIONSHIP                  0\n",
       "CAPITAL_GAIN                  0\n",
       "CAPITAL_LOSS                  0\n",
       "HOURS_PER_WEEK                0\n",
       "DATE_OF_BIRTH                 2\n",
       "JOB                           0\n",
       "STATE                         0\n",
       "MARITAL_STATUS                0\n",
       "JOB_SEGMENT                   0\n",
       "RACE                          0\n",
       "CLASS                         0\n",
       "dtype: int64"
      ]
     },
     "execution_count": 73,
     "metadata": {},
     "output_type": "execute_result"
    }
   ],
   "source": [
    "data.apply(count_missing)"
   ]
  },
  {
   "cell_type": "markdown",
   "metadata": {},
   "source": [
    "### Metóda k najbližších susedov"
   ]
  },
  {
   "cell_type": "code",
   "execution_count": 74,
   "metadata": {},
   "outputs": [],
   "source": [
    "##data = checkpoint_missing_data_by_columns.copy()\n",
    "if count_missing(data[col_names]).sum() > 0:\n",
    "    X_filled_knn = pd.DataFrame(KNN(k=3).complete(data[col_names]), columns=col_names)\n",
    "    #Prirad pomocou KNN\n",
    "    for col in col_names:\n",
    "        data[col] = X_filled_knn[col]"
   ]
  },
  {
   "cell_type": "code",
   "execution_count": 75,
   "metadata": {},
   "outputs": [
    {
     "data": {
      "text/plain": [
       "count    2739.000000\n",
       "mean        0.670318\n",
       "std         0.470184\n",
       "min         0.000000\n",
       "25%         0.000000\n",
       "50%         1.000000\n",
       "75%         1.000000\n",
       "max         1.000000\n",
       "Name: SEX, dtype: float64"
      ]
     },
     "execution_count": 75,
     "metadata": {},
     "output_type": "execute_result"
    }
   ],
   "source": [
    "data['SEX'].describe()"
   ]
  },
  {
   "cell_type": "code",
   "execution_count": 76,
   "metadata": {},
   "outputs": [
    {
     "name": "stdout",
     "output_type": "stream",
     "text": [
      "Imputing row 1/2800 with 0 missing, elapsed time: 0.882\n",
      "Imputing row 101/2800 with 0 missing, elapsed time: 0.883\n",
      "Imputing row 201/2800 with 0 missing, elapsed time: 0.883\n",
      "Imputing row 301/2800 with 0 missing, elapsed time: 0.884\n",
      "Imputing row 401/2800 with 0 missing, elapsed time: 0.884\n",
      "Imputing row 501/2800 with 0 missing, elapsed time: 0.885\n",
      "Imputing row 601/2800 with 0 missing, elapsed time: 0.885\n",
      "Imputing row 701/2800 with 0 missing, elapsed time: 0.886\n",
      "Imputing row 801/2800 with 0 missing, elapsed time: 0.886\n",
      "Imputing row 901/2800 with 0 missing, elapsed time: 0.887\n",
      "Imputing row 1001/2800 with 0 missing, elapsed time: 0.887\n",
      "Imputing row 1101/2800 with 0 missing, elapsed time: 0.888\n",
      "Imputing row 1201/2800 with 0 missing, elapsed time: 0.889\n",
      "Imputing row 1301/2800 with 0 missing, elapsed time: 0.891\n",
      "Imputing row 1401/2800 with 0 missing, elapsed time: 0.892\n",
      "Imputing row 1501/2800 with 0 missing, elapsed time: 0.892\n",
      "Imputing row 1601/2800 with 0 missing, elapsed time: 0.893\n",
      "Imputing row 1701/2800 with 0 missing, elapsed time: 0.893\n",
      "Imputing row 1801/2800 with 0 missing, elapsed time: 0.894\n",
      "Imputing row 1901/2800 with 0 missing, elapsed time: 0.894\n",
      "Imputing row 2001/2800 with 0 missing, elapsed time: 0.895\n",
      "Imputing row 2101/2800 with 0 missing, elapsed time: 0.895\n",
      "Imputing row 2201/2800 with 0 missing, elapsed time: 0.896\n",
      "Imputing row 2301/2800 with 0 missing, elapsed time: 0.896\n",
      "Imputing row 2401/2800 with 0 missing, elapsed time: 0.897\n",
      "Imputing row 2501/2800 with 0 missing, elapsed time: 0.897\n",
      "Imputing row 2601/2800 with 0 missing, elapsed time: 0.897\n",
      "Imputing row 2701/2800 with 0 missing, elapsed time: 0.898\n",
      "[KNN] Warning: 61/2800 still missing after imputation, replacing with 0\n"
     ]
    }
   ],
   "source": [
    "if count_missing(data['SEX']) > 0:\n",
    "    X_filled_knn = pd.DataFrame(KNN(k=3).complete(data[['SEX']]), columns=['SEX'])\n",
    "    data['SEX'] = X_filled_knn['SEX']"
   ]
  },
  {
   "cell_type": "code",
   "execution_count": 77,
   "metadata": {},
   "outputs": [
    {
     "data": {
      "text/plain": [
       "AGE                          1\n",
       "SEX                          0\n",
       "ON_THYROXINE                 0\n",
       "QUERY_ON_THYROXINE           0\n",
       "ON_ANTITHYROID_MEDICATION    0\n",
       "SICK                         0\n",
       "PREGNANT                     0\n",
       "THYROID_SURGERY              0\n",
       "I131_TREATMENT               0\n",
       "QUERY_HYPOTHYROID            0\n",
       "QUERY_HYPERTHYROID           0\n",
       "LITHIUM                      0\n",
       "GOITRE                       0\n",
       "TUMOR                        0\n",
       "HYPOPITUITARY                0\n",
       "PSYCH                        0\n",
       "TSH_MEASURED                 0\n",
       "TSH                          0\n",
       "T3_MEASURED                  0\n",
       "T3                           0\n",
       "TT4_MEASURED                 0\n",
       "TT4                          0\n",
       "T4U_MEASURED                 0\n",
       "T4U                          0\n",
       "FTI_MEASURED                 0\n",
       "FTI                          0\n",
       "REFERRAL_SOURCE              0\n",
       "FNLWGT                       0\n",
       "EDUCATION_NUM                0\n",
       "RELATIONSHIP                 0\n",
       "CAPITAL_GAIN                 0\n",
       "CAPITAL_LOSS                 0\n",
       "HOURS_PER_WEEK               0\n",
       "DATE_OF_BIRTH                2\n",
       "JOB                          0\n",
       "STATE                        0\n",
       "MARITAL_STATUS               0\n",
       "JOB_SEGMENT                  0\n",
       "RACE                         0\n",
       "CLASS                        0\n",
       "dtype: int64"
      ]
     },
     "execution_count": 77,
     "metadata": {},
     "output_type": "execute_result"
    }
   ],
   "source": [
    "data.apply(count_missing)"
   ]
  },
  {
   "cell_type": "markdown",
   "metadata": {},
   "source": [
    "Kedže nám ostali dve neznáme hodnoty pre Vek a Dátum narodenia môžeme ich odstrániť alebo dopočítať ale zbytočne si môžeme zaniesť zlé dáta. Kedže sa jedná len o dvoch pacientov tak sme sa ich rozhodli odstrániť"
   ]
  },
  {
   "cell_type": "code",
   "execution_count": 78,
   "metadata": {},
   "outputs": [],
   "source": [
    "data = data[data['DATE_OF_BIRTH'].notna()]"
   ]
  },
  {
   "cell_type": "code",
   "execution_count": 79,
   "metadata": {},
   "outputs": [
    {
     "data": {
      "text/plain": [
       "AGE                          0\n",
       "SEX                          0\n",
       "ON_THYROXINE                 0\n",
       "QUERY_ON_THYROXINE           0\n",
       "ON_ANTITHYROID_MEDICATION    0\n",
       "SICK                         0\n",
       "PREGNANT                     0\n",
       "THYROID_SURGERY              0\n",
       "I131_TREATMENT               0\n",
       "QUERY_HYPOTHYROID            0\n",
       "QUERY_HYPERTHYROID           0\n",
       "LITHIUM                      0\n",
       "GOITRE                       0\n",
       "TUMOR                        0\n",
       "HYPOPITUITARY                0\n",
       "PSYCH                        0\n",
       "TSH_MEASURED                 0\n",
       "TSH                          0\n",
       "T3_MEASURED                  0\n",
       "T3                           0\n",
       "TT4_MEASURED                 0\n",
       "TT4                          0\n",
       "T4U_MEASURED                 0\n",
       "T4U                          0\n",
       "FTI_MEASURED                 0\n",
       "FTI                          0\n",
       "REFERRAL_SOURCE              0\n",
       "FNLWGT                       0\n",
       "EDUCATION_NUM                0\n",
       "RELATIONSHIP                 0\n",
       "CAPITAL_GAIN                 0\n",
       "CAPITAL_LOSS                 0\n",
       "HOURS_PER_WEEK               0\n",
       "DATE_OF_BIRTH                0\n",
       "JOB                          0\n",
       "STATE                        0\n",
       "MARITAL_STATUS               0\n",
       "JOB_SEGMENT                  0\n",
       "RACE                         0\n",
       "CLASS                        0\n",
       "dtype: int64"
      ]
     },
     "execution_count": 79,
     "metadata": {},
     "output_type": "execute_result"
    }
   ],
   "source": [
    "data.apply(count_missing)"
   ]
  },
  {
   "cell_type": "markdown",
   "metadata": {},
   "source": [
    "# Vychýlené hodnoty\n",
    "V tejto časti sa snažíme spracovať vychýlené hodnoty numerických dát."
   ]
  },
  {
   "cell_type": "code",
   "execution_count": 80,
   "metadata": {},
   "outputs": [],
   "source": [
    "#vychylene_hodnoty_checkpoint = data.copy()"
   ]
  },
  {
   "cell_type": "code",
   "execution_count": 81,
   "metadata": {},
   "outputs": [
    {
     "data": {
      "text/plain": [
       "array([[<matplotlib.axes._subplots.AxesSubplot object at 0x1a2a5a15f8>,\n",
       "        <matplotlib.axes._subplots.AxesSubplot object at 0x1a2d4d6be0>,\n",
       "        <matplotlib.axes._subplots.AxesSubplot object at 0x1a2d542dd8>],\n",
       "       [<matplotlib.axes._subplots.AxesSubplot object at 0x1a2d48d518>,\n",
       "        <matplotlib.axes._subplots.AxesSubplot object at 0x1a2d519978>,\n",
       "        <matplotlib.axes._subplots.AxesSubplot object at 0x1a2d5199b0>],\n",
       "       [<matplotlib.axes._subplots.AxesSubplot object at 0x1a37236b38>,\n",
       "        <matplotlib.axes._subplots.AxesSubplot object at 0x1a372760b8>,\n",
       "        <matplotlib.axes._subplots.AxesSubplot object at 0x1a372419e8>],\n",
       "       [<matplotlib.axes._subplots.AxesSubplot object at 0x1a372dc4a8>,\n",
       "        <matplotlib.axes._subplots.AxesSubplot object at 0x1a37310ac8>,\n",
       "        <matplotlib.axes._subplots.AxesSubplot object at 0x1a3734f128>]],\n",
       "      dtype=object)"
      ]
     },
     "execution_count": 81,
     "metadata": {},
     "output_type": "execute_result"
    },
    {
     "data": {
      "image/png": "[encoded data removed]",
      "text/plain": [
       "<matplotlib.figure.Figure at 0x1a2a5a1828>"
      ]
     },
     "metadata": {},
     "output_type": "display_data"
    }
   ],
   "source": [
    "data.select_dtypes(exclude=['bool', 'object']).hist(figsize=(18, 12))"
   ]
  },
  {
   "cell_type": "markdown",
   "metadata": {},
   "source": [
    "Vidíme že TSH nie je normálne rozdelenie a preto ho bude treba znormalizovat"
   ]
  },
  {
   "cell_type": "code",
   "execution_count": 82,
   "metadata": {},
   "outputs": [],
   "source": [
    "column = fixWierdCharsInString('TSH')\n",
    "data_for_plot = pd.DataFrame(data[column], columns=[column])\n",
    "transformed, att = boxcox(data_for_plot[column])# boxcox vrati transformovane data a parametre transformacie. Tie viem zafixovat a v tom pripade mi to vrati len transformovane data\n",
    "data_for_plot['BOXCOX_NORM'] = pd.DataFrame(transformed)\n",
    "\n",
    "#pom = pd.Series(data_for_plot).hist(bins=50)\n",
    "#pom.set_title(\"index: TSH\")"
   ]
  },
  {
   "cell_type": "code",
   "execution_count": 83,
   "metadata": {},
   "outputs": [
    {
     "data": {
      "text/plain": [
       "array([[<matplotlib.axes._subplots.AxesSubplot object at 0x1a3763d278>,\n",
       "        <matplotlib.axes._subplots.AxesSubplot object at 0x1a375fa518>]],\n",
       "      dtype=object)"
      ]
     },
     "execution_count": 83,
     "metadata": {},
     "output_type": "execute_result"
    },
    {
     "data": {
      "image/png": "[encoded data removed]",
      "text/plain": [
       "<matplotlib.figure.Figure at 0x1a2a5b8c50>"
      ]
     },
     "metadata": {},
     "output_type": "display_data"
    }
   ],
   "source": [
    "data_for_plot.hist()"
   ]
  },
  {
   "cell_type": "code",
   "execution_count": 84,
   "metadata": {},
   "outputs": [
    {
     "data": {
      "text/plain": [
       "<matplotlib.axes._subplots.AxesSubplot at 0x1a2d47e748>"
      ]
     },
     "execution_count": 84,
     "metadata": {},
     "output_type": "execute_result"
    },
    {
     "data": {
      "image/png": "[encoded data removed]",
      "text/plain": [
       "<matplotlib.figure.Figure at 0x1a376a23c8>"
      ]
     },
     "metadata": {},
     "output_type": "display_data"
    }
   ],
   "source": [
    "data_for_plot['BOXCOX_NORM'].plot.box()"
   ]
  },
  {
   "cell_type": "markdown",
   "metadata": {},
   "source": [
    "Atribút **age** odstránenie odchýlených hodnôt."
   ]
  },
  {
   "cell_type": "code",
   "execution_count": 85,
   "metadata": {},
   "outputs": [
    {
     "data": {
      "text/plain": [
       "<matplotlib.axes._subplots.AxesSubplot at 0x1a375bf7f0>"
      ]
     },
     "execution_count": 85,
     "metadata": {},
     "output_type": "execute_result"
    },
    {
     "data": {
      "image/png": "[encoded data removed]",
      "text/plain": [
       "<matplotlib.figure.Figure at 0x1a2d4cd6a0>"
      ]
     },
     "metadata": {},
     "output_type": "display_data"
    }
   ],
   "source": [
    "data['AGE'].plot(kind=\"box\")"
   ]
  },
  {
   "cell_type": "markdown",
   "metadata": {},
   "source": [
    "Táto vychýlená hodnota vznikla pravdepodobne nesprávne odmeranými alebo vyplnenými údajmi. Skutočný vek tohto pacienta mohol byť napríklad 45 rokov, ale aj 55 rokov, no nevieme to zistiť tak sme sa rozhodli nahradiť hodnotu mediánom. "
   ]
  },
  {
   "cell_type": "code",
   "execution_count": 86,
   "metadata": {},
   "outputs": [
    {
     "data": {
      "text/plain": [
       "<matplotlib.axes._subplots.AxesSubplot at 0x1a377ea6d8>"
      ]
     },
     "execution_count": 86,
     "metadata": {},
     "output_type": "execute_result"
    },
    {
     "data": {
      "image/png": "[encoded data removed]",
      "text/plain": [
       "<matplotlib.figure.Figure at 0x1a373b58d0>"
      ]
     },
     "metadata": {},
     "output_type": "display_data"
    }
   ],
   "source": [
    "column = fixWierdCharsInString('age')\n",
    "data.loc[(data[column] < 1) | (data[column] > 100), [column]] = data[column].median()\n",
    "data['AGE'].plot(kind=\"box\")"
   ]
  },
  {
   "cell_type": "markdown",
   "metadata": {},
   "source": [
    "Ako iný spôsob odstránenia tejto vychýlenej hodnoty by sme mohli použiť nahradenie hornej vychýlenej hodnoty 95 percentilom a dolnej vychýlenej hodnoty 5 kvantilom. Takisto by sme mohli použiť aj metódu nahradenia medianom, pretože tento vek sa mohol pohybovať okolo 45, 55 rokov a to je približne median."
   ]
  },
  {
   "cell_type": "code",
   "execution_count": 87,
   "metadata": {
    "scrolled": true
   },
   "outputs": [
    {
     "name": "stdout",
     "output_type": "stream",
     "text": [
      "<class 'pandas.core.frame.DataFrame'>\n",
      "Int64Index: 2798 entries, 0 to 2799\n",
      "Data columns (total 40 columns):\n",
      "AGE                          2798 non-null float64\n",
      "SEX                          2798 non-null float64\n",
      "ON_THYROXINE                 2798 non-null bool\n",
      "QUERY_ON_THYROXINE           2798 non-null bool\n",
      "ON_ANTITHYROID_MEDICATION    2798 non-null bool\n",
      "SICK                         2798 non-null bool\n",
      "PREGNANT                     2798 non-null bool\n",
      "THYROID_SURGERY              2798 non-null bool\n",
      "I131_TREATMENT               2798 non-null bool\n",
      "QUERY_HYPOTHYROID            2798 non-null bool\n",
      "QUERY_HYPERTHYROID           2798 non-null bool\n",
      "LITHIUM                      2798 non-null bool\n",
      "GOITRE                       2798 non-null bool\n",
      "TUMOR                        2798 non-null bool\n",
      "HYPOPITUITARY                2798 non-null bool\n",
      "PSYCH                        2798 non-null bool\n",
      "TSH_MEASURED                 2798 non-null bool\n",
      "TSH                          2798 non-null float64\n",
      "T3_MEASURED                  2798 non-null bool\n",
      "T3                           2798 non-null float64\n",
      "TT4_MEASURED                 2798 non-null bool\n",
      "TT4                          2798 non-null float64\n",
      "T4U_MEASURED                 2798 non-null bool\n",
      "T4U                          2798 non-null float64\n",
      "FTI_MEASURED                 2798 non-null bool\n",
      "FTI                          2798 non-null float64\n",
      "REFERRAL_SOURCE              2798 non-null object\n",
      "FNLWGT                       2798 non-null int64\n",
      "EDUCATION_NUM                2798 non-null float64\n",
      "RELATIONSHIP                 2798 non-null object\n",
      "CAPITAL_GAIN                 2798 non-null float64\n",
      "CAPITAL_LOSS                 2798 non-null float64\n",
      "HOURS_PER_WEEK               2798 non-null int64\n",
      "DATE_OF_BIRTH                2798 non-null datetime64[ns]\n",
      "JOB                          2798 non-null object\n",
      "STATE                        2798 non-null object\n",
      "MARITAL_STATUS               2798 non-null object\n",
      "JOB_SEGMENT                  2798 non-null object\n",
      "RACE                         2798 non-null object\n",
      "CLASS                        2798 non-null object\n",
      "dtypes: bool(19), datetime64[ns](1), float64(10), int64(2), object(8)\n",
      "memory usage: 532.8+ KB\n"
     ]
    }
   ],
   "source": [
    "#data.loc[(data[column] > 100), column] = data[column].quantile(0.95) \n",
    "#data.loc[(data[column] < 1), column] = data[column].quantile(0.05)\n",
    "data['AGE'].mode()\n",
    "data.info()"
   ]
  },
  {
   "cell_type": "code",
   "execution_count": 88,
   "metadata": {},
   "outputs": [
    {
     "data": {
      "text/plain": [
       "<matplotlib.axes._subplots.AxesSubplot at 0x1a378af550>"
      ]
     },
     "execution_count": 88,
     "metadata": {},
     "output_type": "execute_result"
    },
    {
     "data": {
      "image/png": "[encoded data removed]",
      "text/plain": [
       "<matplotlib.figure.Figure at 0x1a3789add8>"
      ]
     },
     "metadata": {},
     "output_type": "display_data"
    }
   ],
   "source": [
    "col_names = ['TSH','T4U', 'T3', 'TT4', 'FTI']\n",
    "color = dict(boxes='DarkGreen', whiskers='DarkOrange', medians='DarkBlue', caps='Gray')\n",
    "data.loc[:,col_names].plot.box(color=color, sym='r+')"
   ]
  },
  {
   "cell_type": "code",
   "execution_count": 89,
   "metadata": {
    "scrolled": true
   },
   "outputs": [
    {
     "data": {
      "image/png": "[encoded data removed]",
      "text/plain": [
       "<matplotlib.figure.Figure at 0x1a379a2b70>"
      ]
     },
     "metadata": {},
     "output_type": "display_data"
    }
   ],
   "source": [
    "col_names = ['TSH','T4U', 'T3', 'TT4', 'FTI', 'CLASS']\n",
    "df_box = data.loc[:,col_names]\n",
    "bp = df_box.boxplot(by='CLASS')"
   ]
  },
  {
   "cell_type": "markdown",
   "metadata": {},
   "source": [
    "# Manuálne podmienky vyhodnocovania"
   ]
  },
  {
   "cell_type": "code",
   "execution_count": 90,
   "metadata": {
    "scrolled": true
   },
   "outputs": [
    {
     "data": {
      "image/png": "[encoded data removed]",
      "text/plain": [
       "<matplotlib.figure.Figure at 0x1a37d8eef0>"
      ]
     },
     "metadata": {},
     "output_type": "display_data"
    }
   ],
   "source": [
    "seaborn.set_style(\"darkgrid\")\n",
    "columns = ['FTI', 'TT4', 'TSH', 'T3', 'T4U', 'CLASS', 'AGE']\n",
    "lolo = data.loc[ : ,columns]\n",
    "plot = seaborn.pairplot(lolo, x_vars=['TSH', 'T4U', 'T3', 'TT4', 'FTI'], y_vars='CLASS', size=5, aspect=0.7, hue='CLASS')\n"
   ]
  },
  {
   "cell_type": "code",
   "execution_count": 91,
   "metadata": {
    "scrolled": true
   },
   "outputs": [
    {
     "data": {
      "image/png": "[encoded data removed]",
      "text/plain": [
       "<matplotlib.figure.Figure at 0x1a37d8eeb8>"
      ]
     },
     "metadata": {},
     "output_type": "display_data"
    }
   ],
   "source": [
    "columns = ['FTI', 'TT4', 'TSH', 'T3', 'T4U', 'CLASS']\n",
    "lolo = data.loc[data['CLASS']!='NEGATIVE',columns]\n",
    "g = seaborn.PairGrid(lolo, hue=\"CLASS\", palette=\"Set2\", hue_kws={\"marker\": [\"o\", \"s\", \"D\"]})\n",
    "g = g.map(plt.scatter, linewidths=1, edgecolor=\"w\", s=40)\n",
    "g = g.add_legend()"
   ]
  },
  {
   "cell_type": "code",
   "execution_count": 92,
   "metadata": {},
   "outputs": [],
   "source": [
    "def calculate_recall(tp, fn):\n",
    "     return tp / (tp + fn)\n",
    "\n",
    "def calculate_precision(tp, fp):\n",
    "    return tp / (tp + fp)\n",
    "\n",
    "def calculate_accuracy(tp, tn, fp, fn):\n",
    "    return (tn + tp)/(tn + fp + fn + tp)"
   ]
  },
  {
   "cell_type": "code",
   "execution_count": 93,
   "metadata": {},
   "outputs": [],
   "source": [
    "from sklearn.preprocessing import MultiLabelBinarizer\n",
    "from sklearn.metrics import recall_score, precision_score"
   ]
  },
  {
   "cell_type": "code",
   "execution_count": 94,
   "metadata": {
    "scrolled": false
   },
   "outputs": [
    {
     "data": {
      "text/plain": [
       "<seaborn.axisgrid.PairGrid at 0x1a38c55198>"
      ]
     },
     "execution_count": 94,
     "metadata": {},
     "output_type": "execute_result"
    },
    {
     "data": {
      "image/png": "[encoded data removed]",
      "text/plain": [
       "<matplotlib.figure.Figure at 0x1a38b8ddd8>"
      ]
     },
     "metadata": {},
     "output_type": "display_data"
    }
   ],
   "source": [
    "dataFrame = data.loc[:,['TSH', 'T4U', 'T3', 'TT4']]\n",
    "dataFrame['FTI'] = pd.to_numeric(data['FTI'], errors='coerce')\n",
    "\n",
    "column1_name = 'CLASS'\n",
    "\n",
    "dataFrame['class'] = data['CLASS']\n",
    "dataFrame = dataFrame.dropna()\n",
    "\n",
    "seaborn.pairplot(dataFrame, dropna=True, hue='class')"
   ]
  },
  {
   "cell_type": "markdown",
   "metadata": {},
   "source": [
    "Počet pacientov v jednotlivých triedach. "
   ]
  },
  {
   "cell_type": "code",
   "execution_count": 95,
   "metadata": {
    "scrolled": true
   },
   "outputs": [
    {
     "data": {
      "text/plain": [
       "NEGATIVE               2711\n",
       "UNDERREPLACEMENT         35\n",
       "REPLACEMENT_THERAPY      29\n",
       "OVERREPLACEMENT          23\n",
       "Name: CLASS, dtype: int64"
      ]
     },
     "execution_count": 95,
     "metadata": {},
     "output_type": "execute_result"
    }
   ],
   "source": [
    "data['CLASS'].value_counts()"
   ]
  },
  {
   "cell_type": "markdown",
   "metadata": {},
   "source": [
    "## Atribúty FTI, TT4, T3, T4U"
   ]
  },
  {
   "cell_type": "markdown",
   "metadata": {},
   "source": [
    "Väčšina pacientov, ktorí majú hodnoty atribútov **FTI, TT4, T3, T4U** také, ako sú špecifikované, tak sú zdravý."
   ]
  },
  {
   "cell_type": "code",
   "execution_count": 96,
   "metadata": {},
   "outputs": [
    {
     "data": {
      "text/plain": [
       "NEGATIVE            414\n",
       "UNDERREPLACEMENT      6\n",
       "Name: CLASS, dtype: int64"
      ]
     },
     "execution_count": 96,
     "metadata": {},
     "output_type": "execute_result"
    }
   ],
   "source": [
    "df = data[(data['FTI'] < 71) | (data['TT4'] < 72) | (data['T3'] > 3.6) | (data['T4U'] > 1.34)]\n",
    "df['CLASS'].value_counts()"
   ]
  },
  {
   "cell_type": "code",
   "execution_count": 97,
   "metadata": {},
   "outputs": [
    {
     "name": "stdout",
     "output_type": "stream",
     "text": [
      "Počet subjektov, ktoré nám naša podmienka našla: 420\n",
      "Počet subjektov, ktoré sme sa snažili identifikovať: 2711\n",
      "True positive: 414\n",
      "False positive: 6\n",
      "False negative: 2297\n",
      "True negative: 81\n"
     ]
    }
   ],
   "source": [
    "found_all = df['CLASS'].count()\n",
    "print(f\"Počet subjektov, ktoré nám naša podmienka našla: {found_all}\")\n",
    "\n",
    "rel_all = data[((data['CLASS'] == 'NEGATIVE'))].count()\n",
    "rel_all = rel_all['CLASS']\n",
    "rel_all\n",
    "print(f\"Počet subjektov, ktoré sme sa snažili identifikovať: {rel_all}\")\n",
    "\n",
    "tp = df[df['CLASS'] == 'NEGATIVE'].count()\n",
    "tp = tp['CLASS']\n",
    "print(f\"True positive: {tp}\")\n",
    "\n",
    "fp = found_all - tp\n",
    "print(f\"False positive: {fp}\")\n",
    "\n",
    "fn = rel_all - tp\n",
    "print(f\"False negative: {fn}\")\n",
    "\n",
    "tn = data['CLASS'].count() - found_all - fn\n",
    "print(f\"True negative: {tn}\")"
   ]
  },
  {
   "cell_type": "markdown",
   "metadata": {},
   "source": [
    "Pokrytie (recall) daného pravidla"
   ]
  },
  {
   "cell_type": "code",
   "execution_count": 98,
   "metadata": {},
   "outputs": [
    {
     "data": {
      "text/plain": [
       "0.15271117668756917"
      ]
     },
     "execution_count": 98,
     "metadata": {},
     "output_type": "execute_result"
    }
   ],
   "source": [
    "calculate_recall(tp, fn)"
   ]
  },
  {
   "cell_type": "markdown",
   "metadata": {},
   "source": [
    "Presnosť (precision) daného pravidla"
   ]
  },
  {
   "cell_type": "code",
   "execution_count": 99,
   "metadata": {},
   "outputs": [
    {
     "data": {
      "text/plain": [
       "0.9857142857142858"
      ]
     },
     "execution_count": 99,
     "metadata": {},
     "output_type": "execute_result"
    }
   ],
   "source": [
    "calculate_precision(tp, fp)"
   ]
  },
  {
   "cell_type": "markdown",
   "metadata": {},
   "source": [
    "Accuracy daného pravidla"
   ]
  },
  {
   "cell_type": "code",
   "execution_count": 100,
   "metadata": {},
   "outputs": [
    {
     "data": {
      "text/plain": [
       "0.1769120800571837"
      ]
     },
     "execution_count": 100,
     "metadata": {},
     "output_type": "execute_result"
    }
   ],
   "source": [
    "calculate_accuracy(tp, tn, fp, fn)"
   ]
  },
  {
   "cell_type": "markdown",
   "metadata": {},
   "source": [
    "Pri tejto podmienke sme sa snažili dovŕšiť čo najvyššiu presnosť vrátených dát, lebo určiť, že je pacient zdravý a pritom nie je, môže byť preňho kritické. "
   ]
  },
  {
   "cell_type": "markdown",
   "metadata": {},
   "source": [
    "### Rozpis jednotlivých atribútov (uvedieme len precision, pretože je prioritou)"
   ]
  },
  {
   "cell_type": "code",
   "execution_count": 101,
   "metadata": {},
   "outputs": [
    {
     "name": "stdout",
     "output_type": "stream",
     "text": [
      "Počet subjektov, ktoré sme sa snažili identifikovať: 2711\n"
     ]
    }
   ],
   "source": [
    "rel_all = data[((data['CLASS'] == 'NEGATIVE'))].count()\n",
    "rel_all = rel_all['CLASS']\n",
    "rel_all\n",
    "print(f\"Počet subjektov, ktoré sme sa snažili identifikovať: {rel_all}\")"
   ]
  },
  {
   "cell_type": "markdown",
   "metadata": {},
   "source": [
    "### FTI"
   ]
  },
  {
   "cell_type": "code",
   "execution_count": 102,
   "metadata": {},
   "outputs": [
    {
     "data": {
      "text/plain": [
       "NEGATIVE            133\n",
       "UNDERREPLACEMENT      3\n",
       "Name: CLASS, dtype: int64"
      ]
     },
     "execution_count": 102,
     "metadata": {},
     "output_type": "execute_result"
    }
   ],
   "source": [
    "df = data[(data['FTI'] < 71)]\n",
    "df['CLASS'].value_counts()"
   ]
  },
  {
   "cell_type": "code",
   "execution_count": 103,
   "metadata": {},
   "outputs": [
    {
     "name": "stdout",
     "output_type": "stream",
     "text": [
      "Počet subjektov, ktoré nám naša podmienka našla: 136\n",
      "True positive: 133\n",
      "False positive: 3\n"
     ]
    }
   ],
   "source": [
    "found_all = df['CLASS'].count()\n",
    "print(f\"Počet subjektov, ktoré nám naša podmienka našla: {found_all}\")\n",
    "\n",
    "tp = df[df['CLASS'] == 'NEGATIVE'].count()\n",
    "tp = tp['CLASS']\n",
    "print(f\"True positive: {tp}\")\n",
    "\n",
    "fp = found_all - tp\n",
    "print(f\"False positive: {fp}\")"
   ]
  },
  {
   "cell_type": "code",
   "execution_count": 104,
   "metadata": {},
   "outputs": [
    {
     "data": {
      "text/plain": [
       "0.9779411764705882"
      ]
     },
     "execution_count": 104,
     "metadata": {},
     "output_type": "execute_result"
    }
   ],
   "source": [
    "calculate_precision(tp, fp)"
   ]
  },
  {
   "cell_type": "markdown",
   "metadata": {},
   "source": [
    "### TT4"
   ]
  },
  {
   "cell_type": "code",
   "execution_count": 105,
   "metadata": {},
   "outputs": [
    {
     "data": {
      "text/plain": [
       "NEGATIVE            219\n",
       "UNDERREPLACEMENT      4\n",
       "Name: CLASS, dtype: int64"
      ]
     },
     "execution_count": 105,
     "metadata": {},
     "output_type": "execute_result"
    }
   ],
   "source": [
    "df = data[(data['TT4'] < 72)]\n",
    "df['CLASS'].value_counts()"
   ]
  },
  {
   "cell_type": "code",
   "execution_count": 106,
   "metadata": {},
   "outputs": [
    {
     "name": "stdout",
     "output_type": "stream",
     "text": [
      "Počet subjektov, ktoré nám naša podmienka našla: 223\n",
      "True positive: 219\n",
      "False positive: 4\n"
     ]
    }
   ],
   "source": [
    "found_all = df['CLASS'].count()\n",
    "print(f\"Počet subjektov, ktoré nám naša podmienka našla: {found_all}\")\n",
    "\n",
    "tp = df[df['CLASS'] == 'NEGATIVE'].count()\n",
    "tp = tp['CLASS']\n",
    "print(f\"True positive: {tp}\")\n",
    "\n",
    "fp = found_all - tp\n",
    "print(f\"False positive: {fp}\")"
   ]
  },
  {
   "cell_type": "code",
   "execution_count": 107,
   "metadata": {},
   "outputs": [
    {
     "data": {
      "text/plain": [
       "0.9820627802690582"
      ]
     },
     "execution_count": 107,
     "metadata": {},
     "output_type": "execute_result"
    }
   ],
   "source": [
    "calculate_precision(tp, fp)"
   ]
  },
  {
   "cell_type": "markdown",
   "metadata": {},
   "source": [
    "### T3"
   ]
  },
  {
   "cell_type": "code",
   "execution_count": 108,
   "metadata": {},
   "outputs": [
    {
     "data": {
      "text/plain": [
       "NEGATIVE    87\n",
       "Name: CLASS, dtype: int64"
      ]
     },
     "execution_count": 108,
     "metadata": {},
     "output_type": "execute_result"
    }
   ],
   "source": [
    "df = data[(data['T3'] > 3.6)]\n",
    "df['CLASS'].value_counts()"
   ]
  },
  {
   "cell_type": "code",
   "execution_count": 109,
   "metadata": {},
   "outputs": [
    {
     "name": "stdout",
     "output_type": "stream",
     "text": [
      "Počet subjektov, ktoré nám naša podmienka našla: 87\n",
      "True positive: 87\n",
      "False positive: 0\n"
     ]
    }
   ],
   "source": [
    "found_all = df['CLASS'].count()\n",
    "print(f\"Počet subjektov, ktoré nám naša podmienka našla: {found_all}\")\n",
    "\n",
    "tp = df[df['CLASS'] == 'NEGATIVE'].count()\n",
    "tp = tp['CLASS']\n",
    "print(f\"True positive: {tp}\")\n",
    "\n",
    "fp = found_all - tp\n",
    "print(f\"False positive: {fp}\")"
   ]
  },
  {
   "cell_type": "code",
   "execution_count": 110,
   "metadata": {},
   "outputs": [
    {
     "data": {
      "text/plain": [
       "1.0"
      ]
     },
     "execution_count": 110,
     "metadata": {},
     "output_type": "execute_result"
    }
   ],
   "source": [
    "calculate_precision(tp, fp)"
   ]
  },
  {
   "cell_type": "markdown",
   "metadata": {},
   "source": [
    "### T4U"
   ]
  },
  {
   "cell_type": "code",
   "execution_count": 111,
   "metadata": {},
   "outputs": [
    {
     "data": {
      "text/plain": [
       "NEGATIVE            111\n",
       "UNDERREPLACEMENT      1\n",
       "Name: CLASS, dtype: int64"
      ]
     },
     "execution_count": 111,
     "metadata": {},
     "output_type": "execute_result"
    }
   ],
   "source": [
    "df = data[(data['T4U'] > 1.36)]\n",
    "df['CLASS'].value_counts()"
   ]
  },
  {
   "cell_type": "code",
   "execution_count": 112,
   "metadata": {},
   "outputs": [
    {
     "name": "stdout",
     "output_type": "stream",
     "text": [
      "Počet subjektov, ktoré nám naša podmienka našla: 112\n",
      "True positive: 111\n",
      "False positive: 1\n"
     ]
    }
   ],
   "source": [
    "found_all = df['CLASS'].count()\n",
    "print(f\"Počet subjektov, ktoré nám naša podmienka našla: {found_all}\")\n",
    "\n",
    "tp = df[df['CLASS'] == 'NEGATIVE'].count()\n",
    "tp = tp['CLASS']\n",
    "print(f\"True positive: {tp}\")\n",
    "\n",
    "fp = found_all - tp\n",
    "print(f\"False positive: {fp}\")"
   ]
  },
  {
   "cell_type": "code",
   "execution_count": 113,
   "metadata": {},
   "outputs": [
    {
     "data": {
      "text/plain": [
       "0.9910714285714286"
      ]
     },
     "execution_count": 113,
     "metadata": {},
     "output_type": "execute_result"
    }
   ],
   "source": [
    "calculate_precision(tp, fp)"
   ]
  },
  {
   "cell_type": "markdown",
   "metadata": {},
   "source": [
    "## Kombinácie atribútov TSH, T3, FTI, T4U, TT4"
   ]
  },
  {
   "cell_type": "code",
   "execution_count": 114,
   "metadata": {},
   "outputs": [
    {
     "data": {
      "text/plain": [
       "NEGATIVE               40\n",
       "REPLACEMENT_THERAPY     3\n",
       "OVERREPLACEMENT         1\n",
       "Name: CLASS, dtype: int64"
      ]
     },
     "execution_count": 114,
     "metadata": {},
     "output_type": "execute_result"
    }
   ],
   "source": [
    "df = data[(data['TSH'] < 0.2) & (data['T4U'] < 0.8)]\n",
    "df['CLASS'].value_counts()"
   ]
  },
  {
   "cell_type": "code",
   "execution_count": 115,
   "metadata": {},
   "outputs": [
    {
     "data": {
      "text/plain": [
       "NEGATIVE            117\n",
       "UNDERREPLACEMENT      1\n",
       "Name: CLASS, dtype: int64"
      ]
     },
     "execution_count": 115,
     "metadata": {},
     "output_type": "execute_result"
    }
   ],
   "source": [
    "df = data[(data['TSH'] > 80) | ((data['TSH'] < 1) & (data['T3'] > 3.6)) | ((data['TSH'] > 40) & (data['TSH'] < 75))]\n",
    "df['CLASS'].value_counts()"
   ]
  },
  {
   "cell_type": "code",
   "execution_count": 116,
   "metadata": {},
   "outputs": [
    {
     "data": {
      "text/plain": [
       "NEGATIVE           105\n",
       "OVERREPLACEMENT      1\n",
       "Name: CLASS, dtype: int64"
      ]
     },
     "execution_count": 116,
     "metadata": {},
     "output_type": "execute_result"
    }
   ],
   "source": [
    "df = data[(data['TSH'] < 37) & (data['T3'] > 3.4)]\n",
    "df['CLASS'].value_counts()"
   ]
  },
  {
   "cell_type": "markdown",
   "metadata": {},
   "source": [
    "V nasledujúcej vzorke sme zaznamenali, že nasledovné hodnoty atribútov zaznamenali skoro všetkých pacientov, ktorí majú hodnotu **UNDERREPLACEMENT**."
   ]
  },
  {
   "cell_type": "code",
   "execution_count": 117,
   "metadata": {
    "scrolled": true
   },
   "outputs": [
    {
     "data": {
      "text/plain": [
       "NEGATIVE            228\n",
       "UNDERREPLACEMENT     34\n",
       "Name: CLASS, dtype: int64"
      ]
     },
     "execution_count": 117,
     "metadata": {},
     "output_type": "execute_result"
    }
   ],
   "source": [
    "df = data[(data['TSH'] > 5) & ((data['FTI'] > 63) & (data['FTI'] < 145))]\n",
    "test = df['CLASS']\n",
    "df['CLASS'].value_counts()"
   ]
  },
  {
   "cell_type": "code",
   "execution_count": 118,
   "metadata": {},
   "outputs": [
    {
     "name": "stdout",
     "output_type": "stream",
     "text": [
      "Počet subjektov, ktoré nám naša podmienka našla: 262\n",
      "Počet subjektov, ktoré sme sa snažili identifikovať: 35\n",
      "True positive: 34\n",
      "False positive: 228\n",
      "False negative: 1\n",
      "True negative: 2535\n"
     ]
    }
   ],
   "source": [
    "found_all = df['CLASS'].count()\n",
    "print(f\"Počet subjektov, ktoré nám naša podmienka našla: {found_all}\")\n",
    "\n",
    "rel_all = data[((data['CLASS'] == 'UNDERREPLACEMENT'))].count()\n",
    "rel_all = rel_all['CLASS']\n",
    "rel_all\n",
    "print(f\"Počet subjektov, ktoré sme sa snažili identifikovať: {rel_all}\")\n",
    "\n",
    "tp = df[df['CLASS'] == 'UNDERREPLACEMENT'].count()\n",
    "tp = tp['CLASS']\n",
    "print(f\"True positive: {tp}\")\n",
    "\n",
    "fp = found_all - tp\n",
    "print(f\"False positive: {fp}\")\n",
    "\n",
    "fn = rel_all - tp\n",
    "print(f\"False negative: {fn}\")\n",
    "\n",
    "tn = data['CLASS'].count() - found_all - fn\n",
    "print(f\"True negative: {tn}\")"
   ]
  },
  {
   "cell_type": "markdown",
   "metadata": {},
   "source": [
    "Pokrytie (recall) daného pravidla"
   ]
  },
  {
   "cell_type": "code",
   "execution_count": 119,
   "metadata": {},
   "outputs": [
    {
     "data": {
      "text/plain": [
       "0.9714285714285714"
      ]
     },
     "execution_count": 119,
     "metadata": {},
     "output_type": "execute_result"
    }
   ],
   "source": [
    "calculate_recall(tp, fn)"
   ]
  },
  {
   "cell_type": "markdown",
   "metadata": {},
   "source": [
    "Presnosť (precision) daného pravidla"
   ]
  },
  {
   "cell_type": "code",
   "execution_count": 120,
   "metadata": {},
   "outputs": [
    {
     "data": {
      "text/plain": [
       "0.1297709923664122"
      ]
     },
     "execution_count": 120,
     "metadata": {},
     "output_type": "execute_result"
    }
   ],
   "source": [
    "calculate_precision(tp, fp)"
   ]
  },
  {
   "cell_type": "markdown",
   "metadata": {},
   "source": [
    "Accuracy daného pravidla"
   ]
  },
  {
   "cell_type": "code",
   "execution_count": 121,
   "metadata": {},
   "outputs": [
    {
     "data": {
      "text/plain": [
       "0.918155825589707"
      ]
     },
     "execution_count": 121,
     "metadata": {},
     "output_type": "execute_result"
    }
   ],
   "source": [
    "calculate_accuracy(tp, tn, fp, fn)"
   ]
  },
  {
   "cell_type": "markdown",
   "metadata": {},
   "source": [
    "Z pozorovania vidíme, že dosiahnuté pokrytie je veľmi vysoké a naopak, presnosť je veľmi nízka. Pri našich dátach je prioritou dosiahnuť vyššie pokrytie. "
   ]
  },
  {
   "cell_type": "markdown",
   "metadata": {},
   "source": [
    "V nasledujúcej vzorke sme zaznamenali, že nasledovné hodnoty atribútov zaznamenali väčšinu pacientov, ktorí majú hodnotu **OVERREPLACEMENT** alebo **REPLACEMENT_THERAPY**. Týmto pravidlom sme chceli vyselektovať pacientov, ktorí nie sú zdraví, teda patria do jednej z tried **OVERREPLACEMENT, REPLACEMENT_THERAPY**."
   ]
  },
  {
   "cell_type": "code",
   "execution_count": 122,
   "metadata": {},
   "outputs": [
    {
     "data": {
      "text/plain": [
       "NEGATIVE               99\n",
       "REPLACEMENT_THERAPY    26\n",
       "OVERREPLACEMENT        22\n",
       "Name: CLASS, dtype: int64"
      ]
     },
     "execution_count": 122,
     "metadata": {},
     "output_type": "execute_result"
    }
   ],
   "source": [
    "df = data[(data['TSH'] < 1) & ((data['FTI'] > 155) & (data['FTI'] < 225))]\n",
    "df['CLASS'].value_counts()"
   ]
  },
  {
   "cell_type": "markdown",
   "metadata": {},
   "source": [
    "## Atribúty ON_ANTITHYROID_MEDICATION, I131_TREATMENT, LITHIUM, THYROID_SURGERY"
   ]
  },
  {
   "cell_type": "markdown",
   "metadata": {},
   "source": [
    "Z nasledujúcej vzorky môžme povedať, že väčšina pacientov, ktorí boli na nejakej forme liečenia, alebo na operácii štítnej žlazy, tak sú zdravý."
   ]
  },
  {
   "cell_type": "code",
   "execution_count": 123,
   "metadata": {},
   "outputs": [
    {
     "data": {
      "text/plain": [
       "NEGATIVE               128\n",
       "REPLACEMENT_THERAPY      3\n",
       "UNDERREPLACEMENT         2\n",
       "Name: CLASS, dtype: int64"
      ]
     },
     "execution_count": 123,
     "metadata": {},
     "output_type": "execute_result"
    }
   ],
   "source": [
    "df = data[\n",
    "    (data['ON_ANTITHYROID_MEDICATION'] == True) | # nejaká liečba štítnej žlazy\n",
    "    (data['I131_TREATMENT'] == True) |    # liečba rádiojódom\n",
    "    (data['LITHIUM'] == True) |    # užíval lithium\n",
    "    (data['THYROID_SURGERY'] == True)   # operácia štítnej žlazy\n",
    "]\n",
    "df['CLASS'].value_counts()"
   ]
  },
  {
   "cell_type": "code",
   "execution_count": 124,
   "metadata": {},
   "outputs": [
    {
     "name": "stdout",
     "output_type": "stream",
     "text": [
      "Počet subjektov, ktoré nám naša podmienka našla: 133\n",
      "Počet subjektov, ktoré sme sa snažili identifikovať: 2711\n",
      "True positive: 128\n",
      "False positive: 5\n",
      "False negative: 2583\n",
      "True negative: 82\n"
     ]
    }
   ],
   "source": [
    "found_all = df['CLASS'].count()\n",
    "print(f\"Počet subjektov, ktoré nám naša podmienka našla: {found_all}\")\n",
    "\n",
    "rel_all = data[((data['CLASS'] == 'NEGATIVE'))].count()\n",
    "rel_all = rel_all['CLASS']\n",
    "rel_all\n",
    "print(f\"Počet subjektov, ktoré sme sa snažili identifikovať: {rel_all}\")\n",
    "\n",
    "tp = df[df['CLASS'] == 'NEGATIVE'].count()\n",
    "tp = tp['CLASS']\n",
    "print(f\"True positive: {tp}\")\n",
    "\n",
    "fp = found_all - tp\n",
    "print(f\"False positive: {fp}\")\n",
    "\n",
    "fn = rel_all - tp\n",
    "print(f\"False negative: {fn}\")\n",
    "\n",
    "tn = data['CLASS'].count() - found_all - fn\n",
    "print(f\"True negative: {tn}\")"
   ]
  },
  {
   "cell_type": "markdown",
   "metadata": {},
   "source": [
    "Pokrytie (recall) daného pravidla"
   ]
  },
  {
   "cell_type": "code",
   "execution_count": 125,
   "metadata": {},
   "outputs": [
    {
     "data": {
      "text/plain": [
       "0.047215049797122835"
      ]
     },
     "execution_count": 125,
     "metadata": {},
     "output_type": "execute_result"
    }
   ],
   "source": [
    "calculate_recall(tp, fn)"
   ]
  },
  {
   "cell_type": "markdown",
   "metadata": {},
   "source": [
    "Presnosť (precision) daného pravidla"
   ]
  },
  {
   "cell_type": "code",
   "execution_count": 126,
   "metadata": {},
   "outputs": [
    {
     "data": {
      "text/plain": [
       "0.9624060150375939"
      ]
     },
     "execution_count": 126,
     "metadata": {},
     "output_type": "execute_result"
    }
   ],
   "source": [
    "calculate_precision(tp, fp)"
   ]
  },
  {
   "cell_type": "markdown",
   "metadata": {},
   "source": [
    "Accuracy daného pravidla"
   ]
  },
  {
   "cell_type": "code",
   "execution_count": 127,
   "metadata": {},
   "outputs": [
    {
     "data": {
      "text/plain": [
       "0.07505360972122944"
      ]
     },
     "execution_count": 127,
     "metadata": {},
     "output_type": "execute_result"
    }
   ],
   "source": [
    "calculate_accuracy(tp, tn, fp, fn)"
   ]
  },
  {
   "cell_type": "markdown",
   "metadata": {},
   "source": [
    "Európania v našom datasete sú zdravý. (nič divné, kedže európania tvoria len veľmi malú časť datasetu)."
   ]
  },
  {
   "cell_type": "code",
   "execution_count": 128,
   "metadata": {},
   "outputs": [
    {
     "data": {
      "text/plain": [
       "Series([], Name: CLASS, dtype: int64)"
      ]
     },
     "execution_count": 128,
     "metadata": {},
     "output_type": "execute_result"
    }
   ],
   "source": [
    "data['STATE'].value_counts()\n",
    "df = data[(data['STATE'] == 'GERMANY') | \n",
    "          (data['STATE'] == 'POLAND') | \n",
    "          (data['STATE'] == 'ENGLAND') |\n",
    "          (data['STATE'] == 'ENGLAND') |\n",
    "          (data['STATE'] == 'ITALY') |\n",
    "          (data['STATE'] == 'GREECE') | \n",
    "          (data['STATE'] == 'SCOTLAND') \n",
    "         ]\n",
    "df['CLASS'].value_counts()"
   ]
  },
  {
   "cell_type": "markdown",
   "metadata": {},
   "source": [
    "Podľa očakávaní došlo medzi výsledkami z testovacích a trénovacích dát k malému rozdielu, ktorý je spôsobený menším množstvom vzoriek v testovacích dátach. Pri testovacích dátach sme zaznamenali hodnoty metrík recall, precision a accuracy o veľmi zanedbatelnú hodnotu odlišné výsledky ako pri trénovacích dátach. Z tohto vieme usúdiť, že manuálne podmienky na vyhodnocovanie, ktoré sme našli pracujú podľa očakávaní. "
   ]
  },
  {
   "cell_type": "markdown",
   "metadata": {},
   "source": [
    "## Porovanie metrík pre jednotlivé podmienky"
   ]
  },
  {
   "cell_type": "markdown",
   "metadata": {},
   "source": [
    "### 1. pravidlo"
   ]
  },
  {
   "cell_type": "markdown",
   "metadata": {},
   "source": [
    "Trénovacie dáta"
   ]
  },
  {
   "cell_type": "markdown",
   "metadata": {},
   "source": [
    "recall - 0.15271117668756917 \n",
    "precision - 0.9857142857142858 \n",
    "accuracy - 0.1769120800571837 "
   ]
  },
  {
   "cell_type": "markdown",
   "metadata": {},
   "source": [
    "Testovacie dáta"
   ]
  },
  {
   "cell_type": "markdown",
   "metadata": {},
   "source": [
    "recall - 0.17326203208556148\n",
    "precision - 0.98181818181818\n",
    "accuracy - 0.20164609053497942"
   ]
  },
  {
   "cell_type": "markdown",
   "metadata": {},
   "source": [
    "### 2. pravidlo"
   ]
  },
  {
   "cell_type": "markdown",
   "metadata": {},
   "source": [
    "Trénovacie dáta"
   ]
  },
  {
   "cell_type": "markdown",
   "metadata": {},
   "source": [
    "recall - 0.9714285714285714 \n",
    "precision - 0.1297709923664122 \n",
    "accuracy - 0.918155825589707 "
   ]
  },
  {
   "cell_type": "markdown",
   "metadata": {},
   "source": [
    "Testovacie dáta"
   ]
  },
  {
   "cell_type": "markdown",
   "metadata": {},
   "source": [
    "recall - 1.0 \n",
    "precision - 0.22077922077922077 \n",
    "accuracy - 0.9382716049382716"
   ]
  },
  {
   "cell_type": "markdown",
   "metadata": {},
   "source": [
    "### 3. pravidlo"
   ]
  },
  {
   "cell_type": "markdown",
   "metadata": {},
   "source": [
    "Trénovacie dáta"
   ]
  },
  {
   "cell_type": "markdown",
   "metadata": {},
   "source": [
    "recall - 0.047215049797122835 \n",
    "precision - 0.9624060150375939 \n",
    "accuracy - 0.07505360972122944 "
   ]
  },
  {
   "cell_type": "markdown",
   "metadata": {},
   "source": [
    "Testovacie dáta"
   ]
  },
  {
   "cell_type": "markdown",
   "metadata": {},
   "source": [
    "recall - 0.038502673796791446\n",
    "precision - 0.972972972972973\n",
    "accuracy - 0.07407407407407407"
   ]
  },
  {
   "cell_type": "markdown",
   "metadata": {},
   "source": [
    "# Prieskumná analýza podstatných častí"
   ]
  },
  {
   "cell_type": "markdown",
   "metadata": {},
   "source": [
    "V tejto časti sa budeme venovať analýze podstatných atribútov po ich spracovaní. "
   ]
  },
  {
   "cell_type": "code",
   "execution_count": 129,
   "metadata": {},
   "outputs": [
    {
     "name": "stdout",
     "output_type": "stream",
     "text": [
      "Index name ID\n",
      "Index(['AGE', 'SEX', 'ON_THYROXINE', 'QUERY_ON_THYROXINE',\n",
      "       'ON_ANTITHYROID_MEDICATION', 'SICK', 'PREGNANT', 'THYROID_SURGERY',\n",
      "       'I131_TREATMENT', 'QUERY_HYPOTHYROID', 'QUERY_HYPERTHYROID', 'LITHIUM',\n",
      "       'GOITRE', 'TUMOR', 'HYPOPITUITARY', 'PSYCH', 'TSH_MEASURED', 'TSH',\n",
      "       'T3_MEASURED', 'T3', 'TT4_MEASURED', 'TT4', 'T4U_MEASURED', 'T4U',\n",
      "       'FTI_MEASURED', 'FTI', 'TBG_MEASURED', 'TBG', 'REFERRAL_SOURCE',\n",
      "       'CLASS', 'FNLWGT', 'EDUCATION', 'EDUCATION_NUM', 'RELATIONSHIP',\n",
      "       'CAPITAL_GAIN', 'CAPITAL_LOSS', 'HOURS_PER_WEEK', 'DATE_OF_BIRTH',\n",
      "       'PERSONAL_INFO'],\n",
      "      dtype='object')\n"
     ]
    }
   ],
   "source": [
    "old_data = init_dataset(train_file)"
   ]
  },
  {
   "cell_type": "code",
   "execution_count": 130,
   "metadata": {},
   "outputs": [
    {
     "name": "stdout",
     "output_type": "stream",
     "text": [
      "Počet stĺpcov a riadkov v starom datasete\n"
     ]
    },
    {
     "data": {
      "text/plain": [
       "(2800, 39)"
      ]
     },
     "execution_count": 130,
     "metadata": {},
     "output_type": "execute_result"
    }
   ],
   "source": [
    "print(\"Počet stĺpcov a riadkov v starom datasete\")\n",
    "old_data.shape"
   ]
  },
  {
   "cell_type": "code",
   "execution_count": 131,
   "metadata": {},
   "outputs": [
    {
     "name": "stdout",
     "output_type": "stream",
     "text": [
      "Počet stĺpcov a riadkovv novom datasete\n"
     ]
    },
    {
     "data": {
      "text/plain": [
       "(2798, 40)"
      ]
     },
     "execution_count": 131,
     "metadata": {},
     "output_type": "execute_result"
    }
   ],
   "source": [
    "print(\"Počet stĺpcov a riadkovv novom datasete\")\n",
    "data.shape"
   ]
  },
  {
   "cell_type": "markdown",
   "metadata": {},
   "source": [
    "Nezaznamenávame žiadne chýbajúce hodnoty."
   ]
  },
  {
   "cell_type": "code",
   "execution_count": 132,
   "metadata": {},
   "outputs": [
    {
     "data": {
      "text/plain": [
       "0"
      ]
     },
     "execution_count": 132,
     "metadata": {},
     "output_type": "execute_result"
    }
   ],
   "source": [
    "data.shape[0] - data.dropna().shape[0]"
   ]
  },
  {
   "cell_type": "markdown",
   "metadata": {},
   "source": [
    "Dátové typy jednotlivých atribútov"
   ]
  },
  {
   "cell_type": "code",
   "execution_count": 133,
   "metadata": {},
   "outputs": [
    {
     "name": "stdout",
     "output_type": "stream",
     "text": [
      "<class 'pandas.core.frame.DataFrame'>\n",
      "Int64Index: 2800 entries, 0 to 2799\n",
      "Data columns (total 39 columns):\n",
      "AGE                          2799 non-null float64\n",
      "SEX                          2800 non-null object\n",
      "ON_THYROXINE                 2800 non-null object\n",
      "QUERY_ON_THYROXINE           2800 non-null object\n",
      "ON_ANTITHYROID_MEDICATION    2800 non-null object\n",
      "SICK                         2800 non-null object\n",
      "PREGNANT                     2800 non-null object\n",
      "THYROID_SURGERY              2800 non-null object\n",
      "I131_TREATMENT               2800 non-null object\n",
      "QUERY_HYPOTHYROID            2800 non-null object\n",
      "QUERY_HYPERTHYROID           2800 non-null object\n",
      "LITHIUM                      2800 non-null object\n",
      "GOITRE                       2800 non-null object\n",
      "TUMOR                        2800 non-null object\n",
      "HYPOPITUITARY                2800 non-null object\n",
      "PSYCH                        2800 non-null object\n",
      "TSH_MEASURED                 2800 non-null object\n",
      "TSH                          2516 non-null float64\n",
      "T3_MEASURED                  2800 non-null object\n",
      "T3                           2215 non-null float64\n",
      "TT4_MEASURED                 2800 non-null object\n",
      "TT4                          2616 non-null float64\n",
      "T4U_MEASURED                 2800 non-null object\n",
      "T4U                          2503 non-null float64\n",
      "FTI_MEASURED                 2800 non-null object\n",
      "FTI                          2800 non-null object\n",
      "TBG_MEASURED                 2800 non-null object\n",
      "TBG                          2800 non-null object\n",
      "REFERRAL_SOURCE              2800 non-null object\n",
      "CLASS                        2800 non-null object\n",
      "FNLWGT                       2800 non-null int64\n",
      "EDUCATION                    2800 non-null object\n",
      "EDUCATION_NUM                2800 non-null int64\n",
      "RELATIONSHIP                 2800 non-null object\n",
      "CAPITAL_GAIN                 2520 non-null float64\n",
      "CAPITAL_LOSS                 2800 non-null int64\n",
      "HOURS_PER_WEEK               2800 non-null int64\n",
      "DATE_OF_BIRTH                2610 non-null object\n",
      "PERSONAL_INFO                2800 non-null object\n",
      "dtypes: float64(6), int64(4), object(29)\n",
      "memory usage: 875.0+ KB\n"
     ]
    }
   ],
   "source": [
    "old_data.info()"
   ]
  },
  {
   "cell_type": "code",
   "execution_count": 134,
   "metadata": {
    "scrolled": true
   },
   "outputs": [
    {
     "name": "stdout",
     "output_type": "stream",
     "text": [
      "<class 'pandas.core.frame.DataFrame'>\n",
      "Int64Index: 2798 entries, 0 to 2799\n",
      "Data columns (total 40 columns):\n",
      "AGE                          2798 non-null float64\n",
      "SEX                          2798 non-null float64\n",
      "ON_THYROXINE                 2798 non-null bool\n",
      "QUERY_ON_THYROXINE           2798 non-null bool\n",
      "ON_ANTITHYROID_MEDICATION    2798 non-null bool\n",
      "SICK                         2798 non-null bool\n",
      "PREGNANT                     2798 non-null bool\n",
      "THYROID_SURGERY              2798 non-null bool\n",
      "I131_TREATMENT               2798 non-null bool\n",
      "QUERY_HYPOTHYROID            2798 non-null bool\n",
      "QUERY_HYPERTHYROID           2798 non-null bool\n",
      "LITHIUM                      2798 non-null bool\n",
      "GOITRE                       2798 non-null bool\n",
      "TUMOR                        2798 non-null bool\n",
      "HYPOPITUITARY                2798 non-null bool\n",
      "PSYCH                        2798 non-null bool\n",
      "TSH_MEASURED                 2798 non-null bool\n",
      "TSH                          2798 non-null float64\n",
      "T3_MEASURED                  2798 non-null bool\n",
      "T3                           2798 non-null float64\n",
      "TT4_MEASURED                 2798 non-null bool\n",
      "TT4                          2798 non-null float64\n",
      "T4U_MEASURED                 2798 non-null bool\n",
      "T4U                          2798 non-null float64\n",
      "FTI_MEASURED                 2798 non-null bool\n",
      "FTI                          2798 non-null float64\n",
      "REFERRAL_SOURCE              2798 non-null object\n",
      "FNLWGT                       2798 non-null int64\n",
      "EDUCATION_NUM                2798 non-null float64\n",
      "RELATIONSHIP                 2798 non-null object\n",
      "CAPITAL_GAIN                 2798 non-null float64\n",
      "CAPITAL_LOSS                 2798 non-null float64\n",
      "HOURS_PER_WEEK               2798 non-null int64\n",
      "DATE_OF_BIRTH                2798 non-null datetime64[ns]\n",
      "JOB                          2798 non-null object\n",
      "STATE                        2798 non-null object\n",
      "MARITAL_STATUS               2798 non-null object\n",
      "JOB_SEGMENT                  2798 non-null object\n",
      "RACE                         2798 non-null object\n",
      "CLASS                        2798 non-null object\n",
      "dtypes: bool(19), datetime64[ns](1), float64(10), int64(2), object(8)\n",
      "memory usage: 612.8+ KB\n"
     ]
    }
   ],
   "source": [
    "data.info()"
   ]
  },
  {
   "cell_type": "markdown",
   "metadata": {},
   "source": [
    "### Porovanie deskriptívnych štatistík pri starých a nových dátach"
   ]
  },
  {
   "cell_type": "markdown",
   "metadata": {},
   "source": [
    "Staré dáta"
   ]
  },
  {
   "cell_type": "code",
   "execution_count": 135,
   "metadata": {},
   "outputs": [
    {
     "name": "stdout",
     "output_type": "stream",
     "text": [
      "SEX : 3\n",
      "ON_THYROXINE : 6\n",
      "QUERY_ON_THYROXINE : 2\n",
      "ON_ANTITHYROID_MEDICATION : 2\n",
      "SICK : 2\n",
      "PREGNANT : 2\n",
      "THYROID_SURGERY : 2\n",
      "I131_TREATMENT : 2\n",
      "QUERY_HYPOTHYROID : 2\n",
      "QUERY_HYPERTHYROID : 2\n",
      "LITHIUM : 2\n",
      "GOITRE : 2\n",
      "TUMOR : 2\n",
      "HYPOPITUITARY : 2\n",
      "PSYCH : 2\n",
      "TSH_MEASURED : 2\n",
      "T3_MEASURED : 2\n",
      "TT4_MEASURED : 2\n",
      "T4U_MEASURED : 2\n",
      "FTI_MEASURED : 2\n",
      "FTI : 210\n",
      "TBG_MEASURED : 1\n",
      "TBG : 1\n",
      "REFERRAL_SOURCE : 5\n",
      "CLASS : 2800\n",
      "EDUCATION : 16\n",
      "RELATIONSHIP : 9\n",
      "DATE_OF_BIRTH : 2456\n",
      "PERSONAL_INFO : 700\n"
     ]
    }
   ],
   "source": [
    "checkAllObjectType(old_data)"
   ]
  },
  {
   "cell_type": "code",
   "execution_count": 136,
   "metadata": {},
   "outputs": [
    {
     "name": "stdout",
     "output_type": "stream",
     "text": [
      "REFERRAL_SOURCE : 5\n",
      "RELATIONSHIP : 6\n",
      "JOB : 13\n",
      "STATE : 2\n",
      "MARITAL_STATUS : 7\n",
      "JOB_SEGMENT : 8\n",
      "RACE : 5\n",
      "CLASS : 4\n"
     ]
    }
   ],
   "source": [
    "checkAllObjectType(data)"
   ]
  },
  {
   "cell_type": "code",
   "execution_count": 137,
   "metadata": {},
   "outputs": [
    {
     "data": {
      "text/html": [
       "<div>\n",
       "<style scoped>\n",
       "    .dataframe tbody tr th:only-of-type {\n",
       "        vertical-align: middle;\n",
       "    }\n",
       "\n",
       "    .dataframe tbody tr th {\n",
       "        vertical-align: top;\n",
       "    }\n",
       "\n",
       "    .dataframe thead th {\n",
       "        text-align: right;\n",
       "    }\n",
       "</style>\n",
       "<table border=\"1\" class=\"dataframe\">\n",
       "  <thead>\n",
       "    <tr style=\"text-align: right;\">\n",
       "      <th></th>\n",
       "      <th>AGE</th>\n",
       "      <th>SEX</th>\n",
       "      <th>TSH</th>\n",
       "      <th>T3</th>\n",
       "      <th>TT4</th>\n",
       "      <th>T4U</th>\n",
       "      <th>FTI</th>\n",
       "      <th>FNLWGT</th>\n",
       "      <th>EDUCATION_NUM</th>\n",
       "      <th>CAPITAL_GAIN</th>\n",
       "      <th>CAPITAL_LOSS</th>\n",
       "      <th>HOURS_PER_WEEK</th>\n",
       "    </tr>\n",
       "  </thead>\n",
       "  <tbody>\n",
       "    <tr>\n",
       "      <th>count</th>\n",
       "      <td>2798.000000</td>\n",
       "      <td>2798.000000</td>\n",
       "      <td>2798.000000</td>\n",
       "      <td>2798.000000</td>\n",
       "      <td>2798.000000</td>\n",
       "      <td>2798.000000</td>\n",
       "      <td>2798.000000</td>\n",
       "      <td>2.798000e+03</td>\n",
       "      <td>2798.000000</td>\n",
       "      <td>2798.000000</td>\n",
       "      <td>2798.000000</td>\n",
       "      <td>2798.000000</td>\n",
       "    </tr>\n",
       "    <tr>\n",
       "      <th>mean</th>\n",
       "      <td>51.700143</td>\n",
       "      <td>0.655468</td>\n",
       "      <td>4.220954</td>\n",
       "      <td>2.019943</td>\n",
       "      <td>108.534453</td>\n",
       "      <td>0.997089</td>\n",
       "      <td>109.640422</td>\n",
       "      <td>1.871588e+05</td>\n",
       "      <td>10.050393</td>\n",
       "      <td>794.215154</td>\n",
       "      <td>65.188349</td>\n",
       "      <td>38.550393</td>\n",
       "    </tr>\n",
       "    <tr>\n",
       "      <th>std</th>\n",
       "      <td>18.991516</td>\n",
       "      <td>0.475300</td>\n",
       "      <td>20.384048</td>\n",
       "      <td>0.733650</td>\n",
       "      <td>34.278902</td>\n",
       "      <td>0.183822</td>\n",
       "      <td>31.282207</td>\n",
       "      <td>1.039413e+05</td>\n",
       "      <td>2.471134</td>\n",
       "      <td>6573.990722</td>\n",
       "      <td>346.858846</td>\n",
       "      <td>12.038705</td>\n",
       "    </tr>\n",
       "    <tr>\n",
       "      <th>min</th>\n",
       "      <td>1.000000</td>\n",
       "      <td>0.000000</td>\n",
       "      <td>0.005000</td>\n",
       "      <td>0.050000</td>\n",
       "      <td>2.000000</td>\n",
       "      <td>0.310000</td>\n",
       "      <td>2.000000</td>\n",
       "      <td>1.970000e+04</td>\n",
       "      <td>1.000000</td>\n",
       "      <td>0.000000</td>\n",
       "      <td>0.000000</td>\n",
       "      <td>1.000000</td>\n",
       "    </tr>\n",
       "    <tr>\n",
       "      <th>25%</th>\n",
       "      <td>36.000000</td>\n",
       "      <td>0.000000</td>\n",
       "      <td>0.200000</td>\n",
       "      <td>1.700000</td>\n",
       "      <td>89.000000</td>\n",
       "      <td>0.890000</td>\n",
       "      <td>95.000000</td>\n",
       "      <td>1.179065e+05</td>\n",
       "      <td>9.000000</td>\n",
       "      <td>0.000000</td>\n",
       "      <td>0.000000</td>\n",
       "      <td>35.000000</td>\n",
       "    </tr>\n",
       "    <tr>\n",
       "      <th>50%</th>\n",
       "      <td>54.000000</td>\n",
       "      <td>1.000000</td>\n",
       "      <td>1.200000</td>\n",
       "      <td>2.000000</td>\n",
       "      <td>102.000000</td>\n",
       "      <td>0.990000</td>\n",
       "      <td>104.000000</td>\n",
       "      <td>1.766780e+05</td>\n",
       "      <td>10.000000</td>\n",
       "      <td>0.000000</td>\n",
       "      <td>0.000000</td>\n",
       "      <td>40.000000</td>\n",
       "    </tr>\n",
       "    <tr>\n",
       "      <th>75%</th>\n",
       "      <td>67.000000</td>\n",
       "      <td>1.000000</td>\n",
       "      <td>2.400000</td>\n",
       "      <td>2.300000</td>\n",
       "      <td>123.000000</td>\n",
       "      <td>1.070000</td>\n",
       "      <td>122.000000</td>\n",
       "      <td>2.327012e+05</td>\n",
       "      <td>12.000000</td>\n",
       "      <td>0.000000</td>\n",
       "      <td>0.000000</td>\n",
       "      <td>40.000000</td>\n",
       "    </tr>\n",
       "    <tr>\n",
       "      <th>max</th>\n",
       "      <td>94.000000</td>\n",
       "      <td>1.000000</td>\n",
       "      <td>478.000000</td>\n",
       "      <td>10.600000</td>\n",
       "      <td>430.000000</td>\n",
       "      <td>2.120000</td>\n",
       "      <td>395.000000</td>\n",
       "      <td>1.161363e+06</td>\n",
       "      <td>16.000000</td>\n",
       "      <td>99999.000000</td>\n",
       "      <td>4356.000000</td>\n",
       "      <td>99.000000</td>\n",
       "    </tr>\n",
       "  </tbody>\n",
       "</table>\n",
       "</div>"
      ],
      "text/plain": [
       "               AGE          SEX          TSH           T3          TT4  \\\n",
       "count  2798.000000  2798.000000  2798.000000  2798.000000  2798.000000   \n",
       "mean     51.700143     0.655468     4.220954     2.019943   108.534453   \n",
       "std      18.991516     0.475300    20.384048     0.733650    34.278902   \n",
       "min       1.000000     0.000000     0.005000     0.050000     2.000000   \n",
       "25%      36.000000     0.000000     0.200000     1.700000    89.000000   \n",
       "50%      54.000000     1.000000     1.200000     2.000000   102.000000   \n",
       "75%      67.000000     1.000000     2.400000     2.300000   123.000000   \n",
       "max      94.000000     1.000000   478.000000    10.600000   430.000000   \n",
       "\n",
       "               T4U          FTI        FNLWGT  EDUCATION_NUM  CAPITAL_GAIN  \\\n",
       "count  2798.000000  2798.000000  2.798000e+03    2798.000000   2798.000000   \n",
       "mean      0.997089   109.640422  1.871588e+05      10.050393    794.215154   \n",
       "std       0.183822    31.282207  1.039413e+05       2.471134   6573.990722   \n",
       "min       0.310000     2.000000  1.970000e+04       1.000000      0.000000   \n",
       "25%       0.890000    95.000000  1.179065e+05       9.000000      0.000000   \n",
       "50%       0.990000   104.000000  1.766780e+05      10.000000      0.000000   \n",
       "75%       1.070000   122.000000  2.327012e+05      12.000000      0.000000   \n",
       "max       2.120000   395.000000  1.161363e+06      16.000000  99999.000000   \n",
       "\n",
       "       CAPITAL_LOSS  HOURS_PER_WEEK  \n",
       "count   2798.000000     2798.000000  \n",
       "mean      65.188349       38.550393  \n",
       "std      346.858846       12.038705  \n",
       "min        0.000000        1.000000  \n",
       "25%        0.000000       35.000000  \n",
       "50%        0.000000       40.000000  \n",
       "75%        0.000000       40.000000  \n",
       "max     4356.000000       99.000000  "
      ]
     },
     "execution_count": 137,
     "metadata": {},
     "output_type": "execute_result"
    }
   ],
   "source": [
    "data.select_dtypes(exclude=['object','datetime64','bool']).describe(include='all')"
   ]
  },
  {
   "cell_type": "markdown",
   "metadata": {},
   "source": [
    "## Atribúty TSH, TT4, T3, FTI, T4U "
   ]
  },
  {
   "cell_type": "markdown",
   "metadata": {},
   "source": [
    "Tieto atribúty považujeme za podstatné pre to, lebo sme pri nich dokázali určiť manuálne pravidlá, ktoré nám klasifikujú pacientov do jednotlivých tried. Od týchto atribútov nám závisí aj predikovaná hodnota. "
   ]
  },
  {
   "cell_type": "code",
   "execution_count": 138,
   "metadata": {},
   "outputs": [],
   "source": [
    "df_old = old_data.loc[:, ['TSH', 'TT4', 'T3', 'T4U', 'FTI']]\n",
    "df = data.loc[:, ['TSH', 'TT4', 'T3', 'T4U', 'FTI']]"
   ]
  },
  {
   "cell_type": "markdown",
   "metadata": {},
   "source": [
    "### Deskriptívne štatistiky"
   ]
  },
  {
   "cell_type": "code",
   "execution_count": 139,
   "metadata": {},
   "outputs": [
    {
     "data": {
      "text/html": [
       "<div>\n",
       "<style scoped>\n",
       "    .dataframe tbody tr th:only-of-type {\n",
       "        vertical-align: middle;\n",
       "    }\n",
       "\n",
       "    .dataframe tbody tr th {\n",
       "        vertical-align: top;\n",
       "    }\n",
       "\n",
       "    .dataframe thead th {\n",
       "        text-align: right;\n",
       "    }\n",
       "</style>\n",
       "<table border=\"1\" class=\"dataframe\">\n",
       "  <thead>\n",
       "    <tr style=\"text-align: right;\">\n",
       "      <th></th>\n",
       "      <th>TSH</th>\n",
       "      <th>TT4</th>\n",
       "      <th>T3</th>\n",
       "      <th>T4U</th>\n",
       "      <th>FTI</th>\n",
       "    </tr>\n",
       "  </thead>\n",
       "  <tbody>\n",
       "    <tr>\n",
       "      <th>count</th>\n",
       "      <td>2516.000000</td>\n",
       "      <td>2616.000000</td>\n",
       "      <td>2215.000000</td>\n",
       "      <td>2503.000000</td>\n",
       "      <td>2800</td>\n",
       "    </tr>\n",
       "    <tr>\n",
       "      <th>unique</th>\n",
       "      <td>NaN</td>\n",
       "      <td>NaN</td>\n",
       "      <td>NaN</td>\n",
       "      <td>NaN</td>\n",
       "      <td>210</td>\n",
       "    </tr>\n",
       "    <tr>\n",
       "      <th>top</th>\n",
       "      <td>NaN</td>\n",
       "      <td>NaN</td>\n",
       "      <td>NaN</td>\n",
       "      <td>NaN</td>\n",
       "      <td>?</td>\n",
       "    </tr>\n",
       "    <tr>\n",
       "      <th>freq</th>\n",
       "      <td>NaN</td>\n",
       "      <td>NaN</td>\n",
       "      <td>NaN</td>\n",
       "      <td>NaN</td>\n",
       "      <td>295</td>\n",
       "    </tr>\n",
       "    <tr>\n",
       "      <th>mean</th>\n",
       "      <td>4.672150</td>\n",
       "      <td>109.072401</td>\n",
       "      <td>2.024966</td>\n",
       "      <td>0.997912</td>\n",
       "      <td>NaN</td>\n",
       "    </tr>\n",
       "    <tr>\n",
       "      <th>std</th>\n",
       "      <td>21.449453</td>\n",
       "      <td>35.392443</td>\n",
       "      <td>0.824600</td>\n",
       "      <td>0.194390</td>\n",
       "      <td>NaN</td>\n",
       "    </tr>\n",
       "    <tr>\n",
       "      <th>min</th>\n",
       "      <td>0.005000</td>\n",
       "      <td>2.000000</td>\n",
       "      <td>0.050000</td>\n",
       "      <td>0.310000</td>\n",
       "      <td>NaN</td>\n",
       "    </tr>\n",
       "    <tr>\n",
       "      <th>25%</th>\n",
       "      <td>0.440000</td>\n",
       "      <td>88.000000</td>\n",
       "      <td>1.600000</td>\n",
       "      <td>0.880000</td>\n",
       "      <td>NaN</td>\n",
       "    </tr>\n",
       "    <tr>\n",
       "      <th>50%</th>\n",
       "      <td>1.400000</td>\n",
       "      <td>104.000000</td>\n",
       "      <td>2.000000</td>\n",
       "      <td>0.980000</td>\n",
       "      <td>NaN</td>\n",
       "    </tr>\n",
       "    <tr>\n",
       "      <th>75%</th>\n",
       "      <td>2.600000</td>\n",
       "      <td>125.000000</td>\n",
       "      <td>2.400000</td>\n",
       "      <td>1.080000</td>\n",
       "      <td>NaN</td>\n",
       "    </tr>\n",
       "    <tr>\n",
       "      <th>max</th>\n",
       "      <td>478.000000</td>\n",
       "      <td>430.000000</td>\n",
       "      <td>10.600000</td>\n",
       "      <td>2.120000</td>\n",
       "      <td>NaN</td>\n",
       "    </tr>\n",
       "  </tbody>\n",
       "</table>\n",
       "</div>"
      ],
      "text/plain": [
       "                TSH          TT4           T3          T4U   FTI\n",
       "count   2516.000000  2616.000000  2215.000000  2503.000000  2800\n",
       "unique          NaN          NaN          NaN          NaN   210\n",
       "top             NaN          NaN          NaN          NaN     ?\n",
       "freq            NaN          NaN          NaN          NaN   295\n",
       "mean       4.672150   109.072401     2.024966     0.997912   NaN\n",
       "std       21.449453    35.392443     0.824600     0.194390   NaN\n",
       "min        0.005000     2.000000     0.050000     0.310000   NaN\n",
       "25%        0.440000    88.000000     1.600000     0.880000   NaN\n",
       "50%        1.400000   104.000000     2.000000     0.980000   NaN\n",
       "75%        2.600000   125.000000     2.400000     1.080000   NaN\n",
       "max      478.000000   430.000000    10.600000     2.120000   NaN"
      ]
     },
     "execution_count": 139,
     "metadata": {},
     "output_type": "execute_result"
    }
   ],
   "source": [
    "df_old.describe(include='all')"
   ]
  },
  {
   "cell_type": "code",
   "execution_count": 140,
   "metadata": {},
   "outputs": [
    {
     "data": {
      "text/html": [
       "<div>\n",
       "<style scoped>\n",
       "    .dataframe tbody tr th:only-of-type {\n",
       "        vertical-align: middle;\n",
       "    }\n",
       "\n",
       "    .dataframe tbody tr th {\n",
       "        vertical-align: top;\n",
       "    }\n",
       "\n",
       "    .dataframe thead th {\n",
       "        text-align: right;\n",
       "    }\n",
       "</style>\n",
       "<table border=\"1\" class=\"dataframe\">\n",
       "  <thead>\n",
       "    <tr style=\"text-align: right;\">\n",
       "      <th></th>\n",
       "      <th>TSH</th>\n",
       "      <th>TT4</th>\n",
       "      <th>T3</th>\n",
       "      <th>T4U</th>\n",
       "      <th>FTI</th>\n",
       "    </tr>\n",
       "  </thead>\n",
       "  <tbody>\n",
       "    <tr>\n",
       "      <th>count</th>\n",
       "      <td>2798.000000</td>\n",
       "      <td>2798.000000</td>\n",
       "      <td>2798.000000</td>\n",
       "      <td>2798.000000</td>\n",
       "      <td>2798.000000</td>\n",
       "    </tr>\n",
       "    <tr>\n",
       "      <th>mean</th>\n",
       "      <td>4.220954</td>\n",
       "      <td>108.534453</td>\n",
       "      <td>2.019943</td>\n",
       "      <td>0.997089</td>\n",
       "      <td>109.640422</td>\n",
       "    </tr>\n",
       "    <tr>\n",
       "      <th>std</th>\n",
       "      <td>20.384048</td>\n",
       "      <td>34.278902</td>\n",
       "      <td>0.733650</td>\n",
       "      <td>0.183822</td>\n",
       "      <td>31.282207</td>\n",
       "    </tr>\n",
       "    <tr>\n",
       "      <th>min</th>\n",
       "      <td>0.005000</td>\n",
       "      <td>2.000000</td>\n",
       "      <td>0.050000</td>\n",
       "      <td>0.310000</td>\n",
       "      <td>2.000000</td>\n",
       "    </tr>\n",
       "    <tr>\n",
       "      <th>25%</th>\n",
       "      <td>0.200000</td>\n",
       "      <td>89.000000</td>\n",
       "      <td>1.700000</td>\n",
       "      <td>0.890000</td>\n",
       "      <td>95.000000</td>\n",
       "    </tr>\n",
       "    <tr>\n",
       "      <th>50%</th>\n",
       "      <td>1.200000</td>\n",
       "      <td>102.000000</td>\n",
       "      <td>2.000000</td>\n",
       "      <td>0.990000</td>\n",
       "      <td>104.000000</td>\n",
       "    </tr>\n",
       "    <tr>\n",
       "      <th>75%</th>\n",
       "      <td>2.400000</td>\n",
       "      <td>123.000000</td>\n",
       "      <td>2.300000</td>\n",
       "      <td>1.070000</td>\n",
       "      <td>122.000000</td>\n",
       "    </tr>\n",
       "    <tr>\n",
       "      <th>max</th>\n",
       "      <td>478.000000</td>\n",
       "      <td>430.000000</td>\n",
       "      <td>10.600000</td>\n",
       "      <td>2.120000</td>\n",
       "      <td>395.000000</td>\n",
       "    </tr>\n",
       "  </tbody>\n",
       "</table>\n",
       "</div>"
      ],
      "text/plain": [
       "               TSH          TT4           T3          T4U          FTI\n",
       "count  2798.000000  2798.000000  2798.000000  2798.000000  2798.000000\n",
       "mean      4.220954   108.534453     2.019943     0.997089   109.640422\n",
       "std      20.384048    34.278902     0.733650     0.183822    31.282207\n",
       "min       0.005000     2.000000     0.050000     0.310000     2.000000\n",
       "25%       0.200000    89.000000     1.700000     0.890000    95.000000\n",
       "50%       1.200000   102.000000     2.000000     0.990000   104.000000\n",
       "75%       2.400000   123.000000     2.300000     1.070000   122.000000\n",
       "max     478.000000   430.000000    10.600000     2.120000   395.000000"
      ]
     },
     "execution_count": 140,
     "metadata": {},
     "output_type": "execute_result"
    }
   ],
   "source": [
    "df.describe(include='all')"
   ]
  },
  {
   "cell_type": "markdown",
   "metadata": {},
   "source": [
    "Môžeme si všimnúť, že v novom datasete už nemáme žiadne chýbajúce hodnoty v týchto atribútoch. "
   ]
  },
  {
   "cell_type": "markdown",
   "metadata": {},
   "source": [
    "### Atribút SEX "
   ]
  },
  {
   "cell_type": "markdown",
   "metadata": {},
   "source": [
    "Atribút **SEX** sme najprv dopĺňali pomocou atribútov **RELATIONSHIP** a **PREGNANT** a pacientom, ktorím sa nám pomocou tejto metódy nepodarilo doplniť pohlavie sme doplnili pomocou stratégie KNN."
   ]
  },
  {
   "cell_type": "code",
   "execution_count": 141,
   "metadata": {},
   "outputs": [
    {
     "data": {
      "text/plain": [
       "F    1830\n",
       "M     860\n",
       "?     110\n",
       "Name: SEX, dtype: int64"
      ]
     },
     "execution_count": 141,
     "metadata": {},
     "output_type": "execute_result"
    }
   ],
   "source": [
    "old_data['SEX'].value_counts()"
   ]
  },
  {
   "cell_type": "code",
   "execution_count": 142,
   "metadata": {},
   "outputs": [
    {
     "data": {
      "text/plain": [
       "1.0    1834\n",
       "0.0     964\n",
       "Name: SEX, dtype: int64"
      ]
     },
     "execution_count": 142,
     "metadata": {},
     "output_type": "execute_result"
    }
   ],
   "source": [
    "data['SEX'].value_counts()"
   ]
  },
  {
   "cell_type": "markdown",
   "metadata": {},
   "source": [
    "Pričom hodnoty pohlaví sa dajú nastaviť vo funkciach getFemaleSymbol(), getMaleSymbol(). "
   ]
  },
  {
   "cell_type": "markdown",
   "metadata": {},
   "source": [
    "### Atribút STATE "
   ]
  },
  {
   "cell_type": "markdown",
   "metadata": {},
   "source": [
    "Tento atribút sme doplnili pomocou najviac frekventovanej hodnoty v tomto atribúte - hodnota UNITED_STATES. "
   ]
  },
  {
   "cell_type": "code",
   "execution_count": 143,
   "metadata": {},
   "outputs": [
    {
     "data": {
      "text/plain": [
       "UNITED_STATES    2495\n",
       "OTHER             303\n",
       "Name: STATE, dtype: int64"
      ]
     },
     "execution_count": 143,
     "metadata": {},
     "output_type": "execute_result"
    }
   ],
   "source": [
    "data['STATE'].value_counts()"
   ]
  },
  {
   "cell_type": "markdown",
   "metadata": {},
   "source": [
    "Distribúcie hodnôt sa po realizácii predspracovania zmenili tak, že už neobsahujú žiadne chýbajúce hodnoty a nemajú ani nekonzistentný formát. V niektorých atribútoch ako napríklad **STATE** alebo **JOB_SEGMENT** sa zvýšila najfrekventovanejšia hodnota, pretože sme pri dopĺnaní chýbajúcich hodnôt v týchto atribútoch zvolili stratégiu doplnenia najčastejšie sa vyskytujúcou hodnotou. Dataset sa nám rozšíril aj o niekoľko nových atribútov, ktoré vznikli rozdelením starých atribútov **PERSONAL_INFO** a **CLASS** do viacerých stĺpcov. Počet riadkov v datasete sa nám zmenšil o jeden riadok."
   ]
  },
  {
   "cell_type": "markdown",
   "metadata": {},
   "source": [
    "Zistili sme, že pacienti sú väčšinou ženy a teda sú náchylnejšie na ochorenia tohto typu. To znamená že tento atribút môže byť podstatným pri klasifikácii. "
   ]
  },
  {
   "cell_type": "markdown",
   "metadata": {},
   "source": [
    "Všimli sme si takisto, že atribúty **ON_ANTITHYROID_MEDICATION, THYROID_SURGERY, I131_TREATMENT, LITHIUM** ktoré predstavujú istý druh liečby obsahujú len veľmi málo hodnôt True  a teda takisto môžu byť podstatným atribútom. "
   ]
  },
  {
   "cell_type": "code",
   "execution_count": 144,
   "metadata": {},
   "outputs": [
    {
     "data": {
      "text/html": [
       "<div>\n",
       "<style scoped>\n",
       "    .dataframe tbody tr th:only-of-type {\n",
       "        vertical-align: middle;\n",
       "    }\n",
       "\n",
       "    .dataframe tbody tr th {\n",
       "        vertical-align: top;\n",
       "    }\n",
       "\n",
       "    .dataframe thead th {\n",
       "        text-align: right;\n",
       "    }\n",
       "</style>\n",
       "<table border=\"1\" class=\"dataframe\">\n",
       "  <thead>\n",
       "    <tr style=\"text-align: right;\">\n",
       "      <th></th>\n",
       "      <th>ON_THYROXINE</th>\n",
       "      <th>QUERY_ON_THYROXINE</th>\n",
       "      <th>ON_ANTITHYROID_MEDICATION</th>\n",
       "      <th>SICK</th>\n",
       "      <th>PREGNANT</th>\n",
       "      <th>THYROID_SURGERY</th>\n",
       "      <th>I131_TREATMENT</th>\n",
       "      <th>QUERY_HYPOTHYROID</th>\n",
       "      <th>QUERY_HYPERTHYROID</th>\n",
       "      <th>LITHIUM</th>\n",
       "      <th>GOITRE</th>\n",
       "      <th>TUMOR</th>\n",
       "      <th>HYPOPITUITARY</th>\n",
       "      <th>PSYCH</th>\n",
       "      <th>TSH_MEASURED</th>\n",
       "      <th>T3_MEASURED</th>\n",
       "      <th>TT4_MEASURED</th>\n",
       "      <th>T4U_MEASURED</th>\n",
       "      <th>FTI_MEASURED</th>\n",
       "    </tr>\n",
       "  </thead>\n",
       "  <tbody>\n",
       "    <tr>\n",
       "      <th>False</th>\n",
       "      <td>2469</td>\n",
       "      <td>2758</td>\n",
       "      <td>2764</td>\n",
       "      <td>2688</td>\n",
       "      <td>2757</td>\n",
       "      <td>2759</td>\n",
       "      <td>2751</td>\n",
       "      <td>2635</td>\n",
       "      <td>2625</td>\n",
       "      <td>2784</td>\n",
       "      <td>2773</td>\n",
       "      <td>2727</td>\n",
       "      <td>2797</td>\n",
       "      <td>2663</td>\n",
       "      <td>284</td>\n",
       "      <td>585</td>\n",
       "      <td>184</td>\n",
       "      <td>297</td>\n",
       "      <td>295</td>\n",
       "    </tr>\n",
       "    <tr>\n",
       "      <th>True</th>\n",
       "      <td>329</td>\n",
       "      <td>40</td>\n",
       "      <td>34</td>\n",
       "      <td>110</td>\n",
       "      <td>41</td>\n",
       "      <td>39</td>\n",
       "      <td>47</td>\n",
       "      <td>163</td>\n",
       "      <td>173</td>\n",
       "      <td>14</td>\n",
       "      <td>25</td>\n",
       "      <td>71</td>\n",
       "      <td>1</td>\n",
       "      <td>135</td>\n",
       "      <td>2514</td>\n",
       "      <td>2213</td>\n",
       "      <td>2614</td>\n",
       "      <td>2501</td>\n",
       "      <td>2503</td>\n",
       "    </tr>\n",
       "  </tbody>\n",
       "</table>\n",
       "</div>"
      ],
      "text/plain": [
       "       ON_THYROXINE  QUERY_ON_THYROXINE  ON_ANTITHYROID_MEDICATION  SICK  \\\n",
       "False          2469                2758                       2764  2688   \n",
       "True            329                  40                         34   110   \n",
       "\n",
       "       PREGNANT  THYROID_SURGERY  I131_TREATMENT  QUERY_HYPOTHYROID  \\\n",
       "False      2757             2759            2751               2635   \n",
       "True         41               39              47                163   \n",
       "\n",
       "       QUERY_HYPERTHYROID  LITHIUM  GOITRE  TUMOR  HYPOPITUITARY  PSYCH  \\\n",
       "False                2625     2784    2773   2727           2797   2663   \n",
       "True                  173       14      25     71              1    135   \n",
       "\n",
       "       TSH_MEASURED  T3_MEASURED  TT4_MEASURED  T4U_MEASURED  FTI_MEASURED  \n",
       "False           284          585           184           297           295  \n",
       "True           2514         2213          2614          2501          2503  "
      ]
     },
     "execution_count": 144,
     "metadata": {},
     "output_type": "execute_result"
    }
   ],
   "source": [
    "data.select_dtypes('bool').apply(pd.value_counts, axis=0)"
   ]
  },
  {
   "cell_type": "markdown",
   "metadata": {},
   "source": [
    "# Export pripravených dát"
   ]
  },
  {
   "cell_type": "code",
   "execution_count": 145,
   "metadata": {},
   "outputs": [],
   "source": [
    "import category_encoders as ce\n",
    "encoder = ce.OneHotEncoder()"
   ]
  },
  {
   "cell_type": "code",
   "execution_count": 146,
   "metadata": {},
   "outputs": [],
   "source": [
    "data_X = data.dropna().reindex(columns=[x for x in data.columns.values if x != 'CLASS'])\n",
    "data_y = data.dropna().reindex(columns=['CLASS'])"
   ]
  },
  {
   "cell_type": "code",
   "execution_count": 149,
   "metadata": {},
   "outputs": [
    {
     "name": "stdout",
     "output_type": "stream",
     "text": [
      "<class 'pandas.core.frame.DataFrame'>\n",
      "Int64Index: 2798 entries, 0 to 2799\n",
      "Data columns (total 40 columns):\n",
      "AGE                          2798 non-null float64\n",
      "SEX                          2798 non-null float64\n",
      "ON_THYROXINE                 2798 non-null bool\n",
      "QUERY_ON_THYROXINE           2798 non-null bool\n",
      "ON_ANTITHYROID_MEDICATION    2798 non-null bool\n",
      "SICK                         2798 non-null bool\n",
      "PREGNANT                     2798 non-null bool\n",
      "THYROID_SURGERY              2798 non-null bool\n",
      "I131_TREATMENT               2798 non-null bool\n",
      "QUERY_HYPOTHYROID            2798 non-null bool\n",
      "QUERY_HYPERTHYROID           2798 non-null bool\n",
      "LITHIUM                      2798 non-null bool\n",
      "GOITRE                       2798 non-null bool\n",
      "TUMOR                        2798 non-null bool\n",
      "HYPOPITUITARY                2798 non-null bool\n",
      "PSYCH                        2798 non-null bool\n",
      "TSH_MEASURED                 2798 non-null bool\n",
      "TSH                          2798 non-null float64\n",
      "T3_MEASURED                  2798 non-null bool\n",
      "T3                           2798 non-null float64\n",
      "TT4_MEASURED                 2798 non-null bool\n",
      "TT4                          2798 non-null float64\n",
      "T4U_MEASURED                 2798 non-null bool\n",
      "T4U                          2798 non-null float64\n",
      "FTI_MEASURED                 2798 non-null bool\n",
      "FTI                          2798 non-null float64\n",
      "REFERRAL_SOURCE              2798 non-null object\n",
      "FNLWGT                       2798 non-null int64\n",
      "EDUCATION_NUM                2798 non-null float64\n",
      "RELATIONSHIP                 2798 non-null object\n",
      "CAPITAL_GAIN                 2798 non-null float64\n",
      "CAPITAL_LOSS                 2798 non-null float64\n",
      "HOURS_PER_WEEK               2798 non-null int64\n",
      "DATE_OF_BIRTH                2798 non-null datetime64[ns]\n",
      "JOB                          2798 non-null object\n",
      "STATE                        2798 non-null object\n",
      "MARITAL_STATUS               2798 non-null object\n",
      "JOB_SEGMENT                  2798 non-null object\n",
      "RACE                         2798 non-null object\n",
      "CLASS                        2798 non-null object\n",
      "dtypes: bool(19), datetime64[ns](1), float64(10), int64(2), object(8)\n",
      "memory usage: 612.8+ KB\n"
     ]
    }
   ],
   "source": [
    "encoder.fit(data_X, data_y)\n",
    "data_categorical = encoder.transform(data_X)\n",
    "data_categorical.describe()\n",
    "data.info()\n",
    "create_csv(data,file)"
   ]
  },
  {
   "cell_type": "markdown",
   "metadata": {},
   "source": [
    "# Zdroje\n",
    "Príklady ako pracovať s pandas - https://pandas.pydata.org/pandas-docs/stable/cookbook.html#cookbook-plotting\n",
    "\n",
    "Robenie grafov v pandas - https://pandas.pydata.org/pandas-docs/stable/visualization.html"
   ]
  }
 ],
 "metadata": {
  "kernelspec": {
   "display_name": "Python 3",
   "language": "python",
   "name": "python3"
  },
  "language_info": {
   "codemirror_mode": {
    "name": "ipython",
    "version": 3
   },
   "file_extension": ".py",
   "mimetype": "text/x-python",
   "name": "python",
   "nbconvert_exporter": "python",
   "pygments_lexer": "ipython3",
   "version": "3.6.4"
  }
 },
 "nbformat": 4,
 "nbformat_minor": 2
}
