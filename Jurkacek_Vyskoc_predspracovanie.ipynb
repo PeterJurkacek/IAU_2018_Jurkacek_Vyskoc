{
 "cells": [
  {
   "cell_type": "markdown",
   "metadata": {},
   "source": [
    "# Obsah\n",
    "\n",
    "> ## Úvod\n",
    "\n",
    "> ## Knižnice\n",
    "\n",
    "> ## Dataset\n",
    "\n",
    "> ## Definovanie pomocných funkcií\n",
    "\n",
    "> ## Chýbajúce hodnoty\n",
    "\n",
    ">> ### Zjednotenie formátov dát\n",
    "\n",
    ">> ### Odvodenie chýbajúcich hodnôt po riadkoch\n",
    "\n",
    ">> ### Doplnenie chýbajúcich hodnôt po stĺpcoch\n",
    "\n",
    "> ## Vychýlené hodnoty\n",
    "\n",
    "> ## Transformacia kategorických údajov na numerické\n",
    "\n",
    "> ## Zdroje"
   ]
  },
  {
   "cell_type": "markdown",
   "metadata": {},
   "source": [
    "## Doležité parametre\n",
    "DecisionTreeClassifier(\n",
    "criterion\n",
    "\n",
    "max_depth=None\n",
    "\n",
    "min_samples_leaf - počet pozorovani vo vyslednej podmnozine\n",
    "\n",
    "class_weight=None"
   ]
  },
  {
   "cell_type": "markdown",
   "metadata": {},
   "source": [
    "# Úvod\n",
    "Na základe identifikovaných problémov v dátach a návrhu ich riešenia v predchádzajúcej fáze treba zrealizovať predspracovanie. Výsledkom by mala byť upravená dátová sada (vo formáte ​csv​) vo vhodnom tvare pre zvolený algoritmus strojového učenia (v našom prípade rozhodovacie stromy​). Zároveň, keďže predspracovaním sa mohol zmeniť tvar a charakteristiky dát (počet atribútov, distribúcie hodnôt a pod.), treba znovu zrealizovať podstatné časti prieskumnej analýzy, pričom v tejto fáze je potrebné zamerať sa aj na vzťahy medzi jednotlivými atribútmi."
   ]
  },
  {
   "cell_type": "markdown",
   "metadata": {},
   "source": [
    "# Knižnice"
   ]
  },
  {
   "cell_type": "code",
   "execution_count": 1,
   "metadata": {},
   "outputs": [
    {
     "name": "stderr",
     "output_type": "stream",
     "text": [
      "/Users/peterjurkacek/anaconda3/lib/python3.6/site-packages/h5py/__init__.py:36: FutureWarning: Conversion of the second argument of issubdtype from `float` to `np.floating` is deprecated. In future, it will be treated as `np.float64 == np.dtype(float).type`.\n",
      "  from ._conv import register_converters as _register_converters\n",
      "Using TensorFlow backend.\n"
     ]
    }
   ],
   "source": [
    "%matplotlib inline\n",
    "import pandas as pd\n",
    "import numpy as np\n",
    "import matplotlib.pyplot as plt\n",
    "import seaborn\n",
    "seaborn.set_style(\"darkgrid\")\n",
    "from sklearn import preprocessing\n",
    "from sklearn import linear_model\n",
    "import datetime as dt\n",
    "\n",
    "from fancyimpute import KNN\n",
    "\n",
    "#regular expression\n",
    "import re\n",
    "\n",
    "#Nastavenie rozmerov zobrazovaných grafov\n",
    "plt.rcParams['figure.figsize'] = 12, 9\n",
    "from IPython.display import Image\n",
    "\n",
    "#Integracia\n",
    "from scipy.stats import boxcox\n",
    "import scipy.stats as stats"
   ]
  },
  {
   "cell_type": "markdown",
   "metadata": {},
   "source": [
    "# Definovanie pomocných funkcií"
   ]
  },
  {
   "cell_type": "code",
   "execution_count": 2,
   "metadata": {},
   "outputs": [],
   "source": [
    "def fixWierdCharsInString(string):\n",
    "    if isinstance(string, float) or isinstance(string, int):\n",
    "        return string\n",
    "    if not isinstance(string, str): \n",
    "        return string\n",
    "    if pd.isna(string) or string == '?' or string == '??':\n",
    "        return np.nan\n",
    "    #ocisti string od bielych znakov a regex: nahrad znaky [ -], za _\n",
    "    return re.sub('[ -]','_', str.strip(string).upper())"
   ]
  },
  {
   "cell_type": "code",
   "execution_count": 3,
   "metadata": {},
   "outputs": [],
   "source": [
    "def init_dataset(file):\n",
    "    # Načítame si súbor s datasetom so separátom ',' a ako index nastavime prvý stĺpec\n",
    "    data = pd.read_csv(file, sep=',', index_col=0)\n",
    "    # Pomenujeme si index\n",
    "    data.index.name = 'ID'\n",
    "    # Ujednoti format nazvov stlpcov\n",
    "    data = data.rename(columns=fixWierdCharsInString)\n",
    "    print(\"Index name\", data.index.name)\n",
    "    print(data.columns)\n",
    "    return data"
   ]
  },
  {
   "cell_type": "code",
   "execution_count": 4,
   "metadata": {},
   "outputs": [],
   "source": [
    "file_cleaned_train_data = 'data/zadanie4/clean_train.csv'\n",
    "file_cleaned_test_data = 'data/zadanie4/clean_test.csv'\n",
    "file = 'data/zadanie4/clean_categorical_test.csv'"
   ]
  },
  {
   "cell_type": "code",
   "execution_count": 5,
   "metadata": {},
   "outputs": [],
   "source": [
    "def create_csv(df, file_name):\n",
    "    df.to_csv(file_name, sep=',')"
   ]
  },
  {
   "cell_type": "code",
   "execution_count": 6,
   "metadata": {},
   "outputs": [],
   "source": [
    "def isNormalDistribution(data):\n",
    "    z, pval = stats.normaltest(data)\n",
    "    print(data.name, z, pval, True if pval > 0.05 else False)\n",
    "    if(pval < 0.05):\n",
    "        return print(\"Not normal distribution\")"
   ]
  },
  {
   "cell_type": "markdown",
   "metadata": {},
   "source": [
    "Na základe: http://mathforum.org/library/drmath/view/72065.html sme určili prahovú hodnotu kedy považujeme atribút za normálne rozdelenie"
   ]
  },
  {
   "cell_type": "code",
   "execution_count": 7,
   "metadata": {},
   "outputs": [],
   "source": [
    "def checkAllObjectType(data):\n",
    "    #help(data.select_dtypes)\n",
    "    #Selektneme si vsetky atribúty, ktoré majú nejasný dátový\n",
    "    for col_name in data.select_dtypes('object'):\n",
    "        #Spočítame si pre každý \"kategorický\" atribút počet jeho jedinečných hodnôt\n",
    "        print(col_name,\":\",data[col_name].nunique())  \n"
   ]
  },
  {
   "cell_type": "code",
   "execution_count": 8,
   "metadata": {},
   "outputs": [],
   "source": [
    "def checkAllNumericType(data):\n",
    "    #help(data.select_dtypes)\n",
    "    #Selektneme si vsetky atribúty, ktoré majú nejasný dátový\n",
    "    numeric_data = data.select_dtypes(['int64','float64'])\n",
    "    for col_name in numeric_data.columns:\n",
    "        #Spočítame si pre každý \"Numerický\" atribút počet jeho jedinečných hodnôt\n",
    "        print(col_name,\": modus:\",numeric_data[col_name].mode(),\", mean:\", numeric_data[col_name].describe())\n",
    "    numeric_data.apply(isNormalDistribution)"
   ]
  },
  {
   "cell_type": "code",
   "execution_count": 9,
   "metadata": {},
   "outputs": [],
   "source": [
    "def convertToDateType(string):\n",
    "    if pd.isna(string) or string == '??':\n",
    "        return pd.NaT\n",
    "    #Nastavime si datum na 10 znakov\n",
    "    if isinstance(string, str):\n",
    "        string = string.strip()[:10]\n",
    "        if len(string) < 10:\n",
    "            if(re.match(\"^[01][0-8]\",string[:2])):\n",
    "                print(string)\n",
    "                string = '20'+ string\n",
    "            elif(re.match(\"^[2-9][0-9]\",string[:2])): \n",
    "                string = '19'+ string\n",
    "                print(string)\n",
    "    try: return pd.to_datetime(string, errors='raise')\n",
    "    except ValueError:\n",
    "            print(string)\n",
    "            return pd.NaT"
   ]
  },
  {
   "cell_type": "code",
   "execution_count": 10,
   "metadata": {},
   "outputs": [],
   "source": [
    "def fixWierdCharsInObjectType(data):\n",
    "    forloop = {}\n",
    "    for col in data.columns:\n",
    "        data[col] = data[col].apply(fixWierdCharsInString)\n",
    "        forloop[col] = data[col].value_counts(normalize=True).to_dict()\n",
    "    return forloop"
   ]
  },
  {
   "cell_type": "code",
   "execution_count": 11,
   "metadata": {},
   "outputs": [],
   "source": [
    "def calculateAgeFromDate(data, start_date):\n",
    "    date = pd.to_datetime(start_date)\n",
    "    data.loc[data[age_column].isna() & data[date_column].notna(), age_column] = (date - data.loc[(data[age_column].isna() & data[date_column].notna()), date_column]).astype('int64') "
   ]
  },
  {
   "cell_type": "code",
   "execution_count": 12,
   "metadata": {},
   "outputs": [],
   "source": [
    "def calculateDateFromAge(row):\n",
    "    date = pd.to_datetime('2016-01-01')\n",
    "    result_date = date.year - row['AGE']\n",
    "    row['DATE_OF_BIRTH'] = pd.to_datetime(str(int(result_date)), errors='coerce')\n",
    "    return row"
   ]
  },
  {
   "cell_type": "code",
   "execution_count": 13,
   "metadata": {},
   "outputs": [],
   "source": [
    "def getFemaleSymbol():\n",
    "    return 'FEMALE'"
   ]
  },
  {
   "cell_type": "code",
   "execution_count": 14,
   "metadata": {},
   "outputs": [],
   "source": [
    "def getMaleSymbol():\n",
    "    return 'MALE'"
   ]
  },
  {
   "cell_type": "code",
   "execution_count": 15,
   "metadata": {},
   "outputs": [],
   "source": [
    "def count_missing(data):\n",
    "    null_data = pd.isnull(data)\n",
    "    null_count = np.sum(null_data)\n",
    "    return (null_count)"
   ]
  },
  {
   "cell_type": "code",
   "execution_count": 16,
   "metadata": {},
   "outputs": [],
   "source": [
    "def prop_missing(data):\n",
    "    num = count_missing(data)\n",
    "    dem = data.size\n",
    "    return num/dem"
   ]
  },
  {
   "cell_type": "code",
   "execution_count": 17,
   "metadata": {},
   "outputs": [],
   "source": [
    "def prop_complete(data):\n",
    "    return 1 - prop_missing(data)"
   ]
  },
  {
   "cell_type": "markdown",
   "metadata": {},
   "source": [
    "# Dataset"
   ]
  },
  {
   "cell_type": "code",
   "execution_count": 18,
   "metadata": {},
   "outputs": [
    {
     "name": "stdout",
     "output_type": "stream",
     "text": [
      "Index name ID\n",
      "Index(['AGE', 'SEX', 'ON_THYROXINE', 'QUERY_ON_THYROXINE',\n",
      "       'ON_ANTITHYROID_MEDICATION', 'SICK', 'PREGNANT', 'THYROID_SURGERY',\n",
      "       'I131_TREATMENT', 'QUERY_HYPOTHYROID', 'QUERY_HYPERTHYROID', 'LITHIUM',\n",
      "       'GOITRE', 'TUMOR', 'HYPOPITUITARY', 'PSYCH', 'TSH_MEASURED', 'TSH',\n",
      "       'T3_MEASURED', 'T3', 'TT4_MEASURED', 'TT4', 'T4U_MEASURED', 'T4U',\n",
      "       'FTI_MEASURED', 'FTI', 'TBG_MEASURED', 'TBG', 'REFERRAL_SOURCE',\n",
      "       'CLASS', 'FNLWGT', 'EDUCATION', 'EDUCATION_NUM', 'RELATIONSHIP',\n",
      "       'CAPITAL_GAIN', 'CAPITAL_LOSS', 'HOURS_PER_WEEK', 'DATE_OF_BIRTH',\n",
      "       'PERSONAL_INFO'],\n",
      "      dtype='object')\n"
     ]
    }
   ],
   "source": [
    "#Inicializacia datasetu so zjednotenými nazvami\n",
    "test_file = \"data/zadanie4/test.csv\"\n",
    "test_data = init_dataset(test_file)"
   ]
  },
  {
   "cell_type": "code",
   "execution_count": 19,
   "metadata": {},
   "outputs": [
    {
     "name": "stdout",
     "output_type": "stream",
     "text": [
      "Index name ID\n",
      "Index(['AGE', 'SEX', 'ON_THYROXINE', 'QUERY_ON_THYROXINE',\n",
      "       'ON_ANTITHYROID_MEDICATION', 'SICK', 'PREGNANT', 'THYROID_SURGERY',\n",
      "       'I131_TREATMENT', 'QUERY_HYPOTHYROID', 'QUERY_HYPERTHYROID', 'LITHIUM',\n",
      "       'GOITRE', 'TUMOR', 'HYPOPITUITARY', 'PSYCH', 'TSH_MEASURED', 'TSH',\n",
      "       'T3_MEASURED', 'T3', 'TT4_MEASURED', 'TT4', 'T4U_MEASURED', 'T4U',\n",
      "       'FTI_MEASURED', 'FTI', 'TBG_MEASURED', 'TBG', 'REFERRAL_SOURCE',\n",
      "       'CLASS', 'FNLWGT', 'EDUCATION', 'EDUCATION_NUM', 'RELATIONSHIP',\n",
      "       'CAPITAL_GAIN', 'CAPITAL_LOSS', 'HOURS_PER_WEEK', 'DATE_OF_BIRTH',\n",
      "       'PERSONAL_INFO'],\n",
      "      dtype='object')\n"
     ]
    }
   ],
   "source": [
    "train_file = \"data/zadanie4/train.csv\"\n",
    "train_data = init_dataset(train_file)"
   ]
  },
  {
   "cell_type": "code",
   "execution_count": 20,
   "metadata": {},
   "outputs": [],
   "source": [
    "#Aby sme mohli pracovat \n",
    "train = False\n",
    "if train:\n",
    "    data = train_data\n",
    "else:\n",
    "    data = test_data\n",
    "\n",
    "file_median_train = 'data/clean_train_data/ctrain_median.csv'\n",
    "file_modus_train = 'data/clean_train_data/ctrain_modus.csv'\n",
    "file_mean_train = 'data/clean_train_data/ctrain_mean.csv'\n",
    "file_knn_train = 'data/clean_train_data/ctrain_knn.csv'\n",
    "\n",
    "file_median_test = 'data/clean_test_data/ctest_median.csv'\n",
    "file_modus_test = 'data/clean_test_data/ctest_modus.csv'\n",
    "file_mean_test = 'data/clean_test_data/ctest_mean.csv'\n",
    "file_knn_test = 'data/clean_test_data/ctest_knn.csv'"
   ]
  },
  {
   "cell_type": "markdown",
   "metadata": {},
   "source": [
    "# Zjednotenie formátov a typov dát"
   ]
  },
  {
   "cell_type": "code",
   "execution_count": 21,
   "metadata": {},
   "outputs": [
    {
     "name": "stdout",
     "output_type": "stream",
     "text": [
      "<class 'pandas.core.frame.DataFrame'>\n",
      "Int64Index: 972 entries, 0 to 971\n",
      "Data columns (total 39 columns):\n",
      "AGE                          972 non-null int64\n",
      "SEX                          972 non-null object\n",
      "ON_THYROXINE                 972 non-null object\n",
      "QUERY_ON_THYROXINE           972 non-null object\n",
      "ON_ANTITHYROID_MEDICATION    972 non-null object\n",
      "SICK                         972 non-null object\n",
      "PREGNANT                     972 non-null object\n",
      "THYROID_SURGERY              972 non-null object\n",
      "I131_TREATMENT               972 non-null object\n",
      "QUERY_HYPOTHYROID            972 non-null object\n",
      "QUERY_HYPERTHYROID           972 non-null object\n",
      "LITHIUM                      972 non-null object\n",
      "GOITRE                       972 non-null object\n",
      "TUMOR                        972 non-null object\n",
      "HYPOPITUITARY                972 non-null object\n",
      "PSYCH                        972 non-null object\n",
      "TSH_MEASURED                 972 non-null object\n",
      "TSH                          887 non-null float64\n",
      "T3_MEASURED                  972 non-null object\n",
      "T3                           788 non-null float64\n",
      "TT4_MEASURED                 972 non-null object\n",
      "TT4                          925 non-null float64\n",
      "T4U_MEASURED                 972 non-null object\n",
      "T4U                          882 non-null float64\n",
      "FTI_MEASURED                 972 non-null object\n",
      "FTI                          972 non-null object\n",
      "TBG_MEASURED                 972 non-null object\n",
      "TBG                          972 non-null object\n",
      "REFERRAL_SOURCE              972 non-null object\n",
      "CLASS                        972 non-null object\n",
      "FNLWGT                       972 non-null int64\n",
      "EDUCATION                    972 non-null object\n",
      "EDUCATION_NUM                972 non-null int64\n",
      "RELATIONSHIP                 972 non-null object\n",
      "CAPITAL_GAIN                 875 non-null float64\n",
      "CAPITAL_LOSS                 972 non-null int64\n",
      "HOURS_PER_WEEK               972 non-null int64\n",
      "DATE_OF_BIRTH                911 non-null object\n",
      "PERSONAL_INFO                972 non-null object\n",
      "dtypes: float64(5), int64(5), object(29)\n",
      "memory usage: 303.8+ KB\n"
     ]
    }
   ],
   "source": [
    "data.info()"
   ]
  },
  {
   "cell_type": "code",
   "execution_count": 22,
   "metadata": {},
   "outputs": [
    {
     "name": "stdout",
     "output_type": "stream",
     "text": [
      "SEX : 3\n",
      "ON_THYROXINE : 6\n",
      "QUERY_ON_THYROXINE : 2\n",
      "ON_ANTITHYROID_MEDICATION : 2\n",
      "SICK : 2\n",
      "PREGNANT : 2\n",
      "THYROID_SURGERY : 2\n",
      "I131_TREATMENT : 2\n",
      "QUERY_HYPOTHYROID : 2\n",
      "QUERY_HYPERTHYROID : 2\n",
      "LITHIUM : 2\n",
      "GOITRE : 2\n",
      "TUMOR : 2\n",
      "HYPOPITUITARY : 1\n",
      "PSYCH : 2\n",
      "TSH_MEASURED : 2\n",
      "T3_MEASURED : 2\n",
      "TT4_MEASURED : 2\n",
      "T4U_MEASURED : 2\n",
      "FTI_MEASURED : 2\n",
      "FTI : 162\n",
      "TBG_MEASURED : 1\n",
      "TBG : 1\n",
      "REFERRAL_SOURCE : 5\n",
      "CLASS : 972\n",
      "EDUCATION : 16\n",
      "RELATIONSHIP : 9\n",
      "DATE_OF_BIRTH : 866\n",
      "PERSONAL_INFO : 338\n"
     ]
    }
   ],
   "source": [
    "checkAllObjectType(data)"
   ]
  },
  {
   "cell_type": "markdown",
   "metadata": {},
   "source": [
    "Pre všetky vyššie atribúty nastavíme správny formát dát a prekonvertujeme na číselnú reprezentáciu, kvôli neskoršej klasifikácií."
   ]
  },
  {
   "cell_type": "code",
   "execution_count": 23,
   "metadata": {},
   "outputs": [
    {
     "data": {
      "text/plain": [
       "count    882.000000\n",
       "mean     109.565533\n",
       "std       33.669539\n",
       "min        2.800000\n",
       "25%       92.000000\n",
       "50%      106.000000\n",
       "75%      124.000000\n",
       "max      291.000000\n",
       "Name: FTI, dtype: float64"
      ]
     },
     "execution_count": 23,
     "metadata": {},
     "output_type": "execute_result"
    }
   ],
   "source": [
    "#help(data.to_numeric)\n",
    "#If ‘coerce’, then invalid parsing will be set as NaN\n",
    "#FTI prekonvertujeme na čísla\n",
    "column=fixWierdCharsInString('FTI')\n",
    "data[column] = pd.to_numeric(data[column], errors='coerce')\n",
    "data[column].describe()"
   ]
  },
  {
   "cell_type": "markdown",
   "metadata": {},
   "source": [
    "Zmena hodnôt **M -> Male** a **F -> Female**, **? -> NaN**. "
   ]
  },
  {
   "cell_type": "code",
   "execution_count": 24,
   "metadata": {},
   "outputs": [
    {
     "data": {
      "text/plain": [
       "FEMALE    650\n",
       "MALE      282\n",
       "Name: SEX, dtype: int64"
      ]
     },
     "execution_count": 24,
     "metadata": {},
     "output_type": "execute_result"
    }
   ],
   "source": [
    "#Nastavíme pohlavie na jeden formát\n",
    "column = fixWierdCharsInString('sex')\n",
    "\n",
    "data[column] = data[column].apply(fixWierdCharsInString)\n",
    "data[column].replace(['F', 'M'], [getFemaleSymbol(), getMaleSymbol()], inplace=True)\n",
    "#data[column] = data[column].fillna(-1)\n",
    "data[column].value_counts()\n",
    "#new_column = fixWierdCharsInString('sex_male')\n",
    "#data = data.rename(columns={column:new_column})\n",
    "#data.columns[1]"
   ]
  },
  {
   "cell_type": "markdown",
   "metadata": {},
   "source": [
    "Zmena hodnôt **f, F, FALSE -> False** a **t, T, TRUE -> True**"
   ]
  },
  {
   "cell_type": "code",
   "execution_count": 25,
   "metadata": {},
   "outputs": [],
   "source": [
    "data.replace(['f', 'F', 'FALSE', 't', 'T', 'TRUE'], [False, False, False, True, True, True], inplace=True)"
   ]
  },
  {
   "cell_type": "code",
   "execution_count": 26,
   "metadata": {},
   "outputs": [
    {
     "name": "stdout",
     "output_type": "stream",
     "text": [
      "SEX : 2\n",
      "TBG : 1\n",
      "REFERRAL_SOURCE : 5\n",
      "CLASS : 972\n",
      "EDUCATION : 16\n",
      "RELATIONSHIP : 9\n",
      "DATE_OF_BIRTH : 866\n",
      "PERSONAL_INFO : 338\n"
     ]
    }
   ],
   "source": [
    "checkAllObjectType(data)"
   ]
  },
  {
   "cell_type": "code",
   "execution_count": 27,
   "metadata": {},
   "outputs": [
    {
     "data": {
      "text/plain": [
       " Not-in-family     274\n",
       " Husband           186\n",
       " Unmarried         175\n",
       " Own-child         152\n",
       " Wife               98\n",
       " Other-relative     37\n",
       " Not_in_family      24\n",
       " Own_child          20\n",
       " Other_relative      6\n",
       "Name: RELATIONSHIP, dtype: int64"
      ]
     },
     "execution_count": 27,
     "metadata": {},
     "output_type": "execute_result"
    }
   ],
   "source": [
    "column = fixWierdCharsInString('relationship')\n",
    "data[column].value_counts()"
   ]
  },
  {
   "cell_type": "markdown",
   "metadata": {},
   "source": [
    "Ujednotenie názvov v stĺpci **relationship**. \n",
    "Own-child -> Own_child\n",
    "Not-in-family -> Not_in_family\n",
    "Other-relative -> Other_relative"
   ]
  },
  {
   "cell_type": "code",
   "execution_count": 28,
   "metadata": {},
   "outputs": [
    {
     "data": {
      "text/plain": [
       "NOT_IN_FAMILY     298\n",
       "HUSBAND           186\n",
       "UNMARRIED         175\n",
       "OWN_CHILD         172\n",
       "WIFE               98\n",
       "OTHER_RELATIVE     43\n",
       "Name: RELATIONSHIP, dtype: int64"
      ]
     },
     "execution_count": 28,
     "metadata": {},
     "output_type": "execute_result"
    }
   ],
   "source": [
    "data[column] = data[column].apply(fixWierdCharsInString)\n",
    "data[column].value_counts()"
   ]
  },
  {
   "cell_type": "markdown",
   "metadata": {},
   "source": [
    "Ujednotenie formátu atribútu **date_of_birth**"
   ]
  },
  {
   "cell_type": "code",
   "execution_count": 29,
   "metadata": {},
   "outputs": [
    {
     "name": "stdout",
     "output_type": "stream",
     "text": [
      "1991-08-07\n",
      "1963-05-03\n",
      "1989-02-15\n",
      "1983-01-28\n",
      "1957-09-10\n",
      "1955-09-24\n",
      "1992-05-30\n",
      "1992-04-30\n",
      "1962-06-23\n",
      "1978-06-22\n",
      "1980-05-04\n",
      "1961-06-13\n",
      "1954-04-01\n",
      "1948-01-30\n",
      "1980-04-02\n",
      "1943-05-09\n",
      "1946-12-21\n",
      "1946-09-07\n",
      "1971-10-26\n",
      "1934-08-30\n",
      "1990-05-18\n",
      "1950-05-12\n",
      "1957-12-18\n",
      "1944-07-08\n",
      "1961-12-16\n",
      "1956-03-26\n",
      "1962-01-18\n",
      "1963-03-02\n",
      "1957-02-28\n",
      "1989-11-30\n",
      "1958-01-21\n",
      "1997-01-10\n",
      "1968-12-25\n",
      "1988-08-11\n",
      "1959-04-22\n",
      "1989-05-12\n",
      "1991-05-07\n",
      "1948-05-23\n",
      "1998-09-07\n",
      "1998-11-28\n",
      "1940-02-01\n",
      "1942-05-27\n",
      "1966-10-15\n",
      "1951-10-07\n",
      "1959-11-06\n",
      "1948-11-13\n",
      "1965-09-08\n",
      "1961-04-26\n",
      "02-11-16\n",
      "1979-05-21\n",
      "1958-01-17\n",
      "1975-07-31\n",
      "1988-03-28\n",
      "1984-12-22\n",
      "1954-04-30\n",
      "1982-03-06\n",
      "1986-11-03\n",
      "1984-05-05\n",
      "1958-06-26\n",
      "1952-12-07\n",
      "1981-10-30\n",
      "1952-07-09\n",
      "1952-05-19\n"
     ]
    },
    {
     "data": {
      "text/plain": [
       "count                     875\n",
       "unique                    850\n",
       "top       1967-09-30 00:00:00\n",
       "freq                        2\n",
       "first     1924-10-04 00:00:00\n",
       "last      2010-05-07 00:00:00\n",
       "Name: DATE_OF_BIRTH, dtype: object"
      ]
     },
     "execution_count": 29,
     "metadata": {},
     "output_type": "execute_result"
    }
   ],
   "source": [
    "column = fixWierdCharsInString('date_of_birth')\n",
    "data[column] = data[column].apply(convertToDateType)\n",
    "data[column].describe()"
   ]
  },
  {
   "cell_type": "markdown",
   "metadata": {},
   "source": [
    "Rozdelenie stĺpca **personal_info** do viacerých stĺpcov"
   ]
  },
  {
   "cell_type": "code",
   "execution_count": 30,
   "metadata": {},
   "outputs": [
    {
     "name": "stdout",
     "output_type": "stream",
     "text": [
      "<class 'pandas.core.frame.DataFrame'>\n",
      "Int64Index: 972 entries, 0 to 971\n",
      "Data columns (total 39 columns):\n",
      "AGE                          972 non-null int64\n",
      "SEX                          932 non-null object\n",
      "ON_THYROXINE                 972 non-null bool\n",
      "QUERY_ON_THYROXINE           972 non-null bool\n",
      "ON_ANTITHYROID_MEDICATION    972 non-null bool\n",
      "SICK                         972 non-null bool\n",
      "PREGNANT                     972 non-null bool\n",
      "THYROID_SURGERY              972 non-null bool\n",
      "I131_TREATMENT               972 non-null bool\n",
      "QUERY_HYPOTHYROID            972 non-null bool\n",
      "QUERY_HYPERTHYROID           972 non-null bool\n",
      "LITHIUM                      972 non-null bool\n",
      "GOITRE                       972 non-null bool\n",
      "TUMOR                        972 non-null bool\n",
      "HYPOPITUITARY                972 non-null bool\n",
      "PSYCH                        972 non-null bool\n",
      "TSH_MEASURED                 972 non-null bool\n",
      "TSH                          887 non-null float64\n",
      "T3_MEASURED                  972 non-null bool\n",
      "T3                           788 non-null float64\n",
      "TT4_MEASURED                 972 non-null bool\n",
      "TT4                          925 non-null float64\n",
      "T4U_MEASURED                 972 non-null bool\n",
      "T4U                          882 non-null float64\n",
      "FTI_MEASURED                 972 non-null bool\n",
      "FTI                          882 non-null float64\n",
      "TBG_MEASURED                 972 non-null bool\n",
      "TBG                          972 non-null object\n",
      "REFERRAL_SOURCE              972 non-null object\n",
      "CLASS                        972 non-null object\n",
      "FNLWGT                       972 non-null int64\n",
      "EDUCATION                    972 non-null object\n",
      "EDUCATION_NUM                972 non-null int64\n",
      "RELATIONSHIP                 972 non-null object\n",
      "CAPITAL_GAIN                 875 non-null float64\n",
      "CAPITAL_LOSS                 972 non-null int64\n",
      "HOURS_PER_WEEK               972 non-null int64\n",
      "DATE_OF_BIRTH                875 non-null datetime64[ns]\n",
      "PERSONAL_INFO                972 non-null object\n",
      "dtypes: bool(20), datetime64[ns](1), float64(6), int64(5), object(7)\n",
      "memory usage: 170.9+ KB\n"
     ]
    }
   ],
   "source": [
    "data.info()"
   ]
  },
  {
   "cell_type": "code",
   "execution_count": 31,
   "metadata": {},
   "outputs": [
    {
     "data": {
      "text/html": [
       "<div>\n",
       "<style scoped>\n",
       "    .dataframe tbody tr th:only-of-type {\n",
       "        vertical-align: middle;\n",
       "    }\n",
       "\n",
       "    .dataframe tbody tr th {\n",
       "        vertical-align: top;\n",
       "    }\n",
       "\n",
       "    .dataframe thead th {\n",
       "        text-align: right;\n",
       "    }\n",
       "</style>\n",
       "<table border=\"1\" class=\"dataframe\">\n",
       "  <thead>\n",
       "    <tr style=\"text-align: right;\">\n",
       "      <th></th>\n",
       "      <th>JOB</th>\n",
       "      <th>STATE</th>\n",
       "      <th>MARITAL_STATUS</th>\n",
       "      <th>JOB_SEGMENT</th>\n",
       "      <th>RACE</th>\n",
       "    </tr>\n",
       "  </thead>\n",
       "  <tbody>\n",
       "    <tr>\n",
       "      <th>0</th>\n",
       "      <td>Sales</td>\n",
       "      <td>United-States</td>\n",
       "      <td>Married-civ-spouse</td>\n",
       "      <td>Self-emp-inc</td>\n",
       "      <td>White</td>\n",
       "    </tr>\n",
       "    <tr>\n",
       "      <th>1</th>\n",
       "      <td>Exec-managerial</td>\n",
       "      <td>United-States</td>\n",
       "      <td>Never-married</td>\n",
       "      <td>Private</td>\n",
       "      <td>White</td>\n",
       "    </tr>\n",
       "    <tr>\n",
       "      <th>2</th>\n",
       "      <td>Prof-specialty</td>\n",
       "      <td>United-States</td>\n",
       "      <td>Married-civ-spouse</td>\n",
       "      <td>Self-emp-not-inc</td>\n",
       "      <td>White</td>\n",
       "    </tr>\n",
       "    <tr>\n",
       "      <th>3</th>\n",
       "      <td>Tech-support</td>\n",
       "      <td>United-States</td>\n",
       "      <td>Married-civ-spouse</td>\n",
       "      <td>Private</td>\n",
       "      <td>White</td>\n",
       "    </tr>\n",
       "    <tr>\n",
       "      <th>4</th>\n",
       "      <td>Other-service</td>\n",
       "      <td>United-States</td>\n",
       "      <td>Never-married</td>\n",
       "      <td>Private</td>\n",
       "      <td>White</td>\n",
       "    </tr>\n",
       "  </tbody>\n",
       "</table>\n",
       "</div>"
      ],
      "text/plain": [
       "               JOB          STATE       MARITAL_STATUS        JOB_SEGMENT  \\\n",
       "0            Sales  United-States  Married-civ-spouse        Self-emp-inc   \n",
       "1  Exec-managerial  United-States       Never-married             Private   \n",
       "2   Prof-specialty  United-States  Married-civ-spouse    Self-emp-not-inc   \n",
       "3     Tech-support  United-States  Married-civ-spouse             Private   \n",
       "4    Other-service  United-States       Never-married             Private   \n",
       "\n",
       "    RACE  \n",
       "0  White  \n",
       "1  White  \n",
       "2  White  \n",
       "3  White  \n",
       "4  White  "
      ]
     },
     "execution_count": 31,
     "metadata": {},
     "output_type": "execute_result"
    }
   ],
   "source": [
    "column = fixWierdCharsInString('personal_info')\n",
    "columns = list(map(fixWierdCharsInString, ['job','state', 'marital_status', 'job_segment', 'race']))\n",
    "df_personal_data = pd.DataFrame(data[column].str.replace('\\n','|').str.replace('--','|').str.split('|', expand=False).tolist(), columns=columns)\n",
    "df_personal_data.head()"
   ]
  },
  {
   "cell_type": "markdown",
   "metadata": {},
   "source": [
    "Atribút je teraz rozdelený do viacerých stĺpcov **job, state, parents_definition, segment, race**, ale je potrebné v nich urobiť nejaké úpravy. "
   ]
  },
  {
   "cell_type": "code",
   "execution_count": 32,
   "metadata": {},
   "outputs": [
    {
     "name": "stdout",
     "output_type": "stream",
     "text": [
      "SEX : 2\n",
      "TBG : 1\n",
      "REFERRAL_SOURCE : 5\n",
      "CLASS : 972\n",
      "EDUCATION : 16\n",
      "RELATIONSHIP : 6\n",
      "PERSONAL_INFO : 338\n"
     ]
    }
   ],
   "source": [
    "checkAllObjectType(test_data)"
   ]
  },
  {
   "cell_type": "code",
   "execution_count": 33,
   "metadata": {},
   "outputs": [
    {
     "data": {
      "text/plain": [
       "{'JOB': {'ADM_CLERICAL': 0.16294642857142858,\n",
       "  'CRAFT_REPAIR': 0.07700892857142858,\n",
       "  'EXEC_MANAGERIAL': 0.125,\n",
       "  'FARMING_FISHING': 0.014508928571428572,\n",
       "  'HANDLERS_CLEANERS': 0.018973214285714284,\n",
       "  'MACHINE_OP_INSPCT': 0.06473214285714286,\n",
       "  'OTHER_SERVICE': 0.16741071428571427,\n",
       "  'PRIV_HOUSE_SERV': 0.014508928571428572,\n",
       "  'PROF_SPECIALTY': 0.13504464285714285,\n",
       "  'PROTECTIVE_SERV': 0.011160714285714286,\n",
       "  'SALES': 0.14508928571428573,\n",
       "  'TECH_SUPPORT': 0.03571428571428571,\n",
       "  'TRANSPORT_MOVING': 0.027901785714285716},\n",
       " 'JOB_SEGMENT': {'?': 0.07818930041152264,\n",
       "  'FEDERAL_GOV': 0.01954732510288066,\n",
       "  'LOCAL_GOV': 0.06790123456790123,\n",
       "  'PRIVATE': 0.7067901234567902,\n",
       "  'SELF_EMP_INC': 0.01954732510288066,\n",
       "  'SELF_EMP_NOT_INC': 0.059670781893004114,\n",
       "  'STATE_GOV': 0.04835390946502058},\n",
       " 'MARITAL_STATUS': {'DIVORCED': 0.19135802469135801,\n",
       "  'MARRIED_AF_SPOUSE': 0.00102880658436214,\n",
       "  'MARRIED_CIV_SPOUSE': 0.29732510288065844,\n",
       "  'MARRIED_SPOUSE_ABSENT': 0.01646090534979424,\n",
       "  'NEVER_MARRIED': 0.3868312757201646,\n",
       "  'SEPARATED': 0.046296296296296294,\n",
       "  'WIDOWED': 0.060699588477366256},\n",
       " 'RACE': {'AMER_INDIAN_ESKIMO': 0.00720164609053498,\n",
       "  'ASIAN_PAC_ISLANDER': 0.02880658436213992,\n",
       "  'BLACK': 0.11419753086419752,\n",
       "  'OTHER': 0.0051440329218107,\n",
       "  'WHITE': 0.8446502057613169},\n",
       " 'STATE': {'CANADA': 0.003161222339304531,\n",
       "  'CHINA': 0.003161222339304531,\n",
       "  'CUBA': 0.001053740779768177,\n",
       "  'DOMINICAN_REPUBLIC': 0.003161222339304531,\n",
       "  'ECUADOR': 0.001053740779768177,\n",
       "  'EL_SALVADOR': 0.003161222339304531,\n",
       "  'ENGLAND': 0.001053740779768177,\n",
       "  'FRANCE': 0.001053740779768177,\n",
       "  'GERMANY': 0.005268703898840885,\n",
       "  'GREECE': 0.001053740779768177,\n",
       "  'GUATEMALA': 0.003161222339304531,\n",
       "  'HAITI': 0.002107481559536354,\n",
       "  'HONG': 0.001053740779768177,\n",
       "  'HUNGARY': 0.001053740779768177,\n",
       "  'INDIA': 0.004214963119072708,\n",
       "  'IRELAND': 0.002107481559536354,\n",
       "  'ITALY': 0.002107481559536354,\n",
       "  'JAMAICA': 0.002107481559536354,\n",
       "  'JAPAN': 0.003161222339304531,\n",
       "  'MEXICO': 0.015806111696522657,\n",
       "  'PHILIPPINES': 0.007376185458377239,\n",
       "  'POLAND': 0.002107481559536354,\n",
       "  'PORTUGAL': 0.002107481559536354,\n",
       "  'PUERTO_RICO': 0.005268703898840885,\n",
       "  'SOUTH': 0.002107481559536354,\n",
       "  'UNITED_STATES': 0.9209694415173867}}"
      ]
     },
     "execution_count": 33,
     "metadata": {},
     "output_type": "execute_result"
    }
   ],
   "source": [
    "fixWierdCharsInObjectType(df_personal_data)"
   ]
  },
  {
   "cell_type": "markdown",
   "metadata": {},
   "source": [
    "Vidíme, že hodnôt pre štát je príliš vela a pritom 90 percent pacientov je zo spojených štátov. Preto zredukujeme kategorické atribúty pre štát nasledovne"
   ]
  },
  {
   "cell_type": "code",
   "execution_count": 34,
   "metadata": {},
   "outputs": [],
   "source": [
    "df_personal_data['STATE'] = [ 'UNITED_STATES' if x == 'UNITED_STATES' else 'OTHER' for x in df_personal_data['STATE']]"
   ]
  },
  {
   "cell_type": "code",
   "execution_count": 35,
   "metadata": {},
   "outputs": [
    {
     "data": {
      "text/plain": [
       "UNITED_STATES    874\n",
       "OTHER             98\n",
       "Name: STATE, dtype: int64"
      ]
     },
     "execution_count": 35,
     "metadata": {},
     "output_type": "execute_result"
    }
   ],
   "source": [
    "df_personal_data['STATE'].value_counts()"
   ]
  },
  {
   "cell_type": "markdown",
   "metadata": {},
   "source": [
    "Teraz môžeme vytvorené stĺpce z atribútu **personal_info** pripojiť k celému datasetu a vymazať atribút **personal_info**."
   ]
  },
  {
   "cell_type": "code",
   "execution_count": 36,
   "metadata": {},
   "outputs": [],
   "source": [
    "data = data.drop([column], axis=1) # vymazanie atribútu personal_info\n",
    "data = data.join(df_personal_data)          # pridanie nových atribútov do nášho datasetu"
   ]
  },
  {
   "cell_type": "markdown",
   "metadata": {},
   "source": [
    "Rozdelenie atribútu **class** do dvoch nových atribútov."
   ]
  },
  {
   "cell_type": "code",
   "execution_count": 37,
   "metadata": {},
   "outputs": [
    {
     "data": {
      "text/plain": [
       "ID\n",
       "0    negative.|1231\n",
       "1     negative.|329\n",
       "2    negative.|2518\n",
       "3     negative.|821\n",
       "4     negative.|951\n",
       "Name: CLASS, dtype: object"
      ]
     },
     "execution_count": 37,
     "metadata": {},
     "output_type": "execute_result"
    }
   ],
   "source": [
    "column = fixWierdCharsInString('class')\n",
    "data[column].head()"
   ]
  },
  {
   "cell_type": "code",
   "execution_count": 38,
   "metadata": {
    "tags": [
     "korekcia"
    ]
   },
   "outputs": [
    {
     "data": {
      "text/plain": [
       "negative               935\n",
       "underreplacement        17\n",
       "overreplacement         11\n",
       "replacement therapy      9\n",
       "Name: CLASS, dtype: int64"
      ]
     },
     "execution_count": 38,
     "metadata": {},
     "output_type": "execute_result"
    }
   ],
   "source": [
    "#data = train_data\n",
    "#Nepotrebujeme\n",
    "column2_name = 'second_id'\n",
    "df_class = pd.DataFrame(data[column].str.split('\\.\\|').tolist(), columns = [column,column2_name])\n",
    "df_class[column].value_counts()"
   ]
  },
  {
   "cell_type": "code",
   "execution_count": 39,
   "metadata": {},
   "outputs": [
    {
     "data": {
      "text/plain": [
       "negative               935\n",
       "underreplacement        17\n",
       "overreplacement         11\n",
       "replacement therapy      9\n",
       "Name: CLASS, dtype: int64"
      ]
     },
     "execution_count": 39,
     "metadata": {},
     "output_type": "execute_result"
    }
   ],
   "source": [
    "# vymazanie atribútu class\n",
    "data = data.drop([column], axis=1) \n",
    "# pridanie nových atribútov do nášho datasetu\n",
    "data = data.join(df_class[column])\n",
    "data[column].value_counts()"
   ]
  },
  {
   "cell_type": "code",
   "execution_count": 40,
   "metadata": {},
   "outputs": [
    {
     "data": {
      "text/plain": [
       "9.0     301\n",
       "10.0    227\n",
       "13.0    159\n",
       "14.0     54\n",
       "11.0     47\n",
       "7.0      44\n",
       "6.0      31\n",
       "12.0     29\n",
       "5.0      20\n",
       "8.0      17\n",
       "4.0      14\n",
       "15.0     11\n",
       "16.0      7\n",
       "3.0       6\n",
       "1.0       3\n",
       "2.0       2\n",
       "Name: EDUCATION_NUM, dtype: int64"
      ]
     },
     "execution_count": 40,
     "metadata": {},
     "output_type": "execute_result"
    }
   ],
   "source": [
    "column = fixWierdCharsInString('education_num')\n",
    "#data['education-num']\n",
    "data[column] = pd.to_numeric(data[column], errors='coerce')\n",
    "data[column] = data[column].apply(lambda x: abs(x)/100 if abs(x) > 100 else x)\n",
    "data[column].value_counts()"
   ]
  },
  {
   "cell_type": "code",
   "execution_count": 41,
   "metadata": {},
   "outputs": [],
   "source": [
    "data = data.drop(columns=['EDUCATION'])"
   ]
  },
  {
   "cell_type": "markdown",
   "metadata": {},
   "source": [
    "Vymazanie atribútu **TBG**, pretože atribút nenesie žiadnu zmysluplnú hodnotu a tým pádom nemá pre nás význam. "
   ]
  },
  {
   "cell_type": "code",
   "execution_count": 42,
   "metadata": {},
   "outputs": [],
   "source": [
    "column1 = fixWierdCharsInString('TBG')\n",
    "column2 = fixWierdCharsInString('TBG_measured')\n",
    "data = data.drop([column1], axis=1) \n",
    "data = data.drop([column2], axis=1) "
   ]
  },
  {
   "cell_type": "markdown",
   "metadata": {},
   "source": [
    "Atribútom **capital_gain** a **capital_loss** sme sa rozhodli ujednotiť dátové typy."
   ]
  },
  {
   "cell_type": "code",
   "execution_count": 43,
   "metadata": {},
   "outputs": [],
   "source": [
    "column = fixWierdCharsInString('capital_loss')\n",
    "data[column] = data[column].astype('float64')"
   ]
  },
  {
   "cell_type": "code",
   "execution_count": 44,
   "metadata": {},
   "outputs": [
    {
     "name": "stdout",
     "output_type": "stream",
     "text": [
      "SEX : 2\n",
      "REFERRAL_SOURCE : 5\n",
      "RELATIONSHIP : 6\n",
      "JOB : 13\n",
      "STATE : 2\n",
      "MARITAL_STATUS : 7\n",
      "JOB_SEGMENT : 6\n",
      "RACE : 5\n",
      "CLASS : 4\n"
     ]
    },
    {
     "data": {
      "text/html": [
       "<div>\n",
       "<style scoped>\n",
       "    .dataframe tbody tr th:only-of-type {\n",
       "        vertical-align: middle;\n",
       "    }\n",
       "\n",
       "    .dataframe tbody tr th {\n",
       "        vertical-align: top;\n",
       "    }\n",
       "\n",
       "    .dataframe thead th {\n",
       "        text-align: right;\n",
       "    }\n",
       "</style>\n",
       "<table border=\"1\" class=\"dataframe\">\n",
       "  <thead>\n",
       "    <tr style=\"text-align: right;\">\n",
       "      <th></th>\n",
       "      <th>SEX</th>\n",
       "      <th>REFERRAL_SOURCE</th>\n",
       "      <th>RELATIONSHIP</th>\n",
       "      <th>JOB</th>\n",
       "      <th>STATE</th>\n",
       "      <th>MARITAL_STATUS</th>\n",
       "      <th>JOB_SEGMENT</th>\n",
       "      <th>RACE</th>\n",
       "      <th>CLASS</th>\n",
       "    </tr>\n",
       "    <tr>\n",
       "      <th>ID</th>\n",
       "      <th></th>\n",
       "      <th></th>\n",
       "      <th></th>\n",
       "      <th></th>\n",
       "      <th></th>\n",
       "      <th></th>\n",
       "      <th></th>\n",
       "      <th></th>\n",
       "      <th></th>\n",
       "    </tr>\n",
       "  </thead>\n",
       "  <tbody>\n",
       "    <tr>\n",
       "      <th>0</th>\n",
       "      <td>MALE</td>\n",
       "      <td>SVI</td>\n",
       "      <td>HUSBAND</td>\n",
       "      <td>SALES</td>\n",
       "      <td>UNITED_STATES</td>\n",
       "      <td>MARRIED_CIV_SPOUSE</td>\n",
       "      <td>SELF_EMP_INC</td>\n",
       "      <td>WHITE</td>\n",
       "      <td>NEGATIVE</td>\n",
       "    </tr>\n",
       "    <tr>\n",
       "      <th>1</th>\n",
       "      <td>FEMALE</td>\n",
       "      <td>SVHC</td>\n",
       "      <td>NOT_IN_FAMILY</td>\n",
       "      <td>EXEC_MANAGERIAL</td>\n",
       "      <td>UNITED_STATES</td>\n",
       "      <td>NEVER_MARRIED</td>\n",
       "      <td>PRIVATE</td>\n",
       "      <td>WHITE</td>\n",
       "      <td>NEGATIVE</td>\n",
       "    </tr>\n",
       "    <tr>\n",
       "      <th>2</th>\n",
       "      <td>FEMALE</td>\n",
       "      <td>OTHER</td>\n",
       "      <td>WIFE</td>\n",
       "      <td>PROF_SPECIALTY</td>\n",
       "      <td>UNITED_STATES</td>\n",
       "      <td>MARRIED_CIV_SPOUSE</td>\n",
       "      <td>SELF_EMP_NOT_INC</td>\n",
       "      <td>WHITE</td>\n",
       "      <td>NEGATIVE</td>\n",
       "    </tr>\n",
       "    <tr>\n",
       "      <th>3</th>\n",
       "      <td>FEMALE</td>\n",
       "      <td>SVHC</td>\n",
       "      <td>WIFE</td>\n",
       "      <td>TECH_SUPPORT</td>\n",
       "      <td>UNITED_STATES</td>\n",
       "      <td>MARRIED_CIV_SPOUSE</td>\n",
       "      <td>PRIVATE</td>\n",
       "      <td>WHITE</td>\n",
       "      <td>NEGATIVE</td>\n",
       "    </tr>\n",
       "    <tr>\n",
       "      <th>4</th>\n",
       "      <td>FEMALE</td>\n",
       "      <td>OTHER</td>\n",
       "      <td>UNMARRIED</td>\n",
       "      <td>OTHER_SERVICE</td>\n",
       "      <td>UNITED_STATES</td>\n",
       "      <td>NEVER_MARRIED</td>\n",
       "      <td>PRIVATE</td>\n",
       "      <td>WHITE</td>\n",
       "      <td>NEGATIVE</td>\n",
       "    </tr>\n",
       "  </tbody>\n",
       "</table>\n",
       "</div>"
      ],
      "text/plain": [
       "       SEX REFERRAL_SOURCE   RELATIONSHIP              JOB          STATE  \\\n",
       "ID                                                                          \n",
       "0     MALE             SVI        HUSBAND            SALES  UNITED_STATES   \n",
       "1   FEMALE            SVHC  NOT_IN_FAMILY  EXEC_MANAGERIAL  UNITED_STATES   \n",
       "2   FEMALE           OTHER           WIFE   PROF_SPECIALTY  UNITED_STATES   \n",
       "3   FEMALE            SVHC           WIFE     TECH_SUPPORT  UNITED_STATES   \n",
       "4   FEMALE           OTHER      UNMARRIED    OTHER_SERVICE  UNITED_STATES   \n",
       "\n",
       "        MARITAL_STATUS       JOB_SEGMENT   RACE     CLASS  \n",
       "ID                                                         \n",
       "0   MARRIED_CIV_SPOUSE      SELF_EMP_INC  WHITE  NEGATIVE  \n",
       "1        NEVER_MARRIED           PRIVATE  WHITE  NEGATIVE  \n",
       "2   MARRIED_CIV_SPOUSE  SELF_EMP_NOT_INC  WHITE  NEGATIVE  \n",
       "3   MARRIED_CIV_SPOUSE           PRIVATE  WHITE  NEGATIVE  \n",
       "4        NEVER_MARRIED           PRIVATE  WHITE  NEGATIVE  "
      ]
     },
     "execution_count": 44,
     "metadata": {},
     "output_type": "execute_result"
    }
   ],
   "source": [
    "fixWierdCharsInObjectType(data)\n",
    "checkAllObjectType(data)\n",
    "data.select_dtypes('object').head()"
   ]
  },
  {
   "cell_type": "markdown",
   "metadata": {},
   "source": [
    "Po zjednotení formátov dát nám ostali len tieto atribúty s dátovým typom object. Kedže sa jedná o kategorické atribúty tak sme zatial spokojný s týmto dátovým typom."
   ]
  },
  {
   "cell_type": "markdown",
   "metadata": {},
   "source": [
    "# Chýbajúce hodnoty"
   ]
  },
  {
   "cell_type": "code",
   "execution_count": 45,
   "metadata": {},
   "outputs": [],
   "source": [
    "import missingno as msno"
   ]
  },
  {
   "cell_type": "code",
   "execution_count": 46,
   "metadata": {},
   "outputs": [
    {
     "data": {
      "text/plain": [
       "<matplotlib.axes._subplots.AxesSubplot at 0x11a58aa58>"
      ]
     },
     "execution_count": 46,
     "metadata": {},
     "output_type": "execute_result"
    },
    {
     "data": {
      "image/png": "[encoded data removed]",
      "text/plain": [
       "<matplotlib.figure.Figure at 0x11a565e80>"
      ]
     },
     "metadata": {},
     "output_type": "display_data"
    }
   ],
   "source": [
    "test_data.columns[test_data.isnull().any()].tolist()\n",
    "msno.matrix(test_data[test_data.columns[test_data.isnull().any()].tolist()])"
   ]
  },
  {
   "cell_type": "code",
   "execution_count": 47,
   "metadata": {},
   "outputs": [],
   "source": [
    "checkpoint_missing_data = data.copy()"
   ]
  },
  {
   "cell_type": "markdown",
   "metadata": {},
   "source": [
    "Počty chýbajúcich hodnôt v jednotlivých atribútoch.http://scikit-learn.org/stable/data_transforms.html"
   ]
  },
  {
   "cell_type": "code",
   "execution_count": 48,
   "metadata": {
    "scrolled": true
   },
   "outputs": [
    {
     "data": {
      "text/plain": [
       "AGE                            0\n",
       "SEX                           40\n",
       "ON_THYROXINE                   0\n",
       "QUERY_ON_THYROXINE             0\n",
       "ON_ANTITHYROID_MEDICATION      0\n",
       "SICK                           0\n",
       "PREGNANT                       0\n",
       "THYROID_SURGERY                0\n",
       "I131_TREATMENT                 0\n",
       "QUERY_HYPOTHYROID              0\n",
       "QUERY_HYPERTHYROID             0\n",
       "LITHIUM                        0\n",
       "GOITRE                         0\n",
       "TUMOR                          0\n",
       "HYPOPITUITARY                  0\n",
       "PSYCH                          0\n",
       "TSH_MEASURED                   0\n",
       "TSH                           85\n",
       "T3_MEASURED                    0\n",
       "T3                           184\n",
       "TT4_MEASURED                   0\n",
       "TT4                           47\n",
       "T4U_MEASURED                   0\n",
       "T4U                           90\n",
       "FTI_MEASURED                   0\n",
       "FTI                           90\n",
       "REFERRAL_SOURCE                0\n",
       "FNLWGT                         0\n",
       "EDUCATION_NUM                  0\n",
       "RELATIONSHIP                   0\n",
       "CAPITAL_GAIN                  97\n",
       "CAPITAL_LOSS                   0\n",
       "HOURS_PER_WEEK                 0\n",
       "DATE_OF_BIRTH                 97\n",
       "JOB                           76\n",
       "STATE                          0\n",
       "MARITAL_STATUS                 0\n",
       "JOB_SEGMENT                   76\n",
       "RACE                           0\n",
       "CLASS                          0\n",
       "dtype: int64"
      ]
     },
     "execution_count": 48,
     "metadata": {},
     "output_type": "execute_result"
    }
   ],
   "source": [
    "data.apply(count_missing)"
   ]
  },
  {
   "cell_type": "code",
   "execution_count": 49,
   "metadata": {},
   "outputs": [
    {
     "data": {
      "text/plain": [
       "0    530\n",
       "1    235\n",
       "2    107\n",
       "3     36\n",
       "5     24\n",
       "4     22\n",
       "6     13\n",
       "8      2\n",
       "7      2\n",
       "9      1\n",
       "dtype: int64"
      ]
     },
     "execution_count": 49,
     "metadata": {},
     "output_type": "execute_result"
    }
   ],
   "source": [
    "#Vypiseme si kolko missign values maju riadky. Takze napriklad 0 missing values ma 1634 pacinetov\n",
    "data.apply(count_missing, axis=1).value_counts()"
   ]
  },
  {
   "cell_type": "code",
   "execution_count": 50,
   "metadata": {},
   "outputs": [
    {
     "data": {
      "text/plain": [
       "(972, 40)"
      ]
     },
     "execution_count": 50,
     "metadata": {},
     "output_type": "execute_result"
    }
   ],
   "source": [
    "data.dropna(how=\"all\").shape # môžeme vidieť, že žiadny riadok nie je taký, že má všetky hodnoty chýbajúce."
   ]
  },
  {
   "cell_type": "markdown",
   "metadata": {},
   "source": [
    "## Odvodenie chýbajúcich hodnôt po riadkoch"
   ]
  },
  {
   "cell_type": "markdown",
   "metadata": {},
   "source": [
    "Pre atribút **sex** vieme chýbajúcu hodnotu zistiť napríklad z atribútu **pregnant** alebo z atribútu **relationship**"
   ]
  },
  {
   "cell_type": "code",
   "execution_count": 51,
   "metadata": {},
   "outputs": [
    {
     "data": {
      "text/plain": [
       "40"
      ]
     },
     "execution_count": 51,
     "metadata": {},
     "output_type": "execute_result"
    }
   ],
   "source": [
    "data['SEX'].isna().sum()"
   ]
  },
  {
   "cell_type": "code",
   "execution_count": 52,
   "metadata": {},
   "outputs": [],
   "source": [
    "# Vyfiltrujeme si pacientov s nešpecifikovaným pohlavím, ktorí sú tehotní.\n",
    "column = fixWierdCharsInString('sex')\n",
    "help_column = fixWierdCharsInString('pregnant')\n",
    "data.loc[(data[column].isna()) & (data[help_column]), column] = getFemaleSymbol()\n",
    "#data[(data[column].isna()) & (data[help_column])] = 'F'"
   ]
  },
  {
   "cell_type": "code",
   "execution_count": 53,
   "metadata": {},
   "outputs": [
    {
     "data": {
      "text/plain": [
       "39"
      ]
     },
     "execution_count": 53,
     "metadata": {},
     "output_type": "execute_result"
    }
   ],
   "source": [
    "data['SEX'].isna().sum()"
   ]
  },
  {
   "cell_type": "code",
   "execution_count": 54,
   "metadata": {},
   "outputs": [],
   "source": [
    "help_column = fixWierdCharsInString('relationship')\n",
    "# Neexistuje v datasete muž/žena, ktorý/ktorá je vydatý/oženená.\n",
    "data.loc[data[data[column].isna() & (data[help_column] == fixWierdCharsInString('Wife'))].index, column] = getFemaleSymbol()\n",
    "data.loc[data[data[column].isna() & (data[help_column] == fixWierdCharsInString('Husband'))].index, column] = getMaleSymbol()"
   ]
  },
  {
   "cell_type": "code",
   "execution_count": 55,
   "metadata": {},
   "outputs": [
    {
     "data": {
      "text/plain": [
       "17"
      ]
     },
     "execution_count": 55,
     "metadata": {},
     "output_type": "execute_result"
    }
   ],
   "source": [
    "data['SEX'].isna().sum()"
   ]
  },
  {
   "cell_type": "code",
   "execution_count": 56,
   "metadata": {},
   "outputs": [],
   "source": [
    "# Vyfiltrujeme si pacientov s nešpecifikovaným datumom narodenia, a doplnime ich podla veku za predpokladu ze dataset bol robeni v roku 2016.\n",
    "column = fixWierdCharsInString('date_of_birth')\n",
    "help_column = fixWierdCharsInString('age')\n",
    "data.loc[(data[column].isna()) & (data[help_column].notna()),[column, help_column]] = data.loc[(data[column].isna()) & (data[help_column].notna()),[column, help_column]].apply(calculateDateFromAge, axis=1)"
   ]
  },
  {
   "cell_type": "code",
   "execution_count": 57,
   "metadata": {},
   "outputs": [
    {
     "data": {
      "text/plain": [
       "0"
      ]
     },
     "execution_count": 57,
     "metadata": {},
     "output_type": "execute_result"
    }
   ],
   "source": [
    "data['DATE_OF_BIRTH'].isna().sum()"
   ]
  },
  {
   "cell_type": "markdown",
   "metadata": {},
   "source": [
    "## Doplnenie chýbajúcich hodnôt po stĺpcoch"
   ]
  },
  {
   "cell_type": "code",
   "execution_count": 58,
   "metadata": {},
   "outputs": [],
   "source": [
    "if train:\n",
    "    create_csv(data,file_median_train)\n",
    "    create_csv(data,file_modus_train) \n",
    "    create_csv(data,file_mean_train)\n",
    "    create_csv(data,file_knn_train)\n",
    "else:\n",
    "    create_csv(data,file_median_test)\n",
    "    create_csv(data,file_modus_test)\n",
    "    create_csv(data,file_mean_test)\n",
    "    create_csv(data,file_knn_test)"
   ]
  },
  {
   "cell_type": "code",
   "execution_count": 59,
   "metadata": {},
   "outputs": [],
   "source": [
    "checkpoint_missing_data_by_columns = data.copy()"
   ]
  },
  {
   "cell_type": "markdown",
   "metadata": {},
   "source": [
    "### Vytvorenie imputerov"
   ]
  },
  {
   "cell_type": "code",
   "execution_count": 60,
   "metadata": {},
   "outputs": [],
   "source": [
    "imp_most_frequent = preprocessing.Imputer(missing_values='NaN', strategy='most_frequent', axis=0)\n",
    "imp_mean = preprocessing.Imputer(missing_values='NaN', strategy='mean', axis=0)\n",
    "imp_median = preprocessing.Imputer(missing_values='NaN', strategy='median', axis=0)"
   ]
  },
  {
   "cell_type": "code",
   "execution_count": 61,
   "metadata": {
    "scrolled": true
   },
   "outputs": [
    {
     "name": "stdout",
     "output_type": "stream",
     "text": [
      "SEX : 2\n",
      "REFERRAL_SOURCE : 5\n",
      "RELATIONSHIP : 6\n",
      "JOB : 13\n",
      "STATE : 2\n",
      "MARITAL_STATUS : 7\n",
      "JOB_SEGMENT : 6\n",
      "RACE : 5\n",
      "CLASS : 4\n"
     ]
    }
   ],
   "source": [
    "checkAllObjectType(data)"
   ]
  },
  {
   "cell_type": "markdown",
   "metadata": {},
   "source": [
    "Atribút **capital_gain** - chýbajúce hodnoty doplníme modusom, t.j. najčastejšie sa vyskytujúcou hodnotou."
   ]
  },
  {
   "cell_type": "code",
   "execution_count": 62,
   "metadata": {
    "scrolled": true
   },
   "outputs": [],
   "source": [
    "#Doplnime vsetky numericke pomocou imputer\n",
    "#col_names = data.select_dtypes(exclude=['object', 'datetime64']).columns\n",
    "#data.loc[:,col_names] = pd.DataFrame(imp_most_frequent.fit_transform(filled_numeric_data), columns=col_names)"
   ]
  },
  {
   "cell_type": "code",
   "execution_count": 63,
   "metadata": {
    "scrolled": true
   },
   "outputs": [
    {
     "data": {
      "text/plain": [
       "AGE                            0\n",
       "SEX                           17\n",
       "ON_THYROXINE                   0\n",
       "QUERY_ON_THYROXINE             0\n",
       "ON_ANTITHYROID_MEDICATION      0\n",
       "SICK                           0\n",
       "PREGNANT                       0\n",
       "THYROID_SURGERY                0\n",
       "I131_TREATMENT                 0\n",
       "QUERY_HYPOTHYROID              0\n",
       "QUERY_HYPERTHYROID             0\n",
       "LITHIUM                        0\n",
       "GOITRE                         0\n",
       "TUMOR                          0\n",
       "HYPOPITUITARY                  0\n",
       "PSYCH                          0\n",
       "TSH_MEASURED                   0\n",
       "TSH                           85\n",
       "T3_MEASURED                    0\n",
       "T3                           184\n",
       "TT4_MEASURED                   0\n",
       "TT4                           47\n",
       "T4U_MEASURED                   0\n",
       "T4U                           90\n",
       "FTI_MEASURED                   0\n",
       "FTI                           90\n",
       "REFERRAL_SOURCE                0\n",
       "FNLWGT                         0\n",
       "EDUCATION_NUM                  0\n",
       "RELATIONSHIP                   0\n",
       "CAPITAL_GAIN                  97\n",
       "CAPITAL_LOSS                   0\n",
       "HOURS_PER_WEEK                 0\n",
       "DATE_OF_BIRTH                  0\n",
       "JOB                           76\n",
       "STATE                          0\n",
       "MARITAL_STATUS                 0\n",
       "JOB_SEGMENT                   76\n",
       "RACE                           0\n",
       "CLASS                          0\n",
       "dtype: int64"
      ]
     },
     "execution_count": 63,
     "metadata": {},
     "output_type": "execute_result"
    }
   ],
   "source": [
    "data.apply(count_missing)"
   ]
  },
  {
   "cell_type": "markdown",
   "metadata": {},
   "source": [
    "Polia, kde bola hodnota **'?'** sme prepísali na hodnotu **'Other_service'** z toho dôvodu, že tento atribút nevieme doplniť na základe žiadnej inej stratégie a preto sme priradili najvšeobecnejšiu hodnotu. "
   ]
  },
  {
   "cell_type": "code",
   "execution_count": 64,
   "metadata": {},
   "outputs": [
    {
     "data": {
      "text/plain": [
       "76"
      ]
     },
     "execution_count": 64,
     "metadata": {},
     "output_type": "execute_result"
    }
   ],
   "source": [
    "column = fixWierdCharsInString('job')\n",
    "data[column].isnull().sum()"
   ]
  },
  {
   "cell_type": "markdown",
   "metadata": {},
   "source": [
    "Atribút **state** nahradíme modusom, pretože hodnota **'United_States'** sa nachádza u väčšiny pacientov a nevieme túto hodnotu doplniť pomocou iných atribútov. "
   ]
  },
  {
   "cell_type": "code",
   "execution_count": 65,
   "metadata": {},
   "outputs": [],
   "source": [
    "#column = fixWierdCharsInString('state')\n",
    "#count_missing(data[column])"
   ]
  },
  {
   "cell_type": "code",
   "execution_count": 66,
   "metadata": {},
   "outputs": [],
   "source": [
    "#mode = data[column].mode()\n",
    "#data[column].fillna(mode[0], inplace=True)"
   ]
  },
  {
   "cell_type": "code",
   "execution_count": 67,
   "metadata": {},
   "outputs": [
    {
     "data": {
      "text/plain": [
       "76"
      ]
     },
     "execution_count": 67,
     "metadata": {},
     "output_type": "execute_result"
    }
   ],
   "source": [
    "count_missing(data[column])"
   ]
  },
  {
   "cell_type": "code",
   "execution_count": 68,
   "metadata": {},
   "outputs": [
    {
     "data": {
      "text/plain": [
       "PRIVATE             687\n",
       "LOCAL_GOV            66\n",
       "SELF_EMP_NOT_INC     58\n",
       "STATE_GOV            47\n",
       "SELF_EMP_INC         19\n",
       "FEDERAL_GOV          19\n",
       "Name: JOB_SEGMENT, dtype: int64"
      ]
     },
     "execution_count": 68,
     "metadata": {},
     "output_type": "execute_result"
    }
   ],
   "source": [
    "data['JOB_SEGMENT'].value_counts()"
   ]
  },
  {
   "cell_type": "markdown",
   "metadata": {},
   "source": [
    "Chýbajúce hodnoty v atribúte **JOB_SEGMENT** sme doplnili pomocou najčastejšie sa vyskytujúcej hodnoty."
   ]
  },
  {
   "cell_type": "code",
   "execution_count": 69,
   "metadata": {},
   "outputs": [],
   "source": [
    "column = fixWierdCharsInString('job_segment')\n",
    "mode = data[column].mode()\n",
    "#data[column].fillna(mode[0], inplace=True)"
   ]
  },
  {
   "cell_type": "code",
   "execution_count": 70,
   "metadata": {},
   "outputs": [
    {
     "data": {
      "text/plain": [
       "76"
      ]
     },
     "execution_count": 70,
     "metadata": {},
     "output_type": "execute_result"
    }
   ],
   "source": [
    "count_missing(data[column])"
   ]
  },
  {
   "cell_type": "code",
   "execution_count": 71,
   "metadata": {},
   "outputs": [
    {
     "name": "stdout",
     "output_type": "stream",
     "text": [
      "Index name ID\n",
      "Index(['AGE', 'SEX', 'ON_THYROXINE', 'QUERY_ON_THYROXINE',\n",
      "       'ON_ANTITHYROID_MEDICATION', 'SICK', 'PREGNANT', 'THYROID_SURGERY',\n",
      "       'I131_TREATMENT', 'QUERY_HYPOTHYROID', 'QUERY_HYPERTHYROID', 'LITHIUM',\n",
      "       'GOITRE', 'TUMOR', 'HYPOPITUITARY', 'PSYCH', 'TSH_MEASURED', 'TSH',\n",
      "       'T3_MEASURED', 'T3', 'TT4_MEASURED', 'TT4', 'T4U_MEASURED', 'T4U',\n",
      "       'FTI_MEASURED', 'FTI', 'REFERRAL_SOURCE', 'FNLWGT', 'EDUCATION_NUM',\n",
      "       'RELATIONSHIP', 'CAPITAL_GAIN', 'CAPITAL_LOSS', 'HOURS_PER_WEEK',\n",
      "       'DATE_OF_BIRTH', 'JOB', 'STATE', 'MARITAL_STATUS', 'JOB_SEGMENT',\n",
      "       'RACE', 'CLASS'],\n",
      "      dtype='object')\n"
     ]
    }
   ],
   "source": [
    "if not train:\n",
    "    clean_data = init_dataset('data/clean_train_data/clean_train.csv')\n",
    "else:\n",
    "    create_csv(data,'data/clean_train_data/clean_train.csv')\n",
    "    clean_data = data\n",
    "    \n",
    "    "
   ]
  },
  {
   "cell_type": "code",
   "execution_count": 72,
   "metadata": {},
   "outputs": [
    {
     "data": {
      "text/html": [
       "<div>\n",
       "<style scoped>\n",
       "    .dataframe tbody tr th:only-of-type {\n",
       "        vertical-align: middle;\n",
       "    }\n",
       "\n",
       "    .dataframe tbody tr th {\n",
       "        vertical-align: top;\n",
       "    }\n",
       "\n",
       "    .dataframe thead th {\n",
       "        text-align: right;\n",
       "    }\n",
       "</style>\n",
       "<table border=\"1\" class=\"dataframe\">\n",
       "  <thead>\n",
       "    <tr style=\"text-align: right;\">\n",
       "      <th></th>\n",
       "      <th>AGE</th>\n",
       "      <th>TSH</th>\n",
       "      <th>T3</th>\n",
       "      <th>TT4</th>\n",
       "      <th>T4U</th>\n",
       "      <th>FTI</th>\n",
       "      <th>FNLWGT</th>\n",
       "      <th>EDUCATION_NUM</th>\n",
       "      <th>CAPITAL_GAIN</th>\n",
       "      <th>CAPITAL_LOSS</th>\n",
       "      <th>HOURS_PER_WEEK</th>\n",
       "    </tr>\n",
       "  </thead>\n",
       "  <tbody>\n",
       "    <tr>\n",
       "      <th>count</th>\n",
       "      <td>972.000000</td>\n",
       "      <td>887.000000</td>\n",
       "      <td>788.000000</td>\n",
       "      <td>925.000000</td>\n",
       "      <td>882.000000</td>\n",
       "      <td>882.000000</td>\n",
       "      <td>972.000000</td>\n",
       "      <td>972.000000</td>\n",
       "      <td>875.000000</td>\n",
       "      <td>972.000000</td>\n",
       "      <td>972.000000</td>\n",
       "    </tr>\n",
       "    <tr>\n",
       "      <th>mean</th>\n",
       "      <td>51.423868</td>\n",
       "      <td>6.262835</td>\n",
       "      <td>1.981269</td>\n",
       "      <td>106.189622</td>\n",
       "      <td>0.986735</td>\n",
       "      <td>109.565533</td>\n",
       "      <td>185453.675926</td>\n",
       "      <td>10.036008</td>\n",
       "      <td>724.384000</td>\n",
       "      <td>49.802469</td>\n",
       "      <td>38.554527</td>\n",
       "    </tr>\n",
       "    <tr>\n",
       "      <th>std</th>\n",
       "      <td>18.966700</td>\n",
       "      <td>31.638353</td>\n",
       "      <td>0.835031</td>\n",
       "      <td>36.130949</td>\n",
       "      <td>0.198332</td>\n",
       "      <td>33.669539</td>\n",
       "      <td>102382.137299</td>\n",
       "      <td>2.467866</td>\n",
       "      <td>5322.514084</td>\n",
       "      <td>301.966019</td>\n",
       "      <td>13.694929</td>\n",
       "    </tr>\n",
       "    <tr>\n",
       "      <th>min</th>\n",
       "      <td>7.000000</td>\n",
       "      <td>0.005000</td>\n",
       "      <td>0.200000</td>\n",
       "      <td>2.900000</td>\n",
       "      <td>0.250000</td>\n",
       "      <td>2.800000</td>\n",
       "      <td>21755.000000</td>\n",
       "      <td>1.000000</td>\n",
       "      <td>0.000000</td>\n",
       "      <td>0.000000</td>\n",
       "      <td>1.000000</td>\n",
       "    </tr>\n",
       "    <tr>\n",
       "      <th>25%</th>\n",
       "      <td>35.000000</td>\n",
       "      <td>0.515000</td>\n",
       "      <td>1.500000</td>\n",
       "      <td>87.000000</td>\n",
       "      <td>0.870000</td>\n",
       "      <td>92.000000</td>\n",
       "      <td>115750.500000</td>\n",
       "      <td>9.000000</td>\n",
       "      <td>0.000000</td>\n",
       "      <td>0.000000</td>\n",
       "      <td>35.000000</td>\n",
       "    </tr>\n",
       "    <tr>\n",
       "      <th>50%</th>\n",
       "      <td>54.000000</td>\n",
       "      <td>1.300000</td>\n",
       "      <td>2.000000</td>\n",
       "      <td>103.000000</td>\n",
       "      <td>0.970000</td>\n",
       "      <td>106.000000</td>\n",
       "      <td>175291.500000</td>\n",
       "      <td>10.000000</td>\n",
       "      <td>0.000000</td>\n",
       "      <td>0.000000</td>\n",
       "      <td>40.000000</td>\n",
       "    </tr>\n",
       "    <tr>\n",
       "      <th>75%</th>\n",
       "      <td>67.000000</td>\n",
       "      <td>2.900000</td>\n",
       "      <td>2.300000</td>\n",
       "      <td>123.000000</td>\n",
       "      <td>1.080000</td>\n",
       "      <td>124.000000</td>\n",
       "      <td>227778.750000</td>\n",
       "      <td>12.000000</td>\n",
       "      <td>0.000000</td>\n",
       "      <td>0.000000</td>\n",
       "      <td>40.000000</td>\n",
       "    </tr>\n",
       "    <tr>\n",
       "      <th>max</th>\n",
       "      <td>93.000000</td>\n",
       "      <td>530.000000</td>\n",
       "      <td>8.500000</td>\n",
       "      <td>372.000000</td>\n",
       "      <td>2.320000</td>\n",
       "      <td>291.000000</td>\n",
       "      <td>858091.000000</td>\n",
       "      <td>16.000000</td>\n",
       "      <td>99999.000000</td>\n",
       "      <td>2444.000000</td>\n",
       "      <td>99.000000</td>\n",
       "    </tr>\n",
       "  </tbody>\n",
       "</table>\n",
       "</div>"
      ],
      "text/plain": [
       "              AGE         TSH          T3         TT4         T4U         FTI  \\\n",
       "count  972.000000  887.000000  788.000000  925.000000  882.000000  882.000000   \n",
       "mean    51.423868    6.262835    1.981269  106.189622    0.986735  109.565533   \n",
       "std     18.966700   31.638353    0.835031   36.130949    0.198332   33.669539   \n",
       "min      7.000000    0.005000    0.200000    2.900000    0.250000    2.800000   \n",
       "25%     35.000000    0.515000    1.500000   87.000000    0.870000   92.000000   \n",
       "50%     54.000000    1.300000    2.000000  103.000000    0.970000  106.000000   \n",
       "75%     67.000000    2.900000    2.300000  123.000000    1.080000  124.000000   \n",
       "max     93.000000  530.000000    8.500000  372.000000    2.320000  291.000000   \n",
       "\n",
       "              FNLWGT  EDUCATION_NUM  CAPITAL_GAIN  CAPITAL_LOSS  \\\n",
       "count     972.000000     972.000000    875.000000    972.000000   \n",
       "mean   185453.675926      10.036008    724.384000     49.802469   \n",
       "std    102382.137299       2.467866   5322.514084    301.966019   \n",
       "min     21755.000000       1.000000      0.000000      0.000000   \n",
       "25%    115750.500000       9.000000      0.000000      0.000000   \n",
       "50%    175291.500000      10.000000      0.000000      0.000000   \n",
       "75%    227778.750000      12.000000      0.000000      0.000000   \n",
       "max    858091.000000      16.000000  99999.000000   2444.000000   \n",
       "\n",
       "       HOURS_PER_WEEK  \n",
       "count      972.000000  \n",
       "mean        38.554527  \n",
       "std         13.694929  \n",
       "min          1.000000  \n",
       "25%         35.000000  \n",
       "50%         40.000000  \n",
       "75%         40.000000  \n",
       "max         99.000000  "
      ]
     },
     "execution_count": 72,
     "metadata": {},
     "output_type": "execute_result"
    }
   ],
   "source": [
    "data.select_dtypes(include=['int', 'float']).describe()\n"
   ]
  },
  {
   "cell_type": "code",
   "execution_count": 86,
   "metadata": {},
   "outputs": [
    {
     "data": {
      "text/html": [
       "<div>\n",
       "<style scoped>\n",
       "    .dataframe tbody tr th:only-of-type {\n",
       "        vertical-align: middle;\n",
       "    }\n",
       "\n",
       "    .dataframe tbody tr th {\n",
       "        vertical-align: top;\n",
       "    }\n",
       "\n",
       "    .dataframe thead th {\n",
       "        text-align: right;\n",
       "    }\n",
       "</style>\n",
       "<table border=\"1\" class=\"dataframe\">\n",
       "  <thead>\n",
       "    <tr style=\"text-align: right;\">\n",
       "      <th></th>\n",
       "      <th>AGE</th>\n",
       "      <th>TSH</th>\n",
       "      <th>T3</th>\n",
       "      <th>TT4</th>\n",
       "      <th>T4U</th>\n",
       "      <th>FTI</th>\n",
       "      <th>FNLWGT</th>\n",
       "      <th>EDUCATION_NUM</th>\n",
       "      <th>CAPITAL_GAIN</th>\n",
       "      <th>CAPITAL_LOSS</th>\n",
       "      <th>HOURS_PER_WEEK</th>\n",
       "    </tr>\n",
       "  </thead>\n",
       "  <tbody>\n",
       "    <tr>\n",
       "      <th>0</th>\n",
       "      <td>59.0</td>\n",
       "      <td>0.2</td>\n",
       "      <td>2.0</td>\n",
       "      <td>101.0</td>\n",
       "      <td>0.99</td>\n",
       "      <td>100.0</td>\n",
       "      <td>32616</td>\n",
       "      <td>9.0</td>\n",
       "      <td>0.0</td>\n",
       "      <td>0.0</td>\n",
       "      <td>40.0</td>\n",
       "    </tr>\n",
       "    <tr>\n",
       "      <th>1</th>\n",
       "      <td>NaN</td>\n",
       "      <td>NaN</td>\n",
       "      <td>NaN</td>\n",
       "      <td>NaN</td>\n",
       "      <td>NaN</td>\n",
       "      <td>107.0</td>\n",
       "      <td>37618</td>\n",
       "      <td>NaN</td>\n",
       "      <td>NaN</td>\n",
       "      <td>NaN</td>\n",
       "      <td>NaN</td>\n",
       "    </tr>\n",
       "    <tr>\n",
       "      <th>2</th>\n",
       "      <td>NaN</td>\n",
       "      <td>NaN</td>\n",
       "      <td>NaN</td>\n",
       "      <td>NaN</td>\n",
       "      <td>NaN</td>\n",
       "      <td>NaN</td>\n",
       "      <td>74883</td>\n",
       "      <td>NaN</td>\n",
       "      <td>NaN</td>\n",
       "      <td>NaN</td>\n",
       "      <td>NaN</td>\n",
       "    </tr>\n",
       "    <tr>\n",
       "      <th>3</th>\n",
       "      <td>NaN</td>\n",
       "      <td>NaN</td>\n",
       "      <td>NaN</td>\n",
       "      <td>NaN</td>\n",
       "      <td>NaN</td>\n",
       "      <td>NaN</td>\n",
       "      <td>80680</td>\n",
       "      <td>NaN</td>\n",
       "      <td>NaN</td>\n",
       "      <td>NaN</td>\n",
       "      <td>NaN</td>\n",
       "    </tr>\n",
       "  </tbody>\n",
       "</table>\n",
       "</div>"
      ],
      "text/plain": [
       "    AGE  TSH   T3    TT4   T4U    FTI  FNLWGT  EDUCATION_NUM  CAPITAL_GAIN  \\\n",
       "0  59.0  0.2  2.0  101.0  0.99  100.0   32616            9.0           0.0   \n",
       "1   NaN  NaN  NaN    NaN   NaN  107.0   37618            NaN           NaN   \n",
       "2   NaN  NaN  NaN    NaN   NaN    NaN   74883            NaN           NaN   \n",
       "3   NaN  NaN  NaN    NaN   NaN    NaN   80680            NaN           NaN   \n",
       "\n",
       "   CAPITAL_LOSS  HOURS_PER_WEEK  \n",
       "0           0.0            40.0  \n",
       "1           NaN             NaN  \n",
       "2           NaN             NaN  \n",
       "3           NaN             NaN  "
      ]
     },
     "execution_count": 86,
     "metadata": {},
     "output_type": "execute_result"
    }
   ],
   "source": [
    "clean_data.loc[:, columns].mode().loc[:3]"
   ]
  },
  {
   "cell_type": "code",
   "execution_count": 85,
   "metadata": {},
   "outputs": [
    {
     "data": {
      "text/plain": [
       "AGE                   51.844230\n",
       "TSH                    4.672150\n",
       "T3                     2.024966\n",
       "TT4                  109.072401\n",
       "T4U                    0.997912\n",
       "FTI                  110.787984\n",
       "FNLWGT            187123.102143\n",
       "EDUCATION_NUM         10.048214\n",
       "CAPITAL_GAIN         881.830952\n",
       "CAPITAL_LOSS          65.141786\n",
       "HOURS_PER_WEEK        38.544643\n",
       "dtype: float64"
      ]
     },
     "execution_count": 85,
     "metadata": {},
     "output_type": "execute_result"
    }
   ],
   "source": [
    "clean_data.loc[:, columns].mean()"
   ]
  },
  {
   "cell_type": "code",
   "execution_count": 73,
   "metadata": {
    "scrolled": true
   },
   "outputs": [
    {
     "data": {
      "text/plain": [
       "(972, 40)"
      ]
     },
     "execution_count": 73,
     "metadata": {},
     "output_type": "execute_result"
    }
   ],
   "source": [
    "# Doplnenie podla priemeru\n",
    "imputed_DF = data.copy()\n",
    "columns = clean_data.select_dtypes(include=['int', 'float']).columns\n",
    "imputed_DF.fillna(clean_data.loc[:, columns].mean(), inplace=True)\n",
    "\n",
    "if train:\n",
    "    create_csv(imputed_DF, file_mean_train)\n",
    "else:\n",
    "    create_csv(imputed_DF, file_mean_test)\n",
    "\n",
    "imputed_DF.shape"
   ]
  },
  {
   "cell_type": "code",
   "execution_count": 74,
   "metadata": {},
   "outputs": [
    {
     "data": {
      "text/html": [
       "<div>\n",
       "<style scoped>\n",
       "    .dataframe tbody tr th:only-of-type {\n",
       "        vertical-align: middle;\n",
       "    }\n",
       "\n",
       "    .dataframe tbody tr th {\n",
       "        vertical-align: top;\n",
       "    }\n",
       "\n",
       "    .dataframe thead th {\n",
       "        text-align: right;\n",
       "    }\n",
       "</style>\n",
       "<table border=\"1\" class=\"dataframe\">\n",
       "  <thead>\n",
       "    <tr style=\"text-align: right;\">\n",
       "      <th></th>\n",
       "      <th>AGE</th>\n",
       "      <th>TSH</th>\n",
       "      <th>T3</th>\n",
       "      <th>TT4</th>\n",
       "      <th>T4U</th>\n",
       "      <th>FTI</th>\n",
       "      <th>FNLWGT</th>\n",
       "      <th>EDUCATION_NUM</th>\n",
       "      <th>CAPITAL_GAIN</th>\n",
       "      <th>CAPITAL_LOSS</th>\n",
       "      <th>HOURS_PER_WEEK</th>\n",
       "    </tr>\n",
       "  </thead>\n",
       "  <tbody>\n",
       "    <tr>\n",
       "      <th>count</th>\n",
       "      <td>972.000000</td>\n",
       "      <td>972.000000</td>\n",
       "      <td>972.000000</td>\n",
       "      <td>972.000000</td>\n",
       "      <td>972.000000</td>\n",
       "      <td>972.000000</td>\n",
       "      <td>972.000000</td>\n",
       "      <td>972.000000</td>\n",
       "      <td>972.000000</td>\n",
       "      <td>972.000000</td>\n",
       "      <td>972.000000</td>\n",
       "    </tr>\n",
       "    <tr>\n",
       "      <th>mean</th>\n",
       "      <td>51.423868</td>\n",
       "      <td>6.123732</td>\n",
       "      <td>1.989541</td>\n",
       "      <td>106.329015</td>\n",
       "      <td>0.987770</td>\n",
       "      <td>109.678723</td>\n",
       "      <td>185453.675926</td>\n",
       "      <td>10.036008</td>\n",
       "      <td>740.096299</td>\n",
       "      <td>49.802469</td>\n",
       "      <td>38.554527</td>\n",
       "    </tr>\n",
       "    <tr>\n",
       "      <th>std</th>\n",
       "      <td>18.966700</td>\n",
       "      <td>30.225198</td>\n",
       "      <td>0.751957</td>\n",
       "      <td>35.251097</td>\n",
       "      <td>0.188945</td>\n",
       "      <td>32.073182</td>\n",
       "      <td>102382.137299</td>\n",
       "      <td>2.467866</td>\n",
       "      <td>5049.889836</td>\n",
       "      <td>301.966019</td>\n",
       "      <td>13.694929</td>\n",
       "    </tr>\n",
       "    <tr>\n",
       "      <th>min</th>\n",
       "      <td>7.000000</td>\n",
       "      <td>0.005000</td>\n",
       "      <td>0.200000</td>\n",
       "      <td>2.900000</td>\n",
       "      <td>0.250000</td>\n",
       "      <td>2.800000</td>\n",
       "      <td>21755.000000</td>\n",
       "      <td>1.000000</td>\n",
       "      <td>0.000000</td>\n",
       "      <td>0.000000</td>\n",
       "      <td>1.000000</td>\n",
       "    </tr>\n",
       "    <tr>\n",
       "      <th>25%</th>\n",
       "      <td>35.000000</td>\n",
       "      <td>0.600000</td>\n",
       "      <td>1.675000</td>\n",
       "      <td>87.000000</td>\n",
       "      <td>0.880000</td>\n",
       "      <td>93.750000</td>\n",
       "      <td>115750.500000</td>\n",
       "      <td>9.000000</td>\n",
       "      <td>0.000000</td>\n",
       "      <td>0.000000</td>\n",
       "      <td>35.000000</td>\n",
       "    </tr>\n",
       "    <tr>\n",
       "      <th>50%</th>\n",
       "      <td>54.000000</td>\n",
       "      <td>1.550000</td>\n",
       "      <td>2.024966</td>\n",
       "      <td>104.000000</td>\n",
       "      <td>0.990000</td>\n",
       "      <td>110.000000</td>\n",
       "      <td>175291.500000</td>\n",
       "      <td>10.000000</td>\n",
       "      <td>0.000000</td>\n",
       "      <td>0.000000</td>\n",
       "      <td>40.000000</td>\n",
       "    </tr>\n",
       "    <tr>\n",
       "      <th>75%</th>\n",
       "      <td>67.000000</td>\n",
       "      <td>3.900000</td>\n",
       "      <td>2.200000</td>\n",
       "      <td>121.250000</td>\n",
       "      <td>1.060000</td>\n",
       "      <td>121.000000</td>\n",
       "      <td>227778.750000</td>\n",
       "      <td>12.000000</td>\n",
       "      <td>0.000000</td>\n",
       "      <td>0.000000</td>\n",
       "      <td>40.000000</td>\n",
       "    </tr>\n",
       "    <tr>\n",
       "      <th>max</th>\n",
       "      <td>93.000000</td>\n",
       "      <td>530.000000</td>\n",
       "      <td>8.500000</td>\n",
       "      <td>372.000000</td>\n",
       "      <td>2.320000</td>\n",
       "      <td>291.000000</td>\n",
       "      <td>858091.000000</td>\n",
       "      <td>16.000000</td>\n",
       "      <td>99999.000000</td>\n",
       "      <td>2444.000000</td>\n",
       "      <td>99.000000</td>\n",
       "    </tr>\n",
       "  </tbody>\n",
       "</table>\n",
       "</div>"
      ],
      "text/plain": [
       "              AGE         TSH          T3         TT4         T4U         FTI  \\\n",
       "count  972.000000  972.000000  972.000000  972.000000  972.000000  972.000000   \n",
       "mean    51.423868    6.123732    1.989541  106.329015    0.987770  109.678723   \n",
       "std     18.966700   30.225198    0.751957   35.251097    0.188945   32.073182   \n",
       "min      7.000000    0.005000    0.200000    2.900000    0.250000    2.800000   \n",
       "25%     35.000000    0.600000    1.675000   87.000000    0.880000   93.750000   \n",
       "50%     54.000000    1.550000    2.024966  104.000000    0.990000  110.000000   \n",
       "75%     67.000000    3.900000    2.200000  121.250000    1.060000  121.000000   \n",
       "max     93.000000  530.000000    8.500000  372.000000    2.320000  291.000000   \n",
       "\n",
       "              FNLWGT  EDUCATION_NUM  CAPITAL_GAIN  CAPITAL_LOSS  \\\n",
       "count     972.000000     972.000000    972.000000    972.000000   \n",
       "mean   185453.675926      10.036008    740.096299     49.802469   \n",
       "std    102382.137299       2.467866   5049.889836    301.966019   \n",
       "min     21755.000000       1.000000      0.000000      0.000000   \n",
       "25%    115750.500000       9.000000      0.000000      0.000000   \n",
       "50%    175291.500000      10.000000      0.000000      0.000000   \n",
       "75%    227778.750000      12.000000      0.000000      0.000000   \n",
       "max    858091.000000      16.000000  99999.000000   2444.000000   \n",
       "\n",
       "       HOURS_PER_WEEK  \n",
       "count      972.000000  \n",
       "mean        38.554527  \n",
       "std         13.694929  \n",
       "min          1.000000  \n",
       "25%         35.000000  \n",
       "50%         40.000000  \n",
       "75%         40.000000  \n",
       "max         99.000000  "
      ]
     },
     "execution_count": 74,
     "metadata": {},
     "output_type": "execute_result"
    }
   ],
   "source": [
    "imputed_DF.describe()"
   ]
  },
  {
   "cell_type": "code",
   "execution_count": 75,
   "metadata": {},
   "outputs": [
    {
     "data": {
      "text/plain": [
       "(972, 40)"
      ]
     },
     "execution_count": 75,
     "metadata": {},
     "output_type": "execute_result"
    }
   ],
   "source": [
    "# Doplnenie podla medianu\n",
    "fill_NaN = preprocessing.Imputer(missing_values=np.nan, strategy='median', axis=1)\n",
    "fill_NaN.fit(clean_data.select_dtypes(include=['int', 'float']))\n",
    "\n",
    "imputed_DF = pd.DataFrame(fill_NaN.transform(data.select_dtypes(include=['int', 'float'])))\n",
    "imputed_DF.columns = clean_data.select_dtypes(include=['int', 'float']).columns\n",
    "imputed_DF.index = data.select_dtypes(include=['int', 'float']).index\n",
    "\n",
    "imputed_DF = imputed_DF.join(clean_data.select_dtypes(exclude=['int', 'float']))\n",
    "\n",
    "if train:\n",
    "    create_csv(imputed_DF, file_median_train)\n",
    "else:\n",
    "    create_csv(imputed_DF, file_median_test)\n",
    "    \n",
    "imputed_DF.shape"
   ]
  },
  {
   "cell_type": "code",
   "execution_count": 76,
   "metadata": {},
   "outputs": [
    {
     "data": {
      "text/html": [
       "<div>\n",
       "<style scoped>\n",
       "    .dataframe tbody tr th:only-of-type {\n",
       "        vertical-align: middle;\n",
       "    }\n",
       "\n",
       "    .dataframe tbody tr th {\n",
       "        vertical-align: top;\n",
       "    }\n",
       "\n",
       "    .dataframe thead th {\n",
       "        text-align: right;\n",
       "    }\n",
       "</style>\n",
       "<table border=\"1\" class=\"dataframe\">\n",
       "  <thead>\n",
       "    <tr style=\"text-align: right;\">\n",
       "      <th></th>\n",
       "      <th>AGE</th>\n",
       "      <th>TSH</th>\n",
       "      <th>T3</th>\n",
       "      <th>TT4</th>\n",
       "      <th>T4U</th>\n",
       "      <th>FTI</th>\n",
       "      <th>FNLWGT</th>\n",
       "      <th>EDUCATION_NUM</th>\n",
       "      <th>CAPITAL_GAIN</th>\n",
       "      <th>CAPITAL_LOSS</th>\n",
       "      <th>HOURS_PER_WEEK</th>\n",
       "    </tr>\n",
       "  </thead>\n",
       "  <tbody>\n",
       "    <tr>\n",
       "      <th>count</th>\n",
       "      <td>972.000000</td>\n",
       "      <td>972.00000</td>\n",
       "      <td>972.000000</td>\n",
       "      <td>972.000000</td>\n",
       "      <td>972.000000</td>\n",
       "      <td>972.000000</td>\n",
       "      <td>972.000000</td>\n",
       "      <td>972.000000</td>\n",
       "      <td>972.000000</td>\n",
       "      <td>972.000000</td>\n",
       "      <td>972.000000</td>\n",
       "    </tr>\n",
       "    <tr>\n",
       "      <th>mean</th>\n",
       "      <td>51.423868</td>\n",
       "      <td>8.17483</td>\n",
       "      <td>6.712181</td>\n",
       "      <td>102.228035</td>\n",
       "      <td>2.667747</td>\n",
       "      <td>101.192953</td>\n",
       "      <td>185453.675926</td>\n",
       "      <td>10.036008</td>\n",
       "      <td>654.657253</td>\n",
       "      <td>49.802469</td>\n",
       "      <td>38.554527</td>\n",
       "    </tr>\n",
       "    <tr>\n",
       "      <th>std</th>\n",
       "      <td>18.966700</td>\n",
       "      <td>31.04962</td>\n",
       "      <td>11.237838</td>\n",
       "      <td>39.476229</td>\n",
       "      <td>6.441280</td>\n",
       "      <td>41.593086</td>\n",
       "      <td>102382.137299</td>\n",
       "      <td>2.467866</td>\n",
       "      <td>5054.015595</td>\n",
       "      <td>301.966019</td>\n",
       "      <td>13.694929</td>\n",
       "    </tr>\n",
       "    <tr>\n",
       "      <th>min</th>\n",
       "      <td>7.000000</td>\n",
       "      <td>0.00500</td>\n",
       "      <td>0.200000</td>\n",
       "      <td>2.900000</td>\n",
       "      <td>0.250000</td>\n",
       "      <td>2.800000</td>\n",
       "      <td>21755.000000</td>\n",
       "      <td>1.000000</td>\n",
       "      <td>0.000000</td>\n",
       "      <td>0.000000</td>\n",
       "      <td>1.000000</td>\n",
       "    </tr>\n",
       "    <tr>\n",
       "      <th>25%</th>\n",
       "      <td>35.000000</td>\n",
       "      <td>0.60000</td>\n",
       "      <td>1.675000</td>\n",
       "      <td>83.000000</td>\n",
       "      <td>0.880000</td>\n",
       "      <td>86.750000</td>\n",
       "      <td>115750.500000</td>\n",
       "      <td>9.000000</td>\n",
       "      <td>0.000000</td>\n",
       "      <td>0.000000</td>\n",
       "      <td>35.000000</td>\n",
       "    </tr>\n",
       "    <tr>\n",
       "      <th>50%</th>\n",
       "      <td>54.000000</td>\n",
       "      <td>1.55000</td>\n",
       "      <td>2.100000</td>\n",
       "      <td>101.000000</td>\n",
       "      <td>0.990000</td>\n",
       "      <td>104.000000</td>\n",
       "      <td>175291.500000</td>\n",
       "      <td>10.000000</td>\n",
       "      <td>0.000000</td>\n",
       "      <td>0.000000</td>\n",
       "      <td>40.000000</td>\n",
       "    </tr>\n",
       "    <tr>\n",
       "      <th>75%</th>\n",
       "      <td>67.000000</td>\n",
       "      <td>3.90000</td>\n",
       "      <td>2.900000</td>\n",
       "      <td>121.250000</td>\n",
       "      <td>1.130000</td>\n",
       "      <td>121.000000</td>\n",
       "      <td>227778.750000</td>\n",
       "      <td>12.000000</td>\n",
       "      <td>0.000000</td>\n",
       "      <td>0.000000</td>\n",
       "      <td>40.000000</td>\n",
       "    </tr>\n",
       "    <tr>\n",
       "      <th>max</th>\n",
       "      <td>93.000000</td>\n",
       "      <td>530.00000</td>\n",
       "      <td>88.000000</td>\n",
       "      <td>372.000000</td>\n",
       "      <td>60.000000</td>\n",
       "      <td>291.000000</td>\n",
       "      <td>858091.000000</td>\n",
       "      <td>16.000000</td>\n",
       "      <td>99999.000000</td>\n",
       "      <td>2444.000000</td>\n",
       "      <td>99.000000</td>\n",
       "    </tr>\n",
       "  </tbody>\n",
       "</table>\n",
       "</div>"
      ],
      "text/plain": [
       "              AGE        TSH          T3         TT4         T4U         FTI  \\\n",
       "count  972.000000  972.00000  972.000000  972.000000  972.000000  972.000000   \n",
       "mean    51.423868    8.17483    6.712181  102.228035    2.667747  101.192953   \n",
       "std     18.966700   31.04962   11.237838   39.476229    6.441280   41.593086   \n",
       "min      7.000000    0.00500    0.200000    2.900000    0.250000    2.800000   \n",
       "25%     35.000000    0.60000    1.675000   83.000000    0.880000   86.750000   \n",
       "50%     54.000000    1.55000    2.100000  101.000000    0.990000  104.000000   \n",
       "75%     67.000000    3.90000    2.900000  121.250000    1.130000  121.000000   \n",
       "max     93.000000  530.00000   88.000000  372.000000   60.000000  291.000000   \n",
       "\n",
       "              FNLWGT  EDUCATION_NUM  CAPITAL_GAIN  CAPITAL_LOSS  \\\n",
       "count     972.000000     972.000000    972.000000    972.000000   \n",
       "mean   185453.675926      10.036008    654.657253     49.802469   \n",
       "std    102382.137299       2.467866   5054.015595    301.966019   \n",
       "min     21755.000000       1.000000      0.000000      0.000000   \n",
       "25%    115750.500000       9.000000      0.000000      0.000000   \n",
       "50%    175291.500000      10.000000      0.000000      0.000000   \n",
       "75%    227778.750000      12.000000      0.000000      0.000000   \n",
       "max    858091.000000      16.000000  99999.000000   2444.000000   \n",
       "\n",
       "       HOURS_PER_WEEK  \n",
       "count      972.000000  \n",
       "mean        38.554527  \n",
       "std         13.694929  \n",
       "min          1.000000  \n",
       "25%         35.000000  \n",
       "50%         40.000000  \n",
       "75%         40.000000  \n",
       "max         99.000000  "
      ]
     },
     "execution_count": 76,
     "metadata": {},
     "output_type": "execute_result"
    }
   ],
   "source": [
    "imputed_DF.describe()"
   ]
  },
  {
   "cell_type": "code",
   "execution_count": 77,
   "metadata": {},
   "outputs": [
    {
     "data": {
      "text/plain": [
       "(972, 40)"
      ]
     },
     "execution_count": 77,
     "metadata": {},
     "output_type": "execute_result"
    }
   ],
   "source": [
    "# Doplnenie podla most frequent\n",
    "imputed_DF = data.copy()\n",
    "columns = clean_data.select_dtypes(include=['int', 'float']).columns\n",
    "imputed_DF.fillna(clean_data.loc[:, columns].mode().loc[0], inplace=True)\n",
    "\n",
    "if train:\n",
    "    create_csv(imputed_DF, file_modus_train)\n",
    "else:\n",
    "    create_csv(imputed_DF, file_modus_test)\n",
    "\n",
    "imputed_DF.shape"
   ]
  },
  {
   "cell_type": "code",
   "execution_count": 78,
   "metadata": {},
   "outputs": [
    {
     "data": {
      "text/html": [
       "<div>\n",
       "<style scoped>\n",
       "    .dataframe tbody tr th:only-of-type {\n",
       "        vertical-align: middle;\n",
       "    }\n",
       "\n",
       "    .dataframe tbody tr th {\n",
       "        vertical-align: top;\n",
       "    }\n",
       "\n",
       "    .dataframe thead th {\n",
       "        text-align: right;\n",
       "    }\n",
       "</style>\n",
       "<table border=\"1\" class=\"dataframe\">\n",
       "  <thead>\n",
       "    <tr style=\"text-align: right;\">\n",
       "      <th></th>\n",
       "      <th>AGE</th>\n",
       "      <th>TSH</th>\n",
       "      <th>T3</th>\n",
       "      <th>TT4</th>\n",
       "      <th>T4U</th>\n",
       "      <th>FTI</th>\n",
       "      <th>FNLWGT</th>\n",
       "      <th>EDUCATION_NUM</th>\n",
       "      <th>CAPITAL_GAIN</th>\n",
       "      <th>CAPITAL_LOSS</th>\n",
       "      <th>HOURS_PER_WEEK</th>\n",
       "    </tr>\n",
       "  </thead>\n",
       "  <tbody>\n",
       "    <tr>\n",
       "      <th>count</th>\n",
       "      <td>972.000000</td>\n",
       "      <td>972.000000</td>\n",
       "      <td>972.000000</td>\n",
       "      <td>972.000000</td>\n",
       "      <td>972.000000</td>\n",
       "      <td>972.000000</td>\n",
       "      <td>972.000000</td>\n",
       "      <td>972.000000</td>\n",
       "      <td>972.000000</td>\n",
       "      <td>972.000000</td>\n",
       "      <td>972.000000</td>\n",
       "    </tr>\n",
       "    <tr>\n",
       "      <th>mean</th>\n",
       "      <td>51.423868</td>\n",
       "      <td>5.732649</td>\n",
       "      <td>1.984815</td>\n",
       "      <td>105.938683</td>\n",
       "      <td>0.987037</td>\n",
       "      <td>108.679835</td>\n",
       "      <td>185453.675926</td>\n",
       "      <td>10.036008</td>\n",
       "      <td>652.094650</td>\n",
       "      <td>49.802469</td>\n",
       "      <td>38.554527</td>\n",
       "    </tr>\n",
       "    <tr>\n",
       "      <th>std</th>\n",
       "      <td>18.966700</td>\n",
       "      <td>30.270396</td>\n",
       "      <td>0.751798</td>\n",
       "      <td>35.263262</td>\n",
       "      <td>0.188919</td>\n",
       "      <td>32.190976</td>\n",
       "      <td>102382.137299</td>\n",
       "      <td>2.467866</td>\n",
       "      <td>5054.339337</td>\n",
       "      <td>301.966019</td>\n",
       "      <td>13.694929</td>\n",
       "    </tr>\n",
       "    <tr>\n",
       "      <th>min</th>\n",
       "      <td>7.000000</td>\n",
       "      <td>0.005000</td>\n",
       "      <td>0.200000</td>\n",
       "      <td>2.900000</td>\n",
       "      <td>0.250000</td>\n",
       "      <td>2.800000</td>\n",
       "      <td>21755.000000</td>\n",
       "      <td>1.000000</td>\n",
       "      <td>0.000000</td>\n",
       "      <td>0.000000</td>\n",
       "      <td>1.000000</td>\n",
       "    </tr>\n",
       "    <tr>\n",
       "      <th>25%</th>\n",
       "      <td>35.000000</td>\n",
       "      <td>0.275000</td>\n",
       "      <td>1.675000</td>\n",
       "      <td>87.000000</td>\n",
       "      <td>0.880000</td>\n",
       "      <td>93.750000</td>\n",
       "      <td>115750.500000</td>\n",
       "      <td>9.000000</td>\n",
       "      <td>0.000000</td>\n",
       "      <td>0.000000</td>\n",
       "      <td>35.000000</td>\n",
       "    </tr>\n",
       "    <tr>\n",
       "      <th>50%</th>\n",
       "      <td>54.000000</td>\n",
       "      <td>1.200000</td>\n",
       "      <td>2.000000</td>\n",
       "      <td>101.000000</td>\n",
       "      <td>0.990000</td>\n",
       "      <td>104.000000</td>\n",
       "      <td>175291.500000</td>\n",
       "      <td>10.000000</td>\n",
       "      <td>0.000000</td>\n",
       "      <td>0.000000</td>\n",
       "      <td>40.000000</td>\n",
       "    </tr>\n",
       "    <tr>\n",
       "      <th>75%</th>\n",
       "      <td>67.000000</td>\n",
       "      <td>2.700000</td>\n",
       "      <td>2.200000</td>\n",
       "      <td>121.250000</td>\n",
       "      <td>1.060000</td>\n",
       "      <td>121.000000</td>\n",
       "      <td>227778.750000</td>\n",
       "      <td>12.000000</td>\n",
       "      <td>0.000000</td>\n",
       "      <td>0.000000</td>\n",
       "      <td>40.000000</td>\n",
       "    </tr>\n",
       "    <tr>\n",
       "      <th>max</th>\n",
       "      <td>93.000000</td>\n",
       "      <td>530.000000</td>\n",
       "      <td>8.500000</td>\n",
       "      <td>372.000000</td>\n",
       "      <td>2.320000</td>\n",
       "      <td>291.000000</td>\n",
       "      <td>858091.000000</td>\n",
       "      <td>16.000000</td>\n",
       "      <td>99999.000000</td>\n",
       "      <td>2444.000000</td>\n",
       "      <td>99.000000</td>\n",
       "    </tr>\n",
       "  </tbody>\n",
       "</table>\n",
       "</div>"
      ],
      "text/plain": [
       "              AGE         TSH          T3         TT4         T4U         FTI  \\\n",
       "count  972.000000  972.000000  972.000000  972.000000  972.000000  972.000000   \n",
       "mean    51.423868    5.732649    1.984815  105.938683    0.987037  108.679835   \n",
       "std     18.966700   30.270396    0.751798   35.263262    0.188919   32.190976   \n",
       "min      7.000000    0.005000    0.200000    2.900000    0.250000    2.800000   \n",
       "25%     35.000000    0.275000    1.675000   87.000000    0.880000   93.750000   \n",
       "50%     54.000000    1.200000    2.000000  101.000000    0.990000  104.000000   \n",
       "75%     67.000000    2.700000    2.200000  121.250000    1.060000  121.000000   \n",
       "max     93.000000  530.000000    8.500000  372.000000    2.320000  291.000000   \n",
       "\n",
       "              FNLWGT  EDUCATION_NUM  CAPITAL_GAIN  CAPITAL_LOSS  \\\n",
       "count     972.000000     972.000000    972.000000    972.000000   \n",
       "mean   185453.675926      10.036008    652.094650     49.802469   \n",
       "std    102382.137299       2.467866   5054.339337    301.966019   \n",
       "min     21755.000000       1.000000      0.000000      0.000000   \n",
       "25%    115750.500000       9.000000      0.000000      0.000000   \n",
       "50%    175291.500000      10.000000      0.000000      0.000000   \n",
       "75%    227778.750000      12.000000      0.000000      0.000000   \n",
       "max    858091.000000      16.000000  99999.000000   2444.000000   \n",
       "\n",
       "       HOURS_PER_WEEK  \n",
       "count      972.000000  \n",
       "mean        38.554527  \n",
       "std         13.694929  \n",
       "min          1.000000  \n",
       "25%         35.000000  \n",
       "50%         40.000000  \n",
       "75%         40.000000  \n",
       "max         99.000000  "
      ]
     },
     "execution_count": 78,
     "metadata": {},
     "output_type": "execute_result"
    }
   ],
   "source": [
    "imputed_DF.describe()"
   ]
  },
  {
   "cell_type": "code",
   "execution_count": 79,
   "metadata": {
    "scrolled": false
   },
   "outputs": [
    {
     "name": "stdout",
     "output_type": "stream",
     "text": [
      "Imputing row 1/972 with 0 missing, elapsed time: 0.173\n",
      "Imputing row 101/972 with 0 missing, elapsed time: 0.175\n",
      "Imputing row 201/972 with 0 missing, elapsed time: 0.176\n",
      "Imputing row 301/972 with 1 missing, elapsed time: 0.178\n",
      "Imputing row 401/972 with 0 missing, elapsed time: 0.179\n",
      "Imputing row 501/972 with 0 missing, elapsed time: 0.181\n",
      "Imputing row 601/972 with 2 missing, elapsed time: 0.182\n",
      "Imputing row 701/972 with 0 missing, elapsed time: 0.184\n",
      "Imputing row 801/972 with 0 missing, elapsed time: 0.185\n",
      "Imputing row 901/972 with 2 missing, elapsed time: 0.187\n"
     ]
    }
   ],
   "source": [
    "\n",
    "\n",
    "X_filled_knn = pd.DataFrame(KNN(k=3).complete(data.select_dtypes(include=['int', 'float'])), columns=data.select_dtypes(include=['int', 'float']).columns)\n",
    "\n",
    "X_filled_knn = X_filled_knn.join(data.select_dtypes(exclude=['int', 'float']))\n",
    "\n",
    "if train:\n",
    "    create_csv(X_filled_knn, file_knn_train)\n",
    "else:\n",
    "    create_csv(X_filled_knn, file_knn_test)"
   ]
  },
  {
   "cell_type": "code",
   "execution_count": 80,
   "metadata": {},
   "outputs": [
    {
     "data": {
      "text/html": [
       "<div>\n",
       "<style scoped>\n",
       "    .dataframe tbody tr th:only-of-type {\n",
       "        vertical-align: middle;\n",
       "    }\n",
       "\n",
       "    .dataframe tbody tr th {\n",
       "        vertical-align: top;\n",
       "    }\n",
       "\n",
       "    .dataframe thead th {\n",
       "        text-align: right;\n",
       "    }\n",
       "</style>\n",
       "<table border=\"1\" class=\"dataframe\">\n",
       "  <thead>\n",
       "    <tr style=\"text-align: right;\">\n",
       "      <th></th>\n",
       "      <th>AGE</th>\n",
       "      <th>TSH</th>\n",
       "      <th>T3</th>\n",
       "      <th>TT4</th>\n",
       "      <th>T4U</th>\n",
       "      <th>FTI</th>\n",
       "      <th>FNLWGT</th>\n",
       "      <th>EDUCATION_NUM</th>\n",
       "      <th>CAPITAL_GAIN</th>\n",
       "      <th>CAPITAL_LOSS</th>\n",
       "      <th>HOURS_PER_WEEK</th>\n",
       "    </tr>\n",
       "  </thead>\n",
       "  <tbody>\n",
       "    <tr>\n",
       "      <th>count</th>\n",
       "      <td>972.000000</td>\n",
       "      <td>972.000000</td>\n",
       "      <td>972.000000</td>\n",
       "      <td>972.000000</td>\n",
       "      <td>972.000000</td>\n",
       "      <td>972.000000</td>\n",
       "      <td>972.000000</td>\n",
       "      <td>972.000000</td>\n",
       "      <td>972.000000</td>\n",
       "      <td>972.000000</td>\n",
       "      <td>972.000000</td>\n",
       "    </tr>\n",
       "    <tr>\n",
       "      <th>mean</th>\n",
       "      <td>51.423868</td>\n",
       "      <td>6.754821</td>\n",
       "      <td>1.963476</td>\n",
       "      <td>105.965692</td>\n",
       "      <td>0.988326</td>\n",
       "      <td>109.095884</td>\n",
       "      <td>185453.675926</td>\n",
       "      <td>10.036008</td>\n",
       "      <td>797.133128</td>\n",
       "      <td>49.802469</td>\n",
       "      <td>38.554527</td>\n",
       "    </tr>\n",
       "    <tr>\n",
       "      <th>std</th>\n",
       "      <td>18.966700</td>\n",
       "      <td>32.179904</td>\n",
       "      <td>0.785375</td>\n",
       "      <td>35.796790</td>\n",
       "      <td>0.193546</td>\n",
       "      <td>33.101597</td>\n",
       "      <td>102382.137299</td>\n",
       "      <td>2.467866</td>\n",
       "      <td>5942.529154</td>\n",
       "      <td>301.966019</td>\n",
       "      <td>13.694929</td>\n",
       "    </tr>\n",
       "    <tr>\n",
       "      <th>min</th>\n",
       "      <td>7.000000</td>\n",
       "      <td>0.005000</td>\n",
       "      <td>0.200000</td>\n",
       "      <td>2.900000</td>\n",
       "      <td>0.250000</td>\n",
       "      <td>2.800000</td>\n",
       "      <td>21755.000000</td>\n",
       "      <td>1.000000</td>\n",
       "      <td>0.000000</td>\n",
       "      <td>0.000000</td>\n",
       "      <td>1.000000</td>\n",
       "    </tr>\n",
       "    <tr>\n",
       "      <th>25%</th>\n",
       "      <td>35.000000</td>\n",
       "      <td>0.598348</td>\n",
       "      <td>1.500000</td>\n",
       "      <td>87.000000</td>\n",
       "      <td>0.870000</td>\n",
       "      <td>92.000000</td>\n",
       "      <td>115750.500000</td>\n",
       "      <td>9.000000</td>\n",
       "      <td>0.000000</td>\n",
       "      <td>0.000000</td>\n",
       "      <td>35.000000</td>\n",
       "    </tr>\n",
       "    <tr>\n",
       "      <th>50%</th>\n",
       "      <td>54.000000</td>\n",
       "      <td>1.400000</td>\n",
       "      <td>1.943106</td>\n",
       "      <td>102.985330</td>\n",
       "      <td>0.970000</td>\n",
       "      <td>106.000000</td>\n",
       "      <td>175291.500000</td>\n",
       "      <td>10.000000</td>\n",
       "      <td>0.000000</td>\n",
       "      <td>0.000000</td>\n",
       "      <td>40.000000</td>\n",
       "    </tr>\n",
       "    <tr>\n",
       "      <th>75%</th>\n",
       "      <td>67.000000</td>\n",
       "      <td>3.000000</td>\n",
       "      <td>2.300000</td>\n",
       "      <td>122.000000</td>\n",
       "      <td>1.080000</td>\n",
       "      <td>124.000000</td>\n",
       "      <td>227778.750000</td>\n",
       "      <td>12.000000</td>\n",
       "      <td>0.000000</td>\n",
       "      <td>0.000000</td>\n",
       "      <td>40.000000</td>\n",
       "    </tr>\n",
       "    <tr>\n",
       "      <th>max</th>\n",
       "      <td>93.000000</td>\n",
       "      <td>530.000000</td>\n",
       "      <td>8.500000</td>\n",
       "      <td>372.000000</td>\n",
       "      <td>2.320000</td>\n",
       "      <td>291.000000</td>\n",
       "      <td>858091.000000</td>\n",
       "      <td>16.000000</td>\n",
       "      <td>99999.000000</td>\n",
       "      <td>2444.000000</td>\n",
       "      <td>99.000000</td>\n",
       "    </tr>\n",
       "  </tbody>\n",
       "</table>\n",
       "</div>"
      ],
      "text/plain": [
       "              AGE         TSH          T3         TT4         T4U         FTI  \\\n",
       "count  972.000000  972.000000  972.000000  972.000000  972.000000  972.000000   \n",
       "mean    51.423868    6.754821    1.963476  105.965692    0.988326  109.095884   \n",
       "std     18.966700   32.179904    0.785375   35.796790    0.193546   33.101597   \n",
       "min      7.000000    0.005000    0.200000    2.900000    0.250000    2.800000   \n",
       "25%     35.000000    0.598348    1.500000   87.000000    0.870000   92.000000   \n",
       "50%     54.000000    1.400000    1.943106  102.985330    0.970000  106.000000   \n",
       "75%     67.000000    3.000000    2.300000  122.000000    1.080000  124.000000   \n",
       "max     93.000000  530.000000    8.500000  372.000000    2.320000  291.000000   \n",
       "\n",
       "              FNLWGT  EDUCATION_NUM  CAPITAL_GAIN  CAPITAL_LOSS  \\\n",
       "count     972.000000     972.000000    972.000000    972.000000   \n",
       "mean   185453.675926      10.036008    797.133128     49.802469   \n",
       "std    102382.137299       2.467866   5942.529154    301.966019   \n",
       "min     21755.000000       1.000000      0.000000      0.000000   \n",
       "25%    115750.500000       9.000000      0.000000      0.000000   \n",
       "50%    175291.500000      10.000000      0.000000      0.000000   \n",
       "75%    227778.750000      12.000000      0.000000      0.000000   \n",
       "max    858091.000000      16.000000  99999.000000   2444.000000   \n",
       "\n",
       "       HOURS_PER_WEEK  \n",
       "count      972.000000  \n",
       "mean        38.554527  \n",
       "std         13.694929  \n",
       "min          1.000000  \n",
       "25%         35.000000  \n",
       "50%         40.000000  \n",
       "75%         40.000000  \n",
       "max         99.000000  "
      ]
     },
     "execution_count": 80,
     "metadata": {},
     "output_type": "execute_result"
    }
   ],
   "source": [
    "X_filled_knn.describe()"
   ]
  },
  {
   "cell_type": "code",
   "execution_count": 81,
   "metadata": {
    "scrolled": true
   },
   "outputs": [
    {
     "data": {
      "text/plain": [
       "(972, 40)"
      ]
     },
     "execution_count": 81,
     "metadata": {},
     "output_type": "execute_result"
    }
   ],
   "source": [
    "X_filled_knn.shape"
   ]
  },
  {
   "cell_type": "code",
   "execution_count": 82,
   "metadata": {
    "collapsed": true
   },
   "outputs": [
    {
     "data": {
      "text/plain": [
       "AGE                           0\n",
       "SEX                          17\n",
       "ON_THYROXINE                  0\n",
       "QUERY_ON_THYROXINE            0\n",
       "ON_ANTITHYROID_MEDICATION     0\n",
       "SICK                          0\n",
       "PREGNANT                      0\n",
       "THYROID_SURGERY               0\n",
       "I131_TREATMENT                0\n",
       "QUERY_HYPOTHYROID             0\n",
       "QUERY_HYPERTHYROID            0\n",
       "LITHIUM                       0\n",
       "GOITRE                        0\n",
       "TUMOR                         0\n",
       "HYPOPITUITARY                 0\n",
       "PSYCH                         0\n",
       "TSH_MEASURED                  0\n",
       "TSH                           0\n",
       "T3_MEASURED                   0\n",
       "T3                            0\n",
       "TT4_MEASURED                  0\n",
       "TT4                           0\n",
       "T4U_MEASURED                  0\n",
       "T4U                           0\n",
       "FTI_MEASURED                  0\n",
       "FTI                           0\n",
       "REFERRAL_SOURCE               0\n",
       "FNLWGT                        0\n",
       "EDUCATION_NUM                 0\n",
       "RELATIONSHIP                  0\n",
       "CAPITAL_GAIN                  0\n",
       "CAPITAL_LOSS                  0\n",
       "HOURS_PER_WEEK                0\n",
       "DATE_OF_BIRTH                 0\n",
       "JOB                          76\n",
       "STATE                         0\n",
       "MARITAL_STATUS                0\n",
       "JOB_SEGMENT                  76\n",
       "RACE                          0\n",
       "CLASS                         0\n",
       "dtype: int64"
      ]
     },
     "execution_count": 82,
     "metadata": {},
     "output_type": "execute_result"
    }
   ],
   "source": [
    "imputed_DF.apply(count_missing)"
   ]
  },
  {
   "cell_type": "markdown",
   "metadata": {},
   "source": [
    "## TSH, T3, TT4, T4U, FTI"
   ]
  },
  {
   "cell_type": "markdown",
   "metadata": {},
   "source": [
    "V týchto atribúte budeme dopĺňať chýbajúce hodnoty pomocou stratégie modus (most_frequent) a lineárnej regresie. Tieto dve stratégie potom porovnáme. "
   ]
  },
  {
   "cell_type": "code",
   "execution_count": 83,
   "metadata": {},
   "outputs": [
    {
     "ename": "SyntaxError",
     "evalue": "invalid syntax (<ipython-input-83-10b95fe42914>, line 1)",
     "output_type": "error",
     "traceback": [
      "\u001b[0;36m  File \u001b[0;32m\"<ipython-input-83-10b95fe42914>\"\u001b[0;36m, line \u001b[0;32m1\u001b[0m\n\u001b[0;31m    col_names = = ['TSH', 'T4U', 'T3', 'TT4', 'FTI']\u001b[0m\n\u001b[0m                ^\u001b[0m\n\u001b[0;31mSyntaxError\u001b[0m\u001b[0;31m:\u001b[0m invalid syntax\n"
     ]
    }
   ],
   "source": [
    "col_names = = ['TSH', 'T4U', 'T3', 'TT4', 'FTI']\n",
    "#Natrenovanie\n",
    "imp_most_frequent = imp_most_frequent.fit(data.loc[:, [col]])\n",
    "#Doplnenie\n",
    "for col in col_names:\n",
    "     data[col] = pd.DataFrame(imp_most_frequent.transform(data.loc[:, [col]]))"
   ]
  },
  {
   "cell_type": "code",
   "execution_count": null,
   "metadata": {},
   "outputs": [],
   "source": []
  },
  {
   "cell_type": "code",
   "execution_count": null,
   "metadata": {
    "scrolled": true
   },
   "outputs": [],
   "source": [
    "test_data.apply(count_missing)"
   ]
  },
  {
   "cell_type": "markdown",
   "metadata": {},
   "source": [
    "### Metóda k najbližších susedov"
   ]
  },
  {
   "cell_type": "code",
   "execution_count": null,
   "metadata": {},
   "outputs": [],
   "source": [
    "##data = checkpoint_missing_data_by_columns.copy()\n",
    "col_names = ['TSH', 'T4U', 'T3', 'TT4', 'FTI']\n",
    "if count_missing(data[col_names]).sum() > 0:\n",
    "    X_filled_knn = pd.DataFrame(KNN(k=3).complete(data[col_names]), columns=col_names)\n",
    "    #Prirad pomocou KNN\n",
    "    for col in col_names:\n",
    "        data[col] = X_filled_knn[col]"
   ]
  },
  {
   "cell_type": "code",
   "execution_count": null,
   "metadata": {},
   "outputs": [],
   "source": [
    "if count_missing(test_data[col_names]).sum() > 0:\n",
    "    X_filled_knn = pd.DataFrame(KNN(k=3).complete(test_data[col_names]), columns=col_names)\n",
    "    #Prirad pomocou KNN\n",
    "    for col in col_names:\n",
    "        test_data[col] = X_filled_knn[col]"
   ]
  },
  {
   "cell_type": "code",
   "execution_count": null,
   "metadata": {},
   "outputs": [],
   "source": [
    "data['SEX'].describe()"
   ]
  },
  {
   "cell_type": "code",
   "execution_count": null,
   "metadata": {},
   "outputs": [],
   "source": [
    "if count_missing(data['SEX']) > 0:\n",
    "    X_filled_knn = pd.DataFrame(KNN(k=3).complete(data[['SEX']]), columns=['SEX'])\n",
    "    data['SEX'] = X_filled_knn['SEX']"
   ]
  },
  {
   "cell_type": "code",
   "execution_count": null,
   "metadata": {},
   "outputs": [],
   "source": [
    "if count_missing(test_data['SEX']) > 0:\n",
    "    X_filled_knn = pd.DataFrame(KNN(k=3).complete(test_data[['SEX']]), columns=['SEX'])\n",
    "    test_data['SEX'] = X_filled_knn['SEX']"
   ]
  },
  {
   "cell_type": "code",
   "execution_count": null,
   "metadata": {},
   "outputs": [],
   "source": [
    "test_data.apply(count_missing)"
   ]
  },
  {
   "cell_type": "code",
   "execution_count": null,
   "metadata": {},
   "outputs": [],
   "source": [
    "test_data['JOB'].isnull().sum()"
   ]
  },
  {
   "cell_type": "markdown",
   "metadata": {},
   "source": [
    "Kedže nám ostali dve neznáme hodnoty pre Vek a Dátum narodenia môžeme ich odstrániť alebo dopočítať ale zbytočne si môžeme zaniesť zlé dáta. Kedže sa jedná len o dvoch pacientov tak sme sa ich rozhodli odstrániť"
   ]
  },
  {
   "cell_type": "code",
   "execution_count": null,
   "metadata": {},
   "outputs": [],
   "source": [
    "data = data[data['DATE_OF_BIRTH'].notna()]"
   ]
  },
  {
   "cell_type": "code",
   "execution_count": null,
   "metadata": {},
   "outputs": [],
   "source": [
    "data.apply(count_missing)"
   ]
  },
  {
   "cell_type": "markdown",
   "metadata": {},
   "source": [
    "# Vychýlené hodnoty\n",
    "V tejto časti sa snažíme spracovať vychýlené hodnoty numerických dát."
   ]
  },
  {
   "cell_type": "code",
   "execution_count": null,
   "metadata": {},
   "outputs": [],
   "source": [
    "#vychylene_hodnoty_checkpoint = data.copy()"
   ]
  },
  {
   "cell_type": "code",
   "execution_count": null,
   "metadata": {},
   "outputs": [],
   "source": [
    "data.select_dtypes(exclude=['bool', 'object']).hist(figsize=(18, 12))"
   ]
  },
  {
   "cell_type": "markdown",
   "metadata": {},
   "source": [
    "Vidíme že TSH nie je normálne rozdelenie a preto ho bude treba znormalizovat"
   ]
  },
  {
   "cell_type": "code",
   "execution_count": null,
   "metadata": {},
   "outputs": [],
   "source": [
    "column = fixWierdCharsInString('TSH')\n",
    "data_for_plot = pd.DataFrame(data[column], columns=[column])\n",
    "transformed, att = boxcox(data_for_plot[column])# boxcox vrati transformovane data a parametre transformacie. Tie viem zafixovat a v tom pripade mi to vrati len transformovane data\n",
    "data_for_plot['BOXCOX_NORM'] = pd.DataFrame(transformed)\n",
    "\n",
    "#pom = pd.Series(data_for_plot).hist(bins=50)\n",
    "#pom.set_title(\"index: TSH\")"
   ]
  },
  {
   "cell_type": "code",
   "execution_count": null,
   "metadata": {},
   "outputs": [],
   "source": [
    "data_for_plot.hist()"
   ]
  },
  {
   "cell_type": "code",
   "execution_count": null,
   "metadata": {},
   "outputs": [],
   "source": [
    "data_for_plot['BOXCOX_NORM'].plot.box()"
   ]
  },
  {
   "cell_type": "markdown",
   "metadata": {},
   "source": [
    "Atribút **age** odstránenie odchýlených hodnôt."
   ]
  },
  {
   "cell_type": "code",
   "execution_count": null,
   "metadata": {},
   "outputs": [],
   "source": [
    "data['AGE'].plot(kind=\"box\")"
   ]
  },
  {
   "cell_type": "markdown",
   "metadata": {},
   "source": [
    "Táto vychýlená hodnota vznikla pravdepodobne nesprávne odmeranými alebo vyplnenými údajmi. Skutočný vek tohto pacienta mohol byť napríklad 45 rokov, ale aj 55 rokov, no nevieme to zistiť tak sme sa rozhodli nahradiť hodnotu mediánom. "
   ]
  },
  {
   "cell_type": "code",
   "execution_count": null,
   "metadata": {},
   "outputs": [],
   "source": [
    "column = fixWierdCharsInString('age')\n",
    "data.loc[(data[column] < 1) | (data[column] > 100), [column]] = data[column].median()\n",
    "data['AGE'].plot(kind=\"box\")"
   ]
  },
  {
   "cell_type": "code",
   "execution_count": null,
   "metadata": {},
   "outputs": [],
   "source": [
    "column = fixWierdCharsInString('age')\n",
    "test_data.loc[(test_data[column] < 1) | (test_data[column] > 100), [column]] = test_data[column].median()\n",
    "test_data['AGE'].plot(kind=\"box\")"
   ]
  },
  {
   "cell_type": "markdown",
   "metadata": {},
   "source": [
    "Ako iný spôsob odstránenia tejto vychýlenej hodnoty by sme mohli použiť nahradenie hornej vychýlenej hodnoty 95 percentilom a dolnej vychýlenej hodnoty 5 kvantilom. Takisto by sme mohli použiť aj metódu nahradenia medianom, pretože tento vek sa mohol pohybovať okolo 45, 55 rokov a to je približne median."
   ]
  },
  {
   "cell_type": "code",
   "execution_count": null,
   "metadata": {
    "scrolled": true
   },
   "outputs": [],
   "source": [
    "#data.loc[(data[column] > 100), column] = data[column].quantile(0.95) \n",
    "#data.loc[(data[column] < 1), column] = data[column].quantile(0.05)\n",
    "data['AGE'].mode()\n",
    "data.info()"
   ]
  },
  {
   "cell_type": "code",
   "execution_count": null,
   "metadata": {},
   "outputs": [],
   "source": [
    "col_names = ['TSH','T4U', 'T3', 'TT4', 'FTI']\n",
    "color = dict(boxes='DarkGreen', whiskers='DarkOrange', medians='DarkBlue', caps='Gray')\n",
    "data.loc[:,col_names].plot.box(color=color, sym='r+')"
   ]
  },
  {
   "cell_type": "code",
   "execution_count": null,
   "metadata": {
    "scrolled": true
   },
   "outputs": [],
   "source": [
    "col_names = ['TSH','T4U', 'T3', 'TT4', 'FTI', 'CLASS']\n",
    "df_box = data.loc[:,col_names]\n",
    "bp = df_box.boxplot(by='CLASS')"
   ]
  },
  {
   "cell_type": "markdown",
   "metadata": {},
   "source": [
    "# Manuálne podmienky vyhodnocovania"
   ]
  },
  {
   "cell_type": "code",
   "execution_count": null,
   "metadata": {
    "scrolled": true
   },
   "outputs": [],
   "source": [
    "seaborn.set_style(\"darkgrid\")\n",
    "columns = ['FTI', 'TT4', 'TSH', 'T3', 'T4U', 'CLASS', 'AGE']\n",
    "lolo = data.loc[ : ,columns]\n",
    "plot = seaborn.pairplot(lolo, x_vars=['TSH', 'T4U', 'T3', 'TT4', 'FTI'], y_vars='CLASS', size=5, aspect=0.7, hue='CLASS')\n"
   ]
  },
  {
   "cell_type": "code",
   "execution_count": null,
   "metadata": {
    "scrolled": true
   },
   "outputs": [],
   "source": [
    "columns = ['FTI', 'TT4', 'TSH', 'T3', 'T4U', 'CLASS']\n",
    "lolo = data.loc[data['CLASS']!='NEGATIVE',columns]\n",
    "g = seaborn.PairGrid(lolo, hue=\"CLASS\", palette=\"Set2\", hue_kws={\"marker\": [\"o\", \"s\", \"D\"]})\n",
    "g = g.map(plt.scatter, linewidths=1, edgecolor=\"w\", s=40)\n",
    "g = g.add_legend()"
   ]
  },
  {
   "cell_type": "code",
   "execution_count": null,
   "metadata": {},
   "outputs": [],
   "source": [
    "def calculate_recall(tp, fn):\n",
    "     return tp / (tp + fn)\n",
    "\n",
    "def calculate_precision(tp, fp):\n",
    "    return tp / (tp + fp)\n",
    "\n",
    "def calculate_accuracy(tp, tn, fp, fn):\n",
    "    return (tn + tp)/(tn + fp + fn + tp)"
   ]
  },
  {
   "cell_type": "code",
   "execution_count": null,
   "metadata": {},
   "outputs": [],
   "source": [
    "from sklearn.preprocessing import MultiLabelBinarizer\n",
    "from sklearn.metrics import recall_score, precision_score"
   ]
  },
  {
   "cell_type": "code",
   "execution_count": null,
   "metadata": {
    "scrolled": false
   },
   "outputs": [],
   "source": [
    "dataFrame = data.loc[:,['TSH', 'T4U', 'T3', 'TT4']]\n",
    "dataFrame['FTI'] = pd.to_numeric(data['FTI'], errors='coerce')\n",
    "\n",
    "column1_name = 'CLASS'\n",
    "\n",
    "dataFrame['class'] = data['CLASS']\n",
    "dataFrame = dataFrame.dropna()\n",
    "\n",
    "seaborn.pairplot(dataFrame, dropna=True, hue='class')"
   ]
  },
  {
   "cell_type": "markdown",
   "metadata": {},
   "source": [
    "Počet pacientov v jednotlivých triedach. "
   ]
  },
  {
   "cell_type": "code",
   "execution_count": null,
   "metadata": {
    "scrolled": true
   },
   "outputs": [],
   "source": [
    "data['CLASS'].value_counts()"
   ]
  },
  {
   "cell_type": "markdown",
   "metadata": {},
   "source": [
    "## Atribúty FTI, TT4, T3, T4U"
   ]
  },
  {
   "cell_type": "markdown",
   "metadata": {},
   "source": [
    "Väčšina pacientov, ktorí majú hodnoty atribútov **FTI, TT4, T3, T4U** také, ako sú špecifikované, tak sú zdravý."
   ]
  },
  {
   "cell_type": "code",
   "execution_count": null,
   "metadata": {},
   "outputs": [],
   "source": [
    "df = data[(data['FTI'] < 71) | (data['TT4'] < 72) | (data['T3'] > 3.6) | (data['T4U'] > 1.34)]\n",
    "df['CLASS'].value_counts()"
   ]
  },
  {
   "cell_type": "code",
   "execution_count": null,
   "metadata": {},
   "outputs": [],
   "source": [
    "found_all = df['CLASS'].count()\n",
    "print(f\"Počet subjektov, ktoré nám naša podmienka našla: {found_all}\")\n",
    "\n",
    "rel_all = data[((data['CLASS'] == 'NEGATIVE'))].count()\n",
    "rel_all = rel_all['CLASS']\n",
    "rel_all\n",
    "print(f\"Počet subjektov, ktoré sme sa snažili identifikovať: {rel_all}\")\n",
    "\n",
    "tp = df[df['CLASS'] == 'NEGATIVE'].count()\n",
    "tp = tp['CLASS']\n",
    "print(f\"True positive: {tp}\")\n",
    "\n",
    "fp = found_all - tp\n",
    "print(f\"False positive: {fp}\")\n",
    "\n",
    "fn = rel_all - tp\n",
    "print(f\"False negative: {fn}\")\n",
    "\n",
    "tn = data['CLASS'].count() - found_all - fn\n",
    "print(f\"True negative: {tn}\")"
   ]
  },
  {
   "cell_type": "markdown",
   "metadata": {},
   "source": [
    "Pokrytie (recall) daného pravidla"
   ]
  },
  {
   "cell_type": "code",
   "execution_count": null,
   "metadata": {},
   "outputs": [],
   "source": [
    "calculate_recall(tp, fn)"
   ]
  },
  {
   "cell_type": "markdown",
   "metadata": {},
   "source": [
    "Presnosť (precision) daného pravidla"
   ]
  },
  {
   "cell_type": "code",
   "execution_count": null,
   "metadata": {},
   "outputs": [],
   "source": [
    "calculate_precision(tp, fp)"
   ]
  },
  {
   "cell_type": "markdown",
   "metadata": {},
   "source": [
    "Accuracy daného pravidla"
   ]
  },
  {
   "cell_type": "code",
   "execution_count": null,
   "metadata": {},
   "outputs": [],
   "source": [
    "calculate_accuracy(tp, tn, fp, fn)"
   ]
  },
  {
   "cell_type": "markdown",
   "metadata": {},
   "source": [
    "Pri tejto podmienke sme sa snažili dovŕšiť čo najvyššiu presnosť vrátených dát, lebo určiť, že je pacient zdravý a pritom nie je, môže byť preňho kritické. "
   ]
  },
  {
   "cell_type": "markdown",
   "metadata": {},
   "source": [
    "### Rozpis jednotlivých atribútov (uvedieme len precision, pretože je prioritou)"
   ]
  },
  {
   "cell_type": "code",
   "execution_count": null,
   "metadata": {},
   "outputs": [],
   "source": [
    "rel_all = data[((data['CLASS'] == 'NEGATIVE'))].count()\n",
    "rel_all = rel_all['CLASS']\n",
    "rel_all\n",
    "print(f\"Počet subjektov, ktoré sme sa snažili identifikovať: {rel_all}\")"
   ]
  },
  {
   "cell_type": "markdown",
   "metadata": {},
   "source": [
    "### FTI"
   ]
  },
  {
   "cell_type": "code",
   "execution_count": null,
   "metadata": {},
   "outputs": [],
   "source": [
    "df = data[(data['FTI'] < 71)]\n",
    "df['CLASS'].value_counts()"
   ]
  },
  {
   "cell_type": "code",
   "execution_count": null,
   "metadata": {},
   "outputs": [],
   "source": [
    "found_all = df['CLASS'].count()\n",
    "print(f\"Počet subjektov, ktoré nám naša podmienka našla: {found_all}\")\n",
    "\n",
    "tp = df[df['CLASS'] == 'NEGATIVE'].count()\n",
    "tp = tp['CLASS']\n",
    "print(f\"True positive: {tp}\")\n",
    "\n",
    "fp = found_all - tp\n",
    "print(f\"False positive: {fp}\")"
   ]
  },
  {
   "cell_type": "code",
   "execution_count": null,
   "metadata": {},
   "outputs": [],
   "source": [
    "calculate_precision(tp, fp)"
   ]
  },
  {
   "cell_type": "markdown",
   "metadata": {},
   "source": [
    "### TT4"
   ]
  },
  {
   "cell_type": "code",
   "execution_count": null,
   "metadata": {},
   "outputs": [],
   "source": [
    "df = data[(data['TT4'] < 72)]\n",
    "df['CLASS'].value_counts()"
   ]
  },
  {
   "cell_type": "code",
   "execution_count": null,
   "metadata": {},
   "outputs": [],
   "source": [
    "found_all = df['CLASS'].count()\n",
    "print(f\"Počet subjektov, ktoré nám naša podmienka našla: {found_all}\")\n",
    "\n",
    "tp = df[df['CLASS'] == 'NEGATIVE'].count()\n",
    "tp = tp['CLASS']\n",
    "print(f\"True positive: {tp}\")\n",
    "\n",
    "fp = found_all - tp\n",
    "print(f\"False positive: {fp}\")"
   ]
  },
  {
   "cell_type": "code",
   "execution_count": null,
   "metadata": {},
   "outputs": [],
   "source": [
    "calculate_precision(tp, fp)"
   ]
  },
  {
   "cell_type": "markdown",
   "metadata": {},
   "source": [
    "### T3"
   ]
  },
  {
   "cell_type": "code",
   "execution_count": null,
   "metadata": {},
   "outputs": [],
   "source": [
    "df = data[(data['T3'] > 3.6)]\n",
    "df['CLASS'].value_counts()"
   ]
  },
  {
   "cell_type": "code",
   "execution_count": null,
   "metadata": {},
   "outputs": [],
   "source": [
    "found_all = df['CLASS'].count()\n",
    "print(f\"Počet subjektov, ktoré nám naša podmienka našla: {found_all}\")\n",
    "\n",
    "tp = df[df['CLASS'] == 'NEGATIVE'].count()\n",
    "tp = tp['CLASS']\n",
    "print(f\"True positive: {tp}\")\n",
    "\n",
    "fp = found_all - tp\n",
    "print(f\"False positive: {fp}\")"
   ]
  },
  {
   "cell_type": "code",
   "execution_count": null,
   "metadata": {},
   "outputs": [],
   "source": [
    "calculate_precision(tp, fp)"
   ]
  },
  {
   "cell_type": "markdown",
   "metadata": {},
   "source": [
    "### T4U"
   ]
  },
  {
   "cell_type": "code",
   "execution_count": null,
   "metadata": {},
   "outputs": [],
   "source": [
    "df = data[(data['T4U'] > 1.36)]\n",
    "df['CLASS'].value_counts()"
   ]
  },
  {
   "cell_type": "code",
   "execution_count": null,
   "metadata": {},
   "outputs": [],
   "source": [
    "found_all = df['CLASS'].count()\n",
    "print(f\"Počet subjektov, ktoré nám naša podmienka našla: {found_all}\")\n",
    "\n",
    "tp = df[df['CLASS'] == 'NEGATIVE'].count()\n",
    "tp = tp['CLASS']\n",
    "print(f\"True positive: {tp}\")\n",
    "\n",
    "fp = found_all - tp\n",
    "print(f\"False positive: {fp}\")"
   ]
  },
  {
   "cell_type": "code",
   "execution_count": null,
   "metadata": {},
   "outputs": [],
   "source": [
    "calculate_precision(tp, fp)"
   ]
  },
  {
   "cell_type": "markdown",
   "metadata": {},
   "source": [
    "## Kombinácie atribútov TSH, T3, FTI, T4U, TT4"
   ]
  },
  {
   "cell_type": "code",
   "execution_count": null,
   "metadata": {},
   "outputs": [],
   "source": [
    "df = data[(data['TSH'] < 0.2) & (data['T4U'] < 0.8)]\n",
    "df['CLASS'].value_counts()"
   ]
  },
  {
   "cell_type": "code",
   "execution_count": null,
   "metadata": {},
   "outputs": [],
   "source": [
    "df = data[(data['TSH'] > 80) | ((data['TSH'] < 1) & (data['T3'] > 3.6)) | ((data['TSH'] > 40) & (data['TSH'] < 75))]\n",
    "df['CLASS'].value_counts()"
   ]
  },
  {
   "cell_type": "code",
   "execution_count": null,
   "metadata": {},
   "outputs": [],
   "source": [
    "df = data[(data['TSH'] < 37) & (data['T3'] > 3.4)]\n",
    "df['CLASS'].value_counts()"
   ]
  },
  {
   "cell_type": "markdown",
   "metadata": {},
   "source": [
    "V nasledujúcej vzorke sme zaznamenali, že nasledovné hodnoty atribútov zaznamenali skoro všetkých pacientov, ktorí majú hodnotu **UNDERREPLACEMENT**."
   ]
  },
  {
   "cell_type": "code",
   "execution_count": null,
   "metadata": {
    "scrolled": true
   },
   "outputs": [],
   "source": [
    "df = data[(data['TSH'] > 5) & ((data['FTI'] > 63) & (data['FTI'] < 145))]\n",
    "test = df['CLASS']\n",
    "df['CLASS'].value_counts()"
   ]
  },
  {
   "cell_type": "code",
   "execution_count": null,
   "metadata": {},
   "outputs": [],
   "source": [
    "found_all = df['CLASS'].count()\n",
    "print(f\"Počet subjektov, ktoré nám naša podmienka našla: {found_all}\")\n",
    "\n",
    "rel_all = data[((data['CLASS'] == 'UNDERREPLACEMENT'))].count()\n",
    "rel_all = rel_all['CLASS']\n",
    "rel_all\n",
    "print(f\"Počet subjektov, ktoré sme sa snažili identifikovať: {rel_all}\")\n",
    "\n",
    "tp = df[df['CLASS'] == 'UNDERREPLACEMENT'].count()\n",
    "tp = tp['CLASS']\n",
    "print(f\"True positive: {tp}\")\n",
    "\n",
    "fp = found_all - tp\n",
    "print(f\"False positive: {fp}\")\n",
    "\n",
    "fn = rel_all - tp\n",
    "print(f\"False negative: {fn}\")\n",
    "\n",
    "tn = data['CLASS'].count() - found_all - fn\n",
    "print(f\"True negative: {tn}\")"
   ]
  },
  {
   "cell_type": "markdown",
   "metadata": {},
   "source": [
    "Pokrytie (recall) daného pravidla"
   ]
  },
  {
   "cell_type": "code",
   "execution_count": null,
   "metadata": {},
   "outputs": [],
   "source": [
    "calculate_recall(tp, fn)"
   ]
  },
  {
   "cell_type": "markdown",
   "metadata": {},
   "source": [
    "Presnosť (precision) daného pravidla"
   ]
  },
  {
   "cell_type": "code",
   "execution_count": null,
   "metadata": {},
   "outputs": [],
   "source": [
    "calculate_precision(tp, fp)"
   ]
  },
  {
   "cell_type": "markdown",
   "metadata": {},
   "source": [
    "Accuracy daného pravidla"
   ]
  },
  {
   "cell_type": "code",
   "execution_count": null,
   "metadata": {},
   "outputs": [],
   "source": [
    "calculate_accuracy(tp, tn, fp, fn)"
   ]
  },
  {
   "cell_type": "markdown",
   "metadata": {},
   "source": [
    "Z pozorovania vidíme, že dosiahnuté pokrytie je veľmi vysoké a naopak, presnosť je veľmi nízka. Pri našich dátach je prioritou dosiahnuť vyššie pokrytie. "
   ]
  },
  {
   "cell_type": "markdown",
   "metadata": {},
   "source": [
    "V nasledujúcej vzorke sme zaznamenali, že nasledovné hodnoty atribútov zaznamenali väčšinu pacientov, ktorí majú hodnotu **OVERREPLACEMENT** alebo **REPLACEMENT_THERAPY**. Týmto pravidlom sme chceli vyselektovať pacientov, ktorí nie sú zdraví, teda patria do jednej z tried **OVERREPLACEMENT, REPLACEMENT_THERAPY**."
   ]
  },
  {
   "cell_type": "code",
   "execution_count": null,
   "metadata": {},
   "outputs": [],
   "source": [
    "df = data[(data['TSH'] < 1) & ((data['FTI'] > 155) & (data['FTI'] < 225))]\n",
    "df['CLASS'].value_counts()"
   ]
  },
  {
   "cell_type": "markdown",
   "metadata": {},
   "source": [
    "## Atribúty ON_ANTITHYROID_MEDICATION, I131_TREATMENT, LITHIUM, THYROID_SURGERY"
   ]
  },
  {
   "cell_type": "markdown",
   "metadata": {},
   "source": [
    "Z nasledujúcej vzorky môžme povedať, že väčšina pacientov, ktorí boli na nejakej forme liečenia, alebo na operácii štítnej žlazy, tak sú zdravý."
   ]
  },
  {
   "cell_type": "code",
   "execution_count": null,
   "metadata": {},
   "outputs": [],
   "source": [
    "df = data[\n",
    "    (data['ON_ANTITHYROID_MEDICATION'] == True) | # nejaká liečba štítnej žlazy\n",
    "    (data['I131_TREATMENT'] == True) |    # liečba rádiojódom\n",
    "    (data['LITHIUM'] == True) |    # užíval lithium\n",
    "    (data['THYROID_SURGERY'] == True)   # operácia štítnej žlazy\n",
    "]\n",
    "df['CLASS'].value_counts()"
   ]
  },
  {
   "cell_type": "code",
   "execution_count": null,
   "metadata": {},
   "outputs": [],
   "source": [
    "found_all = df['CLASS'].count()\n",
    "print(f\"Počet subjektov, ktoré nám naša podmienka našla: {found_all}\")\n",
    "\n",
    "rel_all = data[((data['CLASS'] == 'NEGATIVE'))].count()\n",
    "rel_all = rel_all['CLASS']\n",
    "rel_all\n",
    "print(f\"Počet subjektov, ktoré sme sa snažili identifikovať: {rel_all}\")\n",
    "\n",
    "tp = df[df['CLASS'] == 'NEGATIVE'].count()\n",
    "tp = tp['CLASS']\n",
    "print(f\"True positive: {tp}\")\n",
    "\n",
    "fp = found_all - tp\n",
    "print(f\"False positive: {fp}\")\n",
    "\n",
    "fn = rel_all - tp\n",
    "print(f\"False negative: {fn}\")\n",
    "\n",
    "tn = data['CLASS'].count() - found_all - fn\n",
    "print(f\"True negative: {tn}\")"
   ]
  },
  {
   "cell_type": "markdown",
   "metadata": {},
   "source": [
    "Pokrytie (recall) daného pravidla"
   ]
  },
  {
   "cell_type": "code",
   "execution_count": null,
   "metadata": {},
   "outputs": [],
   "source": [
    "calculate_recall(tp, fn)"
   ]
  },
  {
   "cell_type": "markdown",
   "metadata": {},
   "source": [
    "Presnosť (precision) daného pravidla"
   ]
  },
  {
   "cell_type": "code",
   "execution_count": null,
   "metadata": {},
   "outputs": [],
   "source": [
    "calculate_precision(tp, fp)"
   ]
  },
  {
   "cell_type": "markdown",
   "metadata": {},
   "source": [
    "Accuracy daného pravidla"
   ]
  },
  {
   "cell_type": "code",
   "execution_count": null,
   "metadata": {},
   "outputs": [],
   "source": [
    "calculate_accuracy(tp, tn, fp, fn)"
   ]
  },
  {
   "cell_type": "markdown",
   "metadata": {},
   "source": [
    "Európania v našom datasete sú zdravý. (nič divné, kedže európania tvoria len veľmi malú časť datasetu)."
   ]
  },
  {
   "cell_type": "code",
   "execution_count": null,
   "metadata": {},
   "outputs": [],
   "source": [
    "data['STATE'].value_counts()\n",
    "df = data[(data['STATE'] == 'GERMANY') | \n",
    "          (data['STATE'] == 'POLAND') | \n",
    "          (data['STATE'] == 'ENGLAND') |\n",
    "          (data['STATE'] == 'ENGLAND') |\n",
    "          (data['STATE'] == 'ITALY') |\n",
    "          (data['STATE'] == 'GREECE') | \n",
    "          (data['STATE'] == 'SCOTLAND') \n",
    "         ]\n",
    "df['CLASS'].value_counts()"
   ]
  },
  {
   "cell_type": "markdown",
   "metadata": {},
   "source": [
    "Podľa očakávaní došlo medzi výsledkami z testovacích a trénovacích dát k malému rozdielu, ktorý je spôsobený menším množstvom vzoriek v testovacích dátach. Pri testovacích dátach sme zaznamenali hodnoty metrík recall, precision a accuracy o veľmi zanedbatelnú hodnotu odlišné výsledky ako pri trénovacích dátach. Z tohto vieme usúdiť, že manuálne podmienky na vyhodnocovanie, ktoré sme našli pracujú podľa očakávaní. "
   ]
  },
  {
   "cell_type": "markdown",
   "metadata": {},
   "source": [
    "## Porovanie metrík pre jednotlivé podmienky"
   ]
  },
  {
   "cell_type": "markdown",
   "metadata": {},
   "source": [
    "### 1. pravidlo"
   ]
  },
  {
   "cell_type": "markdown",
   "metadata": {},
   "source": [
    "Trénovacie dáta"
   ]
  },
  {
   "cell_type": "markdown",
   "metadata": {},
   "source": [
    "recall - 0.15271117668756917 \n",
    "precision - 0.9857142857142858 \n",
    "accuracy - 0.1769120800571837 "
   ]
  },
  {
   "cell_type": "markdown",
   "metadata": {},
   "source": [
    "Testovacie dáta"
   ]
  },
  {
   "cell_type": "markdown",
   "metadata": {},
   "source": [
    "recall - 0.17326203208556148\n",
    "precision - 0.98181818181818\n",
    "accuracy - 0.20164609053497942"
   ]
  },
  {
   "cell_type": "markdown",
   "metadata": {},
   "source": [
    "### 2. pravidlo"
   ]
  },
  {
   "cell_type": "markdown",
   "metadata": {},
   "source": [
    "Trénovacie dáta"
   ]
  },
  {
   "cell_type": "markdown",
   "metadata": {},
   "source": [
    "recall - 0.9714285714285714 \n",
    "precision - 0.1297709923664122 \n",
    "accuracy - 0.918155825589707 "
   ]
  },
  {
   "cell_type": "markdown",
   "metadata": {},
   "source": [
    "Testovacie dáta"
   ]
  },
  {
   "cell_type": "markdown",
   "metadata": {},
   "source": [
    "recall - 1.0 \n",
    "precision - 0.22077922077922077 \n",
    "accuracy - 0.9382716049382716"
   ]
  },
  {
   "cell_type": "markdown",
   "metadata": {},
   "source": [
    "### 3. pravidlo"
   ]
  },
  {
   "cell_type": "markdown",
   "metadata": {},
   "source": [
    "Trénovacie dáta"
   ]
  },
  {
   "cell_type": "markdown",
   "metadata": {},
   "source": [
    "recall - 0.047215049797122835 \n",
    "precision - 0.9624060150375939 \n",
    "accuracy - 0.07505360972122944 "
   ]
  },
  {
   "cell_type": "markdown",
   "metadata": {},
   "source": [
    "Testovacie dáta"
   ]
  },
  {
   "cell_type": "markdown",
   "metadata": {},
   "source": [
    "recall - 0.038502673796791446\n",
    "precision - 0.972972972972973\n",
    "accuracy - 0.07407407407407407"
   ]
  },
  {
   "cell_type": "markdown",
   "metadata": {},
   "source": [
    "# Prieskumná analýza podstatných častí"
   ]
  },
  {
   "cell_type": "markdown",
   "metadata": {},
   "source": [
    "V tejto časti sa budeme venovať analýze podstatných atribútov po ich spracovaní. "
   ]
  },
  {
   "cell_type": "code",
   "execution_count": null,
   "metadata": {},
   "outputs": [],
   "source": [
    "old_data = init_dataset(train_file)"
   ]
  },
  {
   "cell_type": "code",
   "execution_count": null,
   "metadata": {},
   "outputs": [],
   "source": [
    "print(\"Počet stĺpcov a riadkov v starom datasete\")\n",
    "old_data.shape"
   ]
  },
  {
   "cell_type": "code",
   "execution_count": null,
   "metadata": {},
   "outputs": [],
   "source": [
    "print(\"Počet stĺpcov a riadkovv novom datasete\")\n",
    "data.shape"
   ]
  },
  {
   "cell_type": "markdown",
   "metadata": {},
   "source": [
    "Nezaznamenávame žiadne chýbajúce hodnoty."
   ]
  },
  {
   "cell_type": "code",
   "execution_count": null,
   "metadata": {},
   "outputs": [],
   "source": [
    "data.shape[0] - data.dropna().shape[0]"
   ]
  },
  {
   "cell_type": "markdown",
   "metadata": {},
   "source": [
    "Dátové typy jednotlivých atribútov"
   ]
  },
  {
   "cell_type": "code",
   "execution_count": null,
   "metadata": {},
   "outputs": [],
   "source": [
    "old_data.info()"
   ]
  },
  {
   "cell_type": "code",
   "execution_count": null,
   "metadata": {
    "scrolled": true
   },
   "outputs": [],
   "source": [
    "data.info()"
   ]
  },
  {
   "cell_type": "markdown",
   "metadata": {},
   "source": [
    "### Porovanie deskriptívnych štatistík pri starých a nových dátach"
   ]
  },
  {
   "cell_type": "markdown",
   "metadata": {},
   "source": [
    "Staré dáta"
   ]
  },
  {
   "cell_type": "code",
   "execution_count": null,
   "metadata": {},
   "outputs": [],
   "source": [
    "checkAllObjectType(old_data)"
   ]
  },
  {
   "cell_type": "code",
   "execution_count": null,
   "metadata": {},
   "outputs": [],
   "source": [
    "checkAllObjectType(data)"
   ]
  },
  {
   "cell_type": "code",
   "execution_count": null,
   "metadata": {},
   "outputs": [],
   "source": [
    "data.select_dtypes(exclude=['object','datetime64','bool']).describe(include='all')"
   ]
  },
  {
   "cell_type": "markdown",
   "metadata": {},
   "source": [
    "## Atribúty TSH, TT4, T3, FTI, T4U "
   ]
  },
  {
   "cell_type": "markdown",
   "metadata": {},
   "source": [
    "Tieto atribúty považujeme za podstatné pre to, lebo sme pri nich dokázali určiť manuálne pravidlá, ktoré nám klasifikujú pacientov do jednotlivých tried. Od týchto atribútov nám závisí aj predikovaná hodnota. "
   ]
  },
  {
   "cell_type": "code",
   "execution_count": null,
   "metadata": {},
   "outputs": [],
   "source": [
    "df_old = old_data.loc[:, ['TSH', 'TT4', 'T3', 'T4U', 'FTI']]\n",
    "df = data.loc[:, ['TSH', 'TT4', 'T3', 'T4U', 'FTI']]"
   ]
  },
  {
   "cell_type": "markdown",
   "metadata": {},
   "source": [
    "### Deskriptívne štatistiky"
   ]
  },
  {
   "cell_type": "code",
   "execution_count": null,
   "metadata": {},
   "outputs": [],
   "source": [
    "df_old.describe(include='all')"
   ]
  },
  {
   "cell_type": "code",
   "execution_count": null,
   "metadata": {},
   "outputs": [],
   "source": [
    "df.describe(include='all')"
   ]
  },
  {
   "cell_type": "markdown",
   "metadata": {},
   "source": [
    "Môžeme si všimnúť, že v novom datasete už nemáme žiadne chýbajúce hodnoty v týchto atribútoch. "
   ]
  },
  {
   "cell_type": "markdown",
   "metadata": {},
   "source": [
    "### Atribút SEX "
   ]
  },
  {
   "cell_type": "markdown",
   "metadata": {},
   "source": [
    "Atribút **SEX** sme najprv dopĺňali pomocou atribútov **RELATIONSHIP** a **PREGNANT** a pacientom, ktorím sa nám pomocou tejto metódy nepodarilo doplniť pohlavie sme doplnili pomocou stratégie KNN."
   ]
  },
  {
   "cell_type": "code",
   "execution_count": null,
   "metadata": {},
   "outputs": [],
   "source": [
    "old_data['SEX'].value_counts()"
   ]
  },
  {
   "cell_type": "code",
   "execution_count": null,
   "metadata": {},
   "outputs": [],
   "source": [
    "data['SEX'].value_counts()"
   ]
  },
  {
   "cell_type": "markdown",
   "metadata": {},
   "source": [
    "Pričom hodnoty pohlaví sa dajú nastaviť vo funkciach getFemaleSymbol(), getMaleSymbol(). "
   ]
  },
  {
   "cell_type": "markdown",
   "metadata": {},
   "source": [
    "### Atribút STATE "
   ]
  },
  {
   "cell_type": "markdown",
   "metadata": {},
   "source": [
    "Tento atribút sme doplnili pomocou najviac frekventovanej hodnoty v tomto atribúte - hodnota UNITED_STATES. "
   ]
  },
  {
   "cell_type": "code",
   "execution_count": null,
   "metadata": {},
   "outputs": [],
   "source": [
    "data['STATE'].value_counts()"
   ]
  },
  {
   "cell_type": "markdown",
   "metadata": {},
   "source": [
    "Distribúcie hodnôt sa po realizácii predspracovania zmenili tak, že už neobsahujú žiadne chýbajúce hodnoty a nemajú ani nekonzistentný formát. V niektorých atribútoch ako napríklad **STATE** alebo **JOB_SEGMENT** sa zvýšila najfrekventovanejšia hodnota, pretože sme pri dopĺnaní chýbajúcich hodnôt v týchto atribútoch zvolili stratégiu doplnenia najčastejšie sa vyskytujúcou hodnotou. Dataset sa nám rozšíril aj o niekoľko nových atribútov, ktoré vznikli rozdelením starých atribútov **PERSONAL_INFO** a **CLASS** do viacerých stĺpcov. Počet riadkov v datasete sa nám zmenšil o jeden riadok."
   ]
  },
  {
   "cell_type": "markdown",
   "metadata": {},
   "source": [
    "Zistili sme, že pacienti sú väčšinou ženy a teda sú náchylnejšie na ochorenia tohto typu. To znamená že tento atribút môže byť podstatným pri klasifikácii. "
   ]
  },
  {
   "cell_type": "markdown",
   "metadata": {},
   "source": [
    "Všimli sme si takisto, že atribúty **ON_ANTITHYROID_MEDICATION, THYROID_SURGERY, I131_TREATMENT, LITHIUM** ktoré predstavujú istý druh liečby obsahujú len veľmi málo hodnôt True  a teda takisto môžu byť podstatným atribútom. "
   ]
  },
  {
   "cell_type": "code",
   "execution_count": null,
   "metadata": {},
   "outputs": [],
   "source": [
    "data.select_dtypes('bool').apply(pd.value_counts, axis=0)"
   ]
  },
  {
   "cell_type": "markdown",
   "metadata": {},
   "source": [
    "# Export pripravených dát"
   ]
  },
  {
   "cell_type": "code",
   "execution_count": null,
   "metadata": {},
   "outputs": [],
   "source": [
    "import category_encoders as ce\n",
    "encoder = ce.OneHotEncoder()"
   ]
  },
  {
   "cell_type": "code",
   "execution_count": null,
   "metadata": {},
   "outputs": [],
   "source": [
    "data_X = data.dropna().reindex(columns=[x for x in data.columns.values if x != 'CLASS'])\n",
    "data_y = data.dropna().reindex(columns=['CLASS'])"
   ]
  },
  {
   "cell_type": "code",
   "execution_count": null,
   "metadata": {},
   "outputs": [],
   "source": [
    "#encoder.fit(data_X, data_y)\n",
    "#data_categorical = encoder.transform(data_X)\n",
    "#data_categorical.describe()\n",
    "test_data.info()\n",
    "#create_csv(test_data,'ctest_revision')"
   ]
  },
  {
   "cell_type": "markdown",
   "metadata": {},
   "source": [
    "# Zdroje\n",
    "Príklady ako pracovať s pandas - https://pandas.pydata.org/pandas-docs/stable/cookbook.html#cookbook-plotting\n",
    "\n",
    "Robenie grafov v pandas - https://pandas.pydata.org/pandas-docs/stable/visualization.html"
   ]
  }
 ],
 "metadata": {
  "kernelspec": {
   "display_name": "Python 3",
   "language": "python",
   "name": "python3"
  },
  "language_info": {
   "codemirror_mode": {
    "name": "ipython",
    "version": 3
   },
   "file_extension": ".py",
   "mimetype": "text/x-python",
   "name": "python",
   "nbconvert_exporter": "python",
   "pygments_lexer": "ipython3",
   "version": "3.6.4"
  }
 },
 "nbformat": 4,
 "nbformat_minor": 2
}
