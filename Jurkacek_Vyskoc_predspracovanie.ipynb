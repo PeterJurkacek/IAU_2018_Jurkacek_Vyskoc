{
 "cells": [
  {
   "cell_type": "markdown",
   "metadata": {},
   "source": [
    "# Obsah\n",
    "\n",
    "> ## Úvod\n",
    "\n",
    "> ## Knižnice\n",
    "\n",
    "> ## Dataset\n",
    "\n",
    "> ## Chýbajúce hodnoty\n",
    "\n",
    ">> ### Zjednotenie formátov dát\n",
    "\n",
    ">> ### Odvodenie chýbajúcich hodnôt po riadkoch\n",
    "\n",
    ">> ### Doplnenie chýbajúcich hodnôt po stĺpcoch\n",
    "\n",
    "> ## Vychýlené hodnoty\n",
    "\n",
    "> ## Normalizácia údajov\n",
    "\n",
    "> ## Transformácia numerických atribútov na kategorické\n",
    "\n",
    "> ## Transformacia kategorických údajov na numerické\n",
    "\n",
    "> ## Vytváranie atribútov kombinovanim\n",
    "\n",
    "> ## Zdroje"
   ]
  },
  {
   "cell_type": "markdown",
   "metadata": {},
   "source": [
    "## Doležité parametre\n",
    "DecisionTreeClassifier(\n",
    "criterion\n",
    "\n",
    "max_depth=None\n",
    "\n",
    "min_samples_leaf - počet pozorovani vo vyslednej podmnozine\n",
    "\n",
    "class_weight=None"
   ]
  },
  {
   "cell_type": "markdown",
   "metadata": {},
   "source": [
    "# Úvod\n",
    "Na základe identifikovaných problémov v dátach a návrhu ich riešenia v predchádzajúcej fáze treba zrealizovať predspracovanie. Výsledkom by mala byť upravená dátová sada (vo formáte ​csv​) vo vhodnom tvare pre zvolený algoritmus strojového učenia (v našom prípade rozhodovacie stromy​). Zároveň, keďže predspracovaním sa mohol zmeniť tvar a charakteristiky dát (počet atribútov, distribúcie hodnôt a pod.), treba znovu zrealizovať podstatné časti prieskumnej analýzy, pričom v tejto fáze je potrebné zamerať sa aj na vzťahy medzi jednotlivými atribútmi."
   ]
  },
  {
   "cell_type": "markdown",
   "metadata": {},
   "source": [
    "# Knižnice"
   ]
  },
  {
   "cell_type": "code",
   "execution_count": 176,
   "metadata": {},
   "outputs": [],
   "source": [
    "%matplotlib inline\n",
    "import pandas as pd\n",
    "import numpy as np\n",
    "import matplotlib.pyplot as plt\n",
    "import seaborn\n",
    "from sklearn import preprocessing\n",
    "from sklearn import linear_model\n",
    "import datetime as dt\n",
    "\n",
    "#regular expression\n",
    "import re\n",
    "\n",
    "#Nastavenie rozmerov zobrazovaných grafov\n",
    "plt.rcParams['figure.figsize'] = 9, 6\n",
    "from IPython.display import Image\n",
    "\n",
    "#Integracia\n",
    "from scipy.stats import boxcox\n",
    "import scipy.stats as stats"
   ]
  },
  {
   "cell_type": "markdown",
   "metadata": {},
   "source": [
    "# Func Defintions"
   ]
  },
  {
   "cell_type": "code",
   "execution_count": 177,
   "metadata": {},
   "outputs": [],
   "source": [
    "def fixWierdCharsInString(string):\n",
    "    if isinstance(string, float) or isinstance(string, int):\n",
    "        return string\n",
    "    if not isinstance(string, str): \n",
    "        return string\n",
    "    if pd.isna(string) or string == '?' or string == '??':\n",
    "        return np.nan\n",
    "    #ocisti string od bielych znakov a regex: nahrad znaky [ -], za _\n",
    "    return re.sub('[ -]','_', str.strip(string).upper())"
   ]
  },
  {
   "cell_type": "code",
   "execution_count": 178,
   "metadata": {},
   "outputs": [],
   "source": [
    "def init_dataset(file):\n",
    "    # Načítame si súbor s datasetom so separátom ',' a ako index nastavime prvý stĺpec\n",
    "    data = pd.read_csv(file, sep=',', index_col=0)\n",
    "    # Pomenujeme si index\n",
    "    data.index.name = 'ID'\n",
    "    # Ujednoti format nazvov stlpcov\n",
    "    data = data.rename(columns=fixWierdCharsInString)\n",
    "    print(\"Index name\", data.index.name)\n",
    "    print(data.columns)\n",
    "    return data"
   ]
  },
  {
   "cell_type": "code",
   "execution_count": 179,
   "metadata": {},
   "outputs": [],
   "source": [
    "def create_csv(df, file_name):\n",
    "    df.to_csv(file_name, sep='\\t')"
   ]
  },
  {
   "cell_type": "code",
   "execution_count": 180,
   "metadata": {},
   "outputs": [],
   "source": [
    "def isNormalDistribution(data):\n",
    "    z, pval = stats.normaltest(data)\n",
    "    print(data.name, z, pval, True if pval > 0.05 else False)\n",
    "    if(pval > 0.05):\n",
    "        return True\n",
    "    return False"
   ]
  },
  {
   "cell_type": "markdown",
   "metadata": {},
   "source": [
    "Na základe: http://mathforum.org/library/drmath/view/72065.html sme určili prahovú hodnotu kedy považujeme atribút za normálne rozdelenie"
   ]
  },
  {
   "cell_type": "code",
   "execution_count": 181,
   "metadata": {},
   "outputs": [],
   "source": [
    "def checkAllObjectType(data):\n",
    "    #help(data.select_dtypes)\n",
    "    #Selektneme si vsetky atribúty, ktoré majú nejasný dátový\n",
    "    for col_name in data.select_dtypes('object'):\n",
    "        #Spočítame si pre každý \"kategorický\" atribút počet jeho jedinečných hodnôt\n",
    "        print(col_name,\":\",data[col_name].nunique())  \n"
   ]
  },
  {
   "cell_type": "code",
   "execution_count": 182,
   "metadata": {},
   "outputs": [],
   "source": [
    "def checkAllNumericType(data):\n",
    "    #help(data.select_dtypes)\n",
    "    #Selektneme si vsetky atribúty, ktoré majú nejasný dátový\n",
    "    numeric_data = data.select_dtypes(['int64','float64'])\n",
    "    for col_name in numeric_data.columns:\n",
    "        #Spočítame si pre každý \"Numerický\" atribút počet jeho jedinečných hodnôt\n",
    "        print(col_name,\": modus:\",numeric_data[col_name].mode(),\", mean:\", numeric_data[col_name].describe())\n",
    "    numeric_data.apply(isNormalDistribution)"
   ]
  },
  {
   "cell_type": "code",
   "execution_count": 183,
   "metadata": {},
   "outputs": [],
   "source": [
    "def convertToDateType(string):\n",
    "    if pd.isna(string) or string == '??':\n",
    "        return pd.NaT\n",
    "    #Nastavime si datum na 10 znakov\n",
    "    if isinstance(string, str):\n",
    "        string = string.strip()[:10]\n",
    "        if len(string) < 10:\n",
    "            if(re.match(\"^[01][0-8]\",string[:2])):\n",
    "                #print(string)\n",
    "                string = '20'+ string\n",
    "            elif(re.match(\"^[2-9][0-9]\",string[:2])): \n",
    "                string = '19'+ string\n",
    "                #print(string)\n",
    "    try: return pd.to_datetime(string, errors='raise')\n",
    "    except ValueError:\n",
    "            #print(string)\n",
    "            return pd.NaT"
   ]
  },
  {
   "cell_type": "code",
   "execution_count": 184,
   "metadata": {},
   "outputs": [],
   "source": [
    "def fixWierdCharsInObjectType(data):\n",
    "    forloop = {}\n",
    "    for col in data.columns:\n",
    "        data[col] = data[col].apply(fixWierdCharsInString)\n",
    "        forloop[col] = data[col].value_counts(normalize=True).to_dict()\n",
    "    return forloop"
   ]
  },
  {
   "cell_type": "code",
   "execution_count": 185,
   "metadata": {},
   "outputs": [],
   "source": [
    "def calculateAgeFromDate(data, start_date):\n",
    "    date = pd.to_datetime(start_date)\n",
    "    data.loc[data[age_column].isna() & data[date_column].notna(), age_column] = (date - data.loc[(data[age_column].isna() & data[date_column].notna()), date_column]).astype('int64') "
   ]
  },
  {
   "cell_type": "markdown",
   "metadata": {},
   "source": [
    "# Dataset"
   ]
  },
  {
   "cell_type": "code",
   "execution_count": 186,
   "metadata": {},
   "outputs": [
    {
     "name": "stdout",
     "output_type": "stream",
     "text": [
      "Index name ID\n",
      "Index(['AGE', 'SEX', 'ON_THYROXINE', 'QUERY_ON_THYROXINE',\n",
      "       'ON_ANTITHYROID_MEDICATION', 'SICK', 'PREGNANT', 'THYROID_SURGERY',\n",
      "       'I131_TREATMENT', 'QUERY_HYPOTHYROID', 'QUERY_HYPERTHYROID', 'LITHIUM',\n",
      "       'GOITRE', 'TUMOR', 'HYPOPITUITARY', 'PSYCH', 'TSH_MEASURED', 'TSH',\n",
      "       'T3_MEASURED', 'T3', 'TT4_MEASURED', 'TT4', 'T4U_MEASURED', 'T4U',\n",
      "       'FTI_MEASURED', 'FTI', 'TBG_MEASURED', 'TBG', 'REFERRAL_SOURCE',\n",
      "       'CLASS', 'FNLWGT', 'EDUCATION', 'EDUCATION_NUM', 'RELATIONSHIP',\n",
      "       'CAPITAL_GAIN', 'CAPITAL_LOSS', 'HOURS_PER_WEEK', 'DATE_OF_BIRTH',\n",
      "       'PERSONAL_INFO'],\n",
      "      dtype='object')\n"
     ]
    }
   ],
   "source": [
    "#Inicializacia datasetu so zjednotenými nazvami\n",
    "test_file = \"data/zadanie4/test.csv\"\n",
    "test_data = init_dataset(test_file)"
   ]
  },
  {
   "cell_type": "code",
   "execution_count": 187,
   "metadata": {},
   "outputs": [
    {
     "name": "stdout",
     "output_type": "stream",
     "text": [
      "Index name ID\n",
      "Index(['AGE', 'SEX', 'ON_THYROXINE', 'QUERY_ON_THYROXINE',\n",
      "       'ON_ANTITHYROID_MEDICATION', 'SICK', 'PREGNANT', 'THYROID_SURGERY',\n",
      "       'I131_TREATMENT', 'QUERY_HYPOTHYROID', 'QUERY_HYPERTHYROID', 'LITHIUM',\n",
      "       'GOITRE', 'TUMOR', 'HYPOPITUITARY', 'PSYCH', 'TSH_MEASURED', 'TSH',\n",
      "       'T3_MEASURED', 'T3', 'TT4_MEASURED', 'TT4', 'T4U_MEASURED', 'T4U',\n",
      "       'FTI_MEASURED', 'FTI', 'TBG_MEASURED', 'TBG', 'REFERRAL_SOURCE',\n",
      "       'CLASS', 'FNLWGT', 'EDUCATION', 'EDUCATION_NUM', 'RELATIONSHIP',\n",
      "       'CAPITAL_GAIN', 'CAPITAL_LOSS', 'HOURS_PER_WEEK', 'DATE_OF_BIRTH',\n",
      "       'PERSONAL_INFO'],\n",
      "      dtype='object')\n"
     ]
    }
   ],
   "source": [
    "train_file = \"data/zadanie4/train.csv\"\n",
    "train_data = init_dataset(train_file)"
   ]
  },
  {
   "cell_type": "code",
   "execution_count": 188,
   "metadata": {},
   "outputs": [],
   "source": [
    "#Aby sme mohli pracovat \n",
    "#data = train_data\n",
    "data = train_data"
   ]
  },
  {
   "cell_type": "markdown",
   "metadata": {},
   "source": [
    "# Zjednotenie formátov a typov dát"
   ]
  },
  {
   "cell_type": "code",
   "execution_count": 189,
   "metadata": {},
   "outputs": [
    {
     "name": "stdout",
     "output_type": "stream",
     "text": [
      "<class 'pandas.core.frame.DataFrame'>\n",
      "Int64Index: 2800 entries, 0 to 2799\n",
      "Data columns (total 39 columns):\n",
      "AGE                          2799 non-null float64\n",
      "SEX                          2800 non-null object\n",
      "ON_THYROXINE                 2800 non-null object\n",
      "QUERY_ON_THYROXINE           2800 non-null object\n",
      "ON_ANTITHYROID_MEDICATION    2800 non-null object\n",
      "SICK                         2800 non-null object\n",
      "PREGNANT                     2800 non-null object\n",
      "THYROID_SURGERY              2800 non-null object\n",
      "I131_TREATMENT               2800 non-null object\n",
      "QUERY_HYPOTHYROID            2800 non-null object\n",
      "QUERY_HYPERTHYROID           2800 non-null object\n",
      "LITHIUM                      2800 non-null object\n",
      "GOITRE                       2800 non-null object\n",
      "TUMOR                        2800 non-null object\n",
      "HYPOPITUITARY                2800 non-null object\n",
      "PSYCH                        2800 non-null object\n",
      "TSH_MEASURED                 2800 non-null object\n",
      "TSH                          2516 non-null float64\n",
      "T3_MEASURED                  2800 non-null object\n",
      "T3                           2215 non-null float64\n",
      "TT4_MEASURED                 2800 non-null object\n",
      "TT4                          2616 non-null float64\n",
      "T4U_MEASURED                 2800 non-null object\n",
      "T4U                          2503 non-null float64\n",
      "FTI_MEASURED                 2800 non-null object\n",
      "FTI                          2800 non-null object\n",
      "TBG_MEASURED                 2800 non-null object\n",
      "TBG                          2800 non-null object\n",
      "REFERRAL_SOURCE              2800 non-null object\n",
      "CLASS                        2800 non-null object\n",
      "FNLWGT                       2800 non-null int64\n",
      "EDUCATION                    2800 non-null object\n",
      "EDUCATION_NUM                2800 non-null int64\n",
      "RELATIONSHIP                 2800 non-null object\n",
      "CAPITAL_GAIN                 2520 non-null float64\n",
      "CAPITAL_LOSS                 2800 non-null int64\n",
      "HOURS_PER_WEEK               2800 non-null int64\n",
      "DATE_OF_BIRTH                2610 non-null object\n",
      "PERSONAL_INFO                2800 non-null object\n",
      "dtypes: float64(6), int64(4), object(29)\n",
      "memory usage: 875.0+ KB\n"
     ]
    }
   ],
   "source": [
    "data.info()"
   ]
  },
  {
   "cell_type": "code",
   "execution_count": 190,
   "metadata": {},
   "outputs": [
    {
     "name": "stdout",
     "output_type": "stream",
     "text": [
      "SEX : 3\n",
      "ON_THYROXINE : 6\n",
      "QUERY_ON_THYROXINE : 2\n",
      "ON_ANTITHYROID_MEDICATION : 2\n",
      "SICK : 2\n",
      "PREGNANT : 2\n",
      "THYROID_SURGERY : 2\n",
      "I131_TREATMENT : 2\n",
      "QUERY_HYPOTHYROID : 2\n",
      "QUERY_HYPERTHYROID : 2\n",
      "LITHIUM : 2\n",
      "GOITRE : 2\n",
      "TUMOR : 2\n",
      "HYPOPITUITARY : 2\n",
      "PSYCH : 2\n",
      "TSH_MEASURED : 2\n",
      "T3_MEASURED : 2\n",
      "TT4_MEASURED : 2\n",
      "T4U_MEASURED : 2\n",
      "FTI_MEASURED : 2\n",
      "FTI : 210\n",
      "TBG_MEASURED : 1\n",
      "TBG : 1\n",
      "REFERRAL_SOURCE : 5\n",
      "CLASS : 2800\n",
      "EDUCATION : 16\n",
      "RELATIONSHIP : 9\n",
      "DATE_OF_BIRTH : 2456\n",
      "PERSONAL_INFO : 700\n"
     ]
    }
   ],
   "source": [
    "checkAllObjectType(data)"
   ]
  },
  {
   "cell_type": "markdown",
   "metadata": {},
   "source": [
    "Pre všetky vyššie atribúty nastavíme správny formát dát a prekonvertujeme na číselnú reprezentáciu, kvôli neskoršej klasifikácií."
   ]
  },
  {
   "cell_type": "code",
   "execution_count": 191,
   "metadata": {},
   "outputs": [
    {
     "data": {
      "text/plain": [
       "count    2505.000000\n",
       "mean      110.787984\n",
       "std        32.883986\n",
       "min         2.000000\n",
       "25%        93.000000\n",
       "50%       107.000000\n",
       "75%       124.000000\n",
       "max       395.000000\n",
       "Name: FTI, dtype: float64"
      ]
     },
     "execution_count": 191,
     "metadata": {},
     "output_type": "execute_result"
    }
   ],
   "source": [
    "#help(data.to_numeric)\n",
    "#If ‘coerce’, then invalid parsing will be set as NaN\n",
    "#FTI prekonvertujeme na čísla\n",
    "column=fixWierdCharsInString('FTI')\n",
    "data[column] = pd.to_numeric(data[column], errors='coerce')\n",
    "data[column].describe()"
   ]
  },
  {
   "cell_type": "markdown",
   "metadata": {},
   "source": [
    "Zmena hodnôt **M -> Male** a **F -> Female**, **? -> NaN**. "
   ]
  },
  {
   "cell_type": "code",
   "execution_count": 192,
   "metadata": {},
   "outputs": [
    {
     "data": {
      "text/plain": [
       "female    1830\n",
       "male       860\n",
       "Name: SEX, dtype: int64"
      ]
     },
     "execution_count": 192,
     "metadata": {},
     "output_type": "execute_result"
    }
   ],
   "source": [
    "#Nastavíme pohlavie na jeden formát\n",
    "column = fixWierdCharsInString('sex')\n",
    "\n",
    "data[column] = data[column].apply(fixWierdCharsInString)\n",
    "data[column].replace(['F', 'M'], ['female', 'male'], inplace=True)\n",
    "#data[column] = data[column].fillna(-1)\n",
    "data[column].value_counts()\n",
    "#new_column = fixWierdCharsInString('sex_male')\n",
    "#data = data.rename(columns={column:new_column})\n",
    "#data.columns[1]"
   ]
  },
  {
   "cell_type": "markdown",
   "metadata": {},
   "source": [
    "Zmena hodnôt **f, F, FALSE -> False** a **t, T, TRUE -> True**"
   ]
  },
  {
   "cell_type": "code",
   "execution_count": 193,
   "metadata": {},
   "outputs": [],
   "source": [
    "data.replace(['f', 'F', 'FALSE', 't', 'T', 'TRUE'], [False, False, False, True, True, True], inplace=True)"
   ]
  },
  {
   "cell_type": "code",
   "execution_count": 194,
   "metadata": {},
   "outputs": [
    {
     "name": "stdout",
     "output_type": "stream",
     "text": [
      "SEX : 2\n",
      "TBG : 1\n",
      "REFERRAL_SOURCE : 5\n",
      "CLASS : 2800\n",
      "EDUCATION : 16\n",
      "RELATIONSHIP : 9\n",
      "DATE_OF_BIRTH : 2456\n",
      "PERSONAL_INFO : 700\n"
     ]
    }
   ],
   "source": [
    "checkAllObjectType(data)"
   ]
  },
  {
   "cell_type": "code",
   "execution_count": 195,
   "metadata": {},
   "outputs": [
    {
     "data": {
      "text/plain": [
       " Not-in-family     809\n",
       " Husband           550\n",
       " Unmarried         510\n",
       " Own-child         441\n",
       " Wife              253\n",
       " Not_in_family      95\n",
       " Other-relative     80\n",
       " Own_child          53\n",
       " Other_relative      9\n",
       "Name: RELATIONSHIP, dtype: int64"
      ]
     },
     "execution_count": 195,
     "metadata": {},
     "output_type": "execute_result"
    }
   ],
   "source": [
    "column = fixWierdCharsInString('relationship')\n",
    "data[column].value_counts()"
   ]
  },
  {
   "cell_type": "markdown",
   "metadata": {},
   "source": [
    "Ujednotenie názvov v stĺpci **relationship**. \n",
    "Own-child -> Own_child\n",
    "Not-in-family -> Not_in_family\n",
    "Other-relative -> Other_relative"
   ]
  },
  {
   "cell_type": "code",
   "execution_count": 196,
   "metadata": {},
   "outputs": [
    {
     "data": {
      "text/plain": [
       "NOT_IN_FAMILY     904\n",
       "HUSBAND           550\n",
       "UNMARRIED         510\n",
       "OWN_CHILD         494\n",
       "WIFE              253\n",
       "OTHER_RELATIVE     89\n",
       "Name: RELATIONSHIP, dtype: int64"
      ]
     },
     "execution_count": 196,
     "metadata": {},
     "output_type": "execute_result"
    }
   ],
   "source": [
    "data[column] = data[column].apply(fixWierdCharsInString)\n",
    "data[column].value_counts()"
   ]
  },
  {
   "cell_type": "markdown",
   "metadata": {},
   "source": [
    "Ujednotenie formátu atribútu **date_of_birth**"
   ]
  },
  {
   "cell_type": "code",
   "execution_count": 197,
   "metadata": {},
   "outputs": [
    {
     "data": {
      "text/plain": [
       "count                    2519\n",
       "unique                   2394\n",
       "top       1957-08-19 00:00:00\n",
       "freq                        3\n",
       "first     1923-05-30 00:00:00\n",
       "last      2016-11-03 00:00:00\n",
       "Name: DATE_OF_BIRTH, dtype: object"
      ]
     },
     "execution_count": 197,
     "metadata": {},
     "output_type": "execute_result"
    }
   ],
   "source": [
    "column = fixWierdCharsInString('date_of_birth')\n",
    "data[column] = data[column].apply(convertToDateType)\n",
    "data[column].describe()"
   ]
  },
  {
   "cell_type": "markdown",
   "metadata": {},
   "source": [
    "Rozdelenie stĺpca **personal_info** do viacerých stĺpcov"
   ]
  },
  {
   "cell_type": "code",
   "execution_count": 198,
   "metadata": {},
   "outputs": [
    {
     "data": {
      "text/html": [
       "<div>\n",
       "<style scoped>\n",
       "    .dataframe tbody tr th:only-of-type {\n",
       "        vertical-align: middle;\n",
       "    }\n",
       "\n",
       "    .dataframe tbody tr th {\n",
       "        vertical-align: top;\n",
       "    }\n",
       "\n",
       "    .dataframe thead th {\n",
       "        text-align: right;\n",
       "    }\n",
       "</style>\n",
       "<table border=\"1\" class=\"dataframe\">\n",
       "  <thead>\n",
       "    <tr style=\"text-align: right;\">\n",
       "      <th></th>\n",
       "      <th>JOB</th>\n",
       "      <th>STATE</th>\n",
       "      <th>MARITAL_STATUS</th>\n",
       "      <th>JOB_SEGMENT</th>\n",
       "      <th>RACE</th>\n",
       "    </tr>\n",
       "  </thead>\n",
       "  <tbody>\n",
       "    <tr>\n",
       "      <th>0</th>\n",
       "      <td>Other-service</td>\n",
       "      <td>United-States</td>\n",
       "      <td>Widowed</td>\n",
       "      <td>private</td>\n",
       "      <td>Black</td>\n",
       "    </tr>\n",
       "    <tr>\n",
       "      <th>1</th>\n",
       "      <td>Adm-clerical</td>\n",
       "      <td>United-States</td>\n",
       "      <td>Separated</td>\n",
       "      <td>Local-gov</td>\n",
       "      <td>White</td>\n",
       "    </tr>\n",
       "    <tr>\n",
       "      <th>2</th>\n",
       "      <td>Sales</td>\n",
       "      <td>United-States</td>\n",
       "      <td>Married-civ-spouse</td>\n",
       "      <td>private</td>\n",
       "      <td>White</td>\n",
       "    </tr>\n",
       "    <tr>\n",
       "      <th>3</th>\n",
       "      <td>Sales</td>\n",
       "      <td>United-States</td>\n",
       "      <td>Never-married</td>\n",
       "      <td>Private</td>\n",
       "      <td>Black</td>\n",
       "    </tr>\n",
       "    <tr>\n",
       "      <th>4</th>\n",
       "      <td>Adm-clerical</td>\n",
       "      <td>United-States</td>\n",
       "      <td>Never-married</td>\n",
       "      <td>Private</td>\n",
       "      <td>White</td>\n",
       "    </tr>\n",
       "  </tbody>\n",
       "</table>\n",
       "</div>"
      ],
      "text/plain": [
       "             JOB          STATE       MARITAL_STATUS JOB_SEGMENT   RACE\n",
       "0  Other-service  United-States             Widowed      private  Black\n",
       "1   Adm-clerical  United-States           Separated    Local-gov  White\n",
       "2          Sales  United-States  Married-civ-spouse      private  White\n",
       "3          Sales  United-States       Never-married      Private  Black\n",
       "4   Adm-clerical  United-States       Never-married      Private  White"
      ]
     },
     "execution_count": 198,
     "metadata": {},
     "output_type": "execute_result"
    }
   ],
   "source": [
    "column = fixWierdCharsInString('personal_info')\n",
    "columns = list(map(fixWierdCharsInString, ['job','state', 'marital_status', 'job_segment', 'race']))\n",
    "df_personal_data = pd.DataFrame(data[column].str.replace('\\n','|').str.replace('--','|').str.split('|', expand=False).tolist(), columns=columns)\n",
    "df_personal_data.head()"
   ]
  },
  {
   "cell_type": "markdown",
   "metadata": {},
   "source": [
    "Atribút je teraz rozdelený do viacerých stĺpcov **job, state, parents_definition, segment, race**, ale je potrebné v nich urobiť nejaké úpravy. "
   ]
  },
  {
   "cell_type": "code",
   "execution_count": 199,
   "metadata": {},
   "outputs": [
    {
     "name": "stdout",
     "output_type": "stream",
     "text": [
      "JOB : 14\n",
      "STATE : 37\n",
      "MARITAL_STATUS : 7\n",
      "JOB_SEGMENT : 15\n",
      "RACE : 5\n"
     ]
    }
   ],
   "source": [
    "checkAllObjectType(df_personal_data)"
   ]
  },
  {
   "cell_type": "code",
   "execution_count": 200,
   "metadata": {},
   "outputs": [
    {
     "data": {
      "text/plain": [
       "{'JOB': {'ADM_CLERICAL': 0.1654482493266641,\n",
       "  'CRAFT_REPAIR': 0.07772220084647942,\n",
       "  'EXEC_MANAGERIAL': 0.13659099653712967,\n",
       "  'FARMING_FISHING': 0.021546748749519045,\n",
       "  'HANDLERS_CLEANERS': 0.02308580223162755,\n",
       "  'MACHINE_OP_INSPCT': 0.06156213928434013,\n",
       "  'OTHER_SERVICE': 0.15390534821085033,\n",
       "  'PRIV_HOUSE_SERV': 0.011158137745286649,\n",
       "  'PROF_SPECIALTY': 0.14697960754136205,\n",
       "  'PROTECTIVE_SERV': 0.019622931896883418,\n",
       "  'SALES': 0.12158522508657175,\n",
       "  'TECH_SUPPORT': 0.032320123124278566,\n",
       "  'TRANSPORT_MOVING': 0.02847248941900731},\n",
       " 'JOB_SEGMENT': {'?': 0.07107142857142858,\n",
       "  'FEDERAL_GOV': 0.029285714285714286,\n",
       "  'LOCAL_GOV': 0.07785714285714286,\n",
       "  'NEVER_WORKED': 0.0007142857142857143,\n",
       "  'PRIVATE': 0.6982142857142857,\n",
       "  'SELF_EMP_INC': 0.024642857142857143,\n",
       "  'SELF_EMP_NOT_INC': 0.055,\n",
       "  'STATE_GOV': 0.04285714285714286,\n",
       "  'WITHOUT_PAY': 0.00035714285714285714},\n",
       " 'MARITAL_STATUS': {'DIVORCED': 0.18535714285714286,\n",
       "  'MARRIED_AF_SPOUSE': 0.00035714285714285714,\n",
       "  'MARRIED_CIV_SPOUSE': 0.29178571428571426,\n",
       "  'MARRIED_SPOUSE_ABSENT': 0.017857142857142856,\n",
       "  'NEVER_MARRIED': 0.4010714285714286,\n",
       "  'SEPARATED': 0.044642857142857144,\n",
       "  'WIDOWED': 0.05892857142857143},\n",
       " 'RACE': {'AMER_INDIAN_ESKIMO': 0.008928571428571428,\n",
       "  'ASIAN_PAC_ISLANDER': 0.03142857142857143,\n",
       "  'BLACK': 0.13535714285714287,\n",
       "  'OTHER': 0.010357142857142856,\n",
       "  'WHITE': 0.8139285714285714},\n",
       " 'STATE': {'CANADA': 0.002176278563656148,\n",
       "  'CHINA': 0.0018135654697134566,\n",
       "  'COLUMBIA': 0.0025389916575988395,\n",
       "  'CUBA': 0.003989844033369605,\n",
       "  'DOMINICAN_REPUBLIC': 0.0018135654697134566,\n",
       "  'ECUADOR': 0.0014508523757707653,\n",
       "  'EL_SALVADOR': 0.005077983315197679,\n",
       "  'ENGLAND': 0.004715270221254987,\n",
       "  'GERMANY': 0.006528835690968444,\n",
       "  'GREECE': 0.0007254261878853826,\n",
       "  'GUATEMALA': 0.0025389916575988395,\n",
       "  'HAITI': 0.0025389916575988395,\n",
       "  'HONDURAS': 0.0003627130939426913,\n",
       "  'HONG': 0.0003627130939426913,\n",
       "  'HUNGARY': 0.001088139281828074,\n",
       "  'INDIA': 0.0018135654697134566,\n",
       "  'IRAN': 0.0003627130939426913,\n",
       "  'ITALY': 0.0018135654697134566,\n",
       "  'JAMAICA': 0.004715270221254987,\n",
       "  'JAPAN': 0.0014508523757707653,\n",
       "  'LAOS': 0.001088139281828074,\n",
       "  'MEXICO': 0.018135654697134566,\n",
       "  'NICARAGUA': 0.002176278563656148,\n",
       "  'OUTLYING_US(GUAM_USVI_ETC)': 0.0007254261878853826,\n",
       "  'PERU': 0.001088139281828074,\n",
       "  'PHILIPPINES': 0.008342401160681901,\n",
       "  'POLAND': 0.0018135654697134566,\n",
       "  'PORTUGAL': 0.001088139281828074,\n",
       "  'PUERTO_RICO': 0.003989844033369605,\n",
       "  'SCOTLAND': 0.0003627130939426913,\n",
       "  'SOUTH': 0.0018135654697134566,\n",
       "  'TAIWAN': 0.0029017047515415306,\n",
       "  'THAILAND': 0.001088139281828074,\n",
       "  'TRINADAD&TOBAGO': 0.0003627130939426913,\n",
       "  'UNITED_STATES': 0.9053318824809575,\n",
       "  'VIETNAM': 0.0018135654697134566}}"
      ]
     },
     "execution_count": 200,
     "metadata": {},
     "output_type": "execute_result"
    }
   ],
   "source": [
    "fixWierdCharsInObjectType(df_personal_data)"
   ]
  },
  {
   "cell_type": "code",
   "execution_count": 201,
   "metadata": {},
   "outputs": [
    {
     "data": {
      "text/html": [
       "<div>\n",
       "<style scoped>\n",
       "    .dataframe tbody tr th:only-of-type {\n",
       "        vertical-align: middle;\n",
       "    }\n",
       "\n",
       "    .dataframe tbody tr th {\n",
       "        vertical-align: top;\n",
       "    }\n",
       "\n",
       "    .dataframe thead th {\n",
       "        text-align: right;\n",
       "    }\n",
       "</style>\n",
       "<table border=\"1\" class=\"dataframe\">\n",
       "  <thead>\n",
       "    <tr style=\"text-align: right;\">\n",
       "      <th></th>\n",
       "      <th>JOB</th>\n",
       "      <th>STATE</th>\n",
       "      <th>MARITAL_STATUS</th>\n",
       "      <th>JOB_SEGMENT</th>\n",
       "      <th>RACE</th>\n",
       "    </tr>\n",
       "  </thead>\n",
       "  <tbody>\n",
       "    <tr>\n",
       "      <th>0</th>\n",
       "      <td>OTHER_SERVICE</td>\n",
       "      <td>UNITED_STATES</td>\n",
       "      <td>WIDOWED</td>\n",
       "      <td>PRIVATE</td>\n",
       "      <td>BLACK</td>\n",
       "    </tr>\n",
       "    <tr>\n",
       "      <th>1</th>\n",
       "      <td>ADM_CLERICAL</td>\n",
       "      <td>UNITED_STATES</td>\n",
       "      <td>SEPARATED</td>\n",
       "      <td>LOCAL_GOV</td>\n",
       "      <td>WHITE</td>\n",
       "    </tr>\n",
       "    <tr>\n",
       "      <th>2</th>\n",
       "      <td>SALES</td>\n",
       "      <td>UNITED_STATES</td>\n",
       "      <td>MARRIED_CIV_SPOUSE</td>\n",
       "      <td>PRIVATE</td>\n",
       "      <td>WHITE</td>\n",
       "    </tr>\n",
       "    <tr>\n",
       "      <th>3</th>\n",
       "      <td>SALES</td>\n",
       "      <td>UNITED_STATES</td>\n",
       "      <td>NEVER_MARRIED</td>\n",
       "      <td>PRIVATE</td>\n",
       "      <td>BLACK</td>\n",
       "    </tr>\n",
       "    <tr>\n",
       "      <th>4</th>\n",
       "      <td>ADM_CLERICAL</td>\n",
       "      <td>UNITED_STATES</td>\n",
       "      <td>NEVER_MARRIED</td>\n",
       "      <td>PRIVATE</td>\n",
       "      <td>WHITE</td>\n",
       "    </tr>\n",
       "  </tbody>\n",
       "</table>\n",
       "</div>"
      ],
      "text/plain": [
       "             JOB          STATE      MARITAL_STATUS JOB_SEGMENT   RACE\n",
       "0  OTHER_SERVICE  UNITED_STATES             WIDOWED     PRIVATE  BLACK\n",
       "1   ADM_CLERICAL  UNITED_STATES           SEPARATED   LOCAL_GOV  WHITE\n",
       "2          SALES  UNITED_STATES  MARRIED_CIV_SPOUSE     PRIVATE  WHITE\n",
       "3          SALES  UNITED_STATES       NEVER_MARRIED     PRIVATE  BLACK\n",
       "4   ADM_CLERICAL  UNITED_STATES       NEVER_MARRIED     PRIVATE  WHITE"
      ]
     },
     "execution_count": 201,
     "metadata": {},
     "output_type": "execute_result"
    }
   ],
   "source": [
    "df_personal_data.head()"
   ]
  },
  {
   "cell_type": "markdown",
   "metadata": {},
   "source": [
    "Teraz môžeme vytvorené stĺpce z atribútu **personal_info** pripojiť k celému datasetu a vymazať atribút **personal_info**."
   ]
  },
  {
   "cell_type": "code",
   "execution_count": 202,
   "metadata": {},
   "outputs": [],
   "source": [
    "data = data.drop([column], axis=1) # vymazanie atribútu personal_info\n",
    "data = data.join(df_personal_data)          # pridanie nových atribútov do nášho datasetu"
   ]
  },
  {
   "cell_type": "markdown",
   "metadata": {},
   "source": [
    "Rozdelenie atribútu **class** do dvoch nových atribútov."
   ]
  },
  {
   "cell_type": "code",
   "execution_count": 203,
   "metadata": {},
   "outputs": [
    {
     "data": {
      "text/plain": [
       "ID\n",
       "0    replacement therapy.|3560\n",
       "1                negative.|311\n",
       "2               negative.|3705\n",
       "3               negative.|2668\n",
       "4    replacement therapy.|1668\n",
       "Name: CLASS, dtype: object"
      ]
     },
     "execution_count": 203,
     "metadata": {},
     "output_type": "execute_result"
    }
   ],
   "source": [
    "column = fixWierdCharsInString('class')\n",
    "data[column].head()"
   ]
  },
  {
   "cell_type": "code",
   "execution_count": 204,
   "metadata": {
    "tags": [
     "korekcia"
    ]
   },
   "outputs": [
    {
     "data": {
      "text/plain": [
       "negative               2713\n",
       "underreplacement         35\n",
       "replacement therapy      29\n",
       "overreplacement          23\n",
       "Name: CLASS, dtype: int64"
      ]
     },
     "execution_count": 204,
     "metadata": {},
     "output_type": "execute_result"
    }
   ],
   "source": [
    "#data = train_data\n",
    "#Nepotrebujeme\n",
    "column2_name = 'second_id'\n",
    "df_class = pd.DataFrame(data[column].str.split('\\.\\|').tolist(), columns = [column,column2_name])\n",
    "df_class[column].value_counts()"
   ]
  },
  {
   "cell_type": "code",
   "execution_count": 205,
   "metadata": {},
   "outputs": [
    {
     "data": {
      "text/plain": [
       "negative               2713\n",
       "underreplacement         35\n",
       "replacement therapy      29\n",
       "overreplacement          23\n",
       "Name: CLASS, dtype: int64"
      ]
     },
     "execution_count": 205,
     "metadata": {},
     "output_type": "execute_result"
    }
   ],
   "source": [
    "# vymazanie atribútu class\n",
    "data = data.drop([column], axis=1) \n",
    "# pridanie nových atribútov do nášho datasetu\n",
    "data = data.join(df_class[column])\n",
    "data[column].value_counts()"
   ]
  },
  {
   "cell_type": "code",
   "execution_count": 206,
   "metadata": {},
   "outputs": [
    {
     "data": {
      "text/plain": [
       "9.0     894\n",
       "10.0    670\n",
       "13.0    437\n",
       "14.0    138\n",
       "11.0    130\n",
       "12.0    103\n",
       "7.0      97\n",
       "6.0      79\n",
       "8.0      54\n",
       "4.0      45\n",
       "15.0     42\n",
       "5.0      41\n",
       "16.0     25\n",
       "3.0      24\n",
       "2.0      17\n",
       "1.0       4\n",
       "Name: EDUCATION_NUM, dtype: int64"
      ]
     },
     "execution_count": 206,
     "metadata": {},
     "output_type": "execute_result"
    }
   ],
   "source": [
    "column = fixWierdCharsInString('education_num')\n",
    "#data['education-num']\n",
    "data[column] = pd.to_numeric(data[column], errors='coerce')\n",
    "data[column] = data[column].apply(lambda x: abs(x)/100 if abs(x) > 100 else x)\n",
    "data[column].value_counts()"
   ]
  },
  {
   "cell_type": "markdown",
   "metadata": {},
   "source": [
    "Vymazanie atribútu **TBG**, pretože atribút nenesie žiadnu zmysluplnú hodnotu a tým pádom nemá pre nás význam. "
   ]
  },
  {
   "cell_type": "code",
   "execution_count": 207,
   "metadata": {},
   "outputs": [],
   "source": [
    "column1 = fixWierdCharsInString('TBG')\n",
    "column2 = fixWierdCharsInString('TBG_measured')\n",
    "data = data.drop([column1], axis=1) \n",
    "data = data.drop([column2], axis=1) "
   ]
  },
  {
   "cell_type": "markdown",
   "metadata": {},
   "source": [
    "Atribútom **capital_gain** a **capital_loss** sme sa rozhodli ujednotiť dátové typy."
   ]
  },
  {
   "cell_type": "code",
   "execution_count": 208,
   "metadata": {},
   "outputs": [],
   "source": [
    "column = fixWierdCharsInString('capital_loss')\n",
    "data[column] = data[column].astype('float64')"
   ]
  },
  {
   "cell_type": "code",
   "execution_count": 209,
   "metadata": {},
   "outputs": [
    {
     "name": "stdout",
     "output_type": "stream",
     "text": [
      "SEX : 2\n",
      "REFERRAL_SOURCE : 5\n",
      "EDUCATION : 16\n",
      "RELATIONSHIP : 6\n",
      "JOB : 13\n",
      "STATE : 36\n",
      "MARITAL_STATUS : 7\n",
      "JOB_SEGMENT : 8\n",
      "RACE : 5\n",
      "CLASS : 4\n"
     ]
    },
    {
     "data": {
      "text/html": [
       "<div>\n",
       "<style scoped>\n",
       "    .dataframe tbody tr th:only-of-type {\n",
       "        vertical-align: middle;\n",
       "    }\n",
       "\n",
       "    .dataframe tbody tr th {\n",
       "        vertical-align: top;\n",
       "    }\n",
       "\n",
       "    .dataframe thead th {\n",
       "        text-align: right;\n",
       "    }\n",
       "</style>\n",
       "<table border=\"1\" class=\"dataframe\">\n",
       "  <thead>\n",
       "    <tr style=\"text-align: right;\">\n",
       "      <th></th>\n",
       "      <th>SEX</th>\n",
       "      <th>REFERRAL_SOURCE</th>\n",
       "      <th>EDUCATION</th>\n",
       "      <th>RELATIONSHIP</th>\n",
       "      <th>JOB</th>\n",
       "      <th>STATE</th>\n",
       "      <th>MARITAL_STATUS</th>\n",
       "      <th>JOB_SEGMENT</th>\n",
       "      <th>RACE</th>\n",
       "      <th>CLASS</th>\n",
       "    </tr>\n",
       "    <tr>\n",
       "      <th>ID</th>\n",
       "      <th></th>\n",
       "      <th></th>\n",
       "      <th></th>\n",
       "      <th></th>\n",
       "      <th></th>\n",
       "      <th></th>\n",
       "      <th></th>\n",
       "      <th></th>\n",
       "      <th></th>\n",
       "      <th></th>\n",
       "    </tr>\n",
       "  </thead>\n",
       "  <tbody>\n",
       "    <tr>\n",
       "      <th>0</th>\n",
       "      <td>FEMALE</td>\n",
       "      <td>OTHER</td>\n",
       "      <td>SOME_COLLEGE</td>\n",
       "      <td>UNMARRIED</td>\n",
       "      <td>OTHER_SERVICE</td>\n",
       "      <td>UNITED_STATES</td>\n",
       "      <td>WIDOWED</td>\n",
       "      <td>PRIVATE</td>\n",
       "      <td>BLACK</td>\n",
       "      <td>REPLACEMENT_THERAPY</td>\n",
       "    </tr>\n",
       "    <tr>\n",
       "      <th>1</th>\n",
       "      <td>FEMALE</td>\n",
       "      <td>OTHER</td>\n",
       "      <td>SOME_COLLEGE</td>\n",
       "      <td>UNMARRIED</td>\n",
       "      <td>ADM_CLERICAL</td>\n",
       "      <td>UNITED_STATES</td>\n",
       "      <td>SEPARATED</td>\n",
       "      <td>LOCAL_GOV</td>\n",
       "      <td>WHITE</td>\n",
       "      <td>NEGATIVE</td>\n",
       "    </tr>\n",
       "    <tr>\n",
       "      <th>2</th>\n",
       "      <td>MALE</td>\n",
       "      <td>OTHER</td>\n",
       "      <td>HS_GRAD</td>\n",
       "      <td>HUSBAND</td>\n",
       "      <td>SALES</td>\n",
       "      <td>UNITED_STATES</td>\n",
       "      <td>MARRIED_CIV_SPOUSE</td>\n",
       "      <td>PRIVATE</td>\n",
       "      <td>WHITE</td>\n",
       "      <td>NEGATIVE</td>\n",
       "    </tr>\n",
       "    <tr>\n",
       "      <th>3</th>\n",
       "      <td>FEMALE</td>\n",
       "      <td>OTHER</td>\n",
       "      <td>SOME_COLLEGE</td>\n",
       "      <td>OWN_CHILD</td>\n",
       "      <td>SALES</td>\n",
       "      <td>UNITED_STATES</td>\n",
       "      <td>NEVER_MARRIED</td>\n",
       "      <td>PRIVATE</td>\n",
       "      <td>BLACK</td>\n",
       "      <td>NEGATIVE</td>\n",
       "    </tr>\n",
       "    <tr>\n",
       "      <th>4</th>\n",
       "      <td>FEMALE</td>\n",
       "      <td>OTHER</td>\n",
       "      <td>ASSOC_VOC</td>\n",
       "      <td>OWN_CHILD</td>\n",
       "      <td>ADM_CLERICAL</td>\n",
       "      <td>UNITED_STATES</td>\n",
       "      <td>NEVER_MARRIED</td>\n",
       "      <td>PRIVATE</td>\n",
       "      <td>WHITE</td>\n",
       "      <td>REPLACEMENT_THERAPY</td>\n",
       "    </tr>\n",
       "  </tbody>\n",
       "</table>\n",
       "</div>"
      ],
      "text/plain": [
       "       SEX REFERRAL_SOURCE     EDUCATION RELATIONSHIP            JOB  \\\n",
       "ID                                                                     \n",
       "0   FEMALE           OTHER  SOME_COLLEGE    UNMARRIED  OTHER_SERVICE   \n",
       "1   FEMALE           OTHER  SOME_COLLEGE    UNMARRIED   ADM_CLERICAL   \n",
       "2     MALE           OTHER       HS_GRAD      HUSBAND          SALES   \n",
       "3   FEMALE           OTHER  SOME_COLLEGE    OWN_CHILD          SALES   \n",
       "4   FEMALE           OTHER     ASSOC_VOC    OWN_CHILD   ADM_CLERICAL   \n",
       "\n",
       "            STATE      MARITAL_STATUS JOB_SEGMENT   RACE                CLASS  \n",
       "ID                                                                             \n",
       "0   UNITED_STATES             WIDOWED     PRIVATE  BLACK  REPLACEMENT_THERAPY  \n",
       "1   UNITED_STATES           SEPARATED   LOCAL_GOV  WHITE             NEGATIVE  \n",
       "2   UNITED_STATES  MARRIED_CIV_SPOUSE     PRIVATE  WHITE             NEGATIVE  \n",
       "3   UNITED_STATES       NEVER_MARRIED     PRIVATE  BLACK             NEGATIVE  \n",
       "4   UNITED_STATES       NEVER_MARRIED     PRIVATE  WHITE  REPLACEMENT_THERAPY  "
      ]
     },
     "execution_count": 209,
     "metadata": {},
     "output_type": "execute_result"
    }
   ],
   "source": [
    "fixWierdCharsInObjectType(data)\n",
    "checkAllObjectType(data)\n",
    "data.select_dtypes('object').head()"
   ]
  },
  {
   "cell_type": "markdown",
   "metadata": {},
   "source": [
    "Po zjednotení formátov dát nám ostali len tieto atribúty s dátovým typom object. Kedže sa jedná o kategorické atribúty tak sme zatial spokojný s týmto dátovým typom."
   ]
  },
  {
   "cell_type": "markdown",
   "metadata": {},
   "source": [
    "# Normalizácia dát"
   ]
  },
  {
   "cell_type": "code",
   "execution_count": 210,
   "metadata": {},
   "outputs": [],
   "source": [
    "numeric_data = data.select_dtypes(include=['float', 'int'])"
   ]
  },
  {
   "cell_type": "code",
   "execution_count": 211,
   "metadata": {},
   "outputs": [
    {
     "name": "stdout",
     "output_type": "stream",
     "text": [
      "0 0.9254994399593743 0.6295501766232616 True\n"
     ]
    },
    {
     "data": {
      "text/plain": [
       "0    True\n",
       "dtype: bool"
      ]
     },
     "execution_count": 211,
     "metadata": {},
     "output_type": "execute_result"
    }
   ],
   "source": [
    "mu, sigma = 0, 0.1 # mean and standard deviation\n",
    "s = np.random.normal(mu, sigma, 1000)\n",
    "#numeric_data.dropna().apply(isNormalDistribution)\n",
    "pd.DataFrame(s).apply(isNormalDistribution)"
   ]
  },
  {
   "cell_type": "code",
   "execution_count": 212,
   "metadata": {},
   "outputs": [
    {
     "data": {
      "text/html": [
       "<div>\n",
       "<style scoped>\n",
       "    .dataframe tbody tr th:only-of-type {\n",
       "        vertical-align: middle;\n",
       "    }\n",
       "\n",
       "    .dataframe tbody tr th {\n",
       "        vertical-align: top;\n",
       "    }\n",
       "\n",
       "    .dataframe thead th {\n",
       "        text-align: right;\n",
       "    }\n",
       "</style>\n",
       "<table border=\"1\" class=\"dataframe\">\n",
       "  <thead>\n",
       "    <tr style=\"text-align: right;\">\n",
       "      <th></th>\n",
       "      <th>TSH</th>\n",
       "      <th>T4U</th>\n",
       "      <th>T3</th>\n",
       "      <th>TT4</th>\n",
       "      <th>FTI</th>\n",
       "    </tr>\n",
       "    <tr>\n",
       "      <th>ID</th>\n",
       "      <th></th>\n",
       "      <th></th>\n",
       "      <th></th>\n",
       "      <th></th>\n",
       "      <th></th>\n",
       "    </tr>\n",
       "  </thead>\n",
       "  <tbody>\n",
       "    <tr>\n",
       "      <th>0</th>\n",
       "      <td>2.90</td>\n",
       "      <td>NaN</td>\n",
       "      <td>1.2</td>\n",
       "      <td>174.0</td>\n",
       "      <td>NaN</td>\n",
       "    </tr>\n",
       "    <tr>\n",
       "      <th>1</th>\n",
       "      <td>0.20</td>\n",
       "      <td>0.97</td>\n",
       "      <td>NaN</td>\n",
       "      <td>105.0</td>\n",
       "      <td>108.0</td>\n",
       "    </tr>\n",
       "    <tr>\n",
       "      <th>2</th>\n",
       "      <td>2.10</td>\n",
       "      <td>NaN</td>\n",
       "      <td>1.7</td>\n",
       "      <td>96.0</td>\n",
       "      <td>NaN</td>\n",
       "    </tr>\n",
       "    <tr>\n",
       "      <th>3</th>\n",
       "      <td>0.02</td>\n",
       "      <td>1.10</td>\n",
       "      <td>3.4</td>\n",
       "      <td>91.0</td>\n",
       "      <td>83.0</td>\n",
       "    </tr>\n",
       "    <tr>\n",
       "      <th>4</th>\n",
       "      <td>0.69</td>\n",
       "      <td>0.99</td>\n",
       "      <td>NaN</td>\n",
       "      <td>162.0</td>\n",
       "      <td>163.0</td>\n",
       "    </tr>\n",
       "  </tbody>\n",
       "</table>\n",
       "</div>"
      ],
      "text/plain": [
       "     TSH   T4U   T3    TT4    FTI\n",
       "ID                               \n",
       "0   2.90   NaN  1.2  174.0    NaN\n",
       "1   0.20  0.97  NaN  105.0  108.0\n",
       "2   2.10   NaN  1.7   96.0    NaN\n",
       "3   0.02  1.10  3.4   91.0   83.0\n",
       "4   0.69  0.99  NaN  162.0  163.0"
      ]
     },
     "execution_count": 212,
     "metadata": {},
     "output_type": "execute_result"
    }
   ],
   "source": [
    "measures = data.loc[:, ['TSH', 'T4U', 'T3', 'TT4', 'FTI']]\n",
    "measures.head()"
   ]
  },
  {
   "cell_type": "code",
   "execution_count": 213,
   "metadata": {},
   "outputs": [
    {
     "data": {
      "text/plain": [
       "<matplotlib.axes._subplots.AxesSubplot at 0x129133390>"
      ]
     },
     "execution_count": 213,
     "metadata": {},
     "output_type": "execute_result"
    },
    {
     "data": {
      "image/png": "[encoded data removed]",
      "text/plain": [
       "<Figure size 648x432 with 1 Axes>"
      ]
     },
     "metadata": {},
     "output_type": "display_data"
    }
   ],
   "source": [
    "color = dict(boxes='DarkGreen', whiskers='DarkOrange', medians='DarkBlue', caps='Gray')\n",
    "measures.plot.box(color=color, sym='r+', positions=[3, 4, 5, 6, 7])"
   ]
  },
  {
   "cell_type": "code",
   "execution_count": 214,
   "metadata": {},
   "outputs": [],
   "source": [
    "# sklearn.preprocessing\n",
    "#measures.fillna(0, inplace=True)\n",
    "measures.dropna(inplace=True)\n",
    "tmp = pd.DataFrame(preprocessing.scale(measures))\n",
    "#tmp = pd.DataFrame()\n",
    "#for column in measures:\n",
    " #   tmp[column] = preprocessing.scale(measures[column], axis=0)"
   ]
  },
  {
   "cell_type": "code",
   "execution_count": 215,
   "metadata": {},
   "outputs": [
    {
     "data": {
      "text/plain": [
       "<matplotlib.axes._subplots.AxesSubplot at 0x12930d668>"
      ]
     },
     "execution_count": 215,
     "metadata": {},
     "output_type": "execute_result"
    },
    {
     "data": {
      "image/png": "[encoded data removed]",
      "text/plain": [
       "<Figure size 648x432 with 1 Axes>"
      ]
     },
     "metadata": {},
     "output_type": "display_data"
    }
   ],
   "source": [
    "color = dict(boxes='DarkGreen', whiskers='DarkOrange', medians='DarkBlue', caps='Gray')\n",
    "pd.DataFrame(tmp).plot.box(color=color, sym='r+')"
   ]
  },
  {
   "cell_type": "code",
   "execution_count": 216,
   "metadata": {},
   "outputs": [
    {
     "data": {
      "text/plain": [
       "<seaborn.axisgrid.PairGrid at 0x12930d7b8>"
      ]
     },
     "execution_count": 216,
     "metadata": {},
     "output_type": "execute_result"
    },
    {
     "data": {
      "image/png": "[encoded data removed]",
      "text/plain": [
       "<Figure size 1059.5x900 with 30 Axes>"
      ]
     },
     "metadata": {},
     "output_type": "display_data"
    }
   ],
   "source": [
    "column1_name = 'CLASS'\n",
    "\n",
    "tmp[column1_name] = data[column1_name]\n",
    "\n",
    "seaborn.pairplot(tmp, dropna=True, hue=column1_name)"
   ]
  },
  {
   "cell_type": "code",
   "execution_count": 217,
   "metadata": {},
   "outputs": [
    {
     "ename": "NameError",
     "evalue": "name 'count_missing' is not defined",
     "output_type": "error",
     "traceback": [
      "\u001b[0;31m---------------------------------------------------------------------------\u001b[0m",
      "\u001b[0;31mNameError\u001b[0m                                 Traceback (most recent call last)",
      "\u001b[0;32m<ipython-input-217-e6e873a3aa9f>\u001b[0m in \u001b[0;36m<module>\u001b[0;34m()\u001b[0m\n\u001b[0;32m----> 1\u001b[0;31m \u001b[0mnumeric_data\u001b[0m\u001b[0;34m.\u001b[0m\u001b[0mapply\u001b[0m\u001b[0;34m(\u001b[0m\u001b[0mcount_missing\u001b[0m\u001b[0;34m)\u001b[0m\u001b[0;34m\u001b[0m\u001b[0m\n\u001b[0m",
      "\u001b[0;31mNameError\u001b[0m: name 'count_missing' is not defined"
     ]
    }
   ],
   "source": [
    "numeric_data.apply(count_missing)"
   ]
  },
  {
   "cell_type": "code",
   "execution_count": null,
   "metadata": {},
   "outputs": [],
   "source": [
    "numeric_data['FTI'].plot.hist()"
   ]
  },
  {
   "cell_type": "code",
   "execution_count": null,
   "metadata": {},
   "outputs": [],
   "source": [
    "# z-normalization: shift = mean, scale = std\n",
    "# 0-1 normalization: shift = min, scale =  max - min\n",
    "# toto iste robi StandardScaler pre vsetky atributy. Pozor ale na power law\n",
    "# ak pouzijete RobustScaler, tak si viete poradit aj s outliermi (pouziva rozsah 1st quartile (25th quantile) and the 3rd quartile (75th quantile))\n",
    "def normalization(data, shift, scale): \n",
    "    return (np.array(data) - float(shift))/scale"
   ]
  },
  {
   "cell_type": "code",
   "execution_count": null,
   "metadata": {},
   "outputs": [],
   "source": [
    "numeric_data.plot.hist(alpha=0.1)"
   ]
  },
  {
   "cell_type": "code",
   "execution_count": 218,
   "metadata": {},
   "outputs": [
    {
     "data": {
      "text/plain": [
       "284"
      ]
     },
     "execution_count": 218,
     "metadata": {},
     "output_type": "execute_result"
    }
   ],
   "source": [
    "data['TSH'].isna().sum()"
   ]
  },
  {
   "cell_type": "code",
   "execution_count": 219,
   "metadata": {},
   "outputs": [
    {
     "data": {
      "text/plain": [
       "Text(0.5,1,'index: %d (without box-cox)')"
      ]
     },
     "execution_count": 219,
     "metadata": {},
     "output_type": "execute_result"
    },
    {
     "data": {
      "image/png": "[encoded data removed]",
      "text/plain": [
       "<Figure size 648x432 with 1 Axes>"
      ]
     },
     "metadata": {},
     "output_type": "display_data"
    }
   ],
   "source": [
    "\n",
    "transformed = data['FTI'].dropna()# boxcox vrati transformovane data a parametre transformacie. Tie viem zafixovat a v tom pripade mi to vrati len transformovane data\n",
    "pom = pd.Series(transformed).hist(bins=50)\n",
    "pom.set_title(\"index: %d (without box-cox)\")"
   ]
  },
  {
   "cell_type": "code",
   "execution_count": 220,
   "metadata": {},
   "outputs": [
    {
     "data": {
      "text/plain": [
       "Text(0.5,1,'index: 20 (box-cox)')"
      ]
     },
     "execution_count": 220,
     "metadata": {},
     "output_type": "execute_result"
    },
    {
     "data": {
      "image/png": "[encoded data removed]",
      "text/plain": [
       "<Figure size 648x432 with 1 Axes>"
      ]
     },
     "metadata": {},
     "output_type": "display_data"
    }
   ],
   "source": [
    "index = 20\n",
    "transformed, att = boxcox(data['TSH'].dropna())# boxcox vrati transformovane data a parametre transformacie. Tie viem zafixovat a v tom pripade mi to vrati len transformovane data\n",
    "pom = pd.Series(transformed).hist(bins=50)\n",
    "pom.set_title(\"index: %d (box-cox)\" % index)"
   ]
  },
  {
   "cell_type": "code",
   "execution_count": 221,
   "metadata": {},
   "outputs": [
    {
     "data": {
      "text/plain": [
       "<matplotlib.axes._subplots.AxesSubplot at 0x12a8b22b0>"
      ]
     },
     "execution_count": 221,
     "metadata": {},
     "output_type": "execute_result"
    },
    {
     "data": {
      "image/png": "[encoded data removed]",
      "text/plain": [
       "<Figure size 648x432 with 1 Axes>"
      ]
     },
     "metadata": {},
     "output_type": "display_data"
    }
   ],
   "source": [
    "pd.Series(transformed).plot(kind='box')"
   ]
  },
  {
   "cell_type": "code",
   "execution_count": 222,
   "metadata": {},
   "outputs": [
    {
     "ename": "NameError",
     "evalue": "name 'normalization' is not defined",
     "output_type": "error",
     "traceback": [
      "\u001b[0;31m---------------------------------------------------------------------------\u001b[0m",
      "\u001b[0;31mNameError\u001b[0m                                 Traceback (most recent call last)",
      "\u001b[0;32m<ipython-input-222-5e7d5a84b9d1>\u001b[0m in \u001b[0;36m<module>\u001b[0;34m()\u001b[0m\n\u001b[0;32m----> 1\u001b[0;31m \u001b[0mz_transformed\u001b[0m \u001b[0;34m=\u001b[0m \u001b[0mnormalization\u001b[0m\u001b[0;34m(\u001b[0m\u001b[0mtransformed\u001b[0m\u001b[0;34m,\u001b[0m \u001b[0mnp\u001b[0m\u001b[0;34m.\u001b[0m\u001b[0mmean\u001b[0m\u001b[0;34m(\u001b[0m\u001b[0mtransformed\u001b[0m\u001b[0;34m)\u001b[0m\u001b[0;34m,\u001b[0m \u001b[0mnp\u001b[0m\u001b[0;34m.\u001b[0m\u001b[0mstd\u001b[0m\u001b[0;34m(\u001b[0m\u001b[0mtransformed\u001b[0m\u001b[0;34m)\u001b[0m\u001b[0;34m)\u001b[0m\u001b[0;34m\u001b[0m\u001b[0m\n\u001b[0m\u001b[1;32m      2\u001b[0m \u001b[0mpom\u001b[0m \u001b[0;34m=\u001b[0m \u001b[0mpd\u001b[0m\u001b[0;34m.\u001b[0m\u001b[0mSeries\u001b[0m\u001b[0;34m(\u001b[0m\u001b[0mz_transformed\u001b[0m\u001b[0;34m)\u001b[0m\u001b[0;34m.\u001b[0m\u001b[0mhist\u001b[0m\u001b[0;34m(\u001b[0m\u001b[0mbins\u001b[0m\u001b[0;34m=\u001b[0m\u001b[0;36m50\u001b[0m\u001b[0;34m)\u001b[0m\u001b[0;34m\u001b[0m\u001b[0m\n\u001b[1;32m      3\u001b[0m \u001b[0mpom\u001b[0m\u001b[0;34m.\u001b[0m\u001b[0mset_title\u001b[0m\u001b[0;34m(\u001b[0m\u001b[0;34m'throughput (Z-normalization)'\u001b[0m\u001b[0;34m)\u001b[0m\u001b[0;34m\u001b[0m\u001b[0m\n",
      "\u001b[0;31mNameError\u001b[0m: name 'normalization' is not defined"
     ]
    }
   ],
   "source": [
    "z_transformed = normalization(transformed, np.mean(transformed), np.std(transformed))\n",
    "pom = pd.Series(z_transformed).hist(bins=50)\n",
    "pom.set_title('throughput (Z-normalization)')"
   ]
  },
  {
   "cell_type": "code",
   "execution_count": 223,
   "metadata": {},
   "outputs": [
    {
     "ename": "NameError",
     "evalue": "name 'z_transformed' is not defined",
     "output_type": "error",
     "traceback": [
      "\u001b[0;31m---------------------------------------------------------------------------\u001b[0m",
      "\u001b[0;31mNameError\u001b[0m                                 Traceback (most recent call last)",
      "\u001b[0;32m<ipython-input-223-41f826f3fb06>\u001b[0m in \u001b[0;36m<module>\u001b[0;34m()\u001b[0m\n\u001b[1;32m      1\u001b[0m \u001b[0;31m# sklearn.preprocessing\u001b[0m\u001b[0;34m\u001b[0m\u001b[0;34m\u001b[0m\u001b[0m\n\u001b[1;32m      2\u001b[0m \u001b[0mpreprocessing\u001b[0m\u001b[0;34m.\u001b[0m\u001b[0mscale\u001b[0m\u001b[0;34m(\u001b[0m\u001b[0mtransformed\u001b[0m\u001b[0;34m)\u001b[0m\u001b[0;34m\u001b[0m\u001b[0m\n\u001b[0;32m----> 3\u001b[0;31m \u001b[0mpom\u001b[0m \u001b[0;34m=\u001b[0m \u001b[0mpd\u001b[0m\u001b[0;34m.\u001b[0m\u001b[0mSeries\u001b[0m\u001b[0;34m(\u001b[0m\u001b[0mz_transformed\u001b[0m\u001b[0;34m)\u001b[0m\u001b[0;34m.\u001b[0m\u001b[0mhist\u001b[0m\u001b[0;34m(\u001b[0m\u001b[0mbins\u001b[0m\u001b[0;34m=\u001b[0m\u001b[0;36m50\u001b[0m\u001b[0;34m)\u001b[0m\u001b[0;34m\u001b[0m\u001b[0m\n\u001b[0m\u001b[1;32m      4\u001b[0m \u001b[0mpom\u001b[0m\u001b[0;34m.\u001b[0m\u001b[0mset_title\u001b[0m\u001b[0;34m(\u001b[0m\u001b[0;34m'throughput (Z-normalization)'\u001b[0m\u001b[0;34m)\u001b[0m\u001b[0;34m\u001b[0m\u001b[0m\n",
      "\u001b[0;31mNameError\u001b[0m: name 'z_transformed' is not defined"
     ]
    }
   ],
   "source": [
    "# sklearn.preprocessing\n",
    "preprocessing.scale(transformed)\n",
    "pom = pd.Series(z_transformed).hist(bins=50)\n",
    "pom.set_title('throughput (Z-normalization)')"
   ]
  },
  {
   "cell_type": "markdown",
   "metadata": {},
   "source": [
    "# Vychýlené hodnoty\n",
    "V tejto časti sa snažíme spracovať vychýlené hodnoty numerických dát."
   ]
  },
  {
   "cell_type": "markdown",
   "metadata": {},
   "source": []
  },
  {
   "cell_type": "markdown",
   "metadata": {},
   "source": [
    "Atribút **age** odstránenie odchýlených hodnôt."
   ]
  },
  {
   "cell_type": "code",
   "execution_count": 224,
   "metadata": {},
   "outputs": [
    {
     "data": {
      "text/plain": [
       "<matplotlib.axes._subplots.AxesSubplot at 0x12a6d0940>"
      ]
     },
     "execution_count": 224,
     "metadata": {},
     "output_type": "execute_result"
    },
    {
     "data": {
      "image/png": "[encoded data removed]",
      "text/plain": [
       "<Figure size 648x432 with 1 Axes>"
      ]
     },
     "metadata": {},
     "output_type": "display_data"
    }
   ],
   "source": [
    "data['AGE'].plot(kind=\"box\")"
   ]
  },
  {
   "cell_type": "code",
   "execution_count": 225,
   "metadata": {},
   "outputs": [
    {
     "data": {
      "text/html": [
       "<div>\n",
       "<style scoped>\n",
       "    .dataframe tbody tr th:only-of-type {\n",
       "        vertical-align: middle;\n",
       "    }\n",
       "\n",
       "    .dataframe tbody tr th {\n",
       "        vertical-align: top;\n",
       "    }\n",
       "\n",
       "    .dataframe thead th {\n",
       "        text-align: right;\n",
       "    }\n",
       "</style>\n",
       "<table border=\"1\" class=\"dataframe\">\n",
       "  <thead>\n",
       "    <tr style=\"text-align: right;\">\n",
       "      <th></th>\n",
       "      <th>AGE</th>\n",
       "      <th>SEX</th>\n",
       "      <th>ON_THYROXINE</th>\n",
       "      <th>QUERY_ON_THYROXINE</th>\n",
       "      <th>ON_ANTITHYROID_MEDICATION</th>\n",
       "      <th>SICK</th>\n",
       "      <th>PREGNANT</th>\n",
       "      <th>THYROID_SURGERY</th>\n",
       "      <th>I131_TREATMENT</th>\n",
       "      <th>QUERY_HYPOTHYROID</th>\n",
       "      <th>...</th>\n",
       "      <th>CAPITAL_GAIN</th>\n",
       "      <th>CAPITAL_LOSS</th>\n",
       "      <th>HOURS_PER_WEEK</th>\n",
       "      <th>DATE_OF_BIRTH</th>\n",
       "      <th>JOB</th>\n",
       "      <th>STATE</th>\n",
       "      <th>MARITAL_STATUS</th>\n",
       "      <th>JOB_SEGMENT</th>\n",
       "      <th>RACE</th>\n",
       "      <th>CLASS</th>\n",
       "    </tr>\n",
       "    <tr>\n",
       "      <th>ID</th>\n",
       "      <th></th>\n",
       "      <th></th>\n",
       "      <th></th>\n",
       "      <th></th>\n",
       "      <th></th>\n",
       "      <th></th>\n",
       "      <th></th>\n",
       "      <th></th>\n",
       "      <th></th>\n",
       "      <th></th>\n",
       "      <th></th>\n",
       "      <th></th>\n",
       "      <th></th>\n",
       "      <th></th>\n",
       "      <th></th>\n",
       "      <th></th>\n",
       "      <th></th>\n",
       "      <th></th>\n",
       "      <th></th>\n",
       "      <th></th>\n",
       "      <th></th>\n",
       "    </tr>\n",
       "  </thead>\n",
       "  <tbody>\n",
       "    <tr>\n",
       "      <th>685</th>\n",
       "      <td>455.0</td>\n",
       "      <td>FEMALE</td>\n",
       "      <td>False</td>\n",
       "      <td>False</td>\n",
       "      <td>False</td>\n",
       "      <td>False</td>\n",
       "      <td>False</td>\n",
       "      <td>False</td>\n",
       "      <td>False</td>\n",
       "      <td>False</td>\n",
       "      <td>...</td>\n",
       "      <td>0.0</td>\n",
       "      <td>0.0</td>\n",
       "      <td>40</td>\n",
       "      <td>NaT</td>\n",
       "      <td>SALES</td>\n",
       "      <td>UNITED_STATES</td>\n",
       "      <td>DIVORCED</td>\n",
       "      <td>PRIVATE</td>\n",
       "      <td>WHITE</td>\n",
       "      <td>NEGATIVE</td>\n",
       "    </tr>\n",
       "  </tbody>\n",
       "</table>\n",
       "<p>1 rows × 41 columns</p>\n",
       "</div>"
      ],
      "text/plain": [
       "       AGE     SEX  ON_THYROXINE  QUERY_ON_THYROXINE  \\\n",
       "ID                                                     \n",
       "685  455.0  FEMALE         False               False   \n",
       "\n",
       "     ON_ANTITHYROID_MEDICATION   SICK  PREGNANT  THYROID_SURGERY  \\\n",
       "ID                                                                 \n",
       "685                      False  False     False            False   \n",
       "\n",
       "     I131_TREATMENT  QUERY_HYPOTHYROID    ...     CAPITAL_GAIN  CAPITAL_LOSS  \\\n",
       "ID                                        ...                                  \n",
       "685           False              False    ...              0.0           0.0   \n",
       "\n",
       "     HOURS_PER_WEEK  DATE_OF_BIRTH    JOB          STATE  MARITAL_STATUS  \\\n",
       "ID                                                                         \n",
       "685              40            NaT  SALES  UNITED_STATES        DIVORCED   \n",
       "\n",
       "     JOB_SEGMENT   RACE     CLASS  \n",
       "ID                                 \n",
       "685      PRIVATE  WHITE  NEGATIVE  \n",
       "\n",
       "[1 rows x 41 columns]"
      ]
     },
     "execution_count": 225,
     "metadata": {},
     "output_type": "execute_result"
    }
   ],
   "source": [
    "column = fixWierdCharsInString('age')\n",
    "data[(data[column] < 1) | (data[column] > 100)]"
   ]
  },
  {
   "cell_type": "markdown",
   "metadata": {},
   "source": [
    "Táto vychýlená hodnota vznikla pravdepodobne nesprávne odmeranými alebo vyplnenými údajmi. Skutočný vek tohto pacienta mohol byť napríklad 45 rokov, ale aj 55 rokov, no nevieme to zistiť tak sa rozhodneme tohto pacienta odstrániť. "
   ]
  },
  {
   "cell_type": "code",
   "execution_count": 226,
   "metadata": {},
   "outputs": [],
   "source": [
    "#data.drop(data[data.AGE > 100].index) - nefunguje (neviem prečo)\n",
    "data = data[data.AGE < 100] # funguje"
   ]
  },
  {
   "cell_type": "code",
   "execution_count": 228,
   "metadata": {},
   "outputs": [
    {
     "data": {
      "text/plain": [
       "<matplotlib.axes._subplots.AxesSubplot at 0x12ac2bd68>"
      ]
     },
     "execution_count": 228,
     "metadata": {},
     "output_type": "execute_result"
    },
    {
     "data": {
      "image/png": "[encoded data removed]",
      "text/plain": [
       "<Figure size 648x432 with 1 Axes>"
      ]
     },
     "metadata": {},
     "output_type": "display_data"
    }
   ],
   "source": [
    "data['AGE'].plot(kind=\"box\")"
   ]
  },
  {
   "cell_type": "markdown",
   "metadata": {},
   "source": [
    "Ako iný spôsob odstránenia tejto vychýlenej hodnoty by sme mohli použiť nahradenie hornej vychýlenej hodnoty 95 percentilom a dolnej vychýlenej hodnoty 5 kvantilom. Takisto by sme mohli použiť aj metódu nahradenia medianom, pretože tento vek sa mohol pohybovať okolo 45, 55 rokov a to je približne median."
   ]
  },
  {
   "cell_type": "code",
   "execution_count": 229,
   "metadata": {},
   "outputs": [
    {
     "data": {
      "text/plain": [
       "0    59.0\n",
       "dtype: float64"
      ]
     },
     "execution_count": 229,
     "metadata": {},
     "output_type": "execute_result"
    }
   ],
   "source": [
    "#data.loc[(data[column] > 100), column] = data[column].quantile(0.95) \n",
    "#data.loc[(data[column] < 1), column] = data[column].quantile(0.05)\n",
    "data['AGE'].mode()"
   ]
  },
  {
   "cell_type": "markdown",
   "metadata": {},
   "source": [
    "# Chýbajúce hodnoty"
   ]
  },
  {
   "cell_type": "markdown",
   "metadata": {},
   "source": [
    "Počty chýbajúcich hodnôt v jednotlivých atribútoch.\n",
    "!!!http://scikit-learn.org/stable/data_transforms.html!!!"
   ]
  },
  {
   "cell_type": "code",
   "execution_count": 230,
   "metadata": {},
   "outputs": [],
   "source": [
    "def count_missing(data):\n",
    "    null_data = pd.isnull(data)\n",
    "    null_count = np.sum(null_data)\n",
    "    return (null_count)"
   ]
  },
  {
   "cell_type": "code",
   "execution_count": 231,
   "metadata": {},
   "outputs": [],
   "source": [
    "def prop_missing(data):\n",
    "    num = count_missing(data)\n",
    "    dem = data.size\n",
    "    return num/dem"
   ]
  },
  {
   "cell_type": "code",
   "execution_count": 232,
   "metadata": {},
   "outputs": [],
   "source": [
    "def prop_complete(data):\n",
    "    return 1 - prop_missing(data)"
   ]
  },
  {
   "cell_type": "code",
   "execution_count": 234,
   "metadata": {
    "scrolled": true
   },
   "outputs": [
    {
     "data": {
      "text/plain": [
       "AGE                            0\n",
       "SEX                          110\n",
       "ON_THYROXINE                   0\n",
       "QUERY_ON_THYROXINE             0\n",
       "ON_ANTITHYROID_MEDICATION      0\n",
       "SICK                           0\n",
       "PREGNANT                       0\n",
       "THYROID_SURGERY                0\n",
       "I131_TREATMENT                 0\n",
       "QUERY_HYPOTHYROID              0\n",
       "QUERY_HYPERTHYROID             0\n",
       "LITHIUM                        0\n",
       "GOITRE                         0\n",
       "TUMOR                          0\n",
       "HYPOPITUITARY                  0\n",
       "PSYCH                          0\n",
       "TSH_MEASURED                   0\n",
       "TSH                          284\n",
       "T3_MEASURED                    0\n",
       "T3                           585\n",
       "TT4_MEASURED                   0\n",
       "TT4                          184\n",
       "T4U_MEASURED                   0\n",
       "T4U                          297\n",
       "FTI_MEASURED                   0\n",
       "FTI                          295\n",
       "REFERRAL_SOURCE                0\n",
       "FNLWGT                         0\n",
       "EDUCATION                      0\n",
       "EDUCATION_NUM                  0\n",
       "RELATIONSHIP                   0\n",
       "CAPITAL_GAIN                 280\n",
       "CAPITAL_LOSS                   0\n",
       "HOURS_PER_WEEK                 0\n",
       "DATE_OF_BIRTH                279\n",
       "JOB                          201\n",
       "STATE                         43\n",
       "MARITAL_STATUS                 0\n",
       "JOB_SEGMENT                  199\n",
       "RACE                           0\n",
       "CLASS                          0\n",
       "dtype: int64"
      ]
     },
     "execution_count": 234,
     "metadata": {},
     "output_type": "execute_result"
    }
   ],
   "source": [
    "data.apply(count_missing)"
   ]
  },
  {
   "cell_type": "code",
   "execution_count": 235,
   "metadata": {},
   "outputs": [
    {
     "data": {
      "text/plain": [
       "0    1446\n",
       "1     683\n",
       "2     355\n",
       "5     117\n",
       "3     105\n",
       "4      52\n",
       "6      28\n",
       "7       8\n",
       "8       4\n",
       "dtype: int64"
      ]
     },
     "execution_count": 235,
     "metadata": {},
     "output_type": "execute_result"
    }
   ],
   "source": [
    "#Vypiseme si kolko missign values maju riadky. Takze napriklad 0 missing values ma 1634 pacinetov\n",
    "data.apply(count_missing, axis=1).value_counts()"
   ]
  },
  {
   "cell_type": "code",
   "execution_count": 236,
   "metadata": {},
   "outputs": [
    {
     "data": {
      "text/plain": [
       "(2798, 41)"
      ]
     },
     "execution_count": 236,
     "metadata": {},
     "output_type": "execute_result"
    }
   ],
   "source": [
    "data.dropna(how=\"all\").shape # môžeme vidieť, že žiadny riadok nie je taký, že má všetky hodnoty chýbajúce."
   ]
  },
  {
   "cell_type": "markdown",
   "metadata": {},
   "source": [
    "## Odvodenie chýbajúcich hodnôt po riadkoch"
   ]
  },
  {
   "cell_type": "markdown",
   "metadata": {},
   "source": [
    "Pre atribút **sex** vieme chýbajúcu hodnotu zistiť napríklad z atribútu **pregnant** alebo z atribútu **relationship**"
   ]
  },
  {
   "cell_type": "code",
   "execution_count": 237,
   "metadata": {},
   "outputs": [
    {
     "data": {
      "text/plain": [
       "110"
      ]
     },
     "execution_count": 237,
     "metadata": {},
     "output_type": "execute_result"
    }
   ],
   "source": [
    "data['SEX'].isna().sum()"
   ]
  },
  {
   "cell_type": "code",
   "execution_count": 238,
   "metadata": {},
   "outputs": [],
   "source": [
    "# Vyfiltrujeme si pacientov s nešpecifikovaným pohlavím, ktorí sú tehotní.\n",
    "column = fixWierdCharsInString('sex')\n",
    "help_column = fixWierdCharsInString('pregnant')\n",
    "data.loc[(data[column].isna()) & (data[help_column]), column] = 'FEMALE'\n",
    "#data[(data[column].isna()) & (data[help_column])] = 'F'"
   ]
  },
  {
   "cell_type": "code",
   "execution_count": 239,
   "metadata": {},
   "outputs": [
    {
     "data": {
      "text/plain": [
       "109"
      ]
     },
     "execution_count": 239,
     "metadata": {},
     "output_type": "execute_result"
    }
   ],
   "source": [
    "data['SEX'].isna().sum()"
   ]
  },
  {
   "cell_type": "code",
   "execution_count": 240,
   "metadata": {},
   "outputs": [],
   "source": [
    "help_column = fixWierdCharsInString('relationship')\n",
    "# Neexistuje v datasete muž/žena, ktorý/ktorá je vydatý/oženená.\n",
    "data.loc[data[data[column].isna() & (data[help_column] == fixWierdCharsInString('Wife'))].index, column] = 'FEMALE'\n",
    "data.loc[data[data[column].isna() & (data[help_column] == fixWierdCharsInString('Husband'))].index, column] = 'MALE'\n",
    "#data[data[column].isna() & (data[help_column] == fixWierdCharsInString('Wife'))]\n",
    "#data[data[column].isna() & (data[help_column] == fixWierdCharsInString('Husband'))]"
   ]
  },
  {
   "cell_type": "code",
   "execution_count": 241,
   "metadata": {},
   "outputs": [
    {
     "data": {
      "text/plain": [
       "61"
      ]
     },
     "execution_count": 241,
     "metadata": {},
     "output_type": "execute_result"
    }
   ],
   "source": [
    "data['SEX'].isna().sum()"
   ]
  },
  {
   "cell_type": "code",
   "execution_count": 242,
   "metadata": {},
   "outputs": [
    {
     "ename": "NameError",
     "evalue": "name 'caluclateAgeOfDate' is not defined",
     "output_type": "error",
     "traceback": [
      "\u001b[0;31m---------------------------------------------------------------------------\u001b[0m",
      "\u001b[0;31mNameError\u001b[0m                                 Traceback (most recent call last)",
      "\u001b[0;32m<ipython-input-242-79e0ab94f85f>\u001b[0m in \u001b[0;36m<module>\u001b[0;34m()\u001b[0m\n\u001b[0;32m----> 1\u001b[0;31m \u001b[0mcaluclateAgeOfDate\u001b[0m\u001b[0;34m(\u001b[0m\u001b[0mdata\u001b[0m\u001b[0;34m,\u001b[0m\u001b[0;34m'2016-1-1'\u001b[0m\u001b[0;34m)\u001b[0m\u001b[0;34m\u001b[0m\u001b[0m\n\u001b[0m",
      "\u001b[0;31mNameError\u001b[0m: name 'caluclateAgeOfDate' is not defined"
     ]
    }
   ],
   "source": [
    "caluclateAgeOfDate(data,'2016-1-1')"
   ]
  },
  {
   "cell_type": "markdown",
   "metadata": {},
   "source": [
    "## Doplnenie chýbajúcich hodnôt po stĺpcoch"
   ]
  },
  {
   "cell_type": "markdown",
   "metadata": {},
   "source": [
    "### Vytvorenie inputerov"
   ]
  },
  {
   "cell_type": "code",
   "execution_count": 243,
   "metadata": {},
   "outputs": [],
   "source": [
    "imp_most_frequent = preprocessing.Imputer(missing_values='NaN', strategy='most_frequent', axis=0)\n",
    "imp_mean = preprocessing.Imputer(missing_values='NaN', strategy='mean', axis=0)\n",
    "imp_median = preprocessing.Imputer(missing_values='NaN', strategy='median', axis=0)"
   ]
  },
  {
   "cell_type": "code",
   "execution_count": 244,
   "metadata": {
    "scrolled": true
   },
   "outputs": [
    {
     "name": "stdout",
     "output_type": "stream",
     "text": [
      "SEX : 2\n",
      "REFERRAL_SOURCE : 5\n",
      "EDUCATION : 16\n",
      "RELATIONSHIP : 6\n",
      "JOB : 13\n",
      "STATE : 35\n",
      "MARITAL_STATUS : 7\n",
      "JOB_SEGMENT : 8\n",
      "RACE : 5\n",
      "CLASS : 4\n"
     ]
    }
   ],
   "source": [
    "checkAllObjectType(data)"
   ]
  },
  {
   "cell_type": "markdown",
   "metadata": {},
   "source": [
    "Atribút **capital_gain** - chýbajúce hodnoty doplníme modusom, t.j. najčastejšie sa vyskytujúcou hodnotou."
   ]
  },
  {
   "cell_type": "code",
   "execution_count": 247,
   "metadata": {},
   "outputs": [],
   "source": [
    "column = fixWierdCharsInString('capital_gain')\n",
    "mode = data[column].mode()\n",
    "data[column] = pd.DataFrame(imp_median.fit_transform(data.loc[:, [column]]))"
   ]
  },
  {
   "cell_type": "code",
   "execution_count": 248,
   "metadata": {},
   "outputs": [
    {
     "data": {
      "text/plain": [
       "2"
      ]
     },
     "execution_count": 248,
     "metadata": {},
     "output_type": "execute_result"
    }
   ],
   "source": [
    "data[column].isnull().sum()"
   ]
  },
  {
   "cell_type": "markdown",
   "metadata": {},
   "source": [
    "Polia, kde bola hodnota **'?'** sme prepísali na hodnotu **'Other_service'** z toho dôvodu, že tento atribút nevieme doplniť na základe žiadnej inej stratégie a preto sme priradili najvšeobecnejšiu hodnotu. "
   ]
  },
  {
   "cell_type": "code",
   "execution_count": 249,
   "metadata": {},
   "outputs": [
    {
     "data": {
      "text/plain": [
       "201"
      ]
     },
     "execution_count": 249,
     "metadata": {},
     "output_type": "execute_result"
    }
   ],
   "source": [
    "column = fixWierdCharsInString('job')\n",
    "data[column].isnull().sum()"
   ]
  },
  {
   "cell_type": "code",
   "execution_count": 250,
   "metadata": {},
   "outputs": [
    {
     "data": {
      "text/plain": [
       "0"
      ]
     },
     "execution_count": 250,
     "metadata": {},
     "output_type": "execute_result"
    }
   ],
   "source": [
    "general_value = fixWierdCharsInString('Other_service')\n",
    "data[column].fillna(general_value, inplace=True)\n",
    "data[column].isnull().sum()"
   ]
  },
  {
   "cell_type": "markdown",
   "metadata": {},
   "source": [
    "Atribút **state** nahradíme modusom, pretože hodnota **'United_States'** sa nachádza u väčšiny pacientov a nevieme túto hodnotu doplniť pomocou iných atribútov. "
   ]
  },
  {
   "cell_type": "code",
   "execution_count": 251,
   "metadata": {},
   "outputs": [
    {
     "data": {
      "text/plain": [
       "43"
      ]
     },
     "execution_count": 251,
     "metadata": {},
     "output_type": "execute_result"
    }
   ],
   "source": [
    "column = fixWierdCharsInString('state')\n",
    "data[column].isnull().sum()"
   ]
  },
  {
   "cell_type": "code",
   "execution_count": 252,
   "metadata": {},
   "outputs": [],
   "source": [
    "mode = data[column].mode()\n",
    "data[column].fillna(mode[0], inplace=True)"
   ]
  },
  {
   "cell_type": "code",
   "execution_count": 253,
   "metadata": {},
   "outputs": [
    {
     "data": {
      "text/plain": [
       "0"
      ]
     },
     "execution_count": 253,
     "metadata": {},
     "output_type": "execute_result"
    }
   ],
   "source": [
    "data[column].isnull().sum()"
   ]
  },
  {
   "cell_type": "code",
   "execution_count": 254,
   "metadata": {},
   "outputs": [
    {
     "name": "stdout",
     "output_type": "stream",
     "text": [
      "SEX : 2\n",
      "REFERRAL_SOURCE : 5\n",
      "EDUCATION : 16\n",
      "RELATIONSHIP : 6\n",
      "JOB : 13\n",
      "STATE : 35\n",
      "MARITAL_STATUS : 7\n",
      "JOB_SEGMENT : 8\n",
      "RACE : 5\n",
      "CLASS : 4\n"
     ]
    }
   ],
   "source": [
    "checkAllObjectType(data)"
   ]
  },
  {
   "cell_type": "markdown",
   "metadata": {},
   "source": [
    "## TSH, T3, TT4, T4U, FTI"
   ]
  },
  {
   "cell_type": "markdown",
   "metadata": {},
   "source": [
    "V týchto atribúte budeme doĺňať chýbajúce hodnoty pomocou stratégie modus (most_frequent) a lineárnej regresie. Tieto dve stratégie potom porovnáme. "
   ]
  },
  {
   "cell_type": "code",
   "execution_count": 255,
   "metadata": {},
   "outputs": [],
   "source": [
    "col_names = ['TSH', 'T4U', 'T3', 'TT4', 'FTI']\n",
    "\n",
    "for col in col_names:\n",
    "     data[col] = pd.DataFrame(imp_most_frequent.fit_transform(data.loc[:, [col]]))"
   ]
  },
  {
   "cell_type": "markdown",
   "metadata": {},
   "source": [
    "### Metóda k najbližších susedov"
   ]
  },
  {
   "cell_type": "code",
   "execution_count": 256,
   "metadata": {},
   "outputs": [
    {
     "data": {
      "text/plain": [
       "2"
      ]
     },
     "execution_count": 256,
     "metadata": {},
     "output_type": "execute_result"
    }
   ],
   "source": [
    "from fancyimpute import KNN   \n",
    "data['TSH'].isnull().sum()"
   ]
  },
  {
   "cell_type": "code",
   "execution_count": 257,
   "metadata": {},
   "outputs": [
    {
     "name": "stdout",
     "output_type": "stream",
     "text": [
      "Imputing row 1/2798 with 0 missing, elapsed time: 1.241\n",
      "Imputing row 101/2798 with 0 missing, elapsed time: 1.242\n",
      "Imputing row 201/2798 with 0 missing, elapsed time: 1.242\n",
      "Imputing row 301/2798 with 0 missing, elapsed time: 1.242\n",
      "Imputing row 401/2798 with 0 missing, elapsed time: 1.242\n",
      "Imputing row 501/2798 with 0 missing, elapsed time: 1.243\n",
      "Imputing row 601/2798 with 0 missing, elapsed time: 1.243\n",
      "Imputing row 701/2798 with 0 missing, elapsed time: 1.243\n",
      "Imputing row 801/2798 with 0 missing, elapsed time: 1.243\n",
      "Imputing row 901/2798 with 0 missing, elapsed time: 1.244\n",
      "Imputing row 1001/2798 with 0 missing, elapsed time: 1.244\n",
      "Imputing row 1101/2798 with 0 missing, elapsed time: 1.244\n",
      "Imputing row 1201/2798 with 0 missing, elapsed time: 1.244\n",
      "Imputing row 1301/2798 with 0 missing, elapsed time: 1.245\n",
      "Imputing row 1401/2798 with 0 missing, elapsed time: 1.245\n",
      "Imputing row 1501/2798 with 0 missing, elapsed time: 1.246\n",
      "Imputing row 1601/2798 with 0 missing, elapsed time: 1.246\n",
      "Imputing row 1701/2798 with 0 missing, elapsed time: 1.246\n",
      "Imputing row 1801/2798 with 0 missing, elapsed time: 1.246\n",
      "Imputing row 1901/2798 with 0 missing, elapsed time: 1.247\n",
      "Imputing row 2001/2798 with 0 missing, elapsed time: 1.247\n",
      "Imputing row 2101/2798 with 0 missing, elapsed time: 1.247\n",
      "Imputing row 2201/2798 with 0 missing, elapsed time: 1.247\n",
      "Imputing row 2301/2798 with 0 missing, elapsed time: 1.248\n",
      "Imputing row 2401/2798 with 0 missing, elapsed time: 1.248\n",
      "Imputing row 2501/2798 with 0 missing, elapsed time: 1.248\n",
      "Imputing row 2601/2798 with 0 missing, elapsed time: 1.248\n",
      "Imputing row 2701/2798 with 0 missing, elapsed time: 1.249\n",
      "[KNN] Warning: 10/13990 still missing after imputation, replacing with 0\n"
     ]
    },
    {
     "data": {
      "text/html": [
       "<div>\n",
       "<style scoped>\n",
       "    .dataframe tbody tr th:only-of-type {\n",
       "        vertical-align: middle;\n",
       "    }\n",
       "\n",
       "    .dataframe tbody tr th {\n",
       "        vertical-align: top;\n",
       "    }\n",
       "\n",
       "    .dataframe thead th {\n",
       "        text-align: right;\n",
       "    }\n",
       "</style>\n",
       "<table border=\"1\" class=\"dataframe\">\n",
       "  <thead>\n",
       "    <tr style=\"text-align: right;\">\n",
       "      <th></th>\n",
       "      <th>TSH</th>\n",
       "      <th>T4U</th>\n",
       "      <th>T3</th>\n",
       "      <th>TT4</th>\n",
       "      <th>FTI</th>\n",
       "    </tr>\n",
       "  </thead>\n",
       "  <tbody>\n",
       "    <tr>\n",
       "      <th>0</th>\n",
       "      <td>2.90</td>\n",
       "      <td>0.99</td>\n",
       "      <td>1.2</td>\n",
       "      <td>174.0</td>\n",
       "      <td>100.0</td>\n",
       "    </tr>\n",
       "    <tr>\n",
       "      <th>1</th>\n",
       "      <td>0.20</td>\n",
       "      <td>0.97</td>\n",
       "      <td>2.0</td>\n",
       "      <td>105.0</td>\n",
       "      <td>108.0</td>\n",
       "    </tr>\n",
       "    <tr>\n",
       "      <th>2</th>\n",
       "      <td>2.10</td>\n",
       "      <td>0.99</td>\n",
       "      <td>1.7</td>\n",
       "      <td>96.0</td>\n",
       "      <td>100.0</td>\n",
       "    </tr>\n",
       "    <tr>\n",
       "      <th>3</th>\n",
       "      <td>0.02</td>\n",
       "      <td>1.10</td>\n",
       "      <td>3.4</td>\n",
       "      <td>91.0</td>\n",
       "      <td>83.0</td>\n",
       "    </tr>\n",
       "    <tr>\n",
       "      <th>4</th>\n",
       "      <td>0.69</td>\n",
       "      <td>0.99</td>\n",
       "      <td>2.0</td>\n",
       "      <td>162.0</td>\n",
       "      <td>163.0</td>\n",
       "    </tr>\n",
       "    <tr>\n",
       "      <th>5</th>\n",
       "      <td>3.00</td>\n",
       "      <td>1.13</td>\n",
       "      <td>1.1</td>\n",
       "      <td>122.0</td>\n",
       "      <td>108.0</td>\n",
       "    </tr>\n",
       "    <tr>\n",
       "      <th>6</th>\n",
       "      <td>1.10</td>\n",
       "      <td>0.95</td>\n",
       "      <td>2.2</td>\n",
       "      <td>115.0</td>\n",
       "      <td>121.0</td>\n",
       "    </tr>\n",
       "    <tr>\n",
       "      <th>7</th>\n",
       "      <td>26.00</td>\n",
       "      <td>0.80</td>\n",
       "      <td>0.3</td>\n",
       "      <td>6.0</td>\n",
       "      <td>7.6</td>\n",
       "    </tr>\n",
       "    <tr>\n",
       "      <th>8</th>\n",
       "      <td>0.25</td>\n",
       "      <td>0.95</td>\n",
       "      <td>1.9</td>\n",
       "      <td>165.0</td>\n",
       "      <td>174.0</td>\n",
       "    </tr>\n",
       "    <tr>\n",
       "      <th>9</th>\n",
       "      <td>0.05</td>\n",
       "      <td>0.66</td>\n",
       "      <td>1.1</td>\n",
       "      <td>108.0</td>\n",
       "      <td>165.0</td>\n",
       "    </tr>\n",
       "    <tr>\n",
       "      <th>10</th>\n",
       "      <td>1.20</td>\n",
       "      <td>1.08</td>\n",
       "      <td>1.9</td>\n",
       "      <td>83.0</td>\n",
       "      <td>77.0</td>\n",
       "    </tr>\n",
       "    <tr>\n",
       "      <th>11</th>\n",
       "      <td>1.40</td>\n",
       "      <td>1.13</td>\n",
       "      <td>1.6</td>\n",
       "      <td>121.0</td>\n",
       "      <td>107.0</td>\n",
       "    </tr>\n",
       "    <tr>\n",
       "      <th>12</th>\n",
       "      <td>0.15</td>\n",
       "      <td>1.76</td>\n",
       "      <td>3.6</td>\n",
       "      <td>144.0</td>\n",
       "      <td>82.0</td>\n",
       "    </tr>\n",
       "    <tr>\n",
       "      <th>13</th>\n",
       "      <td>0.02</td>\n",
       "      <td>0.82</td>\n",
       "      <td>1.2</td>\n",
       "      <td>72.0</td>\n",
       "      <td>88.0</td>\n",
       "    </tr>\n",
       "    <tr>\n",
       "      <th>14</th>\n",
       "      <td>0.60</td>\n",
       "      <td>1.03</td>\n",
       "      <td>1.8</td>\n",
       "      <td>99.0</td>\n",
       "      <td>96.0</td>\n",
       "    </tr>\n",
       "    <tr>\n",
       "      <th>15</th>\n",
       "      <td>3.40</td>\n",
       "      <td>1.15</td>\n",
       "      <td>1.6</td>\n",
       "      <td>107.0</td>\n",
       "      <td>93.0</td>\n",
       "    </tr>\n",
       "    <tr>\n",
       "      <th>16</th>\n",
       "      <td>0.40</td>\n",
       "      <td>1.12</td>\n",
       "      <td>2.4</td>\n",
       "      <td>102.0</td>\n",
       "      <td>92.0</td>\n",
       "    </tr>\n",
       "    <tr>\n",
       "      <th>17</th>\n",
       "      <td>2.30</td>\n",
       "      <td>0.86</td>\n",
       "      <td>2.0</td>\n",
       "      <td>80.0</td>\n",
       "      <td>93.0</td>\n",
       "    </tr>\n",
       "    <tr>\n",
       "      <th>18</th>\n",
       "      <td>0.40</td>\n",
       "      <td>1.12</td>\n",
       "      <td>2.0</td>\n",
       "      <td>175.0</td>\n",
       "      <td>156.0</td>\n",
       "    </tr>\n",
       "    <tr>\n",
       "      <th>19</th>\n",
       "      <td>1.30</td>\n",
       "      <td>0.77</td>\n",
       "      <td>1.9</td>\n",
       "      <td>62.0</td>\n",
       "      <td>81.0</td>\n",
       "    </tr>\n",
       "    <tr>\n",
       "      <th>20</th>\n",
       "      <td>0.37</td>\n",
       "      <td>0.77</td>\n",
       "      <td>1.7</td>\n",
       "      <td>140.0</td>\n",
       "      <td>182.0</td>\n",
       "    </tr>\n",
       "    <tr>\n",
       "      <th>21</th>\n",
       "      <td>1.60</td>\n",
       "      <td>1.06</td>\n",
       "      <td>1.7</td>\n",
       "      <td>153.0</td>\n",
       "      <td>144.0</td>\n",
       "    </tr>\n",
       "    <tr>\n",
       "      <th>22</th>\n",
       "      <td>5.00</td>\n",
       "      <td>1.02</td>\n",
       "      <td>2.2</td>\n",
       "      <td>115.0</td>\n",
       "      <td>114.0</td>\n",
       "    </tr>\n",
       "    <tr>\n",
       "      <th>23</th>\n",
       "      <td>0.20</td>\n",
       "      <td>0.64</td>\n",
       "      <td>1.1</td>\n",
       "      <td>69.0</td>\n",
       "      <td>107.0</td>\n",
       "    </tr>\n",
       "    <tr>\n",
       "      <th>24</th>\n",
       "      <td>1.20</td>\n",
       "      <td>0.99</td>\n",
       "      <td>2.3</td>\n",
       "      <td>104.0</td>\n",
       "      <td>100.0</td>\n",
       "    </tr>\n",
       "    <tr>\n",
       "      <th>25</th>\n",
       "      <td>3.10</td>\n",
       "      <td>1.16</td>\n",
       "      <td>2.0</td>\n",
       "      <td>118.0</td>\n",
       "      <td>102.0</td>\n",
       "    </tr>\n",
       "    <tr>\n",
       "      <th>26</th>\n",
       "      <td>2.70</td>\n",
       "      <td>1.43</td>\n",
       "      <td>2.0</td>\n",
       "      <td>125.0</td>\n",
       "      <td>87.0</td>\n",
       "    </tr>\n",
       "    <tr>\n",
       "      <th>27</th>\n",
       "      <td>0.20</td>\n",
       "      <td>1.51</td>\n",
       "      <td>2.8</td>\n",
       "      <td>160.0</td>\n",
       "      <td>106.0</td>\n",
       "    </tr>\n",
       "    <tr>\n",
       "      <th>28</th>\n",
       "      <td>32.00</td>\n",
       "      <td>1.18</td>\n",
       "      <td>1.4</td>\n",
       "      <td>85.0</td>\n",
       "      <td>71.0</td>\n",
       "    </tr>\n",
       "    <tr>\n",
       "      <th>29</th>\n",
       "      <td>0.20</td>\n",
       "      <td>0.31</td>\n",
       "      <td>0.1</td>\n",
       "      <td>50.0</td>\n",
       "      <td>161.0</td>\n",
       "    </tr>\n",
       "    <tr>\n",
       "      <th>...</th>\n",
       "      <td>...</td>\n",
       "      <td>...</td>\n",
       "      <td>...</td>\n",
       "      <td>...</td>\n",
       "      <td>...</td>\n",
       "    </tr>\n",
       "    <tr>\n",
       "      <th>2768</th>\n",
       "      <td>0.30</td>\n",
       "      <td>0.99</td>\n",
       "      <td>3.1</td>\n",
       "      <td>129.0</td>\n",
       "      <td>100.0</td>\n",
       "    </tr>\n",
       "    <tr>\n",
       "      <th>2769</th>\n",
       "      <td>2.90</td>\n",
       "      <td>1.48</td>\n",
       "      <td>2.2</td>\n",
       "      <td>146.0</td>\n",
       "      <td>98.0</td>\n",
       "    </tr>\n",
       "    <tr>\n",
       "      <th>2770</th>\n",
       "      <td>0.15</td>\n",
       "      <td>1.00</td>\n",
       "      <td>5.1</td>\n",
       "      <td>167.0</td>\n",
       "      <td>168.0</td>\n",
       "    </tr>\n",
       "    <tr>\n",
       "      <th>2771</th>\n",
       "      <td>1.30</td>\n",
       "      <td>0.96</td>\n",
       "      <td>1.9</td>\n",
       "      <td>66.0</td>\n",
       "      <td>68.0</td>\n",
       "    </tr>\n",
       "    <tr>\n",
       "      <th>2772</th>\n",
       "      <td>2.10</td>\n",
       "      <td>1.00</td>\n",
       "      <td>1.7</td>\n",
       "      <td>131.0</td>\n",
       "      <td>130.0</td>\n",
       "    </tr>\n",
       "    <tr>\n",
       "      <th>2773</th>\n",
       "      <td>2.30</td>\n",
       "      <td>0.83</td>\n",
       "      <td>1.6</td>\n",
       "      <td>105.0</td>\n",
       "      <td>127.0</td>\n",
       "    </tr>\n",
       "    <tr>\n",
       "      <th>2774</th>\n",
       "      <td>5.60</td>\n",
       "      <td>1.01</td>\n",
       "      <td>2.1</td>\n",
       "      <td>94.0</td>\n",
       "      <td>93.0</td>\n",
       "    </tr>\n",
       "    <tr>\n",
       "      <th>2775</th>\n",
       "      <td>0.68</td>\n",
       "      <td>0.93</td>\n",
       "      <td>2.0</td>\n",
       "      <td>54.0</td>\n",
       "      <td>58.0</td>\n",
       "    </tr>\n",
       "    <tr>\n",
       "      <th>2776</th>\n",
       "      <td>1.10</td>\n",
       "      <td>1.17</td>\n",
       "      <td>2.0</td>\n",
       "      <td>141.0</td>\n",
       "      <td>120.0</td>\n",
       "    </tr>\n",
       "    <tr>\n",
       "      <th>2777</th>\n",
       "      <td>0.62</td>\n",
       "      <td>1.88</td>\n",
       "      <td>3.8</td>\n",
       "      <td>211.0</td>\n",
       "      <td>112.0</td>\n",
       "    </tr>\n",
       "    <tr>\n",
       "      <th>2778</th>\n",
       "      <td>0.35</td>\n",
       "      <td>0.38</td>\n",
       "      <td>0.3</td>\n",
       "      <td>44.0</td>\n",
       "      <td>118.0</td>\n",
       "    </tr>\n",
       "    <tr>\n",
       "      <th>2779</th>\n",
       "      <td>6.10</td>\n",
       "      <td>0.91</td>\n",
       "      <td>2.3</td>\n",
       "      <td>88.0</td>\n",
       "      <td>97.0</td>\n",
       "    </tr>\n",
       "    <tr>\n",
       "      <th>2780</th>\n",
       "      <td>0.02</td>\n",
       "      <td>0.99</td>\n",
       "      <td>1.4</td>\n",
       "      <td>144.0</td>\n",
       "      <td>100.0</td>\n",
       "    </tr>\n",
       "    <tr>\n",
       "      <th>2781</th>\n",
       "      <td>0.15</td>\n",
       "      <td>0.93</td>\n",
       "      <td>3.0</td>\n",
       "      <td>161.0</td>\n",
       "      <td>174.0</td>\n",
       "    </tr>\n",
       "    <tr>\n",
       "      <th>2782</th>\n",
       "      <td>1.60</td>\n",
       "      <td>1.02</td>\n",
       "      <td>2.5</td>\n",
       "      <td>103.0</td>\n",
       "      <td>101.0</td>\n",
       "    </tr>\n",
       "    <tr>\n",
       "      <th>2783</th>\n",
       "      <td>3.50</td>\n",
       "      <td>1.06</td>\n",
       "      <td>1.6</td>\n",
       "      <td>143.0</td>\n",
       "      <td>134.0</td>\n",
       "    </tr>\n",
       "    <tr>\n",
       "      <th>2784</th>\n",
       "      <td>5.40</td>\n",
       "      <td>0.99</td>\n",
       "      <td>2.6</td>\n",
       "      <td>125.0</td>\n",
       "      <td>100.0</td>\n",
       "    </tr>\n",
       "    <tr>\n",
       "      <th>2785</th>\n",
       "      <td>2.00</td>\n",
       "      <td>0.92</td>\n",
       "      <td>2.5</td>\n",
       "      <td>102.0</td>\n",
       "      <td>111.0</td>\n",
       "    </tr>\n",
       "    <tr>\n",
       "      <th>2786</th>\n",
       "      <td>2.30</td>\n",
       "      <td>0.93</td>\n",
       "      <td>2.0</td>\n",
       "      <td>125.0</td>\n",
       "      <td>135.0</td>\n",
       "    </tr>\n",
       "    <tr>\n",
       "      <th>2787</th>\n",
       "      <td>0.70</td>\n",
       "      <td>1.48</td>\n",
       "      <td>5.4</td>\n",
       "      <td>148.0</td>\n",
       "      <td>100.0</td>\n",
       "    </tr>\n",
       "    <tr>\n",
       "      <th>2788</th>\n",
       "      <td>2.30</td>\n",
       "      <td>0.99</td>\n",
       "      <td>2.6</td>\n",
       "      <td>90.0</td>\n",
       "      <td>91.0</td>\n",
       "    </tr>\n",
       "    <tr>\n",
       "      <th>2789</th>\n",
       "      <td>2.00</td>\n",
       "      <td>0.68</td>\n",
       "      <td>0.4</td>\n",
       "      <td>58.0</td>\n",
       "      <td>85.0</td>\n",
       "    </tr>\n",
       "    <tr>\n",
       "      <th>2790</th>\n",
       "      <td>0.20</td>\n",
       "      <td>0.88</td>\n",
       "      <td>2.1</td>\n",
       "      <td>82.0</td>\n",
       "      <td>93.0</td>\n",
       "    </tr>\n",
       "    <tr>\n",
       "      <th>2791</th>\n",
       "      <td>0.08</td>\n",
       "      <td>1.07</td>\n",
       "      <td>1.7</td>\n",
       "      <td>74.0</td>\n",
       "      <td>69.0</td>\n",
       "    </tr>\n",
       "    <tr>\n",
       "      <th>2792</th>\n",
       "      <td>0.20</td>\n",
       "      <td>1.01</td>\n",
       "      <td>2.9</td>\n",
       "      <td>107.0</td>\n",
       "      <td>106.0</td>\n",
       "    </tr>\n",
       "    <tr>\n",
       "      <th>2793</th>\n",
       "      <td>0.60</td>\n",
       "      <td>1.65</td>\n",
       "      <td>4.5</td>\n",
       "      <td>161.0</td>\n",
       "      <td>97.0</td>\n",
       "    </tr>\n",
       "    <tr>\n",
       "      <th>2794</th>\n",
       "      <td>2.70</td>\n",
       "      <td>0.99</td>\n",
       "      <td>1.9</td>\n",
       "      <td>111.0</td>\n",
       "      <td>112.0</td>\n",
       "    </tr>\n",
       "    <tr>\n",
       "      <th>2795</th>\n",
       "      <td>2.40</td>\n",
       "      <td>0.92</td>\n",
       "      <td>1.3</td>\n",
       "      <td>92.0</td>\n",
       "      <td>100.0</td>\n",
       "    </tr>\n",
       "    <tr>\n",
       "      <th>2796</th>\n",
       "      <td>0.00</td>\n",
       "      <td>0.00</td>\n",
       "      <td>0.0</td>\n",
       "      <td>0.0</td>\n",
       "      <td>0.0</td>\n",
       "    </tr>\n",
       "    <tr>\n",
       "      <th>2797</th>\n",
       "      <td>0.00</td>\n",
       "      <td>0.00</td>\n",
       "      <td>0.0</td>\n",
       "      <td>0.0</td>\n",
       "      <td>0.0</td>\n",
       "    </tr>\n",
       "  </tbody>\n",
       "</table>\n",
       "<p>2798 rows × 5 columns</p>\n",
       "</div>"
      ],
      "text/plain": [
       "        TSH   T4U   T3    TT4    FTI\n",
       "0      2.90  0.99  1.2  174.0  100.0\n",
       "1      0.20  0.97  2.0  105.0  108.0\n",
       "2      2.10  0.99  1.7   96.0  100.0\n",
       "3      0.02  1.10  3.4   91.0   83.0\n",
       "4      0.69  0.99  2.0  162.0  163.0\n",
       "5      3.00  1.13  1.1  122.0  108.0\n",
       "6      1.10  0.95  2.2  115.0  121.0\n",
       "7     26.00  0.80  0.3    6.0    7.6\n",
       "8      0.25  0.95  1.9  165.0  174.0\n",
       "9      0.05  0.66  1.1  108.0  165.0\n",
       "10     1.20  1.08  1.9   83.0   77.0\n",
       "11     1.40  1.13  1.6  121.0  107.0\n",
       "12     0.15  1.76  3.6  144.0   82.0\n",
       "13     0.02  0.82  1.2   72.0   88.0\n",
       "14     0.60  1.03  1.8   99.0   96.0\n",
       "15     3.40  1.15  1.6  107.0   93.0\n",
       "16     0.40  1.12  2.4  102.0   92.0\n",
       "17     2.30  0.86  2.0   80.0   93.0\n",
       "18     0.40  1.12  2.0  175.0  156.0\n",
       "19     1.30  0.77  1.9   62.0   81.0\n",
       "20     0.37  0.77  1.7  140.0  182.0\n",
       "21     1.60  1.06  1.7  153.0  144.0\n",
       "22     5.00  1.02  2.2  115.0  114.0\n",
       "23     0.20  0.64  1.1   69.0  107.0\n",
       "24     1.20  0.99  2.3  104.0  100.0\n",
       "25     3.10  1.16  2.0  118.0  102.0\n",
       "26     2.70  1.43  2.0  125.0   87.0\n",
       "27     0.20  1.51  2.8  160.0  106.0\n",
       "28    32.00  1.18  1.4   85.0   71.0\n",
       "29     0.20  0.31  0.1   50.0  161.0\n",
       "...     ...   ...  ...    ...    ...\n",
       "2768   0.30  0.99  3.1  129.0  100.0\n",
       "2769   2.90  1.48  2.2  146.0   98.0\n",
       "2770   0.15  1.00  5.1  167.0  168.0\n",
       "2771   1.30  0.96  1.9   66.0   68.0\n",
       "2772   2.10  1.00  1.7  131.0  130.0\n",
       "2773   2.30  0.83  1.6  105.0  127.0\n",
       "2774   5.60  1.01  2.1   94.0   93.0\n",
       "2775   0.68  0.93  2.0   54.0   58.0\n",
       "2776   1.10  1.17  2.0  141.0  120.0\n",
       "2777   0.62  1.88  3.8  211.0  112.0\n",
       "2778   0.35  0.38  0.3   44.0  118.0\n",
       "2779   6.10  0.91  2.3   88.0   97.0\n",
       "2780   0.02  0.99  1.4  144.0  100.0\n",
       "2781   0.15  0.93  3.0  161.0  174.0\n",
       "2782   1.60  1.02  2.5  103.0  101.0\n",
       "2783   3.50  1.06  1.6  143.0  134.0\n",
       "2784   5.40  0.99  2.6  125.0  100.0\n",
       "2785   2.00  0.92  2.5  102.0  111.0\n",
       "2786   2.30  0.93  2.0  125.0  135.0\n",
       "2787   0.70  1.48  5.4  148.0  100.0\n",
       "2788   2.30  0.99  2.6   90.0   91.0\n",
       "2789   2.00  0.68  0.4   58.0   85.0\n",
       "2790   0.20  0.88  2.1   82.0   93.0\n",
       "2791   0.08  1.07  1.7   74.0   69.0\n",
       "2792   0.20  1.01  2.9  107.0  106.0\n",
       "2793   0.60  1.65  4.5  161.0   97.0\n",
       "2794   2.70  0.99  1.9  111.0  112.0\n",
       "2795   2.40  0.92  1.3   92.0  100.0\n",
       "2796   0.00  0.00  0.0    0.0    0.0\n",
       "2797   0.00  0.00  0.0    0.0    0.0\n",
       "\n",
       "[2798 rows x 5 columns]"
      ]
     },
     "execution_count": 257,
     "metadata": {},
     "output_type": "execute_result"
    }
   ],
   "source": [
    "X_filled_knn = pd.DataFrame(KNN(k=3).complete(data[col_names]))\n",
    "X_filled_knn.rename(columns={0: 'TSH', 1: 'T4U', 2: 'T3', 3: 'TT4', 4: 'FTI'}, inplace=True)\n",
    "X_filled_knn"
   ]
  },
  {
   "cell_type": "code",
   "execution_count": 258,
   "metadata": {},
   "outputs": [],
   "source": [
    "for col in col_names:\n",
    "    data[col] = X_filled_knn[col]"
   ]
  },
  {
   "cell_type": "code",
   "execution_count": 259,
   "metadata": {},
   "outputs": [
    {
     "data": {
      "text/plain": [
       "2"
      ]
     },
     "execution_count": 259,
     "metadata": {},
     "output_type": "execute_result"
    }
   ],
   "source": [
    "data['TSH'].isnull().sum()"
   ]
  },
  {
   "cell_type": "code",
   "execution_count": 263,
   "metadata": {},
   "outputs": [
    {
     "data": {
      "text/plain": [
       "PRIVATE             1953\n",
       "LOCAL_GOV            218\n",
       "SELF_EMP_NOT_INC     154\n",
       "STATE_GOV            120\n",
       "FEDERAL_GOV           82\n",
       "SELF_EMP_INC          69\n",
       "NEVER_WORKED           2\n",
       "WITHOUT_PAY            1\n",
       "Name: JOB_SEGMENT, dtype: int64"
      ]
     },
     "execution_count": 263,
     "metadata": {},
     "output_type": "execute_result"
    }
   ],
   "source": [
    "data['JOB_SEGMENT'].value_counts()"
   ]
  },
  {
   "cell_type": "markdown",
   "metadata": {},
   "source": [
    "Chýbajúce hodnoty v atribúte **JOB_SEGMENT** sme doplnili pomocou najčastejšie sa vyskytujúcej hodnoty."
   ]
  },
  {
   "cell_type": "code",
   "execution_count": 265,
   "metadata": {},
   "outputs": [],
   "source": [
    "column = fixWierdCharsInString('job_segment')\n",
    "mode = data[column].mode()\n",
    "data[column].fillna(mode[0], inplace=True)"
   ]
  },
  {
   "cell_type": "code",
   "execution_count": 266,
   "metadata": {},
   "outputs": [
    {
     "data": {
      "text/plain": [
       "AGE                            0\n",
       "SEX                           61\n",
       "ON_THYROXINE                   0\n",
       "QUERY_ON_THYROXINE             0\n",
       "ON_ANTITHYROID_MEDICATION      0\n",
       "SICK                           0\n",
       "PREGNANT                       0\n",
       "THYROID_SURGERY                0\n",
       "I131_TREATMENT                 0\n",
       "QUERY_HYPOTHYROID              0\n",
       "QUERY_HYPERTHYROID             0\n",
       "LITHIUM                        0\n",
       "GOITRE                         0\n",
       "TUMOR                          0\n",
       "HYPOPITUITARY                  0\n",
       "PSYCH                          0\n",
       "TSH_MEASURED                   0\n",
       "TSH                            2\n",
       "T3_MEASURED                    0\n",
       "T3                             2\n",
       "TT4_MEASURED                   0\n",
       "TT4                            2\n",
       "T4U_MEASURED                   0\n",
       "T4U                            2\n",
       "FTI_MEASURED                   0\n",
       "FTI                            2\n",
       "REFERRAL_SOURCE                0\n",
       "FNLWGT                         0\n",
       "EDUCATION                      0\n",
       "EDUCATION_NUM                  0\n",
       "RELATIONSHIP                   0\n",
       "CAPITAL_GAIN                   2\n",
       "CAPITAL_LOSS                   0\n",
       "HOURS_PER_WEEK                 0\n",
       "DATE_OF_BIRTH                279\n",
       "JOB                            0\n",
       "STATE                          0\n",
       "MARITAL_STATUS                 0\n",
       "JOB_SEGMENT                    0\n",
       "RACE                           0\n",
       "CLASS                          0\n",
       "dtype: int64"
      ]
     },
     "execution_count": 266,
     "metadata": {},
     "output_type": "execute_result"
    }
   ],
   "source": [
    "data.apply(count_missing)"
   ]
  },
  {
   "cell_type": "markdown",
   "metadata": {},
   "source": [
    "# Pomocné grafové examples\n",
    "\n",
    "- data.fillna((0: 1, 1:1, 2:1))\n",
    "- data.isnull().sum()\n",
    "- data.dropna(how='all')\n",
    "- data.plot.box()"
   ]
  },
  {
   "cell_type": "code",
   "execution_count": 327,
   "metadata": {},
   "outputs": [
    {
     "data": {
      "text/html": [
       "<div>\n",
       "<style scoped>\n",
       "    .dataframe tbody tr th:only-of-type {\n",
       "        vertical-align: middle;\n",
       "    }\n",
       "\n",
       "    .dataframe tbody tr th {\n",
       "        vertical-align: top;\n",
       "    }\n",
       "\n",
       "    .dataframe thead th {\n",
       "        text-align: right;\n",
       "    }\n",
       "</style>\n",
       "<table border=\"1\" class=\"dataframe\">\n",
       "  <thead>\n",
       "    <tr style=\"text-align: right;\">\n",
       "      <th></th>\n",
       "      <th>B</th>\n",
       "      <th>C</th>\n",
       "      <th>A</th>\n",
       "    </tr>\n",
       "  </thead>\n",
       "  <tbody>\n",
       "    <tr>\n",
       "      <th>0</th>\n",
       "      <td>1.341664</td>\n",
       "      <td>-1.337117</td>\n",
       "      <td>0</td>\n",
       "    </tr>\n",
       "    <tr>\n",
       "      <th>1</th>\n",
       "      <td>1.317796</td>\n",
       "      <td>-1.614323</td>\n",
       "      <td>1</td>\n",
       "    </tr>\n",
       "    <tr>\n",
       "      <th>2</th>\n",
       "      <td>0.052734</td>\n",
       "      <td>-0.630383</td>\n",
       "      <td>2</td>\n",
       "    </tr>\n",
       "    <tr>\n",
       "      <th>3</th>\n",
       "      <td>0.409249</td>\n",
       "      <td>-0.788780</td>\n",
       "      <td>3</td>\n",
       "    </tr>\n",
       "    <tr>\n",
       "      <th>4</th>\n",
       "      <td>-1.093194</td>\n",
       "      <td>-0.758686</td>\n",
       "      <td>4</td>\n",
       "    </tr>\n",
       "  </tbody>\n",
       "</table>\n",
       "</div>"
      ],
      "text/plain": [
       "          B         C  A\n",
       "0  1.341664 -1.337117  0\n",
       "1  1.317796 -1.614323  1\n",
       "2  0.052734 -0.630383  2\n",
       "3  0.409249 -0.788780  3\n",
       "4 -1.093194 -0.758686  4"
      ]
     },
     "execution_count": 327,
     "metadata": {},
     "output_type": "execute_result"
    }
   ],
   "source": [
    "ts = pd.Series(np.random.randn(1000), index=pd.date_range('1/1/2000', periods=1000))\n",
    "\n",
    "ts = ts.cumsum()\n",
    "    \n",
    "df = pd.DataFrame(np.random.randn(1000, 4), index=ts.index, columns=list('ABCD'))\n",
    "\n",
    "df = df.cumsum()\n",
    "df3 = pd.DataFrame(np.random.randn(1000, 2), columns=['B', 'C']).cumsum()\n",
    "\n",
    "df3['A'] = pd.Series(list(range(len(df))))\n",
    "df3.head()"
   ]
  },
  {
   "cell_type": "code",
   "execution_count": 328,
   "metadata": {},
   "outputs": [
    {
     "data": {
      "text/html": [
       "<div>\n",
       "<style scoped>\n",
       "    .dataframe tbody tr th:only-of-type {\n",
       "        vertical-align: middle;\n",
       "    }\n",
       "\n",
       "    .dataframe tbody tr th {\n",
       "        vertical-align: top;\n",
       "    }\n",
       "\n",
       "    .dataframe thead th {\n",
       "        text-align: right;\n",
       "    }\n",
       "</style>\n",
       "<table border=\"1\" class=\"dataframe\">\n",
       "  <thead>\n",
       "    <tr style=\"text-align: right;\">\n",
       "      <th></th>\n",
       "      <th>A</th>\n",
       "      <th>B</th>\n",
       "      <th>C</th>\n",
       "      <th>D</th>\n",
       "    </tr>\n",
       "  </thead>\n",
       "  <tbody>\n",
       "    <tr>\n",
       "      <th>2000-01-01</th>\n",
       "      <td>-0.224251</td>\n",
       "      <td>-1.054933</td>\n",
       "      <td>-0.112466</td>\n",
       "      <td>0.426245</td>\n",
       "    </tr>\n",
       "    <tr>\n",
       "      <th>2000-01-02</th>\n",
       "      <td>0.457582</td>\n",
       "      <td>-0.968927</td>\n",
       "      <td>0.587270</td>\n",
       "      <td>0.258093</td>\n",
       "    </tr>\n",
       "  </tbody>\n",
       "</table>\n",
       "</div>"
      ],
      "text/plain": [
       "                   A         B         C         D\n",
       "2000-01-01 -0.224251 -1.054933 -0.112466  0.426245\n",
       "2000-01-02  0.457582 -0.968927  0.587270  0.258093"
      ]
     },
     "execution_count": 328,
     "metadata": {},
     "output_type": "execute_result"
    }
   ],
   "source": [
    "df.head(2)#.plot.hist(); plt.axhline(0, color='g')\n"
   ]
  },
  {
   "cell_type": "code",
   "execution_count": 329,
   "metadata": {},
   "outputs": [
    {
     "data": {
      "text/plain": [
       "<matplotlib.axes._subplots.AxesSubplot at 0x12a265278>"
      ]
     },
     "execution_count": 329,
     "metadata": {},
     "output_type": "execute_result"
    },
    {
     "data": {
      "image/png": "[encoded data removed]",
      "text/plain": [
       "<Figure size 648x432 with 1 Axes>"
      ]
     },
     "metadata": {},
     "output_type": "display_data"
    }
   ],
   "source": [
    "data.select_dtypes('int').plot.hist(alpha=0.5)"
   ]
  },
  {
   "cell_type": "code",
   "execution_count": 330,
   "metadata": {},
   "outputs": [
    {
     "data": {
      "text/plain": [
       "<matplotlib.axes._subplots.AxesSubplot at 0x12a5d0748>"
      ]
     },
     "execution_count": 330,
     "metadata": {},
     "output_type": "execute_result"
    },
    {
     "data": {
      "image/png": "[encoded data removed]",
      "text/plain": [
       "<Figure size 648x432 with 1 Axes>"
      ]
     },
     "metadata": {},
     "output_type": "display_data"
    }
   ],
   "source": [
    "df2 = pd.DataFrame(np.random.rand(10, 4), columns=['a', 'b', 'c', 'd'])\n",
    "\n",
    "#df2.plot.bar(stacked=True);\n",
    "plt.figure()\n",
    "data['AGE'].plot.bar()\n"
   ]
  },
  {
   "cell_type": "code",
   "execution_count": 331,
   "metadata": {},
   "outputs": [
    {
     "data": {
      "text/plain": [
       "<matplotlib.axes._subplots.AxesSubplot at 0x12b0f4be0>"
      ]
     },
     "execution_count": 331,
     "metadata": {},
     "output_type": "execute_result"
    },
    {
     "data": {
      "text/plain": [
       "<Figure size 648x432 with 0 Axes>"
      ]
     },
     "metadata": {},
     "output_type": "display_data"
    },
    {
     "data": {
      "image/png": "[encoded data removed]",
      "text/plain": [
       "<Figure size 648x432 with 1 Axes>"
      ]
     },
     "metadata": {},
     "output_type": "display_data"
    }
   ],
   "source": [
    "df4 = pd.DataFrame({'a': np.random.randn(1000) + 1, 'b': np.random.randn(1000),'c': np.random.randn(1000) - 1}, columns=['a', 'b', 'c'])\n",
    "plt.figure();\n",
    "\n",
    "df4.plot.hist(alpha=0.5)"
   ]
  },
  {
   "cell_type": "code",
   "execution_count": 332,
   "metadata": {},
   "outputs": [
    {
     "data": {
      "text/plain": [
       "<matplotlib.axes._subplots.AxesSubplot at 0x12b84ff60>"
      ]
     },
     "execution_count": 332,
     "metadata": {},
     "output_type": "execute_result"
    },
    {
     "data": {
      "image/png": "[encoded data removed]",
      "text/plain": [
       "<Figure size 648x432 with 1 Axes>"
      ]
     },
     "metadata": {},
     "output_type": "display_data"
    }
   ],
   "source": [
    "df4.plot.hist(alpha=0.5, bins=200)"
   ]
  },
  {
   "cell_type": "code",
   "execution_count": 333,
   "metadata": {},
   "outputs": [
    {
     "data": {
      "text/plain": [
       "2000-01-01   -0.224251\n",
       "2000-01-02    0.457582\n",
       "2000-01-03   -0.201338\n",
       "2000-01-04   -1.031391\n",
       "2000-01-05    0.049684\n",
       "Freq: D, Name: A, dtype: float64"
      ]
     },
     "execution_count": 333,
     "metadata": {},
     "output_type": "execute_result"
    },
    {
     "data": {
      "text/plain": [
       "<Figure size 648x432 with 0 Axes>"
      ]
     },
     "metadata": {},
     "output_type": "display_data"
    }
   ],
   "source": [
    "plt.figure()\n",
    "df['A'].head()"
   ]
  },
  {
   "cell_type": "code",
   "execution_count": 334,
   "metadata": {},
   "outputs": [
    {
     "data": {
      "text/plain": [
       "2000-01-01         NaN\n",
       "2000-01-02    0.681833\n",
       "2000-01-03   -0.658921\n",
       "2000-01-04   -0.830053\n",
       "2000-01-05    1.081075\n",
       "Freq: D, Name: A, dtype: float64"
      ]
     },
     "execution_count": 334,
     "metadata": {},
     "output_type": "execute_result"
    }
   ],
   "source": [
    "df['A'].diff().head()"
   ]
  },
  {
   "cell_type": "code",
   "execution_count": 335,
   "metadata": {},
   "outputs": [
    {
     "data": {
      "text/plain": [
       "array([[<matplotlib.axes._subplots.AxesSubplot object at 0x12ed52978>,\n",
       "        <matplotlib.axes._subplots.AxesSubplot object at 0x12ef0b518>],\n",
       "       [<matplotlib.axes._subplots.AxesSubplot object at 0x12f071ac8>,\n",
       "        <matplotlib.axes._subplots.AxesSubplot object at 0x12f104198>]],\n",
       "      dtype=object)"
      ]
     },
     "execution_count": 335,
     "metadata": {},
     "output_type": "execute_result"
    },
    {
     "data": {
      "image/png": "[encoded data removed]",
      "text/plain": [
       "<Figure size 648x432 with 4 Axes>"
      ]
     },
     "metadata": {},
     "output_type": "display_data"
    }
   ],
   "source": [
    "df.diff().hist(color='k', alpha=0.5, bins=50)"
   ]
  },
  {
   "cell_type": "code",
   "execution_count": 336,
   "metadata": {},
   "outputs": [
    {
     "data": {
      "text/plain": [
       "<matplotlib.axes._subplots.AxesSubplot at 0x12f18cd68>"
      ]
     },
     "execution_count": 336,
     "metadata": {},
     "output_type": "execute_result"
    },
    {
     "data": {
      "image/png": "[encoded data removed]",
      "text/plain": [
       "<Figure size 648x432 with 1 Axes>"
      ]
     },
     "metadata": {},
     "output_type": "display_data"
    }
   ],
   "source": [
    "df = pd.DataFrame(np.random.rand(10, 5), columns=['A', 'B', 'C', 'D', 'E'])\n",
    "color = dict(boxes='DarkGreen', whiskers='DarkOrange', medians='DarkBlue', caps='Gray')\n",
    "df.plot.box(color=color, sym='r+', positions=[1, 4, 5, 6, 8])"
   ]
  },
  {
   "cell_type": "code",
   "execution_count": 337,
   "metadata": {},
   "outputs": [
    {
     "data": {
      "text/plain": [
       "<matplotlib.axes._subplots.AxesSubplot at 0x12f118e80>"
      ]
     },
     "execution_count": 337,
     "metadata": {},
     "output_type": "execute_result"
    },
    {
     "data": {
      "image/png": "[encoded data removed]",
      "text/plain": [
       "<Figure size 648x432 with 1 Axes>"
      ]
     },
     "metadata": {},
     "output_type": "display_data"
    }
   ],
   "source": [
    "df.boxplot()"
   ]
  },
  {
   "cell_type": "code",
   "execution_count": 338,
   "metadata": {},
   "outputs": [
    {
     "data": {
      "text/html": [
       "<div>\n",
       "<style scoped>\n",
       "    .dataframe tbody tr th:only-of-type {\n",
       "        vertical-align: middle;\n",
       "    }\n",
       "\n",
       "    .dataframe tbody tr th {\n",
       "        vertical-align: top;\n",
       "    }\n",
       "\n",
       "    .dataframe thead th {\n",
       "        text-align: right;\n",
       "    }\n",
       "</style>\n",
       "<table border=\"1\" class=\"dataframe\">\n",
       "  <thead>\n",
       "    <tr style=\"text-align: right;\">\n",
       "      <th></th>\n",
       "      <th>Col1</th>\n",
       "      <th>Col2</th>\n",
       "      <th>X</th>\n",
       "    </tr>\n",
       "  </thead>\n",
       "  <tbody>\n",
       "    <tr>\n",
       "      <th>0</th>\n",
       "      <td>0.248769</td>\n",
       "      <td>0.036506</td>\n",
       "      <td>A</td>\n",
       "    </tr>\n",
       "    <tr>\n",
       "      <th>1</th>\n",
       "      <td>0.887957</td>\n",
       "      <td>0.407190</td>\n",
       "      <td>A</td>\n",
       "    </tr>\n",
       "    <tr>\n",
       "      <th>2</th>\n",
       "      <td>0.002096</td>\n",
       "      <td>0.574088</td>\n",
       "      <td>A</td>\n",
       "    </tr>\n",
       "    <tr>\n",
       "      <th>3</th>\n",
       "      <td>0.285008</td>\n",
       "      <td>0.222813</td>\n",
       "      <td>A</td>\n",
       "    </tr>\n",
       "    <tr>\n",
       "      <th>4</th>\n",
       "      <td>0.368259</td>\n",
       "      <td>0.376302</td>\n",
       "      <td>A</td>\n",
       "    </tr>\n",
       "    <tr>\n",
       "      <th>5</th>\n",
       "      <td>0.894896</td>\n",
       "      <td>0.543697</td>\n",
       "      <td>B</td>\n",
       "    </tr>\n",
       "    <tr>\n",
       "      <th>6</th>\n",
       "      <td>0.288896</td>\n",
       "      <td>0.366367</td>\n",
       "      <td>B</td>\n",
       "    </tr>\n",
       "    <tr>\n",
       "      <th>7</th>\n",
       "      <td>0.049866</td>\n",
       "      <td>0.067807</td>\n",
       "      <td>B</td>\n",
       "    </tr>\n",
       "    <tr>\n",
       "      <th>8</th>\n",
       "      <td>0.745545</td>\n",
       "      <td>0.554090</td>\n",
       "      <td>B</td>\n",
       "    </tr>\n",
       "    <tr>\n",
       "      <th>9</th>\n",
       "      <td>0.200817</td>\n",
       "      <td>0.890348</td>\n",
       "      <td>B</td>\n",
       "    </tr>\n",
       "  </tbody>\n",
       "</table>\n",
       "</div>"
      ],
      "text/plain": [
       "       Col1      Col2  X\n",
       "0  0.248769  0.036506  A\n",
       "1  0.887957  0.407190  A\n",
       "2  0.002096  0.574088  A\n",
       "3  0.285008  0.222813  A\n",
       "4  0.368259  0.376302  A\n",
       "5  0.894896  0.543697  B\n",
       "6  0.288896  0.366367  B\n",
       "7  0.049866  0.067807  B\n",
       "8  0.745545  0.554090  B\n",
       "9  0.200817  0.890348  B"
      ]
     },
     "execution_count": 338,
     "metadata": {},
     "output_type": "execute_result"
    },
    {
     "data": {
      "text/plain": [
       "<Figure size 648x432 with 0 Axes>"
      ]
     },
     "metadata": {},
     "output_type": "display_data"
    }
   ],
   "source": [
    "df = pd.DataFrame(np.random.rand(10,2), columns=['Col1', 'Col2'] )\n",
    "\n",
    "df['X'] = pd.Series(['A','A','A','A','A','B','B','B','B','B'])\n",
    "\n",
    "plt.figure();\n",
    "df\n",
    "#bp = df.boxplot(by='X')"
   ]
  },
  {
   "cell_type": "code",
   "execution_count": 339,
   "metadata": {},
   "outputs": [
    {
     "data": {
      "image/png": "[encoded data removed]",
      "text/plain": [
       "<Figure size 648x432 with 2 Axes>"
      ]
     },
     "metadata": {},
     "output_type": "display_data"
    }
   ],
   "source": [
    "np.random.seed(1234)\n",
    "df_box = pd.DataFrame(np.random.randn(50, 2))\n",
    "df_box['g'] = np.random.choice(['A', 'B'], size=50)\n",
    "df_box.loc[df_box['g'] == 'B', 1] += 3\n",
    "bp = df_box.boxplot(by='g')"
   ]
  },
  {
   "cell_type": "code",
   "execution_count": 340,
   "metadata": {},
   "outputs": [],
   "source": [
    "df = pd.DataFrame(np.random.rand(50, 4), columns=['a', 'b', 'c', 'd'])"
   ]
  },
  {
   "cell_type": "code",
   "execution_count": 341,
   "metadata": {},
   "outputs": [
    {
     "data": {
      "image/png": "[encoded data removed]",
      "text/plain": [
       "<Figure size 648x432 with 1 Axes>"
      ]
     },
     "metadata": {},
     "output_type": "display_data"
    }
   ],
   "source": [
    "ax = df.plot.scatter(x='a', y='b', color='DarkBlue', label='Group 1');\n",
    "\n",
    "df.plot.scatter(x='c', y='d', color='DarkGreen', label='Group 2', ax=ax);"
   ]
  },
  {
   "cell_type": "code",
   "execution_count": 342,
   "metadata": {},
   "outputs": [
    {
     "data": {
      "image/png": "[encoded data removed]",
      "text/plain": [
       "<Figure size 648x432 with 2 Axes>"
      ]
     },
     "metadata": {},
     "output_type": "display_data"
    }
   ],
   "source": [
    "df.plot.scatter(x='a', y='b', c='c', s=10);"
   ]
  },
  {
   "cell_type": "markdown",
   "metadata": {},
   "source": [
    "# Zdroje\n",
    "Príklady ako pracovať s pandas - https://pandas.pydata.org/pandas-docs/stable/cookbook.html#cookbook-plotting\n",
    "\n",
    "Robenie grafov v pandas - https://pandas.pydata.org/pandas-docs/stable/visualization.html"
   ]
  },
  {
   "cell_type": "markdown",
   "metadata": {},
   "source": [
    "# Manuálne podmienky vyhodnocovania"
   ]
  },
  {
   "cell_type": "code",
   "execution_count": 343,
   "metadata": {},
   "outputs": [],
   "source": [
    "def calculate_recall(tp, fn):\n",
    "     return tp / (tp + fn)\n",
    "\n",
    "def calculate_precision(tp, fp):\n",
    "    return tp / (tp + fp)\n",
    "\n",
    "def calculate_accuracy(tp, tn, fp, fn):\n",
    "    return (tn + tp)/(tn + fp + fn + tp)"
   ]
  },
  {
   "cell_type": "code",
   "execution_count": 344,
   "metadata": {},
   "outputs": [],
   "source": [
    "from sklearn.preprocessing import MultiLabelBinarizer\n",
    "from sklearn.metrics import recall_score, precision_score"
   ]
  },
  {
   "cell_type": "code",
   "execution_count": 345,
   "metadata": {
    "scrolled": false
   },
   "outputs": [
    {
     "data": {
      "text/plain": [
       "<seaborn.axisgrid.PairGrid at 0x12fccc198>"
      ]
     },
     "execution_count": 345,
     "metadata": {},
     "output_type": "execute_result"
    },
    {
     "data": {
      "image/png": "[encoded data removed]",
      "text/plain": [
       "<Figure size 1059.5x900 with 30 Axes>"
      ]
     },
     "metadata": {},
     "output_type": "display_data"
    }
   ],
   "source": [
    "dataFrame = data.loc[:,['TSH', 'T4U', 'T3', 'TT4']]\n",
    "dataFrame['FTI'] = pd.to_numeric(data['FTI'], errors='coerce')\n",
    "\n",
    "column1_name = 'CLASS'\n",
    "\n",
    "dataFrame['class'] = data['CLASS']\n",
    "dataFrame = dataFrame.dropna()\n",
    "\n",
    "seaborn.pairplot(dataFrame, dropna=True, hue='class')"
   ]
  },
  {
   "cell_type": "markdown",
   "metadata": {},
   "source": [
    "Počet pacientov v jednotlivých triedach. "
   ]
  },
  {
   "cell_type": "code",
   "execution_count": 346,
   "metadata": {
    "scrolled": true
   },
   "outputs": [
    {
     "data": {
      "text/plain": [
       "NEGATIVE               2713\n",
       "UNDERREPLACEMENT         35\n",
       "REPLACEMENT_THERAPY      29\n",
       "OVERREPLACEMENT          23\n",
       "Name: CLASS, dtype: int64"
      ]
     },
     "execution_count": 346,
     "metadata": {},
     "output_type": "execute_result"
    }
   ],
   "source": [
    "data['CLASS'].value_counts()"
   ]
  },
  {
   "cell_type": "markdown",
   "metadata": {},
   "source": [
    "## Atribúty FTI, TT4, T3, T4U"
   ]
  },
  {
   "cell_type": "markdown",
   "metadata": {},
   "source": [
    "Väčšina pacientov, ktorí majú hodnoty atribútov **FTI, TT4, T3, T4U** také, ako sú špecifikované, tak sú zdravý."
   ]
  },
  {
   "cell_type": "code",
   "execution_count": 347,
   "metadata": {},
   "outputs": [
    {
     "data": {
      "text/plain": [
       "NEGATIVE            414\n",
       "UNDERREPLACEMENT      6\n",
       "Name: CLASS, dtype: int64"
      ]
     },
     "execution_count": 347,
     "metadata": {},
     "output_type": "execute_result"
    }
   ],
   "source": [
    "df = data[(data['FTI'] < 71) | (data['TT4'] < 72) | (data['T3'] > 3.6) | (data['T4U'] > 1.34)]\n",
    "df['CLASS'].value_counts()"
   ]
  },
  {
   "cell_type": "code",
   "execution_count": 348,
   "metadata": {},
   "outputs": [
    {
     "name": "stdout",
     "output_type": "stream",
     "text": [
      "Počet subjektov, ktoré nám naša podmienka našla: 420\n",
      "Počet subjektov, ktoré sme sa snažili identifikovať: 2713\n",
      "True positive: 414\n",
      "False positive: 6\n",
      "False negative: 2299\n",
      "True negative: 81\n"
     ]
    }
   ],
   "source": [
    "found_all = df['CLASS'].count()\n",
    "print(f\"Počet subjektov, ktoré nám naša podmienka našla: {found_all}\")\n",
    "\n",
    "rel_all = data[((data['CLASS'] == 'NEGATIVE'))].count()\n",
    "rel_all = rel_all['CLASS']\n",
    "rel_all\n",
    "print(f\"Počet subjektov, ktoré sme sa snažili identifikovať: {rel_all}\")\n",
    "\n",
    "tp = df[df['CLASS'] == 'NEGATIVE'].count()\n",
    "tp = tp['CLASS']\n",
    "print(f\"True positive: {tp}\")\n",
    "\n",
    "fp = found_all - tp\n",
    "print(f\"False positive: {fp}\")\n",
    "\n",
    "fn = rel_all - tp\n",
    "print(f\"False negative: {fn}\")\n",
    "\n",
    "tn = data['CLASS'].count() - found_all - fn\n",
    "print(f\"True negative: {tn}\")"
   ]
  },
  {
   "cell_type": "markdown",
   "metadata": {},
   "source": [
    "Pokrytie (recall) daného pravidla"
   ]
  },
  {
   "cell_type": "code",
   "execution_count": 349,
   "metadata": {},
   "outputs": [
    {
     "data": {
      "text/plain": [
       "0.15259859933652783"
      ]
     },
     "execution_count": 349,
     "metadata": {},
     "output_type": "execute_result"
    }
   ],
   "source": [
    "calculate_recall(tp, fn)"
   ]
  },
  {
   "cell_type": "markdown",
   "metadata": {},
   "source": [
    "Presnosť (precision) daného pravidla"
   ]
  },
  {
   "cell_type": "code",
   "execution_count": 350,
   "metadata": {},
   "outputs": [
    {
     "data": {
      "text/plain": [
       "0.9857142857142858"
      ]
     },
     "execution_count": 350,
     "metadata": {},
     "output_type": "execute_result"
    }
   ],
   "source": [
    "calculate_precision(tp, fp)"
   ]
  },
  {
   "cell_type": "markdown",
   "metadata": {},
   "source": [
    "Accuracy daného pravidla"
   ]
  },
  {
   "cell_type": "code",
   "execution_count": 351,
   "metadata": {},
   "outputs": [
    {
     "data": {
      "text/plain": [
       "0.1767857142857143"
      ]
     },
     "execution_count": 351,
     "metadata": {},
     "output_type": "execute_result"
    }
   ],
   "source": [
    "calculate_accuracy(tp, tn, fp, fn)"
   ]
  },
  {
   "cell_type": "markdown",
   "metadata": {},
   "source": [
    "Pri tejto podmienke sme sa snažili dovŕšiť čo najvyššiu presnosť vrátených dát, lebo určiť, že je pacient zdravý a pritom nie je, môže byť preňho kritické. "
   ]
  },
  {
   "cell_type": "markdown",
   "metadata": {},
   "source": [
    "### Rozpis jednotlivých atribútov (uvedieme len precision, pretože je prioritou)"
   ]
  },
  {
   "cell_type": "code",
   "execution_count": 352,
   "metadata": {},
   "outputs": [
    {
     "name": "stdout",
     "output_type": "stream",
     "text": [
      "Počet subjektov, ktoré sme sa snažili identifikovať: 2713\n"
     ]
    }
   ],
   "source": [
    "rel_all = data[((data['CLASS'] == 'NEGATIVE'))].count()\n",
    "rel_all = rel_all['CLASS']\n",
    "rel_all\n",
    "print(f\"Počet subjektov, ktoré sme sa snažili identifikovať: {rel_all}\")"
   ]
  },
  {
   "cell_type": "markdown",
   "metadata": {},
   "source": [
    "### FTI"
   ]
  },
  {
   "cell_type": "code",
   "execution_count": 353,
   "metadata": {},
   "outputs": [
    {
     "data": {
      "text/plain": [
       "NEGATIVE            133\n",
       "UNDERREPLACEMENT      3\n",
       "Name: CLASS, dtype: int64"
      ]
     },
     "execution_count": 353,
     "metadata": {},
     "output_type": "execute_result"
    }
   ],
   "source": [
    "df = data[(data['FTI'] < 71)]\n",
    "df['CLASS'].value_counts()"
   ]
  },
  {
   "cell_type": "code",
   "execution_count": 354,
   "metadata": {},
   "outputs": [
    {
     "name": "stdout",
     "output_type": "stream",
     "text": [
      "Počet subjektov, ktoré nám naša podmienka našla: 136\n",
      "True positive: 133\n",
      "False positive: 3\n"
     ]
    }
   ],
   "source": [
    "found_all = df['CLASS'].count()\n",
    "print(f\"Počet subjektov, ktoré nám naša podmienka našla: {found_all}\")\n",
    "\n",
    "tp = df[df['CLASS'] == 'NEGATIVE'].count()\n",
    "tp = tp['CLASS']\n",
    "print(f\"True positive: {tp}\")\n",
    "\n",
    "fp = found_all - tp\n",
    "print(f\"False positive: {fp}\")"
   ]
  },
  {
   "cell_type": "code",
   "execution_count": 355,
   "metadata": {},
   "outputs": [
    {
     "data": {
      "text/plain": [
       "0.9779411764705882"
      ]
     },
     "execution_count": 355,
     "metadata": {},
     "output_type": "execute_result"
    }
   ],
   "source": [
    "calculate_precision(tp, fp)"
   ]
  },
  {
   "cell_type": "markdown",
   "metadata": {},
   "source": [
    "### TT4"
   ]
  },
  {
   "cell_type": "code",
   "execution_count": 356,
   "metadata": {},
   "outputs": [
    {
     "data": {
      "text/plain": [
       "NEGATIVE            219\n",
       "UNDERREPLACEMENT      4\n",
       "Name: CLASS, dtype: int64"
      ]
     },
     "execution_count": 356,
     "metadata": {},
     "output_type": "execute_result"
    }
   ],
   "source": [
    "df = data[(data['TT4'] < 72)]\n",
    "df['CLASS'].value_counts()"
   ]
  },
  {
   "cell_type": "code",
   "execution_count": 357,
   "metadata": {},
   "outputs": [
    {
     "name": "stdout",
     "output_type": "stream",
     "text": [
      "Počet subjektov, ktoré nám naša podmienka našla: 223\n",
      "True positive: 219\n",
      "False positive: 4\n"
     ]
    }
   ],
   "source": [
    "found_all = df['CLASS'].count()\n",
    "print(f\"Počet subjektov, ktoré nám naša podmienka našla: {found_all}\")\n",
    "\n",
    "tp = df[df['CLASS'] == 'NEGATIVE'].count()\n",
    "tp = tp['CLASS']\n",
    "print(f\"True positive: {tp}\")\n",
    "\n",
    "fp = found_all - tp\n",
    "print(f\"False positive: {fp}\")"
   ]
  },
  {
   "cell_type": "code",
   "execution_count": 358,
   "metadata": {},
   "outputs": [
    {
     "data": {
      "text/plain": [
       "0.9820627802690582"
      ]
     },
     "execution_count": 358,
     "metadata": {},
     "output_type": "execute_result"
    }
   ],
   "source": [
    "calculate_precision(tp, fp)"
   ]
  },
  {
   "cell_type": "markdown",
   "metadata": {},
   "source": [
    "### T3"
   ]
  },
  {
   "cell_type": "code",
   "execution_count": 359,
   "metadata": {},
   "outputs": [
    {
     "data": {
      "text/plain": [
       "NEGATIVE    87\n",
       "Name: CLASS, dtype: int64"
      ]
     },
     "execution_count": 359,
     "metadata": {},
     "output_type": "execute_result"
    }
   ],
   "source": [
    "df = data[(data['T3'] > 3.6)]\n",
    "df['CLASS'].value_counts()"
   ]
  },
  {
   "cell_type": "code",
   "execution_count": 360,
   "metadata": {},
   "outputs": [
    {
     "name": "stdout",
     "output_type": "stream",
     "text": [
      "Počet subjektov, ktoré nám naša podmienka našla: 87\n",
      "True positive: 87\n",
      "False positive: 0\n"
     ]
    }
   ],
   "source": [
    "found_all = df['CLASS'].count()\n",
    "print(f\"Počet subjektov, ktoré nám naša podmienka našla: {found_all}\")\n",
    "\n",
    "tp = df[df['CLASS'] == 'NEGATIVE'].count()\n",
    "tp = tp['CLASS']\n",
    "print(f\"True positive: {tp}\")\n",
    "\n",
    "fp = found_all - tp\n",
    "print(f\"False positive: {fp}\")"
   ]
  },
  {
   "cell_type": "code",
   "execution_count": 361,
   "metadata": {},
   "outputs": [
    {
     "data": {
      "text/plain": [
       "1.0"
      ]
     },
     "execution_count": 361,
     "metadata": {},
     "output_type": "execute_result"
    }
   ],
   "source": [
    "calculate_precision(tp, fp)"
   ]
  },
  {
   "cell_type": "markdown",
   "metadata": {},
   "source": [
    "### T4U"
   ]
  },
  {
   "cell_type": "code",
   "execution_count": 362,
   "metadata": {},
   "outputs": [
    {
     "data": {
      "text/plain": [
       "NEGATIVE            111\n",
       "UNDERREPLACEMENT      1\n",
       "Name: CLASS, dtype: int64"
      ]
     },
     "execution_count": 362,
     "metadata": {},
     "output_type": "execute_result"
    }
   ],
   "source": [
    "df = data[(data['T4U'] > 1.36)]\n",
    "df['CLASS'].value_counts()"
   ]
  },
  {
   "cell_type": "code",
   "execution_count": 363,
   "metadata": {},
   "outputs": [
    {
     "name": "stdout",
     "output_type": "stream",
     "text": [
      "Počet subjektov, ktoré nám naša podmienka našla: 112\n",
      "True positive: 111\n",
      "False positive: 1\n"
     ]
    }
   ],
   "source": [
    "found_all = df['CLASS'].count()\n",
    "print(f\"Počet subjektov, ktoré nám naša podmienka našla: {found_all}\")\n",
    "\n",
    "tp = df[df['CLASS'] == 'NEGATIVE'].count()\n",
    "tp = tp['CLASS']\n",
    "print(f\"True positive: {tp}\")\n",
    "\n",
    "fp = found_all - tp\n",
    "print(f\"False positive: {fp}\")"
   ]
  },
  {
   "cell_type": "code",
   "execution_count": 364,
   "metadata": {},
   "outputs": [
    {
     "data": {
      "text/plain": [
       "0.9910714285714286"
      ]
     },
     "execution_count": 364,
     "metadata": {},
     "output_type": "execute_result"
    }
   ],
   "source": [
    "calculate_precision(tp, fp)"
   ]
  },
  {
   "cell_type": "markdown",
   "metadata": {},
   "source": [
    "## Kombinácie atribútov TSH, T3, FTI, T4U, TT4"
   ]
  },
  {
   "cell_type": "code",
   "execution_count": 365,
   "metadata": {},
   "outputs": [
    {
     "data": {
      "text/plain": [
       "NEGATIVE               40\n",
       "REPLACEMENT_THERAPY     3\n",
       "OVERREPLACEMENT         1\n",
       "Name: CLASS, dtype: int64"
      ]
     },
     "execution_count": 365,
     "metadata": {},
     "output_type": "execute_result"
    }
   ],
   "source": [
    "df = data[(data['TSH'] < 0.2) & (data['T4U'] < 0.8)]\n",
    "df['CLASS'].value_counts()"
   ]
  },
  {
   "cell_type": "code",
   "execution_count": 366,
   "metadata": {},
   "outputs": [
    {
     "data": {
      "text/plain": [
       "NEGATIVE            111\n",
       "UNDERREPLACEMENT      1\n",
       "Name: CLASS, dtype: int64"
      ]
     },
     "execution_count": 366,
     "metadata": {},
     "output_type": "execute_result"
    }
   ],
   "source": [
    "df = data[(data['TSH'] > 80) | ((data['TSH'] < 1) & (data['T3'] > 3.6)) | ((data['TSH'] > 40) & (data['TSH'] < 75))]\n",
    "df['CLASS'].value_counts()"
   ]
  },
  {
   "cell_type": "code",
   "execution_count": 367,
   "metadata": {},
   "outputs": [
    {
     "data": {
      "text/plain": [
       "NEGATIVE           98\n",
       "OVERREPLACEMENT     1\n",
       "Name: CLASS, dtype: int64"
      ]
     },
     "execution_count": 367,
     "metadata": {},
     "output_type": "execute_result"
    }
   ],
   "source": [
    "df = data[(data['TSH'] < 37) & (data['T3'] > 3.4)]\n",
    "df['CLASS'].value_counts()"
   ]
  },
  {
   "cell_type": "markdown",
   "metadata": {},
   "source": [
    "V nasledujúcej vzorke sme zaznamenali, že nasledovné hodnoty atribútov zaznamenali skoro všetkých pacientov, ktorí majú hodnotu **UNDERREPLACEMENT**."
   ]
  },
  {
   "cell_type": "code",
   "execution_count": 368,
   "metadata": {
    "scrolled": true
   },
   "outputs": [
    {
     "data": {
      "text/plain": [
       "NEGATIVE            204\n",
       "UNDERREPLACEMENT     33\n",
       "Name: CLASS, dtype: int64"
      ]
     },
     "execution_count": 368,
     "metadata": {},
     "output_type": "execute_result"
    }
   ],
   "source": [
    "df = data[(data['TSH'] > 5) & ((data['FTI'] > 63) & (data['FTI'] < 145))]\n",
    "test = df['CLASS']\n",
    "df['CLASS'].value_counts()"
   ]
  },
  {
   "cell_type": "code",
   "execution_count": 369,
   "metadata": {},
   "outputs": [
    {
     "name": "stdout",
     "output_type": "stream",
     "text": [
      "Počet subjektov, ktoré nám naša podmienka našla: 237\n",
      "Počet subjektov, ktoré sme sa snažili identifikovať: 35\n",
      "True positive: 33\n",
      "False positive: 204\n",
      "False negative: 2\n",
      "True negative: 2561\n"
     ]
    }
   ],
   "source": [
    "found_all = df['CLASS'].count()\n",
    "print(f\"Počet subjektov, ktoré nám naša podmienka našla: {found_all}\")\n",
    "\n",
    "rel_all = data[((data['CLASS'] == 'UNDERREPLACEMENT'))].count()\n",
    "rel_all = rel_all['CLASS']\n",
    "rel_all\n",
    "print(f\"Počet subjektov, ktoré sme sa snažili identifikovať: {rel_all}\")\n",
    "\n",
    "tp = df[df['CLASS'] == 'UNDERREPLACEMENT'].count()\n",
    "tp = tp['CLASS']\n",
    "print(f\"True positive: {tp}\")\n",
    "\n",
    "fp = found_all - tp\n",
    "print(f\"False positive: {fp}\")\n",
    "\n",
    "fn = rel_all - tp\n",
    "print(f\"False negative: {fn}\")\n",
    "\n",
    "tn = data['CLASS'].count() - found_all - fn\n",
    "print(f\"True negative: {tn}\")"
   ]
  },
  {
   "cell_type": "markdown",
   "metadata": {},
   "source": [
    "Pokrytie (recall) daného pravidla"
   ]
  },
  {
   "cell_type": "code",
   "execution_count": 370,
   "metadata": {},
   "outputs": [
    {
     "data": {
      "text/plain": [
       "0.9428571428571428"
      ]
     },
     "execution_count": 370,
     "metadata": {},
     "output_type": "execute_result"
    }
   ],
   "source": [
    "calculate_recall(tp, fn)"
   ]
  },
  {
   "cell_type": "markdown",
   "metadata": {},
   "source": [
    "Presnosť (precision) daného pravidla"
   ]
  },
  {
   "cell_type": "code",
   "execution_count": 371,
   "metadata": {},
   "outputs": [
    {
     "data": {
      "text/plain": [
       "0.13924050632911392"
      ]
     },
     "execution_count": 371,
     "metadata": {},
     "output_type": "execute_result"
    }
   ],
   "source": [
    "calculate_precision(tp, fp)"
   ]
  },
  {
   "cell_type": "markdown",
   "metadata": {},
   "source": [
    "Accuracy daného pravidla"
   ]
  },
  {
   "cell_type": "code",
   "execution_count": 372,
   "metadata": {},
   "outputs": [
    {
     "data": {
      "text/plain": [
       "0.9264285714285714"
      ]
     },
     "execution_count": 372,
     "metadata": {},
     "output_type": "execute_result"
    }
   ],
   "source": [
    "calculate_accuracy(tp, tn, fp, fn)"
   ]
  },
  {
   "cell_type": "markdown",
   "metadata": {},
   "source": [
    "Z pozorovania vidíme, že dosiahnuté pokrytie je veľmi vysoké a naopak, presnosť je veľmi nízka. Pri našich dátach je prioritou dosiahnuť vyššie pokrytie. "
   ]
  },
  {
   "cell_type": "markdown",
   "metadata": {},
   "source": [
    "V nasledujúcej vzorke sme zaznamenali, že nasledovné hodnoty atribútov zaznamenali väčšinu pacientov, ktorí majú hodnotu **OVERREPLACEMENT** alebo **REPLACEMENT_THERAPY**. Týmto pravidlom sme chceli vyselektovať pacientov, ktorí nie sú zdraví, teda patria do jednej z tried **OVERREPLACEMENT, REPLACEMENT_THERAPY**."
   ]
  },
  {
   "cell_type": "code",
   "execution_count": 373,
   "metadata": {},
   "outputs": [
    {
     "data": {
      "text/plain": [
       "NEGATIVE               91\n",
       "REPLACEMENT_THERAPY    25\n",
       "OVERREPLACEMENT        21\n",
       "Name: CLASS, dtype: int64"
      ]
     },
     "execution_count": 373,
     "metadata": {},
     "output_type": "execute_result"
    }
   ],
   "source": [
    "df = data[(data['TSH'] < 1) & ((data['FTI'] > 155) & (data['FTI'] < 225))]\n",
    "df['CLASS'].value_counts()"
   ]
  },
  {
   "cell_type": "markdown",
   "metadata": {},
   "source": [
    "## Atribúty ON_ANTITHYROID_MEDICATION, I131_TREATMENT, LITHIUM, THYROID_SURGERY"
   ]
  },
  {
   "cell_type": "markdown",
   "metadata": {},
   "source": [
    "Z nasledujúcej vzorky môžme povedať, že väčšina pacientov, ktorí boli na nejakej forme liečenia, alebo na operácii štítnej žlazy, tak sú zdravý."
   ]
  },
  {
   "cell_type": "code",
   "execution_count": 374,
   "metadata": {},
   "outputs": [
    {
     "data": {
      "text/plain": [
       "NEGATIVE               129\n",
       "REPLACEMENT_THERAPY      3\n",
       "UNDERREPLACEMENT         2\n",
       "Name: CLASS, dtype: int64"
      ]
     },
     "execution_count": 374,
     "metadata": {},
     "output_type": "execute_result"
    }
   ],
   "source": [
    "df = data[\n",
    "    (data['ON_ANTITHYROID_MEDICATION'] == True) | # nejaká liečba štítnej žlazy\n",
    "    (data['I131_TREATMENT'] == True) |    # liečba rádiojódom\n",
    "    (data['LITHIUM'] == True) |    # užíval lithium\n",
    "    (data['THYROID_SURGERY'] == True)   # operácia štítnej žlazy\n",
    "]\n",
    "df['CLASS'].value_counts()"
   ]
  },
  {
   "cell_type": "code",
   "execution_count": 375,
   "metadata": {},
   "outputs": [
    {
     "name": "stdout",
     "output_type": "stream",
     "text": [
      "Počet subjektov, ktoré nám naša podmienka našla: 134\n",
      "Počet subjektov, ktoré sme sa snažili identifikovať: 2713\n",
      "True positive: 129\n",
      "False positive: 5\n",
      "False negative: 2584\n",
      "True negative: 82\n"
     ]
    }
   ],
   "source": [
    "found_all = df['CLASS'].count()\n",
    "print(f\"Počet subjektov, ktoré nám naša podmienka našla: {found_all}\")\n",
    "\n",
    "rel_all = data[((data['CLASS'] == 'NEGATIVE'))].count()\n",
    "rel_all = rel_all['CLASS']\n",
    "rel_all\n",
    "print(f\"Počet subjektov, ktoré sme sa snažili identifikovať: {rel_all}\")\n",
    "\n",
    "tp = df[df['CLASS'] == 'NEGATIVE'].count()\n",
    "tp = tp['CLASS']\n",
    "print(f\"True positive: {tp}\")\n",
    "\n",
    "fp = found_all - tp\n",
    "print(f\"False positive: {fp}\")\n",
    "\n",
    "fn = rel_all - tp\n",
    "print(f\"False negative: {fn}\")\n",
    "\n",
    "tn = data['CLASS'].count() - found_all - fn\n",
    "print(f\"True negative: {tn}\")"
   ]
  },
  {
   "cell_type": "markdown",
   "metadata": {},
   "source": [
    "Pokrytie (recall) daného pravidla"
   ]
  },
  {
   "cell_type": "code",
   "execution_count": 376,
   "metadata": {},
   "outputs": [
    {
     "data": {
      "text/plain": [
       "0.0475488389237007"
      ]
     },
     "execution_count": 376,
     "metadata": {},
     "output_type": "execute_result"
    }
   ],
   "source": [
    "calculate_recall(tp, fn)"
   ]
  },
  {
   "cell_type": "markdown",
   "metadata": {},
   "source": [
    "Presnosť (precision) daného pravidla"
   ]
  },
  {
   "cell_type": "code",
   "execution_count": 377,
   "metadata": {},
   "outputs": [
    {
     "data": {
      "text/plain": [
       "0.9626865671641791"
      ]
     },
     "execution_count": 377,
     "metadata": {},
     "output_type": "execute_result"
    }
   ],
   "source": [
    "calculate_precision(tp, fp)"
   ]
  },
  {
   "cell_type": "markdown",
   "metadata": {},
   "source": [
    "Accuracy daného pravidla"
   ]
  },
  {
   "cell_type": "code",
   "execution_count": 378,
   "metadata": {},
   "outputs": [
    {
     "data": {
      "text/plain": [
       "0.07535714285714286"
      ]
     },
     "execution_count": 378,
     "metadata": {},
     "output_type": "execute_result"
    }
   ],
   "source": [
    "calculate_accuracy(tp, tn, fp, fn)"
   ]
  },
  {
   "cell_type": "markdown",
   "metadata": {},
   "source": [
    "Európania v našom datasete sú zdravý. (nič divné, kedže európania tvoria len veľmi malú časť datasetu)."
   ]
  },
  {
   "cell_type": "code",
   "execution_count": 379,
   "metadata": {},
   "outputs": [
    {
     "data": {
      "text/plain": [
       "NEGATIVE    44\n",
       "Name: CLASS, dtype: int64"
      ]
     },
     "execution_count": 379,
     "metadata": {},
     "output_type": "execute_result"
    }
   ],
   "source": [
    "data['STATE'].value_counts()\n",
    "df = data[(data['STATE'] == 'GERMANY') | \n",
    "          (data['STATE'] == 'POLAND') | \n",
    "          (data['STATE'] == 'ENGLAND') |\n",
    "          (data['STATE'] == 'ENGLAND') |\n",
    "          (data['STATE'] == 'ITALY') |\n",
    "          (data['STATE'] == 'GREECE') | \n",
    "          (data['STATE'] == 'SCOTLAND') \n",
    "         ]\n",
    "df['CLASS'].value_counts()"
   ]
  },
  {
   "cell_type": "code",
   "execution_count": 267,
   "metadata": {},
   "outputs": [
    {
     "data": {
      "text/html": [
       "<div>\n",
       "<style scoped>\n",
       "    .dataframe tbody tr th:only-of-type {\n",
       "        vertical-align: middle;\n",
       "    }\n",
       "\n",
       "    .dataframe tbody tr th {\n",
       "        vertical-align: top;\n",
       "    }\n",
       "\n",
       "    .dataframe thead th {\n",
       "        text-align: right;\n",
       "    }\n",
       "</style>\n",
       "<table border=\"1\" class=\"dataframe\">\n",
       "  <thead>\n",
       "    <tr style=\"text-align: right;\">\n",
       "      <th></th>\n",
       "      <th>AGE</th>\n",
       "      <th>SEX</th>\n",
       "      <th>ON_THYROXINE</th>\n",
       "      <th>QUERY_ON_THYROXINE</th>\n",
       "      <th>ON_ANTITHYROID_MEDICATION</th>\n",
       "      <th>SICK</th>\n",
       "      <th>PREGNANT</th>\n",
       "      <th>THYROID_SURGERY</th>\n",
       "      <th>I131_TREATMENT</th>\n",
       "      <th>QUERY_HYPOTHYROID</th>\n",
       "      <th>...</th>\n",
       "      <th>CAPITAL_GAIN</th>\n",
       "      <th>CAPITAL_LOSS</th>\n",
       "      <th>HOURS_PER_WEEK</th>\n",
       "      <th>DATE_OF_BIRTH</th>\n",
       "      <th>JOB</th>\n",
       "      <th>STATE</th>\n",
       "      <th>MARITAL_STATUS</th>\n",
       "      <th>JOB_SEGMENT</th>\n",
       "      <th>RACE</th>\n",
       "      <th>CLASS</th>\n",
       "    </tr>\n",
       "    <tr>\n",
       "      <th>ID</th>\n",
       "      <th></th>\n",
       "      <th></th>\n",
       "      <th></th>\n",
       "      <th></th>\n",
       "      <th></th>\n",
       "      <th></th>\n",
       "      <th></th>\n",
       "      <th></th>\n",
       "      <th></th>\n",
       "      <th></th>\n",
       "      <th></th>\n",
       "      <th></th>\n",
       "      <th></th>\n",
       "      <th></th>\n",
       "      <th></th>\n",
       "      <th></th>\n",
       "      <th></th>\n",
       "      <th></th>\n",
       "      <th></th>\n",
       "      <th></th>\n",
       "      <th></th>\n",
       "    </tr>\n",
       "  </thead>\n",
       "  <tbody>\n",
       "    <tr>\n",
       "      <th>0</th>\n",
       "      <td>72.0</td>\n",
       "      <td>FEMALE</td>\n",
       "      <td>True</td>\n",
       "      <td>False</td>\n",
       "      <td>False</td>\n",
       "      <td>False</td>\n",
       "      <td>False</td>\n",
       "      <td>False</td>\n",
       "      <td>False</td>\n",
       "      <td>False</td>\n",
       "      <td>...</td>\n",
       "      <td>0.0</td>\n",
       "      <td>0.0</td>\n",
       "      <td>40</td>\n",
       "      <td>1946-02-03</td>\n",
       "      <td>OTHER_SERVICE</td>\n",
       "      <td>UNITED_STATES</td>\n",
       "      <td>WIDOWED</td>\n",
       "      <td>PRIVATE</td>\n",
       "      <td>BLACK</td>\n",
       "      <td>REPLACEMENT_THERAPY</td>\n",
       "    </tr>\n",
       "    <tr>\n",
       "      <th>1</th>\n",
       "      <td>52.0</td>\n",
       "      <td>FEMALE</td>\n",
       "      <td>False</td>\n",
       "      <td>False</td>\n",
       "      <td>False</td>\n",
       "      <td>False</td>\n",
       "      <td>False</td>\n",
       "      <td>False</td>\n",
       "      <td>False</td>\n",
       "      <td>False</td>\n",
       "      <td>...</td>\n",
       "      <td>0.0</td>\n",
       "      <td>0.0</td>\n",
       "      <td>38</td>\n",
       "      <td>1965-08-27</td>\n",
       "      <td>ADM_CLERICAL</td>\n",
       "      <td>UNITED_STATES</td>\n",
       "      <td>SEPARATED</td>\n",
       "      <td>LOCAL_GOV</td>\n",
       "      <td>WHITE</td>\n",
       "      <td>NEGATIVE</td>\n",
       "    </tr>\n",
       "    <tr>\n",
       "      <th>2</th>\n",
       "      <td>62.0</td>\n",
       "      <td>MALE</td>\n",
       "      <td>False</td>\n",
       "      <td>False</td>\n",
       "      <td>False</td>\n",
       "      <td>False</td>\n",
       "      <td>False</td>\n",
       "      <td>False</td>\n",
       "      <td>False</td>\n",
       "      <td>False</td>\n",
       "      <td>...</td>\n",
       "      <td>0.0</td>\n",
       "      <td>0.0</td>\n",
       "      <td>45</td>\n",
       "      <td>1955-04-15</td>\n",
       "      <td>SALES</td>\n",
       "      <td>UNITED_STATES</td>\n",
       "      <td>MARRIED_CIV_SPOUSE</td>\n",
       "      <td>PRIVATE</td>\n",
       "      <td>WHITE</td>\n",
       "      <td>NEGATIVE</td>\n",
       "    </tr>\n",
       "    <tr>\n",
       "      <th>3</th>\n",
       "      <td>23.0</td>\n",
       "      <td>FEMALE</td>\n",
       "      <td>False</td>\n",
       "      <td>False</td>\n",
       "      <td>False</td>\n",
       "      <td>False</td>\n",
       "      <td>False</td>\n",
       "      <td>False</td>\n",
       "      <td>False</td>\n",
       "      <td>False</td>\n",
       "      <td>...</td>\n",
       "      <td>0.0</td>\n",
       "      <td>0.0</td>\n",
       "      <td>20</td>\n",
       "      <td>1994-03-26</td>\n",
       "      <td>SALES</td>\n",
       "      <td>UNITED_STATES</td>\n",
       "      <td>NEVER_MARRIED</td>\n",
       "      <td>PRIVATE</td>\n",
       "      <td>BLACK</td>\n",
       "      <td>NEGATIVE</td>\n",
       "    </tr>\n",
       "    <tr>\n",
       "      <th>4</th>\n",
       "      <td>63.0</td>\n",
       "      <td>FEMALE</td>\n",
       "      <td>True</td>\n",
       "      <td>False</td>\n",
       "      <td>False</td>\n",
       "      <td>False</td>\n",
       "      <td>False</td>\n",
       "      <td>False</td>\n",
       "      <td>False</td>\n",
       "      <td>False</td>\n",
       "      <td>...</td>\n",
       "      <td>0.0</td>\n",
       "      <td>0.0</td>\n",
       "      <td>40</td>\n",
       "      <td>1955-01-21</td>\n",
       "      <td>ADM_CLERICAL</td>\n",
       "      <td>UNITED_STATES</td>\n",
       "      <td>NEVER_MARRIED</td>\n",
       "      <td>PRIVATE</td>\n",
       "      <td>WHITE</td>\n",
       "      <td>REPLACEMENT_THERAPY</td>\n",
       "    </tr>\n",
       "    <tr>\n",
       "      <th>5</th>\n",
       "      <td>56.0</td>\n",
       "      <td>FEMALE</td>\n",
       "      <td>False</td>\n",
       "      <td>False</td>\n",
       "      <td>False</td>\n",
       "      <td>False</td>\n",
       "      <td>False</td>\n",
       "      <td>False</td>\n",
       "      <td>False</td>\n",
       "      <td>False</td>\n",
       "      <td>...</td>\n",
       "      <td>0.0</td>\n",
       "      <td>0.0</td>\n",
       "      <td>25</td>\n",
       "      <td>1961-12-10</td>\n",
       "      <td>OTHER_SERVICE</td>\n",
       "      <td>UNITED_STATES</td>\n",
       "      <td>NEVER_MARRIED</td>\n",
       "      <td>PRIVATE</td>\n",
       "      <td>BLACK</td>\n",
       "      <td>NEGATIVE</td>\n",
       "    </tr>\n",
       "    <tr>\n",
       "      <th>6</th>\n",
       "      <td>84.0</td>\n",
       "      <td>FEMALE</td>\n",
       "      <td>False</td>\n",
       "      <td>False</td>\n",
       "      <td>False</td>\n",
       "      <td>False</td>\n",
       "      <td>False</td>\n",
       "      <td>False</td>\n",
       "      <td>False</td>\n",
       "      <td>False</td>\n",
       "      <td>...</td>\n",
       "      <td>0.0</td>\n",
       "      <td>0.0</td>\n",
       "      <td>40</td>\n",
       "      <td>1934-03-03</td>\n",
       "      <td>ADM_CLERICAL</td>\n",
       "      <td>UNITED_STATES</td>\n",
       "      <td>WIDOWED</td>\n",
       "      <td>FEDERAL_GOV</td>\n",
       "      <td>WHITE</td>\n",
       "      <td>NEGATIVE</td>\n",
       "    </tr>\n",
       "    <tr>\n",
       "      <th>7</th>\n",
       "      <td>68.0</td>\n",
       "      <td>NaN</td>\n",
       "      <td>False</td>\n",
       "      <td>False</td>\n",
       "      <td>False</td>\n",
       "      <td>False</td>\n",
       "      <td>False</td>\n",
       "      <td>False</td>\n",
       "      <td>False</td>\n",
       "      <td>False</td>\n",
       "      <td>...</td>\n",
       "      <td>0.0</td>\n",
       "      <td>0.0</td>\n",
       "      <td>45</td>\n",
       "      <td>1949-07-21</td>\n",
       "      <td>ADM_CLERICAL</td>\n",
       "      <td>GERMANY</td>\n",
       "      <td>DIVORCED</td>\n",
       "      <td>PRIVATE</td>\n",
       "      <td>WHITE</td>\n",
       "      <td>NEGATIVE</td>\n",
       "    </tr>\n",
       "    <tr>\n",
       "      <th>8</th>\n",
       "      <td>19.0</td>\n",
       "      <td>MALE</td>\n",
       "      <td>False</td>\n",
       "      <td>False</td>\n",
       "      <td>False</td>\n",
       "      <td>False</td>\n",
       "      <td>False</td>\n",
       "      <td>False</td>\n",
       "      <td>False</td>\n",
       "      <td>False</td>\n",
       "      <td>...</td>\n",
       "      <td>0.0</td>\n",
       "      <td>0.0</td>\n",
       "      <td>20</td>\n",
       "      <td>1999-01-06</td>\n",
       "      <td>SALES</td>\n",
       "      <td>UNITED_STATES</td>\n",
       "      <td>NEVER_MARRIED</td>\n",
       "      <td>PRIVATE</td>\n",
       "      <td>WHITE</td>\n",
       "      <td>NEGATIVE</td>\n",
       "    </tr>\n",
       "    <tr>\n",
       "      <th>9</th>\n",
       "      <td>72.0</td>\n",
       "      <td>MALE</td>\n",
       "      <td>False</td>\n",
       "      <td>False</td>\n",
       "      <td>False</td>\n",
       "      <td>False</td>\n",
       "      <td>False</td>\n",
       "      <td>False</td>\n",
       "      <td>False</td>\n",
       "      <td>False</td>\n",
       "      <td>...</td>\n",
       "      <td>0.0</td>\n",
       "      <td>0.0</td>\n",
       "      <td>16</td>\n",
       "      <td>1945-11-10</td>\n",
       "      <td>OTHER_SERVICE</td>\n",
       "      <td>UNITED_STATES</td>\n",
       "      <td>NEVER_MARRIED</td>\n",
       "      <td>PRIVATE</td>\n",
       "      <td>WHITE</td>\n",
       "      <td>NEGATIVE</td>\n",
       "    </tr>\n",
       "    <tr>\n",
       "      <th>10</th>\n",
       "      <td>18.0</td>\n",
       "      <td>NaN</td>\n",
       "      <td>False</td>\n",
       "      <td>False</td>\n",
       "      <td>False</td>\n",
       "      <td>False</td>\n",
       "      <td>False</td>\n",
       "      <td>False</td>\n",
       "      <td>False</td>\n",
       "      <td>False</td>\n",
       "      <td>...</td>\n",
       "      <td>0.0</td>\n",
       "      <td>0.0</td>\n",
       "      <td>48</td>\n",
       "      <td>1999-09-20</td>\n",
       "      <td>PROF_SPECIALTY</td>\n",
       "      <td>UNITED_STATES</td>\n",
       "      <td>NEVER_MARRIED</td>\n",
       "      <td>SELF_EMP_NOT_INC</td>\n",
       "      <td>WHITE</td>\n",
       "      <td>NEGATIVE</td>\n",
       "    </tr>\n",
       "    <tr>\n",
       "      <th>11</th>\n",
       "      <td>79.0</td>\n",
       "      <td>FEMALE</td>\n",
       "      <td>False</td>\n",
       "      <td>False</td>\n",
       "      <td>False</td>\n",
       "      <td>False</td>\n",
       "      <td>False</td>\n",
       "      <td>False</td>\n",
       "      <td>False</td>\n",
       "      <td>False</td>\n",
       "      <td>...</td>\n",
       "      <td>0.0</td>\n",
       "      <td>0.0</td>\n",
       "      <td>20</td>\n",
       "      <td>NaT</td>\n",
       "      <td>PROF_SPECIALTY</td>\n",
       "      <td>UNITED_STATES</td>\n",
       "      <td>NEVER_MARRIED</td>\n",
       "      <td>PRIVATE</td>\n",
       "      <td>WHITE</td>\n",
       "      <td>NEGATIVE</td>\n",
       "    </tr>\n",
       "    <tr>\n",
       "      <th>12</th>\n",
       "      <td>29.0</td>\n",
       "      <td>FEMALE</td>\n",
       "      <td>False</td>\n",
       "      <td>False</td>\n",
       "      <td>False</td>\n",
       "      <td>False</td>\n",
       "      <td>True</td>\n",
       "      <td>False</td>\n",
       "      <td>False</td>\n",
       "      <td>False</td>\n",
       "      <td>...</td>\n",
       "      <td>0.0</td>\n",
       "      <td>0.0</td>\n",
       "      <td>32</td>\n",
       "      <td>NaT</td>\n",
       "      <td>ADM_CLERICAL</td>\n",
       "      <td>UNITED_STATES</td>\n",
       "      <td>DIVORCED</td>\n",
       "      <td>PRIVATE</td>\n",
       "      <td>BLACK</td>\n",
       "      <td>NEGATIVE</td>\n",
       "    </tr>\n",
       "    <tr>\n",
       "      <th>13</th>\n",
       "      <td>47.0</td>\n",
       "      <td>MALE</td>\n",
       "      <td>False</td>\n",
       "      <td>True</td>\n",
       "      <td>False</td>\n",
       "      <td>False</td>\n",
       "      <td>False</td>\n",
       "      <td>False</td>\n",
       "      <td>False</td>\n",
       "      <td>False</td>\n",
       "      <td>...</td>\n",
       "      <td>0.0</td>\n",
       "      <td>0.0</td>\n",
       "      <td>40</td>\n",
       "      <td>1970-09-28</td>\n",
       "      <td>MACHINE_OP_INSPCT</td>\n",
       "      <td>UNITED_STATES</td>\n",
       "      <td>NEVER_MARRIED</td>\n",
       "      <td>PRIVATE</td>\n",
       "      <td>WHITE</td>\n",
       "      <td>NEGATIVE</td>\n",
       "    </tr>\n",
       "    <tr>\n",
       "      <th>14</th>\n",
       "      <td>75.0</td>\n",
       "      <td>FEMALE</td>\n",
       "      <td>False</td>\n",
       "      <td>False</td>\n",
       "      <td>False</td>\n",
       "      <td>False</td>\n",
       "      <td>False</td>\n",
       "      <td>False</td>\n",
       "      <td>False</td>\n",
       "      <td>False</td>\n",
       "      <td>...</td>\n",
       "      <td>0.0</td>\n",
       "      <td>0.0</td>\n",
       "      <td>40</td>\n",
       "      <td>1942-08-15</td>\n",
       "      <td>EXEC_MANAGERIAL</td>\n",
       "      <td>UNITED_STATES</td>\n",
       "      <td>NEVER_MARRIED</td>\n",
       "      <td>PRIVATE</td>\n",
       "      <td>BLACK</td>\n",
       "      <td>NEGATIVE</td>\n",
       "    </tr>\n",
       "    <tr>\n",
       "      <th>15</th>\n",
       "      <td>44.0</td>\n",
       "      <td>FEMALE</td>\n",
       "      <td>False</td>\n",
       "      <td>False</td>\n",
       "      <td>False</td>\n",
       "      <td>False</td>\n",
       "      <td>False</td>\n",
       "      <td>False</td>\n",
       "      <td>False</td>\n",
       "      <td>False</td>\n",
       "      <td>...</td>\n",
       "      <td>0.0</td>\n",
       "      <td>0.0</td>\n",
       "      <td>12</td>\n",
       "      <td>1973-07-07</td>\n",
       "      <td>PRIV_HOUSE_SERV</td>\n",
       "      <td>UNITED_STATES</td>\n",
       "      <td>DIVORCED</td>\n",
       "      <td>PRIVATE</td>\n",
       "      <td>WHITE</td>\n",
       "      <td>NEGATIVE</td>\n",
       "    </tr>\n",
       "    <tr>\n",
       "      <th>16</th>\n",
       "      <td>38.0</td>\n",
       "      <td>FEMALE</td>\n",
       "      <td>False</td>\n",
       "      <td>False</td>\n",
       "      <td>False</td>\n",
       "      <td>False</td>\n",
       "      <td>False</td>\n",
       "      <td>False</td>\n",
       "      <td>False</td>\n",
       "      <td>False</td>\n",
       "      <td>...</td>\n",
       "      <td>0.0</td>\n",
       "      <td>0.0</td>\n",
       "      <td>40</td>\n",
       "      <td>1979-12-04</td>\n",
       "      <td>EXEC_MANAGERIAL</td>\n",
       "      <td>UNITED_STATES</td>\n",
       "      <td>WIDOWED</td>\n",
       "      <td>SELF_EMP_INC</td>\n",
       "      <td>WHITE</td>\n",
       "      <td>NEGATIVE</td>\n",
       "    </tr>\n",
       "    <tr>\n",
       "      <th>17</th>\n",
       "      <td>78.0</td>\n",
       "      <td>FEMALE</td>\n",
       "      <td>False</td>\n",
       "      <td>False</td>\n",
       "      <td>False</td>\n",
       "      <td>False</td>\n",
       "      <td>False</td>\n",
       "      <td>False</td>\n",
       "      <td>False</td>\n",
       "      <td>False</td>\n",
       "      <td>...</td>\n",
       "      <td>0.0</td>\n",
       "      <td>0.0</td>\n",
       "      <td>40</td>\n",
       "      <td>1940-01-18</td>\n",
       "      <td>MACHINE_OP_INSPCT</td>\n",
       "      <td>UNITED_STATES</td>\n",
       "      <td>NEVER_MARRIED</td>\n",
       "      <td>PRIVATE</td>\n",
       "      <td>BLACK</td>\n",
       "      <td>NEGATIVE</td>\n",
       "    </tr>\n",
       "    <tr>\n",
       "      <th>18</th>\n",
       "      <td>65.0</td>\n",
       "      <td>FEMALE</td>\n",
       "      <td>True</td>\n",
       "      <td>False</td>\n",
       "      <td>False</td>\n",
       "      <td>False</td>\n",
       "      <td>False</td>\n",
       "      <td>False</td>\n",
       "      <td>False</td>\n",
       "      <td>False</td>\n",
       "      <td>...</td>\n",
       "      <td>0.0</td>\n",
       "      <td>0.0</td>\n",
       "      <td>45</td>\n",
       "      <td>1952-10-15</td>\n",
       "      <td>ADM_CLERICAL</td>\n",
       "      <td>UNITED_STATES</td>\n",
       "      <td>DIVORCED</td>\n",
       "      <td>PRIVATE</td>\n",
       "      <td>WHITE</td>\n",
       "      <td>REPLACEMENT_THERAPY</td>\n",
       "    </tr>\n",
       "    <tr>\n",
       "      <th>19</th>\n",
       "      <td>36.0</td>\n",
       "      <td>MALE</td>\n",
       "      <td>False</td>\n",
       "      <td>False</td>\n",
       "      <td>False</td>\n",
       "      <td>False</td>\n",
       "      <td>False</td>\n",
       "      <td>False</td>\n",
       "      <td>False</td>\n",
       "      <td>False</td>\n",
       "      <td>...</td>\n",
       "      <td>0.0</td>\n",
       "      <td>0.0</td>\n",
       "      <td>40</td>\n",
       "      <td>1981-07-19</td>\n",
       "      <td>OTHER_SERVICE</td>\n",
       "      <td>UNITED_STATES</td>\n",
       "      <td>MARRIED_CIV_SPOUSE</td>\n",
       "      <td>PRIVATE</td>\n",
       "      <td>WHITE</td>\n",
       "      <td>NEGATIVE</td>\n",
       "    </tr>\n",
       "    <tr>\n",
       "      <th>20</th>\n",
       "      <td>77.0</td>\n",
       "      <td>MALE</td>\n",
       "      <td>False</td>\n",
       "      <td>False</td>\n",
       "      <td>False</td>\n",
       "      <td>False</td>\n",
       "      <td>False</td>\n",
       "      <td>False</td>\n",
       "      <td>False</td>\n",
       "      <td>False</td>\n",
       "      <td>...</td>\n",
       "      <td>0.0</td>\n",
       "      <td>0.0</td>\n",
       "      <td>12</td>\n",
       "      <td>1940-05-20</td>\n",
       "      <td>FARMING_FISHING</td>\n",
       "      <td>MEXICO</td>\n",
       "      <td>MARRIED_SPOUSE_ABSENT</td>\n",
       "      <td>PRIVATE</td>\n",
       "      <td>WHITE</td>\n",
       "      <td>NEGATIVE</td>\n",
       "    </tr>\n",
       "    <tr>\n",
       "      <th>21</th>\n",
       "      <td>60.0</td>\n",
       "      <td>FEMALE</td>\n",
       "      <td>False</td>\n",
       "      <td>False</td>\n",
       "      <td>False</td>\n",
       "      <td>False</td>\n",
       "      <td>False</td>\n",
       "      <td>False</td>\n",
       "      <td>False</td>\n",
       "      <td>False</td>\n",
       "      <td>...</td>\n",
       "      <td>0.0</td>\n",
       "      <td>0.0</td>\n",
       "      <td>30</td>\n",
       "      <td>1957-04-28</td>\n",
       "      <td>OTHER_SERVICE</td>\n",
       "      <td>UNITED_STATES</td>\n",
       "      <td>SEPARATED</td>\n",
       "      <td>PRIVATE</td>\n",
       "      <td>BLACK</td>\n",
       "      <td>NEGATIVE</td>\n",
       "    </tr>\n",
       "    <tr>\n",
       "      <th>22</th>\n",
       "      <td>19.0</td>\n",
       "      <td>FEMALE</td>\n",
       "      <td>False</td>\n",
       "      <td>False</td>\n",
       "      <td>False</td>\n",
       "      <td>False</td>\n",
       "      <td>False</td>\n",
       "      <td>False</td>\n",
       "      <td>False</td>\n",
       "      <td>False</td>\n",
       "      <td>...</td>\n",
       "      <td>0.0</td>\n",
       "      <td>0.0</td>\n",
       "      <td>35</td>\n",
       "      <td>1998-03-25</td>\n",
       "      <td>OTHER_SERVICE</td>\n",
       "      <td>UNITED_STATES</td>\n",
       "      <td>SEPARATED</td>\n",
       "      <td>PRIVATE</td>\n",
       "      <td>WHITE</td>\n",
       "      <td>NEGATIVE</td>\n",
       "    </tr>\n",
       "    <tr>\n",
       "      <th>23</th>\n",
       "      <td>82.0</td>\n",
       "      <td>FEMALE</td>\n",
       "      <td>False</td>\n",
       "      <td>False</td>\n",
       "      <td>False</td>\n",
       "      <td>False</td>\n",
       "      <td>False</td>\n",
       "      <td>False</td>\n",
       "      <td>False</td>\n",
       "      <td>False</td>\n",
       "      <td>...</td>\n",
       "      <td>0.0</td>\n",
       "      <td>0.0</td>\n",
       "      <td>30</td>\n",
       "      <td>1935-11-23</td>\n",
       "      <td>TRANSPORT_MOVING</td>\n",
       "      <td>UNITED_STATES</td>\n",
       "      <td>SEPARATED</td>\n",
       "      <td>PRIVATE</td>\n",
       "      <td>BLACK</td>\n",
       "      <td>NEGATIVE</td>\n",
       "    </tr>\n",
       "    <tr>\n",
       "      <th>24</th>\n",
       "      <td>69.0</td>\n",
       "      <td>FEMALE</td>\n",
       "      <td>False</td>\n",
       "      <td>False</td>\n",
       "      <td>False</td>\n",
       "      <td>False</td>\n",
       "      <td>False</td>\n",
       "      <td>False</td>\n",
       "      <td>False</td>\n",
       "      <td>False</td>\n",
       "      <td>...</td>\n",
       "      <td>7688.0</td>\n",
       "      <td>0.0</td>\n",
       "      <td>20</td>\n",
       "      <td>1948-08-21</td>\n",
       "      <td>PROF_SPECIALTY</td>\n",
       "      <td>UNITED_STATES</td>\n",
       "      <td>MARRIED_CIV_SPOUSE</td>\n",
       "      <td>PRIVATE</td>\n",
       "      <td>WHITE</td>\n",
       "      <td>NEGATIVE</td>\n",
       "    </tr>\n",
       "    <tr>\n",
       "      <th>25</th>\n",
       "      <td>76.0</td>\n",
       "      <td>FEMALE</td>\n",
       "      <td>False</td>\n",
       "      <td>False</td>\n",
       "      <td>False</td>\n",
       "      <td>False</td>\n",
       "      <td>False</td>\n",
       "      <td>False</td>\n",
       "      <td>False</td>\n",
       "      <td>False</td>\n",
       "      <td>...</td>\n",
       "      <td>0.0</td>\n",
       "      <td>0.0</td>\n",
       "      <td>40</td>\n",
       "      <td>1942-01-24</td>\n",
       "      <td>ADM_CLERICAL</td>\n",
       "      <td>UNITED_STATES</td>\n",
       "      <td>NEVER_MARRIED</td>\n",
       "      <td>PRIVATE</td>\n",
       "      <td>WHITE</td>\n",
       "      <td>NEGATIVE</td>\n",
       "    </tr>\n",
       "    <tr>\n",
       "      <th>26</th>\n",
       "      <td>30.0</td>\n",
       "      <td>FEMALE</td>\n",
       "      <td>False</td>\n",
       "      <td>False</td>\n",
       "      <td>False</td>\n",
       "      <td>False</td>\n",
       "      <td>True</td>\n",
       "      <td>False</td>\n",
       "      <td>False</td>\n",
       "      <td>False</td>\n",
       "      <td>...</td>\n",
       "      <td>0.0</td>\n",
       "      <td>0.0</td>\n",
       "      <td>40</td>\n",
       "      <td>1987-07-21</td>\n",
       "      <td>OTHER_SERVICE</td>\n",
       "      <td>UNITED_STATES</td>\n",
       "      <td>NEVER_MARRIED</td>\n",
       "      <td>PRIVATE</td>\n",
       "      <td>WHITE</td>\n",
       "      <td>NEGATIVE</td>\n",
       "    </tr>\n",
       "    <tr>\n",
       "      <th>27</th>\n",
       "      <td>34.0</td>\n",
       "      <td>FEMALE</td>\n",
       "      <td>False</td>\n",
       "      <td>False</td>\n",
       "      <td>True</td>\n",
       "      <td>False</td>\n",
       "      <td>False</td>\n",
       "      <td>False</td>\n",
       "      <td>False</td>\n",
       "      <td>False</td>\n",
       "      <td>...</td>\n",
       "      <td>0.0</td>\n",
       "      <td>0.0</td>\n",
       "      <td>40</td>\n",
       "      <td>1983-09-21</td>\n",
       "      <td>OTHER_SERVICE</td>\n",
       "      <td>UNITED_STATES</td>\n",
       "      <td>MARRIED_CIV_SPOUSE</td>\n",
       "      <td>LOCAL_GOV</td>\n",
       "      <td>WHITE</td>\n",
       "      <td>NEGATIVE</td>\n",
       "    </tr>\n",
       "    <tr>\n",
       "      <th>28</th>\n",
       "      <td>64.0</td>\n",
       "      <td>FEMALE</td>\n",
       "      <td>True</td>\n",
       "      <td>False</td>\n",
       "      <td>False</td>\n",
       "      <td>False</td>\n",
       "      <td>False</td>\n",
       "      <td>False</td>\n",
       "      <td>False</td>\n",
       "      <td>False</td>\n",
       "      <td>...</td>\n",
       "      <td>0.0</td>\n",
       "      <td>0.0</td>\n",
       "      <td>40</td>\n",
       "      <td>1953-06-10</td>\n",
       "      <td>OTHER_SERVICE</td>\n",
       "      <td>PHILIPPINES</td>\n",
       "      <td>MARRIED_CIV_SPOUSE</td>\n",
       "      <td>PRIVATE</td>\n",
       "      <td>ASIAN_PAC_ISLANDER</td>\n",
       "      <td>UNDERREPLACEMENT</td>\n",
       "    </tr>\n",
       "    <tr>\n",
       "      <th>29</th>\n",
       "      <td>82.0</td>\n",
       "      <td>FEMALE</td>\n",
       "      <td>False</td>\n",
       "      <td>False</td>\n",
       "      <td>False</td>\n",
       "      <td>False</td>\n",
       "      <td>False</td>\n",
       "      <td>False</td>\n",
       "      <td>False</td>\n",
       "      <td>False</td>\n",
       "      <td>...</td>\n",
       "      <td>0.0</td>\n",
       "      <td>0.0</td>\n",
       "      <td>60</td>\n",
       "      <td>1935-08-10</td>\n",
       "      <td>OTHER_SERVICE</td>\n",
       "      <td>UNITED_STATES</td>\n",
       "      <td>SEPARATED</td>\n",
       "      <td>LOCAL_GOV</td>\n",
       "      <td>BLACK</td>\n",
       "      <td>NEGATIVE</td>\n",
       "    </tr>\n",
       "    <tr>\n",
       "      <th>...</th>\n",
       "      <td>...</td>\n",
       "      <td>...</td>\n",
       "      <td>...</td>\n",
       "      <td>...</td>\n",
       "      <td>...</td>\n",
       "      <td>...</td>\n",
       "      <td>...</td>\n",
       "      <td>...</td>\n",
       "      <td>...</td>\n",
       "      <td>...</td>\n",
       "      <td>...</td>\n",
       "      <td>...</td>\n",
       "      <td>...</td>\n",
       "      <td>...</td>\n",
       "      <td>...</td>\n",
       "      <td>...</td>\n",
       "      <td>...</td>\n",
       "      <td>...</td>\n",
       "      <td>...</td>\n",
       "      <td>...</td>\n",
       "      <td>...</td>\n",
       "    </tr>\n",
       "    <tr>\n",
       "      <th>2770</th>\n",
       "      <td>51.0</td>\n",
       "      <td>MALE</td>\n",
       "      <td>False</td>\n",
       "      <td>True</td>\n",
       "      <td>False</td>\n",
       "      <td>False</td>\n",
       "      <td>False</td>\n",
       "      <td>False</td>\n",
       "      <td>False</td>\n",
       "      <td>False</td>\n",
       "      <td>...</td>\n",
       "      <td>0.0</td>\n",
       "      <td>0.0</td>\n",
       "      <td>40</td>\n",
       "      <td>1967-02-08</td>\n",
       "      <td>EXEC_MANAGERIAL</td>\n",
       "      <td>UNITED_STATES</td>\n",
       "      <td>MARRIED_CIV_SPOUSE</td>\n",
       "      <td>PRIVATE</td>\n",
       "      <td>BLACK</td>\n",
       "      <td>NEGATIVE</td>\n",
       "    </tr>\n",
       "    <tr>\n",
       "      <th>2771</th>\n",
       "      <td>34.0</td>\n",
       "      <td>MALE</td>\n",
       "      <td>False</td>\n",
       "      <td>False</td>\n",
       "      <td>False</td>\n",
       "      <td>False</td>\n",
       "      <td>False</td>\n",
       "      <td>False</td>\n",
       "      <td>False</td>\n",
       "      <td>False</td>\n",
       "      <td>...</td>\n",
       "      <td>0.0</td>\n",
       "      <td>0.0</td>\n",
       "      <td>40</td>\n",
       "      <td>NaT</td>\n",
       "      <td>ADM_CLERICAL</td>\n",
       "      <td>UNITED_STATES</td>\n",
       "      <td>NEVER_MARRIED</td>\n",
       "      <td>FEDERAL_GOV</td>\n",
       "      <td>BLACK</td>\n",
       "      <td>NEGATIVE</td>\n",
       "    </tr>\n",
       "    <tr>\n",
       "      <th>2772</th>\n",
       "      <td>25.0</td>\n",
       "      <td>FEMALE</td>\n",
       "      <td>False</td>\n",
       "      <td>False</td>\n",
       "      <td>False</td>\n",
       "      <td>False</td>\n",
       "      <td>False</td>\n",
       "      <td>False</td>\n",
       "      <td>False</td>\n",
       "      <td>False</td>\n",
       "      <td>...</td>\n",
       "      <td>0.0</td>\n",
       "      <td>0.0</td>\n",
       "      <td>35</td>\n",
       "      <td>NaT</td>\n",
       "      <td>ADM_CLERICAL</td>\n",
       "      <td>UNITED_STATES</td>\n",
       "      <td>NEVER_MARRIED</td>\n",
       "      <td>PRIVATE</td>\n",
       "      <td>WHITE</td>\n",
       "      <td>NEGATIVE</td>\n",
       "    </tr>\n",
       "    <tr>\n",
       "      <th>2773</th>\n",
       "      <td>48.0</td>\n",
       "      <td>FEMALE</td>\n",
       "      <td>False</td>\n",
       "      <td>False</td>\n",
       "      <td>False</td>\n",
       "      <td>False</td>\n",
       "      <td>False</td>\n",
       "      <td>False</td>\n",
       "      <td>False</td>\n",
       "      <td>False</td>\n",
       "      <td>...</td>\n",
       "      <td>0.0</td>\n",
       "      <td>0.0</td>\n",
       "      <td>35</td>\n",
       "      <td>1969-06-16</td>\n",
       "      <td>SALES</td>\n",
       "      <td>UNITED_STATES</td>\n",
       "      <td>NEVER_MARRIED</td>\n",
       "      <td>PRIVATE</td>\n",
       "      <td>WHITE</td>\n",
       "      <td>NEGATIVE</td>\n",
       "    </tr>\n",
       "    <tr>\n",
       "      <th>2774</th>\n",
       "      <td>35.0</td>\n",
       "      <td>FEMALE</td>\n",
       "      <td>False</td>\n",
       "      <td>False</td>\n",
       "      <td>False</td>\n",
       "      <td>False</td>\n",
       "      <td>False</td>\n",
       "      <td>False</td>\n",
       "      <td>False</td>\n",
       "      <td>False</td>\n",
       "      <td>...</td>\n",
       "      <td>2202.0</td>\n",
       "      <td>0.0</td>\n",
       "      <td>25</td>\n",
       "      <td>1982-05-02</td>\n",
       "      <td>OTHER_SERVICE</td>\n",
       "      <td>PUERTO_RICO</td>\n",
       "      <td>WIDOWED</td>\n",
       "      <td>PRIVATE</td>\n",
       "      <td>WHITE</td>\n",
       "      <td>NEGATIVE</td>\n",
       "    </tr>\n",
       "    <tr>\n",
       "      <th>2775</th>\n",
       "      <td>58.0</td>\n",
       "      <td>FEMALE</td>\n",
       "      <td>False</td>\n",
       "      <td>False</td>\n",
       "      <td>False</td>\n",
       "      <td>False</td>\n",
       "      <td>False</td>\n",
       "      <td>False</td>\n",
       "      <td>False</td>\n",
       "      <td>True</td>\n",
       "      <td>...</td>\n",
       "      <td>0.0</td>\n",
       "      <td>0.0</td>\n",
       "      <td>40</td>\n",
       "      <td>1959-12-08</td>\n",
       "      <td>EXEC_MANAGERIAL</td>\n",
       "      <td>UNITED_STATES</td>\n",
       "      <td>MARRIED_CIV_SPOUSE</td>\n",
       "      <td>PRIVATE</td>\n",
       "      <td>WHITE</td>\n",
       "      <td>NEGATIVE</td>\n",
       "    </tr>\n",
       "    <tr>\n",
       "      <th>2776</th>\n",
       "      <td>70.0</td>\n",
       "      <td>FEMALE</td>\n",
       "      <td>False</td>\n",
       "      <td>False</td>\n",
       "      <td>False</td>\n",
       "      <td>True</td>\n",
       "      <td>False</td>\n",
       "      <td>False</td>\n",
       "      <td>False</td>\n",
       "      <td>True</td>\n",
       "      <td>...</td>\n",
       "      <td>0.0</td>\n",
       "      <td>0.0</td>\n",
       "      <td>40</td>\n",
       "      <td>1947-04-09</td>\n",
       "      <td>PROF_SPECIALTY</td>\n",
       "      <td>UNITED_STATES</td>\n",
       "      <td>NEVER_MARRIED</td>\n",
       "      <td>PRIVATE</td>\n",
       "      <td>WHITE</td>\n",
       "      <td>NEGATIVE</td>\n",
       "    </tr>\n",
       "    <tr>\n",
       "      <th>2777</th>\n",
       "      <td>83.0</td>\n",
       "      <td>MALE</td>\n",
       "      <td>False</td>\n",
       "      <td>False</td>\n",
       "      <td>False</td>\n",
       "      <td>False</td>\n",
       "      <td>False</td>\n",
       "      <td>False</td>\n",
       "      <td>False</td>\n",
       "      <td>False</td>\n",
       "      <td>...</td>\n",
       "      <td>0.0</td>\n",
       "      <td>0.0</td>\n",
       "      <td>40</td>\n",
       "      <td>1934-08-05</td>\n",
       "      <td>SALES</td>\n",
       "      <td>UNITED_STATES</td>\n",
       "      <td>MARRIED_CIV_SPOUSE</td>\n",
       "      <td>PRIVATE</td>\n",
       "      <td>BLACK</td>\n",
       "      <td>NEGATIVE</td>\n",
       "    </tr>\n",
       "    <tr>\n",
       "      <th>2778</th>\n",
       "      <td>58.0</td>\n",
       "      <td>FEMALE</td>\n",
       "      <td>True</td>\n",
       "      <td>False</td>\n",
       "      <td>False</td>\n",
       "      <td>False</td>\n",
       "      <td>False</td>\n",
       "      <td>False</td>\n",
       "      <td>False</td>\n",
       "      <td>False</td>\n",
       "      <td>...</td>\n",
       "      <td>0.0</td>\n",
       "      <td>0.0</td>\n",
       "      <td>48</td>\n",
       "      <td>1959-06-19</td>\n",
       "      <td>SALES</td>\n",
       "      <td>UNITED_STATES</td>\n",
       "      <td>NEVER_MARRIED</td>\n",
       "      <td>PRIVATE</td>\n",
       "      <td>WHITE</td>\n",
       "      <td>NEGATIVE</td>\n",
       "    </tr>\n",
       "    <tr>\n",
       "      <th>2779</th>\n",
       "      <td>43.0</td>\n",
       "      <td>MALE</td>\n",
       "      <td>False</td>\n",
       "      <td>False</td>\n",
       "      <td>False</td>\n",
       "      <td>False</td>\n",
       "      <td>False</td>\n",
       "      <td>False</td>\n",
       "      <td>False</td>\n",
       "      <td>False</td>\n",
       "      <td>...</td>\n",
       "      <td>0.0</td>\n",
       "      <td>0.0</td>\n",
       "      <td>38</td>\n",
       "      <td>1975-03-10</td>\n",
       "      <td>ADM_CLERICAL</td>\n",
       "      <td>UNITED_STATES</td>\n",
       "      <td>DIVORCED</td>\n",
       "      <td>PRIVATE</td>\n",
       "      <td>BLACK</td>\n",
       "      <td>NEGATIVE</td>\n",
       "    </tr>\n",
       "    <tr>\n",
       "      <th>2780</th>\n",
       "      <td>59.0</td>\n",
       "      <td>FEMALE</td>\n",
       "      <td>True</td>\n",
       "      <td>False</td>\n",
       "      <td>False</td>\n",
       "      <td>False</td>\n",
       "      <td>False</td>\n",
       "      <td>False</td>\n",
       "      <td>False</td>\n",
       "      <td>False</td>\n",
       "      <td>...</td>\n",
       "      <td>0.0</td>\n",
       "      <td>0.0</td>\n",
       "      <td>42</td>\n",
       "      <td>1958-11-04</td>\n",
       "      <td>CRAFT_REPAIR</td>\n",
       "      <td>UNITED_STATES</td>\n",
       "      <td>MARRIED_AF_SPOUSE</td>\n",
       "      <td>PRIVATE</td>\n",
       "      <td>BLACK</td>\n",
       "      <td>NEGATIVE</td>\n",
       "    </tr>\n",
       "    <tr>\n",
       "      <th>2781</th>\n",
       "      <td>29.0</td>\n",
       "      <td>FEMALE</td>\n",
       "      <td>False</td>\n",
       "      <td>False</td>\n",
       "      <td>False</td>\n",
       "      <td>False</td>\n",
       "      <td>True</td>\n",
       "      <td>False</td>\n",
       "      <td>False</td>\n",
       "      <td>False</td>\n",
       "      <td>...</td>\n",
       "      <td>0.0</td>\n",
       "      <td>0.0</td>\n",
       "      <td>20</td>\n",
       "      <td>1989-02-05</td>\n",
       "      <td>SALES</td>\n",
       "      <td>UNITED_STATES</td>\n",
       "      <td>NEVER_MARRIED</td>\n",
       "      <td>PRIVATE</td>\n",
       "      <td>WHITE</td>\n",
       "      <td>NEGATIVE</td>\n",
       "    </tr>\n",
       "    <tr>\n",
       "      <th>2782</th>\n",
       "      <td>70.0</td>\n",
       "      <td>MALE</td>\n",
       "      <td>False</td>\n",
       "      <td>False</td>\n",
       "      <td>False</td>\n",
       "      <td>False</td>\n",
       "      <td>False</td>\n",
       "      <td>False</td>\n",
       "      <td>False</td>\n",
       "      <td>False</td>\n",
       "      <td>...</td>\n",
       "      <td>0.0</td>\n",
       "      <td>0.0</td>\n",
       "      <td>40</td>\n",
       "      <td>1948-02-20</td>\n",
       "      <td>FARMING_FISHING</td>\n",
       "      <td>UNITED_STATES</td>\n",
       "      <td>MARRIED_CIV_SPOUSE</td>\n",
       "      <td>PRIVATE</td>\n",
       "      <td>WHITE</td>\n",
       "      <td>NEGATIVE</td>\n",
       "    </tr>\n",
       "    <tr>\n",
       "      <th>2783</th>\n",
       "      <td>55.0</td>\n",
       "      <td>MALE</td>\n",
       "      <td>False</td>\n",
       "      <td>False</td>\n",
       "      <td>False</td>\n",
       "      <td>False</td>\n",
       "      <td>False</td>\n",
       "      <td>False</td>\n",
       "      <td>False</td>\n",
       "      <td>False</td>\n",
       "      <td>...</td>\n",
       "      <td>0.0</td>\n",
       "      <td>0.0</td>\n",
       "      <td>40</td>\n",
       "      <td>1962-06-23</td>\n",
       "      <td>TECH_SUPPORT</td>\n",
       "      <td>UNITED_STATES</td>\n",
       "      <td>MARRIED_CIV_SPOUSE</td>\n",
       "      <td>PRIVATE</td>\n",
       "      <td>WHITE</td>\n",
       "      <td>NEGATIVE</td>\n",
       "    </tr>\n",
       "    <tr>\n",
       "      <th>2784</th>\n",
       "      <td>45.0</td>\n",
       "      <td>FEMALE</td>\n",
       "      <td>False</td>\n",
       "      <td>False</td>\n",
       "      <td>False</td>\n",
       "      <td>False</td>\n",
       "      <td>False</td>\n",
       "      <td>False</td>\n",
       "      <td>False</td>\n",
       "      <td>False</td>\n",
       "      <td>...</td>\n",
       "      <td>0.0</td>\n",
       "      <td>0.0</td>\n",
       "      <td>40</td>\n",
       "      <td>1972-12-28</td>\n",
       "      <td>MACHINE_OP_INSPCT</td>\n",
       "      <td>UNITED_STATES</td>\n",
       "      <td>DIVORCED</td>\n",
       "      <td>PRIVATE</td>\n",
       "      <td>WHITE</td>\n",
       "      <td>NEGATIVE</td>\n",
       "    </tr>\n",
       "    <tr>\n",
       "      <th>2785</th>\n",
       "      <td>46.0</td>\n",
       "      <td>FEMALE</td>\n",
       "      <td>False</td>\n",
       "      <td>False</td>\n",
       "      <td>False</td>\n",
       "      <td>False</td>\n",
       "      <td>False</td>\n",
       "      <td>False</td>\n",
       "      <td>False</td>\n",
       "      <td>False</td>\n",
       "      <td>...</td>\n",
       "      <td>0.0</td>\n",
       "      <td>0.0</td>\n",
       "      <td>40</td>\n",
       "      <td>1971-12-08</td>\n",
       "      <td>CRAFT_REPAIR</td>\n",
       "      <td>MEXICO</td>\n",
       "      <td>SEPARATED</td>\n",
       "      <td>PRIVATE</td>\n",
       "      <td>WHITE</td>\n",
       "      <td>NEGATIVE</td>\n",
       "    </tr>\n",
       "    <tr>\n",
       "      <th>2786</th>\n",
       "      <td>57.0</td>\n",
       "      <td>FEMALE</td>\n",
       "      <td>False</td>\n",
       "      <td>False</td>\n",
       "      <td>False</td>\n",
       "      <td>False</td>\n",
       "      <td>False</td>\n",
       "      <td>False</td>\n",
       "      <td>False</td>\n",
       "      <td>False</td>\n",
       "      <td>...</td>\n",
       "      <td>0.0</td>\n",
       "      <td>0.0</td>\n",
       "      <td>25</td>\n",
       "      <td>1961-03-11</td>\n",
       "      <td>OTHER_SERVICE</td>\n",
       "      <td>UNITED_STATES</td>\n",
       "      <td>NEVER_MARRIED</td>\n",
       "      <td>PRIVATE</td>\n",
       "      <td>WHITE</td>\n",
       "      <td>NEGATIVE</td>\n",
       "    </tr>\n",
       "    <tr>\n",
       "      <th>2787</th>\n",
       "      <td>73.0</td>\n",
       "      <td>FEMALE</td>\n",
       "      <td>True</td>\n",
       "      <td>False</td>\n",
       "      <td>False</td>\n",
       "      <td>False</td>\n",
       "      <td>False</td>\n",
       "      <td>False</td>\n",
       "      <td>False</td>\n",
       "      <td>False</td>\n",
       "      <td>...</td>\n",
       "      <td>0.0</td>\n",
       "      <td>0.0</td>\n",
       "      <td>45</td>\n",
       "      <td>1944-10-30</td>\n",
       "      <td>TECH_SUPPORT</td>\n",
       "      <td>UNITED_STATES</td>\n",
       "      <td>NEVER_MARRIED</td>\n",
       "      <td>PRIVATE</td>\n",
       "      <td>WHITE</td>\n",
       "      <td>NEGATIVE</td>\n",
       "    </tr>\n",
       "    <tr>\n",
       "      <th>2788</th>\n",
       "      <td>53.0</td>\n",
       "      <td>FEMALE</td>\n",
       "      <td>False</td>\n",
       "      <td>False</td>\n",
       "      <td>False</td>\n",
       "      <td>False</td>\n",
       "      <td>False</td>\n",
       "      <td>False</td>\n",
       "      <td>False</td>\n",
       "      <td>False</td>\n",
       "      <td>...</td>\n",
       "      <td>0.0</td>\n",
       "      <td>0.0</td>\n",
       "      <td>40</td>\n",
       "      <td>1964-10-14</td>\n",
       "      <td>ADM_CLERICAL</td>\n",
       "      <td>UNITED_STATES</td>\n",
       "      <td>DIVORCED</td>\n",
       "      <td>PRIVATE</td>\n",
       "      <td>WHITE</td>\n",
       "      <td>NEGATIVE</td>\n",
       "    </tr>\n",
       "    <tr>\n",
       "      <th>2789</th>\n",
       "      <td>70.0</td>\n",
       "      <td>FEMALE</td>\n",
       "      <td>False</td>\n",
       "      <td>False</td>\n",
       "      <td>False</td>\n",
       "      <td>False</td>\n",
       "      <td>False</td>\n",
       "      <td>False</td>\n",
       "      <td>False</td>\n",
       "      <td>False</td>\n",
       "      <td>...</td>\n",
       "      <td>0.0</td>\n",
       "      <td>0.0</td>\n",
       "      <td>40</td>\n",
       "      <td>1948-01-31</td>\n",
       "      <td>SALES</td>\n",
       "      <td>UNITED_STATES</td>\n",
       "      <td>NEVER_MARRIED</td>\n",
       "      <td>PRIVATE</td>\n",
       "      <td>WHITE</td>\n",
       "      <td>NEGATIVE</td>\n",
       "    </tr>\n",
       "    <tr>\n",
       "      <th>2790</th>\n",
       "      <td>36.0</td>\n",
       "      <td>FEMALE</td>\n",
       "      <td>False</td>\n",
       "      <td>False</td>\n",
       "      <td>False</td>\n",
       "      <td>False</td>\n",
       "      <td>False</td>\n",
       "      <td>False</td>\n",
       "      <td>False</td>\n",
       "      <td>True</td>\n",
       "      <td>...</td>\n",
       "      <td>0.0</td>\n",
       "      <td>0.0</td>\n",
       "      <td>40</td>\n",
       "      <td>1981-10-08</td>\n",
       "      <td>ADM_CLERICAL</td>\n",
       "      <td>UNITED_STATES</td>\n",
       "      <td>DIVORCED</td>\n",
       "      <td>PRIVATE</td>\n",
       "      <td>WHITE</td>\n",
       "      <td>NEGATIVE</td>\n",
       "    </tr>\n",
       "    <tr>\n",
       "      <th>2791</th>\n",
       "      <td>20.0</td>\n",
       "      <td>FEMALE</td>\n",
       "      <td>False</td>\n",
       "      <td>False</td>\n",
       "      <td>False</td>\n",
       "      <td>False</td>\n",
       "      <td>False</td>\n",
       "      <td>False</td>\n",
       "      <td>False</td>\n",
       "      <td>False</td>\n",
       "      <td>...</td>\n",
       "      <td>0.0</td>\n",
       "      <td>0.0</td>\n",
       "      <td>40</td>\n",
       "      <td>NaT</td>\n",
       "      <td>SALES</td>\n",
       "      <td>UNITED_STATES</td>\n",
       "      <td>MARRIED_CIV_SPOUSE</td>\n",
       "      <td>PRIVATE</td>\n",
       "      <td>AMER_INDIAN_ESKIMO</td>\n",
       "      <td>NEGATIVE</td>\n",
       "    </tr>\n",
       "    <tr>\n",
       "      <th>2792</th>\n",
       "      <td>75.0</td>\n",
       "      <td>MALE</td>\n",
       "      <td>False</td>\n",
       "      <td>False</td>\n",
       "      <td>False</td>\n",
       "      <td>False</td>\n",
       "      <td>False</td>\n",
       "      <td>False</td>\n",
       "      <td>False</td>\n",
       "      <td>False</td>\n",
       "      <td>...</td>\n",
       "      <td>0.0</td>\n",
       "      <td>1902.0</td>\n",
       "      <td>43</td>\n",
       "      <td>1942-08-16</td>\n",
       "      <td>PROF_SPECIALTY</td>\n",
       "      <td>UNITED_STATES</td>\n",
       "      <td>MARRIED_CIV_SPOUSE</td>\n",
       "      <td>PRIVATE</td>\n",
       "      <td>WHITE</td>\n",
       "      <td>NEGATIVE</td>\n",
       "    </tr>\n",
       "    <tr>\n",
       "      <th>2793</th>\n",
       "      <td>82.0</td>\n",
       "      <td>MALE</td>\n",
       "      <td>False</td>\n",
       "      <td>False</td>\n",
       "      <td>False</td>\n",
       "      <td>False</td>\n",
       "      <td>False</td>\n",
       "      <td>False</td>\n",
       "      <td>False</td>\n",
       "      <td>False</td>\n",
       "      <td>...</td>\n",
       "      <td>0.0</td>\n",
       "      <td>0.0</td>\n",
       "      <td>50</td>\n",
       "      <td>1935-06-12</td>\n",
       "      <td>PROF_SPECIALTY</td>\n",
       "      <td>UNITED_STATES</td>\n",
       "      <td>NEVER_MARRIED</td>\n",
       "      <td>LOCAL_GOV</td>\n",
       "      <td>WHITE</td>\n",
       "      <td>NEGATIVE</td>\n",
       "    </tr>\n",
       "    <tr>\n",
       "      <th>2794</th>\n",
       "      <td>13.0</td>\n",
       "      <td>MALE</td>\n",
       "      <td>False</td>\n",
       "      <td>False</td>\n",
       "      <td>False</td>\n",
       "      <td>False</td>\n",
       "      <td>False</td>\n",
       "      <td>False</td>\n",
       "      <td>False</td>\n",
       "      <td>False</td>\n",
       "      <td>...</td>\n",
       "      <td>0.0</td>\n",
       "      <td>0.0</td>\n",
       "      <td>35</td>\n",
       "      <td>2004-11-10</td>\n",
       "      <td>OTHER_SERVICE</td>\n",
       "      <td>UNITED_STATES</td>\n",
       "      <td>NEVER_MARRIED</td>\n",
       "      <td>PRIVATE</td>\n",
       "      <td>WHITE</td>\n",
       "      <td>NEGATIVE</td>\n",
       "    </tr>\n",
       "    <tr>\n",
       "      <th>2795</th>\n",
       "      <td>64.0</td>\n",
       "      <td>FEMALE</td>\n",
       "      <td>False</td>\n",
       "      <td>False</td>\n",
       "      <td>False</td>\n",
       "      <td>False</td>\n",
       "      <td>False</td>\n",
       "      <td>False</td>\n",
       "      <td>False</td>\n",
       "      <td>False</td>\n",
       "      <td>...</td>\n",
       "      <td>0.0</td>\n",
       "      <td>0.0</td>\n",
       "      <td>6</td>\n",
       "      <td>1953-08-04</td>\n",
       "      <td>ADM_CLERICAL</td>\n",
       "      <td>UNITED_STATES</td>\n",
       "      <td>NEVER_MARRIED</td>\n",
       "      <td>PRIVATE</td>\n",
       "      <td>WHITE</td>\n",
       "      <td>NEGATIVE</td>\n",
       "    </tr>\n",
       "    <tr>\n",
       "      <th>2796</th>\n",
       "      <td>22.0</td>\n",
       "      <td>MALE</td>\n",
       "      <td>False</td>\n",
       "      <td>False</td>\n",
       "      <td>False</td>\n",
       "      <td>False</td>\n",
       "      <td>False</td>\n",
       "      <td>False</td>\n",
       "      <td>False</td>\n",
       "      <td>False</td>\n",
       "      <td>...</td>\n",
       "      <td>0.0</td>\n",
       "      <td>0.0</td>\n",
       "      <td>40</td>\n",
       "      <td>1995-11-21</td>\n",
       "      <td>ADM_CLERICAL</td>\n",
       "      <td>UNITED_STATES</td>\n",
       "      <td>MARRIED_CIV_SPOUSE</td>\n",
       "      <td>PRIVATE</td>\n",
       "      <td>WHITE</td>\n",
       "      <td>NEGATIVE</td>\n",
       "    </tr>\n",
       "    <tr>\n",
       "      <th>2797</th>\n",
       "      <td>59.0</td>\n",
       "      <td>FEMALE</td>\n",
       "      <td>False</td>\n",
       "      <td>False</td>\n",
       "      <td>False</td>\n",
       "      <td>False</td>\n",
       "      <td>False</td>\n",
       "      <td>False</td>\n",
       "      <td>False</td>\n",
       "      <td>False</td>\n",
       "      <td>...</td>\n",
       "      <td>0.0</td>\n",
       "      <td>0.0</td>\n",
       "      <td>75</td>\n",
       "      <td>1958-07-20</td>\n",
       "      <td>OTHER_SERVICE</td>\n",
       "      <td>UNITED_STATES</td>\n",
       "      <td>NEVER_MARRIED</td>\n",
       "      <td>PRIVATE</td>\n",
       "      <td>BLACK</td>\n",
       "      <td>NEGATIVE</td>\n",
       "    </tr>\n",
       "    <tr>\n",
       "      <th>2798</th>\n",
       "      <td>54.0</td>\n",
       "      <td>NaN</td>\n",
       "      <td>False</td>\n",
       "      <td>False</td>\n",
       "      <td>False</td>\n",
       "      <td>False</td>\n",
       "      <td>False</td>\n",
       "      <td>False</td>\n",
       "      <td>False</td>\n",
       "      <td>False</td>\n",
       "      <td>...</td>\n",
       "      <td>NaN</td>\n",
       "      <td>0.0</td>\n",
       "      <td>40</td>\n",
       "      <td>1963-03-27</td>\n",
       "      <td>PROF_SPECIALTY</td>\n",
       "      <td>UNITED_STATES</td>\n",
       "      <td>NEVER_MARRIED</td>\n",
       "      <td>PRIVATE</td>\n",
       "      <td>WHITE</td>\n",
       "      <td>NEGATIVE</td>\n",
       "    </tr>\n",
       "    <tr>\n",
       "      <th>2799</th>\n",
       "      <td>79.0</td>\n",
       "      <td>FEMALE</td>\n",
       "      <td>False</td>\n",
       "      <td>False</td>\n",
       "      <td>False</td>\n",
       "      <td>False</td>\n",
       "      <td>False</td>\n",
       "      <td>False</td>\n",
       "      <td>False</td>\n",
       "      <td>False</td>\n",
       "      <td>...</td>\n",
       "      <td>NaN</td>\n",
       "      <td>0.0</td>\n",
       "      <td>40</td>\n",
       "      <td>1938-04-09</td>\n",
       "      <td>PROF_SPECIALTY</td>\n",
       "      <td>UNITED_STATES</td>\n",
       "      <td>NEVER_MARRIED</td>\n",
       "      <td>PRIVATE</td>\n",
       "      <td>WHITE</td>\n",
       "      <td>NEGATIVE</td>\n",
       "    </tr>\n",
       "  </tbody>\n",
       "</table>\n",
       "<p>2798 rows × 41 columns</p>\n",
       "</div>"
      ],
      "text/plain": [
       "       AGE     SEX  ON_THYROXINE  QUERY_ON_THYROXINE  \\\n",
       "ID                                                     \n",
       "0     72.0  FEMALE          True               False   \n",
       "1     52.0  FEMALE         False               False   \n",
       "2     62.0    MALE         False               False   \n",
       "3     23.0  FEMALE         False               False   \n",
       "4     63.0  FEMALE          True               False   \n",
       "5     56.0  FEMALE         False               False   \n",
       "6     84.0  FEMALE         False               False   \n",
       "7     68.0     NaN         False               False   \n",
       "8     19.0    MALE         False               False   \n",
       "9     72.0    MALE         False               False   \n",
       "10    18.0     NaN         False               False   \n",
       "11    79.0  FEMALE         False               False   \n",
       "12    29.0  FEMALE         False               False   \n",
       "13    47.0    MALE         False                True   \n",
       "14    75.0  FEMALE         False               False   \n",
       "15    44.0  FEMALE         False               False   \n",
       "16    38.0  FEMALE         False               False   \n",
       "17    78.0  FEMALE         False               False   \n",
       "18    65.0  FEMALE          True               False   \n",
       "19    36.0    MALE         False               False   \n",
       "20    77.0    MALE         False               False   \n",
       "21    60.0  FEMALE         False               False   \n",
       "22    19.0  FEMALE         False               False   \n",
       "23    82.0  FEMALE         False               False   \n",
       "24    69.0  FEMALE         False               False   \n",
       "25    76.0  FEMALE         False               False   \n",
       "26    30.0  FEMALE         False               False   \n",
       "27    34.0  FEMALE         False               False   \n",
       "28    64.0  FEMALE          True               False   \n",
       "29    82.0  FEMALE         False               False   \n",
       "...    ...     ...           ...                 ...   \n",
       "2770  51.0    MALE         False                True   \n",
       "2771  34.0    MALE         False               False   \n",
       "2772  25.0  FEMALE         False               False   \n",
       "2773  48.0  FEMALE         False               False   \n",
       "2774  35.0  FEMALE         False               False   \n",
       "2775  58.0  FEMALE         False               False   \n",
       "2776  70.0  FEMALE         False               False   \n",
       "2777  83.0    MALE         False               False   \n",
       "2778  58.0  FEMALE          True               False   \n",
       "2779  43.0    MALE         False               False   \n",
       "2780  59.0  FEMALE          True               False   \n",
       "2781  29.0  FEMALE         False               False   \n",
       "2782  70.0    MALE         False               False   \n",
       "2783  55.0    MALE         False               False   \n",
       "2784  45.0  FEMALE         False               False   \n",
       "2785  46.0  FEMALE         False               False   \n",
       "2786  57.0  FEMALE         False               False   \n",
       "2787  73.0  FEMALE          True               False   \n",
       "2788  53.0  FEMALE         False               False   \n",
       "2789  70.0  FEMALE         False               False   \n",
       "2790  36.0  FEMALE         False               False   \n",
       "2791  20.0  FEMALE         False               False   \n",
       "2792  75.0    MALE         False               False   \n",
       "2793  82.0    MALE         False               False   \n",
       "2794  13.0    MALE         False               False   \n",
       "2795  64.0  FEMALE         False               False   \n",
       "2796  22.0    MALE         False               False   \n",
       "2797  59.0  FEMALE         False               False   \n",
       "2798  54.0     NaN         False               False   \n",
       "2799  79.0  FEMALE         False               False   \n",
       "\n",
       "      ON_ANTITHYROID_MEDICATION   SICK  PREGNANT  THYROID_SURGERY  \\\n",
       "ID                                                                  \n",
       "0                         False  False     False            False   \n",
       "1                         False  False     False            False   \n",
       "2                         False  False     False            False   \n",
       "3                         False  False     False            False   \n",
       "4                         False  False     False            False   \n",
       "5                         False  False     False            False   \n",
       "6                         False  False     False            False   \n",
       "7                         False  False     False            False   \n",
       "8                         False  False     False            False   \n",
       "9                         False  False     False            False   \n",
       "10                        False  False     False            False   \n",
       "11                        False  False     False            False   \n",
       "12                        False  False      True            False   \n",
       "13                        False  False     False            False   \n",
       "14                        False  False     False            False   \n",
       "15                        False  False     False            False   \n",
       "16                        False  False     False            False   \n",
       "17                        False  False     False            False   \n",
       "18                        False  False     False            False   \n",
       "19                        False  False     False            False   \n",
       "20                        False  False     False            False   \n",
       "21                        False  False     False            False   \n",
       "22                        False  False     False            False   \n",
       "23                        False  False     False            False   \n",
       "24                        False  False     False            False   \n",
       "25                        False  False     False            False   \n",
       "26                        False  False      True            False   \n",
       "27                         True  False     False            False   \n",
       "28                        False  False     False            False   \n",
       "29                        False  False     False            False   \n",
       "...                         ...    ...       ...              ...   \n",
       "2770                      False  False     False            False   \n",
       "2771                      False  False     False            False   \n",
       "2772                      False  False     False            False   \n",
       "2773                      False  False     False            False   \n",
       "2774                      False  False     False            False   \n",
       "2775                      False  False     False            False   \n",
       "2776                      False   True     False            False   \n",
       "2777                      False  False     False            False   \n",
       "2778                      False  False     False            False   \n",
       "2779                      False  False     False            False   \n",
       "2780                      False  False     False            False   \n",
       "2781                      False  False      True            False   \n",
       "2782                      False  False     False            False   \n",
       "2783                      False  False     False            False   \n",
       "2784                      False  False     False            False   \n",
       "2785                      False  False     False            False   \n",
       "2786                      False  False     False            False   \n",
       "2787                      False  False     False            False   \n",
       "2788                      False  False     False            False   \n",
       "2789                      False  False     False            False   \n",
       "2790                      False  False     False            False   \n",
       "2791                      False  False     False            False   \n",
       "2792                      False  False     False            False   \n",
       "2793                      False  False     False            False   \n",
       "2794                      False  False     False            False   \n",
       "2795                      False  False     False            False   \n",
       "2796                      False  False     False            False   \n",
       "2797                      False  False     False            False   \n",
       "2798                      False  False     False            False   \n",
       "2799                      False  False     False            False   \n",
       "\n",
       "      I131_TREATMENT  QUERY_HYPOTHYROID         ...           CAPITAL_GAIN  \\\n",
       "ID                                              ...                          \n",
       "0              False              False         ...                    0.0   \n",
       "1              False              False         ...                    0.0   \n",
       "2              False              False         ...                    0.0   \n",
       "3              False              False         ...                    0.0   \n",
       "4              False              False         ...                    0.0   \n",
       "5              False              False         ...                    0.0   \n",
       "6              False              False         ...                    0.0   \n",
       "7              False              False         ...                    0.0   \n",
       "8              False              False         ...                    0.0   \n",
       "9              False              False         ...                    0.0   \n",
       "10             False              False         ...                    0.0   \n",
       "11             False              False         ...                    0.0   \n",
       "12             False              False         ...                    0.0   \n",
       "13             False              False         ...                    0.0   \n",
       "14             False              False         ...                    0.0   \n",
       "15             False              False         ...                    0.0   \n",
       "16             False              False         ...                    0.0   \n",
       "17             False              False         ...                    0.0   \n",
       "18             False              False         ...                    0.0   \n",
       "19             False              False         ...                    0.0   \n",
       "20             False              False         ...                    0.0   \n",
       "21             False              False         ...                    0.0   \n",
       "22             False              False         ...                    0.0   \n",
       "23             False              False         ...                    0.0   \n",
       "24             False              False         ...                 7688.0   \n",
       "25             False              False         ...                    0.0   \n",
       "26             False              False         ...                    0.0   \n",
       "27             False              False         ...                    0.0   \n",
       "28             False              False         ...                    0.0   \n",
       "29             False              False         ...                    0.0   \n",
       "...              ...                ...         ...                    ...   \n",
       "2770           False              False         ...                    0.0   \n",
       "2771           False              False         ...                    0.0   \n",
       "2772           False              False         ...                    0.0   \n",
       "2773           False              False         ...                    0.0   \n",
       "2774           False              False         ...                 2202.0   \n",
       "2775           False               True         ...                    0.0   \n",
       "2776           False               True         ...                    0.0   \n",
       "2777           False              False         ...                    0.0   \n",
       "2778           False              False         ...                    0.0   \n",
       "2779           False              False         ...                    0.0   \n",
       "2780           False              False         ...                    0.0   \n",
       "2781           False              False         ...                    0.0   \n",
       "2782           False              False         ...                    0.0   \n",
       "2783           False              False         ...                    0.0   \n",
       "2784           False              False         ...                    0.0   \n",
       "2785           False              False         ...                    0.0   \n",
       "2786           False              False         ...                    0.0   \n",
       "2787           False              False         ...                    0.0   \n",
       "2788           False              False         ...                    0.0   \n",
       "2789           False              False         ...                    0.0   \n",
       "2790           False               True         ...                    0.0   \n",
       "2791           False              False         ...                    0.0   \n",
       "2792           False              False         ...                    0.0   \n",
       "2793           False              False         ...                    0.0   \n",
       "2794           False              False         ...                    0.0   \n",
       "2795           False              False         ...                    0.0   \n",
       "2796           False              False         ...                    0.0   \n",
       "2797           False              False         ...                    0.0   \n",
       "2798           False              False         ...                    NaN   \n",
       "2799           False              False         ...                    NaN   \n",
       "\n",
       "      CAPITAL_LOSS  HOURS_PER_WEEK  DATE_OF_BIRTH                JOB  \\\n",
       "ID                                                                     \n",
       "0              0.0              40     1946-02-03      OTHER_SERVICE   \n",
       "1              0.0              38     1965-08-27       ADM_CLERICAL   \n",
       "2              0.0              45     1955-04-15              SALES   \n",
       "3              0.0              20     1994-03-26              SALES   \n",
       "4              0.0              40     1955-01-21       ADM_CLERICAL   \n",
       "5              0.0              25     1961-12-10      OTHER_SERVICE   \n",
       "6              0.0              40     1934-03-03       ADM_CLERICAL   \n",
       "7              0.0              45     1949-07-21       ADM_CLERICAL   \n",
       "8              0.0              20     1999-01-06              SALES   \n",
       "9              0.0              16     1945-11-10      OTHER_SERVICE   \n",
       "10             0.0              48     1999-09-20     PROF_SPECIALTY   \n",
       "11             0.0              20            NaT     PROF_SPECIALTY   \n",
       "12             0.0              32            NaT       ADM_CLERICAL   \n",
       "13             0.0              40     1970-09-28  MACHINE_OP_INSPCT   \n",
       "14             0.0              40     1942-08-15    EXEC_MANAGERIAL   \n",
       "15             0.0              12     1973-07-07    PRIV_HOUSE_SERV   \n",
       "16             0.0              40     1979-12-04    EXEC_MANAGERIAL   \n",
       "17             0.0              40     1940-01-18  MACHINE_OP_INSPCT   \n",
       "18             0.0              45     1952-10-15       ADM_CLERICAL   \n",
       "19             0.0              40     1981-07-19      OTHER_SERVICE   \n",
       "20             0.0              12     1940-05-20    FARMING_FISHING   \n",
       "21             0.0              30     1957-04-28      OTHER_SERVICE   \n",
       "22             0.0              35     1998-03-25      OTHER_SERVICE   \n",
       "23             0.0              30     1935-11-23   TRANSPORT_MOVING   \n",
       "24             0.0              20     1948-08-21     PROF_SPECIALTY   \n",
       "25             0.0              40     1942-01-24       ADM_CLERICAL   \n",
       "26             0.0              40     1987-07-21      OTHER_SERVICE   \n",
       "27             0.0              40     1983-09-21      OTHER_SERVICE   \n",
       "28             0.0              40     1953-06-10      OTHER_SERVICE   \n",
       "29             0.0              60     1935-08-10      OTHER_SERVICE   \n",
       "...            ...             ...            ...                ...   \n",
       "2770           0.0              40     1967-02-08    EXEC_MANAGERIAL   \n",
       "2771           0.0              40            NaT       ADM_CLERICAL   \n",
       "2772           0.0              35            NaT       ADM_CLERICAL   \n",
       "2773           0.0              35     1969-06-16              SALES   \n",
       "2774           0.0              25     1982-05-02      OTHER_SERVICE   \n",
       "2775           0.0              40     1959-12-08    EXEC_MANAGERIAL   \n",
       "2776           0.0              40     1947-04-09     PROF_SPECIALTY   \n",
       "2777           0.0              40     1934-08-05              SALES   \n",
       "2778           0.0              48     1959-06-19              SALES   \n",
       "2779           0.0              38     1975-03-10       ADM_CLERICAL   \n",
       "2780           0.0              42     1958-11-04       CRAFT_REPAIR   \n",
       "2781           0.0              20     1989-02-05              SALES   \n",
       "2782           0.0              40     1948-02-20    FARMING_FISHING   \n",
       "2783           0.0              40     1962-06-23       TECH_SUPPORT   \n",
       "2784           0.0              40     1972-12-28  MACHINE_OP_INSPCT   \n",
       "2785           0.0              40     1971-12-08       CRAFT_REPAIR   \n",
       "2786           0.0              25     1961-03-11      OTHER_SERVICE   \n",
       "2787           0.0              45     1944-10-30       TECH_SUPPORT   \n",
       "2788           0.0              40     1964-10-14       ADM_CLERICAL   \n",
       "2789           0.0              40     1948-01-31              SALES   \n",
       "2790           0.0              40     1981-10-08       ADM_CLERICAL   \n",
       "2791           0.0              40            NaT              SALES   \n",
       "2792        1902.0              43     1942-08-16     PROF_SPECIALTY   \n",
       "2793           0.0              50     1935-06-12     PROF_SPECIALTY   \n",
       "2794           0.0              35     2004-11-10      OTHER_SERVICE   \n",
       "2795           0.0               6     1953-08-04       ADM_CLERICAL   \n",
       "2796           0.0              40     1995-11-21       ADM_CLERICAL   \n",
       "2797           0.0              75     1958-07-20      OTHER_SERVICE   \n",
       "2798           0.0              40     1963-03-27     PROF_SPECIALTY   \n",
       "2799           0.0              40     1938-04-09     PROF_SPECIALTY   \n",
       "\n",
       "              STATE         MARITAL_STATUS       JOB_SEGMENT  \\\n",
       "ID                                                             \n",
       "0     UNITED_STATES                WIDOWED           PRIVATE   \n",
       "1     UNITED_STATES              SEPARATED         LOCAL_GOV   \n",
       "2     UNITED_STATES     MARRIED_CIV_SPOUSE           PRIVATE   \n",
       "3     UNITED_STATES          NEVER_MARRIED           PRIVATE   \n",
       "4     UNITED_STATES          NEVER_MARRIED           PRIVATE   \n",
       "5     UNITED_STATES          NEVER_MARRIED           PRIVATE   \n",
       "6     UNITED_STATES                WIDOWED       FEDERAL_GOV   \n",
       "7           GERMANY               DIVORCED           PRIVATE   \n",
       "8     UNITED_STATES          NEVER_MARRIED           PRIVATE   \n",
       "9     UNITED_STATES          NEVER_MARRIED           PRIVATE   \n",
       "10    UNITED_STATES          NEVER_MARRIED  SELF_EMP_NOT_INC   \n",
       "11    UNITED_STATES          NEVER_MARRIED           PRIVATE   \n",
       "12    UNITED_STATES               DIVORCED           PRIVATE   \n",
       "13    UNITED_STATES          NEVER_MARRIED           PRIVATE   \n",
       "14    UNITED_STATES          NEVER_MARRIED           PRIVATE   \n",
       "15    UNITED_STATES               DIVORCED           PRIVATE   \n",
       "16    UNITED_STATES                WIDOWED      SELF_EMP_INC   \n",
       "17    UNITED_STATES          NEVER_MARRIED           PRIVATE   \n",
       "18    UNITED_STATES               DIVORCED           PRIVATE   \n",
       "19    UNITED_STATES     MARRIED_CIV_SPOUSE           PRIVATE   \n",
       "20           MEXICO  MARRIED_SPOUSE_ABSENT           PRIVATE   \n",
       "21    UNITED_STATES              SEPARATED           PRIVATE   \n",
       "22    UNITED_STATES              SEPARATED           PRIVATE   \n",
       "23    UNITED_STATES              SEPARATED           PRIVATE   \n",
       "24    UNITED_STATES     MARRIED_CIV_SPOUSE           PRIVATE   \n",
       "25    UNITED_STATES          NEVER_MARRIED           PRIVATE   \n",
       "26    UNITED_STATES          NEVER_MARRIED           PRIVATE   \n",
       "27    UNITED_STATES     MARRIED_CIV_SPOUSE         LOCAL_GOV   \n",
       "28      PHILIPPINES     MARRIED_CIV_SPOUSE           PRIVATE   \n",
       "29    UNITED_STATES              SEPARATED         LOCAL_GOV   \n",
       "...             ...                    ...               ...   \n",
       "2770  UNITED_STATES     MARRIED_CIV_SPOUSE           PRIVATE   \n",
       "2771  UNITED_STATES          NEVER_MARRIED       FEDERAL_GOV   \n",
       "2772  UNITED_STATES          NEVER_MARRIED           PRIVATE   \n",
       "2773  UNITED_STATES          NEVER_MARRIED           PRIVATE   \n",
       "2774    PUERTO_RICO                WIDOWED           PRIVATE   \n",
       "2775  UNITED_STATES     MARRIED_CIV_SPOUSE           PRIVATE   \n",
       "2776  UNITED_STATES          NEVER_MARRIED           PRIVATE   \n",
       "2777  UNITED_STATES     MARRIED_CIV_SPOUSE           PRIVATE   \n",
       "2778  UNITED_STATES          NEVER_MARRIED           PRIVATE   \n",
       "2779  UNITED_STATES               DIVORCED           PRIVATE   \n",
       "2780  UNITED_STATES      MARRIED_AF_SPOUSE           PRIVATE   \n",
       "2781  UNITED_STATES          NEVER_MARRIED           PRIVATE   \n",
       "2782  UNITED_STATES     MARRIED_CIV_SPOUSE           PRIVATE   \n",
       "2783  UNITED_STATES     MARRIED_CIV_SPOUSE           PRIVATE   \n",
       "2784  UNITED_STATES               DIVORCED           PRIVATE   \n",
       "2785         MEXICO              SEPARATED           PRIVATE   \n",
       "2786  UNITED_STATES          NEVER_MARRIED           PRIVATE   \n",
       "2787  UNITED_STATES          NEVER_MARRIED           PRIVATE   \n",
       "2788  UNITED_STATES               DIVORCED           PRIVATE   \n",
       "2789  UNITED_STATES          NEVER_MARRIED           PRIVATE   \n",
       "2790  UNITED_STATES               DIVORCED           PRIVATE   \n",
       "2791  UNITED_STATES     MARRIED_CIV_SPOUSE           PRIVATE   \n",
       "2792  UNITED_STATES     MARRIED_CIV_SPOUSE           PRIVATE   \n",
       "2793  UNITED_STATES          NEVER_MARRIED         LOCAL_GOV   \n",
       "2794  UNITED_STATES          NEVER_MARRIED           PRIVATE   \n",
       "2795  UNITED_STATES          NEVER_MARRIED           PRIVATE   \n",
       "2796  UNITED_STATES     MARRIED_CIV_SPOUSE           PRIVATE   \n",
       "2797  UNITED_STATES          NEVER_MARRIED           PRIVATE   \n",
       "2798  UNITED_STATES          NEVER_MARRIED           PRIVATE   \n",
       "2799  UNITED_STATES          NEVER_MARRIED           PRIVATE   \n",
       "\n",
       "                    RACE                CLASS  \n",
       "ID                                             \n",
       "0                  BLACK  REPLACEMENT_THERAPY  \n",
       "1                  WHITE             NEGATIVE  \n",
       "2                  WHITE             NEGATIVE  \n",
       "3                  BLACK             NEGATIVE  \n",
       "4                  WHITE  REPLACEMENT_THERAPY  \n",
       "5                  BLACK             NEGATIVE  \n",
       "6                  WHITE             NEGATIVE  \n",
       "7                  WHITE             NEGATIVE  \n",
       "8                  WHITE             NEGATIVE  \n",
       "9                  WHITE             NEGATIVE  \n",
       "10                 WHITE             NEGATIVE  \n",
       "11                 WHITE             NEGATIVE  \n",
       "12                 BLACK             NEGATIVE  \n",
       "13                 WHITE             NEGATIVE  \n",
       "14                 BLACK             NEGATIVE  \n",
       "15                 WHITE             NEGATIVE  \n",
       "16                 WHITE             NEGATIVE  \n",
       "17                 BLACK             NEGATIVE  \n",
       "18                 WHITE  REPLACEMENT_THERAPY  \n",
       "19                 WHITE             NEGATIVE  \n",
       "20                 WHITE             NEGATIVE  \n",
       "21                 BLACK             NEGATIVE  \n",
       "22                 WHITE             NEGATIVE  \n",
       "23                 BLACK             NEGATIVE  \n",
       "24                 WHITE             NEGATIVE  \n",
       "25                 WHITE             NEGATIVE  \n",
       "26                 WHITE             NEGATIVE  \n",
       "27                 WHITE             NEGATIVE  \n",
       "28    ASIAN_PAC_ISLANDER     UNDERREPLACEMENT  \n",
       "29                 BLACK             NEGATIVE  \n",
       "...                  ...                  ...  \n",
       "2770               BLACK             NEGATIVE  \n",
       "2771               BLACK             NEGATIVE  \n",
       "2772               WHITE             NEGATIVE  \n",
       "2773               WHITE             NEGATIVE  \n",
       "2774               WHITE             NEGATIVE  \n",
       "2775               WHITE             NEGATIVE  \n",
       "2776               WHITE             NEGATIVE  \n",
       "2777               BLACK             NEGATIVE  \n",
       "2778               WHITE             NEGATIVE  \n",
       "2779               BLACK             NEGATIVE  \n",
       "2780               BLACK             NEGATIVE  \n",
       "2781               WHITE             NEGATIVE  \n",
       "2782               WHITE             NEGATIVE  \n",
       "2783               WHITE             NEGATIVE  \n",
       "2784               WHITE             NEGATIVE  \n",
       "2785               WHITE             NEGATIVE  \n",
       "2786               WHITE             NEGATIVE  \n",
       "2787               WHITE             NEGATIVE  \n",
       "2788               WHITE             NEGATIVE  \n",
       "2789               WHITE             NEGATIVE  \n",
       "2790               WHITE             NEGATIVE  \n",
       "2791  AMER_INDIAN_ESKIMO             NEGATIVE  \n",
       "2792               WHITE             NEGATIVE  \n",
       "2793               WHITE             NEGATIVE  \n",
       "2794               WHITE             NEGATIVE  \n",
       "2795               WHITE             NEGATIVE  \n",
       "2796               WHITE             NEGATIVE  \n",
       "2797               BLACK             NEGATIVE  \n",
       "2798               WHITE             NEGATIVE  \n",
       "2799               WHITE             NEGATIVE  \n",
       "\n",
       "[2798 rows x 41 columns]"
      ]
     },
     "execution_count": 267,
     "metadata": {},
     "output_type": "execute_result"
    }
   ],
   "source": [
    "data"
   ]
  },
  {
   "cell_type": "code",
   "execution_count": null,
   "metadata": {},
   "outputs": [],
   "source": []
  },
  {
   "cell_type": "code",
   "execution_count": null,
   "metadata": {},
   "outputs": [],
   "source": []
  }
 ],
 "metadata": {
  "kernelspec": {
   "display_name": "Python 3",
   "language": "python",
   "name": "python3"
  },
  "language_info": {
   "codemirror_mode": {
    "name": "ipython",
    "version": 3
   },
   "file_extension": ".py",
   "mimetype": "text/x-python",
   "name": "python",
   "nbconvert_exporter": "python",
   "pygments_lexer": "ipython3",
   "version": "3.6.4"
  }
 },
 "nbformat": 4,
 "nbformat_minor": 2
}
