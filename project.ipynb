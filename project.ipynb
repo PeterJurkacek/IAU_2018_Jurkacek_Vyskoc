{
 "cells": [
  {
   "cell_type": "markdown",
   "metadata": {},
   "source": [
    "# Prieskumná analýza\n",
    "### Opis dát spolu s ich charakteristikami \n",
    "* (počet záznamov, počet atribútov, ich typy, distribúcie, základné deskriptívne štatistiky a pod.).\n",
    "\n",
    "### Identifikácia problémov v dátach spolu s predpokladaným scenárom riešenia v ďalšej fáze\n",
    "* , t. j., čo budete musieť v rámci predspracovania vyriešiť (aj s naznačením možností, ako tieto problémy plánujete v ďalšej fáze riešiť). Medzi problémy, na ktoré môžete v rámci analýzy naraziť, patria napr.:\n",
    "* nevhodná štruktúra dát (dáta nie sú v tabuľkovej podobe alebo jedna entita je opísaná viacerými riadkami tabuľky)\n",
    "* nejednotné formáty dát\n",
    "* chýbajúce hodnoty\n",
    "* vychýlené (odľahlé) hodnoty\n",
    "* a ďalšie, t. j. v dátach sa môžu nachádzať aj iné, tu nevymenované problémy, ktoré tiež treba identifikovať a vo vašej analýze adresovať.\n",
    "\n",
    "### V odovzdanej správe ( Jupyter Notebooku ) by ste tak mali vedieť zodpovedať na otázky: \n",
    "* Majú dáta vhodný formát pre ďalšie spracovanie? Ak nie, aké problémy sa v nich vyskytujú?\n",
    "* Sú v dátach chýbajúce hodnoty? Ako sú reprezentované? Ako plánujete riešiť problém chýbajúcich hodnôt pre jednotlivé atribúty, resp. pozorovania? (Pre rôzne atribúty môže byť vhodné použiť rôzne stratégie.)\n",
    "* Nadobúdajú niektoré atribúty nezmyselné (nekonzistentné) či inak výrazne odchýlené hodnoty? Ktoré?\n",
    "* Ako plánujete v ďalšej fáze tieto identifikované problémy adresovať / riešiť?"
   ]
  },
  {
   "cell_type": "code",
   "execution_count": 1,
   "metadata": {},
   "outputs": [],
   "source": [
    "import pandas as pd\n",
    "import numpy as np\n",
    "import matplotlib\n",
    "import matplotlib.pyplot as plt\n",
    "import scipy.stats as stats\n",
    "import seaborn\n",
    "from sklearn import linear_model as lm"
   ]
  },
  {
   "cell_type": "markdown",
   "metadata": {},
   "source": [
    "## Opis dát spolu s ich charakteristikami"
   ]
  },
  {
   "cell_type": "code",
   "execution_count": 25,
   "metadata": {},
   "outputs": [],
   "source": [
    "%%bash \n",
    "head data/zadanie4/train.csv # Pozrieme sa na surové dáta, ci vyzerajú ako korektný csv file"
   ]
  },
  {
   "cell_type": "code",
   "execution_count": 26,
   "metadata": {
    "scrolled": true
   },
   "outputs": [
    {
     "data": {
      "text/html": [
       "<div>\n",
       "<style scoped>\n",
       "    .dataframe tbody tr th:only-of-type {\n",
       "        vertical-align: middle;\n",
       "    }\n",
       "\n",
       "    .dataframe tbody tr th {\n",
       "        vertical-align: top;\n",
       "    }\n",
       "\n",
       "    .dataframe thead th {\n",
       "        text-align: right;\n",
       "    }\n",
       "</style>\n",
       "<table border=\"1\" class=\"dataframe\">\n",
       "  <thead>\n",
       "    <tr style=\"text-align: right;\">\n",
       "      <th></th>\n",
       "      <th>Unnamed: 0</th>\n",
       "      <th>age</th>\n",
       "      <th>sex</th>\n",
       "      <th>on thyroxine</th>\n",
       "      <th>query on thyroxine</th>\n",
       "      <th>on antithyroid medication</th>\n",
       "      <th>sick</th>\n",
       "      <th>pregnant</th>\n",
       "      <th>thyroid surgery</th>\n",
       "      <th>I131 treatment</th>\n",
       "      <th>...</th>\n",
       "      <th>class</th>\n",
       "      <th>fnlwgt</th>\n",
       "      <th>education</th>\n",
       "      <th>education-num</th>\n",
       "      <th>relationship</th>\n",
       "      <th>capital-gain</th>\n",
       "      <th>capital-loss</th>\n",
       "      <th>hours-per-week</th>\n",
       "      <th>date_of_birth</th>\n",
       "      <th>personal_info</th>\n",
       "    </tr>\n",
       "  </thead>\n",
       "  <tbody>\n",
       "    <tr>\n",
       "      <th>0</th>\n",
       "      <td>0</td>\n",
       "      <td>72.0</td>\n",
       "      <td>F</td>\n",
       "      <td>t</td>\n",
       "      <td>f</td>\n",
       "      <td>f</td>\n",
       "      <td>f</td>\n",
       "      <td>f</td>\n",
       "      <td>f</td>\n",
       "      <td>f</td>\n",
       "      <td>...</td>\n",
       "      <td>replacement therapy.|3560</td>\n",
       "      <td>140581</td>\n",
       "      <td>Some-college</td>\n",
       "      <td>1000</td>\n",
       "      <td>Unmarried</td>\n",
       "      <td>0.0</td>\n",
       "      <td>0</td>\n",
       "      <td>40</td>\n",
       "      <td>1946-02-03</td>\n",
       "      <td>Other-service|United-States\\nWidowed -- privat...</td>\n",
       "    </tr>\n",
       "    <tr>\n",
       "      <th>1</th>\n",
       "      <td>1</td>\n",
       "      <td>52.0</td>\n",
       "      <td>F</td>\n",
       "      <td>f</td>\n",
       "      <td>f</td>\n",
       "      <td>f</td>\n",
       "      <td>f</td>\n",
       "      <td>f</td>\n",
       "      <td>f</td>\n",
       "      <td>f</td>\n",
       "      <td>...</td>\n",
       "      <td>negative.|311</td>\n",
       "      <td>180916</td>\n",
       "      <td>Some-college</td>\n",
       "      <td>10</td>\n",
       "      <td>Unmarried</td>\n",
       "      <td>0.0</td>\n",
       "      <td>0</td>\n",
       "      <td>38</td>\n",
       "      <td>1965-08-27</td>\n",
       "      <td>Adm-clerical|United-States\\nSeparated -- Local...</td>\n",
       "    </tr>\n",
       "    <tr>\n",
       "      <th>2</th>\n",
       "      <td>2</td>\n",
       "      <td>62.0</td>\n",
       "      <td>M</td>\n",
       "      <td>F</td>\n",
       "      <td>f</td>\n",
       "      <td>f</td>\n",
       "      <td>f</td>\n",
       "      <td>f</td>\n",
       "      <td>f</td>\n",
       "      <td>f</td>\n",
       "      <td>...</td>\n",
       "      <td>negative.|3705</td>\n",
       "      <td>235853</td>\n",
       "      <td>HS-grad</td>\n",
       "      <td>-900</td>\n",
       "      <td>Husband</td>\n",
       "      <td>0.0</td>\n",
       "      <td>0</td>\n",
       "      <td>45</td>\n",
       "      <td>1955-04-15</td>\n",
       "      <td>Sales|United-States\\nMarried-civ-spouse -- pri...</td>\n",
       "    </tr>\n",
       "    <tr>\n",
       "      <th>3</th>\n",
       "      <td>3</td>\n",
       "      <td>23.0</td>\n",
       "      <td>F</td>\n",
       "      <td>f</td>\n",
       "      <td>f</td>\n",
       "      <td>f</td>\n",
       "      <td>f</td>\n",
       "      <td>f</td>\n",
       "      <td>f</td>\n",
       "      <td>f</td>\n",
       "      <td>...</td>\n",
       "      <td>negative.|2668</td>\n",
       "      <td>121889</td>\n",
       "      <td>Some-college</td>\n",
       "      <td>10</td>\n",
       "      <td>Own-child</td>\n",
       "      <td>0.0</td>\n",
       "      <td>0</td>\n",
       "      <td>20</td>\n",
       "      <td>1994-03-26</td>\n",
       "      <td>Sales|United-States\\nNever-married -- Private|...</td>\n",
       "    </tr>\n",
       "    <tr>\n",
       "      <th>4</th>\n",
       "      <td>4</td>\n",
       "      <td>63.0</td>\n",
       "      <td>F</td>\n",
       "      <td>t</td>\n",
       "      <td>f</td>\n",
       "      <td>f</td>\n",
       "      <td>f</td>\n",
       "      <td>f</td>\n",
       "      <td>f</td>\n",
       "      <td>f</td>\n",
       "      <td>...</td>\n",
       "      <td>replacement therapy.|1668</td>\n",
       "      <td>222490</td>\n",
       "      <td>Assoc-voc</td>\n",
       "      <td>11</td>\n",
       "      <td>Own_child</td>\n",
       "      <td>0.0</td>\n",
       "      <td>0</td>\n",
       "      <td>40</td>\n",
       "      <td>1955-01-21</td>\n",
       "      <td>Adm-clerical|United-States\\nNever-married -- P...</td>\n",
       "    </tr>\n",
       "  </tbody>\n",
       "</table>\n",
       "<p>5 rows × 40 columns</p>\n",
       "</div>"
      ],
      "text/plain": [
       "   Unnamed: 0   age sex on thyroxine query on thyroxine  \\\n",
       "0           0  72.0   F            t                  f   \n",
       "1           1  52.0   F            f                  f   \n",
       "2           2  62.0   M            F                  f   \n",
       "3           3  23.0   F            f                  f   \n",
       "4           4  63.0   F            t                  f   \n",
       "\n",
       "  on antithyroid medication sick pregnant thyroid surgery I131 treatment  \\\n",
       "0                         f    f        f               f              f   \n",
       "1                         f    f        f               f              f   \n",
       "2                         f    f        f               f              f   \n",
       "3                         f    f        f               f              f   \n",
       "4                         f    f        f               f              f   \n",
       "\n",
       "                         ...                          \\\n",
       "0                        ...                           \n",
       "1                        ...                           \n",
       "2                        ...                           \n",
       "3                        ...                           \n",
       "4                        ...                           \n",
       "\n",
       "                       class  fnlwgt      education education-num  \\\n",
       "0  replacement therapy.|3560  140581   Some-college          1000   \n",
       "1              negative.|311  180916   Some-college            10   \n",
       "2             negative.|3705  235853        HS-grad          -900   \n",
       "3             negative.|2668  121889   Some-college            10   \n",
       "4  replacement therapy.|1668  222490      Assoc-voc            11   \n",
       "\n",
       "  relationship capital-gain capital-loss hours-per-week  date_of_birth  \\\n",
       "0    Unmarried          0.0            0             40     1946-02-03   \n",
       "1    Unmarried          0.0            0             38     1965-08-27   \n",
       "2      Husband          0.0            0             45     1955-04-15   \n",
       "3    Own-child          0.0            0             20     1994-03-26   \n",
       "4    Own_child          0.0            0             40     1955-01-21   \n",
       "\n",
       "                                       personal_info  \n",
       "0  Other-service|United-States\\nWidowed -- privat...  \n",
       "1  Adm-clerical|United-States\\nSeparated -- Local...  \n",
       "2  Sales|United-States\\nMarried-civ-spouse -- pri...  \n",
       "3  Sales|United-States\\nNever-married -- Private|...  \n",
       "4  Adm-clerical|United-States\\nNever-married -- P...  \n",
       "\n",
       "[5 rows x 40 columns]"
      ]
     },
     "execution_count": 26,
     "metadata": {},
     "output_type": "execute_result"
    }
   ],
   "source": [
    "data = pd.read_csv(\"data/zadanie4/train.csv\")\n",
    "data.head()"
   ]
  },
  {
   "cell_type": "markdown",
   "metadata": {},
   "source": [
    "## Vysvetlenie stĺpcov\n",
    "id    [0, 1, 2, 3, 4, 5, 6, 7, 8, 9, 10, 11, 12, 13,...\n",
    "\n",
    "age    [72.0, 52.0, 62.0, 23.0, 63.0, 56.0, 84.0, 68....\n",
    "\n",
    "sex    [F, M, ?]\n",
    "\n",
    "**Liečba Hypotyreozi** (znížená prdukcia hormónu štítnej žlazy)\n",
    "on thyroxine    [t, f, F, FALSE, T, TRUE] \n",
    "\t• (Hypothyroidism means low thyroid hormone and you are taking Thyroxine (Levothyroxine) which is a thyroid hormone)\n",
    "query on thyroxine    [f, t] - Vypytoval sa na liek na hypotyreozu, takze asi ma nejaké \n",
    "problémy s nou spojené\n",
    "\n",
    "sick    [f, t] - je chory\n",
    "\n",
    "pregnant    [f, t] - tehotná\n",
    "\n",
    "**Liečba Hypertyreozi** (zvýšená produkcia hormónu štítnej žlazy) aj Goiter môže byť takto liečený\n",
    "\n",
    "thyroid surgery    [f, t]  - chirurgický zákrok\n",
    "\n",
    "I131 treatment    [f, t] - radioaktívna liečba\n",
    "\n",
    "on antithyroid medication    [f, t] - medications—are a common treatment for hyperthyroidism, \n",
    "\n",
    "query hypothyroid    [f, t] - vypytoval sa na zníženú funkciu hormónu štítnej žlazy\n",
    "\n",
    "query hyperthyroid    [f, t] - vypytoval sa na zvýšenú funkciu hormónu štítnej žlazy\n",
    "\n",
    "lithium    [f, t] - liek používajúci sa na mentálne problémy alebo depresiu (depresia je \n",
    "\n",
    "jedným s príznakov hypotyroezi) \n",
    "\n",
    "goitre    [f, t] - ochorenie kde hormón štítnej zlazy opuchne\n",
    "\n",
    "tumor    [f, t] - nádor\n",
    "\n",
    "hypopituitary    [f, t] - https://www.webmd.com/a-to-z-guides/hypopituitary#1. Ochorenie \n",
    "spojene s mozgom. Môže spôsobiť zníženú produkciu hormónu štítnej žlazy\n",
    "\n",
    "psych    [f, t]\n",
    "\n",
    "TSH measured    [t, f] - https://www.webmd.com/a-to-z-guides/what-is-tsh-test#1 test na zistenie funkčnosti hormonu štítnej žlazy\n",
    "\n",
    "TSH    [2.9, 0.2, 2.1, 0.02, 0.69, 3.0, 1.1, 26.0, 0.... - vysledky testu (tím ktorím nebol robený budu mať asi Nan)\n",
    "\n",
    "T3 measured    [t, f] - https://www.healthline.com/health/t3 By measuring the T3 in your blood, your doctor may be able to determine if you have a thyroid problem.\n",
    "\n",
    "T3    [1.2, nan, 1.7, 3.4, 1.1, 2.2, 0.3, 1.9, 1.6, ... - vysledky testu(tím ktorím nebol robený budu mať asi Nan)\n",
    "\n",
    "TT4 measured    [t, f] - About 95% of thyroid hormone is bound to plasma proteins - thyroid binding globulin (TBG), constituting 'total thyroid hormone'. The remainder, approximately 5%, is 'free' in the circulation and therefore metabolically active. It's worth noting that T4 is a pro-hormone, which is converted into T3 by 5'-iodinase. T3 has a higher metabolic activity than T4, but has a shorter half-life. Taking this into account, I would say free T4 (FT4) is a good assessment of thyroid hormone levels. It would also be worth testing FT3, given that there can be issues in the conversion of T4 to T3. It may also be worth testing for thyroid stimulating hormone (TSH), which if elevated, along with a depressed FT4 result, is indicative of hypothyroidism. Here's some more \n",
    "\n",
    "TT4    [174.0, 105.0, 96.0, 91.0, 162.0, 122.0, 115.0...\n",
    "\n",
    "T4U measured    [f, t]\n",
    "\n",
    "T4U    [nan, 0.97, 1.1, 0.99, 1.13, 0.95, 0.8, 0.66, ...\n",
    "\n",
    "FTI measured    [f, t]\n",
    "dtype: object\n",
    "FTI    [?, 108, 83, 163, 121, 7.6, 174, 165, 77, 107,...\n",
    "dtype: object\n",
    "TBG measured    [f]\n",
    "dtype: object\n",
    "\n",
    "TBG    [?]\n",
    "dtype: object\n",
    "\n",
    "referral source    [other, SVI, STMW, SVHC, SVHD]\n",
    "dtype: object\n",
    "\n",
    "class    [replacement therapy.|3560, negative.|311, neg...\n",
    "dtype: object\n",
    "\n",
    "personal_info - stĺpec nám hovori o osobných údajoch jedného pacienta. Tieto údaje bude treba rozdeliť do dalších stĺpcov. Podľa názornej hodnoty predpokladáme vznik nasledovných 4 stlpcov\n",
    "\n",
    "Sales|United-States Married-civ-spouse -- Self-emp-inc|White\n",
    "Other-service|United-States Never-married -- Private|Black\n",
    "\n",
    "Práca|Štát Rodinný stav z minulosti-- Pracovný sektor|Rasa\n",
    "\n",
    "date_of_birth  - tento stĺpec hovorí o dátume narodenia. Je potreba zjednotiť formát dátumov\n",
    "\n",
    "hours-per-week  - myslím si, že stĺpec hovorí o pracovných hodinách. Môžeme predpokladať, že ľudia, ktorý pracujú viac hodín ako iný sú náchilnejší na choroby. Druhá možnosť mi napadá, že to môže byť počet hodín koľko sa treba venovať pacientovi.\n",
    "\n",
    "capital-loss - strata kapitálu napríklad znamená keď investujeme do bitcoinov pri hodnote 9000 eur/ks ale cena bitcoinu začne prudko klesať a na sume 8000eur/ks spanikárime a predáme bitcoiny za nižšiu cenu za akú sme ich nakúpili. Toto vedie k stresu a to môže mať vplyv na ochorenie.\n",
    "\n",
    "Capital-gain - je opakom capital-loss\n",
    "\n",
    "Relationship - aktuálny stav\n",
    "\n",
    "Education-num - https://en.wikipedia.org/wiki/Educational_stage\n",
    "\n",
    "Education - Some-college,  HS-grad,  Assoc-voc,  Doctora...\n",
    "\n",
    "Final sampling weight - treba zistit!!!\n"
   ]
  },
  {
   "cell_type": "markdown",
   "metadata": {},
   "source": [
    "## Počet záznamov a počet atribútov"
   ]
  },
  {
   "cell_type": "code",
   "execution_count": 4,
   "metadata": {},
   "outputs": [
    {
     "name": "stdout",
     "output_type": "stream",
     "text": [
      "Počet záznamov (riadkov) : 2800\n",
      "Počet atribútov (stĺpcov): 40\n"
     ]
    }
   ],
   "source": [
    "#data.info()\n",
    "print(f\"Počet záznamov (riadkov) : {data.shape[0]}\")\n",
    "print(f\"Počet atribútov (stĺpcov): {data.shape[1]}\")"
   ]
  },
  {
   "cell_type": "markdown",
   "metadata": {},
   "source": [
    "## Názvy atribútov (stĺpcov) a ich dátové typy"
   ]
  },
  {
   "cell_type": "code",
   "execution_count": 5,
   "metadata": {},
   "outputs": [],
   "source": [
    "#for name in data.columns:    print(name)\n",
    "_ = data.dtypes"
   ]
  },
  {
   "cell_type": "markdown",
   "metadata": {},
   "source": [
    "## Hodnoty atribútov pre prvý záznam"
   ]
  },
  {
   "cell_type": "code",
   "execution_count": 6,
   "metadata": {},
   "outputs": [],
   "source": [
    "#loc[a,b] - filtrujeme zaznamy (riadky) z pola a podla atribútov (stlpcov) z pola b\n",
    "_ = data.loc[:0, :].stack().reset_index(name='0')"
   ]
  },
  {
   "cell_type": "markdown",
   "metadata": {},
   "source": [
    "## Deskriptívne štatistiky\n",
    "[https://pandas.pydata.org/pandas-docs/stable/generated/pandas.DataFrame.describe.html#pandas.DataFrame.describe]\n",
    "DataFrame.describe(percentiles=None, include=None, exclude=None)"
   ]
  },
  {
   "cell_type": "code",
   "execution_count": 7,
   "metadata": {
    "scrolled": true
   },
   "outputs": [],
   "source": [
    "_ = data.describe() #vyluci NaN hodnoty\n",
    "#data.describe(include='all') # zahrnie aj NaN values"
   ]
  },
  {
   "cell_type": "markdown",
   "metadata": {},
   "source": [
    "## Počet riadkov a stĺpcov, ktoré majú aspoň jednu prázdnu hodnotu"
   ]
  },
  {
   "cell_type": "markdown",
   "metadata": {},
   "source": [
    "## Počet riadkov s prázdnymi hodnotami"
   ]
  },
  {
   "cell_type": "code",
   "execution_count": 8,
   "metadata": {},
   "outputs": [
    {
     "data": {
      "text/plain": [
       "1100"
      ]
     },
     "execution_count": 8,
     "metadata": {},
     "output_type": "execute_result"
    }
   ],
   "source": [
    "# data.shape[0] vráti celkový počet riadkov\n",
    "# data.dropna() odstráni všetky riadky s prázdnymi hodnotami\n",
    "# data.dropna().shape[0] - takto sme dostali počet riadkov, ktoré nemajú prázdne hodnoty\n",
    "data.shape[0] - data.dropna().shape[0]"
   ]
  },
  {
   "cell_type": "markdown",
   "metadata": {},
   "source": [
    "## Počet stĺpcov s prázdnymi hodnotami"
   ]
  },
  {
   "cell_type": "code",
   "execution_count": 9,
   "metadata": {},
   "outputs": [
    {
     "data": {
      "text/plain": [
       "7"
      ]
     },
     "execution_count": 9,
     "metadata": {},
     "output_type": "execute_result"
    }
   ],
   "source": [
    "data.shape[1] - data.dropna(axis=1).shape[1]"
   ]
  },
  {
   "cell_type": "markdown",
   "metadata": {},
   "source": [
    "# Identifikácia problémov v dátach spolu s predpokladaným scenárom riešenia v ďalšej fáze"
   ]
  },
  {
   "cell_type": "markdown",
   "metadata": {},
   "source": [
    "## Nejednotné formáty dát"
   ]
  },
  {
   "cell_type": "markdown",
   "metadata": {},
   "source": [
    "Dáta v stĺpcoch od \"on thyroxine\" do  ... sú nekonzistentné - rôzne vyjadrené True a False hodnoty. Tieto hodnoty musíme upraviť do tvaru True/False."
   ]
  },
  {
   "cell_type": "code",
   "execution_count": 28,
   "metadata": {},
   "outputs": [],
   "source": [
    "#Vypis unikátnych záznamov pre každý atribút \n",
    "dict_of_unique_values = [{i : list(data[i].unique())} for i in data.columns]\n",
    "\n",
    "#for i in dict_of_unique_values: print(pd.Series(i))\n"
   ]
  },
  {
   "cell_type": "markdown",
   "metadata": {},
   "source": [
    "Dáta v stĺpci education-num majú veľmi odľahlé krajné hodnoty"
   ]
  },
  {
   "cell_type": "code",
   "execution_count": 30,
   "metadata": {},
   "outputs": [],
   "source": [
    "#sorted(data[\"education-num\"].unique())\n",
    "#data[\"education-num\"].plot(kind=\"line\")"
   ]
  },
  {
   "cell_type": "markdown",
   "metadata": {},
   "source": [
    "Stĺpec \"TBG\" neobsahuje žiadne zmysluplné hodnoty. Tento stĺpec tým pádom môžeme odstrániť."
   ]
  },
  {
   "cell_type": "code",
   "execution_count": 12,
   "metadata": {},
   "outputs": [
    {
     "data": {
      "text/plain": [
       "array(['?'], dtype=object)"
      ]
     },
     "execution_count": 12,
     "metadata": {},
     "output_type": "execute_result"
    }
   ],
   "source": [
    "data[\"TBG\"].unique()"
   ]
  },
  {
   "cell_type": "markdown",
   "metadata": {},
   "source": [
    "Atribút **TBG measured** obsahuje len jednu hodnotu a teda ho mozeme odstranit"
   ]
  },
  {
   "cell_type": "code",
   "execution_count": 13,
   "metadata": {},
   "outputs": [
    {
     "data": {
      "text/plain": [
       "array(['f'], dtype=object)"
      ]
     },
     "execution_count": 13,
     "metadata": {},
     "output_type": "execute_result"
    }
   ],
   "source": [
    "data[\"TBG measured\"].unique()"
   ]
  },
  {
   "cell_type": "markdown",
   "metadata": {},
   "source": [
    "Nedefinované pohlavie v niektorých riadkoch."
   ]
  },
  {
   "cell_type": "code",
   "execution_count": 31,
   "metadata": {},
   "outputs": [],
   "source": [
    "_ = data.loc[data['sex'] == \"?\"]"
   ]
  },
  {
   "cell_type": "markdown",
   "metadata": {},
   "source": [
    "Kedže počet jedinečných riadkov v stĺpci 'Unnamed: 0' sa rovná počtu všetkých riadkov, dedukujeme, že sa jedná o identifikačný stĺpec a preto ho premenujeme na 'id'."
   ]
  },
  {
   "cell_type": "code",
   "execution_count": 15,
   "metadata": {
    "scrolled": true
   },
   "outputs": [
    {
     "data": {
      "text/plain": [
       "2800"
      ]
     },
     "execution_count": 15,
     "metadata": {},
     "output_type": "execute_result"
    }
   ],
   "source": [
    "data['Unnamed: 0'].unique().size"
   ]
  },
  {
   "cell_type": "code",
   "execution_count": 16,
   "metadata": {},
   "outputs": [],
   "source": [
    "data = data.rename(columns={'Unnamed: 0': 'id'})"
   ]
  },
  {
   "cell_type": "markdown",
   "metadata": {},
   "source": [
    "Veľmi veľká hraničná hodnota v stĺpci \"age\""
   ]
  },
  {
   "cell_type": "code",
   "execution_count": 17,
   "metadata": {},
   "outputs": [
    {
     "name": "stdout",
     "output_type": "stream",
     "text": [
      "Vizualizácia extrémne odľahlých hodnôt v atribúte \"age\". Maximálna hodnota je 455.0. Riešenie tohto problému by bolo túto hodnotu prepíšeme na najčastejšie sa vyskytujúcu hodnotu v tomto stĺpci.\n"
     ]
    },
    {
     "data": {
      "text/plain": [
       "<matplotlib.axes._subplots.AxesSubplot at 0x1a103d2978>"
      ]
     },
     "execution_count": 17,
     "metadata": {},
     "output_type": "execute_result"
    },
    {
     "data": {
      "image/png": "[encoded data removed]",
      "text/plain": [
       "<matplotlib.figure.Figure at 0x1a103d2668>"
      ]
     },
     "metadata": {},
     "output_type": "display_data"
    }
   ],
   "source": [
    "print(f\"Vizualizácia extrémne odľahlých hodnôt v atribúte \\\"age\\\". Maximálna hodnota je {data['age'].max()}. Riešenie tohto problému by bolo túto hodnotu prepíšeme na najčastejšie sa vyskytujúcu hodnotu v tomto stĺpci.\")\n",
    "data[\"age\"].plot(kind=\"line\")\n"
   ]
  },
  {
   "cell_type": "markdown",
   "metadata": {},
   "source": [
    "Nekonzistentné hodnoty v stĺpci \"date_of_birth\" - niektoré riadky majú len dátum, niektoré majú aj údaj o hodinách, niektoré majú NaN a pod... Stĺpce, ktoré obsahujú časový údaj na hodiny:minuty:sekundy musíme upraviť tak, aby tento údaj neobsahovali."
   ]
  },
  {
   "cell_type": "code",
   "execution_count": 32,
   "metadata": {},
   "outputs": [
    {
     "data": {
      "text/plain": [
       "0    1946-02-03\n",
       "1    1965-08-27\n",
       "2    1955-04-15\n",
       "3    1994-03-26\n",
       "4    1955-01-21\n",
       "Name: date_of_birth, dtype: object"
      ]
     },
     "execution_count": 32,
     "metadata": {},
     "output_type": "execute_result"
    }
   ],
   "source": [
    "data[\"date_of_birth\"].head()"
   ]
  },
  {
   "cell_type": "code",
   "execution_count": null,
   "metadata": {},
   "outputs": [],
   "source": []
  },
  {
   "cell_type": "markdown",
   "metadata": {},
   "source": [
    "Hodnoty NaN v stĺpci \"capital-gain\". Tento problém by sme mohli riešiť, ak by sme hodnoty NaN nahradili pomocou modusu."
   ]
  },
  {
   "cell_type": "code",
   "execution_count": 19,
   "metadata": {},
   "outputs": [
    {
     "data": {
      "text/plain": [
       "array([    0.,    nan,  7688.,  7896., 99999.,  1173., 15024., 20051.,\n",
       "        2228.,  7298.,  3325.,  2907., 15831.,  3942.,  4101.,  5178.,\n",
       "        4650.,  4787.,  8614.,  1506.,  2829., 13550.,  5721.,   594.,\n",
       "        3411.,  2977.,  2463., 14084.,  7430., 22040.,  2993.,  4064.,\n",
       "        2346., 25236.,  6849.,  2174.,  3674.,  3137.,  1831.,  4386.,\n",
       "        5013.,  2105.,  4687.,  2354.,  1111.,  6418.,  3103.,  3418.,\n",
       "        4416.,  6723.,  2597.,  3464., 10520.,  2414.,  5455.,  3781.,\n",
       "        6497.,  3908., 27828.,  1797.,  3273.,  7443.,  2176., 14344.,\n",
       "        2036.,  2009.,  1055.,  2964., 15020.,  2290.,  1086.,  2202.])"
      ]
     },
     "execution_count": 19,
     "metadata": {},
     "output_type": "execute_result"
    }
   ],
   "source": [
    "data[\"capital-gain\"].unique()"
   ]
  },
  {
   "cell_type": "markdown",
   "metadata": {},
   "source": [
    "Stĺpec s názvom \"personal_info\" by bolo dobré rozdeliť do viacero stĺpcov, pretože z tohto formátu nevyčítame nič. Jednotlivé vytvorené stĺpce budú mať názvy Profession, State, Family Status, Profession section, Skin color. Potom bude treba vyriešiť aj problémy s chýbajúcimi dátami v týchto vytvorených stĺpcoch. "
   ]
  },
  {
   "cell_type": "code",
   "execution_count": 35,
   "metadata": {},
   "outputs": [
    {
     "data": {
      "text/plain": [
       "0    Other-service|United-States\\nWidowed -- privat...\n",
       "1    Adm-clerical|United-States\\nSeparated -- Local...\n",
       "2    Sales|United-States\\nMarried-civ-spouse -- pri...\n",
       "3    Sales|United-States\\nNever-married -- Private|...\n",
       "4    Adm-clerical|United-States\\nNever-married -- P...\n",
       "Name: personal_info, dtype: object"
      ]
     },
     "execution_count": 35,
     "metadata": {},
     "output_type": "execute_result"
    }
   ],
   "source": [
    "data[\"personal_info\"].head()"
   ]
  },
  {
   "cell_type": "markdown",
   "metadata": {},
   "source": [
    "Pri počítaní jednotlivých hodnôt v stĺpci \"relationship\" sme narazili na problém s nekonzistentnými dátami. Musíme ich upraviť na takú podobu, aby jednotlivé slová neboli oddelené pomlčkoiu, ale podtržníkom, t.j. máme dve hodnoty - other-relative a other_relative, ktoré očividne vyjadrujú to isté, ale sú ináč zapísané."
   ]
  },
  {
   "cell_type": "code",
   "execution_count": 21,
   "metadata": {},
   "outputs": [
    {
     "data": {
      "text/plain": [
       "relationship\n",
       " Husband           550\n",
       " Not-in-family     809\n",
       " Not_in_family      95\n",
       " Other-relative     80\n",
       " Other_relative      9\n",
       " Own-child         441\n",
       " Own_child          53\n",
       " Unmarried         510\n",
       " Wife              253\n",
       "dtype: int64"
      ]
     },
     "execution_count": 21,
     "metadata": {},
     "output_type": "execute_result"
    }
   ],
   "source": [
    "data.groupby(\"relationship\").size()"
   ]
  },
  {
   "cell_type": "markdown",
   "metadata": {},
   "source": [
    "Tu vidíme vizualizáciu jednotlivých hodnôt v stĺpci \"relationship\""
   ]
  },
  {
   "cell_type": "code",
   "execution_count": 22,
   "metadata": {},
   "outputs": [
    {
     "data": {
      "text/plain": [
       "<matplotlib.axes._subplots.AxesSubplot at 0x1a103719e8>"
      ]
     },
     "execution_count": 22,
     "metadata": {},
     "output_type": "execute_result"
    },
    {
     "data": {
      "image/png": "[encoded data removed]",
      "text/plain": [
       "<matplotlib.figure.Figure at 0x1a103630f0>"
      ]
     },
     "metadata": {},
     "output_type": "display_data"
    }
   ],
   "source": [
    "data.groupby(\"relationship\").size().plot(kind=\"bar\")"
   ]
  },
  {
   "cell_type": "markdown",
   "metadata": {},
   "source": [
    "Tu vidíme počty jednotlivých hodnôt v stĺpci \"education\". V tomto stĺpci nenájdeme žiadne hodnoty, ktoré by vyzerali že vyjadrujú to isté ale sú zapísané ináč. Podobný výsledok chceme dostať aj pri stĺpci \"relationship\"."
   ]
  },
  {
   "cell_type": "code",
   "execution_count": 23,
   "metadata": {},
   "outputs": [
    {
     "data": {
      "text/plain": [
       "education\n",
       " 10th             79\n",
       " 11th             97\n",
       " 12th             54\n",
       " 1st-4th          17\n",
       " 5th-6th          24\n",
       " 7th-8th          45\n",
       " 9th              41\n",
       " Assoc-acdm      103\n",
       " Assoc-voc       130\n",
       " Bachelors       437\n",
       " Doctorate        25\n",
       " HS-grad         894\n",
       " Masters         138\n",
       " Preschool         4\n",
       " Prof-school      42\n",
       " Some-college    670\n",
       "dtype: int64"
      ]
     },
     "execution_count": 23,
     "metadata": {},
     "output_type": "execute_result"
    }
   ],
   "source": [
    "data.groupby(\"education\").size()"
   ]
  },
  {
   "cell_type": "code",
   "execution_count": 24,
   "metadata": {},
   "outputs": [
    {
     "data": {
      "text/plain": [
       "<matplotlib.axes._subplots.AxesSubplot at 0x1099ed438>"
      ]
     },
     "execution_count": 24,
     "metadata": {},
     "output_type": "execute_result"
    },
    {
     "data": {
      "image/png": "[encoded data removed]",
      "text/plain": [
       "<matplotlib.figure.Figure at 0x1a194eb400>"
      ]
     },
     "metadata": {},
     "output_type": "display_data"
    }
   ],
   "source": [
    "data.groupby(\"education\").size().plot(kind=\"bar\")"
   ]
  },
  {
   "cell_type": "code",
   "execution_count": null,
   "metadata": {},
   "outputs": [],
   "source": []
  },
  {
   "cell_type": "code",
   "execution_count": null,
   "metadata": {},
   "outputs": [],
   "source": []
  }
 ],
 "metadata": {
  "kernelspec": {
   "display_name": "Python 3",
   "language": "python",
   "name": "python3"
  },
  "language_info": {
   "codemirror_mode": {
    "name": "ipython",
    "version": 3
   },
   "file_extension": ".py",
   "mimetype": "text/x-python",
   "name": "python",
   "nbconvert_exporter": "python",
   "pygments_lexer": "ipython3",
   "version": "3.6.4"
  }
 },
 "nbformat": 4,
 "nbformat_minor": 2
}
